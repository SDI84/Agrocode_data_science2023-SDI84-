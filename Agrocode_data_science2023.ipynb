{
 "cells": [
  {
   "cell_type": "markdown",
   "id": "8b25be6e",
   "metadata": {},
   "source": [
    "<center>\n",
    "<h1>AgroCode Data Sience Cup 2023.\n",
    "</h1>    \n",
    "</center>  "
   ]
  },
  {
   "cell_type": "markdown",
   "id": "095f922b",
   "metadata": {},
   "source": [
    "[AgroCode Data Science Cup 2023](https://codenrock.com/contests/agrocode-data-science2023?#/info) — четвертый Data Science-чемпионат для студентов, который проводит АО «Россельхозбанк» и сообщество AgroCode Hub."
   ]
  },
  {
   "cell_type": "markdown",
   "id": "eeed2118",
   "metadata": {},
   "source": [
    "**Сергеев Дмитрий**   [Telegram](https://t.me/SDI84) [Mail](mailto:dmsergeev84@mail.ru)"
   ]
  },
  {
   "cell_type": "markdown",
   "id": "8bbeec49",
   "metadata": {},
   "source": [
    "<a name=\"Содержание\"></a>\n",
    "#### Содержание:\n",
    "- [1. Цель проекта.](#Цель_проекта) \n",
    "- [2.Первичный анализ и обработка данных.](#Первичный_анализ_данных)\n",
    "  - [2.1 Первичный анализ данных](#Первичный)\n",
    "- [3. Выбор и исследование моделей.](#Исследование_моделей)  \n",
    "  - [3.1. Вариант 1.](#Вариант_1)  \n",
    "  - [3.2. Вариант 2.](#Вариант_2)  \n",
    "  - [3.3. Модель предсказания - медианная(только тестовые данные).](#медианная)\n",
    "\n",
    "\n",
    "\n"
   ]
  },
  {
   "cell_type": "markdown",
   "id": "00a467f3",
   "metadata": {},
   "source": [
    "<a name=\"Цель_проекта\"></a>\n",
    "## 1.Цель проекта.\n",
    "Создание модели, способной предсказывать продуктивность каждой коровы в последующих месяцах, на основе данных о контрольных дойках и родословных животных.\n",
    "\n",
    "#### Описание задачи\n",
    "В процессах принятий решений на молочных фермах одним из важных показателей является прогноз продуктивности животных, который необходим для отбора животных для последующего осеменения или выбраковки.\n",
    "\n",
    "Если модель сможет точно предсказывать продуктивность животных (удой молока), это поможет увеличить производительность фермы и уменьшить затраты на содержание животных.\n",
    " \n",
    "В качестве измерения удоя животных часто выступают контрольные дойки – замер суточного надоя каждого животного раз в месяц в течение всей лактации.\n",
    "\n",
    "Задача состоит в том, чтобы на основе данных о контрольных дойках коров и родословных создать модель, которая сможет предсказывать продуктивность каждого животного в последующих месяцах.\n",
    "\n",
    "#### Обучающая выборка\n",
    "• Данные о первых 10 контрольных дойках для каждого животного,\n",
    "• родословный этих животных,\n",
    "• данные о лактациях\n",
    "    – номер лактации,\n",
    "    – дата начала лактации,\n",
    "    – ферма,\n",
    "    – хозяйство,\n",
    "    – дата рождения животного.\n",
    "\n",
    "\n",
    "Тестовая выборка\n",
    "• Пул животных с первыми двумя контрольными дойками за лактацию.\n",
    "Необходимо дать прогноз на следующие 8 контрольных доек.\n",
    "В тестовую выборку попадают как животные, которые представлены в обучающей выборке, но за последующие лактации, так и животные, которые вовсе не представлены в обучающей выборке.\n",
    "\n",
    "Метрика качества\n",
    "Метрикой качества является RMSE между данными к контрольным дойкам с 3-ей по 10-ю (для тех контрольных доек, где данные известны) и их прогнозом.\n",
    "\n",
    "\n",
    "#### Описание данных\n",
    "Таблица 1. Родословная - predige.csv, столбцы:  \n",
    "- animal_id ID животного  \n",
    "- mother_id\tID матери  \n",
    "- father_id\tID отца  \n",
    "\n",
    "Таблица 2. Контрольные дойки - train.csv, столбцы:  \n",
    "- animal_id\tID животного\t \n",
    "- lactation\tНомер лактации\t \n",
    "- calving_date\tДата начала лактации\t \n",
    "- farm\tФерма\t \n",
    "- farmgroup\tХозяйство (группа из ферм)\t \n",
    "- birth_date\tДата рождения животного\t \n",
    "- milk_yield_1\tКонтрольная дойка (удой за 1 день) в 1 месяце после начала лактации\t \n",
    "- milk_yield_2\tКонтрольная дойка (удой за 1 день) в 2 месяце после начала лактации\t \n",
    "- milk_yield_3\tКонтрольная дойка (удой за 1 день) в 3 месяце после начала лактации\t \n",
    "- milk_yield_4\tКонтрольная дойка (удой за 1 день) в 4 месяце после начала лактации\t \n",
    "- milk_yield_5\tКонтрольная дойка (удой за 1 день) в 5 месяце после начала лактации\t\n",
    "- milk_yield_6\tКонтрольная дойка (удой за 1 день) в 6 месяце после начала лактации\t\n",
    "- milk_yield_7\tКонтрольная дойка (удой за 1 день) в 7 месяце после начала лактации\t\n",
    "- milk_yield_8\tКонтрольная дойка (удой за 1 день) в 8 месяце после начала лактации\t\n",
    "- milk_yield_9\tКонтрольная дойка (удой за 1 день) в 9 месяце после начала лактации\t\n",
    "- milk_yield_10\tКонтрольная дойка (удой за 1 день) в 10 месяце после начала лактации\n",
    "\n",
    "Таблица 3. Тестовый датасет - X_test_public.csv, столбцы:  \n",
    "- animal_id\tID животного\t \n",
    "- lactation\tНомер лактации\t \n",
    "- calving_date\tДата начала лактации\t \n",
    "- farm\tФерма\t \n",
    "- farmgroup\tХозяйство (группа из ферм)\t \n",
    "- birth_date\tДата рождения животного\t \n",
    "- milk_yield_1\tКонтрольная дойка (удой за 1 день) в 1 месяце после начала лактации\t \n",
    "- milk_yield_2\tКонтрольная дойка (удой за 1 день) в 2 месяце после начала лактации\t \n",
    "\n",
    "Таблица 4. Формат датафрейма прогноза, который должен быть возвращен функцией predict(), столбцы:  \n",
    "- animal_id\tID животного\t \n",
    "- lactation\tНомер лактации\t \n",
    "- milk_yield_3\tКонтрольная дойка (удой за 1 день) в 3 месяце после начала лактации\t \n",
    "- milk_yield_4\tКонтрольная дойка (удой за 1 день) в 4 месяце после начала лактации\t \n",
    "- milk_yield_5\tКонтрольная дойка (удой за 1 день) в 5 месяце после начала лактации\t \n",
    "- milk_yield_6\tКонтрольная дойка (удой за 1 день) в 6 месяце после начала лактации\t \n",
    "- milk_yield_7\tКонтрольная дойка (удой за 1 день) в 7 месяце после начала лактации\t \n",
    "- milk_yield_8\tКонтрольная дойка (удой за 1 день) в 8 месяце после начала лактации\t \n",
    "- milk_yield_9\tКонтрольная дойка (удой за 1 день) в 9 месяце после начала лактации\t \n",
    "- milk_yield_10\tКонтрольная дойка (удой за 1 день) в 10 месяце после начала лактации  \t\n"
   ]
  },
  {
   "cell_type": "markdown",
   "id": "90b24612",
   "metadata": {},
   "source": [
    "[Содержание](#Содержание) "
   ]
  },
  {
   "cell_type": "markdown",
   "id": "f2572bc2",
   "metadata": {},
   "source": [
    "<a name=\"Первичный_анализ_данных\"></a>\n",
    "## 2.Первичный анализ и обработка данных."
   ]
  },
  {
   "cell_type": "markdown",
   "id": "ec8bcf92",
   "metadata": {},
   "source": [
    "Импорты необходимых билиотек:"
   ]
  },
  {
   "cell_type": "code",
   "execution_count": 64,
   "id": "69f1e6f4",
   "metadata": {},
   "outputs": [],
   "source": [
    "import os\n",
    "import pandas as pd\n",
    "from pandas. tseries.offsets import DateOffset\n",
    "from lightgbm import LGBMRegressor\n",
    "\n",
    "import json\n",
    "from typing import Any\n",
    "import tqdm\n",
    "import numpy as np\n",
    "\n",
    "from sklearn.model_selection import train_test_split\n",
    "from sklearn.metrics import mean_squared_error\n",
    "\n",
    "#scikit-learn==1.2.1\n",
    "#numpy==1.23.5\n",
    "#tqdm==4.65.0\n",
    "#pandas==1.5.3\n",
    "#lightgbm==4.1.0\n",
    "import optuna\n",
    "from sklearn.model_selection import cross_val_score"
   ]
  },
  {
   "cell_type": "markdown",
   "id": "6d671b65",
   "metadata": {},
   "source": [
    "Задание констант."
   ]
  },
  {
   "cell_type": "code",
   "execution_count": 65,
   "id": "d1ec29cc",
   "metadata": {},
   "outputs": [],
   "source": [
    "DIR_DF = 'data'\n",
    "FILE_TRAIN = 'train.csv'\n",
    "FILE_PEDIGREE = 'pedigree.csv'\n",
    "FILE_X_TEST_PUBLIC = 'X_test_public.csv'\n",
    "RANDOM_STATE = 1\n",
    "TEST_SIZE = .25"
   ]
  },
  {
   "cell_type": "markdown",
   "id": "fd1e31b0",
   "metadata": {},
   "source": [
    "[Содержание](#Содержание) "
   ]
  },
  {
   "cell_type": "markdown",
   "id": "9a4a75c9",
   "metadata": {},
   "source": [
    "<a name=\"Первичный\"></a>\n",
    "### 2.1. Первичный анализ данных."
   ]
  },
  {
   "cell_type": "markdown",
   "id": "54c4af2a",
   "metadata": {},
   "source": [
    "Загрузка данных в датафрейм."
   ]
  },
  {
   "cell_type": "code",
   "execution_count": 66,
   "id": "f4b71203",
   "metadata": {
    "scrolled": true
   },
   "outputs": [
    {
     "data": {
      "text/html": [
       "<div>\n",
       "<style scoped>\n",
       "    .dataframe tbody tr th:only-of-type {\n",
       "        vertical-align: middle;\n",
       "    }\n",
       "\n",
       "    .dataframe tbody tr th {\n",
       "        vertical-align: top;\n",
       "    }\n",
       "\n",
       "    .dataframe thead th {\n",
       "        text-align: right;\n",
       "    }\n",
       "</style>\n",
       "<table border=\"1\" class=\"dataframe\">\n",
       "  <thead>\n",
       "    <tr style=\"text-align: right;\">\n",
       "      <th></th>\n",
       "      <th>animal_id</th>\n",
       "      <th>lactation</th>\n",
       "      <th>calving_date</th>\n",
       "      <th>farm</th>\n",
       "      <th>farmgroup</th>\n",
       "      <th>birth_date</th>\n",
       "      <th>milk_yield_1</th>\n",
       "      <th>milk_yield_2</th>\n",
       "      <th>milk_yield_3</th>\n",
       "      <th>milk_yield_4</th>\n",
       "      <th>milk_yield_5</th>\n",
       "      <th>milk_yield_6</th>\n",
       "      <th>milk_yield_7</th>\n",
       "      <th>milk_yield_8</th>\n",
       "      <th>milk_yield_9</th>\n",
       "      <th>milk_yield_10</th>\n",
       "    </tr>\n",
       "  </thead>\n",
       "  <tbody>\n",
       "    <tr>\n",
       "      <th>0</th>\n",
       "      <td>ID_0000732131</td>\n",
       "      <td>1</td>\n",
       "      <td>2018-11-11</td>\n",
       "      <td>2104</td>\n",
       "      <td>4463</td>\n",
       "      <td>2016-10-02</td>\n",
       "      <td>19.2</td>\n",
       "      <td>21.4</td>\n",
       "      <td>NaN</td>\n",
       "      <td>30.7</td>\n",
       "      <td>28.6</td>\n",
       "      <td>28.1</td>\n",
       "      <td>NaN</td>\n",
       "      <td>31.1</td>\n",
       "      <td>25.5</td>\n",
       "      <td>26.1</td>\n",
       "    </tr>\n",
       "    <tr>\n",
       "      <th>1</th>\n",
       "      <td>ID_0000732194</td>\n",
       "      <td>1</td>\n",
       "      <td>2013-05-01</td>\n",
       "      <td>2104</td>\n",
       "      <td>4463</td>\n",
       "      <td>2011-05-19</td>\n",
       "      <td>16.7</td>\n",
       "      <td>15.9</td>\n",
       "      <td>14.4</td>\n",
       "      <td>20.4</td>\n",
       "      <td>14.3</td>\n",
       "      <td>23.2</td>\n",
       "      <td>21.0</td>\n",
       "      <td>22.0</td>\n",
       "      <td>23.3</td>\n",
       "      <td>22.5</td>\n",
       "    </tr>\n",
       "    <tr>\n",
       "      <th>2</th>\n",
       "      <td>ID_0000732195</td>\n",
       "      <td>1</td>\n",
       "      <td>2013-05-17</td>\n",
       "      <td>2104</td>\n",
       "      <td>4463</td>\n",
       "      <td>2011-06-01</td>\n",
       "      <td>15.8</td>\n",
       "      <td>14.4</td>\n",
       "      <td>19.3</td>\n",
       "      <td>23.1</td>\n",
       "      <td>31.8</td>\n",
       "      <td>24.7</td>\n",
       "      <td>30.9</td>\n",
       "      <td>32.3</td>\n",
       "      <td>32.7</td>\n",
       "      <td>33.1</td>\n",
       "    </tr>\n",
       "    <tr>\n",
       "      <th>3</th>\n",
       "      <td>ID_0000732195</td>\n",
       "      <td>2</td>\n",
       "      <td>2014-06-16</td>\n",
       "      <td>2104</td>\n",
       "      <td>4463</td>\n",
       "      <td>2011-06-01</td>\n",
       "      <td>43.7</td>\n",
       "      <td>39.9</td>\n",
       "      <td>39.2</td>\n",
       "      <td>33.2</td>\n",
       "      <td>40.3</td>\n",
       "      <td>44.8</td>\n",
       "      <td>39.3</td>\n",
       "      <td>40.1</td>\n",
       "      <td>40.5</td>\n",
       "      <td>37.7</td>\n",
       "    </tr>\n",
       "    <tr>\n",
       "      <th>4</th>\n",
       "      <td>ID_0000732338</td>\n",
       "      <td>1</td>\n",
       "      <td>2013-05-18</td>\n",
       "      <td>2104</td>\n",
       "      <td>4463</td>\n",
       "      <td>2011-07-11</td>\n",
       "      <td>13.8</td>\n",
       "      <td>13.2</td>\n",
       "      <td>29.9</td>\n",
       "      <td>26.4</td>\n",
       "      <td>31.3</td>\n",
       "      <td>17.6</td>\n",
       "      <td>25.8</td>\n",
       "      <td>25.6</td>\n",
       "      <td>24.5</td>\n",
       "      <td>19.8</td>\n",
       "    </tr>\n",
       "  </tbody>\n",
       "</table>\n",
       "</div>"
      ],
      "text/plain": [
       "       animal_id  lactation calving_date  farm  farmgroup  birth_date  \\\n",
       "0  ID_0000732131          1   2018-11-11  2104       4463  2016-10-02   \n",
       "1  ID_0000732194          1   2013-05-01  2104       4463  2011-05-19   \n",
       "2  ID_0000732195          1   2013-05-17  2104       4463  2011-06-01   \n",
       "3  ID_0000732195          2   2014-06-16  2104       4463  2011-06-01   \n",
       "4  ID_0000732338          1   2013-05-18  2104       4463  2011-07-11   \n",
       "\n",
       "   milk_yield_1  milk_yield_2  milk_yield_3  milk_yield_4  milk_yield_5  \\\n",
       "0          19.2          21.4           NaN          30.7          28.6   \n",
       "1          16.7          15.9          14.4          20.4          14.3   \n",
       "2          15.8          14.4          19.3          23.1          31.8   \n",
       "3          43.7          39.9          39.2          33.2          40.3   \n",
       "4          13.8          13.2          29.9          26.4          31.3   \n",
       "\n",
       "   milk_yield_6  milk_yield_7  milk_yield_8  milk_yield_9  milk_yield_10  \n",
       "0          28.1           NaN          31.1          25.5           26.1  \n",
       "1          23.2          21.0          22.0          23.3           22.5  \n",
       "2          24.7          30.9          32.3          32.7           33.1  \n",
       "3          44.8          39.3          40.1          40.5           37.7  \n",
       "4          17.6          25.8          25.6          24.5           19.8  "
      ]
     },
     "execution_count": 66,
     "metadata": {},
     "output_type": "execute_result"
    }
   ],
   "source": [
    "df_train = pd.read_csv(os.path.join(DIR_DF,FILE_TRAIN))\n",
    "df_train.head()"
   ]
  },
  {
   "cell_type": "markdown",
   "id": "bdb631be",
   "metadata": {},
   "source": [
    "Посмотрим общую информацию датасета."
   ]
  },
  {
   "cell_type": "code",
   "execution_count": 16,
   "id": "2468c243",
   "metadata": {},
   "outputs": [
    {
     "name": "stdout",
     "output_type": "stream",
     "text": [
      "<class 'pandas.core.frame.DataFrame'>\n",
      "RangeIndex: 155575 entries, 0 to 155574\n",
      "Data columns (total 16 columns):\n",
      " #   Column         Non-Null Count   Dtype  \n",
      "---  ------         --------------   -----  \n",
      " 0   animal_id      155575 non-null  object \n",
      " 1   lactation      155575 non-null  int64  \n",
      " 2   calving_date   155575 non-null  object \n",
      " 3   farm           155575 non-null  int64  \n",
      " 4   farmgroup      155575 non-null  int64  \n",
      " 5   birth_date     155575 non-null  object \n",
      " 6   milk_yield_1   155575 non-null  float64\n",
      " 7   milk_yield_2   155575 non-null  float64\n",
      " 8   milk_yield_3   151068 non-null  float64\n",
      " 9   milk_yield_4   151634 non-null  float64\n",
      " 10  milk_yield_5   151457 non-null  float64\n",
      " 11  milk_yield_6   150373 non-null  float64\n",
      " 12  milk_yield_7   150938 non-null  float64\n",
      " 13  milk_yield_8   151065 non-null  float64\n",
      " 14  milk_yield_9   147880 non-null  float64\n",
      " 15  milk_yield_10  126179 non-null  float64\n",
      "dtypes: float64(10), int64(3), object(3)\n",
      "memory usage: 19.0+ MB\n"
     ]
    }
   ],
   "source": [
    "df_train.info()"
   ]
  },
  {
   "cell_type": "code",
   "execution_count": 67,
   "id": "15cfbc74",
   "metadata": {
    "scrolled": true
   },
   "outputs": [
    {
     "name": "stdout",
     "output_type": "stream",
     "text": [
      "<class 'pandas.core.frame.DataFrame'>\n",
      "RangeIndex: 155575 entries, 0 to 155574\n",
      "Data columns (total 16 columns):\n",
      " #   Column         Non-Null Count   Dtype         \n",
      "---  ------         --------------   -----         \n",
      " 0   animal_id      155575 non-null  object        \n",
      " 1   lactation      155575 non-null  int64         \n",
      " 2   calving_date   155575 non-null  datetime64[ns]\n",
      " 3   farm           155575 non-null  int64         \n",
      " 4   farmgroup      155575 non-null  int64         \n",
      " 5   birth_date     155575 non-null  datetime64[ns]\n",
      " 6   milk_yield_1   155575 non-null  float64       \n",
      " 7   milk_yield_2   155575 non-null  float64       \n",
      " 8   milk_yield_3   151068 non-null  float64       \n",
      " 9   milk_yield_4   151634 non-null  float64       \n",
      " 10  milk_yield_5   151457 non-null  float64       \n",
      " 11  milk_yield_6   150373 non-null  float64       \n",
      " 12  milk_yield_7   150938 non-null  float64       \n",
      " 13  milk_yield_8   151065 non-null  float64       \n",
      " 14  milk_yield_9   147880 non-null  float64       \n",
      " 15  milk_yield_10  126179 non-null  float64       \n",
      "dtypes: datetime64[ns](2), float64(10), int64(3), object(1)\n",
      "memory usage: 19.0+ MB\n"
     ]
    }
   ],
   "source": [
    "df_train[['calving_date','birth_date']] = df_train[['calving_date','birth_date']].astype(\"datetime64[ns]\")\n",
    "df_train.info()"
   ]
  },
  {
   "cell_type": "markdown",
   "id": "3b4fa52c",
   "metadata": {},
   "source": [
    "**Вывод:** \n",
    "В датафрейме присутствуют пропущенные значения. Но т.к. данные в столбцах \"milk_yield\" привязаны к дате начала лактации, удалять их не следует. Просто по некоторым особям данные будут за число месяцев меньше 10."
   ]
  },
  {
   "cell_type": "markdown",
   "id": "fae75775",
   "metadata": {},
   "source": [
    "[Содержание](#Содержание) "
   ]
  },
  {
   "cell_type": "markdown",
   "id": "4cfa6e91",
   "metadata": {},
   "source": [
    "<a name=\"#Исследование_моделей\"></a>\n",
    "## 3. Выбор и исследование моделей."
   ]
  },
  {
   "cell_type": "markdown",
   "id": "9d613b7f",
   "metadata": {},
   "source": [
    "**Рассмотрим два варианта гипотез:  \n",
    "Вариант 1:**  \n",
    "В качестве признаков будем использовать следующие:\n",
    "- Номер лактации \"lactation\";  \n",
    "- Номер фермы \"farm\";  \n",
    "- Месяц начала лактации. Т.к. от месяца зависит рацион коровы и удои(по предположению). Получим из \"calving_date\";  \n",
    "- Сколько месяцев прошло с рождения до лактации. Таким образом учтем возраст коровы. Получим из \"calving_date\" и \"birth_date\";\n",
    "- Конрольные дойки за 1й и 2й месяц. \"milk_yield_1\" и \"milk_yield_2\".\n",
    "\n",
    "Для предсказания контрольных доек за 3й-10й месяц (\"milk_yield_3-10\") используем LightGBM регрессию. Каждый месяц предсказывается отдельно.   \n",
    "\n",
    "**Вариант 2:**  \n",
    "В качестве признаков к Варианту 1 добавим:\n",
    "- ID матери \"mother_id\" и  ID отца \"father_id\". \n",
    "\n",
    "Для предсказания контрольных доек за 3й-10й месяц (\"milk_yield_3-10\") используем LightGBM регрессию. Каждый месяц предсказывается отдельно. \n",
    "\n",
    "\n",
    "Для сравнения будем использовать медианную модель.\n"
   ]
  },
  {
   "cell_type": "markdown",
   "id": "3c2e408d",
   "metadata": {},
   "source": [
    "<a name=\"Вариант_1\"></a>\n",
    "### 3.1. Вариант 1. "
   ]
  },
  {
   "cell_type": "markdown",
   "id": "b132f16f",
   "metadata": {},
   "source": [
    "Выделение дополнительных признаков:   \n",
    "'calving_year_month' - Месяц начала лактации.  \n",
    "'age_year_month' - Сколько месяцев прошло с рождения до лактации."
   ]
  },
  {
   "cell_type": "code",
   "execution_count": 18,
   "id": "b5e265d6",
   "metadata": {
    "scrolled": true
   },
   "outputs": [
    {
     "data": {
      "text/html": [
       "<div>\n",
       "<style scoped>\n",
       "    .dataframe tbody tr th:only-of-type {\n",
       "        vertical-align: middle;\n",
       "    }\n",
       "\n",
       "    .dataframe tbody tr th {\n",
       "        vertical-align: top;\n",
       "    }\n",
       "\n",
       "    .dataframe thead th {\n",
       "        text-align: right;\n",
       "    }\n",
       "</style>\n",
       "<table border=\"1\" class=\"dataframe\">\n",
       "  <thead>\n",
       "    <tr style=\"text-align: right;\">\n",
       "      <th></th>\n",
       "      <th>animal_id</th>\n",
       "      <th>lactation</th>\n",
       "      <th>calving_date</th>\n",
       "      <th>farm</th>\n",
       "      <th>farmgroup</th>\n",
       "      <th>birth_date</th>\n",
       "      <th>milk_yield_1</th>\n",
       "      <th>milk_yield_2</th>\n",
       "      <th>milk_yield_3</th>\n",
       "      <th>milk_yield_4</th>\n",
       "      <th>milk_yield_5</th>\n",
       "      <th>milk_yield_6</th>\n",
       "      <th>milk_yield_7</th>\n",
       "      <th>milk_yield_8</th>\n",
       "      <th>milk_yield_9</th>\n",
       "      <th>milk_yield_10</th>\n",
       "      <th>calving_year_month</th>\n",
       "      <th>age_year_month</th>\n",
       "    </tr>\n",
       "  </thead>\n",
       "  <tbody>\n",
       "    <tr>\n",
       "      <th>1</th>\n",
       "      <td>ID_0000732194</td>\n",
       "      <td>1</td>\n",
       "      <td>2013-05-01</td>\n",
       "      <td>2104</td>\n",
       "      <td>4463</td>\n",
       "      <td>2011-05-19</td>\n",
       "      <td>16.7</td>\n",
       "      <td>15.9</td>\n",
       "      <td>14.4</td>\n",
       "      <td>20.4</td>\n",
       "      <td>14.3</td>\n",
       "      <td>23.2</td>\n",
       "      <td>21.0</td>\n",
       "      <td>22.0</td>\n",
       "      <td>23.3</td>\n",
       "      <td>22.5</td>\n",
       "      <td>5</td>\n",
       "      <td>24</td>\n",
       "    </tr>\n",
       "    <tr>\n",
       "      <th>2</th>\n",
       "      <td>ID_0000732195</td>\n",
       "      <td>1</td>\n",
       "      <td>2013-05-17</td>\n",
       "      <td>2104</td>\n",
       "      <td>4463</td>\n",
       "      <td>2011-06-01</td>\n",
       "      <td>15.8</td>\n",
       "      <td>14.4</td>\n",
       "      <td>19.3</td>\n",
       "      <td>23.1</td>\n",
       "      <td>31.8</td>\n",
       "      <td>24.7</td>\n",
       "      <td>30.9</td>\n",
       "      <td>32.3</td>\n",
       "      <td>32.7</td>\n",
       "      <td>33.1</td>\n",
       "      <td>5</td>\n",
       "      <td>23</td>\n",
       "    </tr>\n",
       "    <tr>\n",
       "      <th>3</th>\n",
       "      <td>ID_0000732195</td>\n",
       "      <td>2</td>\n",
       "      <td>2014-06-16</td>\n",
       "      <td>2104</td>\n",
       "      <td>4463</td>\n",
       "      <td>2011-06-01</td>\n",
       "      <td>43.7</td>\n",
       "      <td>39.9</td>\n",
       "      <td>39.2</td>\n",
       "      <td>33.2</td>\n",
       "      <td>40.3</td>\n",
       "      <td>44.8</td>\n",
       "      <td>39.3</td>\n",
       "      <td>40.1</td>\n",
       "      <td>40.5</td>\n",
       "      <td>37.7</td>\n",
       "      <td>6</td>\n",
       "      <td>36</td>\n",
       "    </tr>\n",
       "    <tr>\n",
       "      <th>4</th>\n",
       "      <td>ID_0000732338</td>\n",
       "      <td>1</td>\n",
       "      <td>2013-05-18</td>\n",
       "      <td>2104</td>\n",
       "      <td>4463</td>\n",
       "      <td>2011-07-11</td>\n",
       "      <td>13.8</td>\n",
       "      <td>13.2</td>\n",
       "      <td>29.9</td>\n",
       "      <td>26.4</td>\n",
       "      <td>31.3</td>\n",
       "      <td>17.6</td>\n",
       "      <td>25.8</td>\n",
       "      <td>25.6</td>\n",
       "      <td>24.5</td>\n",
       "      <td>19.8</td>\n",
       "      <td>5</td>\n",
       "      <td>22</td>\n",
       "    </tr>\n",
       "    <tr>\n",
       "      <th>7</th>\n",
       "      <td>ID_0000732354</td>\n",
       "      <td>3</td>\n",
       "      <td>2016-07-23</td>\n",
       "      <td>2107</td>\n",
       "      <td>4463</td>\n",
       "      <td>2012-07-31</td>\n",
       "      <td>26.3</td>\n",
       "      <td>41.2</td>\n",
       "      <td>42.1</td>\n",
       "      <td>39.9</td>\n",
       "      <td>39.9</td>\n",
       "      <td>37.7</td>\n",
       "      <td>39.2</td>\n",
       "      <td>35.4</td>\n",
       "      <td>33.4</td>\n",
       "      <td>37.3</td>\n",
       "      <td>7</td>\n",
       "      <td>48</td>\n",
       "    </tr>\n",
       "  </tbody>\n",
       "</table>\n",
       "</div>"
      ],
      "text/plain": [
       "       animal_id  lactation calving_date  farm  farmgroup birth_date  \\\n",
       "1  ID_0000732194          1   2013-05-01  2104       4463 2011-05-19   \n",
       "2  ID_0000732195          1   2013-05-17  2104       4463 2011-06-01   \n",
       "3  ID_0000732195          2   2014-06-16  2104       4463 2011-06-01   \n",
       "4  ID_0000732338          1   2013-05-18  2104       4463 2011-07-11   \n",
       "7  ID_0000732354          3   2016-07-23  2107       4463 2012-07-31   \n",
       "\n",
       "   milk_yield_1  milk_yield_2  milk_yield_3  milk_yield_4  milk_yield_5  \\\n",
       "1          16.7          15.9          14.4          20.4          14.3   \n",
       "2          15.8          14.4          19.3          23.1          31.8   \n",
       "3          43.7          39.9          39.2          33.2          40.3   \n",
       "4          13.8          13.2          29.9          26.4          31.3   \n",
       "7          26.3          41.2          42.1          39.9          39.9   \n",
       "\n",
       "   milk_yield_6  milk_yield_7  milk_yield_8  milk_yield_9  milk_yield_10  \\\n",
       "1          23.2          21.0          22.0          23.3           22.5   \n",
       "2          24.7          30.9          32.3          32.7           33.1   \n",
       "3          44.8          39.3          40.1          40.5           37.7   \n",
       "4          17.6          25.8          25.6          24.5           19.8   \n",
       "7          37.7          39.2          35.4          33.4           37.3   \n",
       "\n",
       "   calving_year_month  age_year_month  \n",
       "1                   5              24  \n",
       "2                   5              23  \n",
       "3                   6              36  \n",
       "4                   5              22  \n",
       "7                   7              48  "
      ]
     },
     "execution_count": 18,
     "metadata": {},
     "output_type": "execute_result"
    }
   ],
   "source": [
    "df1 = df_train.dropna()\n",
    "df1 = df1.drop_duplicates()\n",
    "df1['calving_year_month'] = df1['calving_date'].dt.month\n",
    "df1['age_year_month'] =df1['calving_date'].dt.to_period(\"M\").astype('int64') - df1['birth_date'].dt.to_period(\"M\").astype('int64')\n",
    "df1.head()"
   ]
  },
  {
   "cell_type": "markdown",
   "id": "69daa438",
   "metadata": {},
   "source": [
    "Разбивка данных на тестовую и тернировочную выборку.  "
   ]
  },
  {
   "cell_type": "code",
   "execution_count": 19,
   "id": "84fb57a7",
   "metadata": {},
   "outputs": [],
   "source": [
    "df1_train,df1_test = train_test_split(df1\n",
    "                            ,random_state=RANDOM_STATE\n",
    "                            ,test_size=TEST_SIZE)\n",
    "columns_features = ['lactation','farm','calving_year_month','age_year_month','milk_yield_1','milk_yield_2']\n",
    "columns_target = [f'milk_yield_{x}' for x in range(3,11)]\n",
    "columns_categorical_feature = ['lactation','farm','calving_year_month']\n",
    "df1_train_features = df1_train[columns_features]\n",
    "df1_train_target = df1_train[columns_target]"
   ]
  },
  {
   "cell_type": "markdown",
   "id": "73b9ef8d",
   "metadata": {},
   "source": [
    "Обучение модели при одних параметрах.  "
   ]
  },
  {
   "cell_type": "code",
   "execution_count": 45,
   "id": "6d527c84",
   "metadata": {},
   "outputs": [
    {
     "name": "stdout",
     "output_type": "stream",
     "text": [
      "7.94745825047565\n"
     ]
    }
   ],
   "source": [
    "def my_fit():\n",
    "    params = {'verbosity':-1\n",
    "              ,'n_estimators':50\n",
    "             ,'max_depth':10\n",
    "              ,'num_leaves':5\n",
    "              ,'learning_rate':.01\n",
    "              ,'random_state':RANDOM_STATE\n",
    "             }\n",
    "    ret_list_model=[]\n",
    "    df_pred = pd.DataFrame()\n",
    "    for i in range(3,11):\n",
    "        ret_list_model.append(LGBMRegressor(**params))\n",
    "        ret_list_model[i-3].fit(df1_train_features, df1_train_target[f'milk_yield_{i}'],eval_metric='rmse'\n",
    "                                , categorical_feature=columns_categorical_feature)\n",
    "        df_pred[f'milk_yield_{i}']=ret_list_model[i-3].predict(df1_test[columns_features])\n",
    "    print(mean_squared_error(df_pred,df1_test[columns_target],squared=False))\n",
    "#model_lgm = LGBMRegressor(**params)\n",
    "#model_lgm.fit(df1_train_features, df1_train_target['milk_yield_3'],eval_metric='rmse', categorical_feature=columns_categorical_feature)\n",
    "#tmp_pred = model_lgm.predict(df1_test[columns_features])\n",
    "\n",
    "my_fit()"
   ]
  },
  {
   "cell_type": "markdown",
   "id": "098b01b2",
   "metadata": {},
   "source": [
    "Результирующее знаяение rmse=7.947. - лучше медианного.  \n",
    "Для дальнейшего улучшения подберем параметры модели с помощью библиотеки optuna для третьего месяца лактации.  "
   ]
  },
  {
   "cell_type": "code",
   "execution_count": 48,
   "id": "2d62e41d",
   "metadata": {},
   "outputs": [
    {
     "name": "stderr",
     "output_type": "stream",
     "text": [
      "[I 2023-11-16 15:07:03,675] A new study created in memory with name: no-name-4211a13b-8243-4b8a-b3e7-639ac7b8fc22\n",
      "[I 2023-11-16 15:07:16,323] Trial 0 finished with value: 5.2824525228057055 and parameters: {'n_estimators': 870, 'max_depth': 45, 'num_leaves': 100, 'learning_rate': 0.161}. Best is trial 0 with value: 5.2824525228057055.\n"
     ]
    },
    {
     "name": "stdout",
     "output_type": "stream",
     "text": [
      "5.2824525228057055\n"
     ]
    },
    {
     "name": "stderr",
     "output_type": "stream",
     "text": [
      "[I 2023-11-16 15:07:24,227] Trial 1 finished with value: 5.070411020141142 and parameters: {'n_estimators': 450, 'max_depth': 85, 'num_leaves': 105, 'learning_rate': 0.091}. Best is trial 1 with value: 5.070411020141142.\n"
     ]
    },
    {
     "name": "stdout",
     "output_type": "stream",
     "text": [
      "5.070411020141142\n"
     ]
    },
    {
     "name": "stderr",
     "output_type": "stream",
     "text": [
      "[I 2023-11-16 15:07:30,608] Trial 2 finished with value: 5.122556080927995 and parameters: {'n_estimators': 440, 'max_depth': 85, 'num_leaves': 85, 'learning_rate': 0.151}. Best is trial 1 with value: 5.070411020141142.\n"
     ]
    },
    {
     "name": "stdout",
     "output_type": "stream",
     "text": [
      "5.122556080927995\n"
     ]
    },
    {
     "name": "stderr",
     "output_type": "stream",
     "text": [
      "[I 2023-11-16 15:07:38,493] Trial 3 finished with value: 5.3199036488201354 and parameters: {'n_estimators': 580, 'max_depth': 70, 'num_leaves': 90, 'learning_rate': 0.251}. Best is trial 1 with value: 5.070411020141142.\n"
     ]
    },
    {
     "name": "stdout",
     "output_type": "stream",
     "text": [
      "5.3199036488201354\n"
     ]
    },
    {
     "name": "stderr",
     "output_type": "stream",
     "text": [
      "[I 2023-11-16 15:07:46,445] Trial 4 finished with value: 5.257685095545787 and parameters: {'n_estimators': 630, 'max_depth': 10, 'num_leaves': 75, 'learning_rate': 0.211}. Best is trial 1 with value: 5.070411020141142.\n"
     ]
    },
    {
     "name": "stdout",
     "output_type": "stream",
     "text": [
      "5.257685095545787\n"
     ]
    },
    {
     "name": "stderr",
     "output_type": "stream",
     "text": [
      "[I 2023-11-16 15:07:57,871] Trial 5 finished with value: 5.287777904808887 and parameters: {'n_estimators': 940, 'max_depth': 95, 'num_leaves': 75, 'learning_rate': 0.191}. Best is trial 1 with value: 5.070411020141142.\n"
     ]
    },
    {
     "name": "stdout",
     "output_type": "stream",
     "text": [
      "5.287777904808887\n"
     ]
    },
    {
     "name": "stderr",
     "output_type": "stream",
     "text": [
      "[I 2023-11-16 15:07:59,298] Trial 6 finished with value: 5.003874930911358 and parameters: {'n_estimators': 120, 'max_depth': 25, 'num_leaves': 45, 'learning_rate': 0.14100000000000001}. Best is trial 6 with value: 5.003874930911358.\n"
     ]
    },
    {
     "name": "stdout",
     "output_type": "stream",
     "text": [
      "5.003874930911358\n"
     ]
    },
    {
     "name": "stderr",
     "output_type": "stream",
     "text": [
      "[I 2023-11-16 15:08:03,714] Trial 7 finished with value: 5.02250798166388 and parameters: {'n_estimators': 790, 'max_depth': 5, 'num_leaves': 15, 'learning_rate': 0.041}. Best is trial 6 with value: 5.003874930911358.\n"
     ]
    },
    {
     "name": "stdout",
     "output_type": "stream",
     "text": [
      "5.02250798166388\n"
     ]
    },
    {
     "name": "stderr",
     "output_type": "stream",
     "text": [
      "[I 2023-11-16 15:08:07,267] Trial 8 finished with value: 4.997306179223869 and parameters: {'n_estimators': 410, 'max_depth': 85, 'num_leaves': 40, 'learning_rate': 0.041}. Best is trial 8 with value: 4.997306179223869.\n"
     ]
    },
    {
     "name": "stdout",
     "output_type": "stream",
     "text": [
      "4.997306179223869\n"
     ]
    },
    {
     "name": "stderr",
     "output_type": "stream",
     "text": [
      "[I 2023-11-16 15:08:10,090] Trial 9 finished with value: 5.054261409392546 and parameters: {'n_estimators': 710, 'max_depth': 10, 'num_leaves': 10, 'learning_rate': 0.231}. Best is trial 8 with value: 4.997306179223869.\n"
     ]
    },
    {
     "name": "stdout",
     "output_type": "stream",
     "text": [
      "5.054261409392546\n"
     ]
    },
    {
     "name": "stderr",
     "output_type": "stream",
     "text": [
      "[I 2023-11-16 15:08:12,591] Trial 10 finished with value: 9.567113403494227 and parameters: {'n_estimators': 220, 'max_depth': 60, 'num_leaves': 40, 'learning_rate': 0.001}. Best is trial 8 with value: 4.997306179223869.\n"
     ]
    },
    {
     "name": "stdout",
     "output_type": "stream",
     "text": [
      "9.567113403494227\n"
     ]
    },
    {
     "name": "stderr",
     "output_type": "stream",
     "text": [
      "[I 2023-11-16 15:08:13,363] Trial 11 finished with value: 5.053896293156863 and parameters: {'n_estimators': 50, 'max_depth': 35, 'num_leaves': 45, 'learning_rate': 0.091}. Best is trial 8 with value: 4.997306179223869.\n"
     ]
    },
    {
     "name": "stdout",
     "output_type": "stream",
     "text": [
      "5.053896293156863\n"
     ]
    },
    {
     "name": "stderr",
     "output_type": "stream",
     "text": [
      "[I 2023-11-16 15:08:15,433] Trial 12 finished with value: 5.005648948884214 and parameters: {'n_estimators': 260, 'max_depth': 30, 'num_leaves': 30, 'learning_rate': 0.101}. Best is trial 8 with value: 4.997306179223869.\n"
     ]
    },
    {
     "name": "stdout",
     "output_type": "stream",
     "text": [
      "5.005648948884214\n"
     ]
    },
    {
     "name": "stderr",
     "output_type": "stream",
     "text": [
      "[I 2023-11-16 15:08:16,527] Trial 13 finished with value: 5.311982312755477 and parameters: {'n_estimators': 50, 'max_depth': 30, 'num_leaves': 55, 'learning_rate': 0.041}. Best is trial 8 with value: 4.997306179223869.\n"
     ]
    },
    {
     "name": "stdout",
     "output_type": "stream",
     "text": [
      "5.311982312755477\n"
     ]
    },
    {
     "name": "stderr",
     "output_type": "stream",
     "text": [
      "[I 2023-11-16 15:08:18,841] Trial 14 finished with value: 5.011754121752261 and parameters: {'n_estimators': 270, 'max_depth': 65, 'num_leaves': 25, 'learning_rate': 0.14100000000000001}. Best is trial 8 with value: 4.997306179223869.\n"
     ]
    },
    {
     "name": "stdout",
     "output_type": "stream",
     "text": [
      "5.011754121752261\n"
     ]
    },
    {
     "name": "stderr",
     "output_type": "stream",
     "text": [
      "[I 2023-11-16 15:08:23,242] Trial 15 finished with value: 4.995811914312305 and parameters: {'n_estimators': 380, 'max_depth': 45, 'num_leaves': 60, 'learning_rate': 0.041}. Best is trial 15 with value: 4.995811914312305.\n"
     ]
    },
    {
     "name": "stdout",
     "output_type": "stream",
     "text": [
      "4.995811914312305\n"
     ]
    },
    {
     "name": "stderr",
     "output_type": "stream",
     "text": [
      "[I 2023-11-16 15:08:27,940] Trial 16 finished with value: 4.9967255257099 and parameters: {'n_estimators': 400, 'max_depth': 50, 'num_leaves': 65, 'learning_rate': 0.041}. Best is trial 15 with value: 4.995811914312305.\n"
     ]
    },
    {
     "name": "stdout",
     "output_type": "stream",
     "text": [
      "4.9967255257099\n"
     ]
    },
    {
     "name": "stderr",
     "output_type": "stream",
     "text": [
      "[I 2023-11-16 15:08:33,716] Trial 17 finished with value: 8.709629370507997 and parameters: {'n_estimators': 360, 'max_depth': 50, 'num_leaves': 60, 'learning_rate': 0.001}. Best is trial 15 with value: 4.995811914312305.\n"
     ]
    },
    {
     "name": "stdout",
     "output_type": "stream",
     "text": [
      "8.709629370507997\n"
     ]
    },
    {
     "name": "stderr",
     "output_type": "stream",
     "text": [
      "[I 2023-11-16 15:08:39,579] Trial 18 finished with value: 5.012088762785438 and parameters: {'n_estimators': 530, 'max_depth': 45, 'num_leaves': 60, 'learning_rate': 0.061}. Best is trial 15 with value: 4.995811914312305.\n"
     ]
    },
    {
     "name": "stdout",
     "output_type": "stream",
     "text": [
      "5.012088762785438\n"
     ]
    },
    {
     "name": "stderr",
     "output_type": "stream",
     "text": [
      "[I 2023-11-16 15:08:43,591] Trial 19 finished with value: 5.0075711466688375 and parameters: {'n_estimators': 340, 'max_depth': 55, 'num_leaves': 70, 'learning_rate': 0.07100000000000001}. Best is trial 15 with value: 4.995811914312305.\n"
     ]
    },
    {
     "name": "stdout",
     "output_type": "stream",
     "text": [
      "5.0075711466688375\n"
     ]
    },
    {
     "name": "stderr",
     "output_type": "stream",
     "text": [
      "[I 2023-11-16 15:08:53,660] Trial 20 finished with value: 4.997426453529564 and parameters: {'n_estimators': 660, 'max_depth': 75, 'num_leaves': 85, 'learning_rate': 0.021}. Best is trial 15 with value: 4.995811914312305.\n"
     ]
    },
    {
     "name": "stdout",
     "output_type": "stream",
     "text": [
      "4.997426453529564\n"
     ]
    },
    {
     "name": "stderr",
     "output_type": "stream",
     "text": [
      "[I 2023-11-16 15:08:58,224] Trial 21 finished with value: 4.997249822587536 and parameters: {'n_estimators': 440, 'max_depth': 100, 'num_leaves': 55, 'learning_rate': 0.041}. Best is trial 15 with value: 4.995811914312305.\n"
     ]
    },
    {
     "name": "stdout",
     "output_type": "stream",
     "text": [
      "4.997249822587536\n"
     ]
    },
    {
     "name": "stderr",
     "output_type": "stream",
     "text": [
      "[I 2023-11-16 15:09:03,326] Trial 22 finished with value: 5.0534645568956496 and parameters: {'n_estimators': 490, 'max_depth': 100, 'num_leaves': 65, 'learning_rate': 0.111}. Best is trial 15 with value: 4.995811914312305.\n"
     ]
    },
    {
     "name": "stdout",
     "output_type": "stream",
     "text": [
      "5.0534645568956496\n"
     ]
    },
    {
     "name": "stderr",
     "output_type": "stream",
     "text": [
      "[I 2023-11-16 15:09:07,179] Trial 23 finished with value: 4.9981350297394265 and parameters: {'n_estimators': 340, 'max_depth': 40, 'num_leaves': 50, 'learning_rate': 0.07100000000000001}. Best is trial 15 with value: 4.995811914312305.\n"
     ]
    },
    {
     "name": "stdout",
     "output_type": "stream",
     "text": [
      "4.9981350297394265\n"
     ]
    },
    {
     "name": "stderr",
     "output_type": "stream",
     "text": [
      "[I 2023-11-16 15:09:09,959] Trial 24 finished with value: 5.0784237035931055 and parameters: {'n_estimators': 170, 'max_depth': 60, 'num_leaves': 70, 'learning_rate': 0.021}. Best is trial 15 with value: 4.995811914312305.\n"
     ]
    },
    {
     "name": "stdout",
     "output_type": "stream",
     "text": [
      "5.0784237035931055\n"
     ]
    },
    {
     "name": "stderr",
     "output_type": "stream",
     "text": [
      "[I 2023-11-16 15:09:15,197] Trial 25 finished with value: 4.999349683744548 and parameters: {'n_estimators': 540, 'max_depth': 20, 'num_leaves': 55, 'learning_rate': 0.051000000000000004}. Best is trial 15 with value: 4.995811914312305.\n"
     ]
    },
    {
     "name": "stdout",
     "output_type": "stream",
     "text": [
      "4.999349683744548\n"
     ]
    },
    {
     "name": "stderr",
     "output_type": "stream",
     "text": [
      "[I 2023-11-16 15:09:19,077] Trial 26 finished with value: 5.025220750228693 and parameters: {'n_estimators': 380, 'max_depth': 75, 'num_leaves': 35, 'learning_rate': 0.021}. Best is trial 15 with value: 4.995811914312305.\n"
     ]
    },
    {
     "name": "stdout",
     "output_type": "stream",
     "text": [
      "5.025220750228693\n"
     ]
    },
    {
     "name": "stderr",
     "output_type": "stream",
     "text": [
      "[I 2023-11-16 15:09:22,741] Trial 27 finished with value: 5.002210003489138 and parameters: {'n_estimators': 290, 'max_depth': 50, 'num_leaves': 65, 'learning_rate': 0.081}. Best is trial 15 with value: 4.995811914312305.\n"
     ]
    },
    {
     "name": "stdout",
     "output_type": "stream",
     "text": [
      "5.002210003489138\n"
     ]
    },
    {
     "name": "stderr",
     "output_type": "stream",
     "text": [
      "[I 2023-11-16 15:09:28,325] Trial 28 finished with value: 5.072642820830487 and parameters: {'n_estimators': 480, 'max_depth': 40, 'num_leaves': 80, 'learning_rate': 0.111}. Best is trial 15 with value: 4.995811914312305.\n"
     ]
    },
    {
     "name": "stdout",
     "output_type": "stream",
     "text": [
      "5.072642820830487\n"
     ]
    },
    {
     "name": "stderr",
     "output_type": "stream",
     "text": [
      "[I 2023-11-16 15:09:37,646] Trial 29 finished with value: 4.99987982045458 and parameters: {'n_estimators': 580, 'max_depth': 45, 'num_leaves': 95, 'learning_rate': 0.021}. Best is trial 15 with value: 4.995811914312305.\n"
     ]
    },
    {
     "name": "stdout",
     "output_type": "stream",
     "text": [
      "4.99987982045458\n"
     ]
    },
    {
     "name": "stderr",
     "output_type": "stream",
     "text": [
      "[I 2023-11-16 15:09:41,890] Trial 30 finished with value: 5.022756929271675 and parameters: {'n_estimators': 720, 'max_depth': 55, 'num_leaves': 20, 'learning_rate': 0.121}. Best is trial 15 with value: 4.995811914312305.\n"
     ]
    },
    {
     "name": "stdout",
     "output_type": "stream",
     "text": [
      "5.022756929271675\n"
     ]
    },
    {
     "name": "stderr",
     "output_type": "stream",
     "text": [
      "[I 2023-11-16 15:09:46,087] Trial 31 finished with value: 4.9954034446020925 and parameters: {'n_estimators': 420, 'max_depth': 90, 'num_leaves': 50, 'learning_rate': 0.041}. Best is trial 31 with value: 4.9954034446020925.\n"
     ]
    },
    {
     "name": "stdout",
     "output_type": "stream",
     "text": [
      "4.9954034446020925\n"
     ]
    },
    {
     "name": "stderr",
     "output_type": "stream",
     "text": [
      "[I 2023-11-16 15:09:50,241] Trial 32 finished with value: 5.002283651641504 and parameters: {'n_estimators': 450, 'max_depth': 100, 'num_leaves': 50, 'learning_rate': 0.061}. Best is trial 31 with value: 4.9954034446020925.\n"
     ]
    },
    {
     "name": "stdout",
     "output_type": "stream",
     "text": [
      "5.002283651641504\n"
     ]
    },
    {
     "name": "stderr",
     "output_type": "stream",
     "text": [
      "[I 2023-11-16 15:09:55,897] Trial 33 finished with value: 4.998328316978941 and parameters: {'n_estimators': 400, 'max_depth': 90, 'num_leaves': 60, 'learning_rate': 0.031}. Best is trial 31 with value: 4.9954034446020925.\n"
     ]
    },
    {
     "name": "stdout",
     "output_type": "stream",
     "text": [
      "4.998328316978941\n"
     ]
    },
    {
     "name": "stderr",
     "output_type": "stream",
     "text": [
      "[I 2023-11-16 15:10:00,297] Trial 34 finished with value: 8.942482687395794 and parameters: {'n_estimators': 320, 'max_depth': 80, 'num_leaves': 50, 'learning_rate': 0.001}. Best is trial 31 with value: 4.9954034446020925.\n"
     ]
    },
    {
     "name": "stdout",
     "output_type": "stream",
     "text": [
      "8.942482687395794\n"
     ]
    },
    {
     "name": "stderr",
     "output_type": "stream",
     "text": [
      "[I 2023-11-16 15:10:06,769] Trial 35 finished with value: 5.057415443633694 and parameters: {'n_estimators': 450, 'max_depth': 90, 'num_leaves': 105, 'learning_rate': 0.081}. Best is trial 31 with value: 4.9954034446020925.\n"
     ]
    },
    {
     "name": "stdout",
     "output_type": "stream",
     "text": [
      "5.057415443633694\n"
     ]
    },
    {
     "name": "stderr",
     "output_type": "stream",
     "text": [
      "[I 2023-11-16 15:10:09,567] Trial 36 finished with value: 5.047599805467376 and parameters: {'n_estimators': 220, 'max_depth': 65, 'num_leaves': 65, 'learning_rate': 0.171}. Best is trial 31 with value: 4.9954034446020925.\n"
     ]
    },
    {
     "name": "stdout",
     "output_type": "stream",
     "text": [
      "5.047599805467376\n"
     ]
    },
    {
     "name": "stderr",
     "output_type": "stream",
     "text": [
      "[I 2023-11-16 15:10:16,556] Trial 37 finished with value: 5.015612131816599 and parameters: {'n_estimators': 590, 'max_depth': 95, 'num_leaves': 75, 'learning_rate': 0.051000000000000004}. Best is trial 31 with value: 4.9954034446020925.\n"
     ]
    },
    {
     "name": "stdout",
     "output_type": "stream",
     "text": [
      "5.015612131816599\n"
     ]
    },
    {
     "name": "stderr",
     "output_type": "stream",
     "text": [
      "[I 2023-11-16 15:10:21,003] Trial 38 finished with value: 5.001719177656452 and parameters: {'n_estimators': 500, 'max_depth': 70, 'num_leaves': 45, 'learning_rate': 0.061}. Best is trial 31 with value: 4.9954034446020925.\n"
     ]
    },
    {
     "name": "stdout",
     "output_type": "stream",
     "text": [
      "5.001719177656452\n"
     ]
    },
    {
     "name": "stderr",
     "output_type": "stream",
     "text": [
      "[I 2023-11-16 15:10:24,902] Trial 39 finished with value: 5.007626784221209 and parameters: {'n_estimators': 420, 'max_depth': 90, 'num_leaves': 35, 'learning_rate': 0.031}. Best is trial 31 with value: 4.9954034446020925.\n"
     ]
    },
    {
     "name": "stdout",
     "output_type": "stream",
     "text": [
      "5.007626784221209\n"
     ]
    },
    {
     "name": "stderr",
     "output_type": "stream",
     "text": [
      "[I 2023-11-16 15:10:32,853] Trial 40 finished with value: 5.069272570361812 and parameters: {'n_estimators': 890, 'max_depth': 80, 'num_leaves': 55, 'learning_rate': 0.091}. Best is trial 31 with value: 4.9954034446020925.\n"
     ]
    },
    {
     "name": "stdout",
     "output_type": "stream",
     "text": [
      "5.069272570361812\n"
     ]
    },
    {
     "name": "stderr",
     "output_type": "stream",
     "text": [
      "[I 2023-11-16 15:10:36,736] Trial 41 finished with value: 4.997306179223869 and parameters: {'n_estimators': 410, 'max_depth': 85, 'num_leaves': 40, 'learning_rate': 0.041}. Best is trial 31 with value: 4.9954034446020925.\n"
     ]
    },
    {
     "name": "stdout",
     "output_type": "stream",
     "text": [
      "4.997306179223869\n"
     ]
    },
    {
     "name": "stderr",
     "output_type": "stream",
     "text": [
      "[I 2023-11-16 15:10:41,839] Trial 42 finished with value: 5.075587874100728 and parameters: {'n_estimators': 380, 'max_depth': 95, 'num_leaves': 40, 'learning_rate': 0.011}. Best is trial 31 with value: 4.9954034446020925.\n"
     ]
    },
    {
     "name": "stdout",
     "output_type": "stream",
     "text": [
      "5.075587874100728\n"
     ]
    },
    {
     "name": "stderr",
     "output_type": "stream",
     "text": [
      "[I 2023-11-16 15:10:45,545] Trial 43 finished with value: 4.997670692148051 and parameters: {'n_estimators': 300, 'max_depth': 100, 'num_leaves': 70, 'learning_rate': 0.051000000000000004}. Best is trial 31 with value: 4.9954034446020925.\n"
     ]
    },
    {
     "name": "stdout",
     "output_type": "stream",
     "text": [
      "4.997670692148051\n"
     ]
    },
    {
     "name": "stderr",
     "output_type": "stream",
     "text": [
      "[I 2023-11-16 15:10:47,228] Trial 44 finished with value: 5.13132794435982 and parameters: {'n_estimators': 460, 'max_depth': 85, 'num_leaves': 5, 'learning_rate': 0.041}. Best is trial 31 with value: 4.9954034446020925.\n"
     ]
    },
    {
     "name": "stdout",
     "output_type": "stream",
     "text": [
      "5.13132794435982\n"
     ]
    },
    {
     "name": "stderr",
     "output_type": "stream",
     "text": [
      "[I 2023-11-16 15:10:49,923] Trial 45 finished with value: 5.012734631109229 and parameters: {'n_estimators': 230, 'max_depth': 40, 'num_leaves': 50, 'learning_rate': 0.031}. Best is trial 31 with value: 4.9954034446020925.\n"
     ]
    },
    {
     "name": "stdout",
     "output_type": "stream",
     "text": [
      "5.012734631109229\n"
     ]
    },
    {
     "name": "stderr",
     "output_type": "stream",
     "text": [
      "[I 2023-11-16 15:10:54,609] Trial 46 finished with value: 5.05705197535438 and parameters: {'n_estimators': 530, 'max_depth': 80, 'num_leaves': 30, 'learning_rate': 0.011}. Best is trial 31 with value: 4.9954034446020925.\n"
     ]
    },
    {
     "name": "stdout",
     "output_type": "stream",
     "text": [
      "5.05705197535438\n"
     ]
    },
    {
     "name": "stderr",
     "output_type": "stream",
     "text": [
      "[I 2023-11-16 15:10:59,993] Trial 47 finished with value: 5.011464713887037 and parameters: {'n_estimators': 570, 'max_depth': 95, 'num_leaves': 45, 'learning_rate': 0.07100000000000001}. Best is trial 31 with value: 4.9954034446020925.\n"
     ]
    },
    {
     "name": "stdout",
     "output_type": "stream",
     "text": [
      "5.011464713887037\n"
     ]
    },
    {
     "name": "stderr",
     "output_type": "stream",
     "text": [
      "[I 2023-11-16 15:11:01,705] Trial 48 finished with value: 5.075860862517123 and parameters: {'n_estimators': 170, 'max_depth': 65, 'num_leaves': 60, 'learning_rate': 0.251}. Best is trial 31 with value: 4.9954034446020925.\n"
     ]
    },
    {
     "name": "stdout",
     "output_type": "stream",
     "text": [
      "5.075860862517123\n"
     ]
    },
    {
     "name": "stderr",
     "output_type": "stream",
     "text": [
      "[I 2023-11-16 15:11:07,075] Trial 49 finished with value: 5.159469650894801 and parameters: {'n_estimators': 630, 'max_depth': 35, 'num_leaves': 55, 'learning_rate': 0.191}. Best is trial 31 with value: 4.9954034446020925.\n"
     ]
    },
    {
     "name": "stdout",
     "output_type": "stream",
     "text": [
      "5.159469650894801\n"
     ]
    },
    {
     "name": "stderr",
     "output_type": "stream",
     "text": [
      "[I 2023-11-16 15:11:12,751] Trial 50 finished with value: 5.005122495982071 and parameters: {'n_estimators': 420, 'max_depth': 20, 'num_leaves': 80, 'learning_rate': 0.051000000000000004}. Best is trial 31 with value: 4.9954034446020925.\n"
     ]
    },
    {
     "name": "stdout",
     "output_type": "stream",
     "text": [
      "5.005122495982071\n"
     ]
    },
    {
     "name": "stderr",
     "output_type": "stream",
     "text": [
      "[I 2023-11-16 15:11:16,388] Trial 51 finished with value: 4.998697519924501 and parameters: {'n_estimators': 390, 'max_depth': 85, 'num_leaves': 40, 'learning_rate': 0.041}. Best is trial 31 with value: 4.9954034446020925.\n"
     ]
    },
    {
     "name": "stdout",
     "output_type": "stream",
     "text": [
      "4.998697519924501\n"
     ]
    },
    {
     "name": "stderr",
     "output_type": "stream",
     "text": [
      "[I 2023-11-16 15:11:19,611] Trial 52 finished with value: 5.006435915118883 and parameters: {'n_estimators': 350, 'max_depth': 90, 'num_leaves': 35, 'learning_rate': 0.041}. Best is trial 31 with value: 4.9954034446020925.\n"
     ]
    },
    {
     "name": "stdout",
     "output_type": "stream",
     "text": [
      "5.006435915118883\n"
     ]
    },
    {
     "name": "stderr",
     "output_type": "stream",
     "text": [
      "[I 2023-11-16 15:11:22,639] Trial 53 finished with value: 5.021267301370699 and parameters: {'n_estimators': 420, 'max_depth': 85, 'num_leaves': 25, 'learning_rate': 0.031}. Best is trial 31 with value: 4.9954034446020925.\n"
     ]
    },
    {
     "name": "stdout",
     "output_type": "stream",
     "text": [
      "5.021267301370699\n"
     ]
    },
    {
     "name": "stderr",
     "output_type": "stream",
     "text": [
      "[I 2023-11-16 15:11:28,868] Trial 54 finished with value: 5.029342467186424 and parameters: {'n_estimators': 510, 'max_depth': 75, 'num_leaves': 50, 'learning_rate': 0.011}. Best is trial 31 with value: 4.9954034446020925.\n"
     ]
    },
    {
     "name": "stdout",
     "output_type": "stream",
     "text": [
      "5.029342467186424\n"
     ]
    },
    {
     "name": "stderr",
     "output_type": "stream",
     "text": [
      "[I 2023-11-16 15:11:31,536] Trial 55 finished with value: 5.001240154619412 and parameters: {'n_estimators': 270, 'max_depth': 50, 'num_leaves': 40, 'learning_rate': 0.061}. Best is trial 31 with value: 4.9954034446020925.\n"
     ]
    },
    {
     "name": "stdout",
     "output_type": "stream",
     "text": [
      "5.001240154619412\n"
     ]
    },
    {
     "name": "stderr",
     "output_type": "stream",
     "text": [
      "[I 2023-11-16 15:11:34,922] Trial 56 finished with value: 5.004654075484966 and parameters: {'n_estimators': 330, 'max_depth': 60, 'num_leaves': 60, 'learning_rate': 0.081}. Best is trial 31 with value: 4.9954034446020925.\n"
     ]
    },
    {
     "name": "stdout",
     "output_type": "stream",
     "text": [
      "5.004654075484966\n"
     ]
    },
    {
     "name": "stderr",
     "output_type": "stream",
     "text": [
      "[I 2023-11-16 15:11:39,008] Trial 57 finished with value: 5.019667009779621 and parameters: {'n_estimators': 470, 'max_depth': 100, 'num_leaves': 45, 'learning_rate': 0.101}. Best is trial 31 with value: 4.9954034446020925.\n"
     ]
    },
    {
     "name": "stdout",
     "output_type": "stream",
     "text": [
      "5.019667009779621\n"
     ]
    },
    {
     "name": "stderr",
     "output_type": "stream",
     "text": [
      "[I 2023-11-16 15:11:41,735] Trial 58 finished with value: 5.004551723925286 and parameters: {'n_estimators': 380, 'max_depth': 45, 'num_leaves': 30, 'learning_rate': 0.07100000000000001}. Best is trial 31 with value: 4.9954034446020925.\n"
     ]
    },
    {
     "name": "stdout",
     "output_type": "stream",
     "text": [
      "5.004551723925286\n"
     ]
    },
    {
     "name": "stderr",
     "output_type": "stream",
     "text": [
      "[I 2023-11-16 15:11:45,759] Trial 59 finished with value: 4.997410333203875 and parameters: {'n_estimators': 310, 'max_depth': 70, 'num_leaves': 65, 'learning_rate': 0.051000000000000004}. Best is trial 31 with value: 4.9954034446020925.\n"
     ]
    },
    {
     "name": "stdout",
     "output_type": "stream",
     "text": [
      "4.997410333203875\n"
     ]
    },
    {
     "name": "stderr",
     "output_type": "stream",
     "text": [
      "[I 2023-11-16 15:11:52,250] Trial 60 finished with value: 4.997487932631064 and parameters: {'n_estimators': 550, 'max_depth': 55, 'num_leaves': 55, 'learning_rate': 0.021}. Best is trial 31 with value: 4.9954034446020925.\n"
     ]
    },
    {
     "name": "stdout",
     "output_type": "stream",
     "text": [
      "4.997487932631064\n"
     ]
    },
    {
     "name": "stderr",
     "output_type": "stream",
     "text": [
      "[I 2023-11-16 15:11:57,072] Trial 61 finished with value: 4.997410333203875 and parameters: {'n_estimators': 310, 'max_depth': 85, 'num_leaves': 65, 'learning_rate': 0.051000000000000004}. Best is trial 31 with value: 4.9954034446020925.\n"
     ]
    },
    {
     "name": "stdout",
     "output_type": "stream",
     "text": [
      "4.997410333203875\n"
     ]
    },
    {
     "name": "stderr",
     "output_type": "stream",
     "text": [
      "[I 2023-11-16 15:12:03,126] Trial 62 finished with value: 4.995478069156478 and parameters: {'n_estimators': 360, 'max_depth': 70, 'num_leaves': 70, 'learning_rate': 0.031}. Best is trial 31 with value: 4.9954034446020925.\n"
     ]
    },
    {
     "name": "stdout",
     "output_type": "stream",
     "text": [
      "4.995478069156478\n"
     ]
    },
    {
     "name": "stderr",
     "output_type": "stream",
     "text": [
      "[I 2023-11-16 15:12:08,661] Trial 63 finished with value: 4.993063413342367 and parameters: {'n_estimators': 410, 'max_depth': 75, 'num_leaves': 75, 'learning_rate': 0.031}. Best is trial 63 with value: 4.993063413342367.\n"
     ]
    },
    {
     "name": "stdout",
     "output_type": "stream",
     "text": [
      "4.993063413342367\n"
     ]
    },
    {
     "name": "stderr",
     "output_type": "stream",
     "text": [
      "[I 2023-11-16 15:12:15,260] Trial 64 finished with value: 5.03264522901298 and parameters: {'n_estimators': 430, 'max_depth': 80, 'num_leaves': 75, 'learning_rate': 0.011}. Best is trial 63 with value: 4.993063413342367.\n"
     ]
    },
    {
     "name": "stdout",
     "output_type": "stream",
     "text": [
      "5.03264522901298\n"
     ]
    },
    {
     "name": "stderr",
     "output_type": "stream",
     "text": [
      "[I 2023-11-16 15:12:21,166] Trial 65 finished with value: 4.996693345183939 and parameters: {'n_estimators': 370, 'max_depth': 75, 'num_leaves': 85, 'learning_rate': 0.031}. Best is trial 63 with value: 4.993063413342367.\n"
     ]
    },
    {
     "name": "stdout",
     "output_type": "stream",
     "text": [
      "4.996693345183939\n"
     ]
    },
    {
     "name": "stderr",
     "output_type": "stream",
     "text": [
      "[I 2023-11-16 15:12:26,866] Trial 66 finished with value: 5.000583786958975 and parameters: {'n_estimators': 360, 'max_depth': 75, 'num_leaves': 85, 'learning_rate': 0.021}. Best is trial 63 with value: 4.993063413342367.\n"
     ]
    },
    {
     "name": "stdout",
     "output_type": "stream",
     "text": [
      "5.000583786958975\n"
     ]
    },
    {
     "name": "stderr",
     "output_type": "stream",
     "text": [
      "[I 2023-11-16 15:12:34,756] Trial 67 finished with value: 5.001911823585674 and parameters: {'n_estimators': 490, 'max_depth': 70, 'num_leaves': 95, 'learning_rate': 0.031}. Best is trial 63 with value: 4.993063413342367.\n"
     ]
    },
    {
     "name": "stdout",
     "output_type": "stream",
     "text": [
      "5.001911823585674\n"
     ]
    },
    {
     "name": "stderr",
     "output_type": "stream",
     "text": [
      "[I 2023-11-16 15:12:39,722] Trial 68 finished with value: 5.00605006760768 and parameters: {'n_estimators': 370, 'max_depth': 65, 'num_leaves': 80, 'learning_rate': 0.061}. Best is trial 63 with value: 4.993063413342367.\n"
     ]
    },
    {
     "name": "stdout",
     "output_type": "stream",
     "text": [
      "5.00605006760768\n"
     ]
    },
    {
     "name": "stderr",
     "output_type": "stream",
     "text": [
      "[I 2023-11-16 15:12:44,143] Trial 69 finished with value: 9.414044324675544 and parameters: {'n_estimators': 240, 'max_depth': 55, 'num_leaves': 85, 'learning_rate': 0.001}. Best is trial 63 with value: 4.993063413342367.\n"
     ]
    },
    {
     "name": "stdout",
     "output_type": "stream",
     "text": [
      "9.414044324675544\n"
     ]
    },
    {
     "name": "stderr",
     "output_type": "stream",
     "text": [
      "[I 2023-11-16 15:12:50,407] Trial 70 finished with value: 4.994699305948416 and parameters: {'n_estimators': 450, 'max_depth': 60, 'num_leaves': 70, 'learning_rate': 0.031}. Best is trial 63 with value: 4.993063413342367.\n"
     ]
    },
    {
     "name": "stdout",
     "output_type": "stream",
     "text": [
      "4.994699305948416\n"
     ]
    },
    {
     "name": "stderr",
     "output_type": "stream",
     "text": [
      "[I 2023-11-16 15:12:56,080] Trial 71 finished with value: 4.994699305948416 and parameters: {'n_estimators': 450, 'max_depth': 60, 'num_leaves': 70, 'learning_rate': 0.031}. Best is trial 63 with value: 4.993063413342367.\n"
     ]
    },
    {
     "name": "stdout",
     "output_type": "stream",
     "text": [
      "4.994699305948416\n"
     ]
    },
    {
     "name": "stderr",
     "output_type": "stream",
     "text": [
      "[I 2023-11-16 15:13:02,276] Trial 72 finished with value: 4.993571248840025 and parameters: {'n_estimators': 470, 'max_depth': 60, 'num_leaves': 75, 'learning_rate': 0.031}. Best is trial 63 with value: 4.993063413342367.\n"
     ]
    },
    {
     "name": "stdout",
     "output_type": "stream",
     "text": [
      "4.993571248840025\n"
     ]
    },
    {
     "name": "stderr",
     "output_type": "stream",
     "text": [
      "[I 2023-11-16 15:13:08,757] Trial 73 finished with value: 4.994488570991519 and parameters: {'n_estimators': 460, 'max_depth': 70, 'num_leaves': 70, 'learning_rate': 0.031}. Best is trial 63 with value: 4.993063413342367.\n"
     ]
    },
    {
     "name": "stdout",
     "output_type": "stream",
     "text": [
      "4.994488570991519\n"
     ]
    },
    {
     "name": "stderr",
     "output_type": "stream",
     "text": [
      "[I 2023-11-16 15:13:16,167] Trial 74 finished with value: 5.02285283927065 and parameters: {'n_estimators': 470, 'max_depth': 60, 'num_leaves': 75, 'learning_rate': 0.011}. Best is trial 63 with value: 4.993063413342367.\n"
     ]
    },
    {
     "name": "stdout",
     "output_type": "stream",
     "text": [
      "5.02285283927065\n"
     ]
    },
    {
     "name": "stderr",
     "output_type": "stream",
     "text": [
      "[I 2023-11-16 15:13:23,790] Trial 75 finished with value: 4.996331400973551 and parameters: {'n_estimators': 510, 'max_depth': 60, 'num_leaves': 70, 'learning_rate': 0.021}. Best is trial 63 with value: 4.993063413342367.\n"
     ]
    },
    {
     "name": "stdout",
     "output_type": "stream",
     "text": [
      "4.996331400973551\n"
     ]
    },
    {
     "name": "stderr",
     "output_type": "stream",
     "text": [
      "[I 2023-11-16 15:13:29,957] Trial 76 finished with value: 4.99898362898764 and parameters: {'n_estimators': 440, 'max_depth': 65, 'num_leaves': 80, 'learning_rate': 0.031}. Best is trial 63 with value: 4.993063413342367.\n"
     ]
    },
    {
     "name": "stdout",
     "output_type": "stream",
     "text": [
      "4.99898362898764\n"
     ]
    },
    {
     "name": "stderr",
     "output_type": "stream",
     "text": [
      "[I 2023-11-16 15:13:39,849] Trial 77 finished with value: 7.574377548296999 and parameters: {'n_estimators': 600, 'max_depth': 70, 'num_leaves': 70, 'learning_rate': 0.001}. Best is trial 63 with value: 4.993063413342367.\n"
     ]
    },
    {
     "name": "stdout",
     "output_type": "stream",
     "text": [
      "7.574377548296999\n"
     ]
    },
    {
     "name": "stderr",
     "output_type": "stream",
     "text": [
      "[I 2023-11-16 15:13:45,382] Trial 78 finished with value: 5.110996759907402 and parameters: {'n_estimators': 540, 'max_depth': 60, 'num_leaves': 70, 'learning_rate': 0.14100000000000001}. Best is trial 63 with value: 4.993063413342367.\n"
     ]
    },
    {
     "name": "stdout",
     "output_type": "stream",
     "text": [
      "5.110996759907402\n"
     ]
    },
    {
     "name": "stderr",
     "output_type": "stream",
     "text": [
      "[I 2023-11-16 15:13:52,006] Trial 79 finished with value: 4.9982338899409084 and parameters: {'n_estimators': 450, 'max_depth': 55, 'num_leaves': 75, 'learning_rate': 0.021}. Best is trial 63 with value: 4.993063413342367.\n"
     ]
    },
    {
     "name": "stdout",
     "output_type": "stream",
     "text": [
      "4.9982338899409084\n"
     ]
    },
    {
     "name": "stderr",
     "output_type": "stream",
     "text": [
      "[I 2023-11-16 15:13:59,983] Trial 80 finished with value: 5.00771928513938 and parameters: {'n_estimators': 480, 'max_depth': 65, 'num_leaves': 90, 'learning_rate': 0.041}. Best is trial 63 with value: 4.993063413342367.\n"
     ]
    },
    {
     "name": "stdout",
     "output_type": "stream",
     "text": [
      "5.00771928513938\n"
     ]
    },
    {
     "name": "stderr",
     "output_type": "stream",
     "text": [
      "[I 2023-11-16 15:14:06,855] Trial 81 finished with value: 4.995998243888623 and parameters: {'n_estimators': 520, 'max_depth': 60, 'num_leaves': 70, 'learning_rate': 0.021}. Best is trial 63 with value: 4.993063413342367.\n"
     ]
    },
    {
     "name": "stdout",
     "output_type": "stream",
     "text": [
      "4.995998243888623\n"
     ]
    },
    {
     "name": "stderr",
     "output_type": "stream",
     "text": [
      "[I 2023-11-16 15:14:14,227] Trial 82 finished with value: 5.0202865116584094 and parameters: {'n_estimators': 510, 'max_depth': 50, 'num_leaves': 65, 'learning_rate': 0.011}. Best is trial 63 with value: 4.993063413342367.\n"
     ]
    },
    {
     "name": "stdout",
     "output_type": "stream",
     "text": [
      "5.0202865116584094\n"
     ]
    },
    {
     "name": "stderr",
     "output_type": "stream",
     "text": [
      "[I 2023-11-16 15:14:18,919] Trial 83 finished with value: 4.996337868921765 and parameters: {'n_estimators': 340, 'max_depth': 70, 'num_leaves': 70, 'learning_rate': 0.031}. Best is trial 63 with value: 4.993063413342367.\n"
     ]
    },
    {
     "name": "stdout",
     "output_type": "stream",
     "text": [
      "4.996337868921765\n"
     ]
    },
    {
     "name": "stderr",
     "output_type": "stream",
     "text": [
      "[I 2023-11-16 15:14:24,340] Trial 84 finished with value: 4.998980237171249 and parameters: {'n_estimators': 400, 'max_depth': 60, 'num_leaves': 75, 'learning_rate': 0.041}. Best is trial 63 with value: 4.993063413342367.\n"
     ]
    },
    {
     "name": "stdout",
     "output_type": "stream",
     "text": [
      "4.998980237171249\n"
     ]
    },
    {
     "name": "stderr",
     "output_type": "stream",
     "text": [
      "[I 2023-11-16 15:14:30,914] Trial 85 finished with value: 4.994705488849077 and parameters: {'n_estimators': 560, 'max_depth': 55, 'num_leaves': 60, 'learning_rate': 0.021}. Best is trial 63 with value: 4.993063413342367.\n"
     ]
    },
    {
     "name": "stdout",
     "output_type": "stream",
     "text": [
      "4.994705488849077\n"
     ]
    },
    {
     "name": "stderr",
     "output_type": "stream",
     "text": [
      "[I 2023-11-16 15:14:37,585] Trial 86 finished with value: 5.0066340359745505 and parameters: {'n_estimators': 670, 'max_depth': 55, 'num_leaves': 60, 'learning_rate': 0.051000000000000004}. Best is trial 63 with value: 4.993063413342367.\n"
     ]
    },
    {
     "name": "stdout",
     "output_type": "stream",
     "text": [
      "5.0066340359745505\n"
     ]
    },
    {
     "name": "stderr",
     "output_type": "stream",
     "text": [
      "[I 2023-11-16 15:14:44,924] Trial 87 finished with value: 8.288113043737468 and parameters: {'n_estimators': 440, 'max_depth': 45, 'num_leaves': 65, 'learning_rate': 0.001}. Best is trial 63 with value: 4.993063413342367.\n"
     ]
    },
    {
     "name": "stdout",
     "output_type": "stream",
     "text": [
      "8.288113043737468\n"
     ]
    },
    {
     "name": "stderr",
     "output_type": "stream",
     "text": [
      "[I 2023-11-16 15:14:49,794] Trial 88 finished with value: 4.998523677557562 and parameters: {'n_estimators': 410, 'max_depth': 50, 'num_leaves': 60, 'learning_rate': 0.031}. Best is trial 63 with value: 4.993063413342367.\n"
     ]
    },
    {
     "name": "stdout",
     "output_type": "stream",
     "text": [
      "4.998523677557562\n"
     ]
    },
    {
     "name": "stderr",
     "output_type": "stream",
     "text": [
      "[I 2023-11-16 15:14:56,750] Trial 89 finished with value: 5.005467902103015 and parameters: {'n_estimators': 560, 'max_depth': 65, 'num_leaves': 75, 'learning_rate': 0.041}. Best is trial 63 with value: 4.993063413342367.\n"
     ]
    },
    {
     "name": "stdout",
     "output_type": "stream",
     "text": [
      "5.005467902103015\n"
     ]
    },
    {
     "name": "stderr",
     "output_type": "stream",
     "text": [
      "[I 2023-11-16 15:15:06,332] Trial 90 finished with value: 5.005212174420123 and parameters: {'n_estimators': 610, 'max_depth': 65, 'num_leaves': 80, 'learning_rate': 0.011}. Best is trial 63 with value: 4.993063413342367.\n"
     ]
    },
    {
     "name": "stdout",
     "output_type": "stream",
     "text": [
      "5.005212174420123\n"
     ]
    },
    {
     "name": "stderr",
     "output_type": "stream",
     "text": [
      "[I 2023-11-16 15:15:13,547] Trial 91 finished with value: 4.995688800220737 and parameters: {'n_estimators': 530, 'max_depth': 60, 'num_leaves': 70, 'learning_rate': 0.021}. Best is trial 63 with value: 4.993063413342367.\n"
     ]
    },
    {
     "name": "stdout",
     "output_type": "stream",
     "text": [
      "4.995688800220737\n"
     ]
    },
    {
     "name": "stderr",
     "output_type": "stream",
     "text": [
      "[I 2023-11-16 15:15:19,746] Trial 92 finished with value: 4.996119452004707 and parameters: {'n_estimators': 490, 'max_depth': 55, 'num_leaves': 65, 'learning_rate': 0.031}. Best is trial 63 with value: 4.993063413342367.\n"
     ]
    },
    {
     "name": "stdout",
     "output_type": "stream",
     "text": [
      "4.996119452004707\n"
     ]
    },
    {
     "name": "stderr",
     "output_type": "stream",
     "text": [
      "[I 2023-11-16 15:15:26,302] Trial 93 finished with value: 4.997934301721635 and parameters: {'n_estimators': 460, 'max_depth': 75, 'num_leaves': 75, 'learning_rate': 0.021}. Best is trial 63 with value: 4.993063413342367.\n"
     ]
    },
    {
     "name": "stdout",
     "output_type": "stream",
     "text": [
      "4.997934301721635\n"
     ]
    },
    {
     "name": "stderr",
     "output_type": "stream",
     "text": [
      "[I 2023-11-16 15:15:34,720] Trial 94 finished with value: 5.012487820263603 and parameters: {'n_estimators': 560, 'max_depth': 70, 'num_leaves': 70, 'learning_rate': 0.011}. Best is trial 63 with value: 4.993063413342367.\n"
     ]
    },
    {
     "name": "stdout",
     "output_type": "stream",
     "text": [
      "5.012487820263603\n"
     ]
    },
    {
     "name": "stderr",
     "output_type": "stream",
     "text": [
      "[I 2023-11-16 15:15:39,038] Trial 95 finished with value: 5.0032692200651425 and parameters: {'n_estimators': 390, 'max_depth': 50, 'num_leaves': 60, 'learning_rate': 0.061}. Best is trial 63 with value: 4.993063413342367.\n"
     ]
    },
    {
     "name": "stdout",
     "output_type": "stream",
     "text": [
      "5.0032692200651425\n"
     ]
    },
    {
     "name": "stderr",
     "output_type": "stream",
     "text": [
      "[I 2023-11-16 15:15:45,425] Trial 96 finished with value: 4.999886255379277 and parameters: {'n_estimators': 630, 'max_depth': 40, 'num_leaves': 55, 'learning_rate': 0.051000000000000004}. Best is trial 63 with value: 4.993063413342367.\n"
     ]
    },
    {
     "name": "stdout",
     "output_type": "stream",
     "text": [
      "4.999886255379277\n"
     ]
    },
    {
     "name": "stderr",
     "output_type": "stream",
     "text": [
      "[I 2023-11-16 15:15:51,259] Trial 97 finished with value: 5.000437784888029 and parameters: {'n_estimators': 430, 'max_depth': 45, 'num_leaves': 80, 'learning_rate': 0.041}. Best is trial 63 with value: 4.993063413342367.\n"
     ]
    },
    {
     "name": "stdout",
     "output_type": "stream",
     "text": [
      "5.000437784888029\n"
     ]
    },
    {
     "name": "stderr",
     "output_type": "stream",
     "text": [
      "[I 2023-11-16 15:15:56,171] Trial 98 finished with value: 5.016145497925289 and parameters: {'n_estimators': 280, 'max_depth': 60, 'num_leaves': 65, 'learning_rate': 0.021}. Best is trial 63 with value: 4.993063413342367.\n"
     ]
    },
    {
     "name": "stdout",
     "output_type": "stream",
     "text": [
      "5.016145497925289\n"
     ]
    },
    {
     "name": "stderr",
     "output_type": "stream",
     "text": [
      "[I 2023-11-16 15:16:08,402] Trial 99 finished with value: 5.008555400246096 and parameters: {'n_estimators': 960, 'max_depth': 80, 'num_leaves': 75, 'learning_rate': 0.031}. Best is trial 63 with value: 4.993063413342367.\n"
     ]
    },
    {
     "name": "stdout",
     "output_type": "stream",
     "text": [
      "5.008555400246096\n"
     ]
    },
    {
     "name": "stderr",
     "output_type": "stream",
     "text": [
      "[I 2023-11-16 15:16:15,406] Trial 100 finished with value: 4.995267912124899 and parameters: {'n_estimators': 530, 'max_depth': 55, 'num_leaves': 65, 'learning_rate': 0.021}. Best is trial 63 with value: 4.993063413342367.\n"
     ]
    },
    {
     "name": "stdout",
     "output_type": "stream",
     "text": [
      "4.995267912124899\n"
     ]
    },
    {
     "name": "stderr",
     "output_type": "stream",
     "text": [
      "[I 2023-11-16 15:16:22,019] Trial 101 finished with value: 4.997513137909137 and parameters: {'n_estimators': 470, 'max_depth': 55, 'num_leaves': 65, 'learning_rate': 0.021}. Best is trial 63 with value: 4.993063413342367.\n"
     ]
    },
    {
     "name": "stdout",
     "output_type": "stream",
     "text": [
      "4.997513137909137\n"
     ]
    },
    {
     "name": "stderr",
     "output_type": "stream",
     "text": [
      "[I 2023-11-16 15:16:28,952] Trial 102 finished with value: 4.99968732531883 and parameters: {'n_estimators': 530, 'max_depth': 65, 'num_leaves': 70, 'learning_rate': 0.041}. Best is trial 63 with value: 4.993063413342367.\n"
     ]
    },
    {
     "name": "stdout",
     "output_type": "stream",
     "text": [
      "4.99968732531883\n"
     ]
    },
    {
     "name": "stderr",
     "output_type": "stream",
     "text": [
      "[I 2023-11-16 15:16:38,604] Trial 103 finished with value: 5.012414535526072 and parameters: {'n_estimators': 580, 'max_depth': 60, 'num_leaves': 60, 'learning_rate': 0.011}. Best is trial 63 with value: 4.993063413342367.\n"
     ]
    },
    {
     "name": "stdout",
     "output_type": "stream",
     "text": [
      "5.012414535526072\n"
     ]
    },
    {
     "name": "stderr",
     "output_type": "stream",
     "text": [
      "[I 2023-11-16 15:16:48,561] Trial 104 finished with value: 7.999082798912084 and parameters: {'n_estimators': 500, 'max_depth': 55, 'num_leaves': 70, 'learning_rate': 0.001}. Best is trial 63 with value: 4.993063413342367.\n"
     ]
    },
    {
     "name": "stdout",
     "output_type": "stream",
     "text": [
      "7.999082798912084\n"
     ]
    },
    {
     "name": "stderr",
     "output_type": "stream",
     "text": [
      "[I 2023-11-16 15:16:54,506] Trial 105 finished with value: 4.998523677557562 and parameters: {'n_estimators': 410, 'max_depth': 50, 'num_leaves': 60, 'learning_rate': 0.031}. Best is trial 63 with value: 4.993063413342367.\n"
     ]
    },
    {
     "name": "stdout",
     "output_type": "stream",
     "text": [
      "4.998523677557562\n"
     ]
    },
    {
     "name": "stderr",
     "output_type": "stream",
     "text": [
      "[I 2023-11-16 15:16:59,605] Trial 106 finished with value: 4.997405297300882 and parameters: {'n_estimators': 360, 'max_depth': 70, 'num_leaves': 65, 'learning_rate': 0.051000000000000004}. Best is trial 63 with value: 4.993063413342367.\n"
     ]
    },
    {
     "name": "stdout",
     "output_type": "stream",
     "text": [
      "4.997405297300882\n"
     ]
    },
    {
     "name": "stderr",
     "output_type": "stream",
     "text": [
      "[I 2023-11-16 15:17:08,141] Trial 107 finished with value: 4.996148469514839 and parameters: {'n_estimators': 670, 'max_depth': 65, 'num_leaves': 55, 'learning_rate': 0.031}. Best is trial 63 with value: 4.993063413342367.\n"
     ]
    },
    {
     "name": "stdout",
     "output_type": "stream",
     "text": [
      "4.996148469514839\n"
     ]
    },
    {
     "name": "stderr",
     "output_type": "stream",
     "text": [
      "[I 2023-11-16 15:17:16,715] Trial 108 finished with value: 5.000410251496236 and parameters: {'n_estimators': 770, 'max_depth': 35, 'num_leaves': 50, 'learning_rate': 0.041}. Best is trial 63 with value: 4.993063413342367.\n"
     ]
    },
    {
     "name": "stdout",
     "output_type": "stream",
     "text": [
      "5.000410251496236\n"
     ]
    },
    {
     "name": "stderr",
     "output_type": "stream",
     "text": [
      "[I 2023-11-16 15:17:25,776] Trial 109 finished with value: 4.9961264344466 and parameters: {'n_estimators': 540, 'max_depth': 55, 'num_leaves': 75, 'learning_rate': 0.021}. Best is trial 63 with value: 4.993063413342367.\n"
     ]
    },
    {
     "name": "stdout",
     "output_type": "stream",
     "text": [
      "4.9961264344466\n"
     ]
    },
    {
     "name": "stderr",
     "output_type": "stream",
     "text": [
      "[I 2023-11-16 15:17:33,265] Trial 110 finished with value: 5.029626523534514 and parameters: {'n_estimators': 450, 'max_depth': 50, 'num_leaves': 70, 'learning_rate': 0.011}. Best is trial 63 with value: 4.993063413342367.\n"
     ]
    },
    {
     "name": "stdout",
     "output_type": "stream",
     "text": [
      "5.029626523534514\n"
     ]
    },
    {
     "name": "stderr",
     "output_type": "stream",
     "text": [
      "[I 2023-11-16 15:17:41,569] Trial 111 finished with value: 4.996331400973551 and parameters: {'n_estimators': 510, 'max_depth': 60, 'num_leaves': 70, 'learning_rate': 0.021}. Best is trial 63 with value: 4.993063413342367.\n"
     ]
    },
    {
     "name": "stdout",
     "output_type": "stream",
     "text": [
      "4.996331400973551\n"
     ]
    },
    {
     "name": "stderr",
     "output_type": "stream",
     "text": [
      "[I 2023-11-16 15:17:48,326] Trial 112 finished with value: 4.99725216570211 and parameters: {'n_estimators': 480, 'max_depth': 60, 'num_leaves': 65, 'learning_rate': 0.021}. Best is trial 63 with value: 4.993063413342367.\n"
     ]
    },
    {
     "name": "stdout",
     "output_type": "stream",
     "text": [
      "4.99725216570211\n"
     ]
    },
    {
     "name": "stderr",
     "output_type": "stream",
     "text": [
      "[I 2023-11-16 15:17:55,362] Trial 113 finished with value: 4.994848305484856 and parameters: {'n_estimators': 430, 'max_depth': 60, 'num_leaves': 70, 'learning_rate': 0.031}. Best is trial 63 with value: 4.993063413342367.\n"
     ]
    },
    {
     "name": "stdout",
     "output_type": "stream",
     "text": [
      "4.994848305484856\n"
     ]
    },
    {
     "name": "stderr",
     "output_type": "stream",
     "text": [
      "[I 2023-11-16 15:18:00,576] Trial 114 finished with value: 5.183448988214052 and parameters: {'n_estimators': 430, 'max_depth': 65, 'num_leaves': 75, 'learning_rate': 0.221}. Best is trial 63 with value: 4.993063413342367.\n"
     ]
    },
    {
     "name": "stdout",
     "output_type": "stream",
     "text": [
      "5.183448988214052\n"
     ]
    },
    {
     "name": "stderr",
     "output_type": "stream",
     "text": [
      "[I 2023-11-16 15:18:03,767] Trial 115 finished with value: 5.041290264901448 and parameters: {'n_estimators': 390, 'max_depth': 5, 'num_leaves': 80, 'learning_rate': 0.031}. Best is trial 63 with value: 4.993063413342367.\n"
     ]
    },
    {
     "name": "stdout",
     "output_type": "stream",
     "text": [
      "5.041290264901448\n"
     ]
    },
    {
     "name": "stderr",
     "output_type": "stream",
     "text": [
      "[I 2023-11-16 15:18:08,294] Trial 116 finished with value: 4.996478478267447 and parameters: {'n_estimators': 340, 'max_depth': 55, 'num_leaves': 60, 'learning_rate': 0.041}. Best is trial 63 with value: 4.993063413342367.\n"
     ]
    },
    {
     "name": "stdout",
     "output_type": "stream",
     "text": [
      "4.996478478267447\n"
     ]
    },
    {
     "name": "stderr",
     "output_type": "stream",
     "text": [
      "[I 2023-11-16 15:18:13,542] Trial 117 finished with value: 5.126544564660636 and parameters: {'n_estimators': 460, 'max_depth': 45, 'num_leaves': 65, 'learning_rate': 0.181}. Best is trial 63 with value: 4.993063413342367.\n"
     ]
    },
    {
     "name": "stdout",
     "output_type": "stream",
     "text": [
      "5.126544564660636\n"
     ]
    },
    {
     "name": "stderr",
     "output_type": "stream",
     "text": [
      "[I 2023-11-16 15:18:19,678] Trial 118 finished with value: 5.002150159016157 and parameters: {'n_estimators': 420, 'max_depth': 75, 'num_leaves': 70, 'learning_rate': 0.051000000000000004}. Best is trial 63 with value: 4.993063413342367.\n"
     ]
    },
    {
     "name": "stdout",
     "output_type": "stream",
     "text": [
      "5.002150159016157\n"
     ]
    },
    {
     "name": "stderr",
     "output_type": "stream",
     "text": [
      "[I 2023-11-16 15:18:27,705] Trial 119 finished with value: 4.999354396001829 and parameters: {'n_estimators': 490, 'max_depth': 70, 'num_leaves': 80, 'learning_rate': 0.031}. Best is trial 63 with value: 4.993063413342367.\n"
     ]
    },
    {
     "name": "stdout",
     "output_type": "stream",
     "text": [
      "4.999354396001829\n"
     ]
    },
    {
     "name": "stderr",
     "output_type": "stream",
     "text": [
      "[I 2023-11-16 15:18:32,483] Trial 120 finished with value: 5.007427308664466 and parameters: {'n_estimators': 370, 'max_depth': 60, 'num_leaves': 75, 'learning_rate': 0.061}. Best is trial 63 with value: 4.993063413342367.\n"
     ]
    },
    {
     "name": "stdout",
     "output_type": "stream",
     "text": [
      "5.007427308664466\n"
     ]
    },
    {
     "name": "stderr",
     "output_type": "stream",
     "text": [
      "[I 2023-11-16 15:18:41,547] Trial 121 finished with value: 4.996331400973551 and parameters: {'n_estimators': 510, 'max_depth': 60, 'num_leaves': 70, 'learning_rate': 0.021}. Best is trial 63 with value: 4.993063413342367.\n"
     ]
    },
    {
     "name": "stdout",
     "output_type": "stream",
     "text": [
      "4.996331400973551\n"
     ]
    },
    {
     "name": "stderr",
     "output_type": "stream",
     "text": [
      "[I 2023-11-16 15:18:50,415] Trial 122 finished with value: 5.015676289061463 and parameters: {'n_estimators': 530, 'max_depth': 65, 'num_leaves': 70, 'learning_rate': 0.011}. Best is trial 63 with value: 4.993063413342367.\n"
     ]
    },
    {
     "name": "stdout",
     "output_type": "stream",
     "text": [
      "5.015676289061463\n"
     ]
    },
    {
     "name": "stderr",
     "output_type": "stream",
     "text": [
      "[I 2023-11-16 15:18:58,365] Trial 123 finished with value: 4.9950366147326 and parameters: {'n_estimators': 550, 'max_depth': 55, 'num_leaves': 65, 'learning_rate': 0.021}. Best is trial 63 with value: 4.993063413342367.\n"
     ]
    },
    {
     "name": "stdout",
     "output_type": "stream",
     "text": [
      "4.9950366147326\n"
     ]
    },
    {
     "name": "stderr",
     "output_type": "stream",
     "text": [
      "[I 2023-11-16 15:19:05,357] Trial 124 finished with value: 5.0025046291741795 and parameters: {'n_estimators': 570, 'max_depth': 55, 'num_leaves': 65, 'learning_rate': 0.041}. Best is trial 63 with value: 4.993063413342367.\n"
     ]
    },
    {
     "name": "stdout",
     "output_type": "stream",
     "text": [
      "5.0025046291741795\n"
     ]
    },
    {
     "name": "stderr",
     "output_type": "stream",
     "text": [
      "[I 2023-11-16 15:19:13,017] Trial 125 finished with value: 4.99518209762279 and parameters: {'n_estimators': 630, 'max_depth': 50, 'num_leaves': 55, 'learning_rate': 0.031}. Best is trial 63 with value: 4.993063413342367.\n"
     ]
    },
    {
     "name": "stdout",
     "output_type": "stream",
     "text": [
      "4.99518209762279\n"
     ]
    },
    {
     "name": "stderr",
     "output_type": "stream",
     "text": [
      "[I 2023-11-16 15:19:20,401] Trial 126 finished with value: 4.99505752177947 and parameters: {'n_estimators': 620, 'max_depth': 50, 'num_leaves': 55, 'learning_rate': 0.031}. Best is trial 63 with value: 4.993063413342367.\n"
     ]
    },
    {
     "name": "stdout",
     "output_type": "stream",
     "text": [
      "4.99505752177947\n"
     ]
    },
    {
     "name": "stderr",
     "output_type": "stream",
     "text": [
      "[I 2023-11-16 15:19:28,045] Trial 127 finished with value: 4.9946799176504655 and parameters: {'n_estimators': 680, 'max_depth': 50, 'num_leaves': 50, 'learning_rate': 0.031}. Best is trial 63 with value: 4.993063413342367.\n"
     ]
    },
    {
     "name": "stdout",
     "output_type": "stream",
     "text": [
      "4.9946799176504655\n"
     ]
    },
    {
     "name": "stderr",
     "output_type": "stream",
     "text": [
      "[I 2023-11-16 15:19:35,194] Trial 128 finished with value: 4.994563105336467 and parameters: {'n_estimators': 700, 'max_depth': 50, 'num_leaves': 50, 'learning_rate': 0.031}. Best is trial 63 with value: 4.993063413342367.\n"
     ]
    },
    {
     "name": "stdout",
     "output_type": "stream",
     "text": [
      "4.994563105336467\n"
     ]
    },
    {
     "name": "stderr",
     "output_type": "stream",
     "text": [
      "[I 2023-11-16 15:19:42,416] Trial 129 finished with value: 4.996516306601292 and parameters: {'n_estimators': 710, 'max_depth': 50, 'num_leaves': 55, 'learning_rate': 0.031}. Best is trial 63 with value: 4.993063413342367.\n"
     ]
    },
    {
     "name": "stdout",
     "output_type": "stream",
     "text": [
      "4.996516306601292\n"
     ]
    },
    {
     "name": "stderr",
     "output_type": "stream",
     "text": [
      "[I 2023-11-16 15:19:48,127] Trial 130 finished with value: 5.109375009681973 and parameters: {'n_estimators': 650, 'max_depth': 50, 'num_leaves': 50, 'learning_rate': 0.161}. Best is trial 63 with value: 4.993063413342367.\n"
     ]
    },
    {
     "name": "stdout",
     "output_type": "stream",
     "text": [
      "5.109375009681973\n"
     ]
    },
    {
     "name": "stderr",
     "output_type": "stream",
     "text": [
      "[I 2023-11-16 15:19:55,248] Trial 131 finished with value: 4.992749293764134 and parameters: {'n_estimators': 730, 'max_depth': 50, 'num_leaves': 45, 'learning_rate': 0.031}. Best is trial 131 with value: 4.992749293764134.\n"
     ]
    },
    {
     "name": "stdout",
     "output_type": "stream",
     "text": [
      "4.992749293764134\n"
     ]
    },
    {
     "name": "stderr",
     "output_type": "stream",
     "text": [
      "[I 2023-11-16 15:20:02,840] Trial 132 finished with value: 4.992725522432486 and parameters: {'n_estimators': 700, 'max_depth': 45, 'num_leaves': 45, 'learning_rate': 0.031}. Best is trial 132 with value: 4.992725522432486.\n"
     ]
    },
    {
     "name": "stdout",
     "output_type": "stream",
     "text": [
      "4.992725522432486\n"
     ]
    },
    {
     "name": "stderr",
     "output_type": "stream",
     "text": [
      "[I 2023-11-16 15:20:09,220] Trial 133 finished with value: 4.998900176541747 and parameters: {'n_estimators': 770, 'max_depth': 40, 'num_leaves': 45, 'learning_rate': 0.041}. Best is trial 132 with value: 4.992725522432486.\n"
     ]
    },
    {
     "name": "stdout",
     "output_type": "stream",
     "text": [
      "4.998900176541747\n"
     ]
    },
    {
     "name": "stderr",
     "output_type": "stream",
     "text": [
      "[I 2023-11-16 15:20:15,836] Trial 134 finished with value: 4.992749293764134 and parameters: {'n_estimators': 730, 'max_depth': 45, 'num_leaves': 45, 'learning_rate': 0.031}. Best is trial 132 with value: 4.992725522432486.\n"
     ]
    },
    {
     "name": "stdout",
     "output_type": "stream",
     "text": [
      "4.992749293764134\n"
     ]
    },
    {
     "name": "stderr",
     "output_type": "stream",
     "text": [
      "[I 2023-11-16 15:20:22,981] Trial 135 finished with value: 4.992733658726127 and parameters: {'n_estimators': 740, 'max_depth': 45, 'num_leaves': 45, 'learning_rate': 0.031}. Best is trial 132 with value: 4.992725522432486.\n"
     ]
    },
    {
     "name": "stdout",
     "output_type": "stream",
     "text": [
      "4.992733658726127\n"
     ]
    },
    {
     "name": "stderr",
     "output_type": "stream",
     "text": [
      "[I 2023-11-16 15:20:30,536] Trial 136 finished with value: 5.011465264780326 and parameters: {'n_estimators': 740, 'max_depth': 45, 'num_leaves': 45, 'learning_rate': 0.011}. Best is trial 132 with value: 4.992725522432486.\n"
     ]
    },
    {
     "name": "stdout",
     "output_type": "stream",
     "text": [
      "5.011465264780326\n"
     ]
    },
    {
     "name": "stderr",
     "output_type": "stream",
     "text": [
      "[I 2023-11-16 15:20:36,503] Trial 137 finished with value: 5.001007740525633 and parameters: {'n_estimators': 690, 'max_depth': 45, 'num_leaves': 40, 'learning_rate': 0.051000000000000004}. Best is trial 132 with value: 4.992725522432486.\n"
     ]
    },
    {
     "name": "stdout",
     "output_type": "stream",
     "text": [
      "5.001007740525633\n"
     ]
    },
    {
     "name": "stderr",
     "output_type": "stream",
     "text": [
      "[I 2023-11-16 15:20:43,845] Trial 138 finished with value: 5.000470385174488 and parameters: {'n_estimators': 840, 'max_depth': 40, 'num_leaves': 45, 'learning_rate': 0.041}. Best is trial 132 with value: 4.992725522432486.\n"
     ]
    },
    {
     "name": "stdout",
     "output_type": "stream",
     "text": [
      "5.000470385174488\n"
     ]
    },
    {
     "name": "stderr",
     "output_type": "stream",
     "text": [
      "[I 2023-11-16 15:20:50,430] Trial 139 finished with value: 4.998697006896636 and parameters: {'n_estimators': 750, 'max_depth': 40, 'num_leaves': 35, 'learning_rate': 0.031}. Best is trial 132 with value: 4.992725522432486.\n"
     ]
    },
    {
     "name": "stdout",
     "output_type": "stream",
     "text": [
      "4.998697006896636\n"
     ]
    },
    {
     "name": "stderr",
     "output_type": "stream",
     "text": [
      "[I 2023-11-16 15:20:57,850] Trial 140 finished with value: 4.994876520343809 and parameters: {'n_estimators': 810, 'max_depth': 45, 'num_leaves': 45, 'learning_rate': 0.021}. Best is trial 132 with value: 4.992725522432486.\n"
     ]
    },
    {
     "name": "stdout",
     "output_type": "stream",
     "text": [
      "4.994876520343809\n"
     ]
    },
    {
     "name": "stderr",
     "output_type": "stream",
     "text": [
      "[I 2023-11-16 15:21:05,603] Trial 141 finished with value: 4.995126765105168 and parameters: {'n_estimators': 790, 'max_depth': 45, 'num_leaves': 45, 'learning_rate': 0.021}. Best is trial 132 with value: 4.992725522432486.\n"
     ]
    },
    {
     "name": "stdout",
     "output_type": "stream",
     "text": [
      "4.995126765105168\n"
     ]
    },
    {
     "name": "stderr",
     "output_type": "stream",
     "text": [
      "[I 2023-11-16 15:21:13,175] Trial 142 finished with value: 4.995170684697612 and parameters: {'n_estimators': 820, 'max_depth': 45, 'num_leaves': 50, 'learning_rate': 0.031}. Best is trial 132 with value: 4.992725522432486.\n"
     ]
    },
    {
     "name": "stdout",
     "output_type": "stream",
     "text": [
      "4.995170684697612\n"
     ]
    },
    {
     "name": "stderr",
     "output_type": "stream",
     "text": [
      "[I 2023-11-16 15:21:22,029] Trial 143 finished with value: 5.010344973815257 and parameters: {'n_estimators': 690, 'max_depth': 35, 'num_leaves': 50, 'learning_rate': 0.011}. Best is trial 132 with value: 4.992725522432486.\n"
     ]
    },
    {
     "name": "stdout",
     "output_type": "stream",
     "text": [
      "5.010344973815257\n"
     ]
    },
    {
     "name": "stderr",
     "output_type": "stream",
     "text": [
      "[I 2023-11-16 15:21:27,948] Trial 144 finished with value: 4.995583755117427 and parameters: {'n_estimators': 730, 'max_depth': 45, 'num_leaves': 40, 'learning_rate': 0.031}. Best is trial 132 with value: 4.992725522432486.\n"
     ]
    },
    {
     "name": "stdout",
     "output_type": "stream",
     "text": [
      "4.995583755117427\n"
     ]
    },
    {
     "name": "stderr",
     "output_type": "stream",
     "text": [
      "[I 2023-11-16 15:21:35,478] Trial 145 finished with value: 5.0024793965182255 and parameters: {'n_estimators': 910, 'max_depth': 50, 'num_leaves': 45, 'learning_rate': 0.041}. Best is trial 132 with value: 4.992725522432486.\n"
     ]
    },
    {
     "name": "stdout",
     "output_type": "stream",
     "text": [
      "5.0024793965182255\n"
     ]
    },
    {
     "name": "stderr",
     "output_type": "stream",
     "text": [
      "[I 2023-11-16 15:21:41,321] Trial 146 finished with value: 5.077085799914672 and parameters: {'n_estimators': 700, 'max_depth': 40, 'num_leaves': 45, 'learning_rate': 0.131}. Best is trial 132 with value: 4.992725522432486.\n"
     ]
    },
    {
     "name": "stdout",
     "output_type": "stream",
     "text": [
      "5.077085799914672\n"
     ]
    },
    {
     "name": "stderr",
     "output_type": "stream",
     "text": [
      "[I 2023-11-16 15:21:49,359] Trial 147 finished with value: 4.9946348505044025 and parameters: {'n_estimators': 830, 'max_depth': 45, 'num_leaves': 50, 'learning_rate': 0.021}. Best is trial 132 with value: 4.992725522432486.\n"
     ]
    },
    {
     "name": "stdout",
     "output_type": "stream",
     "text": [
      "4.9946348505044025\n"
     ]
    },
    {
     "name": "stderr",
     "output_type": "stream",
     "text": [
      "[I 2023-11-16 15:21:58,688] Trial 148 finished with value: 4.994717923854844 and parameters: {'n_estimators': 820, 'max_depth': 45, 'num_leaves': 50, 'learning_rate': 0.021}. Best is trial 132 with value: 4.992725522432486.\n"
     ]
    },
    {
     "name": "stdout",
     "output_type": "stream",
     "text": [
      "4.994717923854844\n"
     ]
    },
    {
     "name": "stderr",
     "output_type": "stream",
     "text": [
      "[I 2023-11-16 15:22:06,067] Trial 149 finished with value: 5.014651804207731 and parameters: {'n_estimators': 840, 'max_depth': 45, 'num_leaves': 50, 'learning_rate': 0.051000000000000004}. Best is trial 132 with value: 4.992725522432486.\n"
     ]
    },
    {
     "name": "stdout",
     "output_type": "stream",
     "text": [
      "5.014651804207731\n",
      "{'n_estimators': 700, 'max_depth': 45, 'num_leaves': 45, 'learning_rate': 0.031}\n",
      "CPU times: total: 2h 29min 58s\n",
      "Wall time: 15min 2s\n"
     ]
    }
   ],
   "source": [
    "%%time\n",
    "features_train_valid = df1_train_features\n",
    "target_train_valid = df1_train_target['milk_yield_3']\n",
    "\n",
    "def obj(trial):\n",
    "    params = {'verbosity':-1\n",
    "              ,'n_estimators':trial.suggest_int('n_estimators',50,1000,step=10)\n",
    "             ,'max_depth':trial.suggest_int('max_depth',5,100,step=5)\n",
    "              ,'num_leaves':trial.suggest_int('num_leaves',5,105,step=5)\n",
    "              ,'learning_rate':trial.suggest_float('learning_rate',.001,.251,step=.01)\n",
    "              ,'random_state':RANDOM_STATE\n",
    "             }\n",
    "    model_lgm = LGBMRegressor(**params)\n",
    "    scores = cross_val_score(model_lgm,features_train_valid,target_train_valid,cv=4,scoring='neg_root_mean_squared_error')\n",
    "    final_score = abs(sum(scores)/len(scores))\n",
    "    print(final_score)\n",
    "    \n",
    "    return final_score\n",
    "\n",
    "study = optuna.create_study()\n",
    "study.optimize(obj,n_trials=150)\n",
    "print(study.best_params)"
   ]
  },
  {
   "cell_type": "markdown",
   "id": "bc02be2e",
   "metadata": {},
   "source": [
    "Подбираем параметры по полной выборке."
   ]
  },
  {
   "cell_type": "code",
   "execution_count": 50,
   "id": "ab191e02",
   "metadata": {},
   "outputs": [
    {
     "name": "stderr",
     "output_type": "stream",
     "text": [
      "C:\\Users\\Dmser\\AppData\\Local\\Temp\\ipykernel_15412\\1866508612.py:11: SettingWithCopyWarning: \n",
      "A value is trying to be set on a copy of a slice from a DataFrame.\n",
      "Try using .loc[row_indexer,col_indexer] = value instead\n",
      "\n",
      "See the caveats in the documentation: https://pandas.pydata.org/pandas-docs/stable/user_guide/indexing.html#returning-a-view-versus-a-copy\n",
      "  df2_temp[f'milk_yield_{i}'] = df2[f'milk_yield_{i}']\n",
      "[I 2023-11-16 15:38:47,232] A new study created in memory with name: no-name-241fc5f5-e30d-4b7d-b903-9f973c50005f\n",
      "[I 2023-11-16 15:38:52,184] Trial 0 finished with value: 5.792004000088657 and parameters: {'n_estimators': 270, 'max_depth': 10, 'num_leaves': 95, 'learning_rate': 0.221}. Best is trial 0 with value: 5.792004000088657.\n"
     ]
    },
    {
     "name": "stdout",
     "output_type": "stream",
     "text": [
      "5.792004000088657\n"
     ]
    },
    {
     "name": "stderr",
     "output_type": "stream",
     "text": [
      "[I 2023-11-16 15:38:59,071] Trial 1 finished with value: 8.950621691125104 and parameters: {'n_estimators': 340, 'max_depth': 45, 'num_leaves': 60, 'learning_rate': 0.001}. Best is trial 0 with value: 5.792004000088657.\n"
     ]
    },
    {
     "name": "stdout",
     "output_type": "stream",
     "text": [
      "8.950621691125104\n"
     ]
    },
    {
     "name": "stderr",
     "output_type": "stream",
     "text": [
      "[I 2023-11-16 15:39:03,682] Trial 2 finished with value: 5.754554775835001 and parameters: {'n_estimators': 520, 'max_depth': 10, 'num_leaves': 35, 'learning_rate': 0.201}. Best is trial 2 with value: 5.754554775835001.\n"
     ]
    },
    {
     "name": "stdout",
     "output_type": "stream",
     "text": [
      "5.754554775835001\n"
     ]
    },
    {
     "name": "stderr",
     "output_type": "stream",
     "text": [
      "[I 2023-11-16 15:39:05,114] Trial 3 finished with value: 5.649217230843869 and parameters: {'n_estimators': 60, 'max_depth': 65, 'num_leaves': 100, 'learning_rate': 0.191}. Best is trial 3 with value: 5.649217230843869.\n"
     ]
    },
    {
     "name": "stdout",
     "output_type": "stream",
     "text": [
      "5.649217230843869\n"
     ]
    },
    {
     "name": "stderr",
     "output_type": "stream",
     "text": [
      "[I 2023-11-16 15:39:14,596] Trial 4 finished with value: 5.934984085509159 and parameters: {'n_estimators': 620, 'max_depth': 20, 'num_leaves': 75, 'learning_rate': 0.231}. Best is trial 3 with value: 5.649217230843869.\n"
     ]
    },
    {
     "name": "stdout",
     "output_type": "stream",
     "text": [
      "5.934984085509159\n"
     ]
    },
    {
     "name": "stderr",
     "output_type": "stream",
     "text": [
      "[I 2023-11-16 15:39:15,685] Trial 5 finished with value: 5.541223880100645 and parameters: {'n_estimators': 50, 'max_depth': 35, 'num_leaves': 45, 'learning_rate': 0.151}. Best is trial 5 with value: 5.541223880100645.\n"
     ]
    },
    {
     "name": "stdout",
     "output_type": "stream",
     "text": [
      "5.541223880100645\n"
     ]
    },
    {
     "name": "stderr",
     "output_type": "stream",
     "text": [
      "[I 2023-11-16 15:39:19,032] Trial 6 finished with value: 5.56361417625877 and parameters: {'n_estimators': 500, 'max_depth': 40, 'num_leaves': 10, 'learning_rate': 0.101}. Best is trial 5 with value: 5.541223880100645.\n"
     ]
    },
    {
     "name": "stdout",
     "output_type": "stream",
     "text": [
      "5.56361417625877\n"
     ]
    },
    {
     "name": "stderr",
     "output_type": "stream",
     "text": [
      "[I 2023-11-16 15:39:25,398] Trial 7 finished with value: 5.597735131560857 and parameters: {'n_estimators': 940, 'max_depth': 30, 'num_leaves': 15, 'learning_rate': 0.061}. Best is trial 5 with value: 5.541223880100645.\n"
     ]
    },
    {
     "name": "stdout",
     "output_type": "stream",
     "text": [
      "5.597735131560857\n"
     ]
    },
    {
     "name": "stderr",
     "output_type": "stream",
     "text": [
      "[I 2023-11-16 15:39:30,450] Trial 8 finished with value: 5.693685255685255 and parameters: {'n_estimators': 710, 'max_depth': 60, 'num_leaves': 15, 'learning_rate': 0.181}. Best is trial 5 with value: 5.541223880100645.\n"
     ]
    },
    {
     "name": "stdout",
     "output_type": "stream",
     "text": [
      "5.693685255685255\n"
     ]
    },
    {
     "name": "stderr",
     "output_type": "stream",
     "text": [
      "[I 2023-11-16 15:39:42,332] Trial 9 finished with value: 5.768084517166065 and parameters: {'n_estimators': 830, 'max_depth': 10, 'num_leaves': 75, 'learning_rate': 0.091}. Best is trial 5 with value: 5.541223880100645.\n"
     ]
    },
    {
     "name": "stdout",
     "output_type": "stream",
     "text": [
      "5.768084517166065\n"
     ]
    },
    {
     "name": "stderr",
     "output_type": "stream",
     "text": [
      "[I 2023-11-16 15:39:44,120] Trial 10 finished with value: 5.584108626320713 and parameters: {'n_estimators': 90, 'max_depth': 100, 'num_leaves': 40, 'learning_rate': 0.151}. Best is trial 5 with value: 5.541223880100645.\n"
     ]
    },
    {
     "name": "stdout",
     "output_type": "stream",
     "text": [
      "5.584108626320713\n"
     ]
    },
    {
     "name": "stderr",
     "output_type": "stream",
     "text": [
      "[I 2023-11-16 15:39:49,277] Trial 11 finished with value: 5.66001984444543 and parameters: {'n_estimators': 410, 'max_depth': 40, 'num_leaves': 40, 'learning_rate': 0.111}. Best is trial 5 with value: 5.541223880100645.\n"
     ]
    },
    {
     "name": "stdout",
     "output_type": "stream",
     "text": [
      "5.66001984444543\n"
     ]
    },
    {
     "name": "stderr",
     "output_type": "stream",
     "text": [
      "[I 2023-11-16 15:39:50,772] Trial 12 finished with value: 5.623814833113332 and parameters: {'n_estimators': 220, 'max_depth': 75, 'num_leaves': 5, 'learning_rate': 0.14100000000000001}. Best is trial 5 with value: 5.541223880100645.\n"
     ]
    },
    {
     "name": "stdout",
     "output_type": "stream",
     "text": [
      "5.623814833113332\n"
     ]
    },
    {
     "name": "stderr",
     "output_type": "stream",
     "text": [
      "[I 2023-11-16 15:39:56,400] Trial 13 finished with value: 5.600811203272945 and parameters: {'n_estimators': 480, 'max_depth': 35, 'num_leaves': 25, 'learning_rate': 0.061}. Best is trial 5 with value: 5.541223880100645.\n"
     ]
    },
    {
     "name": "stdout",
     "output_type": "stream",
     "text": [
      "5.600811203272945\n"
     ]
    },
    {
     "name": "stderr",
     "output_type": "stream",
     "text": [
      "[I 2023-11-16 15:40:06,204] Trial 14 finished with value: 5.6668078027872335 and parameters: {'n_estimators': 690, 'max_depth': 50, 'num_leaves': 55, 'learning_rate': 0.081}. Best is trial 5 with value: 5.541223880100645.\n"
     ]
    },
    {
     "name": "stdout",
     "output_type": "stream",
     "text": [
      "5.6668078027872335\n"
     ]
    },
    {
     "name": "stderr",
     "output_type": "stream",
     "text": [
      "[I 2023-11-16 15:40:20,772] Trial 15 finished with value: 5.588059806353775 and parameters: {'n_estimators': 990, 'max_depth': 25, 'num_leaves': 55, 'learning_rate': 0.021}. Best is trial 5 with value: 5.541223880100645.\n"
     ]
    },
    {
     "name": "stdout",
     "output_type": "stream",
     "text": [
      "5.588059806353775\n"
     ]
    },
    {
     "name": "stderr",
     "output_type": "stream",
     "text": [
      "[I 2023-11-16 15:40:22,780] Trial 16 finished with value: 5.603083805643078 and parameters: {'n_estimators': 170, 'max_depth': 80, 'num_leaves': 25, 'learning_rate': 0.161}. Best is trial 5 with value: 5.541223880100645.\n"
     ]
    },
    {
     "name": "stdout",
     "output_type": "stream",
     "text": [
      "5.603083805643078\n"
     ]
    },
    {
     "name": "stderr",
     "output_type": "stream",
     "text": [
      "[I 2023-11-16 15:40:28,180] Trial 17 finished with value: 5.68001327058093 and parameters: {'n_estimators': 350, 'max_depth': 55, 'num_leaves': 70, 'learning_rate': 0.121}. Best is trial 5 with value: 5.541223880100645.\n"
     ]
    },
    {
     "name": "stdout",
     "output_type": "stream",
     "text": [
      "5.68001327058093\n"
     ]
    },
    {
     "name": "stderr",
     "output_type": "stream",
     "text": [
      "[I 2023-11-16 15:40:33,787] Trial 18 finished with value: 5.7337406525037276 and parameters: {'n_estimators': 830, 'max_depth': 20, 'num_leaves': 10, 'learning_rate': 0.251}. Best is trial 5 with value: 5.541223880100645.\n"
     ]
    },
    {
     "name": "stdout",
     "output_type": "stream",
     "text": [
      "5.7337406525037276\n"
     ]
    },
    {
     "name": "stderr",
     "output_type": "stream",
     "text": [
      "[I 2023-11-16 15:40:35,704] Trial 19 finished with value: 5.498265758659144 and parameters: {'n_estimators': 140, 'max_depth': 35, 'num_leaves': 30, 'learning_rate': 0.041}. Best is trial 19 with value: 5.498265758659144.\n"
     ]
    },
    {
     "name": "stdout",
     "output_type": "stream",
     "text": [
      "5.498265758659144\n"
     ]
    },
    {
     "name": "stderr",
     "output_type": "stream",
     "text": [
      "[I 2023-11-16 15:40:37,933] Trial 20 finished with value: 5.5258510151218445 and parameters: {'n_estimators': 160, 'max_depth': 30, 'num_leaves': 30, 'learning_rate': 0.051000000000000004}. Best is trial 19 with value: 5.498265758659144.\n"
     ]
    },
    {
     "name": "stdout",
     "output_type": "stream",
     "text": [
      "5.5258510151218445\n"
     ]
    },
    {
     "name": "stderr",
     "output_type": "stream",
     "text": [
      "[I 2023-11-16 15:40:39,834] Trial 21 finished with value: 5.498265758659144 and parameters: {'n_estimators': 140, 'max_depth': 30, 'num_leaves': 30, 'learning_rate': 0.041}. Best is trial 19 with value: 5.498265758659144.\n"
     ]
    },
    {
     "name": "stdout",
     "output_type": "stream",
     "text": [
      "5.498265758659144\n"
     ]
    },
    {
     "name": "stderr",
     "output_type": "stream",
     "text": [
      "[I 2023-11-16 15:40:41,616] Trial 22 finished with value: 5.5205009341254225 and parameters: {'n_estimators': 140, 'max_depth': 25, 'num_leaves': 25, 'learning_rate': 0.031}. Best is trial 19 with value: 5.498265758659144.\n"
     ]
    },
    {
     "name": "stdout",
     "output_type": "stream",
     "text": [
      "5.5205009341254225\n"
     ]
    },
    {
     "name": "stderr",
     "output_type": "stream",
     "text": [
      "[I 2023-11-16 15:40:44,553] Trial 23 finished with value: 5.563628663427476 and parameters: {'n_estimators': 280, 'max_depth': 20, 'num_leaves': 20, 'learning_rate': 0.011}. Best is trial 19 with value: 5.498265758659144.\n"
     ]
    },
    {
     "name": "stdout",
     "output_type": "stream",
     "text": [
      "5.563628663427476\n"
     ]
    },
    {
     "name": "stderr",
     "output_type": "stream",
     "text": [
      "[I 2023-11-16 15:40:47,504] Trial 24 finished with value: 5.4999799039409885 and parameters: {'n_estimators': 180, 'max_depth': 45, 'num_leaves': 45, 'learning_rate': 0.031}. Best is trial 19 with value: 5.498265758659144.\n"
     ]
    },
    {
     "name": "stdout",
     "output_type": "stream",
     "text": [
      "5.4999799039409885\n"
     ]
    },
    {
     "name": "stderr",
     "output_type": "stream",
     "text": [
      "[I 2023-11-16 15:40:51,549] Trial 25 finished with value: 5.543118937315525 and parameters: {'n_estimators': 230, 'max_depth': 50, 'num_leaves': 50, 'learning_rate': 0.041}. Best is trial 19 with value: 5.498265758659144.\n"
     ]
    },
    {
     "name": "stdout",
     "output_type": "stream",
     "text": [
      "5.543118937315525\n"
     ]
    },
    {
     "name": "stderr",
     "output_type": "stream",
     "text": [
      "[I 2023-11-16 15:40:55,922] Trial 26 finished with value: 5.588146906673617 and parameters: {'n_estimators': 380, 'max_depth': 70, 'num_leaves': 35, 'learning_rate': 0.07100000000000001}. Best is trial 19 with value: 5.498265758659144.\n"
     ]
    },
    {
     "name": "stdout",
     "output_type": "stream",
     "text": [
      "5.588146906673617\n"
     ]
    },
    {
     "name": "stderr",
     "output_type": "stream",
     "text": [
      "[I 2023-11-16 15:40:58,321] Trial 27 finished with value: 5.490807932965026 and parameters: {'n_estimators': 140, 'max_depth': 45, 'num_leaves': 45, 'learning_rate': 0.031}. Best is trial 27 with value: 5.490807932965026.\n"
     ]
    },
    {
     "name": "stdout",
     "output_type": "stream",
     "text": [
      "5.490807932965026\n"
     ]
    },
    {
     "name": "stderr",
     "output_type": "stream",
     "text": [
      "[I 2023-11-16 15:41:00,441] Trial 28 finished with value: 5.4869577189862495 and parameters: {'n_estimators': 110, 'max_depth': 60, 'num_leaves': 60, 'learning_rate': 0.041}. Best is trial 28 with value: 5.4869577189862495.\n"
     ]
    },
    {
     "name": "stdout",
     "output_type": "stream",
     "text": [
      "5.4869577189862495\n"
     ]
    },
    {
     "name": "stderr",
     "output_type": "stream",
     "text": [
      "[I 2023-11-16 15:41:07,396] Trial 29 finished with value: 9.090745603432515 and parameters: {'n_estimators': 310, 'max_depth': 85, 'num_leaves': 70, 'learning_rate': 0.001}. Best is trial 28 with value: 5.4869577189862495.\n"
     ]
    },
    {
     "name": "stdout",
     "output_type": "stream",
     "text": [
      "9.090745603432515\n"
     ]
    },
    {
     "name": "stderr",
     "output_type": "stream",
     "text": [
      "[I 2023-11-16 15:41:16,667] Trial 30 finished with value: 5.563767388776592 and parameters: {'n_estimators': 450, 'max_depth': 60, 'num_leaves': 90, 'learning_rate': 0.021}. Best is trial 28 with value: 5.4869577189862495.\n"
     ]
    },
    {
     "name": "stdout",
     "output_type": "stream",
     "text": [
      "5.563767388776592\n"
     ]
    },
    {
     "name": "stderr",
     "output_type": "stream",
     "text": [
      "[I 2023-11-16 15:41:19,166] Trial 31 finished with value: 5.495745577006818 and parameters: {'n_estimators': 110, 'max_depth': 55, 'num_leaves': 65, 'learning_rate': 0.051000000000000004}. Best is trial 28 with value: 5.4869577189862495.\n"
     ]
    },
    {
     "name": "stdout",
     "output_type": "stream",
     "text": [
      "5.495745577006818\n"
     ]
    },
    {
     "name": "stderr",
     "output_type": "stream",
     "text": [
      "[I 2023-11-16 15:41:23,522] Trial 32 finished with value: 5.612048841052893 and parameters: {'n_estimators': 260, 'max_depth': 55, 'num_leaves': 65, 'learning_rate': 0.081}. Best is trial 28 with value: 5.4869577189862495.\n"
     ]
    },
    {
     "name": "stdout",
     "output_type": "stream",
     "text": [
      "5.612048841052893\n"
     ]
    },
    {
     "name": "stderr",
     "output_type": "stream",
     "text": [
      "[I 2023-11-16 15:41:26,189] Trial 33 finished with value: 10.34462213361082 and parameters: {'n_estimators': 110, 'max_depth': 45, 'num_leaves': 85, 'learning_rate': 0.001}. Best is trial 28 with value: 5.4869577189862495.\n"
     ]
    },
    {
     "name": "stdout",
     "output_type": "stream",
     "text": [
      "10.34462213361082\n"
     ]
    },
    {
     "name": "stderr",
     "output_type": "stream",
     "text": [
      "[I 2023-11-16 15:41:29,676] Trial 34 finished with value: 5.549366627899151 and parameters: {'n_estimators': 210, 'max_depth': 60, 'num_leaves': 60, 'learning_rate': 0.051000000000000004}. Best is trial 28 with value: 5.4869577189862495.\n"
     ]
    },
    {
     "name": "stdout",
     "output_type": "stream",
     "text": [
      "5.549366627899151\n"
     ]
    },
    {
     "name": "stderr",
     "output_type": "stream",
     "text": [
      "[I 2023-11-16 15:41:30,999] Trial 35 finished with value: 6.567104323731079 and parameters: {'n_estimators': 50, 'max_depth': 65, 'num_leaves': 80, 'learning_rate': 0.021}. Best is trial 28 with value: 5.4869577189862495.\n"
     ]
    },
    {
     "name": "stdout",
     "output_type": "stream",
     "text": [
      "6.567104323731079\n"
     ]
    },
    {
     "name": "stderr",
     "output_type": "stream",
     "text": [
      "[I 2023-11-16 15:41:33,008] Trial 36 finished with value: 5.537656966298216 and parameters: {'n_estimators': 110, 'max_depth': 45, 'num_leaves': 60, 'learning_rate': 0.07100000000000001}. Best is trial 28 with value: 5.4869577189862495.\n"
     ]
    },
    {
     "name": "stdout",
     "output_type": "stream",
     "text": [
      "5.537656966298216\n"
     ]
    },
    {
     "name": "stderr",
     "output_type": "stream",
     "text": [
      "[I 2023-11-16 15:41:37,989] Trial 37 finished with value: 5.560944907938118 and parameters: {'n_estimators': 290, 'max_depth': 70, 'num_leaves': 50, 'learning_rate': 0.041}. Best is trial 28 with value: 5.4869577189862495.\n"
     ]
    },
    {
     "name": "stdout",
     "output_type": "stream",
     "text": [
      "5.560944907938118\n"
     ]
    },
    {
     "name": "stderr",
     "output_type": "stream",
     "text": [
      "[I 2023-11-16 15:41:39,162] Trial 38 finished with value: 5.515396951682966 and parameters: {'n_estimators': 50, 'max_depth': 40, 'num_leaves': 65, 'learning_rate': 0.101}. Best is trial 28 with value: 5.4869577189862495.\n"
     ]
    },
    {
     "name": "stdout",
     "output_type": "stream",
     "text": [
      "5.515396951682966\n"
     ]
    },
    {
     "name": "stderr",
     "output_type": "stream",
     "text": [
      "[I 2023-11-16 15:41:42,226] Trial 39 finished with value: 5.5595125482193275 and parameters: {'n_estimators': 210, 'max_depth': 50, 'num_leaves': 50, 'learning_rate': 0.061}. Best is trial 28 with value: 5.4869577189862495.\n"
     ]
    },
    {
     "name": "stdout",
     "output_type": "stream",
     "text": [
      "5.5595125482193275\n"
     ]
    },
    {
     "name": "stderr",
     "output_type": "stream",
     "text": [
      "[I 2023-11-16 15:41:43,867] Trial 40 finished with value: 6.574749716761305 and parameters: {'n_estimators': 100, 'max_depth': 65, 'num_leaves': 40, 'learning_rate': 0.011}. Best is trial 28 with value: 5.4869577189862495.\n"
     ]
    },
    {
     "name": "stdout",
     "output_type": "stream",
     "text": [
      "6.574749716761305\n"
     ]
    },
    {
     "name": "stderr",
     "output_type": "stream",
     "text": [
      "[I 2023-11-16 15:41:45,815] Trial 41 finished with value: 5.5222143117795985 and parameters: {'n_estimators': 150, 'max_depth': 35, 'num_leaves': 30, 'learning_rate': 0.051000000000000004}. Best is trial 28 with value: 5.4869577189862495.\n"
     ]
    },
    {
     "name": "stdout",
     "output_type": "stream",
     "text": [
      "5.5222143117795985\n"
     ]
    },
    {
     "name": "stderr",
     "output_type": "stream",
     "text": [
      "[I 2023-11-16 15:41:51,867] Trial 42 finished with value: 5.589062030896481 and parameters: {'n_estimators': 570, 'max_depth': 10, 'num_leaves': 35, 'learning_rate': 0.041}. Best is trial 28 with value: 5.4869577189862495.\n"
     ]
    },
    {
     "name": "stdout",
     "output_type": "stream",
     "text": [
      "5.589062030896481\n"
     ]
    },
    {
     "name": "stderr",
     "output_type": "stream",
     "text": [
      "[I 2023-11-16 15:41:54,591] Trial 43 finished with value: 5.486299354001131 and parameters: {'n_estimators': 120, 'max_depth': 30, 'num_leaves': 45, 'learning_rate': 0.031}. Best is trial 43 with value: 5.486299354001131.\n"
     ]
    },
    {
     "name": "stdout",
     "output_type": "stream",
     "text": [
      "5.486299354001131\n"
     ]
    },
    {
     "name": "stderr",
     "output_type": "stream",
     "text": [
      "[I 2023-11-16 15:41:56,739] Trial 44 finished with value: 5.541572393809738 and parameters: {'n_estimators': 90, 'max_depth': 40, 'num_leaves': 45, 'learning_rate': 0.031}. Best is trial 43 with value: 5.486299354001131.\n"
     ]
    },
    {
     "name": "stdout",
     "output_type": "stream",
     "text": [
      "5.541572393809738\n"
     ]
    },
    {
     "name": "stderr",
     "output_type": "stream",
     "text": [
      "[I 2023-11-16 15:41:59,966] Trial 45 finished with value: 5.569869159846005 and parameters: {'n_estimators': 250, 'max_depth': 5, 'num_leaves': 100, 'learning_rate': 0.011}. Best is trial 43 with value: 5.486299354001131.\n"
     ]
    },
    {
     "name": "stdout",
     "output_type": "stream",
     "text": [
      "5.569869159846005\n"
     ]
    },
    {
     "name": "stderr",
     "output_type": "stream",
     "text": [
      "[I 2023-11-16 15:42:03,395] Trial 46 finished with value: 5.561807554677087 and parameters: {'n_estimators': 190, 'max_depth': 55, 'num_leaves': 65, 'learning_rate': 0.07100000000000001}. Best is trial 43 with value: 5.486299354001131.\n"
     ]
    },
    {
     "name": "stdout",
     "output_type": "stream",
     "text": [
      "5.561807554677087\n"
     ]
    },
    {
     "name": "stderr",
     "output_type": "stream",
     "text": [
      "[I 2023-11-16 15:42:07,897] Trial 47 finished with value: 5.635931029424521 and parameters: {'n_estimators': 330, 'max_depth': 15, 'num_leaves': 55, 'learning_rate': 0.091}. Best is trial 43 with value: 5.486299354001131.\n"
     ]
    },
    {
     "name": "stdout",
     "output_type": "stream",
     "text": [
      "5.635931029424521\n"
     ]
    },
    {
     "name": "stderr",
     "output_type": "stream",
     "text": [
      "[I 2023-11-16 15:42:09,644] Trial 48 finished with value: 5.504413213745701 and parameters: {'n_estimators': 90, 'max_depth': 35, 'num_leaves': 40, 'learning_rate': 0.061}. Best is trial 43 with value: 5.486299354001131.\n"
     ]
    },
    {
     "name": "stdout",
     "output_type": "stream",
     "text": [
      "5.504413213745701\n"
     ]
    },
    {
     "name": "stderr",
     "output_type": "stream",
     "text": [
      "[I 2023-11-16 15:42:12,561] Trial 49 finished with value: 5.5435013985948 and parameters: {'n_estimators': 130, 'max_depth': 90, 'num_leaves': 75, 'learning_rate': 0.021}. Best is trial 43 with value: 5.486299354001131.\n"
     ]
    },
    {
     "name": "stdout",
     "output_type": "stream",
     "text": [
      "5.5435013985948\n"
     ]
    },
    {
     "name": "stderr",
     "output_type": "stream",
     "text": [
      "[I 2023-11-16 15:42:13,778] Trial 50 finished with value: 10.725540331698783 and parameters: {'n_estimators': 60, 'max_depth': 45, 'num_leaves': 45, 'learning_rate': 0.001}. Best is trial 43 with value: 5.486299354001131.\n"
     ]
    },
    {
     "name": "stdout",
     "output_type": "stream",
     "text": [
      "10.725540331698783\n"
     ]
    },
    {
     "name": "stderr",
     "output_type": "stream",
     "text": [
      "[I 2023-11-16 15:42:15,907] Trial 51 finished with value: 5.515780701056404 and parameters: {'n_estimators': 150, 'max_depth': 35, 'num_leaves': 35, 'learning_rate': 0.041}. Best is trial 43 with value: 5.486299354001131.\n"
     ]
    },
    {
     "name": "stdout",
     "output_type": "stream",
     "text": [
      "5.515780701056404\n"
     ]
    },
    {
     "name": "stderr",
     "output_type": "stream",
     "text": [
      "[I 2023-11-16 15:42:18,689] Trial 52 finished with value: 5.719428968881624 and parameters: {'n_estimators': 200, 'max_depth': 30, 'num_leaves': 55, 'learning_rate': 0.211}. Best is trial 43 with value: 5.486299354001131.\n"
     ]
    },
    {
     "name": "stdout",
     "output_type": "stream",
     "text": [
      "5.719428968881624\n"
     ]
    },
    {
     "name": "stderr",
     "output_type": "stream",
     "text": [
      "[I 2023-11-16 15:42:20,296] Trial 53 finished with value: 5.534503037360744 and parameters: {'n_estimators': 130, 'max_depth': 25, 'num_leaves': 20, 'learning_rate': 0.031}. Best is trial 43 with value: 5.486299354001131.\n"
     ]
    },
    {
     "name": "stdout",
     "output_type": "stream",
     "text": [
      "5.534503037360744\n"
     ]
    },
    {
     "name": "stderr",
     "output_type": "stream",
     "text": [
      "[I 2023-11-16 15:42:23,243] Trial 54 finished with value: 5.561992057617063 and parameters: {'n_estimators': 250, 'max_depth': 30, 'num_leaves': 30, 'learning_rate': 0.051000000000000004}. Best is trial 43 with value: 5.486299354001131.\n"
     ]
    },
    {
     "name": "stdout",
     "output_type": "stream",
     "text": [
      "5.561992057617063\n"
     ]
    },
    {
     "name": "stderr",
     "output_type": "stream",
     "text": [
      "[I 2023-11-16 15:42:25,130] Trial 55 finished with value: 5.598675363287067 and parameters: {'n_estimators': 170, 'max_depth': 40, 'num_leaves': 20, 'learning_rate': 0.181}. Best is trial 43 with value: 5.486299354001131.\n"
     ]
    },
    {
     "name": "stdout",
     "output_type": "stream",
     "text": [
      "5.598675363287067\n"
     ]
    },
    {
     "name": "stderr",
     "output_type": "stream",
     "text": [
      "[I 2023-11-16 15:42:26,793] Trial 56 finished with value: 5.504917335727807 and parameters: {'n_estimators': 70, 'max_depth': 25, 'num_leaves': 60, 'learning_rate': 0.081}. Best is trial 43 with value: 5.486299354001131.\n"
     ]
    },
    {
     "name": "stdout",
     "output_type": "stream",
     "text": [
      "5.504917335727807\n"
     ]
    },
    {
     "name": "stderr",
     "output_type": "stream",
     "text": [
      "[I 2023-11-16 15:42:33,800] Trial 57 finished with value: 5.761211596019914 and parameters: {'n_estimators': 660, 'max_depth': 50, 'num_leaves': 50, 'learning_rate': 0.131}. Best is trial 43 with value: 5.486299354001131.\n"
     ]
    },
    {
     "name": "stdout",
     "output_type": "stream",
     "text": [
      "5.761211596019914\n"
     ]
    },
    {
     "name": "stderr",
     "output_type": "stream",
     "text": [
      "[I 2023-11-16 15:42:36,299] Trial 58 finished with value: 5.503936747735181 and parameters: {'n_estimators': 120, 'max_depth': 60, 'num_leaves': 70, 'learning_rate': 0.031}. Best is trial 43 with value: 5.486299354001131.\n"
     ]
    },
    {
     "name": "stdout",
     "output_type": "stream",
     "text": [
      "5.503936747735181\n"
     ]
    },
    {
     "name": "stderr",
     "output_type": "stream",
     "text": [
      "[I 2023-11-16 15:42:45,292] Trial 59 finished with value: 5.629893613089059 and parameters: {'n_estimators': 800, 'max_depth': 20, 'num_leaves': 40, 'learning_rate': 0.051000000000000004}. Best is trial 43 with value: 5.486299354001131.\n"
     ]
    },
    {
     "name": "stdout",
     "output_type": "stream",
     "text": [
      "5.629893613089059\n"
     ]
    },
    {
     "name": "stderr",
     "output_type": "stream",
     "text": [
      "[I 2023-11-16 15:42:50,224] Trial 60 finished with value: 5.50637091953426 and parameters: {'n_estimators': 360, 'max_depth': 35, 'num_leaves': 35, 'learning_rate': 0.011}. Best is trial 43 with value: 5.486299354001131.\n"
     ]
    },
    {
     "name": "stdout",
     "output_type": "stream",
     "text": [
      "5.50637091953426\n"
     ]
    },
    {
     "name": "stderr",
     "output_type": "stream",
     "text": [
      "[I 2023-11-16 15:42:53,086] Trial 61 finished with value: 5.4999799039409885 and parameters: {'n_estimators': 180, 'max_depth': 45, 'num_leaves': 45, 'learning_rate': 0.031}. Best is trial 43 with value: 5.486299354001131.\n"
     ]
    },
    {
     "name": "stdout",
     "output_type": "stream",
     "text": [
      "5.4999799039409885\n"
     ]
    },
    {
     "name": "stderr",
     "output_type": "stream",
     "text": [
      "[I 2023-11-16 15:42:58,878] Trial 62 finished with value: 5.572670895515452 and parameters: {'n_estimators': 230, 'max_depth': 55, 'num_leaves': 105, 'learning_rate': 0.041}. Best is trial 43 with value: 5.486299354001131.\n"
     ]
    },
    {
     "name": "stdout",
     "output_type": "stream",
     "text": [
      "5.572670895515452\n"
     ]
    },
    {
     "name": "stderr",
     "output_type": "stream",
     "text": [
      "[I 2023-11-16 15:43:01,624] Trial 63 finished with value: 5.49995522217397 and parameters: {'n_estimators': 170, 'max_depth': 45, 'num_leaves': 45, 'learning_rate': 0.021}. Best is trial 43 with value: 5.486299354001131.\n"
     ]
    },
    {
     "name": "stdout",
     "output_type": "stream",
     "text": [
      "5.49995522217397\n"
     ]
    },
    {
     "name": "stderr",
     "output_type": "stream",
     "text": [
      "[I 2023-11-16 15:43:02,862] Trial 64 finished with value: 5.9470188525316905 and parameters: {'n_estimators': 80, 'max_depth': 40, 'num_leaves': 30, 'learning_rate': 0.021}. Best is trial 43 with value: 5.486299354001131.\n"
     ]
    },
    {
     "name": "stdout",
     "output_type": "stream",
     "text": [
      "5.9470188525316905\n"
     ]
    },
    {
     "name": "stderr",
     "output_type": "stream",
     "text": [
      "[I 2023-11-16 15:43:05,416] Trial 65 finished with value: 5.547631220276059 and parameters: {'n_estimators': 160, 'max_depth': 50, 'num_leaves': 50, 'learning_rate': 0.061}. Best is trial 43 with value: 5.486299354001131.\n"
     ]
    },
    {
     "name": "stdout",
     "output_type": "stream",
     "text": [
      "5.547631220276059\n"
     ]
    },
    {
     "name": "stderr",
     "output_type": "stream",
     "text": [
      "[I 2023-11-16 15:43:07,092] Trial 66 finished with value: 5.5884574079953016 and parameters: {'n_estimators': 130, 'max_depth': 30, 'num_leaves': 25, 'learning_rate': 0.021}. Best is trial 43 with value: 5.486299354001131.\n"
     ]
    },
    {
     "name": "stdout",
     "output_type": "stream",
     "text": [
      "5.5884574079953016\n"
     ]
    },
    {
     "name": "stderr",
     "output_type": "stream",
     "text": [
      "[I 2023-11-16 15:43:09,785] Trial 67 finished with value: 5.594229696244743 and parameters: {'n_estimators': 280, 'max_depth': 70, 'num_leaves': 15, 'learning_rate': 0.011}. Best is trial 43 with value: 5.486299354001131.\n"
     ]
    },
    {
     "name": "stdout",
     "output_type": "stream",
     "text": [
      "5.594229696244743\n"
     ]
    },
    {
     "name": "stderr",
     "output_type": "stream",
     "text": [
      "[I 2023-11-16 15:43:13,867] Trial 68 finished with value: 5.571107685062561 and parameters: {'n_estimators': 230, 'max_depth': 40, 'num_leaves': 55, 'learning_rate': 0.051000000000000004}. Best is trial 43 with value: 5.486299354001131.\n"
     ]
    },
    {
     "name": "stdout",
     "output_type": "stream",
     "text": [
      "5.571107685062561\n"
     ]
    },
    {
     "name": "stderr",
     "output_type": "stream",
     "text": [
      "[I 2023-11-16 15:43:15,266] Trial 69 finished with value: 10.585387123922708 and parameters: {'n_estimators': 80, 'max_depth': 15, 'num_leaves': 40, 'learning_rate': 0.001}. Best is trial 43 with value: 5.486299354001131.\n"
     ]
    },
    {
     "name": "stdout",
     "output_type": "stream",
     "text": [
      "10.585387123922708\n"
     ]
    },
    {
     "name": "stderr",
     "output_type": "stream",
     "text": [
      "[I 2023-11-16 15:43:18,785] Trial 70 finished with value: 5.525104625540054 and parameters: {'n_estimators': 190, 'max_depth': 65, 'num_leaves': 60, 'learning_rate': 0.041}. Best is trial 43 with value: 5.486299354001131.\n"
     ]
    },
    {
     "name": "stdout",
     "output_type": "stream",
     "text": [
      "5.525104625540054\n"
     ]
    },
    {
     "name": "stderr",
     "output_type": "stream",
     "text": [
      "[I 2023-11-16 15:43:20,800] Trial 71 finished with value: 5.498680793311434 and parameters: {'n_estimators': 110, 'max_depth': 45, 'num_leaves': 45, 'learning_rate': 0.031}. Best is trial 43 with value: 5.486299354001131.\n"
     ]
    },
    {
     "name": "stdout",
     "output_type": "stream",
     "text": [
      "5.498680793311434\n"
     ]
    },
    {
     "name": "stderr",
     "output_type": "stream",
     "text": [
      "[I 2023-11-16 15:43:22,968] Trial 72 finished with value: 5.486299354001131 and parameters: {'n_estimators': 120, 'max_depth': 55, 'num_leaves': 45, 'learning_rate': 0.031}. Best is trial 43 with value: 5.486299354001131.\n"
     ]
    },
    {
     "name": "stdout",
     "output_type": "stream",
     "text": [
      "5.486299354001131\n"
     ]
    },
    {
     "name": "stderr",
     "output_type": "stream",
     "text": [
      "[I 2023-11-16 15:43:24,922] Trial 73 finished with value: 5.543146334528427 and parameters: {'n_estimators': 110, 'max_depth': 55, 'num_leaves': 55, 'learning_rate': 0.07100000000000001}. Best is trial 43 with value: 5.486299354001131.\n"
     ]
    },
    {
     "name": "stdout",
     "output_type": "stream",
     "text": [
      "5.543146334528427\n"
     ]
    },
    {
     "name": "stderr",
     "output_type": "stream",
     "text": [
      "[I 2023-11-16 15:43:27,569] Trial 74 finished with value: 5.498552183709393 and parameters: {'n_estimators': 140, 'max_depth': 50, 'num_leaves': 50, 'learning_rate': 0.041}. Best is trial 43 with value: 5.486299354001131.\n"
     ]
    },
    {
     "name": "stdout",
     "output_type": "stream",
     "text": [
      "5.498552183709393\n"
     ]
    },
    {
     "name": "stderr",
     "output_type": "stream",
     "text": [
      "[I 2023-11-16 15:43:30,209] Trial 75 finished with value: 5.542009699317629 and parameters: {'n_estimators': 140, 'max_depth': 60, 'num_leaves': 50, 'learning_rate': 0.061}. Best is trial 43 with value: 5.486299354001131.\n"
     ]
    },
    {
     "name": "stdout",
     "output_type": "stream",
     "text": [
      "5.542009699317629\n"
     ]
    },
    {
     "name": "stderr",
     "output_type": "stream",
     "text": [
      "[I 2023-11-16 15:43:31,769] Trial 76 finished with value: 5.495987217877761 and parameters: {'n_estimators': 70, 'max_depth': 50, 'num_leaves': 65, 'learning_rate': 0.051000000000000004}. Best is trial 43 with value: 5.486299354001131.\n"
     ]
    },
    {
     "name": "stdout",
     "output_type": "stream",
     "text": [
      "5.495987217877761\n"
     ]
    },
    {
     "name": "stderr",
     "output_type": "stream",
     "text": [
      "[I 2023-11-16 15:43:32,959] Trial 77 finished with value: 5.513681648484432 and parameters: {'n_estimators': 50, 'max_depth': 60, 'num_leaves': 65, 'learning_rate': 0.061}. Best is trial 43 with value: 5.486299354001131.\n"
     ]
    },
    {
     "name": "stdout",
     "output_type": "stream",
     "text": [
      "5.513681648484432\n"
     ]
    },
    {
     "name": "stderr",
     "output_type": "stream",
     "text": [
      "[I 2023-11-16 15:43:34,873] Trial 78 finished with value: 5.487000715824695 and parameters: {'n_estimators': 80, 'max_depth': 25, 'num_leaves': 80, 'learning_rate': 0.051000000000000004}. Best is trial 43 with value: 5.486299354001131.\n"
     ]
    },
    {
     "name": "stdout",
     "output_type": "stream",
     "text": [
      "5.487000715824695\n"
     ]
    },
    {
     "name": "stderr",
     "output_type": "stream",
     "text": [
      "[I 2023-11-16 15:43:36,799] Trial 79 finished with value: 5.5362525197641155 and parameters: {'n_estimators': 80, 'max_depth': 55, 'num_leaves': 80, 'learning_rate': 0.081}. Best is trial 43 with value: 5.486299354001131.\n"
     ]
    },
    {
     "name": "stdout",
     "output_type": "stream",
     "text": [
      "5.5362525197641155\n"
     ]
    },
    {
     "name": "stderr",
     "output_type": "stream",
     "text": [
      "[I 2023-11-16 15:43:45,914] Trial 80 finished with value: 5.7295062116277204 and parameters: {'n_estimators': 540, 'max_depth': 25, 'num_leaves': 90, 'learning_rate': 0.091}. Best is trial 43 with value: 5.486299354001131.\n"
     ]
    },
    {
     "name": "stdout",
     "output_type": "stream",
     "text": [
      "5.7295062116277204\n"
     ]
    },
    {
     "name": "stderr",
     "output_type": "stream",
     "text": [
      "[I 2023-11-16 15:43:47,239] Trial 81 finished with value: 5.5607567592427065 and parameters: {'n_estimators': 50, 'max_depth': 30, 'num_leaves': 70, 'learning_rate': 0.051000000000000004}. Best is trial 43 with value: 5.486299354001131.\n"
     ]
    },
    {
     "name": "stdout",
     "output_type": "stream",
     "text": [
      "5.5607567592427065\n"
     ]
    },
    {
     "name": "stderr",
     "output_type": "stream",
     "text": [
      "[I 2023-11-16 15:43:49,350] Trial 82 finished with value: 5.533618559416863 and parameters: {'n_estimators': 90, 'max_depth': 20, 'num_leaves': 80, 'learning_rate': 0.031}. Best is trial 43 with value: 5.486299354001131.\n"
     ]
    },
    {
     "name": "stdout",
     "output_type": "stream",
     "text": [
      "5.533618559416863\n"
     ]
    },
    {
     "name": "stderr",
     "output_type": "stream",
     "text": [
      "[I 2023-11-16 15:43:51,591] Trial 83 finished with value: 5.505998865931077 and parameters: {'n_estimators': 110, 'max_depth': 30, 'num_leaves': 60, 'learning_rate': 0.051000000000000004}. Best is trial 43 with value: 5.486299354001131.\n"
     ]
    },
    {
     "name": "stdout",
     "output_type": "stream",
     "text": [
      "5.505998865931077\n"
     ]
    },
    {
     "name": "stderr",
     "output_type": "stream",
     "text": [
      "[I 2023-11-16 15:43:55,015] Trial 84 finished with value: 5.510330783032427 and parameters: {'n_estimators': 150, 'max_depth': 65, 'num_leaves': 70, 'learning_rate': 0.041}. Best is trial 43 with value: 5.486299354001131.\n"
     ]
    },
    {
     "name": "stdout",
     "output_type": "stream",
     "text": [
      "5.510330783032427\n"
     ]
    },
    {
     "name": "stderr",
     "output_type": "stream",
     "text": [
      "[I 2023-11-16 15:43:59,531] Trial 85 finished with value: 5.6034912922677 and parameters: {'n_estimators': 210, 'max_depth': 35, 'num_leaves': 75, 'learning_rate': 0.07100000000000001}. Best is trial 43 with value: 5.486299354001131.\n"
     ]
    },
    {
     "name": "stdout",
     "output_type": "stream",
     "text": [
      "5.6034912922677\n"
     ]
    },
    {
     "name": "stderr",
     "output_type": "stream",
     "text": [
      "[I 2023-11-16 15:44:01,129] Trial 86 finished with value: 5.684029639454183 and parameters: {'n_estimators': 70, 'max_depth': 15, 'num_leaves': 35, 'learning_rate': 0.031}. Best is trial 43 with value: 5.486299354001131.\n"
     ]
    },
    {
     "name": "stdout",
     "output_type": "stream",
     "text": [
      "5.684029639454183\n"
     ]
    },
    {
     "name": "stderr",
     "output_type": "stream",
     "text": [
      "[I 2023-11-16 15:44:04,438] Trial 87 finished with value: 5.5562386593079225 and parameters: {'n_estimators': 180, 'max_depth': 25, 'num_leaves': 65, 'learning_rate': 0.061}. Best is trial 43 with value: 5.486299354001131.\n"
     ]
    },
    {
     "name": "stdout",
     "output_type": "stream",
     "text": [
      "5.5562386593079225\n"
     ]
    },
    {
     "name": "stderr",
     "output_type": "stream",
     "text": [
      "[I 2023-11-16 15:44:06,379] Trial 88 finished with value: 5.568294926982917 and parameters: {'n_estimators': 100, 'max_depth': 50, 'num_leaves': 75, 'learning_rate': 0.111}. Best is trial 43 with value: 5.486299354001131.\n"
     ]
    },
    {
     "name": "stdout",
     "output_type": "stream",
     "text": [
      "5.568294926982917\n"
     ]
    },
    {
     "name": "stderr",
     "output_type": "stream",
     "text": [
      "[I 2023-11-16 15:44:13,438] Trial 89 finished with value: 5.505713003790381 and parameters: {'n_estimators': 310, 'max_depth': 55, 'num_leaves': 85, 'learning_rate': 0.011}. Best is trial 43 with value: 5.486299354001131.\n"
     ]
    },
    {
     "name": "stdout",
     "output_type": "stream",
     "text": [
      "5.505713003790381\n"
     ]
    },
    {
     "name": "stderr",
     "output_type": "stream",
     "text": [
      "[I 2023-11-16 15:44:17,838] Trial 90 finished with value: 5.575000582733736 and parameters: {'n_estimators': 400, 'max_depth': 60, 'num_leaves': 25, 'learning_rate': 0.041}. Best is trial 43 with value: 5.486299354001131.\n"
     ]
    },
    {
     "name": "stdout",
     "output_type": "stream",
     "text": [
      "5.575000582733736\n"
     ]
    },
    {
     "name": "stderr",
     "output_type": "stream",
     "text": [
      "[I 2023-11-16 15:44:20,565] Trial 91 finished with value: 5.502154865005039 and parameters: {'n_estimators': 140, 'max_depth': 50, 'num_leaves': 55, 'learning_rate': 0.041}. Best is trial 43 with value: 5.486299354001131.\n"
     ]
    },
    {
     "name": "stdout",
     "output_type": "stream",
     "text": [
      "5.502154865005039\n"
     ]
    },
    {
     "name": "stderr",
     "output_type": "stream",
     "text": [
      "[I 2023-11-16 15:44:22,609] Trial 92 finished with value: 5.5616505590431995 and parameters: {'n_estimators': 130, 'max_depth': 50, 'num_leaves': 40, 'learning_rate': 0.021}. Best is trial 43 with value: 5.486299354001131.\n"
     ]
    },
    {
     "name": "stdout",
     "output_type": "stream",
     "text": [
      "5.5616505590431995\n"
     ]
    },
    {
     "name": "stderr",
     "output_type": "stream",
     "text": [
      "[I 2023-11-16 15:44:23,702] Trial 93 finished with value: 5.6846982891373035 and parameters: {'n_estimators': 150, 'max_depth': 55, 'num_leaves': 5, 'learning_rate': 0.051000000000000004}. Best is trial 43 with value: 5.486299354001131.\n"
     ]
    },
    {
     "name": "stdout",
     "output_type": "stream",
     "text": [
      "5.6846982891373035\n"
     ]
    },
    {
     "name": "stderr",
     "output_type": "stream",
     "text": [
      "[I 2023-11-16 15:44:27,425] Trial 94 finished with value: 5.5115249764886265 and parameters: {'n_estimators': 200, 'max_depth': 40, 'num_leaves': 60, 'learning_rate': 0.031}. Best is trial 43 with value: 5.486299354001131.\n"
     ]
    },
    {
     "name": "stdout",
     "output_type": "stream",
     "text": [
      "5.5115249764886265\n"
     ]
    },
    {
     "name": "stderr",
     "output_type": "stream",
     "text": [
      "[I 2023-11-16 15:44:28,806] Trial 95 finished with value: 5.542037152748589 and parameters: {'n_estimators': 70, 'max_depth': 35, 'num_leaves': 50, 'learning_rate': 0.041}. Best is trial 43 with value: 5.486299354001131.\n"
     ]
    },
    {
     "name": "stdout",
     "output_type": "stream",
     "text": [
      "5.542037152748589\n"
     ]
    },
    {
     "name": "stderr",
     "output_type": "stream",
     "text": [
      "[I 2023-11-16 15:44:30,462] Trial 96 finished with value: 5.631058220793547 and parameters: {'n_estimators': 120, 'max_depth': 45, 'num_leaves': 45, 'learning_rate': 0.251}. Best is trial 43 with value: 5.486299354001131.\n"
     ]
    },
    {
     "name": "stdout",
     "output_type": "stream",
     "text": [
      "5.631058220793547\n"
     ]
    },
    {
     "name": "stderr",
     "output_type": "stream",
     "text": [
      "[I 2023-11-16 15:44:33,262] Trial 97 finished with value: 5.509910724476759 and parameters: {'n_estimators': 170, 'max_depth': 25, 'num_leaves': 30, 'learning_rate': 0.021}. Best is trial 43 with value: 5.486299354001131.\n"
     ]
    },
    {
     "name": "stdout",
     "output_type": "stream",
     "text": [
      "5.509910724476759\n"
     ]
    },
    {
     "name": "stderr",
     "output_type": "stream",
     "text": [
      "[I 2023-11-16 15:44:37,471] Trial 98 finished with value: 5.563592938278744 and parameters: {'n_estimators': 240, 'max_depth': 65, 'num_leaves': 50, 'learning_rate': 0.051000000000000004}. Best is trial 43 with value: 5.486299354001131.\n"
     ]
    },
    {
     "name": "stdout",
     "output_type": "stream",
     "text": [
      "5.563592938278744\n"
     ]
    },
    {
     "name": "stderr",
     "output_type": "stream",
     "text": [
      "[I 2023-11-16 15:44:39,623] Trial 99 finished with value: 5.5363261848955165 and parameters: {'n_estimators': 100, 'max_depth': 50, 'num_leaves': 60, 'learning_rate': 0.07100000000000001}. Best is trial 43 with value: 5.486299354001131.\n"
     ]
    },
    {
     "name": "stdout",
     "output_type": "stream",
     "text": [
      "5.5363261848955165\n"
     ]
    },
    {
     "name": "stderr",
     "output_type": "stream",
     "text": [
      "[I 2023-11-16 15:44:44,926] Trial 100 finished with value: 5.5894256475075474 and parameters: {'n_estimators': 460, 'max_depth': 40, 'num_leaves': 40, 'learning_rate': 0.041}. Best is trial 43 with value: 5.486299354001131.\n"
     ]
    },
    {
     "name": "stdout",
     "output_type": "stream",
     "text": [
      "5.5894256475075474\n"
     ]
    },
    {
     "name": "stderr",
     "output_type": "stream",
     "text": [
      "[I 2023-11-16 15:44:46,855] Trial 101 finished with value: 5.498680793311434 and parameters: {'n_estimators': 110, 'max_depth': 45, 'num_leaves': 45, 'learning_rate': 0.031}. Best is trial 43 with value: 5.486299354001131.\n"
     ]
    },
    {
     "name": "stdout",
     "output_type": "stream",
     "text": [
      "5.498680793311434\n"
     ]
    },
    {
     "name": "stderr",
     "output_type": "stream",
     "text": [
      "[I 2023-11-16 15:44:48,634] Trial 102 finished with value: 5.653186343555429 and parameters: {'n_estimators': 70, 'max_depth': 45, 'num_leaves': 55, 'learning_rate': 0.031}. Best is trial 43 with value: 5.486299354001131.\n"
     ]
    },
    {
     "name": "stdout",
     "output_type": "stream",
     "text": [
      "5.653186343555429\n"
     ]
    },
    {
     "name": "stderr",
     "output_type": "stream",
     "text": [
      "[I 2023-11-16 15:44:52,084] Trial 103 finished with value: 5.834455890943914 and parameters: {'n_estimators': 160, 'max_depth': 55, 'num_leaves': 65, 'learning_rate': 0.011}. Best is trial 43 with value: 5.486299354001131.\n"
     ]
    },
    {
     "name": "stdout",
     "output_type": "stream",
     "text": [
      "5.834455890943914\n"
     ]
    },
    {
     "name": "stderr",
     "output_type": "stream",
     "text": [
      "[I 2023-11-16 15:44:54,203] Trial 104 finished with value: 5.509227773565149 and parameters: {'n_estimators': 120, 'max_depth': 35, 'num_leaves': 50, 'learning_rate': 0.051000000000000004}. Best is trial 43 with value: 5.486299354001131.\n"
     ]
    },
    {
     "name": "stdout",
     "output_type": "stream",
     "text": [
      "5.509227773565149\n"
     ]
    },
    {
     "name": "stderr",
     "output_type": "stream",
     "text": [
      "[I 2023-11-16 15:44:55,929] Trial 105 finished with value: 5.693784326699143 and parameters: {'n_estimators': 100, 'max_depth': 60, 'num_leaves': 45, 'learning_rate': 0.021}. Best is trial 43 with value: 5.486299354001131.\n"
     ]
    },
    {
     "name": "stdout",
     "output_type": "stream",
     "text": [
      "5.693784326699143\n"
     ]
    },
    {
     "name": "stderr",
     "output_type": "stream",
     "text": [
      "[I 2023-11-16 15:45:04,215] Trial 106 finished with value: 5.652215965007624 and parameters: {'n_estimators': 760, 'max_depth': 30, 'num_leaves': 45, 'learning_rate': 0.061}. Best is trial 43 with value: 5.486299354001131.\n"
     ]
    },
    {
     "name": "stdout",
     "output_type": "stream",
     "text": [
      "5.652215965007624\n"
     ]
    },
    {
     "name": "stderr",
     "output_type": "stream",
     "text": [
      "[I 2023-11-16 15:45:05,062] Trial 107 finished with value: 5.863870360434658 and parameters: {'n_estimators': 50, 'max_depth': 50, 'num_leaves': 10, 'learning_rate': 0.041}. Best is trial 43 with value: 5.486299354001131.\n"
     ]
    },
    {
     "name": "stdout",
     "output_type": "stream",
     "text": [
      "5.863870360434658\n"
     ]
    },
    {
     "name": "stderr",
     "output_type": "stream",
     "text": [
      "[I 2023-11-16 15:45:15,372] Trial 108 finished with value: 5.613032615376812 and parameters: {'n_estimators': 970, 'max_depth': 40, 'num_leaves': 35, 'learning_rate': 0.031}. Best is trial 43 with value: 5.486299354001131.\n"
     ]
    },
    {
     "name": "stdout",
     "output_type": "stream",
     "text": [
      "5.613032615376812\n"
     ]
    },
    {
     "name": "stderr",
     "output_type": "stream",
     "text": [
      "[I 2023-11-16 15:45:17,671] Trial 109 finished with value: 5.499097723092412 and parameters: {'n_estimators': 140, 'max_depth': 100, 'num_leaves': 40, 'learning_rate': 0.031}. Best is trial 43 with value: 5.486299354001131.\n"
     ]
    },
    {
     "name": "stdout",
     "output_type": "stream",
     "text": [
      "5.499097723092412\n"
     ]
    },
    {
     "name": "stderr",
     "output_type": "stream",
     "text": [
      "[I 2023-11-16 15:45:19,771] Trial 110 finished with value: 5.490524320737738 and parameters: {'n_estimators': 90, 'max_depth': 20, 'num_leaves': 55, 'learning_rate': 0.041}. Best is trial 43 with value: 5.486299354001131.\n"
     ]
    },
    {
     "name": "stdout",
     "output_type": "stream",
     "text": [
      "5.490524320737738\n"
     ]
    },
    {
     "name": "stderr",
     "output_type": "stream",
     "text": [
      "[I 2023-11-16 15:45:22,062] Trial 111 finished with value: 5.490524320737738 and parameters: {'n_estimators': 90, 'max_depth': 20, 'num_leaves': 55, 'learning_rate': 0.041}. Best is trial 43 with value: 5.486299354001131.\n"
     ]
    },
    {
     "name": "stdout",
     "output_type": "stream",
     "text": [
      "5.490524320737738\n"
     ]
    },
    {
     "name": "stderr",
     "output_type": "stream",
     "text": [
      "[I 2023-11-16 15:45:23,269] Trial 112 finished with value: 5.524808433245071 and parameters: {'n_estimators': 90, 'max_depth': 5, 'num_leaves': 55, 'learning_rate': 0.041}. Best is trial 43 with value: 5.486299354001131.\n"
     ]
    },
    {
     "name": "stdout",
     "output_type": "stream",
     "text": [
      "5.524808433245071\n"
     ]
    },
    {
     "name": "stderr",
     "output_type": "stream",
     "text": [
      "[I 2023-11-16 15:45:24,712] Trial 113 finished with value: 5.515309477498391 and parameters: {'n_estimators': 70, 'max_depth': 25, 'num_leaves': 55, 'learning_rate': 0.051000000000000004}. Best is trial 43 with value: 5.486299354001131.\n"
     ]
    },
    {
     "name": "stdout",
     "output_type": "stream",
     "text": [
      "5.515309477498391\n"
     ]
    },
    {
     "name": "stderr",
     "output_type": "stream",
     "text": [
      "[I 2023-11-16 15:45:26,725] Trial 114 finished with value: 5.611346558603477 and parameters: {'n_estimators': 130, 'max_depth': 20, 'num_leaves': 60, 'learning_rate': 0.161}. Best is trial 43 with value: 5.486299354001131.\n"
     ]
    },
    {
     "name": "stdout",
     "output_type": "stream",
     "text": [
      "5.611346558603477\n"
     ]
    },
    {
     "name": "stderr",
     "output_type": "stream",
     "text": [
      "[I 2023-11-16 15:45:29,946] Trial 115 finished with value: 5.563115536582353 and parameters: {'n_estimators': 190, 'max_depth': 15, 'num_leaves': 65, 'learning_rate': 0.061}. Best is trial 43 with value: 5.486299354001131.\n"
     ]
    },
    {
     "name": "stdout",
     "output_type": "stream",
     "text": [
      "5.563115536582353\n"
     ]
    },
    {
     "name": "stderr",
     "output_type": "stream",
     "text": [
      "[I 2023-11-16 15:45:31,646] Trial 116 finished with value: 5.492398826870812 and parameters: {'n_estimators': 90, 'max_depth': 20, 'num_leaves': 50, 'learning_rate': 0.051000000000000004}. Best is trial 43 with value: 5.486299354001131.\n"
     ]
    },
    {
     "name": "stdout",
     "output_type": "stream",
     "text": [
      "5.492398826870812\n"
     ]
    },
    {
     "name": "stderr",
     "output_type": "stream",
     "text": [
      "[I 2023-11-16 15:45:33,560] Trial 117 finished with value: 5.500087738785861 and parameters: {'n_estimators': 90, 'max_depth': 20, 'num_leaves': 70, 'learning_rate': 0.051000000000000004}. Best is trial 43 with value: 5.486299354001131.\n"
     ]
    },
    {
     "name": "stdout",
     "output_type": "stream",
     "text": [
      "5.500087738785861\n"
     ]
    },
    {
     "name": "stderr",
     "output_type": "stream",
     "text": [
      "[I 2023-11-16 15:45:35,137] Trial 118 finished with value: 5.6598866087996615 and parameters: {'n_estimators': 70, 'max_depth': 10, 'num_leaves': 95, 'learning_rate': 0.231}. Best is trial 43 with value: 5.486299354001131.\n"
     ]
    },
    {
     "name": "stdout",
     "output_type": "stream",
     "text": [
      "5.6598866087996615\n"
     ]
    },
    {
     "name": "stderr",
     "output_type": "stream",
     "text": [
      "[I 2023-11-16 15:45:36,495] Trial 119 finished with value: 5.526572907896572 and parameters: {'n_estimators': 50, 'max_depth': 20, 'num_leaves': 55, 'learning_rate': 0.061}. Best is trial 43 with value: 5.486299354001131.\n"
     ]
    },
    {
     "name": "stdout",
     "output_type": "stream",
     "text": [
      "5.526572907896572\n"
     ]
    },
    {
     "name": "stderr",
     "output_type": "stream",
     "text": [
      "[I 2023-11-16 15:45:44,868] Trial 120 finished with value: 5.596804048285618 and parameters: {'n_estimators': 600, 'max_depth': 25, 'num_leaves': 60, 'learning_rate': 0.041}. Best is trial 43 with value: 5.486299354001131.\n"
     ]
    },
    {
     "name": "stdout",
     "output_type": "stream",
     "text": [
      "5.596804048285618\n"
     ]
    },
    {
     "name": "stderr",
     "output_type": "stream",
     "text": [
      "[I 2023-11-16 15:45:47,418] Trial 121 finished with value: 5.531546132431943 and parameters: {'n_estimators': 160, 'max_depth': 15, 'num_leaves': 50, 'learning_rate': 0.051000000000000004}. Best is trial 43 with value: 5.486299354001131.\n"
     ]
    },
    {
     "name": "stdout",
     "output_type": "stream",
     "text": [
      "5.531546132431943\n"
     ]
    },
    {
     "name": "stderr",
     "output_type": "stream",
     "text": [
      "[I 2023-11-16 15:45:49,593] Trial 122 finished with value: 5.493977017379883 and parameters: {'n_estimators': 120, 'max_depth': 30, 'num_leaves': 50, 'learning_rate': 0.041}. Best is trial 43 with value: 5.486299354001131.\n"
     ]
    },
    {
     "name": "stdout",
     "output_type": "stream",
     "text": [
      "5.493977017379883\n"
     ]
    },
    {
     "name": "stderr",
     "output_type": "stream",
     "text": [
      "[I 2023-11-16 15:45:52,053] Trial 123 finished with value: 5.540619690192079 and parameters: {'n_estimators': 120, 'max_depth': 30, 'num_leaves': 65, 'learning_rate': 0.07100000000000001}. Best is trial 43 with value: 5.486299354001131.\n"
     ]
    },
    {
     "name": "stdout",
     "output_type": "stream",
     "text": [
      "5.540619690192079\n"
     ]
    },
    {
     "name": "stderr",
     "output_type": "stream",
     "text": [
      "[I 2023-11-16 15:45:53,970] Trial 124 finished with value: 5.500470592281172 and parameters: {'n_estimators': 90, 'max_depth': 20, 'num_leaves': 35, 'learning_rate': 0.041}. Best is trial 43 with value: 5.486299354001131.\n"
     ]
    },
    {
     "name": "stdout",
     "output_type": "stream",
     "text": [
      "5.500470592281172\n"
     ]
    },
    {
     "name": "stderr",
     "output_type": "stream",
     "text": [
      "[I 2023-11-16 15:45:56,639] Trial 125 finished with value: 5.621063228052897 and parameters: {'n_estimators': 110, 'max_depth': 30, 'num_leaves': 55, 'learning_rate': 0.021}. Best is trial 43 with value: 5.486299354001131.\n"
     ]
    },
    {
     "name": "stdout",
     "output_type": "stream",
     "text": [
      "5.621063228052897\n"
     ]
    },
    {
     "name": "stderr",
     "output_type": "stream",
     "text": [
      "[I 2023-11-16 15:45:58,863] Trial 126 finished with value: 5.506630382684067 and parameters: {'n_estimators': 170, 'max_depth': 25, 'num_leaves': 25, 'learning_rate': 0.031}. Best is trial 43 with value: 5.486299354001131.\n"
     ]
    },
    {
     "name": "stdout",
     "output_type": "stream",
     "text": [
      "5.506630382684067\n"
     ]
    },
    {
     "name": "stderr",
     "output_type": "stream",
     "text": [
      "[I 2023-11-16 15:46:00,590] Trial 127 finished with value: 5.892521623455055 and parameters: {'n_estimators': 80, 'max_depth': 20, 'num_leaves': 50, 'learning_rate': 0.021}. Best is trial 43 with value: 5.486299354001131.\n"
     ]
    },
    {
     "name": "stdout",
     "output_type": "stream",
     "text": [
      "5.892521623455055\n"
     ]
    },
    {
     "name": "stderr",
     "output_type": "stream",
     "text": [
      "[I 2023-11-16 15:46:03,149] Trial 128 finished with value: 5.523751019649573 and parameters: {'n_estimators': 140, 'max_depth': 25, 'num_leaves': 60, 'learning_rate': 0.051000000000000004}. Best is trial 43 with value: 5.486299354001131.\n"
     ]
    },
    {
     "name": "stdout",
     "output_type": "stream",
     "text": [
      "5.523751019649573\n"
     ]
    },
    {
     "name": "stderr",
     "output_type": "stream",
     "text": [
      "[I 2023-11-16 15:46:04,267] Trial 129 finished with value: 5.521995852019442 and parameters: {'n_estimators': 50, 'max_depth': 30, 'num_leaves': 50, 'learning_rate': 0.061}. Best is trial 43 with value: 5.486299354001131.\n"
     ]
    },
    {
     "name": "stdout",
     "output_type": "stream",
     "text": [
      "5.521995852019442\n"
     ]
    },
    {
     "name": "stderr",
     "output_type": "stream",
     "text": [
      "[I 2023-11-16 15:46:06,513] Trial 130 finished with value: 5.533716698658036 and parameters: {'n_estimators': 220, 'max_depth': 35, 'num_leaves': 20, 'learning_rate': 0.041}. Best is trial 43 with value: 5.486299354001131.\n"
     ]
    },
    {
     "name": "stdout",
     "output_type": "stream",
     "text": [
      "5.533716698658036\n"
     ]
    },
    {
     "name": "stderr",
     "output_type": "stream",
     "text": [
      "[I 2023-11-16 15:46:09,205] Trial 131 finished with value: 5.487108264310798 and parameters: {'n_estimators': 130, 'max_depth': 60, 'num_leaves': 45, 'learning_rate': 0.031}. Best is trial 43 with value: 5.486299354001131.\n"
     ]
    },
    {
     "name": "stdout",
     "output_type": "stream",
     "text": [
      "5.487108264310798\n"
     ]
    },
    {
     "name": "stderr",
     "output_type": "stream",
     "text": [
      "[I 2023-11-16 15:46:11,612] Trial 132 finished with value: 5.486299354001131 and parameters: {'n_estimators': 120, 'max_depth': 60, 'num_leaves': 45, 'learning_rate': 0.031}. Best is trial 43 with value: 5.486299354001131.\n"
     ]
    },
    {
     "name": "stdout",
     "output_type": "stream",
     "text": [
      "5.486299354001131\n"
     ]
    },
    {
     "name": "stderr",
     "output_type": "stream",
     "text": [
      "[I 2023-11-16 15:46:13,868] Trial 133 finished with value: 5.486299354001131 and parameters: {'n_estimators': 120, 'max_depth': 60, 'num_leaves': 45, 'learning_rate': 0.031}. Best is trial 43 with value: 5.486299354001131.\n"
     ]
    },
    {
     "name": "stdout",
     "output_type": "stream",
     "text": [
      "5.486299354001131\n"
     ]
    },
    {
     "name": "stderr",
     "output_type": "stream",
     "text": [
      "[I 2023-11-16 15:46:15,793] Trial 134 finished with value: 5.514359737281543 and parameters: {'n_estimators': 100, 'max_depth': 60, 'num_leaves': 45, 'learning_rate': 0.031}. Best is trial 43 with value: 5.486299354001131.\n"
     ]
    },
    {
     "name": "stdout",
     "output_type": "stream",
     "text": [
      "5.514359737281543\n"
     ]
    },
    {
     "name": "stderr",
     "output_type": "stream",
     "text": [
      "[I 2023-11-16 15:46:17,973] Trial 135 finished with value: 5.592247141182804 and parameters: {'n_estimators': 120, 'max_depth': 65, 'num_leaves': 40, 'learning_rate': 0.021}. Best is trial 43 with value: 5.486299354001131.\n"
     ]
    },
    {
     "name": "stdout",
     "output_type": "stream",
     "text": [
      "5.592247141182804\n"
     ]
    },
    {
     "name": "stderr",
     "output_type": "stream",
     "text": [
      "[I 2023-11-16 15:46:19,389] Trial 136 finished with value: 7.282340149569016 and parameters: {'n_estimators': 70, 'max_depth': 60, 'num_leaves': 45, 'learning_rate': 0.011}. Best is trial 43 with value: 5.486299354001131.\n"
     ]
    },
    {
     "name": "stdout",
     "output_type": "stream",
     "text": [
      "7.282340149569016\n"
     ]
    },
    {
     "name": "stderr",
     "output_type": "stream",
     "text": [
      "[I 2023-11-16 15:46:21,792] Trial 137 finished with value: 5.500983291540663 and parameters: {'n_estimators': 150, 'max_depth': 55, 'num_leaves': 40, 'learning_rate': 0.031}. Best is trial 43 with value: 5.486299354001131.\n"
     ]
    },
    {
     "name": "stdout",
     "output_type": "stream",
     "text": [
      "5.500983291540663\n"
     ]
    },
    {
     "name": "stderr",
     "output_type": "stream",
     "text": [
      "[I 2023-11-16 15:46:23,815] Trial 138 finished with value: 5.492481324502611 and parameters: {'n_estimators': 90, 'max_depth': 70, 'num_leaves': 50, 'learning_rate': 0.041}. Best is trial 43 with value: 5.486299354001131.\n"
     ]
    },
    {
     "name": "stdout",
     "output_type": "stream",
     "text": [
      "5.492481324502611\n"
     ]
    },
    {
     "name": "stderr",
     "output_type": "stream",
     "text": [
      "[I 2023-11-16 15:46:27,360] Trial 139 finished with value: 5.739717901568707 and parameters: {'n_estimators': 180, 'max_depth': 70, 'num_leaves': 50, 'learning_rate': 0.011}. Best is trial 43 with value: 5.486299354001131.\n"
     ]
    },
    {
     "name": "stdout",
     "output_type": "stream",
     "text": [
      "5.739717901568707\n"
     ]
    },
    {
     "name": "stderr",
     "output_type": "stream",
     "text": [
      "[I 2023-11-16 15:46:29,605] Trial 140 finished with value: 5.496947053964993 and parameters: {'n_estimators': 120, 'max_depth': 80, 'num_leaves': 45, 'learning_rate': 0.041}. Best is trial 43 with value: 5.486299354001131.\n"
     ]
    },
    {
     "name": "stdout",
     "output_type": "stream",
     "text": [
      "5.496947053964993\n"
     ]
    },
    {
     "name": "stderr",
     "output_type": "stream",
     "text": [
      "[I 2023-11-16 15:46:31,488] Trial 141 finished with value: 5.768882720283221 and parameters: {'n_estimators': 90, 'max_depth': 75, 'num_leaves': 55, 'learning_rate': 0.021}. Best is trial 43 with value: 5.486299354001131.\n"
     ]
    },
    {
     "name": "stdout",
     "output_type": "stream",
     "text": [
      "5.768882720283221\n"
     ]
    },
    {
     "name": "stderr",
     "output_type": "stream",
     "text": [
      "[I 2023-11-16 15:46:33,239] Trial 142 finished with value: 5.510970065764347 and parameters: {'n_estimators': 100, 'max_depth': 75, 'num_leaves': 45, 'learning_rate': 0.051000000000000004}. Best is trial 43 with value: 5.486299354001131.\n"
     ]
    },
    {
     "name": "stdout",
     "output_type": "stream",
     "text": [
      "5.510970065764347\n"
     ]
    },
    {
     "name": "stderr",
     "output_type": "stream",
     "text": [
      "[I 2023-11-16 15:46:34,634] Trial 143 finished with value: 5.665400627212456 and parameters: {'n_estimators': 70, 'max_depth': 60, 'num_leaves': 50, 'learning_rate': 0.031}. Best is trial 43 with value: 5.486299354001131.\n"
     ]
    },
    {
     "name": "stdout",
     "output_type": "stream",
     "text": [
      "5.665400627212456\n"
     ]
    },
    {
     "name": "stderr",
     "output_type": "stream",
     "text": [
      "[I 2023-11-16 15:46:46,281] Trial 144 finished with value: 5.638747098481447 and parameters: {'n_estimators': 880, 'max_depth': 65, 'num_leaves': 50, 'learning_rate': 0.041}. Best is trial 43 with value: 5.486299354001131.\n"
     ]
    },
    {
     "name": "stdout",
     "output_type": "stream",
     "text": [
      "5.638747098481447\n"
     ]
    },
    {
     "name": "stderr",
     "output_type": "stream",
     "text": [
      "[I 2023-11-16 15:46:48,492] Trial 145 finished with value: 5.489747949070258 and parameters: {'n_estimators': 130, 'max_depth': 15, 'num_leaves': 45, 'learning_rate': 0.031}. Best is trial 43 with value: 5.486299354001131.\n"
     ]
    },
    {
     "name": "stdout",
     "output_type": "stream",
     "text": [
      "5.489747949070258\n"
     ]
    },
    {
     "name": "stderr",
     "output_type": "stream",
     "text": [
      "[I 2023-11-16 15:46:51,153] Trial 146 finished with value: 5.492222966189048 and parameters: {'n_estimators': 160, 'max_depth': 60, 'num_leaves': 45, 'learning_rate': 0.031}. Best is trial 43 with value: 5.486299354001131.\n"
     ]
    },
    {
     "name": "stdout",
     "output_type": "stream",
     "text": [
      "5.492222966189048\n"
     ]
    },
    {
     "name": "stderr",
     "output_type": "stream",
     "text": [
      "[I 2023-11-16 15:46:53,558] Trial 147 finished with value: 5.531126804156334 and parameters: {'n_estimators': 150, 'max_depth': 15, 'num_leaves': 40, 'learning_rate': 0.021}. Best is trial 43 with value: 5.486299354001131.\n"
     ]
    },
    {
     "name": "stdout",
     "output_type": "stream",
     "text": [
      "5.531126804156334\n"
     ]
    },
    {
     "name": "stderr",
     "output_type": "stream",
     "text": [
      "[I 2023-11-16 15:46:55,986] Trial 148 finished with value: 5.492676371386757 and parameters: {'n_estimators': 130, 'max_depth': 10, 'num_leaves': 45, 'learning_rate': 0.031}. Best is trial 43 with value: 5.486299354001131.\n"
     ]
    },
    {
     "name": "stdout",
     "output_type": "stream",
     "text": [
      "5.492676371386757\n"
     ]
    },
    {
     "name": "stderr",
     "output_type": "stream",
     "text": [
      "[I 2023-11-16 15:46:59,378] Trial 149 finished with value: 5.4961750799627165 and parameters: {'n_estimators': 160, 'max_depth': 10, 'num_leaves': 45, 'learning_rate': 0.031}. Best is trial 43 with value: 5.486299354001131.\n",
      "C:\\Users\\Dmser\\AppData\\Local\\Temp\\ipykernel_15412\\1866508612.py:11: SettingWithCopyWarning: \n",
      "A value is trying to be set on a copy of a slice from a DataFrame.\n",
      "Try using .loc[row_indexer,col_indexer] = value instead\n",
      "\n",
      "See the caveats in the documentation: https://pandas.pydata.org/pandas-docs/stable/user_guide/indexing.html#returning-a-view-versus-a-copy\n",
      "  df2_temp[f'milk_yield_{i}'] = df2[f'milk_yield_{i}']\n",
      "[I 2023-11-16 15:46:59,470] A new study created in memory with name: no-name-7bf09525-36d8-484d-85fd-612ffe2c7adc\n"
     ]
    },
    {
     "name": "stdout",
     "output_type": "stream",
     "text": [
      "5.4961750799627165\n",
      "{'n_estimators': 120, 'max_depth': 30, 'num_leaves': 45, 'learning_rate': 0.031}\n"
     ]
    },
    {
     "name": "stderr",
     "output_type": "stream",
     "text": [
      "[I 2023-11-16 15:47:01,848] Trial 0 finished with value: 6.481484212740307 and parameters: {'n_estimators': 430, 'max_depth': 100, 'num_leaves': 5, 'learning_rate': 0.171}. Best is trial 0 with value: 6.481484212740307.\n"
     ]
    },
    {
     "name": "stdout",
     "output_type": "stream",
     "text": [
      "6.481484212740307\n"
     ]
    },
    {
     "name": "stderr",
     "output_type": "stream",
     "text": [
      "[I 2023-11-16 15:47:13,084] Trial 1 finished with value: 6.6144792691243595 and parameters: {'n_estimators': 880, 'max_depth': 75, 'num_leaves': 55, 'learning_rate': 0.081}. Best is trial 0 with value: 6.481484212740307.\n"
     ]
    },
    {
     "name": "stdout",
     "output_type": "stream",
     "text": [
      "6.6144792691243595\n"
     ]
    },
    {
     "name": "stderr",
     "output_type": "stream",
     "text": [
      "[I 2023-11-16 15:47:20,870] Trial 2 finished with value: 8.483310670281227 and parameters: {'n_estimators': 510, 'max_depth': 55, 'num_leaves': 40, 'learning_rate': 0.001}. Best is trial 0 with value: 6.481484212740307.\n"
     ]
    },
    {
     "name": "stdout",
     "output_type": "stream",
     "text": [
      "8.483310670281227\n"
     ]
    },
    {
     "name": "stderr",
     "output_type": "stream",
     "text": [
      "[I 2023-11-16 15:47:33,686] Trial 3 finished with value: 6.792187315424519 and parameters: {'n_estimators': 940, 'max_depth': 75, 'num_leaves': 70, 'learning_rate': 0.14100000000000001}. Best is trial 0 with value: 6.481484212740307.\n"
     ]
    },
    {
     "name": "stdout",
     "output_type": "stream",
     "text": [
      "6.792187315424519\n"
     ]
    },
    {
     "name": "stderr",
     "output_type": "stream",
     "text": [
      "[I 2023-11-16 15:47:48,098] Trial 4 finished with value: 6.869959675108362 and parameters: {'n_estimators': 880, 'max_depth': 80, 'num_leaves': 95, 'learning_rate': 0.161}. Best is trial 0 with value: 6.481484212740307.\n"
     ]
    },
    {
     "name": "stdout",
     "output_type": "stream",
     "text": [
      "6.869959675108362\n"
     ]
    },
    {
     "name": "stderr",
     "output_type": "stream",
     "text": [
      "[I 2023-11-16 15:47:53,711] Trial 5 finished with value: 6.685289385110988 and parameters: {'n_estimators': 600, 'max_depth': 20, 'num_leaves': 40, 'learning_rate': 0.191}. Best is trial 0 with value: 6.481484212740307.\n"
     ]
    },
    {
     "name": "stdout",
     "output_type": "stream",
     "text": [
      "6.685289385110988\n"
     ]
    },
    {
     "name": "stderr",
     "output_type": "stream",
     "text": [
      "[I 2023-11-16 15:47:57,824] Trial 6 finished with value: 6.583864042712452 and parameters: {'n_estimators': 300, 'max_depth': 15, 'num_leaves': 65, 'learning_rate': 0.131}. Best is trial 0 with value: 6.481484212740307.\n"
     ]
    },
    {
     "name": "stdout",
     "output_type": "stream",
     "text": [
      "6.583864042712452\n"
     ]
    },
    {
     "name": "stderr",
     "output_type": "stream",
     "text": [
      "[I 2023-11-16 15:48:04,357] Trial 7 finished with value: 6.724494568594573 and parameters: {'n_estimators': 620, 'max_depth': 85, 'num_leaves': 40, 'learning_rate': 0.221}. Best is trial 0 with value: 6.481484212740307.\n"
     ]
    },
    {
     "name": "stdout",
     "output_type": "stream",
     "text": [
      "6.724494568594573\n"
     ]
    },
    {
     "name": "stderr",
     "output_type": "stream",
     "text": [
      "[I 2023-11-16 15:48:07,723] Trial 8 finished with value: 6.488943724799956 and parameters: {'n_estimators': 200, 'max_depth': 60, 'num_leaves': 75, 'learning_rate': 0.081}. Best is trial 0 with value: 6.481484212740307.\n"
     ]
    },
    {
     "name": "stdout",
     "output_type": "stream",
     "text": [
      "6.488943724799956\n"
     ]
    },
    {
     "name": "stderr",
     "output_type": "stream",
     "text": [
      "[I 2023-11-16 15:48:21,282] Trial 9 finished with value: 6.804658400108905 and parameters: {'n_estimators': 880, 'max_depth': 45, 'num_leaves': 90, 'learning_rate': 0.161}. Best is trial 0 with value: 6.481484212740307.\n"
     ]
    },
    {
     "name": "stdout",
     "output_type": "stream",
     "text": [
      "6.804658400108905\n"
     ]
    },
    {
     "name": "stderr",
     "output_type": "stream",
     "text": [
      "[I 2023-11-16 15:48:22,171] Trial 10 finished with value: 6.428329419990557 and parameters: {'n_estimators': 80, 'max_depth': 100, 'num_leaves': 15, 'learning_rate': 0.251}. Best is trial 10 with value: 6.428329419990557.\n"
     ]
    },
    {
     "name": "stdout",
     "output_type": "stream",
     "text": [
      "6.428329419990557\n"
     ]
    },
    {
     "name": "stderr",
     "output_type": "stream",
     "text": [
      "[I 2023-11-16 15:48:22,819] Trial 11 finished with value: 6.523631641719689 and parameters: {'n_estimators': 70, 'max_depth': 100, 'num_leaves': 5, 'learning_rate': 0.251}. Best is trial 10 with value: 6.428329419990557.\n"
     ]
    },
    {
     "name": "stdout",
     "output_type": "stream",
     "text": [
      "6.523631641719689\n"
     ]
    },
    {
     "name": "stderr",
     "output_type": "stream",
     "text": [
      "[I 2023-11-16 15:48:25,089] Trial 12 finished with value: 6.527869407182053 and parameters: {'n_estimators': 430, 'max_depth': 100, 'num_leaves': 5, 'learning_rate': 0.251}. Best is trial 10 with value: 6.428329419990557.\n"
     ]
    },
    {
     "name": "stdout",
     "output_type": "stream",
     "text": [
      "6.527869407182053\n"
     ]
    },
    {
     "name": "stderr",
     "output_type": "stream",
     "text": [
      "[I 2023-11-16 15:48:26,029] Trial 13 finished with value: 6.450925389108183 and parameters: {'n_estimators': 80, 'max_depth': 95, 'num_leaves': 20, 'learning_rate': 0.201}. Best is trial 10 with value: 6.428329419990557.\n"
     ]
    },
    {
     "name": "stdout",
     "output_type": "stream",
     "text": [
      "6.450925389108183\n"
     ]
    },
    {
     "name": "stderr",
     "output_type": "stream",
     "text": [
      "[I 2023-11-16 15:48:26,902] Trial 14 finished with value: 6.38369408116051 and parameters: {'n_estimators': 60, 'max_depth': 35, 'num_leaves': 25, 'learning_rate': 0.211}. Best is trial 14 with value: 6.38369408116051.\n"
     ]
    },
    {
     "name": "stdout",
     "output_type": "stream",
     "text": [
      "6.38369408116051\n"
     ]
    },
    {
     "name": "stderr",
     "output_type": "stream",
     "text": [
      "[I 2023-11-16 15:48:28,953] Trial 15 finished with value: 6.571561431171648 and parameters: {'n_estimators': 230, 'max_depth': 35, 'num_leaves': 25, 'learning_rate': 0.221}. Best is trial 14 with value: 6.38369408116051.\n"
     ]
    },
    {
     "name": "stdout",
     "output_type": "stream",
     "text": [
      "6.571561431171648\n"
     ]
    },
    {
     "name": "stderr",
     "output_type": "stream",
     "text": [
      "[I 2023-11-16 15:48:30,664] Trial 16 finished with value: 6.494882657374809 and parameters: {'n_estimators': 160, 'max_depth': 5, 'num_leaves': 25, 'learning_rate': 0.081}. Best is trial 14 with value: 6.38369408116051.\n"
     ]
    },
    {
     "name": "stdout",
     "output_type": "stream",
     "text": [
      "6.494882657374809\n"
     ]
    },
    {
     "name": "stderr",
     "output_type": "stream",
     "text": [
      "[I 2023-11-16 15:48:33,938] Trial 17 finished with value: 6.607229274772058 and parameters: {'n_estimators': 330, 'max_depth': 35, 'num_leaves': 20, 'learning_rate': 0.221}. Best is trial 14 with value: 6.38369408116051.\n"
     ]
    },
    {
     "name": "stdout",
     "output_type": "stream",
     "text": [
      "6.607229274772058\n"
     ]
    },
    {
     "name": "stderr",
     "output_type": "stream",
     "text": [
      "[I 2023-11-16 15:48:34,854] Trial 18 finished with value: 6.416543361803912 and parameters: {'n_estimators': 50, 'max_depth': 65, 'num_leaves': 35, 'learning_rate': 0.251}. Best is trial 14 with value: 6.38369408116051.\n"
     ]
    },
    {
     "name": "stdout",
     "output_type": "stream",
     "text": [
      "6.416543361803912\n"
     ]
    },
    {
     "name": "stderr",
     "output_type": "stream",
     "text": [
      "[I 2023-11-16 15:48:38,488] Trial 19 finished with value: 6.533260074893786 and parameters: {'n_estimators': 310, 'max_depth': 65, 'num_leaves': 35, 'learning_rate': 0.111}. Best is trial 14 with value: 6.38369408116051.\n"
     ]
    },
    {
     "name": "stdout",
     "output_type": "stream",
     "text": [
      "6.533260074893786\n"
     ]
    },
    {
     "name": "stderr",
     "output_type": "stream",
     "text": [
      "[I 2023-11-16 15:48:41,416] Trial 20 finished with value: 6.613761253238506 and parameters: {'n_estimators': 180, 'max_depth': 45, 'num_leaves': 50, 'learning_rate': 0.191}. Best is trial 14 with value: 6.38369408116051.\n"
     ]
    },
    {
     "name": "stdout",
     "output_type": "stream",
     "text": [
      "6.613761253238506\n"
     ]
    },
    {
     "name": "stderr",
     "output_type": "stream",
     "text": [
      "[I 2023-11-16 15:48:42,392] Trial 21 finished with value: 6.430016716026602 and parameters: {'n_estimators': 60, 'max_depth': 30, 'num_leaves': 30, 'learning_rate': 0.251}. Best is trial 14 with value: 6.38369408116051.\n"
     ]
    },
    {
     "name": "stdout",
     "output_type": "stream",
     "text": [
      "6.430016716026602\n"
     ]
    },
    {
     "name": "stderr",
     "output_type": "stream",
     "text": [
      "[I 2023-11-16 15:48:43,752] Trial 22 finished with value: 6.4426257919104915 and parameters: {'n_estimators': 130, 'max_depth': 65, 'num_leaves': 15, 'learning_rate': 0.221}. Best is trial 14 with value: 6.38369408116051.\n"
     ]
    },
    {
     "name": "stdout",
     "output_type": "stream",
     "text": [
      "6.4426257919104915\n"
     ]
    },
    {
     "name": "stderr",
     "output_type": "stream",
     "text": [
      "[I 2023-11-16 15:48:47,205] Trial 23 finished with value: 6.649493245309741 and parameters: {'n_estimators': 250, 'max_depth': 45, 'num_leaves': 50, 'learning_rate': 0.231}. Best is trial 14 with value: 6.38369408116051.\n"
     ]
    },
    {
     "name": "stdout",
     "output_type": "stream",
     "text": [
      "6.649493245309741\n"
     ]
    },
    {
     "name": "stderr",
     "output_type": "stream",
     "text": [
      "[I 2023-11-16 15:48:52,427] Trial 24 finished with value: 6.719507061690336 and parameters: {'n_estimators': 710, 'max_depth': 25, 'num_leaves': 15, 'learning_rate': 0.251}. Best is trial 14 with value: 6.38369408116051.\n"
     ]
    },
    {
     "name": "stdout",
     "output_type": "stream",
     "text": [
      "6.719507061690336\n"
     ]
    },
    {
     "name": "stderr",
     "output_type": "stream",
     "text": [
      "[I 2023-11-16 15:48:53,146] Trial 25 finished with value: 6.413044893747899 and parameters: {'n_estimators': 50, 'max_depth': 90, 'num_leaves': 15, 'learning_rate': 0.201}. Best is trial 14 with value: 6.38369408116051.\n"
     ]
    },
    {
     "name": "stdout",
     "output_type": "stream",
     "text": [
      "6.413044893747899\n"
     ]
    },
    {
     "name": "stderr",
     "output_type": "stream",
     "text": [
      "[I 2023-11-16 15:48:54,633] Trial 26 finished with value: 6.54691426944399 and parameters: {'n_estimators': 140, 'max_depth': 90, 'num_leaves': 30, 'learning_rate': 0.201}. Best is trial 14 with value: 6.38369408116051.\n"
     ]
    },
    {
     "name": "stdout",
     "output_type": "stream",
     "text": [
      "6.54691426944399\n"
     ]
    },
    {
     "name": "stderr",
     "output_type": "stream",
     "text": [
      "[I 2023-11-16 15:48:58,844] Trial 27 finished with value: 6.636820655070248 and parameters: {'n_estimators': 400, 'max_depth': 70, 'num_leaves': 45, 'learning_rate': 0.181}. Best is trial 14 with value: 6.38369408116051.\n"
     ]
    },
    {
     "name": "stdout",
     "output_type": "stream",
     "text": [
      "6.636820655070248\n"
     ]
    },
    {
     "name": "stderr",
     "output_type": "stream",
     "text": [
      "[I 2023-11-16 15:49:01,749] Trial 28 finished with value: 6.379144429444434 and parameters: {'n_estimators': 250, 'max_depth': 50, 'num_leaves': 30, 'learning_rate': 0.041}. Best is trial 28 with value: 6.379144429444434.\n"
     ]
    },
    {
     "name": "stdout",
     "output_type": "stream",
     "text": [
      "6.379144429444434\n"
     ]
    },
    {
     "name": "stderr",
     "output_type": "stream",
     "text": [
      "[I 2023-11-16 15:49:05,659] Trial 29 finished with value: 8.994414885627332 and parameters: {'n_estimators': 410, 'max_depth': 50, 'num_leaves': 10, 'learning_rate': 0.001}. Best is trial 28 with value: 6.379144429444434.\n"
     ]
    },
    {
     "name": "stdout",
     "output_type": "stream",
     "text": [
      "8.994414885627332\n"
     ]
    },
    {
     "name": "stderr",
     "output_type": "stream",
     "text": [
      "[I 2023-11-16 15:49:10,188] Trial 30 finished with value: 6.394993621002062 and parameters: {'n_estimators': 260, 'max_depth': 40, 'num_leaves': 60, 'learning_rate': 0.031}. Best is trial 28 with value: 6.379144429444434.\n"
     ]
    },
    {
     "name": "stdout",
     "output_type": "stream",
     "text": [
      "6.394993621002062\n"
     ]
    },
    {
     "name": "stderr",
     "output_type": "stream",
     "text": [
      "[I 2023-11-16 15:49:16,264] Trial 31 finished with value: 6.447962422551413 and parameters: {'n_estimators': 250, 'max_depth': 40, 'num_leaves': 105, 'learning_rate': 0.031}. Best is trial 28 with value: 6.379144429444434.\n"
     ]
    },
    {
     "name": "stdout",
     "output_type": "stream",
     "text": [
      "6.447962422551413\n"
     ]
    },
    {
     "name": "stderr",
     "output_type": "stream",
     "text": [
      "[I 2023-11-16 15:49:19,047] Trial 32 finished with value: 6.352378936179363 and parameters: {'n_estimators': 130, 'max_depth': 55, 'num_leaves': 60, 'learning_rate': 0.041}. Best is trial 32 with value: 6.352378936179363.\n"
     ]
    },
    {
     "name": "stdout",
     "output_type": "stream",
     "text": [
      "6.352378936179363\n"
     ]
    },
    {
     "name": "stderr",
     "output_type": "stream",
     "text": [
      "[I 2023-11-16 15:49:24,992] Trial 33 finished with value: 6.444061787044337 and parameters: {'n_estimators': 350, 'max_depth': 55, 'num_leaves': 60, 'learning_rate': 0.041}. Best is trial 32 with value: 6.352378936179363.\n"
     ]
    },
    {
     "name": "stdout",
     "output_type": "stream",
     "text": [
      "6.444061787044337\n"
     ]
    },
    {
     "name": "stderr",
     "output_type": "stream",
     "text": [
      "[I 2023-11-16 15:49:27,871] Trial 34 finished with value: 6.403921689774449 and parameters: {'n_estimators': 130, 'max_depth': 50, 'num_leaves': 75, 'learning_rate': 0.051000000000000004}. Best is trial 32 with value: 6.352378936179363.\n"
     ]
    },
    {
     "name": "stdout",
     "output_type": "stream",
     "text": [
      "6.403921689774449\n"
     ]
    },
    {
     "name": "stderr",
     "output_type": "stream",
     "text": [
      "[I 2023-11-16 15:49:35,502] Trial 35 finished with value: 6.414027434004391 and parameters: {'n_estimators': 470, 'max_depth': 40, 'num_leaves': 60, 'learning_rate': 0.021}. Best is trial 32 with value: 6.352378936179363.\n"
     ]
    },
    {
     "name": "stdout",
     "output_type": "stream",
     "text": [
      "6.414027434004391\n"
     ]
    },
    {
     "name": "stderr",
     "output_type": "stream",
     "text": [
      "[I 2023-11-16 15:49:40,881] Trial 36 finished with value: 6.480552753479659 and parameters: {'n_estimators': 260, 'max_depth': 30, 'num_leaves': 80, 'learning_rate': 0.061}. Best is trial 32 with value: 6.352378936179363.\n"
     ]
    },
    {
     "name": "stdout",
     "output_type": "stream",
     "text": [
      "6.480552753479659\n"
     ]
    },
    {
     "name": "stderr",
     "output_type": "stream",
     "text": [
      "[I 2023-11-16 15:49:43,643] Trial 37 finished with value: 6.498236495093955 and parameters: {'n_estimators': 190, 'max_depth': 55, 'num_leaves': 55, 'learning_rate': 0.101}. Best is trial 32 with value: 6.352378936179363.\n"
     ]
    },
    {
     "name": "stdout",
     "output_type": "stream",
     "text": [
      "6.498236495093955\n"
     ]
    },
    {
     "name": "stderr",
     "output_type": "stream",
     "text": [
      "[I 2023-11-16 15:49:54,339] Trial 38 finished with value: 6.367316789452021 and parameters: {'n_estimators': 550, 'max_depth': 20, 'num_leaves': 65, 'learning_rate': 0.011}. Best is trial 32 with value: 6.352378936179363.\n"
     ]
    },
    {
     "name": "stdout",
     "output_type": "stream",
     "text": [
      "6.367316789452021\n"
     ]
    },
    {
     "name": "stderr",
     "output_type": "stream",
     "text": [
      "[I 2023-11-16 15:50:04,990] Trial 39 finished with value: 6.379981745688685 and parameters: {'n_estimators': 560, 'max_depth': 10, 'num_leaves': 70, 'learning_rate': 0.011}. Best is trial 32 with value: 6.352378936179363.\n"
     ]
    },
    {
     "name": "stdout",
     "output_type": "stream",
     "text": [
      "6.379981745688685\n"
     ]
    },
    {
     "name": "stderr",
     "output_type": "stream",
     "text": [
      "[I 2023-11-16 15:50:11,976] Trial 40 finished with value: 8.254482474966066 and parameters: {'n_estimators': 590, 'max_depth': 5, 'num_leaves': 85, 'learning_rate': 0.001}. Best is trial 32 with value: 6.352378936179363.\n"
     ]
    },
    {
     "name": "stdout",
     "output_type": "stream",
     "text": [
      "8.254482474966066\n"
     ]
    },
    {
     "name": "stderr",
     "output_type": "stream",
     "text": [
      "[I 2023-11-16 15:50:25,506] Trial 41 finished with value: 6.405429101967662 and parameters: {'n_estimators': 700, 'max_depth': 15, 'num_leaves': 70, 'learning_rate': 0.011}. Best is trial 32 with value: 6.352378936179363.\n"
     ]
    },
    {
     "name": "stdout",
     "output_type": "stream",
     "text": [
      "6.405429101967662\n"
     ]
    },
    {
     "name": "stderr",
     "output_type": "stream",
     "text": [
      "[I 2023-11-16 15:50:33,343] Trial 42 finished with value: 6.562476119450204 and parameters: {'n_estimators': 530, 'max_depth': 15, 'num_leaves': 70, 'learning_rate': 0.061}. Best is trial 32 with value: 6.352378936179363.\n"
     ]
    },
    {
     "name": "stdout",
     "output_type": "stream",
     "text": [
      "6.562476119450204\n"
     ]
    },
    {
     "name": "stderr",
     "output_type": "stream",
     "text": [
      "[I 2023-11-16 15:50:45,288] Trial 43 finished with value: 6.459620763946468 and parameters: {'n_estimators': 690, 'max_depth': 20, 'num_leaves': 65, 'learning_rate': 0.021}. Best is trial 32 with value: 6.352378936179363.\n"
     ]
    },
    {
     "name": "stdout",
     "output_type": "stream",
     "text": [
      "6.459620763946468\n"
     ]
    },
    {
     "name": "stderr",
     "output_type": "stream",
     "text": [
      "[I 2023-11-16 15:50:51,005] Trial 44 finished with value: 6.625863936505907 and parameters: {'n_estimators': 520, 'max_depth': 10, 'num_leaves': 50, 'learning_rate': 0.151}. Best is trial 32 with value: 6.352378936179363.\n"
     ]
    },
    {
     "name": "stdout",
     "output_type": "stream",
     "text": [
      "6.625863936505907\n"
     ]
    },
    {
     "name": "stderr",
     "output_type": "stream",
     "text": [
      "[I 2023-11-16 15:51:01,751] Trial 45 finished with value: 6.593816937603901 and parameters: {'n_estimators': 800, 'max_depth': 25, 'num_leaves': 65, 'learning_rate': 0.07100000000000001}. Best is trial 32 with value: 6.352378936179363.\n"
     ]
    },
    {
     "name": "stdout",
     "output_type": "stream",
     "text": [
      "6.593816937603901\n"
     ]
    },
    {
     "name": "stderr",
     "output_type": "stream",
     "text": [
      "[I 2023-11-16 15:51:14,015] Trial 46 finished with value: 6.3890046540930765 and parameters: {'n_estimators': 560, 'max_depth': 20, 'num_leaves': 80, 'learning_rate': 0.011}. Best is trial 32 with value: 6.352378936179363.\n"
     ]
    },
    {
     "name": "stdout",
     "output_type": "stream",
     "text": [
      "6.3890046540930765\n"
     ]
    },
    {
     "name": "stderr",
     "output_type": "stream",
     "text": [
      "[I 2023-11-16 15:51:20,563] Trial 47 finished with value: 6.466013421468385 and parameters: {'n_estimators': 460, 'max_depth': 10, 'num_leaves': 55, 'learning_rate': 0.041}. Best is trial 32 with value: 6.352378936179363.\n"
     ]
    },
    {
     "name": "stdout",
     "output_type": "stream",
     "text": [
      "6.466013421468385\n"
     ]
    },
    {
     "name": "stderr",
     "output_type": "stream",
     "text": [
      "[I 2023-11-16 15:51:27,163] Trial 48 finished with value: 6.614046158541918 and parameters: {'n_estimators': 630, 'max_depth': 60, 'num_leaves': 45, 'learning_rate': 0.101}. Best is trial 32 with value: 6.352378936179363.\n"
     ]
    },
    {
     "name": "stdout",
     "output_type": "stream",
     "text": [
      "6.614046158541918\n"
     ]
    },
    {
     "name": "stderr",
     "output_type": "stream",
     "text": [
      "[I 2023-11-16 15:51:29,919] Trial 49 finished with value: 6.36251595758439 and parameters: {'n_estimators': 100, 'max_depth': 30, 'num_leaves': 75, 'learning_rate': 0.041}. Best is trial 32 with value: 6.352378936179363.\n"
     ]
    },
    {
     "name": "stdout",
     "output_type": "stream",
     "text": [
      "6.36251595758439\n"
     ]
    },
    {
     "name": "stderr",
     "output_type": "stream",
     "text": [
      "[I 2023-11-16 15:51:37,135] Trial 50 finished with value: 6.520865394616748 and parameters: {'n_estimators': 370, 'max_depth': 80, 'num_leaves': 95, 'learning_rate': 0.051000000000000004}. Best is trial 32 with value: 6.352378936179363.\n"
     ]
    },
    {
     "name": "stdout",
     "output_type": "stream",
     "text": [
      "6.520865394616748\n"
     ]
    },
    {
     "name": "stderr",
     "output_type": "stream",
     "text": [
      "[I 2023-11-16 15:51:39,523] Trial 51 finished with value: 6.357621146172785 and parameters: {'n_estimators': 100, 'max_depth': 30, 'num_leaves': 75, 'learning_rate': 0.031}. Best is trial 32 with value: 6.352378936179363.\n"
     ]
    },
    {
     "name": "stdout",
     "output_type": "stream",
     "text": [
      "6.357621146172785\n"
     ]
    },
    {
     "name": "stderr",
     "output_type": "stream",
     "text": [
      "[I 2023-11-16 15:51:42,000] Trial 52 finished with value: 6.430400878251859 and parameters: {'n_estimators': 110, 'max_depth': 25, 'num_leaves': 75, 'learning_rate': 0.021}. Best is trial 32 with value: 6.352378936179363.\n"
     ]
    },
    {
     "name": "stdout",
     "output_type": "stream",
     "text": [
      "6.430400878251859\n"
     ]
    },
    {
     "name": "stderr",
     "output_type": "stream",
     "text": [
      "[I 2023-11-16 15:51:46,858] Trial 53 finished with value: 6.422311099846449 and parameters: {'n_estimators': 210, 'max_depth': 30, 'num_leaves': 80, 'learning_rate': 0.041}. Best is trial 32 with value: 6.352378936179363.\n"
     ]
    },
    {
     "name": "stdout",
     "output_type": "stream",
     "text": [
      "6.422311099846449\n"
     ]
    },
    {
     "name": "stderr",
     "output_type": "stream",
     "text": [
      "[I 2023-11-16 15:51:49,115] Trial 54 finished with value: 7.125182670495623 and parameters: {'n_estimators': 100, 'max_depth': 10, 'num_leaves': 70, 'learning_rate': 0.011}. Best is trial 32 with value: 6.352378936179363.\n"
     ]
    },
    {
     "name": "stdout",
     "output_type": "stream",
     "text": [
      "7.125182670495623\n"
     ]
    },
    {
     "name": "stderr",
     "output_type": "stream",
     "text": [
      "[I 2023-11-16 15:52:01,233] Trial 55 finished with value: 6.508507457303077 and parameters: {'n_estimators': 650, 'max_depth': 20, 'num_leaves': 90, 'learning_rate': 0.031}. Best is trial 32 with value: 6.352378936179363.\n"
     ]
    },
    {
     "name": "stdout",
     "output_type": "stream",
     "text": [
      "6.508507457303077\n"
     ]
    },
    {
     "name": "stderr",
     "output_type": "stream",
     "text": [
      "[I 2023-11-16 15:52:04,190] Trial 56 finished with value: 6.417865192442101 and parameters: {'n_estimators': 170, 'max_depth': 15, 'num_leaves': 65, 'learning_rate': 0.07100000000000001}. Best is trial 32 with value: 6.352378936179363.\n"
     ]
    },
    {
     "name": "stdout",
     "output_type": "stream",
     "text": [
      "6.417865192442101\n"
     ]
    },
    {
     "name": "stderr",
     "output_type": "stream",
     "text": [
      "[I 2023-11-16 15:52:12,173] Trial 57 finished with value: 6.536707497686319 and parameters: {'n_estimators': 470, 'max_depth': 25, 'num_leaves': 85, 'learning_rate': 0.051000000000000004}. Best is trial 32 with value: 6.352378936179363.\n"
     ]
    },
    {
     "name": "stdout",
     "output_type": "stream",
     "text": [
      "6.536707497686319\n"
     ]
    },
    {
     "name": "stderr",
     "output_type": "stream",
     "text": [
      "[I 2023-11-16 15:52:28,122] Trial 58 finished with value: 7.721243055338171 and parameters: {'n_estimators': 770, 'max_depth': 35, 'num_leaves': 70, 'learning_rate': 0.001}. Best is trial 32 with value: 6.352378936179363.\n"
     ]
    },
    {
     "name": "stdout",
     "output_type": "stream",
     "text": [
      "7.721243055338171\n"
     ]
    },
    {
     "name": "stderr",
     "output_type": "stream",
     "text": [
      "[I 2023-11-16 15:52:37,982] Trial 59 finished with value: 6.432032497958424 and parameters: {'n_estimators': 570, 'max_depth': 60, 'num_leaves': 60, 'learning_rate': 0.021}. Best is trial 32 with value: 6.352378936179363.\n"
     ]
    },
    {
     "name": "stdout",
     "output_type": "stream",
     "text": [
      "6.432032497958424\n"
     ]
    },
    {
     "name": "stderr",
     "output_type": "stream",
     "text": [
      "[I 2023-11-16 15:52:43,201] Trial 60 finished with value: 6.5485350712183585 and parameters: {'n_estimators': 300, 'max_depth': 50, 'num_leaves': 75, 'learning_rate': 0.091}. Best is trial 32 with value: 6.352378936179363.\n"
     ]
    },
    {
     "name": "stdout",
     "output_type": "stream",
     "text": [
      "6.5485350712183585\n"
     ]
    },
    {
     "name": "stderr",
     "output_type": "stream",
     "text": [
      "[I 2023-11-16 15:52:44,421] Trial 61 finished with value: 6.400258504130994 and parameters: {'n_estimators': 100, 'max_depth': 35, 'num_leaves': 25, 'learning_rate': 0.131}. Best is trial 32 with value: 6.352378936179363.\n"
     ]
    },
    {
     "name": "stdout",
     "output_type": "stream",
     "text": [
      "6.400258504130994\n"
     ]
    },
    {
     "name": "stderr",
     "output_type": "stream",
     "text": [
      "[I 2023-11-16 15:52:47,712] Trial 62 finished with value: 6.366233206350076 and parameters: {'n_estimators': 150, 'max_depth': 45, 'num_leaves': 65, 'learning_rate': 0.041}. Best is trial 32 with value: 6.352378936179363.\n"
     ]
    },
    {
     "name": "stdout",
     "output_type": "stream",
     "text": [
      "6.366233206350076\n"
     ]
    },
    {
     "name": "stderr",
     "output_type": "stream",
     "text": [
      "[I 2023-11-16 15:53:01,369] Trial 63 finished with value: 6.525459106131429 and parameters: {'n_estimators': 970, 'max_depth': 45, 'num_leaves': 65, 'learning_rate': 0.031}. Best is trial 32 with value: 6.352378936179363.\n"
     ]
    },
    {
     "name": "stdout",
     "output_type": "stream",
     "text": [
      "6.525459106131429\n"
     ]
    },
    {
     "name": "stderr",
     "output_type": "stream",
     "text": [
      "[I 2023-11-16 15:53:04,488] Trial 64 finished with value: 6.411627379822286 and parameters: {'n_estimators': 160, 'max_depth': 30, 'num_leaves': 55, 'learning_rate': 0.061}. Best is trial 32 with value: 6.352378936179363.\n"
     ]
    },
    {
     "name": "stdout",
     "output_type": "stream",
     "text": [
      "6.411627379822286\n"
     ]
    },
    {
     "name": "stderr",
     "output_type": "stream",
     "text": [
      "[I 2023-11-16 15:53:07,076] Trial 65 finished with value: 6.351797535521179 and parameters: {'n_estimators': 90, 'max_depth': 55, 'num_leaves': 75, 'learning_rate': 0.041}. Best is trial 65 with value: 6.351797535521179.\n"
     ]
    },
    {
     "name": "stdout",
     "output_type": "stream",
     "text": [
      "6.351797535521179\n"
     ]
    },
    {
     "name": "stderr",
     "output_type": "stream",
     "text": [
      "[I 2023-11-16 15:53:11,283] Trial 66 finished with value: 6.422901632508285 and parameters: {'n_estimators': 220, 'max_depth': 55, 'num_leaves': 75, 'learning_rate': 0.041}. Best is trial 65 with value: 6.351797535521179.\n"
     ]
    },
    {
     "name": "stdout",
     "output_type": "stream",
     "text": [
      "6.422901632508285\n"
     ]
    },
    {
     "name": "stderr",
     "output_type": "stream",
     "text": [
      "[I 2023-11-16 15:53:13,228] Trial 67 finished with value: 6.389434514562032 and parameters: {'n_estimators': 80, 'max_depth': 60, 'num_leaves': 85, 'learning_rate': 0.07100000000000001}. Best is trial 65 with value: 6.351797535521179.\n"
     ]
    },
    {
     "name": "stdout",
     "output_type": "stream",
     "text": [
      "6.389434514562032\n"
     ]
    },
    {
     "name": "stderr",
     "output_type": "stream",
     "text": [
      "[I 2023-11-16 15:53:16,220] Trial 68 finished with value: 6.402421408447415 and parameters: {'n_estimators': 140, 'max_depth': 70, 'num_leaves': 80, 'learning_rate': 0.051000000000000004}. Best is trial 65 with value: 6.351797535521179.\n"
     ]
    },
    {
     "name": "stdout",
     "output_type": "stream",
     "text": [
      "6.402421408447415\n"
     ]
    },
    {
     "name": "stderr",
     "output_type": "stream",
     "text": [
      "[I 2023-11-16 15:53:18,788] Trial 69 finished with value: 6.35761610084505 and parameters: {'n_estimators': 120, 'max_depth': 40, 'num_leaves': 60, 'learning_rate': 0.031}. Best is trial 65 with value: 6.351797535521179.\n"
     ]
    },
    {
     "name": "stdout",
     "output_type": "stream",
     "text": [
      "6.35761610084505\n"
     ]
    },
    {
     "name": "stderr",
     "output_type": "stream",
     "text": [
      "[I 2023-11-16 15:53:20,211] Trial 70 finished with value: 6.708508259628278 and parameters: {'n_estimators': 50, 'max_depth': 40, 'num_leaves': 60, 'learning_rate': 0.031}. Best is trial 65 with value: 6.351797535521179.\n"
     ]
    },
    {
     "name": "stdout",
     "output_type": "stream",
     "text": [
      "6.708508259628278\n"
     ]
    },
    {
     "name": "stderr",
     "output_type": "stream",
     "text": [
      "[I 2023-11-16 15:53:22,637] Trial 71 finished with value: 6.346088493828791 and parameters: {'n_estimators': 110, 'max_depth': 50, 'num_leaves': 50, 'learning_rate': 0.041}. Best is trial 71 with value: 6.346088493828791.\n"
     ]
    },
    {
     "name": "stdout",
     "output_type": "stream",
     "text": [
      "6.346088493828791\n"
     ]
    },
    {
     "name": "stderr",
     "output_type": "stream",
     "text": [
      "[I 2023-11-16 15:53:24,544] Trial 72 finished with value: 6.452574654487593 and parameters: {'n_estimators': 110, 'max_depth': 45, 'num_leaves': 45, 'learning_rate': 0.021}. Best is trial 71 with value: 6.346088493828791.\n"
     ]
    },
    {
     "name": "stdout",
     "output_type": "stream",
     "text": [
      "6.452574654487593\n"
     ]
    },
    {
     "name": "stderr",
     "output_type": "stream",
     "text": [
      "[I 2023-11-16 15:53:27,572] Trial 73 finished with value: 6.385918002710287 and parameters: {'n_estimators': 190, 'max_depth': 45, 'num_leaves': 50, 'learning_rate': 0.051000000000000004}. Best is trial 71 with value: 6.346088493828791.\n"
     ]
    },
    {
     "name": "stdout",
     "output_type": "stream",
     "text": [
      "6.385918002710287\n"
     ]
    },
    {
     "name": "stderr",
     "output_type": "stream",
     "text": [
      "[I 2023-11-16 15:53:30,318] Trial 74 finished with value: 6.405895758275436 and parameters: {'n_estimators': 150, 'max_depth': 50, 'num_leaves': 65, 'learning_rate': 0.061}. Best is trial 71 with value: 6.346088493828791.\n"
     ]
    },
    {
     "name": "stdout",
     "output_type": "stream",
     "text": [
      "6.405895758275436\n"
     ]
    },
    {
     "name": "stderr",
     "output_type": "stream",
     "text": [
      "[I 2023-11-16 15:53:32,161] Trial 75 finished with value: 6.35448138925297 and parameters: {'n_estimators': 90, 'max_depth': 55, 'num_leaves': 55, 'learning_rate': 0.041}. Best is trial 71 with value: 6.346088493828791.\n"
     ]
    },
    {
     "name": "stdout",
     "output_type": "stream",
     "text": [
      "6.35448138925297\n"
     ]
    },
    {
     "name": "stderr",
     "output_type": "stream",
     "text": [
      "[I 2023-11-16 15:53:33,698] Trial 76 finished with value: 6.367959097492005 and parameters: {'n_estimators': 80, 'max_depth': 55, 'num_leaves': 55, 'learning_rate': 0.081}. Best is trial 71 with value: 6.346088493828791.\n"
     ]
    },
    {
     "name": "stdout",
     "output_type": "stream",
     "text": [
      "6.367959097492005\n"
     ]
    },
    {
     "name": "stderr",
     "output_type": "stream",
     "text": [
      "[I 2023-11-16 15:53:36,187] Trial 77 finished with value: 6.336036861875657 and parameters: {'n_estimators': 120, 'max_depth': 40, 'num_leaves': 50, 'learning_rate': 0.031}. Best is trial 77 with value: 6.336036861875657.\n"
     ]
    },
    {
     "name": "stdout",
     "output_type": "stream",
     "text": [
      "6.336036861875657\n"
     ]
    },
    {
     "name": "stderr",
     "output_type": "stream",
     "text": [
      "[I 2023-11-16 15:53:38,209] Trial 78 finished with value: 6.38518791707915 and parameters: {'n_estimators': 90, 'max_depth': 40, 'num_leaves': 40, 'learning_rate': 0.031}. Best is trial 77 with value: 6.336036861875657.\n"
     ]
    },
    {
     "name": "stdout",
     "output_type": "stream",
     "text": [
      "6.38518791707915\n"
     ]
    },
    {
     "name": "stderr",
     "output_type": "stream",
     "text": [
      "[I 2023-11-16 15:53:39,347] Trial 79 finished with value: 6.395982814053732 and parameters: {'n_estimators': 50, 'max_depth': 70, 'num_leaves': 50, 'learning_rate': 0.051000000000000004}. Best is trial 77 with value: 6.336036861875657.\n"
     ]
    },
    {
     "name": "stdout",
     "output_type": "stream",
     "text": [
      "6.395982814053732\n"
     ]
    },
    {
     "name": "stderr",
     "output_type": "stream",
     "text": [
      "[I 2023-11-16 15:53:41,130] Trial 80 finished with value: 6.378404396002286 and parameters: {'n_estimators': 110, 'max_depth': 65, 'num_leaves': 45, 'learning_rate': 0.07100000000000001}. Best is trial 77 with value: 6.336036861875657.\n"
     ]
    },
    {
     "name": "stdout",
     "output_type": "stream",
     "text": [
      "6.378404396002286\n"
     ]
    },
    {
     "name": "stderr",
     "output_type": "stream",
     "text": [
      "[I 2023-11-16 15:53:43,456] Trial 81 finished with value: 6.356221346280828 and parameters: {'n_estimators': 120, 'max_depth': 45, 'num_leaves': 60, 'learning_rate': 0.041}. Best is trial 77 with value: 6.336036861875657.\n"
     ]
    },
    {
     "name": "stdout",
     "output_type": "stream",
     "text": [
      "6.356221346280828\n"
     ]
    },
    {
     "name": "stderr",
     "output_type": "stream",
     "text": [
      "[I 2023-11-16 15:53:45,945] Trial 82 finished with value: 6.352378936179363 and parameters: {'n_estimators': 130, 'max_depth': 55, 'num_leaves': 60, 'learning_rate': 0.041}. Best is trial 77 with value: 6.336036861875657.\n"
     ]
    },
    {
     "name": "stdout",
     "output_type": "stream",
     "text": [
      "6.352378936179363\n"
     ]
    },
    {
     "name": "stderr",
     "output_type": "stream",
     "text": [
      "[I 2023-11-16 15:53:49,167] Trial 83 finished with value: 6.364981088232153 and parameters: {'n_estimators': 180, 'max_depth': 50, 'num_leaves': 55, 'learning_rate': 0.031}. Best is trial 77 with value: 6.336036861875657.\n"
     ]
    },
    {
     "name": "stdout",
     "output_type": "stream",
     "text": [
      "6.364981088232153\n"
     ]
    },
    {
     "name": "stderr",
     "output_type": "stream",
     "text": [
      "[I 2023-11-16 15:53:52,263] Trial 84 finished with value: 6.377430129553204 and parameters: {'n_estimators': 130, 'max_depth': 55, 'num_leaves': 60, 'learning_rate': 0.021}. Best is trial 77 with value: 6.336036861875657.\n"
     ]
    },
    {
     "name": "stdout",
     "output_type": "stream",
     "text": [
      "6.377430129553204\n"
     ]
    },
    {
     "name": "stderr",
     "output_type": "stream",
     "text": [
      "[I 2023-11-16 15:53:56,017] Trial 85 finished with value: 6.435037558775887 and parameters: {'n_estimators': 230, 'max_depth': 60, 'num_leaves': 55, 'learning_rate': 0.061}. Best is trial 77 with value: 6.336036861875657.\n"
     ]
    },
    {
     "name": "stdout",
     "output_type": "stream",
     "text": [
      "6.435037558775887\n"
     ]
    },
    {
     "name": "stderr",
     "output_type": "stream",
     "text": [
      "[I 2023-11-16 15:53:57,425] Trial 86 finished with value: 6.373516494717825 and parameters: {'n_estimators': 70, 'max_depth': 55, 'num_leaves': 50, 'learning_rate': 0.041}. Best is trial 77 with value: 6.336036861875657.\n"
     ]
    },
    {
     "name": "stdout",
     "output_type": "stream",
     "text": [
      "6.373516494717825\n"
     ]
    },
    {
     "name": "stderr",
     "output_type": "stream",
     "text": [
      "[I 2023-11-16 15:53:59,518] Trial 87 finished with value: 6.355062103223252 and parameters: {'n_estimators': 130, 'max_depth': 40, 'num_leaves': 40, 'learning_rate': 0.031}. Best is trial 77 with value: 6.336036861875657.\n"
     ]
    },
    {
     "name": "stdout",
     "output_type": "stream",
     "text": [
      "6.355062103223252\n"
     ]
    },
    {
     "name": "stderr",
     "output_type": "stream",
     "text": [
      "[I 2023-11-16 15:54:02,314] Trial 88 finished with value: 6.387076509846235 and parameters: {'n_estimators': 200, 'max_depth': 40, 'num_leaves': 40, 'learning_rate': 0.051000000000000004}. Best is trial 77 with value: 6.336036861875657.\n"
     ]
    },
    {
     "name": "stdout",
     "output_type": "stream",
     "text": [
      "6.387076509846235\n"
     ]
    },
    {
     "name": "stderr",
     "output_type": "stream",
     "text": [
      "[I 2023-11-16 15:54:04,475] Trial 89 finished with value: 6.422809753483411 and parameters: {'n_estimators': 120, 'max_depth': 50, 'num_leaves': 45, 'learning_rate': 0.021}. Best is trial 77 with value: 6.336036861875657.\n"
     ]
    },
    {
     "name": "stdout",
     "output_type": "stream",
     "text": [
      "6.422809753483411\n"
     ]
    },
    {
     "name": "stderr",
     "output_type": "stream",
     "text": [
      "[I 2023-11-16 15:54:07,078] Trial 90 finished with value: 6.580433069573959 and parameters: {'n_estimators': 170, 'max_depth': 35, 'num_leaves': 35, 'learning_rate': 0.011}. Best is trial 77 with value: 6.336036861875657.\n"
     ]
    },
    {
     "name": "stdout",
     "output_type": "stream",
     "text": [
      "6.580433069573959\n"
     ]
    },
    {
     "name": "stderr",
     "output_type": "stream",
     "text": [
      "[I 2023-11-16 15:54:12,395] Trial 91 finished with value: 6.402770727844052 and parameters: {'n_estimators': 280, 'max_depth': 45, 'num_leaves': 60, 'learning_rate': 0.031}. Best is trial 77 with value: 6.336036861875657.\n"
     ]
    },
    {
     "name": "stdout",
     "output_type": "stream",
     "text": [
      "6.402770727844052\n"
     ]
    },
    {
     "name": "stderr",
     "output_type": "stream",
     "text": [
      "[I 2023-11-16 15:54:14,698] Trial 92 finished with value: 6.352690660794947 and parameters: {'n_estimators': 130, 'max_depth': 45, 'num_leaves': 50, 'learning_rate': 0.041}. Best is trial 77 with value: 6.336036861875657.\n"
     ]
    },
    {
     "name": "stdout",
     "output_type": "stream",
     "text": [
      "6.352690660794947\n"
     ]
    },
    {
     "name": "stderr",
     "output_type": "stream",
     "text": [
      "[I 2023-11-16 15:54:17,175] Trial 93 finished with value: 6.352690660794947 and parameters: {'n_estimators': 130, 'max_depth': 50, 'num_leaves': 50, 'learning_rate': 0.041}. Best is trial 77 with value: 6.336036861875657.\n"
     ]
    },
    {
     "name": "stdout",
     "output_type": "stream",
     "text": [
      "6.352690660794947\n"
     ]
    },
    {
     "name": "stderr",
     "output_type": "stream",
     "text": [
      "[I 2023-11-16 15:54:19,979] Trial 94 finished with value: 6.3602485111596 and parameters: {'n_estimators': 150, 'max_depth': 60, 'num_leaves': 50, 'learning_rate': 0.041}. Best is trial 77 with value: 6.336036861875657.\n"
     ]
    },
    {
     "name": "stdout",
     "output_type": "stream",
     "text": [
      "6.3602485111596\n"
     ]
    },
    {
     "name": "stderr",
     "output_type": "stream",
     "text": [
      "[I 2023-11-16 15:54:21,235] Trial 95 finished with value: 6.349010247530525 and parameters: {'n_estimators': 70, 'max_depth': 50, 'num_leaves': 40, 'learning_rate': 0.061}. Best is trial 77 with value: 6.336036861875657.\n"
     ]
    },
    {
     "name": "stdout",
     "output_type": "stream",
     "text": [
      "6.349010247530525\n"
     ]
    },
    {
     "name": "stderr",
     "output_type": "stream",
     "text": [
      "[I 2023-11-16 15:54:22,431] Trial 96 finished with value: 6.3727009517659905 and parameters: {'n_estimators': 70, 'max_depth': 55, 'num_leaves': 35, 'learning_rate': 0.061}. Best is trial 77 with value: 6.336036861875657.\n"
     ]
    },
    {
     "name": "stdout",
     "output_type": "stream",
     "text": [
      "6.3727009517659905\n"
     ]
    },
    {
     "name": "stderr",
     "output_type": "stream",
     "text": [
      "[I 2023-11-16 15:54:24,204] Trial 97 finished with value: 6.357609453370057 and parameters: {'n_estimators': 80, 'max_depth': 50, 'num_leaves': 45, 'learning_rate': 0.051000000000000004}. Best is trial 77 with value: 6.336036861875657.\n"
     ]
    },
    {
     "name": "stdout",
     "output_type": "stream",
     "text": [
      "6.357609453370057\n"
     ]
    },
    {
     "name": "stderr",
     "output_type": "stream",
     "text": [
      "[I 2023-11-16 15:54:27,399] Trial 98 finished with value: 6.356662201220549 and parameters: {'n_estimators': 170, 'max_depth': 55, 'num_leaves': 40, 'learning_rate': 0.021}. Best is trial 77 with value: 6.336036861875657.\n"
     ]
    },
    {
     "name": "stdout",
     "output_type": "stream",
     "text": [
      "6.356662201220549\n"
     ]
    },
    {
     "name": "stderr",
     "output_type": "stream",
     "text": [
      "[I 2023-11-16 15:54:30,037] Trial 99 finished with value: 6.4140588742238185 and parameters: {'n_estimators': 220, 'max_depth': 50, 'num_leaves': 35, 'learning_rate': 0.061}. Best is trial 77 with value: 6.336036861875657.\n"
     ]
    },
    {
     "name": "stdout",
     "output_type": "stream",
     "text": [
      "6.4140588742238185\n"
     ]
    },
    {
     "name": "stderr",
     "output_type": "stream",
     "text": [
      "[I 2023-11-16 15:54:32,555] Trial 100 finished with value: 6.368726261996705 and parameters: {'n_estimators': 150, 'max_depth': 65, 'num_leaves': 50, 'learning_rate': 0.051000000000000004}. Best is trial 77 with value: 6.336036861875657.\n"
     ]
    },
    {
     "name": "stdout",
     "output_type": "stream",
     "text": [
      "6.368726261996705\n"
     ]
    },
    {
     "name": "stderr",
     "output_type": "stream",
     "text": [
      "[I 2023-11-16 15:54:34,906] Trial 101 finished with value: 6.355456208320976 and parameters: {'n_estimators': 120, 'max_depth': 45, 'num_leaves': 55, 'learning_rate': 0.041}. Best is trial 77 with value: 6.336036861875657.\n"
     ]
    },
    {
     "name": "stdout",
     "output_type": "stream",
     "text": [
      "6.355456208320976\n"
     ]
    },
    {
     "name": "stderr",
     "output_type": "stream",
     "text": [
      "[I 2023-11-16 15:54:36,264] Trial 102 finished with value: 6.416592914001441 and parameters: {'n_estimators': 60, 'max_depth': 45, 'num_leaves': 55, 'learning_rate': 0.041}. Best is trial 77 with value: 6.336036861875657.\n"
     ]
    },
    {
     "name": "stdout",
     "output_type": "stream",
     "text": [
      "6.416592914001441\n"
     ]
    },
    {
     "name": "stderr",
     "output_type": "stream",
     "text": [
      "[I 2023-11-16 15:54:38,961] Trial 103 finished with value: 6.362106552224007 and parameters: {'n_estimators': 130, 'max_depth': 50, 'num_leaves': 40, 'learning_rate': 0.041}. Best is trial 77 with value: 6.336036861875657.\n"
     ]
    },
    {
     "name": "stdout",
     "output_type": "stream",
     "text": [
      "6.362106552224007\n"
     ]
    },
    {
     "name": "stderr",
     "output_type": "stream",
     "text": [
      "[I 2023-11-16 15:54:41,221] Trial 104 finished with value: 6.36300506880268 and parameters: {'n_estimators': 90, 'max_depth': 60, 'num_leaves': 45, 'learning_rate': 0.051000000000000004}. Best is trial 77 with value: 6.336036861875657.\n"
     ]
    },
    {
     "name": "stdout",
     "output_type": "stream",
     "text": [
      "6.36300506880268\n"
     ]
    },
    {
     "name": "stderr",
     "output_type": "stream",
     "text": [
      "[I 2023-11-16 15:54:44,798] Trial 105 finished with value: 6.35532368079501 and parameters: {'n_estimators': 190, 'max_depth': 40, 'num_leaves': 50, 'learning_rate': 0.031}. Best is trial 77 with value: 6.336036861875657.\n"
     ]
    },
    {
     "name": "stdout",
     "output_type": "stream",
     "text": [
      "6.35532368079501\n"
     ]
    },
    {
     "name": "stderr",
     "output_type": "stream",
     "text": [
      "[I 2023-11-16 15:54:47,476] Trial 106 finished with value: 6.733762311893593 and parameters: {'n_estimators': 140, 'max_depth': 35, 'num_leaves': 50, 'learning_rate': 0.011}. Best is trial 77 with value: 6.336036861875657.\n"
     ]
    },
    {
     "name": "stdout",
     "output_type": "stream",
     "text": [
      "6.733762311893593\n"
     ]
    },
    {
     "name": "stderr",
     "output_type": "stream",
     "text": [
      "[I 2023-11-16 15:54:49,645] Trial 107 finished with value: 6.4045438521474445 and parameters: {'n_estimators': 190, 'max_depth': 40, 'num_leaves': 30, 'learning_rate': 0.081}. Best is trial 77 with value: 6.336036861875657.\n"
     ]
    },
    {
     "name": "stdout",
     "output_type": "stream",
     "text": [
      "6.4045438521474445\n"
     ]
    },
    {
     "name": "stderr",
     "output_type": "stream",
     "text": [
      "[I 2023-11-16 15:54:51,205] Trial 108 finished with value: 10.444872424805233 and parameters: {'n_estimators': 90, 'max_depth': 55, 'num_leaves': 40, 'learning_rate': 0.001}. Best is trial 77 with value: 6.336036861875657.\n"
     ]
    },
    {
     "name": "stdout",
     "output_type": "stream",
     "text": [
      "10.444872424805233\n"
     ]
    },
    {
     "name": "stderr",
     "output_type": "stream",
     "text": [
      "[I 2023-11-16 15:54:53,965] Trial 109 finished with value: 6.357245433174503 and parameters: {'n_estimators': 170, 'max_depth': 50, 'num_leaves': 45, 'learning_rate': 0.031}. Best is trial 77 with value: 6.336036861875657.\n"
     ]
    },
    {
     "name": "stdout",
     "output_type": "stream",
     "text": [
      "6.357245433174503\n"
     ]
    },
    {
     "name": "stderr",
     "output_type": "stream",
     "text": [
      "[I 2023-11-16 15:54:55,251] Trial 110 finished with value: 7.225663658314017 and parameters: {'n_estimators': 50, 'max_depth': 60, 'num_leaves': 50, 'learning_rate': 0.021}. Best is trial 77 with value: 6.336036861875657.\n"
     ]
    },
    {
     "name": "stdout",
     "output_type": "stream",
     "text": [
      "7.225663658314017\n"
     ]
    },
    {
     "name": "stderr",
     "output_type": "stream",
     "text": [
      "[I 2023-11-16 15:54:57,868] Trial 111 finished with value: 6.358689428159234 and parameters: {'n_estimators': 110, 'max_depth': 45, 'num_leaves': 55, 'learning_rate': 0.041}. Best is trial 77 with value: 6.336036861875657.\n"
     ]
    },
    {
     "name": "stdout",
     "output_type": "stream",
     "text": [
      "6.358689428159234\n"
     ]
    },
    {
     "name": "stderr",
     "output_type": "stream",
     "text": [
      "[I 2023-11-16 15:55:00,390] Trial 112 finished with value: 6.351771319623229 and parameters: {'n_estimators': 130, 'max_depth': 40, 'num_leaves': 55, 'learning_rate': 0.031}. Best is trial 77 with value: 6.336036861875657.\n"
     ]
    },
    {
     "name": "stdout",
     "output_type": "stream",
     "text": [
      "6.351771319623229\n"
     ]
    },
    {
     "name": "stderr",
     "output_type": "stream",
     "text": [
      "[I 2023-11-16 15:55:03,811] Trial 113 finished with value: 6.3583669716453795 and parameters: {'n_estimators': 200, 'max_depth': 40, 'num_leaves': 50, 'learning_rate': 0.031}. Best is trial 77 with value: 6.336036861875657.\n"
     ]
    },
    {
     "name": "stdout",
     "output_type": "stream",
     "text": [
      "6.3583669716453795\n"
     ]
    },
    {
     "name": "stderr",
     "output_type": "stream",
     "text": [
      "[I 2023-11-16 15:55:06,745] Trial 114 finished with value: 6.356175646866872 and parameters: {'n_estimators': 160, 'max_depth': 50, 'num_leaves': 55, 'learning_rate': 0.031}. Best is trial 77 with value: 6.336036861875657.\n"
     ]
    },
    {
     "name": "stdout",
     "output_type": "stream",
     "text": [
      "6.356175646866872\n"
     ]
    },
    {
     "name": "stderr",
     "output_type": "stream",
     "text": [
      "[I 2023-11-16 15:55:08,093] Trial 115 finished with value: 6.783049356707337 and parameters: {'n_estimators': 70, 'max_depth': 35, 'num_leaves': 45, 'learning_rate': 0.021}. Best is trial 77 with value: 6.336036861875657.\n"
     ]
    },
    {
     "name": "stdout",
     "output_type": "stream",
     "text": [
      "6.783049356707337\n"
     ]
    },
    {
     "name": "stderr",
     "output_type": "stream",
     "text": [
      "[I 2023-11-16 15:55:11,108] Trial 116 finished with value: 6.522415104657121 and parameters: {'n_estimators': 240, 'max_depth': 40, 'num_leaves': 45, 'learning_rate': 0.121}. Best is trial 77 with value: 6.336036861875657.\n"
     ]
    },
    {
     "name": "stdout",
     "output_type": "stream",
     "text": [
      "6.522415104657121\n"
     ]
    },
    {
     "name": "stderr",
     "output_type": "stream",
     "text": [
      "[I 2023-11-16 15:55:13,741] Trial 117 finished with value: 6.40655380789812 and parameters: {'n_estimators': 130, 'max_depth': 55, 'num_leaves': 50, 'learning_rate': 0.07100000000000001}. Best is trial 77 with value: 6.336036861875657.\n"
     ]
    },
    {
     "name": "stdout",
     "output_type": "stream",
     "text": [
      "6.40655380789812\n"
     ]
    },
    {
     "name": "stderr",
     "output_type": "stream",
     "text": [
      "[I 2023-11-16 15:55:15,416] Trial 118 finished with value: 6.351117317160798 and parameters: {'n_estimators': 100, 'max_depth': 45, 'num_leaves': 40, 'learning_rate': 0.051000000000000004}. Best is trial 77 with value: 6.336036861875657.\n"
     ]
    },
    {
     "name": "stdout",
     "output_type": "stream",
     "text": [
      "6.351117317160798\n"
     ]
    },
    {
     "name": "stderr",
     "output_type": "stream",
     "text": [
      "[I 2023-11-16 15:55:17,173] Trial 119 finished with value: 6.354174160372981 and parameters: {'n_estimators': 90, 'max_depth': 45, 'num_leaves': 40, 'learning_rate': 0.051000000000000004}. Best is trial 77 with value: 6.336036861875657.\n"
     ]
    },
    {
     "name": "stdout",
     "output_type": "stream",
     "text": [
      "6.354174160372981\n"
     ]
    },
    {
     "name": "stderr",
     "output_type": "stream",
     "text": [
      "[I 2023-11-16 15:55:18,521] Trial 120 finished with value: 6.353990963741313 and parameters: {'n_estimators': 90, 'max_depth': 50, 'num_leaves': 30, 'learning_rate': 0.061}. Best is trial 77 with value: 6.336036861875657.\n"
     ]
    },
    {
     "name": "stdout",
     "output_type": "stream",
     "text": [
      "6.353990963741313\n"
     ]
    },
    {
     "name": "stderr",
     "output_type": "stream",
     "text": [
      "[I 2023-11-16 15:55:20,044] Trial 121 finished with value: 6.361382590207848 and parameters: {'n_estimators': 100, 'max_depth': 50, 'num_leaves': 30, 'learning_rate': 0.061}. Best is trial 77 with value: 6.336036861875657.\n"
     ]
    },
    {
     "name": "stdout",
     "output_type": "stream",
     "text": [
      "6.361382590207848\n"
     ]
    },
    {
     "name": "stderr",
     "output_type": "stream",
     "text": [
      "[I 2023-11-16 15:55:21,038] Trial 122 finished with value: 6.383442118055743 and parameters: {'n_estimators': 70, 'max_depth': 55, 'num_leaves': 20, 'learning_rate': 0.051000000000000004}. Best is trial 77 with value: 6.336036861875657.\n"
     ]
    },
    {
     "name": "stdout",
     "output_type": "stream",
     "text": [
      "6.383442118055743\n"
     ]
    },
    {
     "name": "stderr",
     "output_type": "stream",
     "text": [
      "[I 2023-11-16 15:55:22,606] Trial 123 finished with value: 6.3609632999394705 and parameters: {'n_estimators': 100, 'max_depth': 45, 'num_leaves': 35, 'learning_rate': 0.051000000000000004}. Best is trial 77 with value: 6.336036861875657.\n"
     ]
    },
    {
     "name": "stdout",
     "output_type": "stream",
     "text": [
      "6.3609632999394705\n"
     ]
    },
    {
     "name": "stderr",
     "output_type": "stream",
     "text": [
      "[I 2023-11-16 15:55:23,789] Trial 124 finished with value: 6.354419862113035 and parameters: {'n_estimators': 80, 'max_depth': 50, 'num_leaves': 25, 'learning_rate': 0.061}. Best is trial 77 with value: 6.336036861875657.\n"
     ]
    },
    {
     "name": "stdout",
     "output_type": "stream",
     "text": [
      "6.354419862113035\n"
     ]
    },
    {
     "name": "stderr",
     "output_type": "stream",
     "text": [
      "[I 2023-11-16 15:55:24,686] Trial 125 finished with value: 6.396496452365925 and parameters: {'n_estimators': 50, 'max_depth': 45, 'num_leaves': 25, 'learning_rate': 0.07100000000000001}. Best is trial 77 with value: 6.336036861875657.\n"
     ]
    },
    {
     "name": "stdout",
     "output_type": "stream",
     "text": [
      "6.396496452365925\n"
     ]
    },
    {
     "name": "stderr",
     "output_type": "stream",
     "text": [
      "[I 2023-11-16 15:55:26,435] Trial 126 finished with value: 6.38750425618634 and parameters: {'n_estimators': 150, 'max_depth': 50, 'num_leaves': 25, 'learning_rate': 0.091}. Best is trial 77 with value: 6.336036861875657.\n"
     ]
    },
    {
     "name": "stdout",
     "output_type": "stream",
     "text": [
      "6.38750425618634\n"
     ]
    },
    {
     "name": "stderr",
     "output_type": "stream",
     "text": [
      "[I 2023-11-16 15:55:27,923] Trial 127 finished with value: 6.34460115455471 and parameters: {'n_estimators': 80, 'max_depth': 45, 'num_leaves': 20, 'learning_rate': 0.061}. Best is trial 77 with value: 6.336036861875657.\n"
     ]
    },
    {
     "name": "stdout",
     "output_type": "stream",
     "text": [
      "6.34460115455471\n"
     ]
    },
    {
     "name": "stderr",
     "output_type": "stream",
     "text": [
      "[I 2023-11-16 15:55:29,071] Trial 128 finished with value: 6.482798695272102 and parameters: {'n_estimators': 110, 'max_depth': 45, 'num_leaves': 5, 'learning_rate': 0.061}. Best is trial 77 with value: 6.336036861875657.\n"
     ]
    },
    {
     "name": "stdout",
     "output_type": "stream",
     "text": [
      "6.482798695272102\n"
     ]
    },
    {
     "name": "stderr",
     "output_type": "stream",
     "text": [
      "[I 2023-11-16 15:55:31,013] Trial 129 finished with value: 6.36588669683046 and parameters: {'n_estimators': 140, 'max_depth': 45, 'num_leaves': 30, 'learning_rate': 0.051000000000000004}. Best is trial 77 with value: 6.336036861875657.\n"
     ]
    },
    {
     "name": "stdout",
     "output_type": "stream",
     "text": [
      "6.36588669683046\n"
     ]
    },
    {
     "name": "stderr",
     "output_type": "stream",
     "text": [
      "[I 2023-11-16 15:55:32,306] Trial 130 finished with value: 6.364353544327103 and parameters: {'n_estimators': 70, 'max_depth': 50, 'num_leaves': 40, 'learning_rate': 0.081}. Best is trial 77 with value: 6.336036861875657.\n"
     ]
    },
    {
     "name": "stdout",
     "output_type": "stream",
     "text": [
      "6.364353544327103\n"
     ]
    },
    {
     "name": "stderr",
     "output_type": "stream",
     "text": [
      "[I 2023-11-16 15:55:33,527] Trial 131 finished with value: 6.355165212835678 and parameters: {'n_estimators': 90, 'max_depth': 50, 'num_leaves': 25, 'learning_rate': 0.061}. Best is trial 77 with value: 6.336036861875657.\n"
     ]
    },
    {
     "name": "stdout",
     "output_type": "stream",
     "text": [
      "6.355165212835678\n"
     ]
    },
    {
     "name": "stderr",
     "output_type": "stream",
     "text": [
      "[I 2023-11-16 15:55:34,575] Trial 132 finished with value: 6.382279919267169 and parameters: {'n_estimators': 80, 'max_depth': 45, 'num_leaves': 20, 'learning_rate': 0.07100000000000001}. Best is trial 77 with value: 6.336036861875657.\n"
     ]
    },
    {
     "name": "stdout",
     "output_type": "stream",
     "text": [
      "6.382279919267169\n"
     ]
    },
    {
     "name": "stderr",
     "output_type": "stream",
     "text": [
      "[I 2023-11-16 15:55:35,346] Trial 133 finished with value: 6.483714380676015 and parameters: {'n_estimators': 50, 'max_depth': 55, 'num_leaves': 15, 'learning_rate': 0.051000000000000004}. Best is trial 77 with value: 6.336036861875657.\n"
     ]
    },
    {
     "name": "stdout",
     "output_type": "stream",
     "text": [
      "6.483714380676015\n"
     ]
    },
    {
     "name": "stderr",
     "output_type": "stream",
     "text": [
      "[I 2023-11-16 15:55:36,812] Trial 134 finished with value: 6.356565249957997 and parameters: {'n_estimators': 120, 'max_depth': 50, 'num_leaves': 20, 'learning_rate': 0.061}. Best is trial 77 with value: 6.336036861875657.\n"
     ]
    },
    {
     "name": "stdout",
     "output_type": "stream",
     "text": [
      "6.356565249957997\n"
     ]
    },
    {
     "name": "stderr",
     "output_type": "stream",
     "text": [
      "[I 2023-11-16 15:55:42,475] Trial 135 finished with value: 6.404449365972896 and parameters: {'n_estimators': 900, 'max_depth': 45, 'num_leaves': 10, 'learning_rate': 0.041}. Best is trial 77 with value: 6.336036861875657.\n"
     ]
    },
    {
     "name": "stdout",
     "output_type": "stream",
     "text": [
      "6.404449365972896\n"
     ]
    },
    {
     "name": "stderr",
     "output_type": "stream",
     "text": [
      "[I 2023-11-16 15:55:44,329] Trial 136 finished with value: 6.354996079980064 and parameters: {'n_estimators': 100, 'max_depth': 60, 'num_leaves': 35, 'learning_rate': 0.041}. Best is trial 77 with value: 6.336036861875657.\n"
     ]
    },
    {
     "name": "stdout",
     "output_type": "stream",
     "text": [
      "6.354996079980064\n"
     ]
    },
    {
     "name": "stderr",
     "output_type": "stream",
     "text": [
      "[I 2023-11-16 15:55:46,743] Trial 137 finished with value: 6.373305865107494 and parameters: {'n_estimators': 160, 'max_depth': 55, 'num_leaves': 30, 'learning_rate': 0.061}. Best is trial 77 with value: 6.336036861875657.\n"
     ]
    },
    {
     "name": "stdout",
     "output_type": "stream",
     "text": [
      "6.373305865107494\n"
     ]
    },
    {
     "name": "stderr",
     "output_type": "stream",
     "text": [
      "[I 2023-11-16 15:55:48,482] Trial 138 finished with value: 6.532933919199722 and parameters: {'n_estimators': 70, 'max_depth': 40, 'num_leaves': 100, 'learning_rate': 0.161}. Best is trial 77 with value: 6.336036861875657.\n"
     ]
    },
    {
     "name": "stdout",
     "output_type": "stream",
     "text": [
      "6.532933919199722\n"
     ]
    },
    {
     "name": "stderr",
     "output_type": "stream",
     "text": [
      "[I 2023-11-16 15:55:50,008] Trial 139 finished with value: 6.369970319356736 and parameters: {'n_estimators': 130, 'max_depth': 50, 'num_leaves': 20, 'learning_rate': 0.051000000000000004}. Best is trial 77 with value: 6.336036861875657.\n"
     ]
    },
    {
     "name": "stdout",
     "output_type": "stream",
     "text": [
      "6.369970319356736\n"
     ]
    },
    {
     "name": "stderr",
     "output_type": "stream",
     "text": [
      "[I 2023-11-16 15:55:51,077] Trial 140 finished with value: 6.417569673379792 and parameters: {'n_estimators': 110, 'max_depth': 45, 'num_leaves': 10, 'learning_rate': 0.041}. Best is trial 77 with value: 6.336036861875657.\n"
     ]
    },
    {
     "name": "stdout",
     "output_type": "stream",
     "text": [
      "6.417569673379792\n"
     ]
    },
    {
     "name": "stderr",
     "output_type": "stream",
     "text": [
      "[I 2023-11-16 15:55:52,943] Trial 141 finished with value: 6.356441904027406 and parameters: {'n_estimators': 90, 'max_depth': 55, 'num_leaves': 60, 'learning_rate': 0.051000000000000004}. Best is trial 77 with value: 6.336036861875657.\n"
     ]
    },
    {
     "name": "stdout",
     "output_type": "stream",
     "text": [
      "6.356441904027406\n"
     ]
    },
    {
     "name": "stderr",
     "output_type": "stream",
     "text": [
      "[I 2023-11-16 15:55:54,584] Trial 142 finished with value: 6.348920393771719 and parameters: {'n_estimators': 80, 'max_depth': 60, 'num_leaves': 55, 'learning_rate': 0.041}. Best is trial 77 with value: 6.336036861875657.\n"
     ]
    },
    {
     "name": "stdout",
     "output_type": "stream",
     "text": [
      "6.348920393771719\n"
     ]
    },
    {
     "name": "stderr",
     "output_type": "stream",
     "text": [
      "[I 2023-11-16 15:55:56,037] Trial 143 finished with value: 6.3736382822529505 and parameters: {'n_estimators': 70, 'max_depth': 60, 'num_leaves': 55, 'learning_rate': 0.041}. Best is trial 77 with value: 6.336036861875657.\n"
     ]
    },
    {
     "name": "stdout",
     "output_type": "stream",
     "text": [
      "6.3736382822529505\n"
     ]
    },
    {
     "name": "stderr",
     "output_type": "stream",
     "text": [
      "[I 2023-11-16 15:55:58,644] Trial 144 finished with value: 6.399186752502296 and parameters: {'n_estimators': 140, 'max_depth': 50, 'num_leaves': 60, 'learning_rate': 0.061}. Best is trial 77 with value: 6.336036861875657.\n"
     ]
    },
    {
     "name": "stdout",
     "output_type": "stream",
     "text": [
      "6.399186752502296\n"
     ]
    },
    {
     "name": "stderr",
     "output_type": "stream",
     "text": [
      "[I 2023-11-16 15:56:00,000] Trial 145 finished with value: 6.40996560049836 and parameters: {'n_estimators': 50, 'max_depth': 65, 'num_leaves': 45, 'learning_rate': 0.171}. Best is trial 77 with value: 6.336036861875657.\n"
     ]
    },
    {
     "name": "stdout",
     "output_type": "stream",
     "text": [
      "6.40996560049836\n"
     ]
    },
    {
     "name": "stderr",
     "output_type": "stream",
     "text": [
      "[I 2023-11-16 15:56:02,335] Trial 146 finished with value: 6.39467609650264 and parameters: {'n_estimators': 110, 'max_depth': 50, 'num_leaves': 50, 'learning_rate': 0.07100000000000001}. Best is trial 77 with value: 6.336036861875657.\n"
     ]
    },
    {
     "name": "stdout",
     "output_type": "stream",
     "text": [
      "6.39467609650264\n"
     ]
    },
    {
     "name": "stderr",
     "output_type": "stream",
     "text": [
      "[I 2023-11-16 15:56:05,412] Trial 147 finished with value: 6.359993418183956 and parameters: {'n_estimators': 170, 'max_depth': 55, 'num_leaves': 55, 'learning_rate': 0.031}. Best is trial 77 with value: 6.336036861875657.\n"
     ]
    },
    {
     "name": "stdout",
     "output_type": "stream",
     "text": [
      "6.359993418183956\n"
     ]
    },
    {
     "name": "stderr",
     "output_type": "stream",
     "text": [
      "[I 2023-11-16 15:56:07,098] Trial 148 finished with value: 6.36300506880268 and parameters: {'n_estimators': 90, 'max_depth': 45, 'num_leaves': 45, 'learning_rate': 0.051000000000000004}. Best is trial 77 with value: 6.336036861875657.\n"
     ]
    },
    {
     "name": "stdout",
     "output_type": "stream",
     "text": [
      "6.36300506880268\n"
     ]
    },
    {
     "name": "stderr",
     "output_type": "stream",
     "text": [
      "[I 2023-11-16 15:56:09,032] Trial 149 finished with value: 6.374853891290407 and parameters: {'n_estimators': 130, 'max_depth': 60, 'num_leaves': 35, 'learning_rate': 0.051000000000000004}. Best is trial 77 with value: 6.336036861875657.\n",
      "C:\\Users\\Dmser\\AppData\\Local\\Temp\\ipykernel_15412\\1866508612.py:11: SettingWithCopyWarning: \n",
      "A value is trying to be set on a copy of a slice from a DataFrame.\n",
      "Try using .loc[row_indexer,col_indexer] = value instead\n",
      "\n",
      "See the caveats in the documentation: https://pandas.pydata.org/pandas-docs/stable/user_guide/indexing.html#returning-a-view-versus-a-copy\n",
      "  df2_temp[f'milk_yield_{i}'] = df2[f'milk_yield_{i}']\n",
      "[I 2023-11-16 15:56:09,141] A new study created in memory with name: no-name-ed1019d4-4daf-4337-8abb-e3194913e6cb\n"
     ]
    },
    {
     "name": "stdout",
     "output_type": "stream",
     "text": [
      "6.374853891290407\n",
      "{'n_estimators': 120, 'max_depth': 40, 'num_leaves': 50, 'learning_rate': 0.031}\n"
     ]
    },
    {
     "name": "stderr",
     "output_type": "stream",
     "text": [
      "[I 2023-11-16 15:56:10,263] Trial 0 finished with value: 6.684024886458527 and parameters: {'n_estimators': 60, 'max_depth': 65, 'num_leaves': 50, 'learning_rate': 0.151}. Best is trial 0 with value: 6.684024886458527.\n"
     ]
    },
    {
     "name": "stdout",
     "output_type": "stream",
     "text": [
      "6.684024886458527\n"
     ]
    },
    {
     "name": "stderr",
     "output_type": "stream",
     "text": [
      "[I 2023-11-16 15:56:12,495] Trial 1 finished with value: 6.765970198594526 and parameters: {'n_estimators': 120, 'max_depth': 35, 'num_leaves': 80, 'learning_rate': 0.121}. Best is trial 0 with value: 6.684024886458527.\n"
     ]
    },
    {
     "name": "stdout",
     "output_type": "stream",
     "text": [
      "6.765970198594526\n"
     ]
    },
    {
     "name": "stderr",
     "output_type": "stream",
     "text": [
      "[I 2023-11-16 15:56:18,545] Trial 2 finished with value: 6.924079522591827 and parameters: {'n_estimators': 640, 'max_depth': 85, 'num_leaves': 30, 'learning_rate': 0.181}. Best is trial 0 with value: 6.684024886458527.\n"
     ]
    },
    {
     "name": "stdout",
     "output_type": "stream",
     "text": [
      "6.924079522591827\n"
     ]
    },
    {
     "name": "stderr",
     "output_type": "stream",
     "text": [
      "[I 2023-11-16 15:56:24,904] Trial 3 finished with value: 6.654830236525109 and parameters: {'n_estimators': 540, 'max_depth': 15, 'num_leaves': 35, 'learning_rate': 0.021}. Best is trial 3 with value: 6.654830236525109.\n"
     ]
    },
    {
     "name": "stdout",
     "output_type": "stream",
     "text": [
      "6.654830236525109\n"
     ]
    },
    {
     "name": "stderr",
     "output_type": "stream",
     "text": [
      "[I 2023-11-16 15:56:37,345] Trial 4 finished with value: 6.85422651334716 and parameters: {'n_estimators': 830, 'max_depth': 85, 'num_leaves': 75, 'learning_rate': 0.061}. Best is trial 3 with value: 6.654830236525109.\n"
     ]
    },
    {
     "name": "stdout",
     "output_type": "stream",
     "text": [
      "6.85422651334716\n"
     ]
    },
    {
     "name": "stderr",
     "output_type": "stream",
     "text": [
      "[I 2023-11-16 15:56:48,991] Trial 5 finished with value: 7.036948144317512 and parameters: {'n_estimators': 840, 'max_depth': 85, 'num_leaves': 65, 'learning_rate': 0.161}. Best is trial 3 with value: 6.654830236525109.\n"
     ]
    },
    {
     "name": "stdout",
     "output_type": "stream",
     "text": [
      "7.036948144317512\n"
     ]
    },
    {
     "name": "stderr",
     "output_type": "stream",
     "text": [
      "[I 2023-11-16 15:56:59,286] Trial 6 finished with value: 6.8255873317045275 and parameters: {'n_estimators': 640, 'max_depth': 60, 'num_leaves': 80, 'learning_rate': 0.051000000000000004}. Best is trial 3 with value: 6.654830236525109.\n"
     ]
    },
    {
     "name": "stdout",
     "output_type": "stream",
     "text": [
      "6.8255873317045275\n"
     ]
    },
    {
     "name": "stderr",
     "output_type": "stream",
     "text": [
      "[I 2023-11-16 15:57:08,072] Trial 7 finished with value: 6.717589894790931 and parameters: {'n_estimators': 780, 'max_depth': 75, 'num_leaves': 35, 'learning_rate': 0.031}. Best is trial 3 with value: 6.654830236525109.\n"
     ]
    },
    {
     "name": "stdout",
     "output_type": "stream",
     "text": [
      "6.717589894790931\n"
     ]
    },
    {
     "name": "stderr",
     "output_type": "stream",
     "text": [
      "[I 2023-11-16 15:57:13,673] Trial 8 finished with value: 6.8632132657216305 and parameters: {'n_estimators': 530, 'max_depth': 35, 'num_leaves': 45, 'learning_rate': 0.111}. Best is trial 3 with value: 6.654830236525109.\n"
     ]
    },
    {
     "name": "stdout",
     "output_type": "stream",
     "text": [
      "6.8632132657216305\n"
     ]
    },
    {
     "name": "stderr",
     "output_type": "stream",
     "text": [
      "[I 2023-11-16 15:57:29,426] Trial 9 finished with value: 6.947138974435978 and parameters: {'n_estimators': 910, 'max_depth': 50, 'num_leaves': 100, 'learning_rate': 0.07100000000000001}. Best is trial 3 with value: 6.654830236525109.\n"
     ]
    },
    {
     "name": "stdout",
     "output_type": "stream",
     "text": [
      "6.947138974435978\n"
     ]
    },
    {
     "name": "stderr",
     "output_type": "stream",
     "text": [
      "[I 2023-11-16 15:57:31,025] Trial 10 finished with value: 6.767117663719047 and parameters: {'n_estimators': 280, 'max_depth': 15, 'num_leaves': 5, 'learning_rate': 0.231}. Best is trial 3 with value: 6.654830236525109.\n"
     ]
    },
    {
     "name": "stdout",
     "output_type": "stream",
     "text": [
      "6.767117663719047\n"
     ]
    },
    {
     "name": "stderr",
     "output_type": "stream",
     "text": [
      "[I 2023-11-16 15:57:33,849] Trial 11 finished with value: 6.825166336912465 and parameters: {'n_estimators': 360, 'max_depth': 5, 'num_leaves': 20, 'learning_rate': 0.181}. Best is trial 3 with value: 6.654830236525109.\n"
     ]
    },
    {
     "name": "stdout",
     "output_type": "stream",
     "text": [
      "6.825166336912465\n"
     ]
    },
    {
     "name": "stderr",
     "output_type": "stream",
     "text": [
      "[I 2023-11-16 15:57:35,351] Trial 12 finished with value: 10.15365112405852 and parameters: {'n_estimators': 70, 'max_depth': 60, 'num_leaves': 50, 'learning_rate': 0.001}. Best is trial 3 with value: 6.654830236525109.\n"
     ]
    },
    {
     "name": "stdout",
     "output_type": "stream",
     "text": [
      "10.15365112405852\n"
     ]
    },
    {
     "name": "stderr",
     "output_type": "stream",
     "text": [
      "[I 2023-11-16 15:57:40,563] Trial 13 finished with value: 7.0123628194285885 and parameters: {'n_estimators': 380, 'max_depth': 100, 'num_leaves': 60, 'learning_rate': 0.251}. Best is trial 3 with value: 6.654830236525109.\n"
     ]
    },
    {
     "name": "stdout",
     "output_type": "stream",
     "text": [
      "7.0123628194285885\n"
     ]
    },
    {
     "name": "stderr",
     "output_type": "stream",
     "text": [
      "[I 2023-11-16 15:57:42,678] Trial 14 finished with value: 6.6535099838842875 and parameters: {'n_estimators': 230, 'max_depth': 30, 'num_leaves': 20, 'learning_rate': 0.091}. Best is trial 14 with value: 6.6535099838842875.\n"
     ]
    },
    {
     "name": "stdout",
     "output_type": "stream",
     "text": [
      "6.6535099838842875\n"
     ]
    },
    {
     "name": "stderr",
     "output_type": "stream",
     "text": [
      "[I 2023-11-16 15:57:44,361] Trial 15 finished with value: 6.731908681900504 and parameters: {'n_estimators': 280, 'max_depth': 25, 'num_leaves': 5, 'learning_rate': 0.091}. Best is trial 14 with value: 6.6535099838842875.\n"
     ]
    },
    {
     "name": "stdout",
     "output_type": "stream",
     "text": [
      "6.731908681900504\n"
     ]
    },
    {
     "name": "stderr",
     "output_type": "stream",
     "text": [
      "[I 2023-11-16 15:57:48,997] Trial 16 finished with value: 8.518525008020369 and parameters: {'n_estimators': 490, 'max_depth': 5, 'num_leaves': 20, 'learning_rate': 0.001}. Best is trial 14 with value: 6.6535099838842875.\n"
     ]
    },
    {
     "name": "stdout",
     "output_type": "stream",
     "text": [
      "8.518525008020369\n"
     ]
    },
    {
     "name": "stderr",
     "output_type": "stream",
     "text": [
      "[I 2023-11-16 15:57:55,753] Trial 17 finished with value: 6.650556583501341 and parameters: {'n_estimators': 670, 'max_depth': 40, 'num_leaves': 20, 'learning_rate': 0.021}. Best is trial 17 with value: 6.650556583501341.\n"
     ]
    },
    {
     "name": "stdout",
     "output_type": "stream",
     "text": [
      "6.650556583501341\n"
     ]
    },
    {
     "name": "stderr",
     "output_type": "stream",
     "text": [
      "[I 2023-11-16 15:58:00,830] Trial 18 finished with value: 6.7704034549825565 and parameters: {'n_estimators': 660, 'max_depth': 45, 'num_leaves': 20, 'learning_rate': 0.081}. Best is trial 17 with value: 6.650556583501341.\n"
     ]
    },
    {
     "name": "stdout",
     "output_type": "stream",
     "text": [
      "6.7704034549825565\n"
     ]
    },
    {
     "name": "stderr",
     "output_type": "stream",
     "text": [
      "[I 2023-11-16 15:58:02,838] Trial 19 finished with value: 6.674234148245231 and parameters: {'n_estimators': 210, 'max_depth': 40, 'num_leaves': 15, 'learning_rate': 0.041}. Best is trial 17 with value: 6.650556583501341.\n"
     ]
    },
    {
     "name": "stdout",
     "output_type": "stream",
     "text": [
      "6.674234148245231\n"
     ]
    },
    {
     "name": "stderr",
     "output_type": "stream",
     "text": [
      "[I 2023-11-16 15:58:11,606] Trial 20 finished with value: 6.9348499881710115 and parameters: {'n_estimators': 990, 'max_depth': 30, 'num_leaves': 30, 'learning_rate': 0.101}. Best is trial 17 with value: 6.650556583501341.\n"
     ]
    },
    {
     "name": "stdout",
     "output_type": "stream",
     "text": [
      "6.9348499881710115\n"
     ]
    },
    {
     "name": "stderr",
     "output_type": "stream",
     "text": [
      "[I 2023-11-16 15:58:18,007] Trial 21 finished with value: 6.685509123779531 and parameters: {'n_estimators': 500, 'max_depth': 20, 'num_leaves': 40, 'learning_rate': 0.031}. Best is trial 17 with value: 6.650556583501341.\n"
     ]
    },
    {
     "name": "stdout",
     "output_type": "stream",
     "text": [
      "6.685509123779531\n"
     ]
    },
    {
     "name": "stderr",
     "output_type": "stream",
     "text": [
      "[I 2023-11-16 15:58:26,725] Trial 22 finished with value: 6.658620999359092 and parameters: {'n_estimators': 710, 'max_depth': 15, 'num_leaves': 30, 'learning_rate': 0.011}. Best is trial 17 with value: 6.650556583501341.\n"
     ]
    },
    {
     "name": "stdout",
     "output_type": "stream",
     "text": [
      "6.658620999359092\n"
     ]
    },
    {
     "name": "stderr",
     "output_type": "stream",
     "text": [
      "[I 2023-11-16 15:58:29,755] Trial 23 finished with value: 6.692639659839186 and parameters: {'n_estimators': 400, 'max_depth': 25, 'num_leaves': 10, 'learning_rate': 0.021}. Best is trial 17 with value: 6.650556583501341.\n"
     ]
    },
    {
     "name": "stdout",
     "output_type": "stream",
     "text": [
      "6.692639659839186\n"
     ]
    },
    {
     "name": "stderr",
     "output_type": "stream",
     "text": [
      "[I 2023-11-16 15:58:34,615] Trial 24 finished with value: 6.743380424912896 and parameters: {'n_estimators': 560, 'max_depth': 45, 'num_leaves': 25, 'learning_rate': 0.061}. Best is trial 17 with value: 6.650556583501341.\n"
     ]
    },
    {
     "name": "stdout",
     "output_type": "stream",
     "text": [
      "6.743380424912896\n"
     ]
    },
    {
     "name": "stderr",
     "output_type": "stream",
     "text": [
      "[I 2023-11-16 15:58:41,202] Trial 25 finished with value: 6.878709038088635 and parameters: {'n_estimators': 590, 'max_depth': 10, 'num_leaves': 40, 'learning_rate': 0.14100000000000001}. Best is trial 17 with value: 6.650556583501341.\n"
     ]
    },
    {
     "name": "stdout",
     "output_type": "stream",
     "text": [
      "6.878709038088635\n"
     ]
    },
    {
     "name": "stderr",
     "output_type": "stream",
     "text": [
      "[I 2023-11-16 15:58:47,180] Trial 26 finished with value: 6.665570082121359 and parameters: {'n_estimators': 750, 'max_depth': 30, 'num_leaves': 15, 'learning_rate': 0.041}. Best is trial 17 with value: 6.650556583501341.\n"
     ]
    },
    {
     "name": "stdout",
     "output_type": "stream",
     "text": [
      "6.665570082121359\n"
     ]
    },
    {
     "name": "stderr",
     "output_type": "stream",
     "text": [
      "[I 2023-11-16 15:58:53,238] Trial 27 finished with value: 6.652121589820794 and parameters: {'n_estimators': 450, 'max_depth': 20, 'num_leaves': 40, 'learning_rate': 0.021}. Best is trial 17 with value: 6.650556583501341.\n"
     ]
    },
    {
     "name": "stdout",
     "output_type": "stream",
     "text": [
      "6.652121589820794\n"
     ]
    },
    {
     "name": "stderr",
     "output_type": "stream",
     "text": [
      "[I 2023-11-16 15:58:59,414] Trial 28 finished with value: 6.831456431931015 and parameters: {'n_estimators': 440, 'max_depth': 40, 'num_leaves': 55, 'learning_rate': 0.091}. Best is trial 17 with value: 6.650556583501341.\n"
     ]
    },
    {
     "name": "stdout",
     "output_type": "stream",
     "text": [
      "6.831456431931015\n"
     ]
    },
    {
     "name": "stderr",
     "output_type": "stream",
     "text": [
      "[I 2023-11-16 15:59:02,050] Trial 29 finished with value: 6.7697131886365565 and parameters: {'n_estimators': 210, 'max_depth': 55, 'num_leaves': 45, 'learning_rate': 0.14100000000000001}. Best is trial 17 with value: 6.650556583501341.\n"
     ]
    },
    {
     "name": "stdout",
     "output_type": "stream",
     "text": [
      "6.7697131886365565\n"
     ]
    },
    {
     "name": "stderr",
     "output_type": "stream",
     "text": [
      "[I 2023-11-16 15:59:07,765] Trial 30 finished with value: 6.790113309690682 and parameters: {'n_estimators': 260, 'max_depth': 20, 'num_leaves': 100, 'learning_rate': 0.07100000000000001}. Best is trial 17 with value: 6.650556583501341.\n"
     ]
    },
    {
     "name": "stdout",
     "output_type": "stream",
     "text": [
      "6.790113309690682\n"
     ]
    },
    {
     "name": "stderr",
     "output_type": "stream",
     "text": [
      "[I 2023-11-16 15:59:13,434] Trial 31 finished with value: 6.647462593033232 and parameters: {'n_estimators': 430, 'max_depth': 15, 'num_leaves': 35, 'learning_rate': 0.021}. Best is trial 31 with value: 6.647462593033232.\n"
     ]
    },
    {
     "name": "stdout",
     "output_type": "stream",
     "text": [
      "6.647462593033232\n"
     ]
    },
    {
     "name": "stderr",
     "output_type": "stream",
     "text": [
      "[I 2023-11-16 15:59:17,369] Trial 32 finished with value: 9.027895445948818 and parameters: {'n_estimators': 330, 'max_depth': 30, 'num_leaves': 25, 'learning_rate': 0.001}. Best is trial 31 with value: 6.647462593033232.\n"
     ]
    },
    {
     "name": "stdout",
     "output_type": "stream",
     "text": [
      "9.027895445948818\n"
     ]
    },
    {
     "name": "stderr",
     "output_type": "stream",
     "text": [
      "[I 2023-11-16 15:59:21,027] Trial 33 finished with value: 6.638722762519448 and parameters: {'n_estimators': 440, 'max_depth': 25, 'num_leaves': 15, 'learning_rate': 0.021}. Best is trial 33 with value: 6.638722762519448.\n"
     ]
    },
    {
     "name": "stdout",
     "output_type": "stream",
     "text": [
      "6.638722762519448\n"
     ]
    },
    {
     "name": "stderr",
     "output_type": "stream",
     "text": [
      "[I 2023-11-16 15:59:26,591] Trial 34 finished with value: 6.6521414822741445 and parameters: {'n_estimators': 450, 'max_depth': 10, 'num_leaves': 35, 'learning_rate': 0.021}. Best is trial 33 with value: 6.638722762519448.\n"
     ]
    },
    {
     "name": "stdout",
     "output_type": "stream",
     "text": [
      "6.6521414822741445\n"
     ]
    },
    {
     "name": "stderr",
     "output_type": "stream",
     "text": [
      "[I 2023-11-16 15:59:31,084] Trial 35 finished with value: 6.678291038583256 and parameters: {'n_estimators': 600, 'max_depth': 20, 'num_leaves': 10, 'learning_rate': 0.051000000000000004}. Best is trial 33 with value: 6.638722762519448.\n"
     ]
    },
    {
     "name": "stdout",
     "output_type": "stream",
     "text": [
      "6.678291038583256\n"
     ]
    },
    {
     "name": "stderr",
     "output_type": "stream",
     "text": [
      "[I 2023-11-16 15:59:37,347] Trial 36 finished with value: 6.649639649886868 and parameters: {'n_estimators': 480, 'max_depth': 40, 'num_leaves': 40, 'learning_rate': 0.021}. Best is trial 33 with value: 6.638722762519448.\n"
     ]
    },
    {
     "name": "stdout",
     "output_type": "stream",
     "text": [
      "6.649639649886868\n"
     ]
    },
    {
     "name": "stderr",
     "output_type": "stream",
     "text": [
      "[I 2023-11-16 15:59:48,706] Trial 37 finished with value: 6.769520948295721 and parameters: {'n_estimators': 700, 'max_depth': 40, 'num_leaves': 70, 'learning_rate': 0.031}. Best is trial 33 with value: 6.638722762519448.\n"
     ]
    },
    {
     "name": "stdout",
     "output_type": "stream",
     "text": [
      "6.769520948295721\n"
     ]
    },
    {
     "name": "stderr",
     "output_type": "stream",
     "text": [
      "[I 2023-11-16 15:59:52,209] Trial 38 finished with value: 6.6913554456968125 and parameters: {'n_estimators': 330, 'max_depth': 35, 'num_leaves': 30, 'learning_rate': 0.051000000000000004}. Best is trial 33 with value: 6.638722762519448.\n"
     ]
    },
    {
     "name": "stdout",
     "output_type": "stream",
     "text": [
      "6.6913554456968125\n"
     ]
    },
    {
     "name": "stderr",
     "output_type": "stream",
     "text": [
      "[I 2023-11-16 16:00:02,821] Trial 39 finished with value: 6.662279433887575 and parameters: {'n_estimators': 620, 'max_depth': 50, 'num_leaves': 55, 'learning_rate': 0.011}. Best is trial 33 with value: 6.638722762519448.\n"
     ]
    },
    {
     "name": "stdout",
     "output_type": "stream",
     "text": [
      "6.662279433887575\n"
     ]
    },
    {
     "name": "stderr",
     "output_type": "stream",
     "text": [
      "[I 2023-11-16 16:00:08,001] Trial 40 finished with value: 6.675421094252859 and parameters: {'n_estimators': 520, 'max_depth': 35, 'num_leaves': 25, 'learning_rate': 0.041}. Best is trial 33 with value: 6.638722762519448.\n"
     ]
    },
    {
     "name": "stdout",
     "output_type": "stream",
     "text": [
      "6.675421094252859\n"
     ]
    },
    {
     "name": "stderr",
     "output_type": "stream",
     "text": [
      "[I 2023-11-16 16:00:14,125] Trial 41 finished with value: 6.651211979168089 and parameters: {'n_estimators': 440, 'max_depth': 25, 'num_leaves': 40, 'learning_rate': 0.021}. Best is trial 33 with value: 6.638722762519448.\n"
     ]
    },
    {
     "name": "stdout",
     "output_type": "stream",
     "text": [
      "6.651211979168089\n"
     ]
    },
    {
     "name": "stderr",
     "output_type": "stream",
     "text": [
      "[I 2023-11-16 16:00:21,421] Trial 42 finished with value: 6.646430903701695 and parameters: {'n_estimators': 430, 'max_depth': 25, 'num_leaves': 45, 'learning_rate': 0.011}. Best is trial 33 with value: 6.638722762519448.\n"
     ]
    },
    {
     "name": "stdout",
     "output_type": "stream",
     "text": [
      "6.646430903701695\n"
     ]
    },
    {
     "name": "stderr",
     "output_type": "stream",
     "text": [
      "[I 2023-11-16 16:00:30,149] Trial 43 finished with value: 6.651436681388527 and parameters: {'n_estimators': 560, 'max_depth': 45, 'num_leaves': 50, 'learning_rate': 0.011}. Best is trial 33 with value: 6.638722762519448.\n"
     ]
    },
    {
     "name": "stdout",
     "output_type": "stream",
     "text": [
      "6.651436681388527\n"
     ]
    },
    {
     "name": "stderr",
     "output_type": "stream",
     "text": [
      "[I 2023-11-16 16:00:36,174] Trial 44 finished with value: 6.751857511900334 and parameters: {'n_estimators': 480, 'max_depth': 75, 'num_leaves': 45, 'learning_rate': 0.061}. Best is trial 33 with value: 6.638722762519448.\n"
     ]
    },
    {
     "name": "stdout",
     "output_type": "stream",
     "text": [
      "6.751857511900334\n"
     ]
    },
    {
     "name": "stderr",
     "output_type": "stream",
     "text": [
      "[I 2023-11-16 16:00:44,090] Trial 45 finished with value: 8.692815372024183 and parameters: {'n_estimators': 410, 'max_depth': 10, 'num_leaves': 50, 'learning_rate': 0.001}. Best is trial 33 with value: 6.638722762519448.\n"
     ]
    },
    {
     "name": "stdout",
     "output_type": "stream",
     "text": [
      "8.692815372024183\n"
     ]
    },
    {
     "name": "stderr",
     "output_type": "stream",
     "text": [
      "[I 2023-11-16 16:00:48,615] Trial 46 finished with value: 6.6441432005374015 and parameters: {'n_estimators': 340, 'max_depth': 35, 'num_leaves': 35, 'learning_rate': 0.031}. Best is trial 33 with value: 6.638722762519448.\n"
     ]
    },
    {
     "name": "stdout",
     "output_type": "stream",
     "text": [
      "6.6441432005374015\n"
     ]
    },
    {
     "name": "stderr",
     "output_type": "stream",
     "text": [
      "[I 2023-11-16 16:00:53,283] Trial 47 finished with value: 6.977879395578173 and parameters: {'n_estimators': 350, 'max_depth': 25, 'num_leaves': 65, 'learning_rate': 0.211}. Best is trial 33 with value: 6.638722762519448.\n"
     ]
    },
    {
     "name": "stdout",
     "output_type": "stream",
     "text": [
      "6.977879395578173\n"
     ]
    },
    {
     "name": "stderr",
     "output_type": "stream",
     "text": [
      "[I 2023-11-16 16:00:57,223] Trial 48 finished with value: 6.677653642086311 and parameters: {'n_estimators': 320, 'max_depth': 15, 'num_leaves': 35, 'learning_rate': 0.041}. Best is trial 33 with value: 6.638722762519448.\n"
     ]
    },
    {
     "name": "stdout",
     "output_type": "stream",
     "text": [
      "6.677653642086311\n"
     ]
    },
    {
     "name": "stderr",
     "output_type": "stream",
     "text": [
      "[I 2023-11-16 16:01:03,257] Trial 49 finished with value: 6.693859126484383 and parameters: {'n_estimators': 380, 'max_depth': 35, 'num_leaves': 60, 'learning_rate': 0.031}. Best is trial 33 with value: 6.638722762519448.\n"
     ]
    },
    {
     "name": "stdout",
     "output_type": "stream",
     "text": [
      "6.693859126484383\n"
     ]
    },
    {
     "name": "stderr",
     "output_type": "stream",
     "text": [
      "[I 2023-11-16 16:01:08,256] Trial 50 finished with value: 6.8190843607912175 and parameters: {'n_estimators': 410, 'max_depth': 55, 'num_leaves': 45, 'learning_rate': 0.121}. Best is trial 33 with value: 6.638722762519448.\n"
     ]
    },
    {
     "name": "stdout",
     "output_type": "stream",
     "text": [
      "6.8190843607912175\n"
     ]
    },
    {
     "name": "stderr",
     "output_type": "stream",
     "text": [
      "[I 2023-11-16 16:01:09,683] Trial 51 finished with value: 7.101679656905916 and parameters: {'n_estimators': 140, 'max_depth': 35, 'num_leaves': 15, 'learning_rate': 0.011}. Best is trial 33 with value: 6.638722762519448.\n"
     ]
    },
    {
     "name": "stdout",
     "output_type": "stream",
     "text": [
      "7.101679656905916\n"
     ]
    },
    {
     "name": "stderr",
     "output_type": "stream",
     "text": [
      "[I 2023-11-16 16:01:16,151] Trial 52 finished with value: 8.366767140936656 and parameters: {'n_estimators': 540, 'max_depth': 40, 'num_leaves': 30, 'learning_rate': 0.001}. Best is trial 33 with value: 6.638722762519448.\n"
     ]
    },
    {
     "name": "stdout",
     "output_type": "stream",
     "text": [
      "8.366767140936656\n"
     ]
    },
    {
     "name": "stderr",
     "output_type": "stream",
     "text": [
      "[I 2023-11-16 16:01:20,360] Trial 53 finished with value: 6.636872796086344 and parameters: {'n_estimators': 300, 'max_depth': 30, 'num_leaves': 35, 'learning_rate': 0.031}. Best is trial 53 with value: 6.636872796086344.\n"
     ]
    },
    {
     "name": "stdout",
     "output_type": "stream",
     "text": [
      "6.636872796086344\n"
     ]
    },
    {
     "name": "stderr",
     "output_type": "stream",
     "text": [
      "[I 2023-11-16 16:01:23,803] Trial 54 finished with value: 6.689378679266786 and parameters: {'n_estimators': 280, 'max_depth': 25, 'num_leaves': 35, 'learning_rate': 0.07100000000000001}. Best is trial 53 with value: 6.636872796086344.\n"
     ]
    },
    {
     "name": "stdout",
     "output_type": "stream",
     "text": [
      "6.689378679266786\n"
     ]
    },
    {
     "name": "stderr",
     "output_type": "stream",
     "text": [
      "[I 2023-11-16 16:01:27,697] Trial 55 finished with value: 6.68508502240273 and parameters: {'n_estimators': 300, 'max_depth': 30, 'num_leaves': 45, 'learning_rate': 0.051000000000000004}. Best is trial 53 with value: 6.636872796086344.\n"
     ]
    },
    {
     "name": "stdout",
     "output_type": "stream",
     "text": [
      "6.68508502240273\n"
     ]
    },
    {
     "name": "stderr",
     "output_type": "stream",
     "text": [
      "[I 2023-11-16 16:01:32,444] Trial 56 finished with value: 6.656339414313701 and parameters: {'n_estimators': 370, 'max_depth': 100, 'num_leaves': 40, 'learning_rate': 0.031}. Best is trial 53 with value: 6.636872796086344.\n"
     ]
    },
    {
     "name": "stdout",
     "output_type": "stream",
     "text": [
      "6.656339414313701\n"
     ]
    },
    {
     "name": "stderr",
     "output_type": "stream",
     "text": [
      "[I 2023-11-16 16:01:34,311] Trial 57 finished with value: 6.684518783856983 and parameters: {'n_estimators': 150, 'max_depth': 15, 'num_leaves': 25, 'learning_rate': 0.031}. Best is trial 53 with value: 6.636872796086344.\n"
     ]
    },
    {
     "name": "stdout",
     "output_type": "stream",
     "text": [
      "6.684518783856983\n"
     ]
    },
    {
     "name": "stderr",
     "output_type": "stream",
     "text": [
      "[I 2023-11-16 16:01:40,289] Trial 58 finished with value: 6.929349483318777 and parameters: {'n_estimators': 490, 'max_depth': 45, 'num_leaves': 50, 'learning_rate': 0.171}. Best is trial 53 with value: 6.636872796086344.\n"
     ]
    },
    {
     "name": "stdout",
     "output_type": "stream",
     "text": [
      "6.929349483318777\n"
     ]
    },
    {
     "name": "stderr",
     "output_type": "stream",
     "text": [
      "[I 2023-11-16 16:01:46,215] Trial 59 finished with value: 6.672404864919802 and parameters: {'n_estimators': 240, 'max_depth': 30, 'num_leaves': 90, 'learning_rate': 0.011}. Best is trial 53 with value: 6.636872796086344.\n"
     ]
    },
    {
     "name": "stdout",
     "output_type": "stream",
     "text": [
      "6.672404864919802\n"
     ]
    },
    {
     "name": "stderr",
     "output_type": "stream",
     "text": [
      "[I 2023-11-16 16:01:50,889] Trial 60 finished with value: 6.6990601986207 and parameters: {'n_estimators': 420, 'max_depth': 20, 'num_leaves': 35, 'learning_rate': 0.041}. Best is trial 53 with value: 6.636872796086344.\n"
     ]
    },
    {
     "name": "stdout",
     "output_type": "stream",
     "text": [
      "6.6990601986207\n"
     ]
    },
    {
     "name": "stderr",
     "output_type": "stream",
     "text": [
      "[I 2023-11-16 16:01:55,023] Trial 61 finished with value: 6.692210433943789 and parameters: {'n_estimators': 460, 'max_depth': 50, 'num_leaves': 10, 'learning_rate': 0.021}. Best is trial 53 with value: 6.636872796086344.\n"
     ]
    },
    {
     "name": "stdout",
     "output_type": "stream",
     "text": [
      "6.692210433943789\n"
     ]
    },
    {
     "name": "stderr",
     "output_type": "stream",
     "text": [
      "[I 2023-11-16 16:02:03,077] Trial 62 finished with value: 6.634988074723842 and parameters: {'n_estimators': 880, 'max_depth': 40, 'num_leaves': 20, 'learning_rate': 0.011}. Best is trial 62 with value: 6.634988074723842.\n"
     ]
    },
    {
     "name": "stdout",
     "output_type": "stream",
     "text": [
      "6.634988074723842\n"
     ]
    },
    {
     "name": "stderr",
     "output_type": "stream",
     "text": [
      "[I 2023-11-16 16:02:13,627] Trial 63 finished with value: 7.769947135771984 and parameters: {'n_estimators': 820, 'max_depth': 35, 'num_leaves': 30, 'learning_rate': 0.001}. Best is trial 62 with value: 6.634988074723842.\n"
     ]
    },
    {
     "name": "stdout",
     "output_type": "stream",
     "text": [
      "7.769947135771984\n"
     ]
    },
    {
     "name": "stderr",
     "output_type": "stream",
     "text": [
      "[I 2023-11-16 16:02:21,379] Trial 64 finished with value: 6.798444381172906 and parameters: {'n_estimators': 990, 'max_depth': 25, 'num_leaves': 25, 'learning_rate': 0.061}. Best is trial 62 with value: 6.634988074723842.\n"
     ]
    },
    {
     "name": "stdout",
     "output_type": "stream",
     "text": [
      "6.798444381172906\n"
     ]
    },
    {
     "name": "stderr",
     "output_type": "stream",
     "text": [
      "[I 2023-11-16 16:02:23,714] Trial 65 finished with value: 6.8084137520672385 and parameters: {'n_estimators': 360, 'max_depth': 65, 'num_leaves': 5, 'learning_rate': 0.011}. Best is trial 62 with value: 6.634988074723842.\n"
     ]
    },
    {
     "name": "stdout",
     "output_type": "stream",
     "text": [
      "6.8084137520672385\n"
     ]
    },
    {
     "name": "stderr",
     "output_type": "stream",
     "text": [
      "[I 2023-11-16 16:02:31,742] Trial 66 finished with value: 6.661562858522621 and parameters: {'n_estimators': 900, 'max_depth': 30, 'num_leaves': 20, 'learning_rate': 0.021}. Best is trial 62 with value: 6.634988074723842.\n"
     ]
    },
    {
     "name": "stdout",
     "output_type": "stream",
     "text": [
      "6.661562858522621\n"
     ]
    },
    {
     "name": "stderr",
     "output_type": "stream",
     "text": [
      "[I 2023-11-16 16:02:35,619] Trial 67 finished with value: 6.669420437480358 and parameters: {'n_estimators': 510, 'max_depth': 40, 'num_leaves': 15, 'learning_rate': 0.031}. Best is trial 62 with value: 6.634988074723842.\n"
     ]
    },
    {
     "name": "stdout",
     "output_type": "stream",
     "text": [
      "6.669420437480358\n"
     ]
    },
    {
     "name": "stderr",
     "output_type": "stream",
     "text": [
      "[I 2023-11-16 16:02:38,319] Trial 68 finished with value: 6.8289404243861425 and parameters: {'n_estimators': 200, 'max_depth': 25, 'num_leaves': 40, 'learning_rate': 0.201}. Best is trial 62 with value: 6.634988074723842.\n"
     ]
    },
    {
     "name": "stdout",
     "output_type": "stream",
     "text": [
      "6.8289404243861425\n"
     ]
    },
    {
     "name": "stderr",
     "output_type": "stream",
     "text": [
      "[I 2023-11-16 16:02:44,020] Trial 69 finished with value: 6.673365575765836 and parameters: {'n_estimators': 470, 'max_depth': 15, 'num_leaves': 30, 'learning_rate': 0.041}. Best is trial 62 with value: 6.634988074723842.\n"
     ]
    },
    {
     "name": "stdout",
     "output_type": "stream",
     "text": [
      "6.673365575765836\n"
     ]
    },
    {
     "name": "stderr",
     "output_type": "stream",
     "text": [
      "[I 2023-11-16 16:02:47,798] Trial 70 finished with value: 6.729839276104225 and parameters: {'n_estimators': 380, 'max_depth': 5, 'num_leaves': 40, 'learning_rate': 0.051000000000000004}. Best is trial 62 with value: 6.634988074723842.\n"
     ]
    },
    {
     "name": "stdout",
     "output_type": "stream",
     "text": [
      "6.729839276104225\n"
     ]
    },
    {
     "name": "stderr",
     "output_type": "stream",
     "text": [
      "[I 2023-11-16 16:02:55,457] Trial 71 finished with value: 6.6634429876003844 and parameters: {'n_estimators': 920, 'max_depth': 45, 'num_leaves': 20, 'learning_rate': 0.021}. Best is trial 62 with value: 6.634988074723842.\n"
     ]
    },
    {
     "name": "stdout",
     "output_type": "stream",
     "text": [
      "6.6634429876003844\n"
     ]
    },
    {
     "name": "stderr",
     "output_type": "stream",
     "text": [
      "[I 2023-11-16 16:03:05,922] Trial 72 finished with value: 6.647034447391112 and parameters: {'n_estimators': 870, 'max_depth': 40, 'num_leaves': 35, 'learning_rate': 0.011}. Best is trial 62 with value: 6.634988074723842.\n"
     ]
    },
    {
     "name": "stdout",
     "output_type": "stream",
     "text": [
      "6.647034447391112\n"
     ]
    },
    {
     "name": "stderr",
     "output_type": "stream",
     "text": [
      "[I 2023-11-16 16:03:18,424] Trial 73 finished with value: 7.557757114531899 and parameters: {'n_estimators': 930, 'max_depth': 35, 'num_leaves': 35, 'learning_rate': 0.001}. Best is trial 62 with value: 6.634988074723842.\n"
     ]
    },
    {
     "name": "stdout",
     "output_type": "stream",
     "text": [
      "7.557757114531899\n"
     ]
    },
    {
     "name": "stderr",
     "output_type": "stream",
     "text": [
      "[I 2023-11-16 16:03:28,828] Trial 74 finished with value: 6.648165204910744 and parameters: {'n_estimators': 860, 'max_depth': 40, 'num_leaves': 35, 'learning_rate': 0.011}. Best is trial 62 with value: 6.634988074723842.\n"
     ]
    },
    {
     "name": "stdout",
     "output_type": "stream",
     "text": [
      "6.648165204910744\n"
     ]
    },
    {
     "name": "stderr",
     "output_type": "stream",
     "text": [
      "[I 2023-11-16 16:03:38,310] Trial 75 finished with value: 6.643175528900788 and parameters: {'n_estimators': 880, 'max_depth': 20, 'num_leaves': 25, 'learning_rate': 0.011}. Best is trial 62 with value: 6.634988074723842.\n"
     ]
    },
    {
     "name": "stdout",
     "output_type": "stream",
     "text": [
      "6.643175528900788\n"
     ]
    },
    {
     "name": "stderr",
     "output_type": "stream",
     "text": [
      "[I 2023-11-16 16:03:46,915] Trial 76 finished with value: 6.641239055172811 and parameters: {'n_estimators': 790, 'max_depth': 25, 'num_leaves': 25, 'learning_rate': 0.011}. Best is trial 62 with value: 6.634988074723842.\n"
     ]
    },
    {
     "name": "stdout",
     "output_type": "stream",
     "text": [
      "6.641239055172811\n"
     ]
    },
    {
     "name": "stderr",
     "output_type": "stream",
     "text": [
      "[I 2023-11-16 16:03:55,555] Trial 77 finished with value: 7.865455009737603 and parameters: {'n_estimators': 770, 'max_depth': 20, 'num_leaves': 25, 'learning_rate': 0.001}. Best is trial 62 with value: 6.634988074723842.\n"
     ]
    },
    {
     "name": "stdout",
     "output_type": "stream",
     "text": [
      "7.865455009737603\n"
     ]
    },
    {
     "name": "stderr",
     "output_type": "stream",
     "text": [
      "[I 2023-11-16 16:04:02,665] Trial 78 finished with value: 6.709643203945535 and parameters: {'n_estimators': 950, 'max_depth': 30, 'num_leaves': 10, 'learning_rate': 0.011}. Best is trial 62 with value: 6.634988074723842.\n"
     ]
    },
    {
     "name": "stdout",
     "output_type": "stream",
     "text": [
      "6.709643203945535\n"
     ]
    },
    {
     "name": "stderr",
     "output_type": "stream",
     "text": [
      "[I 2023-11-16 16:04:09,836] Trial 79 finished with value: 6.6806470988357125 and parameters: {'n_estimators': 860, 'max_depth': 30, 'num_leaves': 20, 'learning_rate': 0.031}. Best is trial 62 with value: 6.634988074723842.\n"
     ]
    },
    {
     "name": "stdout",
     "output_type": "stream",
     "text": [
      "6.6806470988357125\n"
     ]
    },
    {
     "name": "stderr",
     "output_type": "stream",
     "text": [
      "[I 2023-11-16 16:04:16,888] Trial 80 finished with value: 6.671491564034089 and parameters: {'n_estimators': 810, 'max_depth': 25, 'num_leaves': 15, 'learning_rate': 0.011}. Best is trial 62 with value: 6.634988074723842.\n"
     ]
    },
    {
     "name": "stdout",
     "output_type": "stream",
     "text": [
      "6.671491564034089\n"
     ]
    },
    {
     "name": "stderr",
     "output_type": "stream",
     "text": [
      "[I 2023-11-16 16:04:25,372] Trial 81 finished with value: 6.669321940274757 and parameters: {'n_estimators': 800, 'max_depth': 20, 'num_leaves': 30, 'learning_rate': 0.021}. Best is trial 62 with value: 6.634988074723842.\n"
     ]
    },
    {
     "name": "stdout",
     "output_type": "stream",
     "text": [
      "6.669321940274757\n"
     ]
    },
    {
     "name": "stderr",
     "output_type": "stream",
     "text": [
      "[I 2023-11-16 16:04:36,563] Trial 82 finished with value: 7.656512325926942 and parameters: {'n_estimators': 890, 'max_depth': 10, 'num_leaves': 30, 'learning_rate': 0.001}. Best is trial 62 with value: 6.634988074723842.\n"
     ]
    },
    {
     "name": "stdout",
     "output_type": "stream",
     "text": [
      "7.656512325926942\n"
     ]
    },
    {
     "name": "stderr",
     "output_type": "stream",
     "text": [
      "[I 2023-11-16 16:04:46,044] Trial 83 finished with value: 6.736042339164252 and parameters: {'n_estimators': 960, 'max_depth': 15, 'num_leaves': 25, 'learning_rate': 0.041}. Best is trial 62 with value: 6.634988074723842.\n"
     ]
    },
    {
     "name": "stdout",
     "output_type": "stream",
     "text": [
      "6.736042339164252\n"
     ]
    },
    {
     "name": "stderr",
     "output_type": "stream",
     "text": [
      "[I 2023-11-16 16:04:52,974] Trial 84 finished with value: 6.673583152493792 and parameters: {'n_estimators': 760, 'max_depth': 20, 'num_leaves': 15, 'learning_rate': 0.011}. Best is trial 62 with value: 6.634988074723842.\n"
     ]
    },
    {
     "name": "stdout",
     "output_type": "stream",
     "text": [
      "6.673583152493792\n"
     ]
    },
    {
     "name": "stderr",
     "output_type": "stream",
     "text": [
      "[I 2023-11-16 16:05:01,333] Trial 85 finished with value: 6.727439023177997 and parameters: {'n_estimators': 850, 'max_depth': 25, 'num_leaves': 35, 'learning_rate': 0.031}. Best is trial 62 with value: 6.634988074723842.\n"
     ]
    },
    {
     "name": "stdout",
     "output_type": "stream",
     "text": [
      "6.727439023177997\n"
     ]
    },
    {
     "name": "stderr",
     "output_type": "stream",
     "text": [
      "[I 2023-11-16 16:05:09,232] Trial 86 finished with value: 6.751842634644084 and parameters: {'n_estimators': 880, 'max_depth': 35, 'num_leaves': 25, 'learning_rate': 0.051000000000000004}. Best is trial 62 with value: 6.634988074723842.\n"
     ]
    },
    {
     "name": "stdout",
     "output_type": "stream",
     "text": [
      "6.751842634644084\n"
     ]
    },
    {
     "name": "stderr",
     "output_type": "stream",
     "text": [
      "[I 2023-11-16 16:05:18,118] Trial 87 finished with value: 6.6928502375154295 and parameters: {'n_estimators': 730, 'max_depth': 10, 'num_leaves': 45, 'learning_rate': 0.021}. Best is trial 62 with value: 6.634988074723842.\n"
     ]
    },
    {
     "name": "stdout",
     "output_type": "stream",
     "text": [
      "6.6928502375154295\n"
     ]
    },
    {
     "name": "stderr",
     "output_type": "stream",
     "text": [
      "[I 2023-11-16 16:05:22,816] Trial 88 finished with value: 9.093630049173074 and parameters: {'n_estimators': 310, 'max_depth': 25, 'num_leaves': 30, 'learning_rate': 0.001}. Best is trial 62 with value: 6.634988074723842.\n"
     ]
    },
    {
     "name": "stdout",
     "output_type": "stream",
     "text": [
      "9.093630049173074\n"
     ]
    },
    {
     "name": "stderr",
     "output_type": "stream",
     "text": [
      "[I 2023-11-16 16:05:32,731] Trial 89 finished with value: 7.195278007656435 and parameters: {'n_estimators': 960, 'max_depth': 30, 'num_leaves': 55, 'learning_rate': 0.251}. Best is trial 62 with value: 6.634988074723842.\n"
     ]
    },
    {
     "name": "stdout",
     "output_type": "stream",
     "text": [
      "7.195278007656435\n"
     ]
    },
    {
     "name": "stderr",
     "output_type": "stream",
     "text": [
      "[I 2023-11-16 16:05:37,845] Trial 90 finished with value: 6.668876249370712 and parameters: {'n_estimators': 430, 'max_depth': 20, 'num_leaves': 20, 'learning_rate': 0.011}. Best is trial 62 with value: 6.634988074723842.\n"
     ]
    },
    {
     "name": "stdout",
     "output_type": "stream",
     "text": [
      "6.668876249370712\n"
     ]
    },
    {
     "name": "stderr",
     "output_type": "stream",
     "text": [
      "[I 2023-11-16 16:05:47,651] Trial 91 finished with value: 6.645749360577597 and parameters: {'n_estimators': 840, 'max_depth': 40, 'num_leaves': 35, 'learning_rate': 0.011}. Best is trial 62 with value: 6.634988074723842.\n"
     ]
    },
    {
     "name": "stdout",
     "output_type": "stream",
     "text": [
      "6.645749360577597\n"
     ]
    },
    {
     "name": "stderr",
     "output_type": "stream",
     "text": [
      "[I 2023-11-16 16:05:57,249] Trial 92 finished with value: 6.676077974540128 and parameters: {'n_estimators': 880, 'max_depth': 35, 'num_leaves': 35, 'learning_rate': 0.021}. Best is trial 62 with value: 6.634988074723842.\n"
     ]
    },
    {
     "name": "stdout",
     "output_type": "stream",
     "text": [
      "6.676077974540128\n"
     ]
    },
    {
     "name": "stderr",
     "output_type": "stream",
     "text": [
      "[I 2023-11-16 16:06:06,195] Trial 93 finished with value: 6.733060178189872 and parameters: {'n_estimators': 840, 'max_depth': 45, 'num_leaves': 40, 'learning_rate': 0.031}. Best is trial 62 with value: 6.634988074723842.\n"
     ]
    },
    {
     "name": "stdout",
     "output_type": "stream",
     "text": [
      "6.733060178189872\n"
     ]
    },
    {
     "name": "stderr",
     "output_type": "stream",
     "text": [
      "[I 2023-11-16 16:06:16,385] Trial 94 finished with value: 7.804649109598548 and parameters: {'n_estimators': 800, 'max_depth': 50, 'num_leaves': 30, 'learning_rate': 0.001}. Best is trial 62 with value: 6.634988074723842.\n"
     ]
    },
    {
     "name": "stdout",
     "output_type": "stream",
     "text": [
      "7.804649109598548\n"
     ]
    },
    {
     "name": "stderr",
     "output_type": "stream",
     "text": [
      "[I 2023-11-16 16:06:19,785] Trial 95 finished with value: 6.642264474702161 and parameters: {'n_estimators': 340, 'max_depth': 40, 'num_leaves': 25, 'learning_rate': 0.041}. Best is trial 62 with value: 6.634988074723842.\n"
     ]
    },
    {
     "name": "stdout",
     "output_type": "stream",
     "text": [
      "6.642264474702161\n"
     ]
    },
    {
     "name": "stderr",
     "output_type": "stream",
     "text": [
      "[I 2023-11-16 16:06:22,056] Trial 96 finished with value: 6.713835651465544 and parameters: {'n_estimators': 340, 'max_depth': 40, 'num_leaves': 10, 'learning_rate': 0.101}. Best is trial 62 with value: 6.634988074723842.\n"
     ]
    },
    {
     "name": "stdout",
     "output_type": "stream",
     "text": [
      "6.713835651465544\n"
     ]
    },
    {
     "name": "stderr",
     "output_type": "stream",
     "text": [
      "[I 2023-11-16 16:06:25,264] Trial 97 finished with value: 6.635919194610419 and parameters: {'n_estimators': 270, 'max_depth': 55, 'num_leaves': 25, 'learning_rate': 0.041}. Best is trial 62 with value: 6.634988074723842.\n"
     ]
    },
    {
     "name": "stdout",
     "output_type": "stream",
     "text": [
      "6.635919194610419\n"
     ]
    },
    {
     "name": "stderr",
     "output_type": "stream",
     "text": [
      "[I 2023-11-16 16:06:28,078] Trial 98 finished with value: 6.641425084319048 and parameters: {'n_estimators': 270, 'max_depth': 55, 'num_leaves': 20, 'learning_rate': 0.041}. Best is trial 62 with value: 6.634988074723842.\n"
     ]
    },
    {
     "name": "stdout",
     "output_type": "stream",
     "text": [
      "6.641425084319048\n"
     ]
    },
    {
     "name": "stderr",
     "output_type": "stream",
     "text": [
      "[I 2023-11-16 16:06:29,698] Trial 99 finished with value: 6.640576478016123 and parameters: {'n_estimators': 180, 'max_depth': 65, 'num_leaves': 15, 'learning_rate': 0.07100000000000001}. Best is trial 62 with value: 6.634988074723842.\n"
     ]
    },
    {
     "name": "stdout",
     "output_type": "stream",
     "text": [
      "6.640576478016123\n"
     ]
    },
    {
     "name": "stderr",
     "output_type": "stream",
     "text": [
      "[I 2023-11-16 16:06:31,359] Trial 100 finished with value: 6.658077169527933 and parameters: {'n_estimators': 180, 'max_depth': 65, 'num_leaves': 15, 'learning_rate': 0.081}. Best is trial 62 with value: 6.634988074723842.\n"
     ]
    },
    {
     "name": "stdout",
     "output_type": "stream",
     "text": [
      "6.658077169527933\n"
     ]
    },
    {
     "name": "stderr",
     "output_type": "stream",
     "text": [
      "[I 2023-11-16 16:06:33,671] Trial 101 finished with value: 6.648444230982485 and parameters: {'n_estimators': 250, 'max_depth': 75, 'num_leaves': 20, 'learning_rate': 0.061}. Best is trial 62 with value: 6.634988074723842.\n"
     ]
    },
    {
     "name": "stdout",
     "output_type": "stream",
     "text": [
      "6.648444230982485\n"
     ]
    },
    {
     "name": "stderr",
     "output_type": "stream",
     "text": [
      "[I 2023-11-16 16:06:36,272] Trial 102 finished with value: 6.641425084319048 and parameters: {'n_estimators': 270, 'max_depth': 70, 'num_leaves': 20, 'learning_rate': 0.041}. Best is trial 62 with value: 6.634988074723842.\n"
     ]
    },
    {
     "name": "stdout",
     "output_type": "stream",
     "text": [
      "6.641425084319048\n"
     ]
    },
    {
     "name": "stderr",
     "output_type": "stream",
     "text": [
      "[I 2023-11-16 16:06:38,535] Trial 103 finished with value: 6.721667697422333 and parameters: {'n_estimators': 270, 'max_depth': 70, 'num_leaves': 5, 'learning_rate': 0.041}. Best is trial 62 with value: 6.634988074723842.\n"
     ]
    },
    {
     "name": "stdout",
     "output_type": "stream",
     "text": [
      "6.721667697422333\n"
     ]
    },
    {
     "name": "stderr",
     "output_type": "stream",
     "text": [
      "[I 2023-11-16 16:06:42,342] Trial 104 finished with value: 6.6642942052569545 and parameters: {'n_estimators': 300, 'max_depth': 60, 'num_leaves': 25, 'learning_rate': 0.051000000000000004}. Best is trial 62 with value: 6.634988074723842.\n"
     ]
    },
    {
     "name": "stdout",
     "output_type": "stream",
     "text": [
      "6.6642942052569545\n"
     ]
    },
    {
     "name": "stderr",
     "output_type": "stream",
     "text": [
      "[I 2023-11-16 16:06:44,244] Trial 105 finished with value: 6.692932252189347 and parameters: {'n_estimators': 230, 'max_depth': 70, 'num_leaves': 10, 'learning_rate': 0.061}. Best is trial 62 with value: 6.634988074723842.\n"
     ]
    },
    {
     "name": "stdout",
     "output_type": "stream",
     "text": [
      "6.692932252189347\n"
     ]
    },
    {
     "name": "stderr",
     "output_type": "stream",
     "text": [
      "[I 2023-11-16 16:06:46,373] Trial 106 finished with value: 6.642327286689192 and parameters: {'n_estimators': 180, 'max_depth': 55, 'num_leaves': 20, 'learning_rate': 0.041}. Best is trial 62 with value: 6.634988074723842.\n"
     ]
    },
    {
     "name": "stdout",
     "output_type": "stream",
     "text": [
      "6.642327286689192\n"
     ]
    },
    {
     "name": "stderr",
     "output_type": "stream",
     "text": [
      "[I 2023-11-16 16:06:47,395] Trial 107 finished with value: 6.781642100731322 and parameters: {'n_estimators': 60, 'max_depth': 55, 'num_leaves': 20, 'learning_rate': 0.041}. Best is trial 62 with value: 6.634988074723842.\n"
     ]
    },
    {
     "name": "stdout",
     "output_type": "stream",
     "text": [
      "6.781642100731322\n"
     ]
    },
    {
     "name": "stderr",
     "output_type": "stream",
     "text": [
      "[I 2023-11-16 16:06:49,094] Trial 108 finished with value: 6.637642518347443 and parameters: {'n_estimators': 190, 'max_depth': 60, 'num_leaves': 15, 'learning_rate': 0.07100000000000001}. Best is trial 62 with value: 6.634988074723842.\n"
     ]
    },
    {
     "name": "stdout",
     "output_type": "stream",
     "text": [
      "6.637642518347443\n"
     ]
    },
    {
     "name": "stderr",
     "output_type": "stream",
     "text": [
      "[I 2023-11-16 16:06:50,333] Trial 109 finished with value: 6.653524010216848 and parameters: {'n_estimators': 120, 'max_depth': 60, 'num_leaves': 15, 'learning_rate': 0.07100000000000001}. Best is trial 62 with value: 6.634988074723842.\n"
     ]
    },
    {
     "name": "stdout",
     "output_type": "stream",
     "text": [
      "6.653524010216848\n"
     ]
    },
    {
     "name": "stderr",
     "output_type": "stream",
     "text": [
      "[I 2023-11-16 16:06:52,242] Trial 110 finished with value: 6.670809549191505 and parameters: {'n_estimators': 190, 'max_depth': 60, 'num_leaves': 20, 'learning_rate': 0.081}. Best is trial 62 with value: 6.634988074723842.\n"
     ]
    },
    {
     "name": "stdout",
     "output_type": "stream",
     "text": [
      "6.670809549191505\n"
     ]
    },
    {
     "name": "stderr",
     "output_type": "stream",
     "text": [
      "[I 2023-11-16 16:06:53,771] Trial 111 finished with value: 6.709987368566691 and parameters: {'n_estimators': 160, 'max_depth': 55, 'num_leaves': 20, 'learning_rate': 0.14100000000000001}. Best is trial 62 with value: 6.634988074723842.\n"
     ]
    },
    {
     "name": "stdout",
     "output_type": "stream",
     "text": [
      "6.709987368566691\n"
     ]
    },
    {
     "name": "stderr",
     "output_type": "stream",
     "text": [
      "[I 2023-11-16 16:06:56,086] Trial 112 finished with value: 6.663589653567599 and parameters: {'n_estimators': 220, 'max_depth': 65, 'num_leaves': 15, 'learning_rate': 0.041}. Best is trial 62 with value: 6.634988074723842.\n"
     ]
    },
    {
     "name": "stdout",
     "output_type": "stream",
     "text": [
      "6.663589653567599\n"
     ]
    },
    {
     "name": "stderr",
     "output_type": "stream",
     "text": [
      "[I 2023-11-16 16:06:57,592] Trial 113 finished with value: 6.69889981944963 and parameters: {'n_estimators': 100, 'max_depth': 70, 'num_leaves': 10, 'learning_rate': 0.051000000000000004}. Best is trial 62 with value: 6.634988074723842.\n"
     ]
    },
    {
     "name": "stdout",
     "output_type": "stream",
     "text": [
      "6.69889981944963\n"
     ]
    },
    {
     "name": "stderr",
     "output_type": "stream",
     "text": [
      "[I 2023-11-16 16:07:00,034] Trial 114 finished with value: 6.71831785589117 and parameters: {'n_estimators': 250, 'max_depth': 90, 'num_leaves': 25, 'learning_rate': 0.111}. Best is trial 62 with value: 6.634988074723842.\n"
     ]
    },
    {
     "name": "stdout",
     "output_type": "stream",
     "text": [
      "6.71831785589117\n"
     ]
    },
    {
     "name": "stderr",
     "output_type": "stream",
     "text": [
      "[I 2023-11-16 16:07:01,623] Trial 115 finished with value: 6.635093770006716 and parameters: {'n_estimators': 170, 'max_depth': 60, 'num_leaves': 15, 'learning_rate': 0.07100000000000001}. Best is trial 62 with value: 6.634988074723842.\n"
     ]
    },
    {
     "name": "stdout",
     "output_type": "stream",
     "text": [
      "6.635093770006716\n"
     ]
    },
    {
     "name": "stderr",
     "output_type": "stream",
     "text": [
      "[I 2023-11-16 16:07:03,182] Trial 116 finished with value: 6.672875866681679 and parameters: {'n_estimators': 170, 'max_depth': 60, 'num_leaves': 15, 'learning_rate': 0.091}. Best is trial 62 with value: 6.634988074723842.\n"
     ]
    },
    {
     "name": "stdout",
     "output_type": "stream",
     "text": [
      "6.672875866681679\n"
     ]
    },
    {
     "name": "stderr",
     "output_type": "stream",
     "text": [
      "[I 2023-11-16 16:07:05,247] Trial 117 finished with value: 6.672004862650231 and parameters: {'n_estimators': 290, 'max_depth': 55, 'num_leaves': 10, 'learning_rate': 0.07100000000000001}. Best is trial 62 with value: 6.634988074723842.\n"
     ]
    },
    {
     "name": "stdout",
     "output_type": "stream",
     "text": [
      "6.672004862650231\n"
     ]
    },
    {
     "name": "stderr",
     "output_type": "stream",
     "text": [
      "[I 2023-11-16 16:07:06,693] Trial 118 finished with value: 6.663101683990198 and parameters: {'n_estimators': 130, 'max_depth': 60, 'num_leaves': 15, 'learning_rate': 0.061}. Best is trial 62 with value: 6.634988074723842.\n"
     ]
    },
    {
     "name": "stdout",
     "output_type": "stream",
     "text": [
      "6.663101683990198\n"
     ]
    },
    {
     "name": "stderr",
     "output_type": "stream",
     "text": [
      "[I 2023-11-16 16:07:07,827] Trial 119 finished with value: 6.654715476694978 and parameters: {'n_estimators': 90, 'max_depth': 65, 'num_leaves': 20, 'learning_rate': 0.081}. Best is trial 62 with value: 6.634988074723842.\n"
     ]
    },
    {
     "name": "stdout",
     "output_type": "stream",
     "text": [
      "6.654715476694978\n"
     ]
    },
    {
     "name": "stderr",
     "output_type": "stream",
     "text": [
      "[I 2023-11-16 16:07:09,699] Trial 120 finished with value: 6.663640259243961 and parameters: {'n_estimators': 210, 'max_depth': 50, 'num_leaves': 15, 'learning_rate': 0.061}. Best is trial 62 with value: 6.634988074723842.\n"
     ]
    },
    {
     "name": "stdout",
     "output_type": "stream",
     "text": [
      "6.663640259243961\n"
     ]
    },
    {
     "name": "stderr",
     "output_type": "stream",
     "text": [
      "[I 2023-11-16 16:07:12,611] Trial 121 finished with value: 6.6648393705852795 and parameters: {'n_estimators': 270, 'max_depth': 55, 'num_leaves': 25, 'learning_rate': 0.07100000000000001}. Best is trial 62 with value: 6.634988074723842.\n"
     ]
    },
    {
     "name": "stdout",
     "output_type": "stream",
     "text": [
      "6.6648393705852795\n"
     ]
    },
    {
     "name": "stderr",
     "output_type": "stream",
     "text": [
      "[I 2023-11-16 16:07:15,279] Trial 122 finished with value: 6.69412344527962 and parameters: {'n_estimators': 190, 'max_depth': 50, 'num_leaves': 25, 'learning_rate': 0.031}. Best is trial 62 with value: 6.634988074723842.\n"
     ]
    },
    {
     "name": "stdout",
     "output_type": "stream",
     "text": [
      "6.69412344527962\n"
     ]
    },
    {
     "name": "stderr",
     "output_type": "stream",
     "text": [
      "[I 2023-11-16 16:07:17,614] Trial 123 finished with value: 6.641438460694921 and parameters: {'n_estimators': 230, 'max_depth': 75, 'num_leaves': 20, 'learning_rate': 0.051000000000000004}. Best is trial 62 with value: 6.634988074723842.\n"
     ]
    },
    {
     "name": "stdout",
     "output_type": "stream",
     "text": [
      "6.641438460694921\n"
     ]
    },
    {
     "name": "stderr",
     "output_type": "stream",
     "text": [
      "[I 2023-11-16 16:07:20,020] Trial 124 finished with value: 6.636226411658544 and parameters: {'n_estimators': 230, 'max_depth': 75, 'num_leaves': 20, 'learning_rate': 0.041}. Best is trial 62 with value: 6.634988074723842.\n"
     ]
    },
    {
     "name": "stdout",
     "output_type": "stream",
     "text": [
      "6.636226411658544\n"
     ]
    },
    {
     "name": "stderr",
     "output_type": "stream",
     "text": [
      "[I 2023-11-16 16:07:21,729] Trial 125 finished with value: 6.705445466562237 and parameters: {'n_estimators': 220, 'max_depth': 80, 'num_leaves': 10, 'learning_rate': 0.051000000000000004}. Best is trial 62 with value: 6.634988074723842.\n"
     ]
    },
    {
     "name": "stdout",
     "output_type": "stream",
     "text": [
      "6.705445466562237\n"
     ]
    },
    {
     "name": "stderr",
     "output_type": "stream",
     "text": [
      "[I 2023-11-16 16:07:24,112] Trial 126 finished with value: 6.642934887390439 and parameters: {'n_estimators': 250, 'max_depth': 75, 'num_leaves': 20, 'learning_rate': 0.051000000000000004}. Best is trial 62 with value: 6.634988074723842.\n"
     ]
    },
    {
     "name": "stdout",
     "output_type": "stream",
     "text": [
      "6.642934887390439\n"
     ]
    },
    {
     "name": "stderr",
     "output_type": "stream",
     "text": [
      "[I 2023-11-16 16:07:25,157] Trial 127 finished with value: 6.724096834431748 and parameters: {'n_estimators': 150, 'max_depth': 80, 'num_leaves': 5, 'learning_rate': 0.051000000000000004}. Best is trial 62 with value: 6.634988074723842.\n"
     ]
    },
    {
     "name": "stdout",
     "output_type": "stream",
     "text": [
      "6.724096834431748\n"
     ]
    },
    {
     "name": "stderr",
     "output_type": "stream",
     "text": [
      "[I 2023-11-16 16:07:28,087] Trial 128 finished with value: 6.677713163687862 and parameters: {'n_estimators': 310, 'max_depth': 70, 'num_leaves': 15, 'learning_rate': 0.041}. Best is trial 62 with value: 6.634988074723842.\n"
     ]
    },
    {
     "name": "stdout",
     "output_type": "stream",
     "text": [
      "6.677713163687862\n"
     ]
    },
    {
     "name": "stderr",
     "output_type": "stream",
     "text": [
      "[I 2023-11-16 16:07:31,370] Trial 129 finished with value: 6.64172074850197 and parameters: {'n_estimators': 280, 'max_depth': 65, 'num_leaves': 20, 'learning_rate': 0.031}. Best is trial 62 with value: 6.634988074723842.\n"
     ]
    },
    {
     "name": "stdout",
     "output_type": "stream",
     "text": [
      "6.64172074850197\n"
     ]
    },
    {
     "name": "stderr",
     "output_type": "stream",
     "text": [
      "[I 2023-11-16 16:07:33,806] Trial 130 finished with value: 6.666538667911449 and parameters: {'n_estimators': 230, 'max_depth': 80, 'num_leaves': 20, 'learning_rate': 0.031}. Best is trial 62 with value: 6.634988074723842.\n"
     ]
    },
    {
     "name": "stdout",
     "output_type": "stream",
     "text": [
      "6.666538667911449\n"
     ]
    },
    {
     "name": "stderr",
     "output_type": "stream",
     "text": [
      "[I 2023-11-16 16:07:36,679] Trial 131 finished with value: 6.644197851643441 and parameters: {'n_estimators': 290, 'max_depth': 65, 'num_leaves': 20, 'learning_rate': 0.031}. Best is trial 62 with value: 6.634988074723842.\n"
     ]
    },
    {
     "name": "stdout",
     "output_type": "stream",
     "text": [
      "6.644197851643441\n"
     ]
    },
    {
     "name": "stderr",
     "output_type": "stream",
     "text": [
      "[I 2023-11-16 16:07:39,399] Trial 132 finished with value: 6.660616463858155 and parameters: {'n_estimators': 270, 'max_depth': 70, 'num_leaves': 15, 'learning_rate': 0.041}. Best is trial 62 with value: 6.634988074723842.\n"
     ]
    },
    {
     "name": "stdout",
     "output_type": "stream",
     "text": [
      "6.660616463858155\n"
     ]
    },
    {
     "name": "stderr",
     "output_type": "stream",
     "text": [
      "[I 2023-11-16 16:07:42,429] Trial 133 finished with value: 6.688577511801805 and parameters: {'n_estimators': 320, 'max_depth': 65, 'num_leaves': 25, 'learning_rate': 0.061}. Best is trial 62 with value: 6.634988074723842.\n"
     ]
    },
    {
     "name": "stdout",
     "output_type": "stream",
     "text": [
      "6.688577511801805\n"
     ]
    },
    {
     "name": "stderr",
     "output_type": "stream",
     "text": [
      "[I 2023-11-16 16:07:45,302] Trial 134 finished with value: 6.662209077430435 and parameters: {'n_estimators': 210, 'max_depth': 60, 'num_leaves': 20, 'learning_rate': 0.021}. Best is trial 62 with value: 6.634988074723842.\n"
     ]
    },
    {
     "name": "stdout",
     "output_type": "stream",
     "text": [
      "6.662209077430435\n"
     ]
    },
    {
     "name": "stderr",
     "output_type": "stream",
     "text": [
      "[I 2023-11-16 16:07:47,886] Trial 135 finished with value: 6.663694947091731 and parameters: {'n_estimators': 240, 'max_depth': 75, 'num_leaves': 15, 'learning_rate': 0.031}. Best is trial 62 with value: 6.634988074723842.\n"
     ]
    },
    {
     "name": "stdout",
     "output_type": "stream",
     "text": [
      "6.663694947091731\n"
     ]
    },
    {
     "name": "stderr",
     "output_type": "stream",
     "text": [
      "[I 2023-11-16 16:07:53,406] Trial 136 finished with value: 6.830351801173108 and parameters: {'n_estimators': 280, 'max_depth': 65, 'num_leaves': 105, 'learning_rate': 0.081}. Best is trial 62 with value: 6.634988074723842.\n"
     ]
    },
    {
     "name": "stdout",
     "output_type": "stream",
     "text": [
      "6.830351801173108\n"
     ]
    },
    {
     "name": "stderr",
     "output_type": "stream",
     "text": [
      "[I 2023-11-16 16:07:57,217] Trial 137 finished with value: 6.652919153988604 and parameters: {'n_estimators': 390, 'max_depth': 70, 'num_leaves': 20, 'learning_rate': 0.021}. Best is trial 62 with value: 6.634988074723842.\n"
     ]
    },
    {
     "name": "stdout",
     "output_type": "stream",
     "text": [
      "6.652919153988604\n"
     ]
    },
    {
     "name": "stderr",
     "output_type": "stream",
     "text": [
      "[I 2023-11-16 16:07:59,935] Trial 138 finished with value: 6.65369173933065 and parameters: {'n_estimators': 350, 'max_depth': 60, 'num_leaves': 10, 'learning_rate': 0.051000000000000004}. Best is trial 62 with value: 6.634988074723842.\n"
     ]
    },
    {
     "name": "stdout",
     "output_type": "stream",
     "text": [
      "6.65369173933065\n"
     ]
    },
    {
     "name": "stderr",
     "output_type": "stream",
     "text": [
      "[I 2023-11-16 16:08:02,723] Trial 139 finished with value: 6.644357049280543 and parameters: {'n_estimators': 200, 'max_depth': 75, 'num_leaves': 25, 'learning_rate': 0.041}. Best is trial 62 with value: 6.634988074723842.\n"
     ]
    },
    {
     "name": "stdout",
     "output_type": "stream",
     "text": [
      "6.644357049280543\n"
     ]
    },
    {
     "name": "stderr",
     "output_type": "stream",
     "text": [
      "[I 2023-11-16 16:08:05,198] Trial 140 finished with value: 6.652687070516902 and parameters: {'n_estimators': 260, 'max_depth': 65, 'num_leaves': 15, 'learning_rate': 0.031}. Best is trial 62 with value: 6.634988074723842.\n"
     ]
    },
    {
     "name": "stdout",
     "output_type": "stream",
     "text": [
      "6.652687070516902\n"
     ]
    },
    {
     "name": "stderr",
     "output_type": "stream",
     "text": [
      "[I 2023-11-16 16:08:07,078] Trial 141 finished with value: 6.646531116317181 and parameters: {'n_estimators': 170, 'max_depth': 55, 'num_leaves': 20, 'learning_rate': 0.041}. Best is trial 62 with value: 6.634988074723842.\n"
     ]
    },
    {
     "name": "stdout",
     "output_type": "stream",
     "text": [
      "6.646531116317181\n"
     ]
    },
    {
     "name": "stderr",
     "output_type": "stream",
     "text": [
      "[I 2023-11-16 16:08:09,092] Trial 142 finished with value: 6.624264784072142 and parameters: {'n_estimators': 180, 'max_depth': 55, 'num_leaves': 20, 'learning_rate': 0.061}. Best is trial 142 with value: 6.624264784072142.\n"
     ]
    },
    {
     "name": "stdout",
     "output_type": "stream",
     "text": [
      "6.624264784072142\n"
     ]
    },
    {
     "name": "stderr",
     "output_type": "stream",
     "text": [
      "[I 2023-11-16 16:08:11,427] Trial 143 finished with value: 6.655164172629781 and parameters: {'n_estimators': 230, 'max_depth': 60, 'num_leaves': 25, 'learning_rate': 0.07100000000000001}. Best is trial 142 with value: 6.624264784072142.\n"
     ]
    },
    {
     "name": "stdout",
     "output_type": "stream",
     "text": [
      "6.655164172629781\n"
     ]
    },
    {
     "name": "stderr",
     "output_type": "stream",
     "text": [
      "[I 2023-11-16 16:08:14,024] Trial 144 finished with value: 6.67841575059602 and parameters: {'n_estimators': 330, 'max_depth': 55, 'num_leaves': 15, 'learning_rate': 0.061}. Best is trial 142 with value: 6.624264784072142.\n"
     ]
    },
    {
     "name": "stdout",
     "output_type": "stream",
     "text": [
      "6.67841575059602\n"
     ]
    },
    {
     "name": "stderr",
     "output_type": "stream",
     "text": [
      "[I 2023-11-16 16:08:19,376] Trial 145 finished with value: 6.746904798179223 and parameters: {'n_estimators': 260, 'max_depth': 50, 'num_leaves': 85, 'learning_rate': 0.051000000000000004}. Best is trial 142 with value: 6.624264784072142.\n"
     ]
    },
    {
     "name": "stdout",
     "output_type": "stream",
     "text": [
      "6.746904798179223\n"
     ]
    },
    {
     "name": "stderr",
     "output_type": "stream",
     "text": [
      "[I 2023-11-16 16:08:25,230] Trial 146 finished with value: 6.777457937005829 and parameters: {'n_estimators': 670, 'max_depth': 70, 'num_leaves': 30, 'learning_rate': 0.07100000000000001}. Best is trial 142 with value: 6.624264784072142.\n"
     ]
    },
    {
     "name": "stdout",
     "output_type": "stream",
     "text": [
      "6.777457937005829\n"
     ]
    },
    {
     "name": "stderr",
     "output_type": "stream",
     "text": [
      "[I 2023-11-16 16:08:27,003] Trial 147 finished with value: 6.719536569657328 and parameters: {'n_estimators': 140, 'max_depth': 60, 'num_leaves': 25, 'learning_rate': 0.021}. Best is trial 142 with value: 6.624264784072142.\n"
     ]
    },
    {
     "name": "stdout",
     "output_type": "stream",
     "text": [
      "6.719536569657328\n"
     ]
    },
    {
     "name": "stderr",
     "output_type": "stream",
     "text": [
      "[I 2023-11-16 16:08:29,703] Trial 148 finished with value: 6.650029528819395 and parameters: {'n_estimators': 300, 'max_depth': 80, 'num_leaves': 20, 'learning_rate': 0.061}. Best is trial 142 with value: 6.624264784072142.\n"
     ]
    },
    {
     "name": "stdout",
     "output_type": "stream",
     "text": [
      "6.650029528819395\n"
     ]
    },
    {
     "name": "stderr",
     "output_type": "stream",
     "text": [
      "[I 2023-11-16 16:08:31,475] Trial 149 finished with value: 6.706638579418929 and parameters: {'n_estimators': 200, 'max_depth': 85, 'num_leaves': 10, 'learning_rate': 0.041}. Best is trial 142 with value: 6.624264784072142.\n",
      "C:\\Users\\Dmser\\AppData\\Local\\Temp\\ipykernel_15412\\1866508612.py:11: SettingWithCopyWarning: \n",
      "A value is trying to be set on a copy of a slice from a DataFrame.\n",
      "Try using .loc[row_indexer,col_indexer] = value instead\n",
      "\n",
      "See the caveats in the documentation: https://pandas.pydata.org/pandas-docs/stable/user_guide/indexing.html#returning-a-view-versus-a-copy\n",
      "  df2_temp[f'milk_yield_{i}'] = df2[f'milk_yield_{i}']\n",
      "[I 2023-11-16 16:08:31,565] A new study created in memory with name: no-name-93b6d209-4153-4ab3-9c31-483f62184b67\n"
     ]
    },
    {
     "name": "stdout",
     "output_type": "stream",
     "text": [
      "6.706638579418929\n",
      "{'n_estimators': 180, 'max_depth': 55, 'num_leaves': 20, 'learning_rate': 0.061}\n"
     ]
    },
    {
     "name": "stderr",
     "output_type": "stream",
     "text": [
      "[I 2023-11-16 16:08:36,150] Trial 0 finished with value: 6.659344279307046 and parameters: {'n_estimators': 490, 'max_depth': 85, 'num_leaves': 20, 'learning_rate': 0.031}. Best is trial 0 with value: 6.659344279307046.\n"
     ]
    },
    {
     "name": "stdout",
     "output_type": "stream",
     "text": [
      "6.659344279307046\n"
     ]
    },
    {
     "name": "stderr",
     "output_type": "stream",
     "text": [
      "[I 2023-11-16 16:08:45,503] Trial 1 finished with value: 7.128440955555993 and parameters: {'n_estimators': 480, 'max_depth': 40, 'num_leaves': 105, 'learning_rate': 0.251}. Best is trial 0 with value: 6.659344279307046.\n"
     ]
    },
    {
     "name": "stdout",
     "output_type": "stream",
     "text": [
      "7.128440955555993\n"
     ]
    },
    {
     "name": "stderr",
     "output_type": "stream",
     "text": [
      "[I 2023-11-16 16:08:55,707] Trial 2 finished with value: 6.922576900463845 and parameters: {'n_estimators': 680, 'max_depth': 100, 'num_leaves': 80, 'learning_rate': 0.111}. Best is trial 0 with value: 6.659344279307046.\n"
     ]
    },
    {
     "name": "stdout",
     "output_type": "stream",
     "text": [
      "6.922576900463845\n"
     ]
    },
    {
     "name": "stderr",
     "output_type": "stream",
     "text": [
      "[I 2023-11-16 16:09:08,617] Trial 3 finished with value: 6.784093259341823 and parameters: {'n_estimators': 930, 'max_depth': 100, 'num_leaves': 65, 'learning_rate': 0.041}. Best is trial 0 with value: 6.659344279307046.\n"
     ]
    },
    {
     "name": "stdout",
     "output_type": "stream",
     "text": [
      "6.784093259341823\n"
     ]
    },
    {
     "name": "stderr",
     "output_type": "stream",
     "text": [
      "[I 2023-11-16 16:09:17,518] Trial 4 finished with value: 7.1498023074946655 and parameters: {'n_estimators': 910, 'max_depth': 95, 'num_leaves': 50, 'learning_rate': 0.251}. Best is trial 0 with value: 6.659344279307046.\n"
     ]
    },
    {
     "name": "stdout",
     "output_type": "stream",
     "text": [
      "7.1498023074946655\n"
     ]
    },
    {
     "name": "stderr",
     "output_type": "stream",
     "text": [
      "[I 2023-11-16 16:09:19,111] Trial 5 finished with value: 6.649871585986127 and parameters: {'n_estimators': 60, 'max_depth': 25, 'num_leaves': 85, 'learning_rate': 0.061}. Best is trial 5 with value: 6.649871585986127.\n"
     ]
    },
    {
     "name": "stdout",
     "output_type": "stream",
     "text": [
      "6.649871585986127\n"
     ]
    },
    {
     "name": "stderr",
     "output_type": "stream",
     "text": [
      "[I 2023-11-16 16:09:22,910] Trial 6 finished with value: 6.880037790482659 and parameters: {'n_estimators': 350, 'max_depth': 20, 'num_leaves': 35, 'learning_rate': 0.251}. Best is trial 5 with value: 6.649871585986127.\n"
     ]
    },
    {
     "name": "stdout",
     "output_type": "stream",
     "text": [
      "6.880037790482659\n"
     ]
    },
    {
     "name": "stderr",
     "output_type": "stream",
     "text": [
      "[I 2023-11-16 16:09:29,649] Trial 7 finished with value: 6.770580601638784 and parameters: {'n_estimators': 740, 'max_depth': 20, 'num_leaves': 35, 'learning_rate': 0.07100000000000001}. Best is trial 5 with value: 6.649871585986127.\n"
     ]
    },
    {
     "name": "stdout",
     "output_type": "stream",
     "text": [
      "6.770580601638784\n"
     ]
    },
    {
     "name": "stderr",
     "output_type": "stream",
     "text": [
      "[I 2023-11-16 16:09:33,748] Trial 8 finished with value: 6.9054531198760545 and parameters: {'n_estimators': 580, 'max_depth': 85, 'num_leaves': 20, 'learning_rate': 0.181}. Best is trial 5 with value: 6.649871585986127.\n"
     ]
    },
    {
     "name": "stdout",
     "output_type": "stream",
     "text": [
      "6.9054531198760545\n"
     ]
    },
    {
     "name": "stderr",
     "output_type": "stream",
     "text": [
      "[I 2023-11-16 16:09:34,719] Trial 9 finished with value: 6.675155259091398 and parameters: {'n_estimators': 90, 'max_depth': 60, 'num_leaves': 15, 'learning_rate': 0.201}. Best is trial 5 with value: 6.649871585986127.\n"
     ]
    },
    {
     "name": "stdout",
     "output_type": "stream",
     "text": [
      "6.675155259091398\n"
     ]
    },
    {
     "name": "stderr",
     "output_type": "stream",
     "text": [
      "[I 2023-11-16 16:09:35,675] Trial 10 finished with value: 6.647926471190616 and parameters: {'n_estimators': 60, 'max_depth': 5, 'num_leaves': 105, 'learning_rate': 0.101}. Best is trial 10 with value: 6.647926471190616.\n"
     ]
    },
    {
     "name": "stdout",
     "output_type": "stream",
     "text": [
      "6.647926471190616\n"
     ]
    },
    {
     "name": "stderr",
     "output_type": "stream",
     "text": [
      "[I 2023-11-16 16:09:36,816] Trial 11 finished with value: 6.640454563770547 and parameters: {'n_estimators': 70, 'max_depth': 5, 'num_leaves': 105, 'learning_rate': 0.101}. Best is trial 11 with value: 6.640454563770547.\n"
     ]
    },
    {
     "name": "stdout",
     "output_type": "stream",
     "text": [
      "6.640454563770547\n"
     ]
    },
    {
     "name": "stderr",
     "output_type": "stream",
     "text": [
      "[I 2023-11-16 16:09:39,472] Trial 12 finished with value: 6.768130216867291 and parameters: {'n_estimators': 240, 'max_depth': 5, 'num_leaves': 105, 'learning_rate': 0.131}. Best is trial 11 with value: 6.640454563770547.\n"
     ]
    },
    {
     "name": "stdout",
     "output_type": "stream",
     "text": [
      "6.768130216867291\n"
     ]
    },
    {
     "name": "stderr",
     "output_type": "stream",
     "text": [
      "[I 2023-11-16 16:09:41,620] Trial 13 finished with value: 6.774383372662836 and parameters: {'n_estimators': 220, 'max_depth': 5, 'num_leaves': 90, 'learning_rate': 0.111}. Best is trial 11 with value: 6.640454563770547.\n"
     ]
    },
    {
     "name": "stdout",
     "output_type": "stream",
     "text": [
      "6.774383372662836\n"
     ]
    },
    {
     "name": "stderr",
     "output_type": "stream",
     "text": [
      "[I 2023-11-16 16:09:44,730] Trial 14 finished with value: 6.815821096695283 and parameters: {'n_estimators': 210, 'max_depth': 40, 'num_leaves': 70, 'learning_rate': 0.161}. Best is trial 11 with value: 6.640454563770547.\n"
     ]
    },
    {
     "name": "stdout",
     "output_type": "stream",
     "text": [
      "6.815821096695283\n"
     ]
    },
    {
     "name": "stderr",
     "output_type": "stream",
     "text": [
      "[I 2023-11-16 16:09:53,749] Trial 15 finished with value: 8.69614592077386 and parameters: {'n_estimators': 330, 'max_depth': 60, 'num_leaves': 100, 'learning_rate': 0.001}. Best is trial 11 with value: 6.640454563770547.\n"
     ]
    },
    {
     "name": "stdout",
     "output_type": "stream",
     "text": [
      "8.69614592077386\n"
     ]
    },
    {
     "name": "stderr",
     "output_type": "stream",
     "text": [
      "[I 2023-11-16 16:09:54,647] Trial 16 finished with value: 6.652312714685543 and parameters: {'n_estimators': 60, 'max_depth': 5, 'num_leaves': 90, 'learning_rate': 0.091}. Best is trial 11 with value: 6.640454563770547.\n"
     ]
    },
    {
     "name": "stdout",
     "output_type": "stream",
     "text": [
      "6.652312714685543\n"
     ]
    },
    {
     "name": "stderr",
     "output_type": "stream",
     "text": [
      "[I 2023-11-16 16:09:59,425] Trial 17 finished with value: 6.831750476532518 and parameters: {'n_estimators': 340, 'max_depth': 35, 'num_leaves': 70, 'learning_rate': 0.14100000000000001}. Best is trial 11 with value: 6.640454563770547.\n"
     ]
    },
    {
     "name": "stdout",
     "output_type": "stream",
     "text": [
      "6.831750476532518\n"
     ]
    },
    {
     "name": "stderr",
     "output_type": "stream",
     "text": [
      "[I 2023-11-16 16:10:01,848] Trial 18 finished with value: 6.698529631274392 and parameters: {'n_estimators': 160, 'max_depth': 15, 'num_leaves': 55, 'learning_rate': 0.081}. Best is trial 11 with value: 6.640454563770547.\n"
     ]
    },
    {
     "name": "stdout",
     "output_type": "stream",
     "text": [
      "6.698529631274392\n"
     ]
    },
    {
     "name": "stderr",
     "output_type": "stream",
     "text": [
      "[I 2023-11-16 16:10:08,341] Trial 19 finished with value: 7.064365141830043 and parameters: {'n_estimators': 390, 'max_depth': 30, 'num_leaves': 95, 'learning_rate': 0.211}. Best is trial 11 with value: 6.640454563770547.\n"
     ]
    },
    {
     "name": "stdout",
     "output_type": "stream",
     "text": [
      "7.064365141830043\n"
     ]
    },
    {
     "name": "stderr",
     "output_type": "stream",
     "text": [
      "[I 2023-11-16 16:10:11,113] Trial 20 finished with value: 6.752169647795678 and parameters: {'n_estimators': 140, 'max_depth': 50, 'num_leaves': 80, 'learning_rate': 0.101}. Best is trial 11 with value: 6.640454563770547.\n"
     ]
    },
    {
     "name": "stdout",
     "output_type": "stream",
     "text": [
      "6.752169647795678\n"
     ]
    },
    {
     "name": "stderr",
     "output_type": "stream",
     "text": [
      "[I 2023-11-16 16:10:12,465] Trial 21 finished with value: 6.670099116427158 and parameters: {'n_estimators': 50, 'max_depth': 15, 'num_leaves': 85, 'learning_rate': 0.061}. Best is trial 11 with value: 6.640454563770547.\n"
     ]
    },
    {
     "name": "stdout",
     "output_type": "stream",
     "text": [
      "6.670099116427158\n"
     ]
    },
    {
     "name": "stderr",
     "output_type": "stream",
     "text": [
      "[I 2023-11-16 16:10:17,959] Trial 22 finished with value: 6.755914019371533 and parameters: {'n_estimators': 260, 'max_depth': 25, 'num_leaves': 105, 'learning_rate': 0.051000000000000004}. Best is trial 11 with value: 6.640454563770547.\n"
     ]
    },
    {
     "name": "stdout",
     "output_type": "stream",
     "text": [
      "6.755914019371533\n"
     ]
    },
    {
     "name": "stderr",
     "output_type": "stream",
     "text": [
      "[I 2023-11-16 16:10:21,406] Trial 23 finished with value: 6.667882291081482 and parameters: {'n_estimators': 140, 'max_depth': 10, 'num_leaves': 95, 'learning_rate': 0.031}. Best is trial 11 with value: 6.640454563770547.\n"
     ]
    },
    {
     "name": "stdout",
     "output_type": "stream",
     "text": [
      "6.667882291081482\n"
     ]
    },
    {
     "name": "stderr",
     "output_type": "stream",
     "text": [
      "[I 2023-11-16 16:10:23,814] Trial 24 finished with value: 6.772793575554631 and parameters: {'n_estimators': 130, 'max_depth': 25, 'num_leaves': 80, 'learning_rate': 0.151}. Best is trial 11 with value: 6.640454563770547.\n"
     ]
    },
    {
     "name": "stdout",
     "output_type": "stream",
     "text": [
      "6.772793575554631\n"
     ]
    },
    {
     "name": "stderr",
     "output_type": "stream",
     "text": [
      "[I 2023-11-16 16:10:25,669] Trial 25 finished with value: 8.095977967123865 and parameters: {'n_estimators': 50, 'max_depth': 15, 'num_leaves': 95, 'learning_rate': 0.011}. Best is trial 11 with value: 6.640454563770547.\n"
     ]
    },
    {
     "name": "stdout",
     "output_type": "stream",
     "text": [
      "8.095977967123865\n"
     ]
    },
    {
     "name": "stderr",
     "output_type": "stream",
     "text": [
      "[I 2023-11-16 16:10:30,715] Trial 26 finished with value: 6.823540588582011 and parameters: {'n_estimators': 260, 'max_depth': 50, 'num_leaves': 105, 'learning_rate': 0.121}. Best is trial 11 with value: 6.640454563770547.\n"
     ]
    },
    {
     "name": "stdout",
     "output_type": "stream",
     "text": [
      "6.823540588582011\n"
     ]
    },
    {
     "name": "stderr",
     "output_type": "stream",
     "text": [
      "[I 2023-11-16 16:10:33,946] Trial 27 finished with value: 6.745014940586476 and parameters: {'n_estimators': 170, 'max_depth': 10, 'num_leaves': 85, 'learning_rate': 0.081}. Best is trial 11 with value: 6.640454563770547.\n"
     ]
    },
    {
     "name": "stdout",
     "output_type": "stream",
     "text": [
      "6.745014940586476\n"
     ]
    },
    {
     "name": "stderr",
     "output_type": "stream",
     "text": [
      "[I 2023-11-16 16:10:46,246] Trial 28 finished with value: 6.827743003606924 and parameters: {'n_estimators': 810, 'max_depth': 30, 'num_leaves': 70, 'learning_rate': 0.061}. Best is trial 11 with value: 6.640454563770547.\n"
     ]
    },
    {
     "name": "stdout",
     "output_type": "stream",
     "text": [
      "6.827743003606924\n"
     ]
    },
    {
     "name": "stderr",
     "output_type": "stream",
     "text": [
      "[I 2023-11-16 16:10:55,809] Trial 29 finished with value: 6.71849606381338 and parameters: {'n_estimators': 440, 'max_depth': 70, 'num_leaves': 95, 'learning_rate': 0.021}. Best is trial 11 with value: 6.640454563770547.\n"
     ]
    },
    {
     "name": "stdout",
     "output_type": "stream",
     "text": [
      "6.71849606381338\n"
     ]
    },
    {
     "name": "stderr",
     "output_type": "stream",
     "text": [
      "[I 2023-11-16 16:11:03,534] Trial 30 finished with value: 6.832099406110915 and parameters: {'n_estimators': 580, 'max_depth': 10, 'num_leaves': 60, 'learning_rate': 0.091}. Best is trial 11 with value: 6.640454563770547.\n"
     ]
    },
    {
     "name": "stdout",
     "output_type": "stream",
     "text": [
      "6.832099406110915\n"
     ]
    },
    {
     "name": "stderr",
     "output_type": "stream",
     "text": [
      "[I 2023-11-16 16:11:04,558] Trial 31 finished with value: 6.663097983847254 and parameters: {'n_estimators': 80, 'max_depth': 5, 'num_leaves': 90, 'learning_rate': 0.091}. Best is trial 11 with value: 6.640454563770547.\n"
     ]
    },
    {
     "name": "stdout",
     "output_type": "stream",
     "text": [
      "6.663097983847254\n"
     ]
    },
    {
     "name": "stderr",
     "output_type": "stream",
     "text": [
      "[I 2023-11-16 16:11:05,339] Trial 32 finished with value: 6.668693963139946 and parameters: {'n_estimators': 50, 'max_depth': 5, 'num_leaves': 100, 'learning_rate': 0.121}. Best is trial 11 with value: 6.640454563770547.\n"
     ]
    },
    {
     "name": "stdout",
     "output_type": "stream",
     "text": [
      "6.668693963139946\n"
     ]
    },
    {
     "name": "stderr",
     "output_type": "stream",
     "text": [
      "[I 2023-11-16 16:11:07,458] Trial 33 finished with value: 6.722450142845947 and parameters: {'n_estimators': 100, 'max_depth': 20, 'num_leaves': 85, 'learning_rate': 0.091}. Best is trial 11 with value: 6.640454563770547.\n"
     ]
    },
    {
     "name": "stdout",
     "output_type": "stream",
     "text": [
      "6.722450142845947\n"
     ]
    },
    {
     "name": "stderr",
     "output_type": "stream",
     "text": [
      "[I 2023-11-16 16:11:11,389] Trial 34 finished with value: 6.689461293421097 and parameters: {'n_estimators': 190, 'max_depth': 15, 'num_leaves': 75, 'learning_rate': 0.041}. Best is trial 11 with value: 6.640454563770547.\n"
     ]
    },
    {
     "name": "stdout",
     "output_type": "stream",
     "text": [
      "6.689461293421097\n"
     ]
    },
    {
     "name": "stderr",
     "output_type": "stream",
     "text": [
      "[I 2023-11-16 16:11:16,832] Trial 35 finished with value: 6.831001361721773 and parameters: {'n_estimators': 270, 'max_depth': 25, 'num_leaves': 100, 'learning_rate': 0.111}. Best is trial 11 with value: 6.640454563770547.\n"
     ]
    },
    {
     "name": "stdout",
     "output_type": "stream",
     "text": [
      "6.831001361721773\n"
     ]
    },
    {
     "name": "stderr",
     "output_type": "stream",
     "text": [
      "[I 2023-11-16 16:11:19,523] Trial 36 finished with value: 6.7024823321513 and parameters: {'n_estimators': 120, 'max_depth': 40, 'num_leaves': 90, 'learning_rate': 0.07100000000000001}. Best is trial 11 with value: 6.640454563770547.\n"
     ]
    },
    {
     "name": "stdout",
     "output_type": "stream",
     "text": [
      "6.7024823321513\n"
     ]
    },
    {
     "name": "stderr",
     "output_type": "stream",
     "text": [
      "[I 2023-11-16 16:11:23,123] Trial 37 finished with value: 6.6958017843071325 and parameters: {'n_estimators': 290, 'max_depth': 10, 'num_leaves': 40, 'learning_rate': 0.051000000000000004}. Best is trial 11 with value: 6.640454563770547.\n"
     ]
    },
    {
     "name": "stdout",
     "output_type": "stream",
     "text": [
      "6.6958017843071325\n"
     ]
    },
    {
     "name": "stderr",
     "output_type": "stream",
     "text": [
      "[I 2023-11-16 16:11:32,431] Trial 38 finished with value: 6.881089766771359 and parameters: {'n_estimators': 510, 'max_depth': 20, 'num_leaves': 105, 'learning_rate': 0.101}. Best is trial 11 with value: 6.640454563770547.\n"
     ]
    },
    {
     "name": "stdout",
     "output_type": "stream",
     "text": [
      "6.881089766771359\n"
     ]
    },
    {
     "name": "stderr",
     "output_type": "stream",
     "text": [
      "[I 2023-11-16 16:11:37,310] Trial 39 finished with value: 6.813266281300723 and parameters: {'n_estimators': 990, 'max_depth': 30, 'num_leaves': 5, 'learning_rate': 0.171}. Best is trial 11 with value: 6.640454563770547.\n"
     ]
    },
    {
     "name": "stdout",
     "output_type": "stream",
     "text": [
      "6.813266281300723\n"
     ]
    },
    {
     "name": "stderr",
     "output_type": "stream",
     "text": [
      "[I 2023-11-16 16:11:39,322] Trial 40 finished with value: 6.762153656703299 and parameters: {'n_estimators': 190, 'max_depth': 5, 'num_leaves': 80, 'learning_rate': 0.131}. Best is trial 11 with value: 6.640454563770547.\n"
     ]
    },
    {
     "name": "stdout",
     "output_type": "stream",
     "text": [
      "6.762153656703299\n"
     ]
    },
    {
     "name": "stderr",
     "output_type": "stream",
     "text": [
      "[I 2023-11-16 16:11:47,182] Trial 41 finished with value: 6.69853137782816 and parameters: {'n_estimators': 660, 'max_depth': 90, 'num_leaves': 40, 'learning_rate': 0.031}. Best is trial 11 with value: 6.640454563770547.\n"
     ]
    },
    {
     "name": "stdout",
     "output_type": "stream",
     "text": [
      "6.69853137782816\n"
     ]
    },
    {
     "name": "stderr",
     "output_type": "stream",
     "text": [
      "[I 2023-11-16 16:11:53,216] Trial 42 finished with value: 6.765990089142291 and parameters: {'n_estimators': 830, 'max_depth': 70, 'num_leaves': 20, 'learning_rate': 0.07100000000000001}. Best is trial 11 with value: 6.640454563770547.\n"
     ]
    },
    {
     "name": "stdout",
     "output_type": "stream",
     "text": [
      "6.765990089142291\n"
     ]
    },
    {
     "name": "stderr",
     "output_type": "stream",
     "text": [
      "[I 2023-11-16 16:11:54,628] Trial 43 finished with value: 6.6712456478426745 and parameters: {'n_estimators': 90, 'max_depth': 75, 'num_leaves': 30, 'learning_rate': 0.041}. Best is trial 11 with value: 6.640454563770547.\n"
     ]
    },
    {
     "name": "stdout",
     "output_type": "stream",
     "text": [
      "6.6712456478426745\n"
     ]
    },
    {
     "name": "stderr",
     "output_type": "stream",
     "text": [
      "[I 2023-11-16 16:11:59,469] Trial 44 finished with value: 6.77978886338254 and parameters: {'n_estimators': 410, 'max_depth': 80, 'num_leaves': 50, 'learning_rate': 0.101}. Best is trial 11 with value: 6.640454563770547.\n"
     ]
    },
    {
     "name": "stdout",
     "output_type": "stream",
     "text": [
      "6.77978886338254\n"
     ]
    },
    {
     "name": "stderr",
     "output_type": "stream",
     "text": [
      "[I 2023-11-16 16:12:10,354] Trial 45 finished with value: 6.854031279673702 and parameters: {'n_estimators': 570, 'max_depth': 100, 'num_leaves': 100, 'learning_rate': 0.07100000000000001}. Best is trial 11 with value: 6.640454563770547.\n"
     ]
    },
    {
     "name": "stdout",
     "output_type": "stream",
     "text": [
      "6.854031279673702\n"
     ]
    },
    {
     "name": "stderr",
     "output_type": "stream",
     "text": [
      "[I 2023-11-16 16:12:15,567] Trial 46 finished with value: 7.873108897109746 and parameters: {'n_estimators': 720, 'max_depth': 60, 'num_leaves': 10, 'learning_rate': 0.001}. Best is trial 11 with value: 6.640454563770547.\n"
     ]
    },
    {
     "name": "stdout",
     "output_type": "stream",
     "text": [
      "7.873108897109746\n"
     ]
    },
    {
     "name": "stderr",
     "output_type": "stream",
     "text": [
      "[I 2023-11-16 16:12:20,158] Trial 47 finished with value: 6.849010060806782 and parameters: {'n_estimators': 310, 'max_depth': 45, 'num_leaves': 65, 'learning_rate': 0.14100000000000001}. Best is trial 11 with value: 6.640454563770547.\n"
     ]
    },
    {
     "name": "stdout",
     "output_type": "stream",
     "text": [
      "6.849010060806782\n"
     ]
    },
    {
     "name": "stderr",
     "output_type": "stream",
     "text": [
      "[I 2023-11-16 16:12:22,432] Trial 48 finished with value: 6.669289303049606 and parameters: {'n_estimators': 220, 'max_depth': 35, 'num_leaves': 25, 'learning_rate': 0.081}. Best is trial 11 with value: 6.640454563770547.\n"
     ]
    },
    {
     "name": "stdout",
     "output_type": "stream",
     "text": [
      "6.669289303049606\n"
     ]
    },
    {
     "name": "stderr",
     "output_type": "stream",
     "text": [
      "[I 2023-11-16 16:12:24,634] Trial 49 finished with value: 6.743200088784672 and parameters: {'n_estimators': 100, 'max_depth': 15, 'num_leaves': 100, 'learning_rate': 0.111}. Best is trial 11 with value: 6.640454563770547.\n"
     ]
    },
    {
     "name": "stdout",
     "output_type": "stream",
     "text": [
      "6.743200088784672\n"
     ]
    },
    {
     "name": "stderr",
     "output_type": "stream",
     "text": [
      "[I 2023-11-16 16:12:27,755] Trial 50 finished with value: 6.703681585196218 and parameters: {'n_estimators': 160, 'max_depth': 10, 'num_leaves': 75, 'learning_rate': 0.051000000000000004}. Best is trial 11 with value: 6.640454563770547.\n"
     ]
    },
    {
     "name": "stdout",
     "output_type": "stream",
     "text": [
      "6.703681585196218\n"
     ]
    },
    {
     "name": "stderr",
     "output_type": "stream",
     "text": [
      "[I 2023-11-16 16:12:28,685] Trial 51 finished with value: 6.667820523956527 and parameters: {'n_estimators': 70, 'max_depth': 5, 'num_leaves': 90, 'learning_rate': 0.091}. Best is trial 11 with value: 6.640454563770547.\n"
     ]
    },
    {
     "name": "stdout",
     "output_type": "stream",
     "text": [
      "6.667820523956527\n"
     ]
    },
    {
     "name": "stderr",
     "output_type": "stream",
     "text": [
      "[I 2023-11-16 16:12:29,805] Trial 52 finished with value: 6.648260065411856 and parameters: {'n_estimators': 90, 'max_depth': 5, 'num_leaves': 90, 'learning_rate': 0.061}. Best is trial 11 with value: 6.640454563770547.\n"
     ]
    },
    {
     "name": "stdout",
     "output_type": "stream",
     "text": [
      "6.648260065411856\n"
     ]
    },
    {
     "name": "stderr",
     "output_type": "stream",
     "text": [
      "[I 2023-11-16 16:12:33,149] Trial 53 finished with value: 6.721391862385822 and parameters: {'n_estimators': 120, 'max_depth': 10, 'num_leaves': 105, 'learning_rate': 0.061}. Best is trial 11 with value: 6.640454563770547.\n"
     ]
    },
    {
     "name": "stdout",
     "output_type": "stream",
     "text": [
      "6.721391862385822\n"
     ]
    },
    {
     "name": "stderr",
     "output_type": "stream",
     "text": [
      "[I 2023-11-16 16:12:37,764] Trial 54 finished with value: 6.637385777323534 and parameters: {'n_estimators': 160, 'max_depth': 20, 'num_leaves': 95, 'learning_rate': 0.021}. Best is trial 54 with value: 6.637385777323534.\n"
     ]
    },
    {
     "name": "stdout",
     "output_type": "stream",
     "text": [
      "6.637385777323534\n"
     ]
    },
    {
     "name": "stderr",
     "output_type": "stream",
     "text": [
      "[I 2023-11-16 16:12:39,253] Trial 55 finished with value: 6.806163085797321 and parameters: {'n_estimators': 50, 'max_depth': 15, 'num_leaves': 95, 'learning_rate': 0.231}. Best is trial 54 with value: 6.637385777323534.\n"
     ]
    },
    {
     "name": "stdout",
     "output_type": "stream",
     "text": [
      "6.806163085797321\n"
     ]
    },
    {
     "name": "stderr",
     "output_type": "stream",
     "text": [
      "[I 2023-11-16 16:12:43,521] Trial 56 finished with value: 6.637265329242292 and parameters: {'n_estimators': 160, 'max_depth': 20, 'num_leaves': 85, 'learning_rate': 0.021}. Best is trial 56 with value: 6.637265329242292.\n"
     ]
    },
    {
     "name": "stdout",
     "output_type": "stream",
     "text": [
      "6.637265329242292\n"
     ]
    },
    {
     "name": "stderr",
     "output_type": "stream",
     "text": [
      "[I 2023-11-16 16:12:49,149] Trial 57 finished with value: 6.655090473118589 and parameters: {'n_estimators': 230, 'max_depth': 20, 'num_leaves': 75, 'learning_rate': 0.021}. Best is trial 56 with value: 6.637265329242292.\n"
     ]
    },
    {
     "name": "stdout",
     "output_type": "stream",
     "text": [
      "6.655090473118589\n"
     ]
    },
    {
     "name": "stderr",
     "output_type": "stream",
     "text": [
      "[I 2023-11-16 16:12:53,336] Trial 58 finished with value: 6.8281027469893925 and parameters: {'n_estimators': 170, 'max_depth': 20, 'num_leaves': 85, 'learning_rate': 0.011}. Best is trial 56 with value: 6.637265329242292.\n"
     ]
    },
    {
     "name": "stdout",
     "output_type": "stream",
     "text": [
      "6.8281027469893925\n"
     ]
    },
    {
     "name": "stderr",
     "output_type": "stream",
     "text": [
      "[I 2023-11-16 16:12:56,985] Trial 59 finished with value: 6.655639944596091 and parameters: {'n_estimators': 140, 'max_depth': 25, 'num_leaves': 95, 'learning_rate': 0.021}. Best is trial 56 with value: 6.637265329242292.\n"
     ]
    },
    {
     "name": "stdout",
     "output_type": "stream",
     "text": [
      "6.655639944596091\n"
     ]
    },
    {
     "name": "stderr",
     "output_type": "stream",
     "text": [
      "[I 2023-11-16 16:13:01,377] Trial 60 finished with value: 6.704578802125668 and parameters: {'n_estimators': 200, 'max_depth': 35, 'num_leaves': 90, 'learning_rate': 0.041}. Best is trial 56 with value: 6.637265329242292.\n"
     ]
    },
    {
     "name": "stdout",
     "output_type": "stream",
     "text": [
      "6.704578802125668\n"
     ]
    },
    {
     "name": "stderr",
     "output_type": "stream",
     "text": [
      "[I 2023-11-16 16:13:04,196] Trial 61 finished with value: 7.251445375424834 and parameters: {'n_estimators': 100, 'max_depth': 10, 'num_leaves': 100, 'learning_rate': 0.011}. Best is trial 56 with value: 6.637265329242292.\n"
     ]
    },
    {
     "name": "stdout",
     "output_type": "stream",
     "text": [
      "7.251445375424834\n"
     ]
    },
    {
     "name": "stderr",
     "output_type": "stream",
     "text": [
      "[I 2023-11-16 16:13:05,462] Trial 62 finished with value: 6.621667906249166 and parameters: {'n_estimators': 80, 'max_depth': 5, 'num_leaves': 80, 'learning_rate': 0.051000000000000004}. Best is trial 62 with value: 6.621667906249166.\n"
     ]
    },
    {
     "name": "stdout",
     "output_type": "stream",
     "text": [
      "6.621667906249166\n"
     ]
    },
    {
     "name": "stderr",
     "output_type": "stream",
     "text": [
      "[I 2023-11-16 16:13:07,170] Trial 63 finished with value: 6.632846441511186 and parameters: {'n_estimators': 130, 'max_depth': 5, 'num_leaves': 85, 'learning_rate': 0.031}. Best is trial 62 with value: 6.621667906249166.\n"
     ]
    },
    {
     "name": "stdout",
     "output_type": "stream",
     "text": [
      "6.632846441511186\n"
     ]
    },
    {
     "name": "stderr",
     "output_type": "stream",
     "text": [
      "[I 2023-11-16 16:13:08,708] Trial 64 finished with value: 6.632846441511186 and parameters: {'n_estimators': 130, 'max_depth': 5, 'num_leaves': 80, 'learning_rate': 0.031}. Best is trial 62 with value: 6.621667906249166.\n"
     ]
    },
    {
     "name": "stdout",
     "output_type": "stream",
     "text": [
      "6.632846441511186\n"
     ]
    },
    {
     "name": "stderr",
     "output_type": "stream",
     "text": [
      "[I 2023-11-16 16:13:12,176] Trial 65 finished with value: 6.654633649708523 and parameters: {'n_estimators': 150, 'max_depth': 10, 'num_leaves': 80, 'learning_rate': 0.031}. Best is trial 62 with value: 6.621667906249166.\n"
     ]
    },
    {
     "name": "stdout",
     "output_type": "stream",
     "text": [
      "6.654633649708523\n"
     ]
    },
    {
     "name": "stderr",
     "output_type": "stream",
     "text": [
      "[I 2023-11-16 16:13:14,345] Trial 66 finished with value: 9.138419414319525 and parameters: {'n_estimators': 190, 'max_depth': 5, 'num_leaves': 80, 'learning_rate': 0.001}. Best is trial 62 with value: 6.621667906249166.\n"
     ]
    },
    {
     "name": "stdout",
     "output_type": "stream",
     "text": [
      "9.138419414319525\n"
     ]
    },
    {
     "name": "stderr",
     "output_type": "stream",
     "text": [
      "[I 2023-11-16 16:13:15,788] Trial 67 finished with value: 6.698672673611549 and parameters: {'n_estimators': 120, 'max_depth': 5, 'num_leaves': 85, 'learning_rate': 0.021}. Best is trial 62 with value: 6.621667906249166.\n"
     ]
    },
    {
     "name": "stdout",
     "output_type": "stream",
     "text": [
      "6.698672673611549\n"
     ]
    },
    {
     "name": "stderr",
     "output_type": "stream",
     "text": [
      "[I 2023-11-16 16:13:20,657] Trial 68 finished with value: 6.688153254699706 and parameters: {'n_estimators': 240, 'max_depth': 15, 'num_leaves': 65, 'learning_rate': 0.031}. Best is trial 62 with value: 6.621667906249166.\n"
     ]
    },
    {
     "name": "stdout",
     "output_type": "stream",
     "text": [
      "6.688153254699706\n"
     ]
    },
    {
     "name": "stderr",
     "output_type": "stream",
     "text": [
      "[I 2023-11-16 16:13:25,548] Trial 69 finished with value: 6.826702358085648 and parameters: {'n_estimators': 170, 'max_depth': 20, 'num_leaves': 105, 'learning_rate': 0.011}. Best is trial 62 with value: 6.621667906249166.\n"
     ]
    },
    {
     "name": "stdout",
     "output_type": "stream",
     "text": [
      "6.826702358085648\n"
     ]
    },
    {
     "name": "stderr",
     "output_type": "stream",
     "text": [
      "[I 2023-11-16 16:13:31,651] Trial 70 finished with value: 6.729922142423543 and parameters: {'n_estimators': 370, 'max_depth': 15, 'num_leaves': 75, 'learning_rate': 0.041}. Best is trial 62 with value: 6.621667906249166.\n"
     ]
    },
    {
     "name": "stdout",
     "output_type": "stream",
     "text": [
      "6.729922142423543\n"
     ]
    },
    {
     "name": "stderr",
     "output_type": "stream",
     "text": [
      "[I 2023-11-16 16:13:32,705] Trial 71 finished with value: 6.621667906249166 and parameters: {'n_estimators': 80, 'max_depth': 5, 'num_leaves': 95, 'learning_rate': 0.051000000000000004}. Best is trial 62 with value: 6.621667906249166.\n"
     ]
    },
    {
     "name": "stdout",
     "output_type": "stream",
     "text": [
      "6.621667906249166\n"
     ]
    },
    {
     "name": "stderr",
     "output_type": "stream",
     "text": [
      "[I 2023-11-16 16:13:34,529] Trial 72 finished with value: 6.64262238769982 and parameters: {'n_estimators': 70, 'max_depth': 10, 'num_leaves': 95, 'learning_rate': 0.051000000000000004}. Best is trial 62 with value: 6.621667906249166.\n"
     ]
    },
    {
     "name": "stdout",
     "output_type": "stream",
     "text": [
      "6.64262238769982\n"
     ]
    },
    {
     "name": "stderr",
     "output_type": "stream",
     "text": [
      "[I 2023-11-16 16:13:36,879] Trial 73 finished with value: 6.663698190246695 and parameters: {'n_estimators': 80, 'max_depth': 10, 'num_leaves': 95, 'learning_rate': 0.051000000000000004}. Best is trial 62 with value: 6.621667906249166.\n"
     ]
    },
    {
     "name": "stdout",
     "output_type": "stream",
     "text": [
      "6.663698190246695\n"
     ]
    },
    {
     "name": "stderr",
     "output_type": "stream",
     "text": [
      "[I 2023-11-16 16:13:38,915] Trial 74 finished with value: 6.632846441511186 and parameters: {'n_estimators': 130, 'max_depth': 5, 'num_leaves': 85, 'learning_rate': 0.031}. Best is trial 62 with value: 6.621667906249166.\n"
     ]
    },
    {
     "name": "stdout",
     "output_type": "stream",
     "text": [
      "6.632846441511186\n"
     ]
    },
    {
     "name": "stderr",
     "output_type": "stream",
     "text": [
      "[I 2023-11-16 16:13:40,243] Trial 75 finished with value: 6.638289766583517 and parameters: {'n_estimators': 110, 'max_depth': 5, 'num_leaves': 85, 'learning_rate': 0.031}. Best is trial 62 with value: 6.621667906249166.\n"
     ]
    },
    {
     "name": "stdout",
     "output_type": "stream",
     "text": [
      "6.638289766583517\n"
     ]
    },
    {
     "name": "stderr",
     "output_type": "stream",
     "text": [
      "[I 2023-11-16 16:13:41,688] Trial 76 finished with value: 6.62892808347912 and parameters: {'n_estimators': 120, 'max_depth': 5, 'num_leaves': 80, 'learning_rate': 0.031}. Best is trial 62 with value: 6.621667906249166.\n"
     ]
    },
    {
     "name": "stdout",
     "output_type": "stream",
     "text": [
      "6.62892808347912\n"
     ]
    },
    {
     "name": "stderr",
     "output_type": "stream",
     "text": [
      "[I 2023-11-16 16:13:43,456] Trial 77 finished with value: 6.650833126467544 and parameters: {'n_estimators': 150, 'max_depth': 5, 'num_leaves': 70, 'learning_rate': 0.021}. Best is trial 62 with value: 6.621667906249166.\n"
     ]
    },
    {
     "name": "stdout",
     "output_type": "stream",
     "text": [
      "6.650833126467544\n"
     ]
    },
    {
     "name": "stderr",
     "output_type": "stream",
     "text": [
      "[I 2023-11-16 16:13:47,705] Trial 78 finished with value: 6.688606375521332 and parameters: {'n_estimators': 210, 'max_depth': 15, 'num_leaves': 80, 'learning_rate': 0.041}. Best is trial 62 with value: 6.621667906249166.\n"
     ]
    },
    {
     "name": "stdout",
     "output_type": "stream",
     "text": [
      "6.688606375521332\n"
     ]
    },
    {
     "name": "stderr",
     "output_type": "stream",
     "text": [
      "[I 2023-11-16 16:13:54,538] Trial 79 finished with value: 8.930153326079513 and parameters: {'n_estimators': 260, 'max_depth': 10, 'num_leaves': 85, 'learning_rate': 0.001}. Best is trial 62 with value: 6.621667906249166.\n"
     ]
    },
    {
     "name": "stdout",
     "output_type": "stream",
     "text": [
      "8.930153326079513\n"
     ]
    },
    {
     "name": "stderr",
     "output_type": "stream",
     "text": [
      "[I 2023-11-16 16:13:57,295] Trial 80 finished with value: 6.662192640805177 and parameters: {'n_estimators': 130, 'max_depth': 20, 'num_leaves': 70, 'learning_rate': 0.021}. Best is trial 62 with value: 6.621667906249166.\n"
     ]
    },
    {
     "name": "stdout",
     "output_type": "stream",
     "text": [
      "6.662192640805177\n"
     ]
    },
    {
     "name": "stderr",
     "output_type": "stream",
     "text": [
      "[I 2023-11-16 16:13:58,646] Trial 81 finished with value: 6.638289766583517 and parameters: {'n_estimators': 110, 'max_depth': 5, 'num_leaves': 85, 'learning_rate': 0.031}. Best is trial 62 with value: 6.621667906249166.\n"
     ]
    },
    {
     "name": "stdout",
     "output_type": "stream",
     "text": [
      "6.638289766583517\n"
     ]
    },
    {
     "name": "stderr",
     "output_type": "stream",
     "text": [
      "[I 2023-11-16 16:14:00,654] Trial 82 finished with value: 6.624007327712941 and parameters: {'n_estimators': 180, 'max_depth': 5, 'num_leaves': 75, 'learning_rate': 0.031}. Best is trial 62 with value: 6.621667906249166.\n"
     ]
    },
    {
     "name": "stdout",
     "output_type": "stream",
     "text": [
      "6.624007327712941\n"
     ]
    },
    {
     "name": "stderr",
     "output_type": "stream",
     "text": [
      "[I 2023-11-16 16:14:04,196] Trial 83 finished with value: 6.690372021516208 and parameters: {'n_estimators': 180, 'max_depth': 10, 'num_leaves': 75, 'learning_rate': 0.041}. Best is trial 62 with value: 6.621667906249166.\n"
     ]
    },
    {
     "name": "stdout",
     "output_type": "stream",
     "text": [
      "6.690372021516208\n"
     ]
    },
    {
     "name": "stderr",
     "output_type": "stream",
     "text": [
      "[I 2023-11-16 16:14:07,627] Trial 84 finished with value: 6.644735803110951 and parameters: {'n_estimators': 290, 'max_depth': 5, 'num_leaves': 80, 'learning_rate': 0.011}. Best is trial 62 with value: 6.621667906249166.\n"
     ]
    },
    {
     "name": "stdout",
     "output_type": "stream",
     "text": [
      "6.644735803110951\n"
     ]
    },
    {
     "name": "stderr",
     "output_type": "stream",
     "text": [
      "[I 2023-11-16 16:14:11,386] Trial 85 finished with value: 6.653402655342074 and parameters: {'n_estimators': 140, 'max_depth': 10, 'num_leaves': 90, 'learning_rate': 0.031}. Best is trial 62 with value: 6.621667906249166.\n"
     ]
    },
    {
     "name": "stdout",
     "output_type": "stream",
     "text": [
      "6.653402655342074\n"
     ]
    },
    {
     "name": "stderr",
     "output_type": "stream",
     "text": [
      "[I 2023-11-16 16:14:14,938] Trial 86 finished with value: 6.697338900245473 and parameters: {'n_estimators': 210, 'max_depth': 25, 'num_leaves': 65, 'learning_rate': 0.051000000000000004}. Best is trial 62 with value: 6.621667906249166.\n"
     ]
    },
    {
     "name": "stdout",
     "output_type": "stream",
     "text": [
      "6.697338900245473\n"
     ]
    },
    {
     "name": "stderr",
     "output_type": "stream",
     "text": [
      "[I 2023-11-16 16:14:19,955] Trial 87 finished with value: 6.663527406191562 and parameters: {'n_estimators': 240, 'max_depth': 15, 'num_leaves': 75, 'learning_rate': 0.021}. Best is trial 62 with value: 6.621667906249166.\n"
     ]
    },
    {
     "name": "stdout",
     "output_type": "stream",
     "text": [
      "6.663527406191562\n"
     ]
    },
    {
     "name": "stderr",
     "output_type": "stream",
     "text": [
      "[I 2023-11-16 16:14:21,778] Trial 88 finished with value: 6.857203694591198 and parameters: {'n_estimators': 160, 'max_depth': 5, 'num_leaves': 80, 'learning_rate': 0.011}. Best is trial 62 with value: 6.621667906249166.\n"
     ]
    },
    {
     "name": "stdout",
     "output_type": "stream",
     "text": [
      "6.857203694591198\n"
     ]
    },
    {
     "name": "stderr",
     "output_type": "stream",
     "text": [
      "[I 2023-11-16 16:14:23,734] Trial 89 finished with value: 6.661069697805056 and parameters: {'n_estimators': 70, 'max_depth': 10, 'num_leaves': 90, 'learning_rate': 0.041}. Best is trial 62 with value: 6.621667906249166.\n"
     ]
    },
    {
     "name": "stdout",
     "output_type": "stream",
     "text": [
      "6.661069697805056\n"
     ]
    },
    {
     "name": "stderr",
     "output_type": "stream",
     "text": [
      "[I 2023-11-16 16:14:27,162] Trial 90 finished with value: 6.64959157065277 and parameters: {'n_estimators': 130, 'max_depth': 30, 'num_leaves': 85, 'learning_rate': 0.031}. Best is trial 62 with value: 6.621667906249166.\n"
     ]
    },
    {
     "name": "stdout",
     "output_type": "stream",
     "text": [
      "6.64959157065277\n"
     ]
    },
    {
     "name": "stderr",
     "output_type": "stream",
     "text": [
      "[I 2023-11-16 16:14:28,319] Trial 91 finished with value: 6.667174511763337 and parameters: {'n_estimators': 90, 'max_depth': 5, 'num_leaves': 85, 'learning_rate': 0.031}. Best is trial 62 with value: 6.621667906249166.\n"
     ]
    },
    {
     "name": "stdout",
     "output_type": "stream",
     "text": [
      "6.667174511763337\n"
     ]
    },
    {
     "name": "stderr",
     "output_type": "stream",
     "text": [
      "[I 2023-11-16 16:14:29,612] Trial 92 finished with value: 6.674411346163362 and parameters: {'n_estimators': 110, 'max_depth': 5, 'num_leaves': 80, 'learning_rate': 0.061}. Best is trial 62 with value: 6.621667906249166.\n"
     ]
    },
    {
     "name": "stdout",
     "output_type": "stream",
     "text": [
      "6.674411346163362\n"
     ]
    },
    {
     "name": "stderr",
     "output_type": "stream",
     "text": [
      "[I 2023-11-16 16:14:31,560] Trial 93 finished with value: 6.665225139173018 and parameters: {'n_estimators': 180, 'max_depth': 5, 'num_leaves': 85, 'learning_rate': 0.041}. Best is trial 62 with value: 6.621667906249166.\n"
     ]
    },
    {
     "name": "stdout",
     "output_type": "stream",
     "text": [
      "6.665225139173018\n"
     ]
    },
    {
     "name": "stderr",
     "output_type": "stream",
     "text": [
      "[I 2023-11-16 16:14:32,859] Trial 94 finished with value: 7.3064140681973395 and parameters: {'n_estimators': 50, 'max_depth': 15, 'num_leaves': 75, 'learning_rate': 0.021}. Best is trial 62 with value: 6.621667906249166.\n"
     ]
    },
    {
     "name": "stdout",
     "output_type": "stream",
     "text": [
      "7.3064140681973395\n"
     ]
    },
    {
     "name": "stderr",
     "output_type": "stream",
     "text": [
      "[I 2023-11-16 16:14:35,570] Trial 95 finished with value: 6.631477594980875 and parameters: {'n_estimators': 110, 'max_depth': 10, 'num_leaves': 90, 'learning_rate': 0.031}. Best is trial 62 with value: 6.621667906249166.\n"
     ]
    },
    {
     "name": "stdout",
     "output_type": "stream",
     "text": [
      "6.631477594980875\n"
     ]
    },
    {
     "name": "stderr",
     "output_type": "stream",
     "text": [
      "[I 2023-11-16 16:14:40,437] Trial 96 finished with value: 9.298848708767206 and parameters: {'n_estimators': 160, 'max_depth': 10, 'num_leaves': 95, 'learning_rate': 0.001}. Best is trial 62 with value: 6.621667906249166.\n"
     ]
    },
    {
     "name": "stdout",
     "output_type": "stream",
     "text": [
      "9.298848708767206\n"
     ]
    },
    {
     "name": "stderr",
     "output_type": "stream",
     "text": [
      "[I 2023-11-16 16:14:42,948] Trial 97 finished with value: 6.663200615136677 and parameters: {'n_estimators': 90, 'max_depth': 10, 'num_leaves': 90, 'learning_rate': 0.051000000000000004}. Best is trial 62 with value: 6.621667906249166.\n"
     ]
    },
    {
     "name": "stdout",
     "output_type": "stream",
     "text": [
      "6.663200615136677\n"
     ]
    },
    {
     "name": "stderr",
     "output_type": "stream",
     "text": [
      "[I 2023-11-16 16:14:51,081] Trial 98 finished with value: 6.665470517698885 and parameters: {'n_estimators': 450, 'max_depth': 55, 'num_leaves': 60, 'learning_rate': 0.011}. Best is trial 62 with value: 6.621667906249166.\n"
     ]
    },
    {
     "name": "stdout",
     "output_type": "stream",
     "text": [
      "6.665470517698885\n"
     ]
    },
    {
     "name": "stderr",
     "output_type": "stream",
     "text": [
      "[I 2023-11-16 16:14:54,384] Trial 99 finished with value: 6.674197573626529 and parameters: {'n_estimators': 130, 'max_depth': 15, 'num_leaves': 90, 'learning_rate': 0.021}. Best is trial 62 with value: 6.621667906249166.\n"
     ]
    },
    {
     "name": "stdout",
     "output_type": "stream",
     "text": [
      "6.674197573626529\n"
     ]
    },
    {
     "name": "stderr",
     "output_type": "stream",
     "text": [
      "[I 2023-11-16 16:14:59,278] Trial 100 finished with value: 6.7329978765759435 and parameters: {'n_estimators': 200, 'max_depth': 20, 'num_leaves': 100, 'learning_rate': 0.061}. Best is trial 62 with value: 6.621667906249166.\n"
     ]
    },
    {
     "name": "stdout",
     "output_type": "stream",
     "text": [
      "6.7329978765759435\n"
     ]
    },
    {
     "name": "stderr",
     "output_type": "stream",
     "text": [
      "[I 2023-11-16 16:15:00,710] Trial 101 finished with value: 6.638289766583517 and parameters: {'n_estimators': 110, 'max_depth': 5, 'num_leaves': 85, 'learning_rate': 0.031}. Best is trial 62 with value: 6.621667906249166.\n"
     ]
    },
    {
     "name": "stdout",
     "output_type": "stream",
     "text": [
      "6.638289766583517\n"
     ]
    },
    {
     "name": "stderr",
     "output_type": "stream",
     "text": [
      "[I 2023-11-16 16:15:01,733] Trial 102 finished with value: 6.726015845422539 and parameters: {'n_estimators': 80, 'max_depth': 5, 'num_leaves': 80, 'learning_rate': 0.191}. Best is trial 62 with value: 6.621667906249166.\n"
     ]
    },
    {
     "name": "stdout",
     "output_type": "stream",
     "text": [
      "6.726015845422539\n"
     ]
    },
    {
     "name": "stderr",
     "output_type": "stream",
     "text": [
      "[I 2023-11-16 16:15:05,183] Trial 103 finished with value: 6.700288769685146 and parameters: {'n_estimators': 150, 'max_depth': 10, 'num_leaves': 90, 'learning_rate': 0.041}. Best is trial 62 with value: 6.621667906249166.\n"
     ]
    },
    {
     "name": "stdout",
     "output_type": "stream",
     "text": [
      "6.700288769685146\n"
     ]
    },
    {
     "name": "stderr",
     "output_type": "stream",
     "text": [
      "[I 2023-11-16 16:15:06,515] Trial 104 finished with value: 6.638289766583517 and parameters: {'n_estimators': 110, 'max_depth': 5, 'num_leaves': 95, 'learning_rate': 0.031}. Best is trial 62 with value: 6.621667906249166.\n"
     ]
    },
    {
     "name": "stdout",
     "output_type": "stream",
     "text": [
      "6.638289766583517\n"
     ]
    },
    {
     "name": "stderr",
     "output_type": "stream",
     "text": [
      "[I 2023-11-16 16:15:07,883] Trial 105 finished with value: 8.09916599832976 and parameters: {'n_estimators': 50, 'max_depth': 10, 'num_leaves': 85, 'learning_rate': 0.011}. Best is trial 62 with value: 6.621667906249166.\n"
     ]
    },
    {
     "name": "stdout",
     "output_type": "stream",
     "text": [
      "8.09916599832976\n"
     ]
    },
    {
     "name": "stderr",
     "output_type": "stream",
     "text": [
      "[I 2023-11-16 16:15:10,125] Trial 106 finished with value: 6.6716355913565515 and parameters: {'n_estimators': 180, 'max_depth': 5, 'num_leaves': 75, 'learning_rate': 0.051000000000000004}. Best is trial 62 with value: 6.621667906249166.\n"
     ]
    },
    {
     "name": "stdout",
     "output_type": "stream",
     "text": [
      "6.6716355913565515\n"
     ]
    },
    {
     "name": "stderr",
     "output_type": "stream",
     "text": [
      "[I 2023-11-16 16:15:12,108] Trial 107 finished with value: 6.654286538044497 and parameters: {'n_estimators': 70, 'max_depth': 15, 'num_leaves': 85, 'learning_rate': 0.041}. Best is trial 62 with value: 6.621667906249166.\n"
     ]
    },
    {
     "name": "stdout",
     "output_type": "stream",
     "text": [
      "6.654286538044497\n"
     ]
    },
    {
     "name": "stderr",
     "output_type": "stream",
     "text": [
      "[I 2023-11-16 16:15:24,404] Trial 108 finished with value: 6.738852740630438 and parameters: {'n_estimators': 640, 'max_depth': 10, 'num_leaves': 80, 'learning_rate': 0.021}. Best is trial 62 with value: 6.621667906249166.\n"
     ]
    },
    {
     "name": "stdout",
     "output_type": "stream",
     "text": [
      "6.738852740630438\n"
     ]
    },
    {
     "name": "stderr",
     "output_type": "stream",
     "text": [
      "[I 2023-11-16 16:15:25,913] Trial 109 finished with value: 6.632846441511186 and parameters: {'n_estimators': 130, 'max_depth': 5, 'num_leaves': 70, 'learning_rate': 0.031}. Best is trial 62 with value: 6.621667906249166.\n"
     ]
    },
    {
     "name": "stdout",
     "output_type": "stream",
     "text": [
      "6.632846441511186\n"
     ]
    },
    {
     "name": "stderr",
     "output_type": "stream",
     "text": [
      "[I 2023-11-16 16:15:29,133] Trial 110 finished with value: 6.64340083681499 and parameters: {'n_estimators': 140, 'max_depth': 10, 'num_leaves': 65, 'learning_rate': 0.031}. Best is trial 62 with value: 6.621667906249166.\n"
     ]
    },
    {
     "name": "stdout",
     "output_type": "stream",
     "text": [
      "6.64340083681499\n"
     ]
    },
    {
     "name": "stderr",
     "output_type": "stream",
     "text": [
      "[I 2023-11-16 16:15:30,843] Trial 111 finished with value: 6.698672673611549 and parameters: {'n_estimators': 120, 'max_depth': 5, 'num_leaves': 70, 'learning_rate': 0.021}. Best is trial 62 with value: 6.621667906249166.\n"
     ]
    },
    {
     "name": "stdout",
     "output_type": "stream",
     "text": [
      "6.698672673611549\n"
     ]
    },
    {
     "name": "stderr",
     "output_type": "stream",
     "text": [
      "[I 2023-11-16 16:15:32,099] Trial 112 finished with value: 6.649887087207487 and parameters: {'n_estimators': 100, 'max_depth': 5, 'num_leaves': 80, 'learning_rate': 0.031}. Best is trial 62 with value: 6.621667906249166.\n"
     ]
    },
    {
     "name": "stdout",
     "output_type": "stream",
     "text": [
      "6.649887087207487\n"
     ]
    },
    {
     "name": "stderr",
     "output_type": "stream",
     "text": [
      "[I 2023-11-16 16:15:34,047] Trial 113 finished with value: 6.657847431999828 and parameters: {'n_estimators': 160, 'max_depth': 5, 'num_leaves': 90, 'learning_rate': 0.041}. Best is trial 62 with value: 6.621667906249166.\n"
     ]
    },
    {
     "name": "stdout",
     "output_type": "stream",
     "text": [
      "6.657847431999828\n"
     ]
    },
    {
     "name": "stderr",
     "output_type": "stream",
     "text": [
      "[I 2023-11-16 16:15:37,985] Trial 114 finished with value: 6.743085479026352 and parameters: {'n_estimators': 220, 'max_depth': 15, 'num_leaves': 50, 'learning_rate': 0.011}. Best is trial 62 with value: 6.621667906249166.\n"
     ]
    },
    {
     "name": "stdout",
     "output_type": "stream",
     "text": [
      "6.743085479026352\n"
     ]
    },
    {
     "name": "stderr",
     "output_type": "stream",
     "text": [
      "[I 2023-11-16 16:15:39,078] Trial 115 finished with value: 6.702492560383475 and parameters: {'n_estimators': 80, 'max_depth': 5, 'num_leaves': 75, 'learning_rate': 0.031}. Best is trial 62 with value: 6.621667906249166.\n"
     ]
    },
    {
     "name": "stdout",
     "output_type": "stream",
     "text": [
      "6.702492560383475\n"
     ]
    },
    {
     "name": "stderr",
     "output_type": "stream",
     "text": [
      "[I 2023-11-16 16:15:42,511] Trial 116 finished with value: 6.715407531451871 and parameters: {'n_estimators': 190, 'max_depth': 10, 'num_leaves': 70, 'learning_rate': 0.051000000000000004}. Best is trial 62 with value: 6.621667906249166.\n"
     ]
    },
    {
     "name": "stdout",
     "output_type": "stream",
     "text": [
      "6.715407531451871\n"
     ]
    },
    {
     "name": "stderr",
     "output_type": "stream",
     "text": [
      "[I 2023-11-16 16:15:46,079] Trial 117 finished with value: 9.422669740971651 and parameters: {'n_estimators': 130, 'max_depth': 15, 'num_leaves': 85, 'learning_rate': 0.001}. Best is trial 62 with value: 6.621667906249166.\n"
     ]
    },
    {
     "name": "stdout",
     "output_type": "stream",
     "text": [
      "9.422669740971651\n"
     ]
    },
    {
     "name": "stderr",
     "output_type": "stream",
     "text": [
      "[I 2023-11-16 16:15:47,471] Trial 118 finished with value: 6.770319782000394 and parameters: {'n_estimators': 100, 'max_depth': 5, 'num_leaves': 95, 'learning_rate': 0.021}. Best is trial 62 with value: 6.621667906249166.\n"
     ]
    },
    {
     "name": "stdout",
     "output_type": "stream",
     "text": [
      "6.770319782000394\n"
     ]
    },
    {
     "name": "stderr",
     "output_type": "stream",
     "text": [
      "[I 2023-11-16 16:15:50,418] Trial 119 finished with value: 6.723261824645643 and parameters: {'n_estimators': 150, 'max_depth': 10, 'num_leaves': 80, 'learning_rate': 0.07100000000000001}. Best is trial 62 with value: 6.621667906249166.\n"
     ]
    },
    {
     "name": "stdout",
     "output_type": "stream",
     "text": [
      "6.723261824645643\n"
     ]
    },
    {
     "name": "stderr",
     "output_type": "stream",
     "text": [
      "[I 2023-11-16 16:15:54,407] Trial 120 finished with value: 6.705347329501357 and parameters: {'n_estimators': 170, 'max_depth': 10, 'num_leaves': 90, 'learning_rate': 0.041}. Best is trial 62 with value: 6.621667906249166.\n"
     ]
    },
    {
     "name": "stdout",
     "output_type": "stream",
     "text": [
      "6.705347329501357\n"
     ]
    },
    {
     "name": "stderr",
     "output_type": "stream",
     "text": [
      "[I 2023-11-16 16:15:55,836] Trial 121 finished with value: 6.62892808347912 and parameters: {'n_estimators': 120, 'max_depth': 5, 'num_leaves': 85, 'learning_rate': 0.031}. Best is trial 62 with value: 6.621667906249166.\n"
     ]
    },
    {
     "name": "stdout",
     "output_type": "stream",
     "text": [
      "6.62892808347912\n"
     ]
    },
    {
     "name": "stderr",
     "output_type": "stream",
     "text": [
      "[I 2023-11-16 16:15:57,260] Trial 122 finished with value: 6.62892808347912 and parameters: {'n_estimators': 120, 'max_depth': 5, 'num_leaves': 85, 'learning_rate': 0.031}. Best is trial 62 with value: 6.621667906249166.\n"
     ]
    },
    {
     "name": "stdout",
     "output_type": "stream",
     "text": [
      "6.62892808347912\n"
     ]
    },
    {
     "name": "stderr",
     "output_type": "stream",
     "text": [
      "[I 2023-11-16 16:15:58,242] Trial 123 finished with value: 6.9837781227237254 and parameters: {'n_estimators': 70, 'max_depth': 5, 'num_leaves': 80, 'learning_rate': 0.021}. Best is trial 62 with value: 6.621667906249166.\n"
     ]
    },
    {
     "name": "stdout",
     "output_type": "stream",
     "text": [
      "6.9837781227237254\n"
     ]
    },
    {
     "name": "stderr",
     "output_type": "stream",
     "text": [
      "[I 2023-11-16 16:16:00,244] Trial 124 finished with value: 7.006204934116276 and parameters: {'n_estimators': 130, 'max_depth': 5, 'num_leaves': 90, 'learning_rate': 0.011}. Best is trial 62 with value: 6.621667906249166.\n"
     ]
    },
    {
     "name": "stdout",
     "output_type": "stream",
     "text": [
      "7.006204934116276\n"
     ]
    },
    {
     "name": "stderr",
     "output_type": "stream",
     "text": [
      "[I 2023-11-16 16:16:02,581] Trial 125 finished with value: 6.656030788535439 and parameters: {'n_estimators': 90, 'max_depth': 45, 'num_leaves': 75, 'learning_rate': 0.051000000000000004}. Best is trial 62 with value: 6.621667906249166.\n"
     ]
    },
    {
     "name": "stdout",
     "output_type": "stream",
     "text": [
      "6.656030788535439\n"
     ]
    },
    {
     "name": "stderr",
     "output_type": "stream",
     "text": [
      "[I 2023-11-16 16:16:05,979] Trial 126 finished with value: 6.667304049135487 and parameters: {'n_estimators': 150, 'max_depth': 10, 'num_leaves': 85, 'learning_rate': 0.031}. Best is trial 62 with value: 6.621667906249166.\n"
     ]
    },
    {
     "name": "stdout",
     "output_type": "stream",
     "text": [
      "6.667304049135487\n"
     ]
    },
    {
     "name": "stderr",
     "output_type": "stream",
     "text": [
      "[I 2023-11-16 16:16:13,227] Trial 127 finished with value: 6.857623376278749 and parameters: {'n_estimators': 840, 'max_depth': 5, 'num_leaves': 85, 'learning_rate': 0.061}. Best is trial 62 with value: 6.621667906249166.\n"
     ]
    },
    {
     "name": "stdout",
     "output_type": "stream",
     "text": [
      "6.857623376278749\n"
     ]
    },
    {
     "name": "stderr",
     "output_type": "stream",
     "text": [
      "[I 2023-11-16 16:16:17,835] Trial 128 finished with value: 6.685336298299754 and parameters: {'n_estimators': 200, 'max_depth': 15, 'num_leaves': 80, 'learning_rate': 0.041}. Best is trial 62 with value: 6.621667906249166.\n"
     ]
    },
    {
     "name": "stdout",
     "output_type": "stream",
     "text": [
      "6.685336298299754\n"
     ]
    },
    {
     "name": "stderr",
     "output_type": "stream",
     "text": [
      "[I 2023-11-16 16:16:21,059] Trial 129 finished with value: 6.697615163103798 and parameters: {'n_estimators': 120, 'max_depth': 10, 'num_leaves': 90, 'learning_rate': 0.021}. Best is trial 62 with value: 6.621667906249166.\n"
     ]
    },
    {
     "name": "stdout",
     "output_type": "stream",
     "text": [
      "6.697615163103798\n"
     ]
    },
    {
     "name": "stderr",
     "output_type": "stream",
     "text": [
      "[I 2023-11-16 16:16:23,004] Trial 130 finished with value: 6.624007327712941 and parameters: {'n_estimators': 180, 'max_depth': 5, 'num_leaves': 75, 'learning_rate': 0.031}. Best is trial 62 with value: 6.621667906249166.\n"
     ]
    },
    {
     "name": "stdout",
     "output_type": "stream",
     "text": [
      "6.624007327712941\n"
     ]
    },
    {
     "name": "stderr",
     "output_type": "stream",
     "text": [
      "[I 2023-11-16 16:16:24,890] Trial 131 finished with value: 6.6113787115191585 and parameters: {'n_estimators': 170, 'max_depth': 5, 'num_leaves': 75, 'learning_rate': 0.031}. Best is trial 131 with value: 6.6113787115191585.\n"
     ]
    },
    {
     "name": "stdout",
     "output_type": "stream",
     "text": [
      "6.6113787115191585\n"
     ]
    },
    {
     "name": "stderr",
     "output_type": "stream",
     "text": [
      "[I 2023-11-16 16:16:27,350] Trial 132 finished with value: 6.6524129525372055 and parameters: {'n_estimators': 240, 'max_depth': 5, 'num_leaves': 70, 'learning_rate': 0.031}. Best is trial 131 with value: 6.6113787115191585.\n"
     ]
    },
    {
     "name": "stdout",
     "output_type": "stream",
     "text": [
      "6.6524129525372055\n"
     ]
    },
    {
     "name": "stderr",
     "output_type": "stream",
     "text": [
      "[I 2023-11-16 16:16:29,284] Trial 133 finished with value: 6.665225139173018 and parameters: {'n_estimators': 180, 'max_depth': 5, 'num_leaves': 75, 'learning_rate': 0.041}. Best is trial 131 with value: 6.6113787115191585.\n"
     ]
    },
    {
     "name": "stdout",
     "output_type": "stream",
     "text": [
      "6.665225139173018\n"
     ]
    },
    {
     "name": "stderr",
     "output_type": "stream",
     "text": [
      "[I 2023-11-16 16:16:30,854] Trial 134 finished with value: 6.632846441511186 and parameters: {'n_estimators': 130, 'max_depth': 5, 'num_leaves': 70, 'learning_rate': 0.031}. Best is trial 131 with value: 6.6113787115191585.\n"
     ]
    },
    {
     "name": "stdout",
     "output_type": "stream",
     "text": [
      "6.632846441511186\n"
     ]
    },
    {
     "name": "stderr",
     "output_type": "stream",
     "text": [
      "[I 2023-11-16 16:16:34,071] Trial 135 finished with value: 6.696656907168956 and parameters: {'n_estimators': 140, 'max_depth': 10, 'num_leaves': 70, 'learning_rate': 0.051000000000000004}. Best is trial 131 with value: 6.6113787115191585.\n"
     ]
    },
    {
     "name": "stdout",
     "output_type": "stream",
     "text": [
      "6.696656907168956\n"
     ]
    },
    {
     "name": "stderr",
     "output_type": "stream",
     "text": [
      "[I 2023-11-16 16:16:34,950] Trial 136 finished with value: 6.692411451074513 and parameters: {'n_estimators': 60, 'max_depth': 5, 'num_leaves': 75, 'learning_rate': 0.041}. Best is trial 131 with value: 6.6113787115191585.\n"
     ]
    },
    {
     "name": "stdout",
     "output_type": "stream",
     "text": [
      "6.692411451074513\n"
     ]
    },
    {
     "name": "stderr",
     "output_type": "stream",
     "text": [
      "[I 2023-11-16 16:16:36,181] Trial 137 finished with value: 6.649887087207487 and parameters: {'n_estimators': 100, 'max_depth': 5, 'num_leaves': 65, 'learning_rate': 0.031}. Best is trial 131 with value: 6.6113787115191585.\n"
     ]
    },
    {
     "name": "stdout",
     "output_type": "stream",
     "text": [
      "6.649887087207487\n"
     ]
    },
    {
     "name": "stderr",
     "output_type": "stream",
     "text": [
      "[I 2023-11-16 16:16:39,128] Trial 138 finished with value: 6.639145669611036 and parameters: {'n_estimators': 110, 'max_depth': 10, 'num_leaves': 60, 'learning_rate': 0.031}. Best is trial 131 with value: 6.6113787115191585.\n"
     ]
    },
    {
     "name": "stdout",
     "output_type": "stream",
     "text": [
      "6.639145669611036\n"
     ]
    },
    {
     "name": "stderr",
     "output_type": "stream",
     "text": [
      "[I 2023-11-16 16:16:40,784] Trial 139 finished with value: 6.64151355703011 and parameters: {'n_estimators': 120, 'max_depth': 5, 'num_leaves': 75, 'learning_rate': 0.051000000000000004}. Best is trial 131 with value: 6.6113787115191585.\n"
     ]
    },
    {
     "name": "stdout",
     "output_type": "stream",
     "text": [
      "6.64151355703011\n"
     ]
    },
    {
     "name": "stderr",
     "output_type": "stream",
     "text": [
      "[I 2023-11-16 16:16:42,079] Trial 140 finished with value: 6.6359951543975155 and parameters: {'n_estimators': 80, 'max_depth': 5, 'num_leaves': 80, 'learning_rate': 0.041}. Best is trial 131 with value: 6.6113787115191585.\n"
     ]
    },
    {
     "name": "stdout",
     "output_type": "stream",
     "text": [
      "6.6359951543975155\n"
     ]
    },
    {
     "name": "stderr",
     "output_type": "stream",
     "text": [
      "[I 2023-11-16 16:16:43,207] Trial 141 finished with value: 6.6359951543975155 and parameters: {'n_estimators': 80, 'max_depth': 5, 'num_leaves': 80, 'learning_rate': 0.041}. Best is trial 131 with value: 6.6113787115191585.\n"
     ]
    },
    {
     "name": "stdout",
     "output_type": "stream",
     "text": [
      "6.6359951543975155\n"
     ]
    },
    {
     "name": "stderr",
     "output_type": "stream",
     "text": [
      "[I 2023-11-16 16:16:44,037] Trial 142 finished with value: 6.942288300459918 and parameters: {'n_estimators': 50, 'max_depth': 5, 'num_leaves': 75, 'learning_rate': 0.031}. Best is trial 131 with value: 6.6113787115191585.\n"
     ]
    },
    {
     "name": "stdout",
     "output_type": "stream",
     "text": [
      "6.942288300459918\n"
     ]
    },
    {
     "name": "stderr",
     "output_type": "stream",
     "text": [
      "[I 2023-11-16 16:16:47,189] Trial 143 finished with value: 6.684040965271395 and parameters: {'n_estimators': 140, 'max_depth': 10, 'num_leaves': 70, 'learning_rate': 0.041}. Best is trial 131 with value: 6.6113787115191585.\n"
     ]
    },
    {
     "name": "stdout",
     "output_type": "stream",
     "text": [
      "6.684040965271395\n"
     ]
    },
    {
     "name": "stderr",
     "output_type": "stream",
     "text": [
      "[I 2023-11-16 16:16:49,441] Trial 144 finished with value: 6.899298001048642 and parameters: {'n_estimators': 80, 'max_depth': 10, 'num_leaves': 80, 'learning_rate': 0.021}. Best is trial 131 with value: 6.6113787115191585.\n"
     ]
    },
    {
     "name": "stdout",
     "output_type": "stream",
     "text": [
      "6.899298001048642\n"
     ]
    },
    {
     "name": "stderr",
     "output_type": "stream",
     "text": [
      "[I 2023-11-16 16:16:51,521] Trial 145 finished with value: 6.6113787115191585 and parameters: {'n_estimators': 170, 'max_depth': 5, 'num_leaves': 80, 'learning_rate': 0.031}. Best is trial 131 with value: 6.6113787115191585.\n"
     ]
    },
    {
     "name": "stdout",
     "output_type": "stream",
     "text": [
      "6.6113787115191585\n"
     ]
    },
    {
     "name": "stderr",
     "output_type": "stream",
     "text": [
      "[I 2023-11-16 16:16:53,555] Trial 146 finished with value: 6.634140428401889 and parameters: {'n_estimators': 180, 'max_depth': 5, 'num_leaves': 75, 'learning_rate': 0.021}. Best is trial 131 with value: 6.6113787115191585.\n"
     ]
    },
    {
     "name": "stdout",
     "output_type": "stream",
     "text": [
      "6.634140428401889\n"
     ]
    },
    {
     "name": "stderr",
     "output_type": "stream",
     "text": [
      "[I 2023-11-16 16:16:58,136] Trial 147 finished with value: 6.752075605915284 and parameters: {'n_estimators': 200, 'max_depth': 10, 'num_leaves': 80, 'learning_rate': 0.011}. Best is trial 131 with value: 6.6113787115191585.\n"
     ]
    },
    {
     "name": "stdout",
     "output_type": "stream",
     "text": [
      "6.752075605915284\n"
     ]
    },
    {
     "name": "stderr",
     "output_type": "stream",
     "text": [
      "[I 2023-11-16 16:17:00,034] Trial 148 finished with value: 6.6113787115191585 and parameters: {'n_estimators': 170, 'max_depth': 5, 'num_leaves': 70, 'learning_rate': 0.031}. Best is trial 131 with value: 6.6113787115191585.\n"
     ]
    },
    {
     "name": "stdout",
     "output_type": "stream",
     "text": [
      "6.6113787115191585\n"
     ]
    },
    {
     "name": "stderr",
     "output_type": "stream",
     "text": [
      "[I 2023-11-16 16:17:01,940] Trial 149 finished with value: 6.6113787115191585 and parameters: {'n_estimators': 170, 'max_depth': 5, 'num_leaves': 85, 'learning_rate': 0.031}. Best is trial 131 with value: 6.6113787115191585.\n",
      "C:\\Users\\Dmser\\AppData\\Local\\Temp\\ipykernel_15412\\1866508612.py:11: SettingWithCopyWarning: \n",
      "A value is trying to be set on a copy of a slice from a DataFrame.\n",
      "Try using .loc[row_indexer,col_indexer] = value instead\n",
      "\n",
      "See the caveats in the documentation: https://pandas.pydata.org/pandas-docs/stable/user_guide/indexing.html#returning-a-view-versus-a-copy\n",
      "  df2_temp[f'milk_yield_{i}'] = df2[f'milk_yield_{i}']\n",
      "[I 2023-11-16 16:17:02,028] A new study created in memory with name: no-name-46a6bf2b-b534-4ee0-bf03-6578f9127a26\n"
     ]
    },
    {
     "name": "stdout",
     "output_type": "stream",
     "text": [
      "6.6113787115191585\n",
      "{'n_estimators': 170, 'max_depth': 5, 'num_leaves': 75, 'learning_rate': 0.031}\n"
     ]
    },
    {
     "name": "stderr",
     "output_type": "stream",
     "text": [
      "[I 2023-11-16 16:17:11,356] Trial 0 finished with value: 7.1791023656862905 and parameters: {'n_estimators': 670, 'max_depth': 15, 'num_leaves': 75, 'learning_rate': 0.231}. Best is trial 0 with value: 7.1791023656862905.\n"
     ]
    },
    {
     "name": "stdout",
     "output_type": "stream",
     "text": [
      "7.1791023656862905\n"
     ]
    },
    {
     "name": "stderr",
     "output_type": "stream",
     "text": [
      "[I 2023-11-16 16:17:17,309] Trial 1 finished with value: 6.888047158340358 and parameters: {'n_estimators': 340, 'max_depth': 35, 'num_leaves': 95, 'learning_rate': 0.07100000000000001}. Best is trial 1 with value: 6.888047158340358.\n"
     ]
    },
    {
     "name": "stdout",
     "output_type": "stream",
     "text": [
      "6.888047158340358\n"
     ]
    },
    {
     "name": "stderr",
     "output_type": "stream",
     "text": [
      "[I 2023-11-16 16:17:20,286] Trial 2 finished with value: 6.788298616953097 and parameters: {'n_estimators': 270, 'max_depth': 20, 'num_leaves': 30, 'learning_rate': 0.081}. Best is trial 2 with value: 6.788298616953097.\n"
     ]
    },
    {
     "name": "stdout",
     "output_type": "stream",
     "text": [
      "6.788298616953097\n"
     ]
    },
    {
     "name": "stderr",
     "output_type": "stream",
     "text": [
      "[I 2023-11-16 16:17:22,590] Trial 3 finished with value: 6.925194509534328 and parameters: {'n_estimators': 200, 'max_depth': 5, 'num_leaves': 35, 'learning_rate': 0.221}. Best is trial 2 with value: 6.788298616953097.\n"
     ]
    },
    {
     "name": "stdout",
     "output_type": "stream",
     "text": [
      "6.925194509534328\n"
     ]
    },
    {
     "name": "stderr",
     "output_type": "stream",
     "text": [
      "[I 2023-11-16 16:17:26,840] Trial 4 finished with value: 6.948524578038316 and parameters: {'n_estimators': 280, 'max_depth': 100, 'num_leaves': 75, 'learning_rate': 0.161}. Best is trial 2 with value: 6.788298616953097.\n"
     ]
    },
    {
     "name": "stdout",
     "output_type": "stream",
     "text": [
      "6.948524578038316\n"
     ]
    },
    {
     "name": "stderr",
     "output_type": "stream",
     "text": [
      "[I 2023-11-16 16:17:36,400] Trial 5 finished with value: 6.84984266215199 and parameters: {'n_estimators': 720, 'max_depth': 95, 'num_leaves': 60, 'learning_rate': 0.041}. Best is trial 2 with value: 6.788298616953097.\n"
     ]
    },
    {
     "name": "stdout",
     "output_type": "stream",
     "text": [
      "6.84984266215199\n"
     ]
    },
    {
     "name": "stderr",
     "output_type": "stream",
     "text": [
      "[I 2023-11-16 16:17:41,740] Trial 6 finished with value: 6.957689229489807 and parameters: {'n_estimators': 690, 'max_depth': 75, 'num_leaves': 20, 'learning_rate': 0.161}. Best is trial 2 with value: 6.788298616953097.\n"
     ]
    },
    {
     "name": "stdout",
     "output_type": "stream",
     "text": [
      "6.957689229489807\n"
     ]
    },
    {
     "name": "stderr",
     "output_type": "stream",
     "text": [
      "[I 2023-11-16 16:17:55,264] Trial 7 finished with value: 6.862005525709743 and parameters: {'n_estimators': 960, 'max_depth': 85, 'num_leaves': 65, 'learning_rate': 0.031}. Best is trial 2 with value: 6.788298616953097.\n"
     ]
    },
    {
     "name": "stdout",
     "output_type": "stream",
     "text": [
      "6.862005525709743\n"
     ]
    },
    {
     "name": "stderr",
     "output_type": "stream",
     "text": [
      "[I 2023-11-16 16:17:56,061] Trial 8 finished with value: 6.882412358815157 and parameters: {'n_estimators': 100, 'max_depth': 50, 'num_leaves': 5, 'learning_rate': 0.031}. Best is trial 2 with value: 6.788298616953097.\n"
     ]
    },
    {
     "name": "stdout",
     "output_type": "stream",
     "text": [
      "6.882412358815157\n"
     ]
    },
    {
     "name": "stderr",
     "output_type": "stream",
     "text": [
      "[I 2023-11-16 16:18:01,515] Trial 9 finished with value: 7.060752896163789 and parameters: {'n_estimators': 900, 'max_depth': 30, 'num_leaves': 15, 'learning_rate': 0.241}. Best is trial 2 with value: 6.788298616953097.\n"
     ]
    },
    {
     "name": "stdout",
     "output_type": "stream",
     "text": [
      "7.060752896163789\n"
     ]
    },
    {
     "name": "stderr",
     "output_type": "stream",
     "text": [
      "[I 2023-11-16 16:18:05,965] Trial 10 finished with value: 6.86379141940566 and parameters: {'n_estimators': 440, 'max_depth': 65, 'num_leaves': 40, 'learning_rate': 0.101}. Best is trial 2 with value: 6.788298616953097.\n"
     ]
    },
    {
     "name": "stdout",
     "output_type": "stream",
     "text": [
      "6.86379141940566\n"
     ]
    },
    {
     "name": "stderr",
     "output_type": "stream",
     "text": [
      "[I 2023-11-16 16:18:13,258] Trial 11 finished with value: 6.898901179294456 and parameters: {'n_estimators': 640, 'max_depth': 50, 'num_leaves': 45, 'learning_rate': 0.081}. Best is trial 2 with value: 6.788298616953097.\n"
     ]
    },
    {
     "name": "stdout",
     "output_type": "stream",
     "text": [
      "6.898901179294456\n"
     ]
    },
    {
     "name": "stderr",
     "output_type": "stream",
     "text": [
      "[I 2023-11-16 16:18:21,212] Trial 12 finished with value: 8.186475521868246 and parameters: {'n_estimators': 480, 'max_depth': 100, 'num_leaves': 55, 'learning_rate': 0.001}. Best is trial 2 with value: 6.788298616953097.\n"
     ]
    },
    {
     "name": "stdout",
     "output_type": "stream",
     "text": [
      "8.186475521868246\n"
     ]
    },
    {
     "name": "stderr",
     "output_type": "stream",
     "text": [
      "[I 2023-11-16 16:18:34,627] Trial 13 finished with value: 7.105655304235594 and parameters: {'n_estimators': 810, 'max_depth': 30, 'num_leaves': 105, 'learning_rate': 0.131}. Best is trial 2 with value: 6.788298616953097.\n"
     ]
    },
    {
     "name": "stdout",
     "output_type": "stream",
     "text": [
      "7.105655304235594\n"
     ]
    },
    {
     "name": "stderr",
     "output_type": "stream",
     "text": [
      "[I 2023-11-16 16:18:40,576] Trial 14 finished with value: 6.791474602453741 and parameters: {'n_estimators': 520, 'max_depth': 65, 'num_leaves': 30, 'learning_rate': 0.051000000000000004}. Best is trial 2 with value: 6.788298616953097.\n"
     ]
    },
    {
     "name": "stdout",
     "output_type": "stream",
     "text": [
      "6.791474602453741\n"
     ]
    },
    {
     "name": "stderr",
     "output_type": "stream",
     "text": [
      "[I 2023-11-16 16:18:44,262] Trial 15 finished with value: 6.845455254475815 and parameters: {'n_estimators': 380, 'max_depth': 65, 'num_leaves': 25, 'learning_rate': 0.121}. Best is trial 2 with value: 6.788298616953097.\n"
     ]
    },
    {
     "name": "stdout",
     "output_type": "stream",
     "text": [
      "6.845455254475815\n"
     ]
    },
    {
     "name": "stderr",
     "output_type": "stream",
     "text": [
      "[I 2023-11-16 16:18:49,313] Trial 16 finished with value: 6.797363712920347 and parameters: {'n_estimators': 550, 'max_depth': 40, 'num_leaves': 30, 'learning_rate': 0.061}. Best is trial 2 with value: 6.788298616953097.\n"
     ]
    },
    {
     "name": "stdout",
     "output_type": "stream",
     "text": [
      "6.797363712920347\n"
     ]
    },
    {
     "name": "stderr",
     "output_type": "stream",
     "text": [
      "[I 2023-11-16 16:18:50,426] Trial 17 finished with value: 9.448627752438096 and parameters: {'n_estimators': 50, 'max_depth': 15, 'num_leaves': 45, 'learning_rate': 0.001}. Best is trial 2 with value: 6.788298616953097.\n"
     ]
    },
    {
     "name": "stdout",
     "output_type": "stream",
     "text": [
      "9.448627752438096\n"
     ]
    },
    {
     "name": "stderr",
     "output_type": "stream",
     "text": [
      "[I 2023-11-16 16:18:51,639] Trial 18 finished with value: 6.7770453277820035 and parameters: {'n_estimators': 180, 'max_depth': 65, 'num_leaves': 5, 'learning_rate': 0.101}. Best is trial 18 with value: 6.7770453277820035.\n"
     ]
    },
    {
     "name": "stdout",
     "output_type": "stream",
     "text": [
      "6.7770453277820035\n"
     ]
    },
    {
     "name": "stderr",
     "output_type": "stream",
     "text": [
      "[I 2023-11-16 16:18:52,763] Trial 19 finished with value: 6.782467212115414 and parameters: {'n_estimators': 180, 'max_depth': 80, 'num_leaves': 5, 'learning_rate': 0.181}. Best is trial 18 with value: 6.7770453277820035.\n"
     ]
    },
    {
     "name": "stdout",
     "output_type": "stream",
     "text": [
      "6.782467212115414\n"
     ]
    },
    {
     "name": "stderr",
     "output_type": "stream",
     "text": [
      "[I 2023-11-16 16:18:53,780] Trial 20 finished with value: 6.792720044282118 and parameters: {'n_estimators': 150, 'max_depth': 80, 'num_leaves': 5, 'learning_rate': 0.181}. Best is trial 18 with value: 6.7770453277820035.\n"
     ]
    },
    {
     "name": "stdout",
     "output_type": "stream",
     "text": [
      "6.792720044282118\n"
     ]
    },
    {
     "name": "stderr",
     "output_type": "stream",
     "text": [
      "[I 2023-11-16 16:18:56,035] Trial 21 finished with value: 6.828088668468808 and parameters: {'n_estimators': 260, 'max_depth': 70, 'num_leaves': 15, 'learning_rate': 0.191}. Best is trial 18 with value: 6.7770453277820035.\n"
     ]
    },
    {
     "name": "stdout",
     "output_type": "stream",
     "text": [
      "6.828088668468808\n"
     ]
    },
    {
     "name": "stderr",
     "output_type": "stream",
     "text": [
      "[I 2023-11-16 16:18:57,696] Trial 22 finished with value: 6.7797183863443795 and parameters: {'n_estimators': 210, 'max_depth': 55, 'num_leaves': 5, 'learning_rate': 0.111}. Best is trial 18 with value: 6.7770453277820035.\n"
     ]
    },
    {
     "name": "stdout",
     "output_type": "stream",
     "text": [
      "6.7797183863443795\n"
     ]
    },
    {
     "name": "stderr",
     "output_type": "stream",
     "text": [
      "[I 2023-11-16 16:18:58,849] Trial 23 finished with value: 6.7461795783520415 and parameters: {'n_estimators': 160, 'max_depth': 55, 'num_leaves': 5, 'learning_rate': 0.131}. Best is trial 23 with value: 6.7461795783520415.\n"
     ]
    },
    {
     "name": "stdout",
     "output_type": "stream",
     "text": [
      "6.7461795783520415\n"
     ]
    },
    {
     "name": "stderr",
     "output_type": "stream",
     "text": [
      "[I 2023-11-16 16:18:59,575] Trial 24 finished with value: 6.759235858619041 and parameters: {'n_estimators': 50, 'max_depth': 55, 'num_leaves': 15, 'learning_rate': 0.121}. Best is trial 23 with value: 6.7461795783520415.\n"
     ]
    },
    {
     "name": "stdout",
     "output_type": "stream",
     "text": [
      "6.759235858619041\n"
     ]
    },
    {
     "name": "stderr",
     "output_type": "stream",
     "text": [
      "[I 2023-11-16 16:19:00,475] Trial 25 finished with value: 6.777397874622669 and parameters: {'n_estimators': 80, 'max_depth': 55, 'num_leaves': 15, 'learning_rate': 0.14100000000000001}. Best is trial 23 with value: 6.7461795783520415.\n"
     ]
    },
    {
     "name": "stdout",
     "output_type": "stream",
     "text": [
      "6.777397874622669\n"
     ]
    },
    {
     "name": "stderr",
     "output_type": "stream",
     "text": [
      "[I 2023-11-16 16:19:01,679] Trial 26 finished with value: 6.711997672986595 and parameters: {'n_estimators': 120, 'max_depth': 40, 'num_leaves': 15, 'learning_rate': 0.091}. Best is trial 26 with value: 6.711997672986595.\n"
     ]
    },
    {
     "name": "stdout",
     "output_type": "stream",
     "text": [
      "6.711997672986595\n"
     ]
    },
    {
     "name": "stderr",
     "output_type": "stream",
     "text": [
      "[I 2023-11-16 16:19:02,838] Trial 27 finished with value: 6.764608874757329 and parameters: {'n_estimators': 110, 'max_depth': 45, 'num_leaves': 20, 'learning_rate': 0.151}. Best is trial 26 with value: 6.711997672986595.\n"
     ]
    },
    {
     "name": "stdout",
     "output_type": "stream",
     "text": [
      "6.764608874757329\n"
     ]
    },
    {
     "name": "stderr",
     "output_type": "stream",
     "text": [
      "[I 2023-11-16 16:19:05,201] Trial 28 finished with value: 6.787147164286138 and parameters: {'n_estimators': 300, 'max_depth': 40, 'num_leaves': 15, 'learning_rate': 0.091}. Best is trial 26 with value: 6.711997672986595.\n"
     ]
    },
    {
     "name": "stdout",
     "output_type": "stream",
     "text": [
      "6.787147164286138\n"
     ]
    },
    {
     "name": "stderr",
     "output_type": "stream",
     "text": [
      "[I 2023-11-16 16:19:06,117] Trial 29 finished with value: 6.720576678208879 and parameters: {'n_estimators': 60, 'max_depth': 25, 'num_leaves': 25, 'learning_rate': 0.121}. Best is trial 26 with value: 6.711997672986595.\n"
     ]
    },
    {
     "name": "stdout",
     "output_type": "stream",
     "text": [
      "6.720576678208879\n"
     ]
    },
    {
     "name": "stderr",
     "output_type": "stream",
     "text": [
      "[I 2023-11-16 16:19:11,547] Trial 30 finished with value: 6.955201463332605 and parameters: {'n_estimators': 360, 'max_depth': 25, 'num_leaves': 80, 'learning_rate': 0.14100000000000001}. Best is trial 26 with value: 6.711997672986595.\n"
     ]
    },
    {
     "name": "stdout",
     "output_type": "stream",
     "text": [
      "6.955201463332605\n"
     ]
    },
    {
     "name": "stderr",
     "output_type": "stream",
     "text": [
      "[I 2023-11-16 16:19:12,444] Trial 31 finished with value: 6.761275796617064 and parameters: {'n_estimators': 50, 'max_depth': 5, 'num_leaves': 20, 'learning_rate': 0.121}. Best is trial 26 with value: 6.711997672986595.\n"
     ]
    },
    {
     "name": "stdout",
     "output_type": "stream",
     "text": [
      "6.761275796617064\n"
     ]
    },
    {
     "name": "stderr",
     "output_type": "stream",
     "text": [
      "[I 2023-11-16 16:19:13,820] Trial 32 finished with value: 6.809387715930285 and parameters: {'n_estimators': 140, 'max_depth': 40, 'num_leaves': 10, 'learning_rate': 0.111}. Best is trial 26 with value: 6.711997672986595.\n"
     ]
    },
    {
     "name": "stdout",
     "output_type": "stream",
     "text": [
      "6.809387715930285\n"
     ]
    },
    {
     "name": "stderr",
     "output_type": "stream",
     "text": [
      "[I 2023-11-16 16:19:16,565] Trial 33 finished with value: 6.787419380562086 and parameters: {'n_estimators': 240, 'max_depth': 30, 'num_leaves': 35, 'learning_rate': 0.081}. Best is trial 26 with value: 6.711997672986595.\n"
     ]
    },
    {
     "name": "stdout",
     "output_type": "stream",
     "text": [
      "6.787419380562086\n"
     ]
    },
    {
     "name": "stderr",
     "output_type": "stream",
     "text": [
      "[I 2023-11-16 16:19:17,809] Trial 34 finished with value: 6.781095236743725 and parameters: {'n_estimators': 120, 'max_depth': 20, 'num_leaves': 20, 'learning_rate': 0.131}. Best is trial 26 with value: 6.711997672986595.\n"
     ]
    },
    {
     "name": "stdout",
     "output_type": "stream",
     "text": [
      "6.781095236743725\n"
     ]
    },
    {
     "name": "stderr",
     "output_type": "stream",
     "text": [
      "[I 2023-11-16 16:19:18,597] Trial 35 finished with value: 6.791805137138499 and parameters: {'n_estimators': 50, 'max_depth': 60, 'num_leaves': 25, 'learning_rate': 0.211}. Best is trial 26 with value: 6.711997672986595.\n"
     ]
    },
    {
     "name": "stdout",
     "output_type": "stream",
     "text": [
      "6.791805137138499\n"
     ]
    },
    {
     "name": "stderr",
     "output_type": "stream",
     "text": [
      "[I 2023-11-16 16:19:20,216] Trial 36 finished with value: 6.793482957251047 and parameters: {'n_estimators': 220, 'max_depth': 35, 'num_leaves': 10, 'learning_rate': 0.101}. Best is trial 26 with value: 6.711997672986595.\n"
     ]
    },
    {
     "name": "stdout",
     "output_type": "stream",
     "text": [
      "6.793482957251047\n"
     ]
    },
    {
     "name": "stderr",
     "output_type": "stream",
     "text": [
      "[I 2023-11-16 16:19:22,974] Trial 37 finished with value: 6.8830754718866 and parameters: {'n_estimators': 330, 'max_depth': 45, 'num_leaves': 25, 'learning_rate': 0.161}. Best is trial 26 with value: 6.711997672986595.\n"
     ]
    },
    {
     "name": "stdout",
     "output_type": "stream",
     "text": [
      "6.8830754718866\n"
     ]
    },
    {
     "name": "stderr",
     "output_type": "stream",
     "text": [
      "[I 2023-11-16 16:19:25,024] Trial 38 finished with value: 6.7604953986683185 and parameters: {'n_estimators': 160, 'max_depth': 15, 'num_leaves': 35, 'learning_rate': 0.07100000000000001}. Best is trial 26 with value: 6.711997672986595.\n"
     ]
    },
    {
     "name": "stdout",
     "output_type": "stream",
     "text": [
      "6.7604953986683185\n"
     ]
    },
    {
     "name": "stderr",
     "output_type": "stream",
     "text": [
      "[I 2023-11-16 16:19:25,931] Trial 39 finished with value: 6.801372009060521 and parameters: {'n_estimators': 100, 'max_depth': 45, 'num_leaves': 10, 'learning_rate': 0.151}. Best is trial 26 with value: 6.711997672986595.\n"
     ]
    },
    {
     "name": "stdout",
     "output_type": "stream",
     "text": [
      "6.801372009060521\n"
     ]
    },
    {
     "name": "stderr",
     "output_type": "stream",
     "text": [
      "[I 2023-11-16 16:19:31,110] Trial 40 finished with value: 6.929249824856888 and parameters: {'n_estimators': 420, 'max_depth': 55, 'num_leaves': 45, 'learning_rate': 0.171}. Best is trial 26 with value: 6.711997672986595.\n"
     ]
    },
    {
     "name": "stdout",
     "output_type": "stream",
     "text": [
      "6.929249824856888\n"
     ]
    },
    {
     "name": "stderr",
     "output_type": "stream",
     "text": [
      "[I 2023-11-16 16:19:33,248] Trial 41 finished with value: 6.765508067062884 and parameters: {'n_estimators': 180, 'max_depth': 15, 'num_leaves': 30, 'learning_rate': 0.061}. Best is trial 26 with value: 6.711997672986595.\n"
     ]
    },
    {
     "name": "stdout",
     "output_type": "stream",
     "text": [
      "6.765508067062884\n"
     ]
    },
    {
     "name": "stderr",
     "output_type": "stream",
     "text": [
      "[I 2023-11-16 16:19:35,176] Trial 42 finished with value: 6.749082779214364 and parameters: {'n_estimators': 140, 'max_depth': 10, 'num_leaves': 35, 'learning_rate': 0.07100000000000001}. Best is trial 26 with value: 6.711997672986595.\n"
     ]
    },
    {
     "name": "stdout",
     "output_type": "stream",
     "text": [
      "6.749082779214364\n"
     ]
    },
    {
     "name": "stderr",
     "output_type": "stream",
     "text": [
      "[I 2023-11-16 16:19:36,621] Trial 43 finished with value: 6.745659246656426 and parameters: {'n_estimators': 90, 'max_depth': 10, 'num_leaves': 40, 'learning_rate': 0.091}. Best is trial 26 with value: 6.711997672986595.\n"
     ]
    },
    {
     "name": "stdout",
     "output_type": "stream",
     "text": [
      "6.745659246656426\n"
     ]
    },
    {
     "name": "stderr",
     "output_type": "stream",
     "text": [
      "[I 2023-11-16 16:19:39,859] Trial 44 finished with value: 6.811629405360123 and parameters: {'n_estimators': 270, 'max_depth': 20, 'num_leaves': 40, 'learning_rate': 0.091}. Best is trial 26 with value: 6.711997672986595.\n"
     ]
    },
    {
     "name": "stdout",
     "output_type": "stream",
     "text": [
      "6.811629405360123\n"
     ]
    },
    {
     "name": "stderr",
     "output_type": "stream",
     "text": [
      "[I 2023-11-16 16:19:42,263] Trial 45 finished with value: 6.762885122543235 and parameters: {'n_estimators': 140, 'max_depth': 10, 'num_leaves': 50, 'learning_rate': 0.041}. Best is trial 26 with value: 6.711997672986595.\n"
     ]
    },
    {
     "name": "stdout",
     "output_type": "stream",
     "text": [
      "6.762885122543235\n"
     ]
    },
    {
     "name": "stderr",
     "output_type": "stream",
     "text": [
      "[I 2023-11-16 16:19:43,563] Trial 46 finished with value: 6.776110387329896 and parameters: {'n_estimators': 100, 'max_depth': 5, 'num_leaves': 55, 'learning_rate': 0.07100000000000001}. Best is trial 26 with value: 6.711997672986595.\n"
     ]
    },
    {
     "name": "stdout",
     "output_type": "stream",
     "text": [
      "6.776110387329896\n"
     ]
    },
    {
     "name": "stderr",
     "output_type": "stream",
     "text": [
      "[I 2023-11-16 16:19:48,684] Trial 47 finished with value: 6.760374139074458 and parameters: {'n_estimators': 230, 'max_depth': 25, 'num_leaves': 70, 'learning_rate': 0.021}. Best is trial 26 with value: 6.711997672986595.\n"
     ]
    },
    {
     "name": "stdout",
     "output_type": "stream",
     "text": [
      "6.760374139074458\n"
     ]
    },
    {
     "name": "stderr",
     "output_type": "stream",
     "text": [
      "[I 2023-11-16 16:19:49,997] Trial 48 finished with value: 6.730437903132929 and parameters: {'n_estimators': 90, 'max_depth': 10, 'num_leaves': 35, 'learning_rate': 0.091}. Best is trial 26 with value: 6.711997672986595.\n"
     ]
    },
    {
     "name": "stdout",
     "output_type": "stream",
     "text": [
      "6.730437903132929\n"
     ]
    },
    {
     "name": "stderr",
     "output_type": "stream",
     "text": [
      "[I 2023-11-16 16:19:51,383] Trial 49 finished with value: 6.751734187161318 and parameters: {'n_estimators': 90, 'max_depth': 25, 'num_leaves': 40, 'learning_rate': 0.091}. Best is trial 26 with value: 6.711997672986595.\n"
     ]
    },
    {
     "name": "stdout",
     "output_type": "stream",
     "text": [
      "6.751734187161318\n"
     ]
    },
    {
     "name": "stderr",
     "output_type": "stream",
     "text": [
      "[I 2023-11-16 16:19:54,058] Trial 50 finished with value: 6.832527213339005 and parameters: {'n_estimators': 300, 'max_depth': 10, 'num_leaves': 25, 'learning_rate': 0.111}. Best is trial 26 with value: 6.711997672986595.\n"
     ]
    },
    {
     "name": "stdout",
     "output_type": "stream",
     "text": [
      "6.832527213339005\n"
     ]
    },
    {
     "name": "stderr",
     "output_type": "stream",
     "text": [
      "[I 2023-11-16 16:19:56,000] Trial 51 finished with value: 6.75973247633932 and parameters: {'n_estimators': 130, 'max_depth': 10, 'num_leaves': 35, 'learning_rate': 0.061}. Best is trial 26 with value: 6.711997672986595.\n"
     ]
    },
    {
     "name": "stdout",
     "output_type": "stream",
     "text": [
      "6.75973247633932\n"
     ]
    },
    {
     "name": "stderr",
     "output_type": "stream",
     "text": [
      "[I 2023-11-16 16:19:58,104] Trial 52 finished with value: 6.812465247661493 and parameters: {'n_estimators': 200, 'max_depth': 5, 'num_leaves': 50, 'learning_rate': 0.081}. Best is trial 26 with value: 6.711997672986595.\n"
     ]
    },
    {
     "name": "stdout",
     "output_type": "stream",
     "text": [
      "6.812465247661493\n"
     ]
    },
    {
     "name": "stderr",
     "output_type": "stream",
     "text": [
      "[I 2023-11-16 16:19:59,504] Trial 53 finished with value: 6.7500726727172475 and parameters: {'n_estimators': 90, 'max_depth': 20, 'num_leaves': 30, 'learning_rate': 0.101}. Best is trial 26 with value: 6.711997672986595.\n"
     ]
    },
    {
     "name": "stdout",
     "output_type": "stream",
     "text": [
      "6.7500726727172475\n"
     ]
    },
    {
     "name": "stderr",
     "output_type": "stream",
     "text": [
      "[I 2023-11-16 16:20:06,310] Trial 54 finished with value: 6.814222713035901 and parameters: {'n_estimators': 610, 'max_depth': 10, 'num_leaves': 40, 'learning_rate': 0.051000000000000004}. Best is trial 26 with value: 6.711997672986595.\n"
     ]
    },
    {
     "name": "stdout",
     "output_type": "stream",
     "text": [
      "6.814222713035901\n"
     ]
    },
    {
     "name": "stderr",
     "output_type": "stream",
     "text": [
      "[I 2023-11-16 16:20:07,815] Trial 55 finished with value: 6.796036476126121 and parameters: {'n_estimators': 160, 'max_depth': 20, 'num_leaves': 20, 'learning_rate': 0.131}. Best is trial 26 with value: 6.711997672986595.\n"
     ]
    },
    {
     "name": "stdout",
     "output_type": "stream",
     "text": [
      "6.796036476126121\n"
     ]
    },
    {
     "name": "stderr",
     "output_type": "stream",
     "text": [
      "[I 2023-11-16 16:20:15,071] Trial 56 finished with value: 6.927126553406156 and parameters: {'n_estimators': 820, 'max_depth': 35, 'num_leaves': 35, 'learning_rate': 0.091}. Best is trial 26 with value: 6.711997672986595.\n"
     ]
    },
    {
     "name": "stdout",
     "output_type": "stream",
     "text": [
      "6.927126553406156\n"
     ]
    },
    {
     "name": "stderr",
     "output_type": "stream",
     "text": [
      "[I 2023-11-16 16:20:17,165] Trial 57 finished with value: 6.876784615637942 and parameters: {'n_estimators': 80, 'max_depth': 30, 'num_leaves': 85, 'learning_rate': 0.251}. Best is trial 26 with value: 6.711997672986595.\n"
     ]
    },
    {
     "name": "stdout",
     "output_type": "stream",
     "text": [
      "6.876784615637942\n"
     ]
    },
    {
     "name": "stderr",
     "output_type": "stream",
     "text": [
      "[I 2023-11-16 16:20:19,416] Trial 58 finished with value: 6.819787261936825 and parameters: {'n_estimators': 190, 'max_depth': 15, 'num_leaves': 30, 'learning_rate': 0.111}. Best is trial 26 with value: 6.711997672986595.\n"
     ]
    },
    {
     "name": "stdout",
     "output_type": "stream",
     "text": [
      "6.819787261936825\n"
     ]
    },
    {
     "name": "stderr",
     "output_type": "stream",
     "text": [
      "[I 2023-11-16 16:20:23,049] Trial 59 finished with value: 6.832154049061037 and parameters: {'n_estimators': 250, 'max_depth': 25, 'num_leaves': 60, 'learning_rate': 0.081}. Best is trial 26 with value: 6.711997672986595.\n"
     ]
    },
    {
     "name": "stdout",
     "output_type": "stream",
     "text": [
      "6.832154049061037\n"
     ]
    },
    {
     "name": "stderr",
     "output_type": "stream",
     "text": [
      "[I 2023-11-16 16:20:24,411] Trial 60 finished with value: 6.751262521499428 and parameters: {'n_estimators': 70, 'max_depth': 50, 'num_leaves': 50, 'learning_rate': 0.07100000000000001}. Best is trial 26 with value: 6.711997672986595.\n"
     ]
    },
    {
     "name": "stdout",
     "output_type": "stream",
     "text": [
      "6.751262521499428\n"
     ]
    },
    {
     "name": "stderr",
     "output_type": "stream",
     "text": [
      "[I 2023-11-16 16:20:25,843] Trial 61 finished with value: 6.740318649282157 and parameters: {'n_estimators': 120, 'max_depth': 20, 'num_leaves': 25, 'learning_rate': 0.101}. Best is trial 26 with value: 6.711997672986595.\n"
     ]
    },
    {
     "name": "stdout",
     "output_type": "stream",
     "text": [
      "6.740318649282157\n"
     ]
    },
    {
     "name": "stderr",
     "output_type": "stream",
     "text": [
      "[I 2023-11-16 16:20:27,370] Trial 62 finished with value: 6.796707326706364 and parameters: {'n_estimators': 140, 'max_depth': 10, 'num_leaves': 25, 'learning_rate': 0.111}. Best is trial 26 with value: 6.711997672986595.\n"
     ]
    },
    {
     "name": "stdout",
     "output_type": "stream",
     "text": [
      "6.796707326706364\n"
     ]
    },
    {
     "name": "stderr",
     "output_type": "stream",
     "text": [
      "[I 2023-11-16 16:20:28,660] Trial 63 finished with value: 6.815574013022208 and parameters: {'n_estimators': 170, 'max_depth': 5, 'num_leaves': 10, 'learning_rate': 0.121}. Best is trial 26 with value: 6.711997672986595.\n"
     ]
    },
    {
     "name": "stdout",
     "output_type": "stream",
     "text": [
      "6.815574013022208\n"
     ]
    },
    {
     "name": "stderr",
     "output_type": "stream",
     "text": [
      "[I 2023-11-16 16:20:30,004] Trial 64 finished with value: 6.775326243088075 and parameters: {'n_estimators': 120, 'max_depth': 15, 'num_leaves': 25, 'learning_rate': 0.14100000000000001}. Best is trial 26 with value: 6.711997672986595.\n"
     ]
    },
    {
     "name": "stdout",
     "output_type": "stream",
     "text": [
      "6.775326243088075\n"
     ]
    },
    {
     "name": "stderr",
     "output_type": "stream",
     "text": [
      "[I 2023-11-16 16:20:30,994] Trial 65 finished with value: 6.767346834867027 and parameters: {'n_estimators': 70, 'max_depth': 20, 'num_leaves': 20, 'learning_rate': 0.101}. Best is trial 26 with value: 6.711997672986595.\n"
     ]
    },
    {
     "name": "stdout",
     "output_type": "stream",
     "text": [
      "6.767346834867027\n"
     ]
    },
    {
     "name": "stderr",
     "output_type": "stream",
     "text": [
      "[I 2023-11-16 16:20:34,428] Trial 66 finished with value: 6.8129875069271035 and parameters: {'n_estimators': 220, 'max_depth': 60, 'num_leaves': 45, 'learning_rate': 0.081}. Best is trial 26 with value: 6.711997672986595.\n"
     ]
    },
    {
     "name": "stdout",
     "output_type": "stream",
     "text": [
      "6.8129875069271035\n"
     ]
    },
    {
     "name": "stderr",
     "output_type": "stream",
     "text": [
      "[I 2023-11-16 16:20:35,678] Trial 67 finished with value: 6.733150129809787 and parameters: {'n_estimators': 120, 'max_depth': 15, 'num_leaves': 15, 'learning_rate': 0.051000000000000004}. Best is trial 26 with value: 6.711997672986595.\n"
     ]
    },
    {
     "name": "stdout",
     "output_type": "stream",
     "text": [
      "6.733150129809787\n"
     ]
    },
    {
     "name": "stderr",
     "output_type": "stream",
     "text": [
      "[I 2023-11-16 16:20:37,152] Trial 68 finished with value: 6.733150129809787 and parameters: {'n_estimators': 120, 'max_depth': 15, 'num_leaves': 15, 'learning_rate': 0.051000000000000004}. Best is trial 26 with value: 6.711997672986595.\n"
     ]
    },
    {
     "name": "stdout",
     "output_type": "stream",
     "text": [
      "6.733150129809787\n"
     ]
    },
    {
     "name": "stderr",
     "output_type": "stream",
     "text": [
      "[I 2023-11-16 16:20:38,139] Trial 69 finished with value: 7.050993572249462 and parameters: {'n_estimators': 50, 'max_depth': 15, 'num_leaves': 15, 'learning_rate': 0.031}. Best is trial 26 with value: 6.711997672986595.\n"
     ]
    },
    {
     "name": "stdout",
     "output_type": "stream",
     "text": [
      "7.050993572249462\n"
     ]
    },
    {
     "name": "stderr",
     "output_type": "stream",
     "text": [
      "[I 2023-11-16 16:20:39,534] Trial 70 finished with value: 7.263137839031296 and parameters: {'n_estimators': 110, 'max_depth': 30, 'num_leaves': 10, 'learning_rate': 0.011}. Best is trial 26 with value: 6.711997672986595.\n"
     ]
    },
    {
     "name": "stdout",
     "output_type": "stream",
     "text": [
      "7.263137839031296\n"
     ]
    },
    {
     "name": "stderr",
     "output_type": "stream",
     "text": [
      "[I 2023-11-16 16:20:41,557] Trial 71 finished with value: 6.73436963702964 and parameters: {'n_estimators': 190, 'max_depth': 25, 'num_leaves': 15, 'learning_rate': 0.051000000000000004}. Best is trial 26 with value: 6.711997672986595.\n"
     ]
    },
    {
     "name": "stdout",
     "output_type": "stream",
     "text": [
      "6.73436963702964\n"
     ]
    },
    {
     "name": "stderr",
     "output_type": "stream",
     "text": [
      "[I 2023-11-16 16:20:43,614] Trial 72 finished with value: 6.742813597840439 and parameters: {'n_estimators': 190, 'max_depth': 25, 'num_leaves': 15, 'learning_rate': 0.041}. Best is trial 26 with value: 6.711997672986595.\n"
     ]
    },
    {
     "name": "stdout",
     "output_type": "stream",
     "text": [
      "6.742813597840439\n"
     ]
    },
    {
     "name": "stderr",
     "output_type": "stream",
     "text": [
      "[I 2023-11-16 16:20:45,861] Trial 73 finished with value: 6.7389058009912315 and parameters: {'n_estimators': 200, 'max_depth': 25, 'num_leaves': 15, 'learning_rate': 0.041}. Best is trial 26 with value: 6.711997672986595.\n"
     ]
    },
    {
     "name": "stdout",
     "output_type": "stream",
     "text": [
      "6.7389058009912315\n"
     ]
    },
    {
     "name": "stderr",
     "output_type": "stream",
     "text": [
      "[I 2023-11-16 16:20:48,203] Trial 74 finished with value: 6.748332959039098 and parameters: {'n_estimators': 210, 'max_depth': 35, 'num_leaves': 20, 'learning_rate': 0.051000000000000004}. Best is trial 26 with value: 6.711997672986595.\n"
     ]
    },
    {
     "name": "stdout",
     "output_type": "stream",
     "text": [
      "6.748332959039098\n"
     ]
    },
    {
     "name": "stderr",
     "output_type": "stream",
     "text": [
      "[I 2023-11-16 16:20:49,832] Trial 75 finished with value: 6.825608066274348 and parameters: {'n_estimators': 120, 'max_depth': 20, 'num_leaves': 15, 'learning_rate': 0.021}. Best is trial 26 with value: 6.711997672986595.\n"
     ]
    },
    {
     "name": "stdout",
     "output_type": "stream",
     "text": [
      "6.825608066274348\n"
     ]
    },
    {
     "name": "stderr",
     "output_type": "stream",
     "text": [
      "[I 2023-11-16 16:20:51,401] Trial 76 finished with value: 6.773056462068757 and parameters: {'n_estimators': 160, 'max_depth': 30, 'num_leaves': 10, 'learning_rate': 0.051000000000000004}. Best is trial 26 with value: 6.711997672986595.\n"
     ]
    },
    {
     "name": "stdout",
     "output_type": "stream",
     "text": [
      "6.773056462068757\n"
     ]
    },
    {
     "name": "stderr",
     "output_type": "stream",
     "text": [
      "[I 2023-11-16 16:20:53,730] Trial 77 finished with value: 6.759432065410998 and parameters: {'n_estimators': 250, 'max_depth': 25, 'num_leaves': 15, 'learning_rate': 0.041}. Best is trial 26 with value: 6.711997672986595.\n"
     ]
    },
    {
     "name": "stdout",
     "output_type": "stream",
     "text": [
      "6.759432065410998\n"
     ]
    },
    {
     "name": "stderr",
     "output_type": "stream",
     "text": [
      "[I 2023-11-16 16:20:56,675] Trial 78 finished with value: 6.740328694629197 and parameters: {'n_estimators': 300, 'max_depth': 35, 'num_leaves': 20, 'learning_rate': 0.031}. Best is trial 26 with value: 6.711997672986595.\n"
     ]
    },
    {
     "name": "stdout",
     "output_type": "stream",
     "text": [
      "6.740328694629197\n"
     ]
    },
    {
     "name": "stderr",
     "output_type": "stream",
     "text": [
      "[I 2023-11-16 16:20:57,361] Trial 79 finished with value: 6.803622283200433 and parameters: {'n_estimators': 70, 'max_depth': 20, 'num_leaves': 5, 'learning_rate': 0.061}. Best is trial 26 with value: 6.711997672986595.\n"
     ]
    },
    {
     "name": "stdout",
     "output_type": "stream",
     "text": [
      "6.803622283200433\n"
     ]
    },
    {
     "name": "stderr",
     "output_type": "stream",
     "text": [
      "[I 2023-11-16 16:20:58,997] Trial 80 finished with value: 6.8111899921027135 and parameters: {'n_estimators': 120, 'max_depth': 90, 'num_leaves': 25, 'learning_rate': 0.021}. Best is trial 26 with value: 6.711997672986595.\n"
     ]
    },
    {
     "name": "stdout",
     "output_type": "stream",
     "text": [
      "6.8111899921027135\n"
     ]
    },
    {
     "name": "stderr",
     "output_type": "stream",
     "text": [
      "[I 2023-11-16 16:21:01,938] Trial 81 finished with value: 6.740328694629197 and parameters: {'n_estimators': 300, 'max_depth': 40, 'num_leaves': 20, 'learning_rate': 0.031}. Best is trial 26 with value: 6.711997672986595.\n"
     ]
    },
    {
     "name": "stdout",
     "output_type": "stream",
     "text": [
      "6.740328694629197\n"
     ]
    },
    {
     "name": "stderr",
     "output_type": "stream",
     "text": [
      "[I 2023-11-16 16:21:06,345] Trial 82 finished with value: 6.737957018674389 and parameters: {'n_estimators': 510, 'max_depth': 35, 'num_leaves': 10, 'learning_rate': 0.011}. Best is trial 26 with value: 6.711997672986595.\n"
     ]
    },
    {
     "name": "stdout",
     "output_type": "stream",
     "text": [
      "6.737957018674389\n"
     ]
    },
    {
     "name": "stderr",
     "output_type": "stream",
     "text": [
      "[I 2023-11-16 16:21:10,621] Trial 83 finished with value: 7.996404929398255 and parameters: {'n_estimators': 590, 'max_depth': 30, 'num_leaves': 10, 'learning_rate': 0.001}. Best is trial 26 with value: 6.711997672986595.\n"
     ]
    },
    {
     "name": "stdout",
     "output_type": "stream",
     "text": [
      "7.996404929398255\n"
     ]
    },
    {
     "name": "stderr",
     "output_type": "stream",
     "text": [
      "[I 2023-11-16 16:21:14,244] Trial 84 finished with value: 6.779190849687929 and parameters: {'n_estimators': 730, 'max_depth': 15, 'num_leaves': 5, 'learning_rate': 0.061}. Best is trial 26 with value: 6.711997672986595.\n"
     ]
    },
    {
     "name": "stdout",
     "output_type": "stream",
     "text": [
      "6.779190849687929\n"
     ]
    },
    {
     "name": "stderr",
     "output_type": "stream",
     "text": [
      "[I 2023-11-16 16:21:20,822] Trial 85 finished with value: 6.8136084549198825 and parameters: {'n_estimators': 900, 'max_depth': 25, 'num_leaves': 15, 'learning_rate': 0.051000000000000004}. Best is trial 26 with value: 6.711997672986595.\n"
     ]
    },
    {
     "name": "stdout",
     "output_type": "stream",
     "text": [
      "6.8136084549198825\n"
     ]
    },
    {
     "name": "stderr",
     "output_type": "stream",
     "text": [
      "[I 2023-11-16 16:21:24,530] Trial 86 finished with value: 6.745322379001046 and parameters: {'n_estimators': 470, 'max_depth': 35, 'num_leaves': 10, 'learning_rate': 0.011}. Best is trial 26 with value: 6.711997672986595.\n"
     ]
    },
    {
     "name": "stdout",
     "output_type": "stream",
     "text": [
      "6.745322379001046\n"
     ]
    },
    {
     "name": "stderr",
     "output_type": "stream",
     "text": [
      "[I 2023-11-16 16:21:29,420] Trial 87 finished with value: 6.74773438540717 and parameters: {'n_estimators': 380, 'max_depth': 40, 'num_leaves': 30, 'learning_rate': 0.011}. Best is trial 26 with value: 6.711997672986595.\n"
     ]
    },
    {
     "name": "stdout",
     "output_type": "stream",
     "text": [
      "6.74773438540717\n"
     ]
    },
    {
     "name": "stderr",
     "output_type": "stream",
     "text": [
      "[I 2023-11-16 16:21:43,212] Trial 88 finished with value: 6.870055084216734 and parameters: {'n_estimators': 690, 'max_depth': 20, 'num_leaves': 105, 'learning_rate': 0.031}. Best is trial 26 with value: 6.711997672986595.\n"
     ]
    },
    {
     "name": "stdout",
     "output_type": "stream",
     "text": [
      "6.870055084216734\n"
     ]
    },
    {
     "name": "stderr",
     "output_type": "stream",
     "text": [
      "[I 2023-11-16 16:21:46,267] Trial 89 finished with value: 6.7556178545077294 and parameters: {'n_estimators': 330, 'max_depth': 45, 'num_leaves': 20, 'learning_rate': 0.041}. Best is trial 26 with value: 6.711997672986595.\n"
     ]
    },
    {
     "name": "stdout",
     "output_type": "stream",
     "text": [
      "6.7556178545077294\n"
     ]
    },
    {
     "name": "stderr",
     "output_type": "stream",
     "text": [
      "[I 2023-11-16 16:21:47,702] Trial 90 finished with value: 6.732581700070403 and parameters: {'n_estimators': 150, 'max_depth': 30, 'num_leaves': 15, 'learning_rate': 0.07100000000000001}. Best is trial 26 with value: 6.711997672986595.\n"
     ]
    },
    {
     "name": "stdout",
     "output_type": "stream",
     "text": [
      "6.732581700070403\n"
     ]
    },
    {
     "name": "stderr",
     "output_type": "stream",
     "text": [
      "[I 2023-11-16 16:21:51,696] Trial 91 finished with value: 6.8306807654499115 and parameters: {'n_estimators': 540, 'max_depth': 30, 'num_leaves': 15, 'learning_rate': 0.07100000000000001}. Best is trial 26 with value: 6.711997672986595.\n"
     ]
    },
    {
     "name": "stdout",
     "output_type": "stream",
     "text": [
      "6.8306807654499115\n"
     ]
    },
    {
     "name": "stderr",
     "output_type": "stream",
     "text": [
      "[I 2023-11-16 16:21:53,120] Trial 92 finished with value: 6.724518569941136 and parameters: {'n_estimators': 170, 'max_depth': 25, 'num_leaves': 5, 'learning_rate': 0.061}. Best is trial 26 with value: 6.711997672986595.\n"
     ]
    },
    {
     "name": "stdout",
     "output_type": "stream",
     "text": [
      "6.724518569941136\n"
     ]
    },
    {
     "name": "stderr",
     "output_type": "stream",
     "text": [
      "[I 2023-11-16 16:21:54,462] Trial 93 finished with value: 6.730355065501978 and parameters: {'n_estimators': 180, 'max_depth': 25, 'num_leaves': 5, 'learning_rate': 0.061}. Best is trial 26 with value: 6.711997672986595.\n"
     ]
    },
    {
     "name": "stdout",
     "output_type": "stream",
     "text": [
      "6.730355065501978\n"
     ]
    },
    {
     "name": "stderr",
     "output_type": "stream",
     "text": [
      "[I 2023-11-16 16:21:55,495] Trial 94 finished with value: 6.720358467702402 and parameters: {'n_estimators': 150, 'max_depth': 35, 'num_leaves': 5, 'learning_rate': 0.061}. Best is trial 26 with value: 6.711997672986595.\n"
     ]
    },
    {
     "name": "stdout",
     "output_type": "stream",
     "text": [
      "6.720358467702402\n"
     ]
    },
    {
     "name": "stderr",
     "output_type": "stream",
     "text": [
      "[I 2023-11-16 16:21:56,571] Trial 95 finished with value: 6.721909644777738 and parameters: {'n_estimators': 160, 'max_depth': 30, 'num_leaves': 5, 'learning_rate': 0.061}. Best is trial 26 with value: 6.711997672986595.\n"
     ]
    },
    {
     "name": "stdout",
     "output_type": "stream",
     "text": [
      "6.721909644777738\n"
     ]
    },
    {
     "name": "stderr",
     "output_type": "stream",
     "text": [
      "[I 2023-11-16 16:21:57,668] Trial 96 finished with value: 6.721909644777738 and parameters: {'n_estimators': 160, 'max_depth': 30, 'num_leaves': 5, 'learning_rate': 0.061}. Best is trial 26 with value: 6.711997672986595.\n"
     ]
    },
    {
     "name": "stdout",
     "output_type": "stream",
     "text": [
      "6.721909644777738\n"
     ]
    },
    {
     "name": "stderr",
     "output_type": "stream",
     "text": [
      "[I 2023-11-16 16:21:58,838] Trial 97 finished with value: 6.721909644777738 and parameters: {'n_estimators': 160, 'max_depth': 30, 'num_leaves': 5, 'learning_rate': 0.061}. Best is trial 26 with value: 6.711997672986595.\n"
     ]
    },
    {
     "name": "stdout",
     "output_type": "stream",
     "text": [
      "6.721909644777738\n"
     ]
    },
    {
     "name": "stderr",
     "output_type": "stream",
     "text": [
      "[I 2023-11-16 16:21:59,897] Trial 98 finished with value: 6.713016176500277 and parameters: {'n_estimators': 150, 'max_depth': 40, 'num_leaves': 5, 'learning_rate': 0.081}. Best is trial 26 with value: 6.711997672986595.\n"
     ]
    },
    {
     "name": "stdout",
     "output_type": "stream",
     "text": [
      "6.713016176500277\n"
     ]
    },
    {
     "name": "stderr",
     "output_type": "stream",
     "text": [
      "[I 2023-11-16 16:22:01,362] Trial 99 finished with value: 6.763317602877557 and parameters: {'n_estimators': 230, 'max_depth': 50, 'num_leaves': 5, 'learning_rate': 0.081}. Best is trial 26 with value: 6.711997672986595.\n"
     ]
    },
    {
     "name": "stdout",
     "output_type": "stream",
     "text": [
      "6.763317602877557\n"
     ]
    },
    {
     "name": "stderr",
     "output_type": "stream",
     "text": [
      "[I 2023-11-16 16:22:02,490] Trial 100 finished with value: 6.724518569941136 and parameters: {'n_estimators': 170, 'max_depth': 45, 'num_leaves': 5, 'learning_rate': 0.061}. Best is trial 26 with value: 6.711997672986595.\n"
     ]
    },
    {
     "name": "stdout",
     "output_type": "stream",
     "text": [
      "6.724518569941136\n"
     ]
    },
    {
     "name": "stderr",
     "output_type": "stream",
     "text": [
      "[I 2023-11-16 16:22:03,618] Trial 101 finished with value: 6.724518569941136 and parameters: {'n_estimators': 170, 'max_depth': 45, 'num_leaves': 5, 'learning_rate': 0.061}. Best is trial 26 with value: 6.711997672986595.\n"
     ]
    },
    {
     "name": "stdout",
     "output_type": "stream",
     "text": [
      "6.724518569941136\n"
     ]
    },
    {
     "name": "stderr",
     "output_type": "stream",
     "text": [
      "[I 2023-11-16 16:22:04,746] Trial 102 finished with value: 6.724518569941136 and parameters: {'n_estimators': 170, 'max_depth': 45, 'num_leaves': 5, 'learning_rate': 0.061}. Best is trial 26 with value: 6.711997672986595.\n"
     ]
    },
    {
     "name": "stdout",
     "output_type": "stream",
     "text": [
      "6.724518569941136\n"
     ]
    },
    {
     "name": "stderr",
     "output_type": "stream",
     "text": [
      "[I 2023-11-16 16:22:05,839] Trial 103 finished with value: 6.721909644777738 and parameters: {'n_estimators': 160, 'max_depth': 45, 'num_leaves': 5, 'learning_rate': 0.061}. Best is trial 26 with value: 6.711997672986595.\n"
     ]
    },
    {
     "name": "stdout",
     "output_type": "stream",
     "text": [
      "6.721909644777738\n"
     ]
    },
    {
     "name": "stderr",
     "output_type": "stream",
     "text": [
      "[I 2023-11-16 16:22:07,778] Trial 104 finished with value: 6.795488182033065 and parameters: {'n_estimators': 270, 'max_depth': 40, 'num_leaves': 5, 'learning_rate': 0.07100000000000001}. Best is trial 26 with value: 6.711997672986595.\n"
     ]
    },
    {
     "name": "stdout",
     "output_type": "stream",
     "text": [
      "6.795488182033065\n"
     ]
    },
    {
     "name": "stderr",
     "output_type": "stream",
     "text": [
      "[I 2023-11-16 16:22:09,326] Trial 105 finished with value: 6.753119324662533 and parameters: {'n_estimators': 150, 'max_depth': 45, 'num_leaves': 10, 'learning_rate': 0.07100000000000001}. Best is trial 26 with value: 6.711997672986595.\n"
     ]
    },
    {
     "name": "stdout",
     "output_type": "stream",
     "text": [
      "6.753119324662533\n"
     ]
    },
    {
     "name": "stderr",
     "output_type": "stream",
     "text": [
      "[I 2023-11-16 16:22:10,706] Trial 106 finished with value: 6.753647799334949 and parameters: {'n_estimators': 210, 'max_depth': 50, 'num_leaves': 5, 'learning_rate': 0.081}. Best is trial 26 with value: 6.711997672986595.\n"
     ]
    },
    {
     "name": "stdout",
     "output_type": "stream",
     "text": [
      "6.753647799334949\n"
     ]
    },
    {
     "name": "stderr",
     "output_type": "stream",
     "text": [
      "[I 2023-11-16 16:22:12,197] Trial 107 finished with value: 6.753106094561633 and parameters: {'n_estimators': 240, 'max_depth': 40, 'num_leaves': 5, 'learning_rate': 0.061}. Best is trial 26 with value: 6.711997672986595.\n"
     ]
    },
    {
     "name": "stdout",
     "output_type": "stream",
     "text": [
      "6.753106094561633\n"
     ]
    },
    {
     "name": "stderr",
     "output_type": "stream",
     "text": [
      "[I 2023-11-16 16:22:13,190] Trial 108 finished with value: 6.713442377830586 and parameters: {'n_estimators': 140, 'max_depth': 35, 'num_leaves': 5, 'learning_rate': 0.081}. Best is trial 26 with value: 6.711997672986595.\n"
     ]
    },
    {
     "name": "stdout",
     "output_type": "stream",
     "text": [
      "6.713442377830586\n"
     ]
    },
    {
     "name": "stderr",
     "output_type": "stream",
     "text": [
      "[I 2023-11-16 16:22:14,348] Trial 109 finished with value: 6.772775520967763 and parameters: {'n_estimators': 140, 'max_depth': 35, 'num_leaves': 10, 'learning_rate': 0.091}. Best is trial 26 with value: 6.711997672986595.\n"
     ]
    },
    {
     "name": "stdout",
     "output_type": "stream",
     "text": [
      "6.772775520967763\n"
     ]
    },
    {
     "name": "stderr",
     "output_type": "stream",
     "text": [
      "[I 2023-11-16 16:22:15,311] Trial 110 finished with value: 6.734507400691786 and parameters: {'n_estimators': 100, 'max_depth': 35, 'num_leaves': 10, 'learning_rate': 0.07100000000000001}. Best is trial 26 with value: 6.711997672986595.\n"
     ]
    },
    {
     "name": "stdout",
     "output_type": "stream",
     "text": [
      "6.734507400691786\n"
     ]
    },
    {
     "name": "stderr",
     "output_type": "stream",
     "text": [
      "[I 2023-11-16 16:22:16,452] Trial 111 finished with value: 6.724518569941136 and parameters: {'n_estimators': 170, 'max_depth': 40, 'num_leaves': 5, 'learning_rate': 0.061}. Best is trial 26 with value: 6.711997672986595.\n"
     ]
    },
    {
     "name": "stdout",
     "output_type": "stream",
     "text": [
      "6.724518569941136\n"
     ]
    },
    {
     "name": "stderr",
     "output_type": "stream",
     "text": [
      "[I 2023-11-16 16:22:17,156] Trial 112 finished with value: 6.746573986844944 and parameters: {'n_estimators': 70, 'max_depth': 50, 'num_leaves': 5, 'learning_rate': 0.081}. Best is trial 26 with value: 6.711997672986595.\n"
     ]
    },
    {
     "name": "stdout",
     "output_type": "stream",
     "text": [
      "6.746573986844944\n"
     ]
    },
    {
     "name": "stderr",
     "output_type": "stream",
     "text": [
      "[I 2023-11-16 16:22:18,379] Trial 113 finished with value: 6.7541326183059525 and parameters: {'n_estimators': 140, 'max_depth': 45, 'num_leaves': 10, 'learning_rate': 0.061}. Best is trial 26 with value: 6.711997672986595.\n"
     ]
    },
    {
     "name": "stdout",
     "output_type": "stream",
     "text": [
      "6.7541326183059525\n"
     ]
    },
    {
     "name": "stderr",
     "output_type": "stream",
     "text": [
      "[I 2023-11-16 16:22:19,614] Trial 114 finished with value: 6.778625115550767 and parameters: {'n_estimators': 190, 'max_depth': 45, 'num_leaves': 5, 'learning_rate': 0.091}. Best is trial 26 with value: 6.711997672986595.\n"
     ]
    },
    {
     "name": "stdout",
     "output_type": "stream",
     "text": [
      "6.778625115550767\n"
     ]
    },
    {
     "name": "stderr",
     "output_type": "stream",
     "text": [
      "[I 2023-11-16 16:22:20,933] Trial 115 finished with value: 6.755722326111003 and parameters: {'n_estimators': 160, 'max_depth': 30, 'num_leaves': 10, 'learning_rate': 0.07100000000000001}. Best is trial 26 with value: 6.711997672986595.\n"
     ]
    },
    {
     "name": "stdout",
     "output_type": "stream",
     "text": [
      "6.755722326111003\n"
     ]
    },
    {
     "name": "stderr",
     "output_type": "stream",
     "text": [
      "[I 2023-11-16 16:22:21,794] Trial 116 finished with value: 6.771925563892533 and parameters: {'n_estimators': 100, 'max_depth': 40, 'num_leaves': 5, 'learning_rate': 0.051000000000000004}. Best is trial 26 with value: 6.711997672986595.\n"
     ]
    },
    {
     "name": "stdout",
     "output_type": "stream",
     "text": [
      "6.771925563892533\n"
     ]
    },
    {
     "name": "stderr",
     "output_type": "stream",
     "text": [
      "[I 2023-11-16 16:22:23,622] Trial 117 finished with value: 6.775864714535787 and parameters: {'n_estimators': 220, 'max_depth': 35, 'num_leaves': 10, 'learning_rate': 0.081}. Best is trial 26 with value: 6.711997672986595.\n"
     ]
    },
    {
     "name": "stdout",
     "output_type": "stream",
     "text": [
      "6.775864714535787\n"
     ]
    },
    {
     "name": "stderr",
     "output_type": "stream",
     "text": [
      "[I 2023-11-16 16:22:25,125] Trial 118 finished with value: 6.761974311150351 and parameters: {'n_estimators': 180, 'max_depth': 30, 'num_leaves': 5, 'learning_rate': 0.041}. Best is trial 26 with value: 6.711997672986595.\n"
     ]
    },
    {
     "name": "stdout",
     "output_type": "stream",
     "text": [
      "6.761974311150351\n"
     ]
    },
    {
     "name": "stderr",
     "output_type": "stream",
     "text": [
      "[I 2023-11-16 16:22:26,058] Trial 119 finished with value: 6.781895344222549 and parameters: {'n_estimators': 80, 'max_depth': 40, 'num_leaves': 5, 'learning_rate': 0.061}. Best is trial 26 with value: 6.711997672986595.\n"
     ]
    },
    {
     "name": "stdout",
     "output_type": "stream",
     "text": [
      "6.781895344222549\n"
     ]
    },
    {
     "name": "stderr",
     "output_type": "stream",
     "text": [
      "[I 2023-11-16 16:22:27,284] Trial 120 finished with value: 6.745447382426726 and parameters: {'n_estimators': 130, 'max_depth': 45, 'num_leaves': 10, 'learning_rate': 0.07100000000000001}. Best is trial 26 with value: 6.711997672986595.\n"
     ]
    },
    {
     "name": "stdout",
     "output_type": "stream",
     "text": [
      "6.745447382426726\n"
     ]
    },
    {
     "name": "stderr",
     "output_type": "stream",
     "text": [
      "[I 2023-11-16 16:22:28,438] Trial 121 finished with value: 6.7422492598025165 and parameters: {'n_estimators': 170, 'max_depth': 50, 'num_leaves': 5, 'learning_rate': 0.051000000000000004}. Best is trial 26 with value: 6.711997672986595.\n"
     ]
    },
    {
     "name": "stdout",
     "output_type": "stream",
     "text": [
      "6.7422492598025165\n"
     ]
    },
    {
     "name": "stderr",
     "output_type": "stream",
     "text": [
      "[I 2023-11-16 16:22:29,705] Trial 122 finished with value: 6.735278733887595 and parameters: {'n_estimators': 200, 'max_depth': 45, 'num_leaves': 5, 'learning_rate': 0.061}. Best is trial 26 with value: 6.711997672986595.\n"
     ]
    },
    {
     "name": "stdout",
     "output_type": "stream",
     "text": [
      "6.735278733887595\n"
     ]
    },
    {
     "name": "stderr",
     "output_type": "stream",
     "text": [
      "[I 2023-11-16 16:22:30,800] Trial 123 finished with value: 6.721909644777738 and parameters: {'n_estimators': 160, 'max_depth': 35, 'num_leaves': 5, 'learning_rate': 0.061}. Best is trial 26 with value: 6.711997672986595.\n"
     ]
    },
    {
     "name": "stdout",
     "output_type": "stream",
     "text": [
      "6.721909644777738\n"
     ]
    },
    {
     "name": "stderr",
     "output_type": "stream",
     "text": [
      "[I 2023-11-16 16:22:33,778] Trial 124 finished with value: 6.826860300517776 and parameters: {'n_estimators': 140, 'max_depth': 35, 'num_leaves': 95, 'learning_rate': 0.081}. Best is trial 26 with value: 6.711997672986595.\n"
     ]
    },
    {
     "name": "stdout",
     "output_type": "stream",
     "text": [
      "6.826860300517776\n"
     ]
    },
    {
     "name": "stderr",
     "output_type": "stream",
     "text": [
      "[I 2023-11-16 16:22:34,780] Trial 125 finished with value: 6.784520169705237 and parameters: {'n_estimators': 110, 'max_depth': 30, 'num_leaves': 10, 'learning_rate': 0.101}. Best is trial 26 with value: 6.711997672986595.\n"
     ]
    },
    {
     "name": "stdout",
     "output_type": "stream",
     "text": [
      "6.784520169705237\n"
     ]
    },
    {
     "name": "stderr",
     "output_type": "stream",
     "text": [
      "[I 2023-11-16 16:22:35,544] Trial 126 finished with value: 6.809646663862371 and parameters: {'n_estimators': 60, 'max_depth': 40, 'num_leaves': 10, 'learning_rate': 0.051000000000000004}. Best is trial 26 with value: 6.711997672986595.\n"
     ]
    },
    {
     "name": "stdout",
     "output_type": "stream",
     "text": [
      "6.809646663862371\n"
     ]
    },
    {
     "name": "stderr",
     "output_type": "stream",
     "text": [
      "[I 2023-11-16 16:22:36,777] Trial 127 finished with value: 6.834566444473034 and parameters: {'n_estimators': 160, 'max_depth': 35, 'num_leaves': 5, 'learning_rate': 0.211}. Best is trial 26 with value: 6.711997672986595.\n"
     ]
    },
    {
     "name": "stdout",
     "output_type": "stream",
     "text": [
      "6.834566444473034\n"
     ]
    },
    {
     "name": "stderr",
     "output_type": "stream",
     "text": [
      "[I 2023-11-16 16:22:38,519] Trial 128 finished with value: 6.76063926172921 and parameters: {'n_estimators': 210, 'max_depth': 30, 'num_leaves': 5, 'learning_rate': 0.07100000000000001}. Best is trial 26 with value: 6.711997672986595.\n"
     ]
    },
    {
     "name": "stdout",
     "output_type": "stream",
     "text": [
      "6.76063926172921\n"
     ]
    },
    {
     "name": "stderr",
     "output_type": "stream",
     "text": [
      "[I 2023-11-16 16:22:39,768] Trial 129 finished with value: 6.773833184356165 and parameters: {'n_estimators': 90, 'max_depth': 35, 'num_leaves': 10, 'learning_rate': 0.051000000000000004}. Best is trial 26 with value: 6.711997672986595.\n"
     ]
    },
    {
     "name": "stdout",
     "output_type": "stream",
     "text": [
      "6.773833184356165\n"
     ]
    },
    {
     "name": "stderr",
     "output_type": "stream",
     "text": [
      "[I 2023-11-16 16:22:41,679] Trial 130 finished with value: 6.754392143959844 and parameters: {'n_estimators': 250, 'max_depth': 30, 'num_leaves': 5, 'learning_rate': 0.061}. Best is trial 26 with value: 6.711997672986595.\n"
     ]
    },
    {
     "name": "stdout",
     "output_type": "stream",
     "text": [
      "6.754392143959844\n"
     ]
    },
    {
     "name": "stderr",
     "output_type": "stream",
     "text": [
      "[I 2023-11-16 16:22:42,903] Trial 131 finished with value: 6.721909644777738 and parameters: {'n_estimators': 160, 'max_depth': 40, 'num_leaves': 5, 'learning_rate': 0.061}. Best is trial 26 with value: 6.711997672986595.\n"
     ]
    },
    {
     "name": "stdout",
     "output_type": "stream",
     "text": [
      "6.721909644777738\n"
     ]
    },
    {
     "name": "stderr",
     "output_type": "stream",
     "text": [
      "[I 2023-11-16 16:22:44,488] Trial 132 finished with value: 6.771292881205003 and parameters: {'n_estimators': 180, 'max_depth': 40, 'num_leaves': 10, 'learning_rate': 0.07100000000000001}. Best is trial 26 with value: 6.711997672986595.\n"
     ]
    },
    {
     "name": "stdout",
     "output_type": "stream",
     "text": [
      "6.771292881205003\n"
     ]
    },
    {
     "name": "stderr",
     "output_type": "stream",
     "text": [
      "[I 2023-11-16 16:22:45,547] Trial 133 finished with value: 6.777585916141906 and parameters: {'n_estimators': 130, 'max_depth': 35, 'num_leaves': 5, 'learning_rate': 0.041}. Best is trial 26 with value: 6.711997672986595.\n"
     ]
    },
    {
     "name": "stdout",
     "output_type": "stream",
     "text": [
      "6.777585916141906\n"
     ]
    },
    {
     "name": "stderr",
     "output_type": "stream",
     "text": [
      "[I 2023-11-16 16:22:46,824] Trial 134 finished with value: 6.721547873003104 and parameters: {'n_estimators': 160, 'max_depth': 40, 'num_leaves': 5, 'learning_rate': 0.081}. Best is trial 26 with value: 6.711997672986595.\n"
     ]
    },
    {
     "name": "stdout",
     "output_type": "stream",
     "text": [
      "6.721547873003104\n"
     ]
    },
    {
     "name": "stderr",
     "output_type": "stream",
     "text": [
      "[I 2023-11-16 16:22:48,064] Trial 135 finished with value: 6.784092910618072 and parameters: {'n_estimators': 150, 'max_depth': 40, 'num_leaves': 10, 'learning_rate': 0.091}. Best is trial 26 with value: 6.711997672986595.\n"
     ]
    },
    {
     "name": "stdout",
     "output_type": "stream",
     "text": [
      "6.784092910618072\n"
     ]
    },
    {
     "name": "stderr",
     "output_type": "stream",
     "text": [
      "[I 2023-11-16 16:22:49,346] Trial 136 finished with value: 6.749510580404115 and parameters: {'n_estimators': 200, 'max_depth': 35, 'num_leaves': 5, 'learning_rate': 0.081}. Best is trial 26 with value: 6.711997672986595.\n"
     ]
    },
    {
     "name": "stdout",
     "output_type": "stream",
     "text": [
      "6.749510580404115\n"
     ]
    },
    {
     "name": "stderr",
     "output_type": "stream",
     "text": [
      "[I 2023-11-16 16:22:50,367] Trial 137 finished with value: 6.776252560173074 and parameters: {'n_estimators': 110, 'max_depth': 40, 'num_leaves': 10, 'learning_rate': 0.091}. Best is trial 26 with value: 6.711997672986595.\n"
     ]
    },
    {
     "name": "stdout",
     "output_type": "stream",
     "text": [
      "6.776252560173074\n"
     ]
    },
    {
     "name": "stderr",
     "output_type": "stream",
     "text": [
      "[I 2023-11-16 16:22:51,757] Trial 138 finished with value: 6.763317602877557 and parameters: {'n_estimators': 230, 'max_depth': 25, 'num_leaves': 5, 'learning_rate': 0.081}. Best is trial 26 with value: 6.711997672986595.\n"
     ]
    },
    {
     "name": "stdout",
     "output_type": "stream",
     "text": [
      "6.763317602877557\n"
     ]
    },
    {
     "name": "stderr",
     "output_type": "stream",
     "text": [
      "[I 2023-11-16 16:22:53,011] Trial 139 finished with value: 6.757618933699162 and parameters: {'n_estimators': 150, 'max_depth': 35, 'num_leaves': 10, 'learning_rate': 0.061}. Best is trial 26 with value: 6.711997672986595.\n"
     ]
    },
    {
     "name": "stdout",
     "output_type": "stream",
     "text": [
      "6.757618933699162\n"
     ]
    },
    {
     "name": "stderr",
     "output_type": "stream",
     "text": [
      "[I 2023-11-16 16:22:54,186] Trial 140 finished with value: 6.745447382426726 and parameters: {'n_estimators': 130, 'max_depth': 30, 'num_leaves': 10, 'learning_rate': 0.07100000000000001}. Best is trial 26 with value: 6.711997672986595.\n"
     ]
    },
    {
     "name": "stdout",
     "output_type": "stream",
     "text": [
      "6.745447382426726\n"
     ]
    },
    {
     "name": "stderr",
     "output_type": "stream",
     "text": [
      "[I 2023-11-16 16:22:55,531] Trial 141 finished with value: 6.730131581981441 and parameters: {'n_estimators': 170, 'max_depth': 35, 'num_leaves': 5, 'learning_rate': 0.07100000000000001}. Best is trial 26 with value: 6.711997672986595.\n"
     ]
    },
    {
     "name": "stdout",
     "output_type": "stream",
     "text": [
      "6.730131581981441\n"
     ]
    },
    {
     "name": "stderr",
     "output_type": "stream",
     "text": [
      "[I 2023-11-16 16:22:57,089] Trial 142 finished with value: 6.737869450629054 and parameters: {'n_estimators': 190, 'max_depth': 45, 'num_leaves': 5, 'learning_rate': 0.061}. Best is trial 26 with value: 6.711997672986595.\n"
     ]
    },
    {
     "name": "stdout",
     "output_type": "stream",
     "text": [
      "6.737869450629054\n"
     ]
    },
    {
     "name": "stderr",
     "output_type": "stream",
     "text": [
      "[I 2023-11-16 16:22:58,190] Trial 143 finished with value: 6.745361127862898 and parameters: {'n_estimators': 100, 'max_depth': 40, 'num_leaves': 5, 'learning_rate': 0.151}. Best is trial 26 with value: 6.711997672986595.\n"
     ]
    },
    {
     "name": "stdout",
     "output_type": "stream",
     "text": [
      "6.745361127862898\n"
     ]
    },
    {
     "name": "stderr",
     "output_type": "stream",
     "text": [
      "[I 2023-11-16 16:22:59,489] Trial 144 finished with value: 6.757618933699162 and parameters: {'n_estimators': 150, 'max_depth': 45, 'num_leaves': 10, 'learning_rate': 0.061}. Best is trial 26 with value: 6.711997672986595.\n"
     ]
    },
    {
     "name": "stdout",
     "output_type": "stream",
     "text": [
      "6.757618933699162\n"
     ]
    },
    {
     "name": "stderr",
     "output_type": "stream",
     "text": [
      "[I 2023-11-16 16:23:00,653] Trial 145 finished with value: 6.7422492598025165 and parameters: {'n_estimators': 170, 'max_depth': 40, 'num_leaves': 5, 'learning_rate': 0.051000000000000004}. Best is trial 26 with value: 6.711997672986595.\n"
     ]
    },
    {
     "name": "stdout",
     "output_type": "stream",
     "text": [
      "6.7422492598025165\n"
     ]
    },
    {
     "name": "stderr",
     "output_type": "stream",
     "text": [
      "[I 2023-11-16 16:23:01,616] Trial 146 finished with value: 6.758422038878372 and parameters: {'n_estimators': 130, 'max_depth': 50, 'num_leaves': 5, 'learning_rate': 0.051000000000000004}. Best is trial 26 with value: 6.711997672986595.\n"
     ]
    },
    {
     "name": "stdout",
     "output_type": "stream",
     "text": [
      "6.758422038878372\n"
     ]
    },
    {
     "name": "stderr",
     "output_type": "stream",
     "text": [
      "[I 2023-11-16 16:23:03,700] Trial 147 finished with value: 6.74400097923251 and parameters: {'n_estimators': 220, 'max_depth': 25, 'num_leaves': 15, 'learning_rate': 0.041}. Best is trial 26 with value: 6.711997672986595.\n"
     ]
    },
    {
     "name": "stdout",
     "output_type": "stream",
     "text": [
      "6.74400097923251\n"
     ]
    },
    {
     "name": "stderr",
     "output_type": "stream",
     "text": [
      "[I 2023-11-16 16:23:04,600] Trial 148 finished with value: 6.720299639903606 and parameters: {'n_estimators': 80, 'max_depth': 40, 'num_leaves': 10, 'learning_rate': 0.07100000000000001}. Best is trial 26 with value: 6.711997672986595.\n"
     ]
    },
    {
     "name": "stdout",
     "output_type": "stream",
     "text": [
      "6.720299639903606\n"
     ]
    },
    {
     "name": "stderr",
     "output_type": "stream",
     "text": [
      "[I 2023-11-16 16:23:05,548] Trial 149 finished with value: 6.73760865670728 and parameters: {'n_estimators': 80, 'max_depth': 30, 'num_leaves': 15, 'learning_rate': 0.081}. Best is trial 26 with value: 6.711997672986595.\n",
      "C:\\Users\\Dmser\\AppData\\Local\\Temp\\ipykernel_15412\\1866508612.py:11: SettingWithCopyWarning: \n",
      "A value is trying to be set on a copy of a slice from a DataFrame.\n",
      "Try using .loc[row_indexer,col_indexer] = value instead\n",
      "\n",
      "See the caveats in the documentation: https://pandas.pydata.org/pandas-docs/stable/user_guide/indexing.html#returning-a-view-versus-a-copy\n",
      "  df2_temp[f'milk_yield_{i}'] = df2[f'milk_yield_{i}']\n",
      "[I 2023-11-16 16:23:05,636] A new study created in memory with name: no-name-98519ccb-befb-44bf-bf79-a96433f6a9d3\n"
     ]
    },
    {
     "name": "stdout",
     "output_type": "stream",
     "text": [
      "6.73760865670728\n",
      "{'n_estimators': 120, 'max_depth': 40, 'num_leaves': 15, 'learning_rate': 0.091}\n"
     ]
    },
    {
     "name": "stderr",
     "output_type": "stream",
     "text": [
      "[I 2023-11-16 16:23:10,342] Trial 0 finished with value: 7.147196562737998 and parameters: {'n_estimators': 320, 'max_depth': 30, 'num_leaves': 80, 'learning_rate': 0.151}. Best is trial 0 with value: 7.147196562737998.\n"
     ]
    },
    {
     "name": "stdout",
     "output_type": "stream",
     "text": [
      "7.147196562737998\n"
     ]
    },
    {
     "name": "stderr",
     "output_type": "stream",
     "text": [
      "[I 2023-11-16 16:23:11,542] Trial 1 finished with value: 7.021585493003812 and parameters: {'n_estimators': 50, 'max_depth': 40, 'num_leaves': 70, 'learning_rate': 0.201}. Best is trial 1 with value: 7.021585493003812.\n"
     ]
    },
    {
     "name": "stdout",
     "output_type": "stream",
     "text": [
      "7.021585493003812\n"
     ]
    },
    {
     "name": "stderr",
     "output_type": "stream",
     "text": [
      "[I 2023-11-16 16:23:17,936] Trial 2 finished with value: 7.213675554094201 and parameters: {'n_estimators': 820, 'max_depth': 30, 'num_leaves': 25, 'learning_rate': 0.231}. Best is trial 1 with value: 7.021585493003812.\n"
     ]
    },
    {
     "name": "stdout",
     "output_type": "stream",
     "text": [
      "7.213675554094201\n"
     ]
    },
    {
     "name": "stderr",
     "output_type": "stream",
     "text": [
      "[I 2023-11-16 16:23:22,482] Trial 3 finished with value: 6.950847219480657 and parameters: {'n_estimators': 320, 'max_depth': 30, 'num_leaves': 55, 'learning_rate': 0.041}. Best is trial 3 with value: 6.950847219480657.\n"
     ]
    },
    {
     "name": "stdout",
     "output_type": "stream",
     "text": [
      "6.950847219480657\n"
     ]
    },
    {
     "name": "stderr",
     "output_type": "stream",
     "text": [
      "[I 2023-11-16 16:23:26,746] Trial 4 finished with value: 7.066022099016512 and parameters: {'n_estimators': 170, 'max_depth': 30, 'num_leaves': 95, 'learning_rate': 0.011}. Best is trial 3 with value: 6.950847219480657.\n"
     ]
    },
    {
     "name": "stdout",
     "output_type": "stream",
     "text": [
      "7.066022099016512\n"
     ]
    },
    {
     "name": "stderr",
     "output_type": "stream",
     "text": [
      "[I 2023-11-16 16:23:30,424] Trial 5 finished with value: 7.07867293415279 and parameters: {'n_estimators': 200, 'max_depth': 55, 'num_leaves': 70, 'learning_rate': 0.181}. Best is trial 3 with value: 6.950847219480657.\n"
     ]
    },
    {
     "name": "stdout",
     "output_type": "stream",
     "text": [
      "7.07867293415279\n"
     ]
    },
    {
     "name": "stderr",
     "output_type": "stream",
     "text": [
      "[I 2023-11-16 16:23:31,741] Trial 6 finished with value: 7.016072101638233 and parameters: {'n_estimators': 100, 'max_depth': 10, 'num_leaves': 45, 'learning_rate': 0.221}. Best is trial 3 with value: 6.950847219480657.\n"
     ]
    },
    {
     "name": "stdout",
     "output_type": "stream",
     "text": [
      "7.016072101638233\n"
     ]
    },
    {
     "name": "stderr",
     "output_type": "stream",
     "text": [
      "[I 2023-11-16 16:23:39,714] Trial 7 finished with value: 7.355053893956931 and parameters: {'n_estimators': 480, 'max_depth': 25, 'num_leaves': 100, 'learning_rate': 0.241}. Best is trial 3 with value: 6.950847219480657.\n"
     ]
    },
    {
     "name": "stdout",
     "output_type": "stream",
     "text": [
      "7.355053893956931\n"
     ]
    },
    {
     "name": "stderr",
     "output_type": "stream",
     "text": [
      "[I 2023-11-16 16:23:45,799] Trial 8 finished with value: 6.968019813881739 and parameters: {'n_estimators': 610, 'max_depth': 5, 'num_leaves': 70, 'learning_rate': 0.031}. Best is trial 3 with value: 6.950847219480657.\n"
     ]
    },
    {
     "name": "stdout",
     "output_type": "stream",
     "text": [
      "6.968019813881739\n"
     ]
    },
    {
     "name": "stderr",
     "output_type": "stream",
     "text": [
      "[I 2023-11-16 16:23:46,742] Trial 9 finished with value: 6.973426478008845 and parameters: {'n_estimators': 140, 'max_depth': 50, 'num_leaves': 5, 'learning_rate': 0.211}. Best is trial 3 with value: 6.950847219480657.\n"
     ]
    },
    {
     "name": "stdout",
     "output_type": "stream",
     "text": [
      "6.973426478008845\n"
     ]
    },
    {
     "name": "stderr",
     "output_type": "stream",
     "text": [
      "[I 2023-11-16 16:23:56,872] Trial 10 finished with value: 7.083071865394685 and parameters: {'n_estimators': 990, 'max_depth': 85, 'num_leaves': 45, 'learning_rate': 0.07100000000000001}. Best is trial 3 with value: 6.950847219480657.\n"
     ]
    },
    {
     "name": "stdout",
     "output_type": "stream",
     "text": [
      "7.083071865394685\n"
     ]
    },
    {
     "name": "stderr",
     "output_type": "stream",
     "text": [
      "[I 2023-11-16 16:24:03,204] Trial 11 finished with value: 6.999488545812932 and parameters: {'n_estimators': 640, 'max_depth': 5, 'num_leaves': 55, 'learning_rate': 0.051000000000000004}. Best is trial 3 with value: 6.950847219480657.\n"
     ]
    },
    {
     "name": "stdout",
     "output_type": "stream",
     "text": [
      "6.999488545812932\n"
     ]
    },
    {
     "name": "stderr",
     "output_type": "stream",
     "text": [
      "[I 2023-11-16 16:24:07,752] Trial 12 finished with value: 7.031132119577228 and parameters: {'n_estimators': 510, 'max_depth': 5, 'num_leaves': 30, 'learning_rate': 0.081}. Best is trial 3 with value: 6.950847219480657.\n"
     ]
    },
    {
     "name": "stdout",
     "output_type": "stream",
     "text": [
      "7.031132119577228\n"
     ]
    },
    {
     "name": "stderr",
     "output_type": "stream",
     "text": [
      "[I 2023-11-16 16:24:15,441] Trial 13 finished with value: 8.389698379025837 and parameters: {'n_estimators': 350, 'max_depth': 75, 'num_leaves': 80, 'learning_rate': 0.001}. Best is trial 3 with value: 6.950847219480657.\n"
     ]
    },
    {
     "name": "stdout",
     "output_type": "stream",
     "text": [
      "8.389698379025837\n"
     ]
    },
    {
     "name": "stderr",
     "output_type": "stream",
     "text": [
      "[I 2023-11-16 16:24:23,245] Trial 14 finished with value: 7.099566153966948 and parameters: {'n_estimators': 650, 'max_depth': 15, 'num_leaves': 55, 'learning_rate': 0.111}. Best is trial 3 with value: 6.950847219480657.\n"
     ]
    },
    {
     "name": "stdout",
     "output_type": "stream",
     "text": [
      "7.099566153966948\n"
     ]
    },
    {
     "name": "stderr",
     "output_type": "stream",
     "text": [
      "[I 2023-11-16 16:24:29,278] Trial 15 finished with value: 6.989180829480377 and parameters: {'n_estimators': 360, 'max_depth': 60, 'num_leaves': 75, 'learning_rate': 0.041}. Best is trial 3 with value: 6.950847219480657.\n"
     ]
    },
    {
     "name": "stdout",
     "output_type": "stream",
     "text": [
      "6.989180829480377\n"
     ]
    },
    {
     "name": "stderr",
     "output_type": "stream",
     "text": [
      "[I 2023-11-16 16:24:35,733] Trial 16 finished with value: 7.077535812919244 and parameters: {'n_estimators': 670, 'max_depth': 20, 'num_leaves': 35, 'learning_rate': 0.121}. Best is trial 3 with value: 6.950847219480657.\n"
     ]
    },
    {
     "name": "stdout",
     "output_type": "stream",
     "text": [
      "7.077535812919244\n"
     ]
    },
    {
     "name": "stderr",
     "output_type": "stream",
     "text": [
      "[I 2023-11-16 16:24:50,409] Trial 17 finished with value: 7.023807087056751 and parameters: {'n_estimators': 780, 'max_depth': 45, 'num_leaves': 90, 'learning_rate': 0.031}. Best is trial 3 with value: 6.950847219480657.\n"
     ]
    },
    {
     "name": "stdout",
     "output_type": "stream",
     "text": [
      "7.023807087056751\n"
     ]
    },
    {
     "name": "stderr",
     "output_type": "stream",
     "text": [
      "[I 2023-11-16 16:24:56,060] Trial 18 finished with value: 7.031904328757932 and parameters: {'n_estimators': 440, 'max_depth': 65, 'num_leaves': 60, 'learning_rate': 0.081}. Best is trial 3 with value: 6.950847219480657.\n"
     ]
    },
    {
     "name": "stdout",
     "output_type": "stream",
     "text": [
      "7.031904328757932\n"
     ]
    },
    {
     "name": "stderr",
     "output_type": "stream",
     "text": [
      "[I 2023-11-16 16:25:01,034] Trial 19 finished with value: 7.062263764738007 and parameters: {'n_estimators': 250, 'max_depth': 40, 'num_leaves': 105, 'learning_rate': 0.101}. Best is trial 3 with value: 6.950847219480657.\n"
     ]
    },
    {
     "name": "stdout",
     "output_type": "stream",
     "text": [
      "7.062263764738007\n"
     ]
    },
    {
     "name": "stderr",
     "output_type": "stream",
     "text": [
      "[I 2023-11-16 16:25:05,642] Trial 20 finished with value: 7.027941610991614 and parameters: {'n_estimators': 610, 'max_depth': 15, 'num_leaves': 15, 'learning_rate': 0.151}. Best is trial 3 with value: 6.950847219480657.\n"
     ]
    },
    {
     "name": "stdout",
     "output_type": "stream",
     "text": [
      "7.027941610991614\n"
     ]
    },
    {
     "name": "stderr",
     "output_type": "stream",
     "text": [
      "[I 2023-11-16 16:25:07,273] Trial 21 finished with value: 6.953914801071396 and parameters: {'n_estimators': 260, 'max_depth': 40, 'num_leaves': 5, 'learning_rate': 0.151}. Best is trial 3 with value: 6.950847219480657.\n"
     ]
    },
    {
     "name": "stdout",
     "output_type": "stream",
     "text": [
      "6.953914801071396\n"
     ]
    },
    {
     "name": "stderr",
     "output_type": "stream",
     "text": [
      "[I 2023-11-16 16:25:09,543] Trial 22 finished with value: 6.954875311780525 and parameters: {'n_estimators': 430, 'max_depth': 100, 'num_leaves': 5, 'learning_rate': 0.151}. Best is trial 3 with value: 6.950847219480657.\n"
     ]
    },
    {
     "name": "stdout",
     "output_type": "stream",
     "text": [
      "6.954875311780525\n"
     ]
    },
    {
     "name": "stderr",
     "output_type": "stream",
     "text": [
      "[I 2023-11-16 16:25:11,069] Trial 23 finished with value: 6.969463179258052 and parameters: {'n_estimators': 270, 'max_depth': 100, 'num_leaves': 5, 'learning_rate': 0.14100000000000001}. Best is trial 3 with value: 6.950847219480657.\n"
     ]
    },
    {
     "name": "stdout",
     "output_type": "stream",
     "text": [
      "6.969463179258052\n"
     ]
    },
    {
     "name": "stderr",
     "output_type": "stream",
     "text": [
      "[I 2023-11-16 16:25:14,190] Trial 24 finished with value: 7.0483431071110445 and parameters: {'n_estimators': 420, 'max_depth': 100, 'num_leaves': 15, 'learning_rate': 0.181}. Best is trial 3 with value: 6.950847219480657.\n"
     ]
    },
    {
     "name": "stdout",
     "output_type": "stream",
     "text": [
      "7.0483431071110445\n"
     ]
    },
    {
     "name": "stderr",
     "output_type": "stream",
     "text": [
      "[I 2023-11-16 16:25:16,858] Trial 25 finished with value: 7.033473855096575 and parameters: {'n_estimators': 390, 'max_depth': 85, 'num_leaves': 15, 'learning_rate': 0.171}. Best is trial 3 with value: 6.950847219480657.\n"
     ]
    },
    {
     "name": "stdout",
     "output_type": "stream",
     "text": [
      "7.033473855096575\n"
     ]
    },
    {
     "name": "stderr",
     "output_type": "stream",
     "text": [
      "[I 2023-11-16 16:25:19,390] Trial 26 finished with value: 6.9697156386235495 and parameters: {'n_estimators': 270, 'max_depth': 40, 'num_leaves': 25, 'learning_rate': 0.131}. Best is trial 3 with value: 6.950847219480657.\n"
     ]
    },
    {
     "name": "stdout",
     "output_type": "stream",
     "text": [
      "6.9697156386235495\n"
     ]
    },
    {
     "name": "stderr",
     "output_type": "stream",
     "text": [
      "[I 2023-11-16 16:25:21,056] Trial 27 finished with value: 6.970446219156816 and parameters: {'n_estimators': 220, 'max_depth': 80, 'num_leaves': 5, 'learning_rate': 0.101}. Best is trial 3 with value: 6.950847219480657.\n"
     ]
    },
    {
     "name": "stdout",
     "output_type": "stream",
     "text": [
      "6.970446219156816\n"
     ]
    },
    {
     "name": "stderr",
     "output_type": "stream",
     "text": [
      "[I 2023-11-16 16:25:26,440] Trial 28 finished with value: 7.111403091688471 and parameters: {'n_estimators': 540, 'max_depth': 70, 'num_leaves': 40, 'learning_rate': 0.161}. Best is trial 3 with value: 6.950847219480657.\n"
     ]
    },
    {
     "name": "stdout",
     "output_type": "stream",
     "text": [
      "7.111403091688471\n"
     ]
    },
    {
     "name": "stderr",
     "output_type": "stream",
     "text": [
      "[I 2023-11-16 16:25:28,928] Trial 29 finished with value: 7.0267453727727816 and parameters: {'n_estimators': 320, 'max_depth': 35, 'num_leaves': 20, 'learning_rate': 0.191}. Best is trial 3 with value: 6.950847219480657.\n"
     ]
    },
    {
     "name": "stdout",
     "output_type": "stream",
     "text": [
      "7.0267453727727816\n"
     ]
    },
    {
     "name": "stderr",
     "output_type": "stream",
     "text": [
      "[I 2023-11-16 16:25:30,985] Trial 30 finished with value: 7.005332158761422 and parameters: {'n_estimators': 320, 'max_depth': 50, 'num_leaves': 10, 'learning_rate': 0.151}. Best is trial 3 with value: 6.950847219480657.\n"
     ]
    },
    {
     "name": "stdout",
     "output_type": "stream",
     "text": [
      "7.005332158761422\n"
     ]
    },
    {
     "name": "stderr",
     "output_type": "stream",
     "text": [
      "[I 2023-11-16 16:25:44,497] Trial 31 finished with value: 6.987834464015544 and parameters: {'n_estimators': 730, 'max_depth': 25, 'num_leaves': 85, 'learning_rate': 0.021}. Best is trial 3 with value: 6.950847219480657.\n"
     ]
    },
    {
     "name": "stdout",
     "output_type": "stream",
     "text": [
      "6.987834464015544\n"
     ]
    },
    {
     "name": "stderr",
     "output_type": "stream",
     "text": [
      "[I 2023-11-16 16:25:52,482] Trial 32 finished with value: 7.057425379986768 and parameters: {'n_estimators': 570, 'max_depth': 20, 'num_leaves': 65, 'learning_rate': 0.061}. Best is trial 3 with value: 6.950847219480657.\n"
     ]
    },
    {
     "name": "stdout",
     "output_type": "stream",
     "text": [
      "7.057425379986768\n"
     ]
    },
    {
     "name": "stderr",
     "output_type": "stream",
     "text": [
      "[I 2023-11-16 16:25:54,015] Trial 33 finished with value: 6.95952332495779 and parameters: {'n_estimators': 50, 'max_depth': 35, 'num_leaves': 65, 'learning_rate': 0.131}. Best is trial 3 with value: 6.950847219480657.\n"
     ]
    },
    {
     "name": "stdout",
     "output_type": "stream",
     "text": [
      "6.95952332495779\n"
     ]
    },
    {
     "name": "stderr",
     "output_type": "stream",
     "text": [
      "[I 2023-11-16 16:25:55,440] Trial 34 finished with value: 6.93319503809214 and parameters: {'n_estimators': 80, 'max_depth': 35, 'num_leaves': 45, 'learning_rate': 0.131}. Best is trial 34 with value: 6.93319503809214.\n"
     ]
    },
    {
     "name": "stdout",
     "output_type": "stream",
     "text": [
      "6.93319503809214\n"
     ]
    },
    {
     "name": "stderr",
     "output_type": "stream",
     "text": [
      "[I 2023-11-16 16:25:57,143] Trial 35 finished with value: 7.013356982200601 and parameters: {'n_estimators': 120, 'max_depth': 30, 'num_leaves': 45, 'learning_rate': 0.161}. Best is trial 34 with value: 6.93319503809214.\n"
     ]
    },
    {
     "name": "stdout",
     "output_type": "stream",
     "text": [
      "7.013356982200601\n"
     ]
    },
    {
     "name": "stderr",
     "output_type": "stream",
     "text": [
      "[I 2023-11-16 16:25:59,343] Trial 36 finished with value: 6.947582453676688 and parameters: {'n_estimators': 190, 'max_depth': 45, 'num_leaves': 35, 'learning_rate': 0.111}. Best is trial 34 with value: 6.93319503809214.\n"
     ]
    },
    {
     "name": "stdout",
     "output_type": "stream",
     "text": [
      "6.947582453676688\n"
     ]
    },
    {
     "name": "stderr",
     "output_type": "stream",
     "text": [
      "[I 2023-11-16 16:26:00,275] Trial 37 finished with value: 6.889258930639896 and parameters: {'n_estimators': 50, 'max_depth': 55, 'num_leaves': 35, 'learning_rate': 0.101}. Best is trial 37 with value: 6.889258930639896.\n"
     ]
    },
    {
     "name": "stdout",
     "output_type": "stream",
     "text": [
      "6.889258930639896\n"
     ]
    },
    {
     "name": "stderr",
     "output_type": "stream",
     "text": [
      "[I 2023-11-16 16:26:01,370] Trial 38 finished with value: 6.916525505103219 and parameters: {'n_estimators': 50, 'max_depth': 55, 'num_leaves': 50, 'learning_rate': 0.091}. Best is trial 37 with value: 6.889258930639896.\n"
     ]
    },
    {
     "name": "stdout",
     "output_type": "stream",
     "text": [
      "6.916525505103219\n"
     ]
    },
    {
     "name": "stderr",
     "output_type": "stream",
     "text": [
      "[I 2023-11-16 16:26:02,314] Trial 39 finished with value: 6.888573647743073 and parameters: {'n_estimators': 50, 'max_depth': 55, 'num_leaves': 35, 'learning_rate': 0.091}. Best is trial 39 with value: 6.888573647743073.\n"
     ]
    },
    {
     "name": "stdout",
     "output_type": "stream",
     "text": [
      "6.888573647743073\n"
     ]
    },
    {
     "name": "stderr",
     "output_type": "stream",
     "text": [
      "[I 2023-11-16 16:26:03,423] Trial 40 finished with value: 6.916525505103219 and parameters: {'n_estimators': 50, 'max_depth': 60, 'num_leaves': 50, 'learning_rate': 0.091}. Best is trial 39 with value: 6.888573647743073.\n"
     ]
    },
    {
     "name": "stdout",
     "output_type": "stream",
     "text": [
      "6.916525505103219\n"
     ]
    },
    {
     "name": "stderr",
     "output_type": "stream",
     "text": [
      "[I 2023-11-16 16:26:04,834] Trial 41 finished with value: 6.936778137522153 and parameters: {'n_estimators': 80, 'max_depth': 60, 'num_leaves': 50, 'learning_rate': 0.091}. Best is trial 39 with value: 6.888573647743073.\n"
     ]
    },
    {
     "name": "stdout",
     "output_type": "stream",
     "text": [
      "6.936778137522153\n"
     ]
    },
    {
     "name": "stderr",
     "output_type": "stream",
     "text": [
      "[I 2023-11-16 16:26:05,840] Trial 42 finished with value: 6.8683587152325085 and parameters: {'n_estimators': 50, 'max_depth': 55, 'num_leaves': 40, 'learning_rate': 0.07100000000000001}. Best is trial 42 with value: 6.8683587152325085.\n"
     ]
    },
    {
     "name": "stdout",
     "output_type": "stream",
     "text": [
      "6.8683587152325085\n"
     ]
    },
    {
     "name": "stderr",
     "output_type": "stream",
     "text": [
      "[I 2023-11-16 16:26:08,067] Trial 43 finished with value: 6.908824197883396 and parameters: {'n_estimators': 150, 'max_depth': 55, 'num_leaves': 35, 'learning_rate': 0.07100000000000001}. Best is trial 42 with value: 6.8683587152325085.\n"
     ]
    },
    {
     "name": "stdout",
     "output_type": "stream",
     "text": [
      "6.908824197883396\n"
     ]
    },
    {
     "name": "stderr",
     "output_type": "stream",
     "text": [
      "[I 2023-11-16 16:26:10,501] Trial 44 finished with value: 6.932048307402334 and parameters: {'n_estimators': 150, 'max_depth': 55, 'num_leaves': 35, 'learning_rate': 0.061}. Best is trial 42 with value: 6.8683587152325085.\n"
     ]
    },
    {
     "name": "stdout",
     "output_type": "stream",
     "text": [
      "6.932048307402334\n"
     ]
    },
    {
     "name": "stderr",
     "output_type": "stream",
     "text": [
      "[I 2023-11-16 16:26:12,003] Trial 45 finished with value: 6.900079513473168 and parameters: {'n_estimators': 110, 'max_depth': 65, 'num_leaves': 30, 'learning_rate': 0.061}. Best is trial 42 with value: 6.8683587152325085.\n"
     ]
    },
    {
     "name": "stdout",
     "output_type": "stream",
     "text": [
      "6.900079513473168\n"
     ]
    },
    {
     "name": "stderr",
     "output_type": "stream",
     "text": [
      "[I 2023-11-16 16:26:13,399] Trial 46 finished with value: 6.8894111194955245 and parameters: {'n_estimators': 110, 'max_depth': 70, 'num_leaves': 25, 'learning_rate': 0.07100000000000001}. Best is trial 42 with value: 6.8683587152325085.\n"
     ]
    },
    {
     "name": "stdout",
     "output_type": "stream",
     "text": [
      "6.8894111194955245\n"
     ]
    },
    {
     "name": "stderr",
     "output_type": "stream",
     "text": [
      "[I 2023-11-16 16:26:14,933] Trial 47 finished with value: 6.915927900815366 and parameters: {'n_estimators': 110, 'max_depth': 70, 'num_leaves': 30, 'learning_rate': 0.051000000000000004}. Best is trial 42 with value: 6.8683587152325085.\n"
     ]
    },
    {
     "name": "stdout",
     "output_type": "stream",
     "text": [
      "6.915927900815366\n"
     ]
    },
    {
     "name": "stderr",
     "output_type": "stream",
     "text": [
      "[I 2023-11-16 16:26:16,895] Trial 48 finished with value: 6.902944381266582 and parameters: {'n_estimators': 180, 'max_depth': 65, 'num_leaves': 25, 'learning_rate': 0.07100000000000001}. Best is trial 42 with value: 6.8683587152325085.\n"
     ]
    },
    {
     "name": "stdout",
     "output_type": "stream",
     "text": [
      "6.902944381266582\n"
     ]
    },
    {
     "name": "stderr",
     "output_type": "stream",
     "text": [
      "[I 2023-11-16 16:26:19,459] Trial 49 finished with value: 6.927281637660818 and parameters: {'n_estimators': 220, 'max_depth': 75, 'num_leaves': 30, 'learning_rate': 0.051000000000000004}. Best is trial 42 with value: 6.8683587152325085.\n"
     ]
    },
    {
     "name": "stdout",
     "output_type": "stream",
     "text": [
      "6.927281637660818\n"
     ]
    },
    {
     "name": "stderr",
     "output_type": "stream",
     "text": [
      "[I 2023-11-16 16:26:20,745] Trial 50 finished with value: 6.905381281303122 and parameters: {'n_estimators': 90, 'max_depth': 65, 'num_leaves': 25, 'learning_rate': 0.081}. Best is trial 42 with value: 6.8683587152325085.\n"
     ]
    },
    {
     "name": "stdout",
     "output_type": "stream",
     "text": [
      "6.905381281303122\n"
     ]
    },
    {
     "name": "stderr",
     "output_type": "stream",
     "text": [
      "[I 2023-11-16 16:26:22,619] Trial 51 finished with value: 6.900197514559901 and parameters: {'n_estimators': 170, 'max_depth': 65, 'num_leaves': 25, 'learning_rate': 0.07100000000000001}. Best is trial 42 with value: 6.8683587152325085.\n"
     ]
    },
    {
     "name": "stdout",
     "output_type": "stream",
     "text": [
      "6.900197514559901\n"
     ]
    },
    {
     "name": "stderr",
     "output_type": "stream",
     "text": [
      "[I 2023-11-16 16:26:24,864] Trial 52 finished with value: 6.9080858382545625 and parameters: {'n_estimators': 130, 'max_depth': 70, 'num_leaves': 40, 'learning_rate': 0.061}. Best is trial 42 with value: 6.8683587152325085.\n"
     ]
    },
    {
     "name": "stdout",
     "output_type": "stream",
     "text": [
      "6.9080858382545625\n"
     ]
    },
    {
     "name": "stderr",
     "output_type": "stream",
     "text": [
      "[I 2023-11-16 16:26:26,946] Trial 53 finished with value: 6.87332504565914 and parameters: {'n_estimators': 160, 'max_depth': 50, 'num_leaves': 20, 'learning_rate': 0.041}. Best is trial 42 with value: 6.8683587152325085.\n"
     ]
    },
    {
     "name": "stdout",
     "output_type": "stream",
     "text": [
      "6.87332504565914\n"
     ]
    },
    {
     "name": "stderr",
     "output_type": "stream",
     "text": [
      "[I 2023-11-16 16:26:28,189] Trial 54 finished with value: 6.977685135743932 and parameters: {'n_estimators': 100, 'max_depth': 45, 'num_leaves': 20, 'learning_rate': 0.021}. Best is trial 42 with value: 6.8683587152325085.\n"
     ]
    },
    {
     "name": "stdout",
     "output_type": "stream",
     "text": [
      "6.977685135743932\n"
     ]
    },
    {
     "name": "stderr",
     "output_type": "stream",
     "text": [
      "[I 2023-11-16 16:26:35,444] Trial 55 finished with value: 6.9659427165808525 and parameters: {'n_estimators': 950, 'max_depth': 50, 'num_leaves': 20, 'learning_rate': 0.041}. Best is trial 42 with value: 6.8683587152325085.\n"
     ]
    },
    {
     "name": "stdout",
     "output_type": "stream",
     "text": [
      "6.9659427165808525\n"
     ]
    },
    {
     "name": "stderr",
     "output_type": "stream",
     "text": [
      "[I 2023-11-16 16:26:37,252] Trial 56 finished with value: 6.911735535256434 and parameters: {'n_estimators': 140, 'max_depth': 60, 'num_leaves': 30, 'learning_rate': 0.101}. Best is trial 42 with value: 6.8683587152325085.\n"
     ]
    },
    {
     "name": "stdout",
     "output_type": "stream",
     "text": [
      "6.911735535256434\n"
     ]
    },
    {
     "name": "stderr",
     "output_type": "stream",
     "text": [
      "[I 2023-11-16 16:26:41,316] Trial 57 finished with value: 6.905042710325685 and parameters: {'n_estimators': 220, 'max_depth': 50, 'num_leaves': 40, 'learning_rate': 0.031}. Best is trial 42 with value: 6.8683587152325085.\n"
     ]
    },
    {
     "name": "stdout",
     "output_type": "stream",
     "text": [
      "6.905042710325685\n"
     ]
    },
    {
     "name": "stderr",
     "output_type": "stream",
     "text": [
      "[I 2023-11-16 16:26:42,618] Trial 58 finished with value: 6.894197609659803 and parameters: {'n_estimators': 80, 'max_depth': 75, 'num_leaves': 30, 'learning_rate': 0.111}. Best is trial 42 with value: 6.8683587152325085.\n"
     ]
    },
    {
     "name": "stdout",
     "output_type": "stream",
     "text": [
      "6.894197609659803\n"
     ]
    },
    {
     "name": "stderr",
     "output_type": "stream",
     "text": [
      "[I 2023-11-16 16:26:43,599] Trial 59 finished with value: 6.887841151315308 and parameters: {'n_estimators': 70, 'max_depth': 85, 'num_leaves': 20, 'learning_rate': 0.111}. Best is trial 42 with value: 6.8683587152325085.\n"
     ]
    },
    {
     "name": "stdout",
     "output_type": "stream",
     "text": [
      "6.887841151315308\n"
     ]
    },
    {
     "name": "stderr",
     "output_type": "stream",
     "text": [
      "[I 2023-11-16 16:26:44,318] Trial 60 finished with value: 6.858315514991263 and parameters: {'n_estimators': 50, 'max_depth': 90, 'num_leaves': 10, 'learning_rate': 0.121}. Best is trial 60 with value: 6.858315514991263.\n"
     ]
    },
    {
     "name": "stdout",
     "output_type": "stream",
     "text": [
      "6.858315514991263\n"
     ]
    },
    {
     "name": "stderr",
     "output_type": "stream",
     "text": [
      "[I 2023-11-16 16:26:45,096] Trial 61 finished with value: 6.8626481449273244 and parameters: {'n_estimators': 50, 'max_depth': 90, 'num_leaves': 15, 'learning_rate': 0.121}. Best is trial 60 with value: 6.858315514991263.\n"
     ]
    },
    {
     "name": "stdout",
     "output_type": "stream",
     "text": [
      "6.8626481449273244\n"
     ]
    },
    {
     "name": "stderr",
     "output_type": "stream",
     "text": [
      "[I 2023-11-16 16:26:45,824] Trial 62 finished with value: 6.874096574296923 and parameters: {'n_estimators': 50, 'max_depth': 90, 'num_leaves': 10, 'learning_rate': 0.111}. Best is trial 60 with value: 6.858315514991263.\n"
     ]
    },
    {
     "name": "stdout",
     "output_type": "stream",
     "text": [
      "6.874096574296923\n"
     ]
    },
    {
     "name": "stderr",
     "output_type": "stream",
     "text": [
      "[I 2023-11-16 16:26:46,489] Trial 63 finished with value: 6.858315514991263 and parameters: {'n_estimators': 50, 'max_depth': 90, 'num_leaves': 10, 'learning_rate': 0.121}. Best is trial 60 with value: 6.858315514991263.\n"
     ]
    },
    {
     "name": "stdout",
     "output_type": "stream",
     "text": [
      "6.858315514991263\n"
     ]
    },
    {
     "name": "stderr",
     "output_type": "stream",
     "text": [
      "[I 2023-11-16 16:26:47,337] Trial 64 finished with value: 6.8929420764733385 and parameters: {'n_estimators': 80, 'max_depth': 90, 'num_leaves': 10, 'learning_rate': 0.121}. Best is trial 60 with value: 6.858315514991263.\n"
     ]
    },
    {
     "name": "stdout",
     "output_type": "stream",
     "text": [
      "6.8929420764733385\n"
     ]
    },
    {
     "name": "stderr",
     "output_type": "stream",
     "text": [
      "[I 2023-11-16 16:26:48,576] Trial 65 finished with value: 6.9004010307706665 and parameters: {'n_estimators': 160, 'max_depth': 95, 'num_leaves': 10, 'learning_rate': 0.14100000000000001}. Best is trial 60 with value: 6.858315514991263.\n"
     ]
    },
    {
     "name": "stdout",
     "output_type": "stream",
     "text": [
      "6.9004010307706665\n"
     ]
    },
    {
     "name": "stderr",
     "output_type": "stream",
     "text": [
      "[I 2023-11-16 16:26:50,239] Trial 66 finished with value: 6.925765753484964 and parameters: {'n_estimators': 200, 'max_depth': 90, 'num_leaves': 15, 'learning_rate': 0.121}. Best is trial 60 with value: 6.858315514991263.\n"
     ]
    },
    {
     "name": "stdout",
     "output_type": "stream",
     "text": [
      "6.925765753484964\n"
     ]
    },
    {
     "name": "stderr",
     "output_type": "stream",
     "text": [
      "[I 2023-11-16 16:26:51,296] Trial 67 finished with value: 6.9201407605180885 and parameters: {'n_estimators': 130, 'max_depth': 85, 'num_leaves': 10, 'learning_rate': 0.14100000000000001}. Best is trial 60 with value: 6.858315514991263.\n"
     ]
    },
    {
     "name": "stdout",
     "output_type": "stream",
     "text": [
      "6.9201407605180885\n"
     ]
    },
    {
     "name": "stderr",
     "output_type": "stream",
     "text": [
      "[I 2023-11-16 16:26:52,104] Trial 68 finished with value: 6.920142615002653 and parameters: {'n_estimators': 70, 'max_depth': 90, 'num_leaves': 15, 'learning_rate': 0.251}. Best is trial 60 with value: 6.858315514991263.\n"
     ]
    },
    {
     "name": "stdout",
     "output_type": "stream",
     "text": [
      "6.920142615002653\n"
     ]
    },
    {
     "name": "stderr",
     "output_type": "stream",
     "text": [
      "[I 2023-11-16 16:26:53,295] Trial 69 finished with value: 9.044218577520018 and parameters: {'n_estimators': 100, 'max_depth': 80, 'num_leaves': 20, 'learning_rate': 0.001}. Best is trial 60 with value: 6.858315514991263.\n"
     ]
    },
    {
     "name": "stdout",
     "output_type": "stream",
     "text": [
      "9.044218577520018\n"
     ]
    },
    {
     "name": "stderr",
     "output_type": "stream",
     "text": [
      "[I 2023-11-16 16:26:55,109] Trial 70 finished with value: 6.92156461738109 and parameters: {'n_estimators': 240, 'max_depth': 95, 'num_leaves': 10, 'learning_rate': 0.111}. Best is trial 60 with value: 6.858315514991263.\n"
     ]
    },
    {
     "name": "stdout",
     "output_type": "stream",
     "text": [
      "6.92156461738109\n"
     ]
    },
    {
     "name": "stderr",
     "output_type": "stream",
     "text": [
      "[I 2023-11-16 16:26:56,133] Trial 71 finished with value: 6.8626481449273244 and parameters: {'n_estimators': 50, 'max_depth': 95, 'num_leaves': 15, 'learning_rate': 0.121}. Best is trial 60 with value: 6.858315514991263.\n"
     ]
    },
    {
     "name": "stdout",
     "output_type": "stream",
     "text": [
      "6.8626481449273244\n"
     ]
    },
    {
     "name": "stderr",
     "output_type": "stream",
     "text": [
      "[I 2023-11-16 16:26:57,306] Trial 72 finished with value: 6.825391111034213 and parameters: {'n_estimators': 70, 'max_depth': 95, 'num_leaves': 5, 'learning_rate': 0.121}. Best is trial 72 with value: 6.825391111034213.\n"
     ]
    },
    {
     "name": "stdout",
     "output_type": "stream",
     "text": [
      "6.825391111034213\n"
     ]
    },
    {
     "name": "stderr",
     "output_type": "stream",
     "text": [
      "[I 2023-11-16 16:26:58,333] Trial 73 finished with value: 6.937806002850158 and parameters: {'n_estimators': 130, 'max_depth': 95, 'num_leaves': 5, 'learning_rate': 0.131}. Best is trial 72 with value: 6.825391111034213.\n"
     ]
    },
    {
     "name": "stdout",
     "output_type": "stream",
     "text": [
      "6.937806002850158\n"
     ]
    },
    {
     "name": "stderr",
     "output_type": "stream",
     "text": [
      "[I 2023-11-16 16:26:59,084] Trial 74 finished with value: 6.8626481449273244 and parameters: {'n_estimators': 50, 'max_depth': 95, 'num_leaves': 15, 'learning_rate': 0.121}. Best is trial 72 with value: 6.825391111034213.\n"
     ]
    },
    {
     "name": "stdout",
     "output_type": "stream",
     "text": [
      "6.8626481449273244\n"
     ]
    },
    {
     "name": "stderr",
     "output_type": "stream",
     "text": [
      "[I 2023-11-16 16:27:00,560] Trial 75 finished with value: 6.930843312914249 and parameters: {'n_estimators': 170, 'max_depth': 100, 'num_leaves': 15, 'learning_rate': 0.121}. Best is trial 72 with value: 6.825391111034213.\n"
     ]
    },
    {
     "name": "stdout",
     "output_type": "stream",
     "text": [
      "6.930843312914249\n"
     ]
    },
    {
     "name": "stderr",
     "output_type": "stream",
     "text": [
      "[I 2023-11-16 16:27:01,322] Trial 76 finished with value: 6.836656826918384 and parameters: {'n_estimators': 90, 'max_depth': 95, 'num_leaves': 5, 'learning_rate': 0.121}. Best is trial 72 with value: 6.825391111034213.\n"
     ]
    },
    {
     "name": "stdout",
     "output_type": "stream",
     "text": [
      "6.836656826918384\n"
     ]
    },
    {
     "name": "stderr",
     "output_type": "stream",
     "text": [
      "[I 2023-11-16 16:27:02,047] Trial 77 finished with value: 6.861533560401991 and parameters: {'n_estimators': 80, 'max_depth': 95, 'num_leaves': 5, 'learning_rate': 0.14100000000000001}. Best is trial 72 with value: 6.825391111034213.\n"
     ]
    },
    {
     "name": "stdout",
     "output_type": "stream",
     "text": [
      "6.861533560401991\n"
     ]
    },
    {
     "name": "stderr",
     "output_type": "stream",
     "text": [
      "[I 2023-11-16 16:27:02,836] Trial 78 finished with value: 6.868437772926605 and parameters: {'n_estimators': 90, 'max_depth': 95, 'num_leaves': 5, 'learning_rate': 0.14100000000000001}. Best is trial 72 with value: 6.825391111034213.\n"
     ]
    },
    {
     "name": "stdout",
     "output_type": "stream",
     "text": [
      "6.868437772926605\n"
     ]
    },
    {
     "name": "stderr",
     "output_type": "stream",
     "text": [
      "[I 2023-11-16 16:27:04,529] Trial 79 finished with value: 6.975788109636348 and parameters: {'n_estimators': 290, 'max_depth': 100, 'num_leaves': 5, 'learning_rate': 0.131}. Best is trial 72 with value: 6.825391111034213.\n"
     ]
    },
    {
     "name": "stdout",
     "output_type": "stream",
     "text": [
      "6.975788109636348\n"
     ]
    },
    {
     "name": "stderr",
     "output_type": "stream",
     "text": [
      "[I 2023-11-16 16:27:05,619] Trial 80 finished with value: 6.8913749441642755 and parameters: {'n_estimators': 110, 'max_depth': 95, 'num_leaves': 15, 'learning_rate': 0.161}. Best is trial 72 with value: 6.825391111034213.\n"
     ]
    },
    {
     "name": "stdout",
     "output_type": "stream",
     "text": [
      "6.8913749441642755\n"
     ]
    },
    {
     "name": "stderr",
     "output_type": "stream",
     "text": [
      "[I 2023-11-16 16:27:06,447] Trial 81 finished with value: 6.873574255288133 and parameters: {'n_estimators': 70, 'max_depth': 80, 'num_leaves': 10, 'learning_rate': 0.121}. Best is trial 72 with value: 6.825391111034213.\n"
     ]
    },
    {
     "name": "stdout",
     "output_type": "stream",
     "text": [
      "6.873574255288133\n"
     ]
    },
    {
     "name": "stderr",
     "output_type": "stream",
     "text": [
      "[I 2023-11-16 16:27:07,159] Trial 82 finished with value: 6.861373101825613 and parameters: {'n_estimators': 70, 'max_depth': 90, 'num_leaves': 5, 'learning_rate': 0.101}. Best is trial 72 with value: 6.825391111034213.\n"
     ]
    },
    {
     "name": "stdout",
     "output_type": "stream",
     "text": [
      "6.861373101825613\n"
     ]
    },
    {
     "name": "stderr",
     "output_type": "stream",
     "text": [
      "[I 2023-11-16 16:27:08,105] Trial 83 finished with value: 6.8840095811242925 and parameters: {'n_estimators': 130, 'max_depth': 90, 'num_leaves': 5, 'learning_rate': 0.101}. Best is trial 72 with value: 6.825391111034213.\n"
     ]
    },
    {
     "name": "stdout",
     "output_type": "stream",
     "text": [
      "6.8840095811242925\n"
     ]
    },
    {
     "name": "stderr",
     "output_type": "stream",
     "text": [
      "[I 2023-11-16 16:27:08,975] Trial 84 finished with value: 6.9066444317094255 and parameters: {'n_estimators': 80, 'max_depth': 85, 'num_leaves': 10, 'learning_rate': 0.14100000000000001}. Best is trial 72 with value: 6.825391111034213.\n"
     ]
    },
    {
     "name": "stdout",
     "output_type": "stream",
     "text": [
      "6.9066444317094255\n"
     ]
    },
    {
     "name": "stderr",
     "output_type": "stream",
     "text": [
      "[I 2023-11-16 16:27:09,781] Trial 85 finished with value: 6.854914446833227 and parameters: {'n_estimators': 100, 'max_depth': 100, 'num_leaves': 5, 'learning_rate': 0.121}. Best is trial 72 with value: 6.825391111034213.\n"
     ]
    },
    {
     "name": "stdout",
     "output_type": "stream",
     "text": [
      "6.854914446833227\n"
     ]
    },
    {
     "name": "stderr",
     "output_type": "stream",
     "text": [
      "[I 2023-11-16 16:27:11,081] Trial 86 finished with value: 6.979802092042936 and parameters: {'n_estimators': 190, 'max_depth': 100, 'num_leaves': 5, 'learning_rate': 0.151}. Best is trial 72 with value: 6.825391111034213.\n"
     ]
    },
    {
     "name": "stdout",
     "output_type": "stream",
     "text": [
      "6.979802092042936\n"
     ]
    },
    {
     "name": "stderr",
     "output_type": "stream",
     "text": [
      "[I 2023-11-16 16:27:12,174] Trial 87 finished with value: 6.899935613254897 and parameters: {'n_estimators': 110, 'max_depth': 85, 'num_leaves': 5, 'learning_rate': 0.131}. Best is trial 72 with value: 6.825391111034213.\n"
     ]
    },
    {
     "name": "stdout",
     "output_type": "stream",
     "text": [
      "6.899935613254897\n"
     ]
    },
    {
     "name": "stderr",
     "output_type": "stream",
     "text": [
      "[I 2023-11-16 16:27:13,104] Trial 88 finished with value: 6.86514263263214 and parameters: {'n_estimators': 70, 'max_depth': 90, 'num_leaves': 10, 'learning_rate': 0.111}. Best is trial 72 with value: 6.825391111034213.\n"
     ]
    },
    {
     "name": "stdout",
     "output_type": "stream",
     "text": [
      "6.86514263263214\n"
     ]
    },
    {
     "name": "stderr",
     "output_type": "stream",
     "text": [
      "[I 2023-11-16 16:27:15,740] Trial 89 finished with value: 6.996588142495349 and parameters: {'n_estimators': 470, 'max_depth': 100, 'num_leaves': 5, 'learning_rate': 0.101}. Best is trial 72 with value: 6.825391111034213.\n"
     ]
    },
    {
     "name": "stdout",
     "output_type": "stream",
     "text": [
      "6.996588142495349\n"
     ]
    },
    {
     "name": "stderr",
     "output_type": "stream",
     "text": [
      "[I 2023-11-16 16:27:16,945] Trial 90 finished with value: 6.934459780220304 and parameters: {'n_estimators': 150, 'max_depth': 95, 'num_leaves': 10, 'learning_rate': 0.131}. Best is trial 72 with value: 6.825391111034213.\n"
     ]
    },
    {
     "name": "stdout",
     "output_type": "stream",
     "text": [
      "6.934459780220304\n"
     ]
    },
    {
     "name": "stderr",
     "output_type": "stream",
     "text": [
      "[I 2023-11-16 16:27:17,738] Trial 91 finished with value: 6.8626481449273244 and parameters: {'n_estimators': 50, 'max_depth': 95, 'num_leaves': 15, 'learning_rate': 0.121}. Best is trial 72 with value: 6.825391111034213.\n"
     ]
    },
    {
     "name": "stdout",
     "output_type": "stream",
     "text": [
      "6.8626481449273244\n"
     ]
    },
    {
     "name": "stderr",
     "output_type": "stream",
     "text": [
      "[I 2023-11-16 16:27:18,932] Trial 92 finished with value: 6.883670750159368 and parameters: {'n_estimators': 100, 'max_depth': 100, 'num_leaves': 15, 'learning_rate': 0.121}. Best is trial 72 with value: 6.825391111034213.\n"
     ]
    },
    {
     "name": "stdout",
     "output_type": "stream",
     "text": [
      "6.883670750159368\n"
     ]
    },
    {
     "name": "stderr",
     "output_type": "stream",
     "text": [
      "[I 2023-11-16 16:27:19,694] Trial 93 finished with value: 6.87683947738122 and parameters: {'n_estimators': 70, 'max_depth': 90, 'num_leaves': 5, 'learning_rate': 0.091}. Best is trial 72 with value: 6.825391111034213.\n"
     ]
    },
    {
     "name": "stdout",
     "output_type": "stream",
     "text": [
      "6.87683947738122\n"
     ]
    },
    {
     "name": "stderr",
     "output_type": "stream",
     "text": [
      "[I 2023-11-16 16:27:20,903] Trial 94 finished with value: 6.945619821615395 and parameters: {'n_estimators': 130, 'max_depth': 80, 'num_leaves': 15, 'learning_rate': 0.14100000000000001}. Best is trial 72 with value: 6.825391111034213.\n"
     ]
    },
    {
     "name": "stdout",
     "output_type": "stream",
     "text": [
      "6.945619821615395\n"
     ]
    },
    {
     "name": "stderr",
     "output_type": "stream",
     "text": [
      "[I 2023-11-16 16:27:21,798] Trial 95 finished with value: 6.876253078723889 and parameters: {'n_estimators': 90, 'max_depth': 95, 'num_leaves': 10, 'learning_rate': 0.111}. Best is trial 72 with value: 6.825391111034213.\n"
     ]
    },
    {
     "name": "stdout",
     "output_type": "stream",
     "text": [
      "6.876253078723889\n"
     ]
    },
    {
     "name": "stderr",
     "output_type": "stream",
     "text": [
      "[I 2023-11-16 16:27:22,552] Trial 96 finished with value: 6.901858332087057 and parameters: {'n_estimators': 70, 'max_depth': 90, 'num_leaves': 10, 'learning_rate': 0.161}. Best is trial 72 with value: 6.825391111034213.\n"
     ]
    },
    {
     "name": "stdout",
     "output_type": "stream",
     "text": [
      "6.901858332087057\n"
     ]
    },
    {
     "name": "stderr",
     "output_type": "stream",
     "text": [
      "[I 2023-11-16 16:27:23,136] Trial 97 finished with value: 6.89498042410541 and parameters: {'n_estimators': 50, 'max_depth': 95, 'num_leaves': 5, 'learning_rate': 0.151}. Best is trial 72 with value: 6.825391111034213.\n"
     ]
    },
    {
     "name": "stdout",
     "output_type": "stream",
     "text": [
      "6.89498042410541\n"
     ]
    },
    {
     "name": "stderr",
     "output_type": "stream",
     "text": [
      "[I 2023-11-16 16:27:29,214] Trial 98 finished with value: 7.064613350214005 and parameters: {'n_estimators': 880, 'max_depth': 100, 'num_leaves': 15, 'learning_rate': 0.131}. Best is trial 72 with value: 6.825391111034213.\n"
     ]
    },
    {
     "name": "stdout",
     "output_type": "stream",
     "text": [
      "7.064613350214005\n"
     ]
    },
    {
     "name": "stderr",
     "output_type": "stream",
     "text": [
      "[I 2023-11-16 16:27:30,246] Trial 99 finished with value: 6.8915155784185185 and parameters: {'n_estimators': 120, 'max_depth': 85, 'num_leaves': 5, 'learning_rate': 0.121}. Best is trial 72 with value: 6.825391111034213.\n"
     ]
    },
    {
     "name": "stdout",
     "output_type": "stream",
     "text": [
      "6.8915155784185185\n"
     ]
    },
    {
     "name": "stderr",
     "output_type": "stream",
     "text": [
      "[I 2023-11-16 16:27:31,771] Trial 100 finished with value: 6.922958710397733 and parameters: {'n_estimators': 150, 'max_depth': 90, 'num_leaves': 20, 'learning_rate': 0.101}. Best is trial 72 with value: 6.825391111034213.\n"
     ]
    },
    {
     "name": "stdout",
     "output_type": "stream",
     "text": [
      "6.922958710397733\n"
     ]
    },
    {
     "name": "stderr",
     "output_type": "stream",
     "text": [
      "[I 2023-11-16 16:27:32,521] Trial 101 finished with value: 6.8626481449273244 and parameters: {'n_estimators': 50, 'max_depth': 95, 'num_leaves': 15, 'learning_rate': 0.121}. Best is trial 72 with value: 6.825391111034213.\n"
     ]
    },
    {
     "name": "stdout",
     "output_type": "stream",
     "text": [
      "6.8626481449273244\n"
     ]
    },
    {
     "name": "stderr",
     "output_type": "stream",
     "text": [
      "[I 2023-11-16 16:27:33,405] Trial 102 finished with value: 6.876253078723889 and parameters: {'n_estimators': 90, 'max_depth': 95, 'num_leaves': 10, 'learning_rate': 0.111}. Best is trial 72 with value: 6.825391111034213.\n"
     ]
    },
    {
     "name": "stdout",
     "output_type": "stream",
     "text": [
      "6.876253078723889\n"
     ]
    },
    {
     "name": "stderr",
     "output_type": "stream",
     "text": [
      "[I 2023-11-16 16:27:34,149] Trial 103 finished with value: 6.864051736488953 and parameters: {'n_estimators': 60, 'max_depth': 100, 'num_leaves': 10, 'learning_rate': 0.121}. Best is trial 72 with value: 6.825391111034213.\n"
     ]
    },
    {
     "name": "stdout",
     "output_type": "stream",
     "text": [
      "6.864051736488953\n"
     ]
    },
    {
     "name": "stderr",
     "output_type": "stream",
     "text": [
      "[I 2023-11-16 16:27:39,466] Trial 104 finished with value: 7.038986593025015 and parameters: {'n_estimators': 700, 'max_depth': 85, 'num_leaves': 15, 'learning_rate': 0.131}. Best is trial 72 with value: 6.825391111034213.\n"
     ]
    },
    {
     "name": "stdout",
     "output_type": "stream",
     "text": [
      "7.038986593025015\n"
     ]
    },
    {
     "name": "stderr",
     "output_type": "stream",
     "text": [
      "[I 2023-11-16 16:27:40,840] Trial 105 finished with value: 6.887879484067166 and parameters: {'n_estimators': 100, 'max_depth': 95, 'num_leaves': 20, 'learning_rate': 0.14100000000000001}. Best is trial 72 with value: 6.825391111034213.\n"
     ]
    },
    {
     "name": "stdout",
     "output_type": "stream",
     "text": [
      "6.887879484067166\n"
     ]
    },
    {
     "name": "stderr",
     "output_type": "stream",
     "text": [
      "[I 2023-11-16 16:27:42,016] Trial 106 finished with value: 6.887458322480993 and parameters: {'n_estimators': 120, 'max_depth': 90, 'num_leaves': 5, 'learning_rate': 0.111}. Best is trial 72 with value: 6.825391111034213.\n"
     ]
    },
    {
     "name": "stdout",
     "output_type": "stream",
     "text": [
      "6.887458322480993\n"
     ]
    },
    {
     "name": "stderr",
     "output_type": "stream",
     "text": [
      "[I 2023-11-16 16:27:42,965] Trial 107 finished with value: 6.865516738478997 and parameters: {'n_estimators': 50, 'max_depth': 95, 'num_leaves': 15, 'learning_rate': 0.081}. Best is trial 72 with value: 6.825391111034213.\n"
     ]
    },
    {
     "name": "stdout",
     "output_type": "stream",
     "text": [
      "6.865516738478997\n"
     ]
    },
    {
     "name": "stderr",
     "output_type": "stream",
     "text": [
      "[I 2023-11-16 16:27:44,162] Trial 108 finished with value: 6.868398229060837 and parameters: {'n_estimators': 90, 'max_depth': 100, 'num_leaves': 10, 'learning_rate': 0.101}. Best is trial 72 with value: 6.825391111034213.\n"
     ]
    },
    {
     "name": "stdout",
     "output_type": "stream",
     "text": [
      "6.868398229060837\n"
     ]
    },
    {
     "name": "stderr",
     "output_type": "stream",
     "text": [
      "[I 2023-11-16 16:27:45,520] Trial 109 finished with value: 6.893429812197462 and parameters: {'n_estimators': 70, 'max_depth': 90, 'num_leaves': 20, 'learning_rate': 0.121}. Best is trial 72 with value: 6.825391111034213.\n"
     ]
    },
    {
     "name": "stdout",
     "output_type": "stream",
     "text": [
      "6.893429812197462\n"
     ]
    },
    {
     "name": "stderr",
     "output_type": "stream",
     "text": [
      "[I 2023-11-16 16:27:46,744] Trial 110 finished with value: 6.9290202535996315 and parameters: {'n_estimators': 170, 'max_depth': 85, 'num_leaves': 5, 'learning_rate': 0.091}. Best is trial 72 with value: 6.825391111034213.\n"
     ]
    },
    {
     "name": "stdout",
     "output_type": "stream",
     "text": [
      "6.9290202535996315\n"
     ]
    },
    {
     "name": "stderr",
     "output_type": "stream",
     "text": [
      "[I 2023-11-16 16:27:47,527] Trial 111 finished with value: 6.8626481449273244 and parameters: {'n_estimators': 50, 'max_depth': 95, 'num_leaves': 15, 'learning_rate': 0.121}. Best is trial 72 with value: 6.825391111034213.\n"
     ]
    },
    {
     "name": "stdout",
     "output_type": "stream",
     "text": [
      "6.8626481449273244\n"
     ]
    },
    {
     "name": "stderr",
     "output_type": "stream",
     "text": [
      "[I 2023-11-16 16:27:48,183] Trial 112 finished with value: 6.885554728427467 and parameters: {'n_estimators': 50, 'max_depth': 95, 'num_leaves': 10, 'learning_rate': 0.131}. Best is trial 72 with value: 6.825391111034213.\n"
     ]
    },
    {
     "name": "stdout",
     "output_type": "stream",
     "text": [
      "6.885554728427467\n"
     ]
    },
    {
     "name": "stderr",
     "output_type": "stream",
     "text": [
      "[I 2023-11-16 16:27:49,316] Trial 113 finished with value: 6.896785831795291 and parameters: {'n_estimators': 110, 'max_depth': 90, 'num_leaves': 15, 'learning_rate': 0.121}. Best is trial 72 with value: 6.825391111034213.\n"
     ]
    },
    {
     "name": "stdout",
     "output_type": "stream",
     "text": [
      "6.896785831795291\n"
     ]
    },
    {
     "name": "stderr",
     "output_type": "stream",
     "text": [
      "[I 2023-11-16 16:27:51,014] Trial 114 finished with value: 7.001029497838029 and parameters: {'n_estimators': 90, 'max_depth': 100, 'num_leaves': 75, 'learning_rate': 0.14100000000000001}. Best is trial 72 with value: 6.825391111034213.\n"
     ]
    },
    {
     "name": "stdout",
     "output_type": "stream",
     "text": [
      "7.001029497838029\n"
     ]
    },
    {
     "name": "stderr",
     "output_type": "stream",
     "text": [
      "[I 2023-11-16 16:27:52,622] Trial 115 finished with value: 6.942986218103458 and parameters: {'n_estimators': 140, 'max_depth': 95, 'num_leaves': 25, 'learning_rate': 0.111}. Best is trial 72 with value: 6.825391111034213.\n"
     ]
    },
    {
     "name": "stdout",
     "output_type": "stream",
     "text": [
      "6.942986218103458\n"
     ]
    },
    {
     "name": "stderr",
     "output_type": "stream",
     "text": [
      "[I 2023-11-16 16:27:53,448] Trial 116 finished with value: 6.893849828310001 and parameters: {'n_estimators': 80, 'max_depth': 100, 'num_leaves': 10, 'learning_rate': 0.131}. Best is trial 72 with value: 6.825391111034213.\n"
     ]
    },
    {
     "name": "stdout",
     "output_type": "stream",
     "text": [
      "6.893849828310001\n"
     ]
    },
    {
     "name": "stderr",
     "output_type": "stream",
     "text": [
      "[I 2023-11-16 16:27:55,415] Trial 117 finished with value: 6.997493222551718 and parameters: {'n_estimators': 70, 'max_depth': 90, 'num_leaves': 95, 'learning_rate': 0.111}. Best is trial 72 with value: 6.825391111034213.\n"
     ]
    },
    {
     "name": "stdout",
     "output_type": "stream",
     "text": [
      "6.997493222551718\n"
     ]
    },
    {
     "name": "stderr",
     "output_type": "stream",
     "text": [
      "[I 2023-11-16 16:27:56,279] Trial 118 finished with value: 6.991777469353073 and parameters: {'n_estimators': 120, 'max_depth': 95, 'num_leaves': 5, 'learning_rate': 0.211}. Best is trial 72 with value: 6.825391111034213.\n"
     ]
    },
    {
     "name": "stdout",
     "output_type": "stream",
     "text": [
      "6.991777469353073\n"
     ]
    },
    {
     "name": "stderr",
     "output_type": "stream",
     "text": [
      "[I 2023-11-16 16:27:57,124] Trial 119 finished with value: 6.854941462195231 and parameters: {'n_estimators': 60, 'max_depth': 85, 'num_leaves': 15, 'learning_rate': 0.151}. Best is trial 72 with value: 6.825391111034213.\n"
     ]
    },
    {
     "name": "stdout",
     "output_type": "stream",
     "text": [
      "6.854941462195231\n"
     ]
    },
    {
     "name": "stderr",
     "output_type": "stream",
     "text": [
      "[I 2023-11-16 16:27:59,367] Trial 120 finished with value: 6.939833977719533 and parameters: {'n_estimators': 370, 'max_depth': 85, 'num_leaves': 5, 'learning_rate': 0.14100000000000001}. Best is trial 72 with value: 6.825391111034213.\n"
     ]
    },
    {
     "name": "stdout",
     "output_type": "stream",
     "text": [
      "6.939833977719533\n"
     ]
    },
    {
     "name": "stderr",
     "output_type": "stream",
     "text": [
      "[I 2023-11-16 16:28:00,294] Trial 121 finished with value: 6.8562687619344915 and parameters: {'n_estimators': 50, 'max_depth': 90, 'num_leaves': 15, 'learning_rate': 0.151}. Best is trial 72 with value: 6.825391111034213.\n"
     ]
    },
    {
     "name": "stdout",
     "output_type": "stream",
     "text": [
      "6.8562687619344915\n"
     ]
    },
    {
     "name": "stderr",
     "output_type": "stream",
     "text": [
      "[I 2023-11-16 16:28:01,579] Trial 122 finished with value: 6.928796346494362 and parameters: {'n_estimators': 100, 'max_depth': 80, 'num_leaves': 20, 'learning_rate': 0.171}. Best is trial 72 with value: 6.825391111034213.\n"
     ]
    },
    {
     "name": "stdout",
     "output_type": "stream",
     "text": [
      "6.928796346494362\n"
     ]
    },
    {
     "name": "stderr",
     "output_type": "stream",
     "text": [
      "[I 2023-11-16 16:28:02,370] Trial 123 finished with value: 6.891064164819829 and parameters: {'n_estimators': 70, 'max_depth': 90, 'num_leaves': 10, 'learning_rate': 0.151}. Best is trial 72 with value: 6.825391111034213.\n"
     ]
    },
    {
     "name": "stdout",
     "output_type": "stream",
     "text": [
      "6.891064164819829\n"
     ]
    },
    {
     "name": "stderr",
     "output_type": "stream",
     "text": [
      "[I 2023-11-16 16:28:03,353] Trial 124 finished with value: 6.900038166250473 and parameters: {'n_estimators': 90, 'max_depth': 90, 'num_leaves': 15, 'learning_rate': 0.161}. Best is trial 72 with value: 6.825391111034213.\n"
     ]
    },
    {
     "name": "stdout",
     "output_type": "stream",
     "text": [
      "6.900038166250473\n"
     ]
    },
    {
     "name": "stderr",
     "output_type": "stream",
     "text": [
      "[I 2023-11-16 16:28:04,082] Trial 125 finished with value: 6.885554728427467 and parameters: {'n_estimators': 50, 'max_depth': 85, 'num_leaves': 10, 'learning_rate': 0.131}. Best is trial 72 with value: 6.825391111034213.\n"
     ]
    },
    {
     "name": "stdout",
     "output_type": "stream",
     "text": [
      "6.885554728427467\n"
     ]
    },
    {
     "name": "stderr",
     "output_type": "stream",
     "text": [
      "[I 2023-11-16 16:28:04,803] Trial 126 finished with value: 6.880301017900743 and parameters: {'n_estimators': 70, 'max_depth': 95, 'num_leaves': 5, 'learning_rate': 0.151}. Best is trial 72 with value: 6.825391111034213.\n"
     ]
    },
    {
     "name": "stdout",
     "output_type": "stream",
     "text": [
      "6.880301017900743\n"
     ]
    },
    {
     "name": "stderr",
     "output_type": "stream",
     "text": [
      "[I 2023-11-16 16:28:06,122] Trial 127 finished with value: 6.933270006812143 and parameters: {'n_estimators': 130, 'max_depth': 100, 'num_leaves': 20, 'learning_rate': 0.151}. Best is trial 72 with value: 6.825391111034213.\n"
     ]
    },
    {
     "name": "stdout",
     "output_type": "stream",
     "text": [
      "6.933270006812143\n"
     ]
    },
    {
     "name": "stderr",
     "output_type": "stream",
     "text": [
      "[I 2023-11-16 16:28:07,140] Trial 128 finished with value: 6.903607201308148 and parameters: {'n_estimators': 110, 'max_depth': 90, 'num_leaves': 10, 'learning_rate': 0.131}. Best is trial 72 with value: 6.825391111034213.\n"
     ]
    },
    {
     "name": "stdout",
     "output_type": "stream",
     "text": [
      "6.903607201308148\n"
     ]
    },
    {
     "name": "stderr",
     "output_type": "stream",
     "text": [
      "[I 2023-11-16 16:28:08,163] Trial 129 finished with value: 6.890477143451378 and parameters: {'n_estimators': 90, 'max_depth': 95, 'num_leaves': 15, 'learning_rate': 0.101}. Best is trial 72 with value: 6.825391111034213.\n"
     ]
    },
    {
     "name": "stdout",
     "output_type": "stream",
     "text": [
      "6.890477143451378\n"
     ]
    },
    {
     "name": "stderr",
     "output_type": "stream",
     "text": [
      "[I 2023-11-16 16:28:08,815] Trial 130 finished with value: 6.857726805711832 and parameters: {'n_estimators': 60, 'max_depth': 90, 'num_leaves': 5, 'learning_rate': 0.14100000000000001}. Best is trial 72 with value: 6.825391111034213.\n"
     ]
    },
    {
     "name": "stdout",
     "output_type": "stream",
     "text": [
      "6.857726805711832\n"
     ]
    },
    {
     "name": "stderr",
     "output_type": "stream",
     "text": [
      "[I 2023-11-16 16:28:09,495] Trial 131 finished with value: 6.9018502566156394 and parameters: {'n_estimators': 70, 'max_depth': 90, 'num_leaves': 5, 'learning_rate': 0.171}. Best is trial 72 with value: 6.825391111034213.\n"
     ]
    },
    {
     "name": "stdout",
     "output_type": "stream",
     "text": [
      "6.9018502566156394\n"
     ]
    },
    {
     "name": "stderr",
     "output_type": "stream",
     "text": [
      "[I 2023-11-16 16:28:10,120] Trial 132 finished with value: 6.846687712688251 and parameters: {'n_estimators': 50, 'max_depth': 85, 'num_leaves': 5, 'learning_rate': 0.121}. Best is trial 72 with value: 6.825391111034213.\n"
     ]
    },
    {
     "name": "stdout",
     "output_type": "stream",
     "text": [
      "6.846687712688251\n"
     ]
    },
    {
     "name": "stderr",
     "output_type": "stream",
     "text": [
      "[I 2023-11-16 16:28:10,801] Trial 133 finished with value: 6.855828483524314 and parameters: {'n_estimators': 70, 'max_depth': 80, 'num_leaves': 5, 'learning_rate': 0.14100000000000001}. Best is trial 72 with value: 6.825391111034213.\n"
     ]
    },
    {
     "name": "stdout",
     "output_type": "stream",
     "text": [
      "6.855828483524314\n"
     ]
    },
    {
     "name": "stderr",
     "output_type": "stream",
     "text": [
      "[I 2023-11-16 16:28:11,670] Trial 134 finished with value: 6.891517589463803 and parameters: {'n_estimators': 110, 'max_depth': 80, 'num_leaves': 5, 'learning_rate': 0.14100000000000001}. Best is trial 72 with value: 6.825391111034213.\n"
     ]
    },
    {
     "name": "stdout",
     "output_type": "stream",
     "text": [
      "6.891517589463803\n"
     ]
    },
    {
     "name": "stderr",
     "output_type": "stream",
     "text": [
      "[I 2023-11-16 16:28:12,395] Trial 135 finished with value: 6.900700820715293 and parameters: {'n_estimators': 80, 'max_depth': 85, 'num_leaves': 5, 'learning_rate': 0.161}. Best is trial 72 with value: 6.825391111034213.\n"
     ]
    },
    {
     "name": "stdout",
     "output_type": "stream",
     "text": [
      "6.900700820715293\n"
     ]
    },
    {
     "name": "stderr",
     "output_type": "stream",
     "text": [
      "[I 2023-11-16 16:28:13,582] Trial 136 finished with value: 6.906062689242662 and parameters: {'n_estimators': 150, 'max_depth': 85, 'num_leaves': 10, 'learning_rate': 0.14100000000000001}. Best is trial 72 with value: 6.825391111034213.\n"
     ]
    },
    {
     "name": "stdout",
     "output_type": "stream",
     "text": [
      "6.906062689242662\n"
     ]
    },
    {
     "name": "stderr",
     "output_type": "stream",
     "text": [
      "[I 2023-11-16 16:28:14,258] Trial 137 finished with value: 6.9226447193971214 and parameters: {'n_estimators': 70, 'max_depth': 80, 'num_leaves': 5, 'learning_rate': 0.181}. Best is trial 72 with value: 6.825391111034213.\n"
     ]
    },
    {
     "name": "stdout",
     "output_type": "stream",
     "text": [
      "6.9226447193971214\n"
     ]
    },
    {
     "name": "stderr",
     "output_type": "stream",
     "text": [
      "[I 2023-11-16 16:28:15,198] Trial 138 finished with value: 6.895958478410352 and parameters: {'n_estimators': 100, 'max_depth': 85, 'num_leaves': 5, 'learning_rate': 0.131}. Best is trial 72 with value: 6.825391111034213.\n"
     ]
    },
    {
     "name": "stdout",
     "output_type": "stream",
     "text": [
      "6.895958478410352\n"
     ]
    },
    {
     "name": "stderr",
     "output_type": "stream",
     "text": [
      "[I 2023-11-16 16:28:18,976] Trial 139 finished with value: 7.046137377460264 and parameters: {'n_estimators': 570, 'max_depth': 75, 'num_leaves': 10, 'learning_rate': 0.151}. Best is trial 72 with value: 6.825391111034213.\n"
     ]
    },
    {
     "name": "stdout",
     "output_type": "stream",
     "text": [
      "7.046137377460264\n"
     ]
    },
    {
     "name": "stderr",
     "output_type": "stream",
     "text": [
      "[I 2023-11-16 16:28:20,017] Trial 140 finished with value: 6.916684728363692 and parameters: {'n_estimators': 140, 'max_depth': 90, 'num_leaves': 5, 'learning_rate': 0.14100000000000001}. Best is trial 72 with value: 6.825391111034213.\n"
     ]
    },
    {
     "name": "stdout",
     "output_type": "stream",
     "text": [
      "6.916684728363692\n"
     ]
    },
    {
     "name": "stderr",
     "output_type": "stream",
     "text": [
      "[I 2023-11-16 16:28:20,685] Trial 141 finished with value: 6.858315514991263 and parameters: {'n_estimators': 50, 'max_depth': 90, 'num_leaves': 10, 'learning_rate': 0.121}. Best is trial 72 with value: 6.825391111034213.\n"
     ]
    },
    {
     "name": "stdout",
     "output_type": "stream",
     "text": [
      "6.858315514991263\n"
     ]
    },
    {
     "name": "stderr",
     "output_type": "stream",
     "text": [
      "[I 2023-11-16 16:28:21,382] Trial 142 finished with value: 6.874096574296923 and parameters: {'n_estimators': 50, 'max_depth': 85, 'num_leaves': 10, 'learning_rate': 0.111}. Best is trial 72 with value: 6.825391111034213.\n"
     ]
    },
    {
     "name": "stdout",
     "output_type": "stream",
     "text": [
      "6.874096574296923\n"
     ]
    },
    {
     "name": "stderr",
     "output_type": "stream",
     "text": [
      "[I 2023-11-16 16:28:22,226] Trial 143 finished with value: 6.861943881441427 and parameters: {'n_estimators': 70, 'max_depth': 90, 'num_leaves': 5, 'learning_rate': 0.131}. Best is trial 72 with value: 6.825391111034213.\n"
     ]
    },
    {
     "name": "stdout",
     "output_type": "stream",
     "text": [
      "6.861943881441427\n"
     ]
    },
    {
     "name": "stderr",
     "output_type": "stream",
     "text": [
      "[I 2023-11-16 16:28:23,001] Trial 144 finished with value: 6.882549659376544 and parameters: {'n_estimators': 90, 'max_depth': 90, 'num_leaves': 5, 'learning_rate': 0.131}. Best is trial 72 with value: 6.825391111034213.\n"
     ]
    },
    {
     "name": "stdout",
     "output_type": "stream",
     "text": [
      "6.882549659376544\n"
     ]
    },
    {
     "name": "stderr",
     "output_type": "stream",
     "text": [
      "[I 2023-11-16 16:28:23,909] Trial 145 finished with value: 6.933118357110244 and parameters: {'n_estimators': 120, 'max_depth': 80, 'num_leaves': 5, 'learning_rate': 0.151}. Best is trial 72 with value: 6.825391111034213.\n"
     ]
    },
    {
     "name": "stdout",
     "output_type": "stream",
     "text": [
      "6.933118357110244\n"
     ]
    },
    {
     "name": "stderr",
     "output_type": "stream",
     "text": [
      "[I 2023-11-16 16:28:24,707] Trial 146 finished with value: 6.899039827593481 and parameters: {'n_estimators': 70, 'max_depth': 90, 'num_leaves': 10, 'learning_rate': 0.14100000000000001}. Best is trial 72 with value: 6.825391111034213.\n"
     ]
    },
    {
     "name": "stdout",
     "output_type": "stream",
     "text": [
      "6.899039827593481\n"
     ]
    },
    {
     "name": "stderr",
     "output_type": "stream",
     "text": [
      "[I 2023-11-16 16:28:25,467] Trial 147 finished with value: 6.882549659376544 and parameters: {'n_estimators': 90, 'max_depth': 85, 'num_leaves': 5, 'learning_rate': 0.131}. Best is trial 72 with value: 6.825391111034213.\n"
     ]
    },
    {
     "name": "stdout",
     "output_type": "stream",
     "text": [
      "6.882549659376544\n"
     ]
    },
    {
     "name": "stderr",
     "output_type": "stream",
     "text": [
      "[I 2023-11-16 16:28:26,250] Trial 148 finished with value: 6.873574255288133 and parameters: {'n_estimators': 70, 'max_depth': 90, 'num_leaves': 10, 'learning_rate': 0.121}. Best is trial 72 with value: 6.825391111034213.\n"
     ]
    },
    {
     "name": "stdout",
     "output_type": "stream",
     "text": [
      "6.873574255288133\n"
     ]
    },
    {
     "name": "stderr",
     "output_type": "stream",
     "text": [
      "[I 2023-11-16 16:28:26,843] Trial 149 finished with value: 6.88410940594257 and parameters: {'n_estimators': 50, 'max_depth': 90, 'num_leaves': 5, 'learning_rate': 0.161}. Best is trial 72 with value: 6.825391111034213.\n",
      "C:\\Users\\Dmser\\AppData\\Local\\Temp\\ipykernel_15412\\1866508612.py:11: SettingWithCopyWarning: \n",
      "A value is trying to be set on a copy of a slice from a DataFrame.\n",
      "Try using .loc[row_indexer,col_indexer] = value instead\n",
      "\n",
      "See the caveats in the documentation: https://pandas.pydata.org/pandas-docs/stable/user_guide/indexing.html#returning-a-view-versus-a-copy\n",
      "  df2_temp[f'milk_yield_{i}'] = df2[f'milk_yield_{i}']\n",
      "[I 2023-11-16 16:28:26,943] A new study created in memory with name: no-name-0d35c18a-f1b2-4162-928c-532062b5ec7b\n"
     ]
    },
    {
     "name": "stdout",
     "output_type": "stream",
     "text": [
      "6.88410940594257\n",
      "{'n_estimators': 70, 'max_depth': 95, 'num_leaves': 5, 'learning_rate': 0.121}\n"
     ]
    },
    {
     "name": "stderr",
     "output_type": "stream",
     "text": [
      "[I 2023-11-16 16:28:29,859] Trial 0 finished with value: 7.356966330573317 and parameters: {'n_estimators': 260, 'max_depth': 85, 'num_leaves': 45, 'learning_rate': 0.201}. Best is trial 0 with value: 7.356966330573317.\n"
     ]
    },
    {
     "name": "stdout",
     "output_type": "stream",
     "text": [
      "7.356966330573317\n"
     ]
    },
    {
     "name": "stderr",
     "output_type": "stream",
     "text": [
      "[I 2023-11-16 16:28:39,284] Trial 1 finished with value: 7.3320219399222895 and parameters: {'n_estimators': 890, 'max_depth': 75, 'num_leaves': 40, 'learning_rate': 0.081}. Best is trial 1 with value: 7.3320219399222895.\n"
     ]
    },
    {
     "name": "stdout",
     "output_type": "stream",
     "text": [
      "7.3320219399222895\n"
     ]
    },
    {
     "name": "stderr",
     "output_type": "stream",
     "text": [
      "[I 2023-11-16 16:28:55,083] Trial 2 finished with value: 7.311744007228382 and parameters: {'n_estimators': 960, 'max_depth': 25, 'num_leaves': 85, 'learning_rate': 0.051000000000000004}. Best is trial 2 with value: 7.311744007228382.\n"
     ]
    },
    {
     "name": "stdout",
     "output_type": "stream",
     "text": [
      "7.311744007228382\n"
     ]
    },
    {
     "name": "stderr",
     "output_type": "stream",
     "text": [
      "[I 2023-11-16 16:29:03,695] Trial 3 finished with value: 7.361652511881464 and parameters: {'n_estimators': 550, 'max_depth': 70, 'num_leaves': 85, 'learning_rate': 0.081}. Best is trial 2 with value: 7.311744007228382.\n"
     ]
    },
    {
     "name": "stdout",
     "output_type": "stream",
     "text": [
      "7.361652511881464\n"
     ]
    },
    {
     "name": "stderr",
     "output_type": "stream",
     "text": [
      "[I 2023-11-16 16:29:07,288] Trial 4 finished with value: 7.428816142409341 and parameters: {'n_estimators': 180, 'max_depth': 60, 'num_leaves': 105, 'learning_rate': 0.231}. Best is trial 2 with value: 7.311744007228382.\n"
     ]
    },
    {
     "name": "stdout",
     "output_type": "stream",
     "text": [
      "7.428816142409341\n"
     ]
    },
    {
     "name": "stderr",
     "output_type": "stream",
     "text": [
      "[I 2023-11-16 16:29:11,294] Trial 5 finished with value: 7.147576340475422 and parameters: {'n_estimators': 610, 'max_depth': 55, 'num_leaves': 10, 'learning_rate': 0.061}. Best is trial 5 with value: 7.147576340475422.\n"
     ]
    },
    {
     "name": "stdout",
     "output_type": "stream",
     "text": [
      "7.147576340475422\n"
     ]
    },
    {
     "name": "stderr",
     "output_type": "stream",
     "text": [
      "[I 2023-11-16 16:29:13,937] Trial 6 finished with value: 7.138025882972365 and parameters: {'n_estimators': 290, 'max_depth': 10, 'num_leaves': 20, 'learning_rate': 0.041}. Best is trial 6 with value: 7.138025882972365.\n"
     ]
    },
    {
     "name": "stdout",
     "output_type": "stream",
     "text": [
      "7.138025882972365\n"
     ]
    },
    {
     "name": "stderr",
     "output_type": "stream",
     "text": [
      "[I 2023-11-16 16:29:18,414] Trial 7 finished with value: 7.190146978320306 and parameters: {'n_estimators': 990, 'max_depth': 45, 'num_leaves': 5, 'learning_rate': 0.14100000000000001}. Best is trial 6 with value: 7.138025882972365.\n"
     ]
    },
    {
     "name": "stdout",
     "output_type": "stream",
     "text": [
      "7.190146978320306\n"
     ]
    },
    {
     "name": "stderr",
     "output_type": "stream",
     "text": [
      "[I 2023-11-16 16:29:30,601] Trial 8 finished with value: 7.366536727348315 and parameters: {'n_estimators': 990, 'max_depth': 25, 'num_leaves': 60, 'learning_rate': 0.07100000000000001}. Best is trial 6 with value: 7.138025882972365.\n"
     ]
    },
    {
     "name": "stdout",
     "output_type": "stream",
     "text": [
      "7.366536727348315\n"
     ]
    },
    {
     "name": "stderr",
     "output_type": "stream",
     "text": [
      "[I 2023-11-16 16:29:35,235] Trial 9 finished with value: 7.2747198491655976 and parameters: {'n_estimators': 540, 'max_depth': 90, 'num_leaves': 30, 'learning_rate': 0.14100000000000001}. Best is trial 6 with value: 7.138025882972365.\n"
     ]
    },
    {
     "name": "stdout",
     "output_type": "stream",
     "text": [
      "7.2747198491655976\n"
     ]
    },
    {
     "name": "stderr",
     "output_type": "stream",
     "text": [
      "[I 2023-11-16 16:29:38,921] Trial 10 finished with value: 7.090318654933139 and parameters: {'n_estimators': 310, 'max_depth': 5, 'num_leaves': 25, 'learning_rate': 0.011}. Best is trial 10 with value: 7.090318654933139.\n"
     ]
    },
    {
     "name": "stdout",
     "output_type": "stream",
     "text": [
      "7.090318654933139\n"
     ]
    },
    {
     "name": "stderr",
     "output_type": "stream",
     "text": [
      "[I 2023-11-16 16:29:42,269] Trial 11 finished with value: 8.433597308062685 and parameters: {'n_estimators': 340, 'max_depth': 5, 'num_leaves': 20, 'learning_rate': 0.001}. Best is trial 10 with value: 7.090318654933139.\n"
     ]
    },
    {
     "name": "stdout",
     "output_type": "stream",
     "text": [
      "8.433597308062685\n"
     ]
    },
    {
     "name": "stderr",
     "output_type": "stream",
     "text": [
      "[I 2023-11-16 16:29:43,463] Trial 12 finished with value: 8.97935732901324 and parameters: {'n_estimators': 100, 'max_depth': 5, 'num_leaves': 60, 'learning_rate': 0.001}. Best is trial 10 with value: 7.090318654933139.\n"
     ]
    },
    {
     "name": "stdout",
     "output_type": "stream",
     "text": [
      "8.97935732901324\n"
     ]
    },
    {
     "name": "stderr",
     "output_type": "stream",
     "text": [
      "[I 2023-11-16 16:29:47,160] Trial 13 finished with value: 7.122938168488149 and parameters: {'n_estimators': 370, 'max_depth': 25, 'num_leaves': 25, 'learning_rate': 0.031}. Best is trial 10 with value: 7.090318654933139.\n"
     ]
    },
    {
     "name": "stdout",
     "output_type": "stream",
     "text": [
      "7.122938168488149\n"
     ]
    },
    {
     "name": "stderr",
     "output_type": "stream",
     "text": [
      "[I 2023-11-16 16:29:53,018] Trial 14 finished with value: 7.125369141683212 and parameters: {'n_estimators': 420, 'max_depth': 30, 'num_leaves': 35, 'learning_rate': 0.021}. Best is trial 10 with value: 7.090318654933139.\n"
     ]
    },
    {
     "name": "stdout",
     "output_type": "stream",
     "text": [
      "7.125369141683212\n"
     ]
    },
    {
     "name": "stderr",
     "output_type": "stream",
     "text": [
      "[I 2023-11-16 16:30:00,970] Trial 15 finished with value: 7.361176919695917 and parameters: {'n_estimators': 730, 'max_depth': 40, 'num_leaves': 50, 'learning_rate': 0.111}. Best is trial 10 with value: 7.090318654933139.\n"
     ]
    },
    {
     "name": "stdout",
     "output_type": "stream",
     "text": [
      "7.361176919695917\n"
     ]
    },
    {
     "name": "stderr",
     "output_type": "stream",
     "text": [
      "[I 2023-11-16 16:30:04,413] Trial 16 finished with value: 7.191841894676946 and parameters: {'n_estimators': 410, 'max_depth': 15, 'num_leaves': 25, 'learning_rate': 0.111}. Best is trial 10 with value: 7.090318654933139.\n"
     ]
    },
    {
     "name": "stdout",
     "output_type": "stream",
     "text": [
      "7.191841894676946\n"
     ]
    },
    {
     "name": "stderr",
     "output_type": "stream",
     "text": [
      "[I 2023-11-16 16:30:05,513] Trial 17 finished with value: 7.183896063167161 and parameters: {'n_estimators': 50, 'max_depth': 20, 'num_leaves': 70, 'learning_rate': 0.171}. Best is trial 10 with value: 7.090318654933139.\n"
     ]
    },
    {
     "name": "stdout",
     "output_type": "stream",
     "text": [
      "7.183896063167161\n"
     ]
    },
    {
     "name": "stderr",
     "output_type": "stream",
     "text": [
      "[I 2023-11-16 16:30:11,672] Trial 18 finished with value: 7.1111869794903 and parameters: {'n_estimators': 720, 'max_depth': 35, 'num_leaves': 15, 'learning_rate': 0.031}. Best is trial 10 with value: 7.090318654933139.\n"
     ]
    },
    {
     "name": "stdout",
     "output_type": "stream",
     "text": [
      "7.1111869794903\n"
     ]
    },
    {
     "name": "stderr",
     "output_type": "stream",
     "text": [
      "[I 2023-11-16 16:30:16,432] Trial 19 finished with value: 7.1131530101937175 and parameters: {'n_estimators': 720, 'max_depth': 40, 'num_leaves': 10, 'learning_rate': 0.021}. Best is trial 10 with value: 7.090318654933139.\n"
     ]
    },
    {
     "name": "stdout",
     "output_type": "stream",
     "text": [
      "7.1131530101937175\n"
     ]
    },
    {
     "name": "stderr",
     "output_type": "stream",
     "text": [
      "[I 2023-11-16 16:30:22,093] Trial 20 finished with value: 7.231458410831664 and parameters: {'n_estimators': 780, 'max_depth': 35, 'num_leaves': 15, 'learning_rate': 0.101}. Best is trial 10 with value: 7.090318654933139.\n"
     ]
    },
    {
     "name": "stdout",
     "output_type": "stream",
     "text": [
      "7.231458410831664\n"
     ]
    },
    {
     "name": "stderr",
     "output_type": "stream",
     "text": [
      "[I 2023-11-16 16:30:26,419] Trial 21 finished with value: 7.109818003723731 and parameters: {'n_estimators': 690, 'max_depth': 45, 'num_leaves': 5, 'learning_rate': 0.021}. Best is trial 10 with value: 7.090318654933139.\n"
     ]
    },
    {
     "name": "stdout",
     "output_type": "stream",
     "text": [
      "7.109818003723731\n"
     ]
    },
    {
     "name": "stderr",
     "output_type": "stream",
     "text": [
      "[I 2023-11-16 16:30:29,759] Trial 22 finished with value: 8.191053963595015 and parameters: {'n_estimators': 630, 'max_depth': 50, 'num_leaves': 5, 'learning_rate': 0.001}. Best is trial 10 with value: 7.090318654933139.\n"
     ]
    },
    {
     "name": "stdout",
     "output_type": "stream",
     "text": [
      "8.191053963595015\n"
     ]
    },
    {
     "name": "stderr",
     "output_type": "stream",
     "text": [
      "[I 2023-11-16 16:30:38,608] Trial 23 finished with value: 7.173561780503622 and parameters: {'n_estimators': 840, 'max_depth': 60, 'num_leaves': 35, 'learning_rate': 0.031}. Best is trial 10 with value: 7.090318654933139.\n"
     ]
    },
    {
     "name": "stdout",
     "output_type": "stream",
     "text": [
      "7.173561780503622\n"
     ]
    },
    {
     "name": "stderr",
     "output_type": "stream",
     "text": [
      "[I 2023-11-16 16:30:42,945] Trial 24 finished with value: 7.106240448486141 and parameters: {'n_estimators': 470, 'max_depth': 70, 'num_leaves': 15, 'learning_rate': 0.051000000000000004}. Best is trial 10 with value: 7.090318654933139.\n"
     ]
    },
    {
     "name": "stdout",
     "output_type": "stream",
     "text": [
      "7.106240448486141\n"
     ]
    },
    {
     "name": "stderr",
     "output_type": "stream",
     "text": [
      "[I 2023-11-16 16:30:45,668] Trial 25 finished with value: 7.147167180753624 and parameters: {'n_estimators': 450, 'max_depth': 100, 'num_leaves': 5, 'learning_rate': 0.051000000000000004}. Best is trial 10 with value: 7.090318654933139.\n"
     ]
    },
    {
     "name": "stdout",
     "output_type": "stream",
     "text": [
      "7.147167180753624\n"
     ]
    },
    {
     "name": "stderr",
     "output_type": "stream",
     "text": [
      "[I 2023-11-16 16:30:49,698] Trial 26 finished with value: 7.1952685503640055 and parameters: {'n_estimators': 480, 'max_depth': 70, 'num_leaves': 25, 'learning_rate': 0.091}. Best is trial 10 with value: 7.090318654933139.\n"
     ]
    },
    {
     "name": "stdout",
     "output_type": "stream",
     "text": [
      "7.1952685503640055\n"
     ]
    },
    {
     "name": "stderr",
     "output_type": "stream",
     "text": [
      "[I 2023-11-16 16:30:54,876] Trial 27 finished with value: 7.097942091902544 and parameters: {'n_estimators': 620, 'max_depth': 75, 'num_leaves': 15, 'learning_rate': 0.011}. Best is trial 10 with value: 7.090318654933139.\n"
     ]
    },
    {
     "name": "stdout",
     "output_type": "stream",
     "text": [
      "7.097942091902544\n"
     ]
    },
    {
     "name": "stderr",
     "output_type": "stream",
     "text": [
      "[I 2023-11-16 16:30:57,994] Trial 28 finished with value: 7.135511744201628 and parameters: {'n_estimators': 220, 'max_depth': 85, 'num_leaves': 35, 'learning_rate': 0.061}. Best is trial 10 with value: 7.090318654933139.\n"
     ]
    },
    {
     "name": "stdout",
     "output_type": "stream",
     "text": [
      "7.135511744201628\n"
     ]
    },
    {
     "name": "stderr",
     "output_type": "stream",
     "text": [
      "[I 2023-11-16 16:31:01,292] Trial 29 finished with value: 7.342060517536117 and parameters: {'n_estimators': 280, 'max_depth': 80, 'num_leaves': 45, 'learning_rate': 0.181}. Best is trial 10 with value: 7.090318654933139.\n"
     ]
    },
    {
     "name": "stdout",
     "output_type": "stream",
     "text": [
      "7.342060517536117\n"
     ]
    },
    {
     "name": "stderr",
     "output_type": "stream",
     "text": [
      "[I 2023-11-16 16:31:06,305] Trial 30 finished with value: 7.097284840304104 and parameters: {'n_estimators': 610, 'max_depth': 65, 'num_leaves': 15, 'learning_rate': 0.011}. Best is trial 10 with value: 7.090318654933139.\n"
     ]
    },
    {
     "name": "stdout",
     "output_type": "stream",
     "text": [
      "7.097284840304104\n"
     ]
    },
    {
     "name": "stderr",
     "output_type": "stream",
     "text": [
      "[I 2023-11-16 16:31:11,625] Trial 31 finished with value: 7.097942091902544 and parameters: {'n_estimators': 620, 'max_depth': 65, 'num_leaves': 15, 'learning_rate': 0.011}. Best is trial 10 with value: 7.090318654933139.\n"
     ]
    },
    {
     "name": "stdout",
     "output_type": "stream",
     "text": [
      "7.097942091902544\n"
     ]
    },
    {
     "name": "stderr",
     "output_type": "stream",
     "text": [
      "[I 2023-11-16 16:31:17,851] Trial 32 finished with value: 7.099922998662598 and parameters: {'n_estimators': 610, 'max_depth': 65, 'num_leaves': 20, 'learning_rate': 0.011}. Best is trial 10 with value: 7.090318654933139.\n"
     ]
    },
    {
     "name": "stdout",
     "output_type": "stream",
     "text": [
      "7.099922998662598\n"
     ]
    },
    {
     "name": "stderr",
     "output_type": "stream",
     "text": [
      "[I 2023-11-16 16:31:26,876] Trial 33 finished with value: 7.953298592329314 and parameters: {'n_estimators': 660, 'max_depth': 75, 'num_leaves': 40, 'learning_rate': 0.001}. Best is trial 10 with value: 7.090318654933139.\n"
     ]
    },
    {
     "name": "stdout",
     "output_type": "stream",
     "text": [
      "7.953298592329314\n"
     ]
    },
    {
     "name": "stderr",
     "output_type": "stream",
     "text": [
      "[I 2023-11-16 16:31:32,880] Trial 34 finished with value: 7.146700217226585 and parameters: {'n_estimators': 560, 'max_depth': 95, 'num_leaves': 30, 'learning_rate': 0.041}. Best is trial 10 with value: 7.090318654933139.\n"
     ]
    },
    {
     "name": "stdout",
     "output_type": "stream",
     "text": [
      "7.146700217226585\n"
     ]
    },
    {
     "name": "stderr",
     "output_type": "stream",
     "text": [
      "[I 2023-11-16 16:31:39,458] Trial 35 finished with value: 7.101094093139827 and parameters: {'n_estimators': 800, 'max_depth': 80, 'num_leaves': 15, 'learning_rate': 0.011}. Best is trial 10 with value: 7.090318654933139.\n"
     ]
    },
    {
     "name": "stdout",
     "output_type": "stream",
     "text": [
      "7.101094093139827\n"
     ]
    },
    {
     "name": "stderr",
     "output_type": "stream",
     "text": [
      "[I 2023-11-16 16:31:44,596] Trial 36 finished with value: 7.3231130060846725 and parameters: {'n_estimators': 890, 'max_depth': 60, 'num_leaves': 10, 'learning_rate': 0.241}. Best is trial 10 with value: 7.090318654933139.\n"
     ]
    },
    {
     "name": "stdout",
     "output_type": "stream",
     "text": [
      "7.3231130060846725\n"
     ]
    },
    {
     "name": "stderr",
     "output_type": "stream",
     "text": [
      "[I 2023-11-16 16:31:54,802] Trial 37 finished with value: 7.343152695944065 and parameters: {'n_estimators': 580, 'max_depth': 55, 'num_leaves': 100, 'learning_rate': 0.07100000000000001}. Best is trial 10 with value: 7.090318654933139.\n"
     ]
    },
    {
     "name": "stdout",
     "output_type": "stream",
     "text": [
      "7.343152695944065\n"
     ]
    },
    {
     "name": "stderr",
     "output_type": "stream",
     "text": [
      "[I 2023-11-16 16:32:04,383] Trial 38 finished with value: 7.169403992603858 and parameters: {'n_estimators': 510, 'max_depth': 65, 'num_leaves': 75, 'learning_rate': 0.021}. Best is trial 10 with value: 7.090318654933139.\n"
     ]
    },
    {
     "name": "stdout",
     "output_type": "stream",
     "text": [
      "7.169403992603858\n"
     ]
    },
    {
     "name": "stderr",
     "output_type": "stream",
     "text": [
      "[I 2023-11-16 16:32:10,650] Trial 39 finished with value: 7.506986942810418 and parameters: {'n_estimators': 630, 'max_depth': 75, 'num_leaves': 45, 'learning_rate': 0.221}. Best is trial 10 with value: 7.090318654933139.\n"
     ]
    },
    {
     "name": "stdout",
     "output_type": "stream",
     "text": [
      "7.506986942810418\n"
     ]
    },
    {
     "name": "stderr",
     "output_type": "stream",
     "text": [
      "[I 2023-11-16 16:32:12,875] Trial 40 finished with value: 7.110389750532657 and parameters: {'n_estimators': 170, 'max_depth': 50, 'num_leaves': 30, 'learning_rate': 0.041}. Best is trial 10 with value: 7.090318654933139.\n"
     ]
    },
    {
     "name": "stdout",
     "output_type": "stream",
     "text": [
      "7.110389750532657\n"
     ]
    },
    {
     "name": "stderr",
     "output_type": "stream",
     "text": [
      "[I 2023-11-16 16:32:19,289] Trial 41 finished with value: 7.098375524077008 and parameters: {'n_estimators': 590, 'max_depth': 65, 'num_leaves': 20, 'learning_rate': 0.011}. Best is trial 10 with value: 7.090318654933139.\n"
     ]
    },
    {
     "name": "stdout",
     "output_type": "stream",
     "text": [
      "7.098375524077008\n"
     ]
    },
    {
     "name": "stderr",
     "output_type": "stream",
     "text": [
      "[I 2023-11-16 16:32:24,318] Trial 42 finished with value: 7.098641732404612 and parameters: {'n_estimators': 520, 'max_depth': 65, 'num_leaves': 20, 'learning_rate': 0.011}. Best is trial 10 with value: 7.090318654933139.\n"
     ]
    },
    {
     "name": "stdout",
     "output_type": "stream",
     "text": [
      "7.098641732404612\n"
     ]
    },
    {
     "name": "stderr",
     "output_type": "stream",
     "text": [
      "[I 2023-11-16 16:32:28,604] Trial 43 finished with value: 7.117598986693123 and parameters: {'n_estimators': 670, 'max_depth': 80, 'num_leaves': 10, 'learning_rate': 0.031}. Best is trial 10 with value: 7.090318654933139.\n"
     ]
    },
    {
     "name": "stdout",
     "output_type": "stream",
     "text": [
      "7.117598986693123\n"
     ]
    },
    {
     "name": "stderr",
     "output_type": "stream",
     "text": [
      "[I 2023-11-16 16:32:34,106] Trial 44 finished with value: 7.153143514408926 and parameters: {'n_estimators': 590, 'max_depth': 70, 'num_leaves': 20, 'learning_rate': 0.051000000000000004}. Best is trial 10 with value: 7.090318654933139.\n"
     ]
    },
    {
     "name": "stdout",
     "output_type": "stream",
     "text": [
      "7.153143514408926\n"
     ]
    },
    {
     "name": "stderr",
     "output_type": "stream",
     "text": [
      "[I 2023-11-16 16:32:37,944] Trial 45 finished with value: 7.153004685122683 and parameters: {'n_estimators': 380, 'max_depth': 55, 'num_leaves': 25, 'learning_rate': 0.07100000000000001}. Best is trial 10 with value: 7.090318654933139.\n"
     ]
    },
    {
     "name": "stdout",
     "output_type": "stream",
     "text": [
      "7.153004685122683\n"
     ]
    },
    {
     "name": "stderr",
     "output_type": "stream",
     "text": [
      "[I 2023-11-16 16:32:43,341] Trial 46 finished with value: 7.095601080844684 and parameters: {'n_estimators': 540, 'max_depth': 90, 'num_leaves': 15, 'learning_rate': 0.011}. Best is trial 10 with value: 7.090318654933139.\n"
     ]
    },
    {
     "name": "stdout",
     "output_type": "stream",
     "text": [
      "7.095601080844684\n"
     ]
    },
    {
     "name": "stderr",
     "output_type": "stream",
     "text": [
      "[I 2023-11-16 16:32:46,255] Trial 47 finished with value: 8.486793101631198 and parameters: {'n_estimators': 340, 'max_depth': 95, 'num_leaves': 10, 'learning_rate': 0.001}. Best is trial 10 with value: 7.090318654933139.\n"
     ]
    },
    {
     "name": "stdout",
     "output_type": "stream",
     "text": [
      "8.486793101631198\n"
     ]
    },
    {
     "name": "stderr",
     "output_type": "stream",
     "text": [
      "[I 2023-11-16 16:32:51,858] Trial 48 finished with value: 7.135871011128692 and parameters: {'n_estimators': 510, 'max_depth': 85, 'num_leaves': 30, 'learning_rate': 0.041}. Best is trial 10 with value: 7.090318654933139.\n"
     ]
    },
    {
     "name": "stdout",
     "output_type": "stream",
     "text": [
      "7.135871011128692\n"
     ]
    },
    {
     "name": "stderr",
     "output_type": "stream",
     "text": [
      "[I 2023-11-16 16:32:56,709] Trial 49 finished with value: 7.272246806164382 and parameters: {'n_estimators': 760, 'max_depth': 95, 'num_leaves': 15, 'learning_rate': 0.131}. Best is trial 10 with value: 7.090318654933139.\n"
     ]
    },
    {
     "name": "stdout",
     "output_type": "stream",
     "text": [
      "7.272246806164382\n"
     ]
    },
    {
     "name": "stderr",
     "output_type": "stream",
     "text": [
      "[I 2023-11-16 16:33:06,555] Trial 50 finished with value: 7.191505640803735 and parameters: {'n_estimators': 650, 'max_depth': 90, 'num_leaves': 55, 'learning_rate': 0.021}. Best is trial 10 with value: 7.090318654933139.\n"
     ]
    },
    {
     "name": "stdout",
     "output_type": "stream",
     "text": [
      "7.191505640803735\n"
     ]
    },
    {
     "name": "stderr",
     "output_type": "stream",
     "text": [
      "[I 2023-11-16 16:33:12,600] Trial 51 finished with value: 7.096026305481983 and parameters: {'n_estimators': 560, 'max_depth': 75, 'num_leaves': 25, 'learning_rate': 0.011}. Best is trial 10 with value: 7.090318654933139.\n"
     ]
    },
    {
     "name": "stdout",
     "output_type": "stream",
     "text": [
      "7.096026305481983\n"
     ]
    },
    {
     "name": "stderr",
     "output_type": "stream",
     "text": [
      "[I 2023-11-16 16:33:18,292] Trial 52 finished with value: 7.094415112011885 and parameters: {'n_estimators': 530, 'max_depth': 80, 'num_leaves': 25, 'learning_rate': 0.011}. Best is trial 10 with value: 7.090318654933139.\n"
     ]
    },
    {
     "name": "stdout",
     "output_type": "stream",
     "text": [
      "7.094415112011885\n"
     ]
    },
    {
     "name": "stderr",
     "output_type": "stream",
     "text": [
      "[I 2023-11-16 16:33:23,910] Trial 53 finished with value: 7.100904599446597 and parameters: {'n_estimators': 550, 'max_depth': 75, 'num_leaves': 25, 'learning_rate': 0.031}. Best is trial 10 with value: 7.090318654933139.\n"
     ]
    },
    {
     "name": "stdout",
     "output_type": "stream",
     "text": [
      "7.100904599446597\n"
     ]
    },
    {
     "name": "stderr",
     "output_type": "stream",
     "text": [
      "[I 2023-11-16 16:33:29,360] Trial 54 finished with value: 8.272541024624736 and parameters: {'n_estimators': 430, 'max_depth': 85, 'num_leaves': 35, 'learning_rate': 0.001}. Best is trial 10 with value: 7.090318654933139.\n"
     ]
    },
    {
     "name": "stdout",
     "output_type": "stream",
     "text": [
      "8.272541024624736\n"
     ]
    },
    {
     "name": "stderr",
     "output_type": "stream",
     "text": [
      "[I 2023-11-16 16:33:35,698] Trial 55 finished with value: 7.13013137815758 and parameters: {'n_estimators': 500, 'max_depth': 90, 'num_leaves': 40, 'learning_rate': 0.021}. Best is trial 10 with value: 7.090318654933139.\n"
     ]
    },
    {
     "name": "stdout",
     "output_type": "stream",
     "text": [
      "7.13013137815758\n"
     ]
    },
    {
     "name": "stderr",
     "output_type": "stream",
     "text": [
      "[I 2023-11-16 16:33:40,322] Trial 56 finished with value: 7.09698564931997 and parameters: {'n_estimators': 550, 'max_depth': 75, 'num_leaves': 10, 'learning_rate': 0.011}. Best is trial 10 with value: 7.090318654933139.\n"
     ]
    },
    {
     "name": "stdout",
     "output_type": "stream",
     "text": [
      "7.09698564931997\n"
     ]
    },
    {
     "name": "stderr",
     "output_type": "stream",
     "text": [
      "[I 2023-11-16 16:33:42,432] Trial 57 finished with value: 7.14361396307974 and parameters: {'n_estimators': 320, 'max_depth': 80, 'num_leaves': 10, 'learning_rate': 0.161}. Best is trial 10 with value: 7.090318654933139.\n"
     ]
    },
    {
     "name": "stdout",
     "output_type": "stream",
     "text": [
      "7.14361396307974\n"
     ]
    },
    {
     "name": "stderr",
     "output_type": "stream",
     "text": [
      "[I 2023-11-16 16:33:44,559] Trial 58 finished with value: 7.147872553389519 and parameters: {'n_estimators': 400, 'max_depth': 10, 'num_leaves': 5, 'learning_rate': 0.061}. Best is trial 10 with value: 7.090318654933139.\n"
     ]
    },
    {
     "name": "stdout",
     "output_type": "stream",
     "text": [
      "7.147872553389519\n"
     ]
    },
    {
     "name": "stderr",
     "output_type": "stream",
     "text": [
      "[I 2023-11-16 16:33:49,493] Trial 59 finished with value: 7.128062473679961 and parameters: {'n_estimators': 550, 'max_depth': 90, 'num_leaves': 25, 'learning_rate': 0.041}. Best is trial 10 with value: 7.090318654933139.\n"
     ]
    },
    {
     "name": "stdout",
     "output_type": "stream",
     "text": [
      "7.128062473679961\n"
     ]
    },
    {
     "name": "stderr",
     "output_type": "stream",
     "text": [
      "[I 2023-11-16 16:33:55,574] Trial 60 finished with value: 7.119634801024685 and parameters: {'n_estimators': 460, 'max_depth': 100, 'num_leaves': 30, 'learning_rate': 0.031}. Best is trial 10 with value: 7.090318654933139.\n"
     ]
    },
    {
     "name": "stdout",
     "output_type": "stream",
     "text": [
      "7.119634801024685\n"
     ]
    },
    {
     "name": "stderr",
     "output_type": "stream",
     "text": [
      "[I 2023-11-16 16:34:02,116] Trial 61 finished with value: 7.1071596045465295 and parameters: {'n_estimators': 690, 'max_depth': 75, 'num_leaves': 20, 'learning_rate': 0.011}. Best is trial 10 with value: 7.090318654933139.\n"
     ]
    },
    {
     "name": "stdout",
     "output_type": "stream",
     "text": [
      "7.1071596045465295\n"
     ]
    },
    {
     "name": "stderr",
     "output_type": "stream",
     "text": [
      "[I 2023-11-16 16:34:06,807] Trial 62 finished with value: 8.094562332427174 and parameters: {'n_estimators': 570, 'max_depth': 75, 'num_leaves': 15, 'learning_rate': 0.001}. Best is trial 10 with value: 7.090318654933139.\n"
     ]
    },
    {
     "name": "stdout",
     "output_type": "stream",
     "text": [
      "8.094562332427174\n"
     ]
    },
    {
     "name": "stderr",
     "output_type": "stream",
     "text": [
      "[I 2023-11-16 16:34:10,395] Trial 63 finished with value: 7.099267564803811 and parameters: {'n_estimators': 530, 'max_depth': 85, 'num_leaves': 5, 'learning_rate': 0.021}. Best is trial 10 with value: 7.090318654933139.\n"
     ]
    },
    {
     "name": "stdout",
     "output_type": "stream",
     "text": [
      "7.099267564803811\n"
     ]
    },
    {
     "name": "stderr",
     "output_type": "stream",
     "text": [
      "[I 2023-11-16 16:34:13,821] Trial 64 finished with value: 8.235580205096202 and parameters: {'n_estimators': 490, 'max_depth': 70, 'num_leaves': 10, 'learning_rate': 0.001}. Best is trial 10 with value: 7.090318654933139.\n"
     ]
    },
    {
     "name": "stdout",
     "output_type": "stream",
     "text": [
      "8.235580205096202\n"
     ]
    },
    {
     "name": "stderr",
     "output_type": "stream",
     "text": [
      "[I 2023-11-16 16:34:20,331] Trial 65 finished with value: 7.114748385483059 and parameters: {'n_estimators': 700, 'max_depth': 80, 'num_leaves': 25, 'learning_rate': 0.021}. Best is trial 10 with value: 7.090318654933139.\n"
     ]
    },
    {
     "name": "stdout",
     "output_type": "stream",
     "text": [
      "7.114748385483059\n"
     ]
    },
    {
     "name": "stderr",
     "output_type": "stream",
     "text": [
      "[I 2023-11-16 16:34:25,219] Trial 66 finished with value: 7.105378425025983 and parameters: {'n_estimators': 440, 'max_depth': 70, 'num_leaves': 20, 'learning_rate': 0.011}. Best is trial 10 with value: 7.090318654933139.\n"
     ]
    },
    {
     "name": "stdout",
     "output_type": "stream",
     "text": [
      "7.105378425025983\n"
     ]
    },
    {
     "name": "stderr",
     "output_type": "stream",
     "text": [
      "[I 2023-11-16 16:34:31,943] Trial 67 finished with value: 7.224562117513292 and parameters: {'n_estimators': 600, 'max_depth': 80, 'num_leaves': 40, 'learning_rate': 0.051000000000000004}. Best is trial 10 with value: 7.090318654933139.\n"
     ]
    },
    {
     "name": "stdout",
     "output_type": "stream",
     "text": [
      "7.224562117513292\n"
     ]
    },
    {
     "name": "stderr",
     "output_type": "stream",
     "text": [
      "[I 2023-11-16 16:34:36,841] Trial 68 finished with value: 7.1065955384945285 and parameters: {'n_estimators': 660, 'max_depth': 60, 'num_leaves': 15, 'learning_rate': 0.031}. Best is trial 10 with value: 7.090318654933139.\n"
     ]
    },
    {
     "name": "stdout",
     "output_type": "stream",
     "text": [
      "7.1065955384945285\n"
     ]
    },
    {
     "name": "stderr",
     "output_type": "stream",
     "text": [
      "[I 2023-11-16 16:34:45,905] Trial 69 finished with value: 7.10872188277417 and parameters: {'n_estimators': 630, 'max_depth': 75, 'num_leaves': 30, 'learning_rate': 0.011}. Best is trial 10 with value: 7.090318654933139.\n"
     ]
    },
    {
     "name": "stdout",
     "output_type": "stream",
     "text": [
      "7.10872188277417\n"
     ]
    },
    {
     "name": "stderr",
     "output_type": "stream",
     "text": [
      "[I 2023-11-16 16:34:48,729] Trial 70 finished with value: 7.160013226914842 and parameters: {'n_estimators': 540, 'max_depth': 20, 'num_leaves': 5, 'learning_rate': 0.061}. Best is trial 10 with value: 7.090318654933139.\n"
     ]
    },
    {
     "name": "stdout",
     "output_type": "stream",
     "text": [
      "7.160013226914842\n"
     ]
    },
    {
     "name": "stderr",
     "output_type": "stream",
     "text": [
      "[I 2023-11-16 16:34:53,844] Trial 71 finished with value: 7.097942091902544 and parameters: {'n_estimators': 620, 'max_depth': 65, 'num_leaves': 15, 'learning_rate': 0.011}. Best is trial 10 with value: 7.090318654933139.\n"
     ]
    },
    {
     "name": "stdout",
     "output_type": "stream",
     "text": [
      "7.097942091902544\n"
     ]
    },
    {
     "name": "stderr",
     "output_type": "stream",
     "text": [
      "[I 2023-11-16 16:34:59,916] Trial 72 finished with value: 7.912493614469881 and parameters: {'n_estimators': 750, 'max_depth': 60, 'num_leaves': 10, 'learning_rate': 0.001}. Best is trial 10 with value: 7.090318654933139.\n"
     ]
    },
    {
     "name": "stdout",
     "output_type": "stream",
     "text": [
      "7.912493614469881\n"
     ]
    },
    {
     "name": "stderr",
     "output_type": "stream",
     "text": [
      "[I 2023-11-16 16:35:03,961] Trial 73 finished with value: 7.095768414884001 and parameters: {'n_estimators': 470, 'max_depth': 85, 'num_leaves': 20, 'learning_rate': 0.031}. Best is trial 10 with value: 7.090318654933139.\n"
     ]
    },
    {
     "name": "stdout",
     "output_type": "stream",
     "text": [
      "7.095768414884001\n"
     ]
    },
    {
     "name": "stderr",
     "output_type": "stream",
     "text": [
      "[I 2023-11-16 16:35:08,409] Trial 74 finished with value: 7.11071484780291 and parameters: {'n_estimators': 480, 'max_depth': 85, 'num_leaves': 20, 'learning_rate': 0.021}. Best is trial 10 with value: 7.090318654933139.\n"
     ]
    },
    {
     "name": "stdout",
     "output_type": "stream",
     "text": [
      "7.11071484780291\n"
     ]
    },
    {
     "name": "stderr",
     "output_type": "stream",
     "text": [
      "[I 2023-11-16 16:35:11,091] Trial 75 finished with value: 7.109454381940209 and parameters: {'n_estimators': 210, 'max_depth': 90, 'num_leaves': 25, 'learning_rate': 0.031}. Best is trial 10 with value: 7.090318654933139.\n"
     ]
    },
    {
     "name": "stdout",
     "output_type": "stream",
     "text": [
      "7.109454381940209\n"
     ]
    },
    {
     "name": "stderr",
     "output_type": "stream",
     "text": [
      "[I 2023-11-16 16:35:20,099] Trial 76 finished with value: 7.2444835928753015 and parameters: {'n_estimators': 570, 'max_depth': 80, 'num_leaves': 70, 'learning_rate': 0.041}. Best is trial 10 with value: 7.090318654933139.\n"
     ]
    },
    {
     "name": "stdout",
     "output_type": "stream",
     "text": [
      "7.2444835928753015\n"
     ]
    },
    {
     "name": "stderr",
     "output_type": "stream",
     "text": [
      "[I 2023-11-16 16:35:23,931] Trial 77 finished with value: 8.357163929411168 and parameters: {'n_estimators': 390, 'max_depth': 70, 'num_leaves': 20, 'learning_rate': 0.001}. Best is trial 10 with value: 7.090318654933139.\n"
     ]
    },
    {
     "name": "stdout",
     "output_type": "stream",
     "text": [
      "8.357163929411168\n"
     ]
    },
    {
     "name": "stderr",
     "output_type": "stream",
     "text": [
      "[I 2023-11-16 16:35:27,158] Trial 78 finished with value: 7.135067294013676 and parameters: {'n_estimators': 360, 'max_depth': 85, 'num_leaves': 15, 'learning_rate': 0.011}. Best is trial 10 with value: 7.090318654933139.\n"
     ]
    },
    {
     "name": "stdout",
     "output_type": "stream",
     "text": [
      "7.135067294013676\n"
     ]
    },
    {
     "name": "stderr",
     "output_type": "stream",
     "text": [
      "[I 2023-11-16 16:35:29,539] Trial 79 finished with value: 7.164995107314559 and parameters: {'n_estimators': 130, 'max_depth': 75, 'num_leaves': 35, 'learning_rate': 0.021}. Best is trial 10 with value: 7.090318654933139.\n"
     ]
    },
    {
     "name": "stdout",
     "output_type": "stream",
     "text": [
      "7.164995107314559\n"
     ]
    },
    {
     "name": "stderr",
     "output_type": "stream",
     "text": [
      "[I 2023-11-16 16:35:37,197] Trial 80 finished with value: 7.38712390144148 and parameters: {'n_estimators': 460, 'max_depth': 70, 'num_leaves': 95, 'learning_rate': 0.091}. Best is trial 10 with value: 7.090318654933139.\n"
     ]
    },
    {
     "name": "stdout",
     "output_type": "stream",
     "text": [
      "7.38712390144148\n"
     ]
    },
    {
     "name": "stderr",
     "output_type": "stream",
     "text": [
      "[I 2023-11-16 16:35:41,419] Trial 81 finished with value: 7.086888429865365 and parameters: {'n_estimators': 610, 'max_depth': 95, 'num_leaves': 10, 'learning_rate': 0.011}. Best is trial 81 with value: 7.086888429865365.\n"
     ]
    },
    {
     "name": "stdout",
     "output_type": "stream",
     "text": [
      "7.086888429865365\n"
     ]
    },
    {
     "name": "stderr",
     "output_type": "stream",
     "text": [
      "[I 2023-11-16 16:35:45,726] Trial 82 finished with value: 7.10050665400897 and parameters: {'n_estimators': 530, 'max_depth': 90, 'num_leaves': 10, 'learning_rate': 0.011}. Best is trial 81 with value: 7.086888429865365.\n"
     ]
    },
    {
     "name": "stdout",
     "output_type": "stream",
     "text": [
      "7.10050665400897\n"
     ]
    },
    {
     "name": "stderr",
     "output_type": "stream",
     "text": [
      "[I 2023-11-16 16:35:49,060] Trial 83 finished with value: 7.098682787053707 and parameters: {'n_estimators': 590, 'max_depth': 95, 'num_leaves': 5, 'learning_rate': 0.021}. Best is trial 81 with value: 7.086888429865365.\n"
     ]
    },
    {
     "name": "stdout",
     "output_type": "stream",
     "text": [
      "7.098682787053707\n"
     ]
    },
    {
     "name": "stderr",
     "output_type": "stream",
     "text": [
      "[I 2023-11-16 16:35:51,241] Trial 84 finished with value: 7.1088327755491205 and parameters: {'n_estimators': 240, 'max_depth': 100, 'num_leaves': 15, 'learning_rate': 0.031}. Best is trial 81 with value: 7.086888429865365.\n"
     ]
    },
    {
     "name": "stdout",
     "output_type": "stream",
     "text": [
      "7.1088327755491205\n"
     ]
    },
    {
     "name": "stderr",
     "output_type": "stream",
     "text": [
      "[I 2023-11-16 16:35:57,359] Trial 85 finished with value: 7.976386562838304 and parameters: {'n_estimators': 640, 'max_depth': 95, 'num_leaves': 20, 'learning_rate': 0.001}. Best is trial 81 with value: 7.086888429865365.\n"
     ]
    },
    {
     "name": "stdout",
     "output_type": "stream",
     "text": [
      "7.976386562838304\n"
     ]
    },
    {
     "name": "stderr",
     "output_type": "stream",
     "text": [
      "[I 2023-11-16 16:36:04,084] Trial 86 finished with value: 7.112499138993408 and parameters: {'n_estimators': 610, 'max_depth': 80, 'num_leaves': 25, 'learning_rate': 0.021}. Best is trial 81 with value: 7.086888429865365.\n"
     ]
    },
    {
     "name": "stdout",
     "output_type": "stream",
     "text": [
      "7.112499138993408\n"
     ]
    },
    {
     "name": "stderr",
     "output_type": "stream",
     "text": [
      "[I 2023-11-16 16:36:07,880] Trial 87 finished with value: 7.290512971246709 and parameters: {'n_estimators': 680, 'max_depth': 85, 'num_leaves': 10, 'learning_rate': 0.201}. Best is trial 81 with value: 7.086888429865365.\n"
     ]
    },
    {
     "name": "stdout",
     "output_type": "stream",
     "text": [
      "7.290512971246709\n"
     ]
    },
    {
     "name": "stderr",
     "output_type": "stream",
     "text": [
      "[I 2023-11-16 16:36:12,269] Trial 88 finished with value: 7.096524300131705 and parameters: {'n_estimators': 560, 'max_depth': 30, 'num_leaves': 15, 'learning_rate': 0.031}. Best is trial 81 with value: 7.086888429865365.\n"
     ]
    },
    {
     "name": "stdout",
     "output_type": "stream",
     "text": [
      "7.096524300131705\n"
     ]
    },
    {
     "name": "stderr",
     "output_type": "stream",
     "text": [
      "[I 2023-11-16 16:36:17,475] Trial 89 finished with value: 7.103172188937635 and parameters: {'n_estimators': 500, 'max_depth': 30, 'num_leaves': 25, 'learning_rate': 0.031}. Best is trial 81 with value: 7.086888429865365.\n"
     ]
    },
    {
     "name": "stdout",
     "output_type": "stream",
     "text": [
      "7.103172188937635\n"
     ]
    },
    {
     "name": "stderr",
     "output_type": "stream",
     "text": [
      "[I 2023-11-16 16:36:21,320] Trial 90 finished with value: 7.115167776452746 and parameters: {'n_estimators': 560, 'max_depth': 45, 'num_leaves': 10, 'learning_rate': 0.041}. Best is trial 81 with value: 7.086888429865365.\n"
     ]
    },
    {
     "name": "stdout",
     "output_type": "stream",
     "text": [
      "7.115167776452746\n"
     ]
    },
    {
     "name": "stderr",
     "output_type": "stream",
     "text": [
      "[I 2023-11-16 16:36:25,643] Trial 91 finished with value: 7.097706181129265 and parameters: {'n_estimators': 520, 'max_depth': 10, 'num_leaves': 15, 'learning_rate': 0.011}. Best is trial 81 with value: 7.086888429865365.\n"
     ]
    },
    {
     "name": "stdout",
     "output_type": "stream",
     "text": [
      "7.097706181129265\n"
     ]
    },
    {
     "name": "stderr",
     "output_type": "stream",
     "text": [
      "[I 2023-11-16 16:36:29,361] Trial 92 finished with value: 7.084412452528098 and parameters: {'n_estimators': 420, 'max_depth': 5, 'num_leaves': 20, 'learning_rate': 0.011}. Best is trial 92 with value: 7.084412452528098.\n"
     ]
    },
    {
     "name": "stdout",
     "output_type": "stream",
     "text": [
      "7.084412452528098\n"
     ]
    },
    {
     "name": "stderr",
     "output_type": "stream",
     "text": [
      "[I 2023-11-16 16:36:34,323] Trial 93 finished with value: 8.182126045152698 and parameters: {'n_estimators': 480, 'max_depth': 5, 'num_leaves': 20, 'learning_rate': 0.001}. Best is trial 92 with value: 7.084412452528098.\n"
     ]
    },
    {
     "name": "stdout",
     "output_type": "stream",
     "text": [
      "8.182126045152698\n"
     ]
    },
    {
     "name": "stderr",
     "output_type": "stream",
     "text": [
      "[I 2023-11-16 16:36:38,307] Trial 94 finished with value: 7.107880722691348 and parameters: {'n_estimators': 430, 'max_depth': 20, 'num_leaves': 15, 'learning_rate': 0.021}. Best is trial 92 with value: 7.084412452528098.\n"
     ]
    },
    {
     "name": "stdout",
     "output_type": "stream",
     "text": [
      "7.107880722691348\n"
     ]
    },
    {
     "name": "stderr",
     "output_type": "stream",
     "text": [
      "[I 2023-11-16 16:36:44,330] Trial 95 finished with value: 7.132364577060249 and parameters: {'n_estimators': 540, 'max_depth': 5, 'num_leaves': 30, 'learning_rate': 0.031}. Best is trial 92 with value: 7.084412452528098.\n"
     ]
    },
    {
     "name": "stdout",
     "output_type": "stream",
     "text": [
      "7.132364577060249\n"
     ]
    },
    {
     "name": "stderr",
     "output_type": "stream",
     "text": [
      "[I 2023-11-16 16:36:46,427] Trial 96 finished with value: 7.244421724575401 and parameters: {'n_estimators': 300, 'max_depth': 15, 'num_leaves': 5, 'learning_rate': 0.011}. Best is trial 92 with value: 7.084412452528098.\n"
     ]
    },
    {
     "name": "stdout",
     "output_type": "stream",
     "text": [
      "7.244421724575401\n"
     ]
    },
    {
     "name": "stderr",
     "output_type": "stream",
     "text": [
      "[I 2023-11-16 16:36:50,685] Trial 97 finished with value: 7.126290800373651 and parameters: {'n_estimators': 420, 'max_depth': 15, 'num_leaves': 20, 'learning_rate': 0.051000000000000004}. Best is trial 92 with value: 7.084412452528098.\n"
     ]
    },
    {
     "name": "stdout",
     "output_type": "stream",
     "text": [
      "7.126290800373651\n"
     ]
    },
    {
     "name": "stderr",
     "output_type": "stream",
     "text": [
      "[I 2023-11-16 16:36:54,615] Trial 98 finished with value: 8.12167716625488 and parameters: {'n_estimators': 570, 'max_depth': 10, 'num_leaves': 10, 'learning_rate': 0.001}. Best is trial 92 with value: 7.084412452528098.\n"
     ]
    },
    {
     "name": "stdout",
     "output_type": "stream",
     "text": [
      "8.12167716625488\n"
     ]
    },
    {
     "name": "stderr",
     "output_type": "stream",
     "text": [
      "[I 2023-11-16 16:36:59,085] Trial 99 finished with value: 7.1126742919370445 and parameters: {'n_estimators': 450, 'max_depth': 35, 'num_leaves': 25, 'learning_rate': 0.041}. Best is trial 92 with value: 7.084412452528098.\n"
     ]
    },
    {
     "name": "stdout",
     "output_type": "stream",
     "text": [
      "7.1126742919370445\n"
     ]
    },
    {
     "name": "stderr",
     "output_type": "stream",
     "text": [
      "[I 2023-11-16 16:37:03,342] Trial 100 finished with value: 7.112722238348509 and parameters: {'n_estimators': 360, 'max_depth': 10, 'num_leaves': 30, 'learning_rate': 0.021}. Best is trial 92 with value: 7.084412452528098.\n"
     ]
    },
    {
     "name": "stdout",
     "output_type": "stream",
     "text": [
      "7.112722238348509\n"
     ]
    },
    {
     "name": "stderr",
     "output_type": "stream",
     "text": [
      "[I 2023-11-16 16:37:08,199] Trial 101 finished with value: 7.084100951247941 and parameters: {'n_estimators': 530, 'max_depth': 5, 'num_leaves': 15, 'learning_rate': 0.011}. Best is trial 101 with value: 7.084100951247941.\n"
     ]
    },
    {
     "name": "stdout",
     "output_type": "stream",
     "text": [
      "7.084100951247941\n"
     ]
    },
    {
     "name": "stderr",
     "output_type": "stream",
     "text": [
      "[I 2023-11-16 16:37:12,259] Trial 102 finished with value: 7.086626123856973 and parameters: {'n_estimators': 510, 'max_depth': 5, 'num_leaves': 15, 'learning_rate': 0.011}. Best is trial 101 with value: 7.084100951247941.\n"
     ]
    },
    {
     "name": "stdout",
     "output_type": "stream",
     "text": [
      "7.086626123856973\n"
     ]
    },
    {
     "name": "stderr",
     "output_type": "stream",
     "text": [
      "[I 2023-11-16 16:37:16,776] Trial 103 finished with value: 8.13419285065851 and parameters: {'n_estimators': 510, 'max_depth': 5, 'num_leaves': 20, 'learning_rate': 0.001}. Best is trial 101 with value: 7.084100951247941.\n"
     ]
    },
    {
     "name": "stdout",
     "output_type": "stream",
     "text": [
      "8.13419285065851\n"
     ]
    },
    {
     "name": "stderr",
     "output_type": "stream",
     "text": [
      "[I 2023-11-16 16:37:21,604] Trial 104 finished with value: 7.099282789810286 and parameters: {'n_estimators': 490, 'max_depth': 10, 'num_leaves': 15, 'learning_rate': 0.011}. Best is trial 101 with value: 7.084100951247941.\n"
     ]
    },
    {
     "name": "stdout",
     "output_type": "stream",
     "text": [
      "7.099282789810286\n"
     ]
    },
    {
     "name": "stderr",
     "output_type": "stream",
     "text": [
      "[I 2023-11-16 16:37:25,014] Trial 105 finished with value: 7.0963919068288845 and parameters: {'n_estimators': 470, 'max_depth': 15, 'num_leaves': 10, 'learning_rate': 0.021}. Best is trial 101 with value: 7.084100951247941.\n"
     ]
    },
    {
     "name": "stdout",
     "output_type": "stream",
     "text": [
      "7.0963919068288845\n"
     ]
    },
    {
     "name": "stderr",
     "output_type": "stream",
     "text": [
      "[I 2023-11-16 16:37:28,978] Trial 106 finished with value: 7.098020596693772 and parameters: {'n_estimators': 460, 'max_depth': 15, 'num_leaves': 20, 'learning_rate': 0.031}. Best is trial 101 with value: 7.084100951247941.\n"
     ]
    },
    {
     "name": "stdout",
     "output_type": "stream",
     "text": [
      "7.098020596693772\n"
     ]
    },
    {
     "name": "stderr",
     "output_type": "stream",
     "text": [
      "[I 2023-11-16 16:37:31,052] Trial 107 finished with value: 7.131952368035755 and parameters: {'n_estimators': 400, 'max_depth': 5, 'num_leaves': 5, 'learning_rate': 0.111}. Best is trial 101 with value: 7.084100951247941.\n"
     ]
    },
    {
     "name": "stdout",
     "output_type": "stream",
     "text": [
      "7.131952368035755\n"
     ]
    },
    {
     "name": "stderr",
     "output_type": "stream",
     "text": [
      "[I 2023-11-16 16:37:35,547] Trial 108 finished with value: 7.105946492565834 and parameters: {'n_estimators': 470, 'max_depth': 5, 'num_leaves': 50, 'learning_rate': 0.021}. Best is trial 101 with value: 7.084100951247941.\n"
     ]
    },
    {
     "name": "stdout",
     "output_type": "stream",
     "text": [
      "7.105946492565834\n"
     ]
    },
    {
     "name": "stderr",
     "output_type": "stream",
     "text": [
      "[I 2023-11-16 16:37:40,784] Trial 109 finished with value: 8.15140307037949 and parameters: {'n_estimators': 530, 'max_depth': 25, 'num_leaves': 15, 'learning_rate': 0.001}. Best is trial 101 with value: 7.084100951247941.\n"
     ]
    },
    {
     "name": "stdout",
     "output_type": "stream",
     "text": [
      "8.15140307037949\n"
     ]
    },
    {
     "name": "stderr",
     "output_type": "stream",
     "text": [
      "[I 2023-11-16 16:37:45,690] Trial 110 finished with value: 7.156791776203981 and parameters: {'n_estimators': 580, 'max_depth': 10, 'num_leaves': 25, 'learning_rate': 0.051000000000000004}. Best is trial 101 with value: 7.084100951247941.\n"
     ]
    },
    {
     "name": "stdout",
     "output_type": "stream",
     "text": [
      "7.156791776203981\n"
     ]
    },
    {
     "name": "stderr",
     "output_type": "stream",
     "text": [
      "[I 2023-11-16 16:37:49,557] Trial 111 finished with value: 7.102529678624787 and parameters: {'n_estimators': 550, 'max_depth': 5, 'num_leaves': 10, 'learning_rate': 0.011}. Best is trial 101 with value: 7.084100951247941.\n"
     ]
    },
    {
     "name": "stdout",
     "output_type": "stream",
     "text": [
      "7.102529678624787\n"
     ]
    },
    {
     "name": "stderr",
     "output_type": "stream",
     "text": [
      "[I 2023-11-16 16:37:53,720] Trial 112 finished with value: 7.10080635014648 and parameters: {'n_estimators': 510, 'max_depth': 15, 'num_leaves': 10, 'learning_rate': 0.021}. Best is trial 101 with value: 7.084100951247941.\n"
     ]
    },
    {
     "name": "stdout",
     "output_type": "stream",
     "text": [
      "7.10080635014648\n"
     ]
    },
    {
     "name": "stderr",
     "output_type": "stream",
     "text": [
      "[I 2023-11-16 16:37:57,770] Trial 113 finished with value: 7.09698564931997 and parameters: {'n_estimators': 550, 'max_depth': 10, 'num_leaves': 10, 'learning_rate': 0.011}. Best is trial 101 with value: 7.084100951247941.\n"
     ]
    },
    {
     "name": "stdout",
     "output_type": "stream",
     "text": [
      "7.09698564931997\n"
     ]
    },
    {
     "name": "stderr",
     "output_type": "stream",
     "text": [
      "[I 2023-11-16 16:38:02,736] Trial 114 finished with value: 7.105800963486582 and parameters: {'n_estimators': 590, 'max_depth': 20, 'num_leaves': 20, 'learning_rate': 0.031}. Best is trial 101 with value: 7.084100951247941.\n"
     ]
    },
    {
     "name": "stdout",
     "output_type": "stream",
     "text": [
      "7.105800963486582\n"
     ]
    },
    {
     "name": "stderr",
     "output_type": "stream",
     "text": [
      "[I 2023-11-16 16:38:06,457] Trial 115 finished with value: 7.106130329485496 and parameters: {'n_estimators': 490, 'max_depth': 5, 'num_leaves': 15, 'learning_rate': 0.021}. Best is trial 101 with value: 7.084100951247941.\n"
     ]
    },
    {
     "name": "stdout",
     "output_type": "stream",
     "text": [
      "7.106130329485496\n"
     ]
    },
    {
     "name": "stderr",
     "output_type": "stream",
     "text": [
      "[I 2023-11-16 16:38:11,480] Trial 116 finished with value: 8.166397873250586 and parameters: {'n_estimators': 520, 'max_depth': 30, 'num_leaves': 15, 'learning_rate': 0.001}. Best is trial 101 with value: 7.084100951247941.\n"
     ]
    },
    {
     "name": "stdout",
     "output_type": "stream",
     "text": [
      "8.166397873250586\n"
     ]
    },
    {
     "name": "stderr",
     "output_type": "stream",
     "text": [
      "[I 2023-11-16 16:38:13,725] Trial 117 finished with value: 7.157054471261532 and parameters: {'n_estimators': 440, 'max_depth': 15, 'num_leaves': 5, 'learning_rate': 0.151}. Best is trial 101 with value: 7.084100951247941.\n"
     ]
    },
    {
     "name": "stdout",
     "output_type": "stream",
     "text": [
      "7.157054471261532\n"
     ]
    },
    {
     "name": "stderr",
     "output_type": "stream",
     "text": [
      "[I 2023-11-16 16:38:16,353] Trial 118 finished with value: 7.14854288926786 and parameters: {'n_estimators': 340, 'max_depth': 10, 'num_leaves': 10, 'learning_rate': 0.011}. Best is trial 101 with value: 7.084100951247941.\n"
     ]
    },
    {
     "name": "stdout",
     "output_type": "stream",
     "text": [
      "7.14854288926786\n"
     ]
    },
    {
     "name": "stderr",
     "output_type": "stream",
     "text": [
      "[I 2023-11-16 16:38:20,541] Trial 119 finished with value: 7.111644872022463 and parameters: {'n_estimators': 470, 'max_depth': 5, 'num_leaves': 25, 'learning_rate': 0.021}. Best is trial 101 with value: 7.084100951247941.\n"
     ]
    },
    {
     "name": "stdout",
     "output_type": "stream",
     "text": [
      "7.111644872022463\n"
     ]
    },
    {
     "name": "stderr",
     "output_type": "stream",
     "text": [
      "[I 2023-11-16 16:38:24,330] Trial 120 finished with value: 7.105399393256527 and parameters: {'n_estimators': 410, 'max_depth': 95, 'num_leaves': 20, 'learning_rate': 0.041}. Best is trial 101 with value: 7.084100951247941.\n"
     ]
    },
    {
     "name": "stdout",
     "output_type": "stream",
     "text": [
      "7.105399393256527\n"
     ]
    },
    {
     "name": "stderr",
     "output_type": "stream",
     "text": [
      "[I 2023-11-16 16:38:28,540] Trial 121 finished with value: 7.094859787998966 and parameters: {'n_estimators': 560, 'max_depth': 40, 'num_leaves': 10, 'learning_rate': 0.011}. Best is trial 101 with value: 7.084100951247941.\n"
     ]
    },
    {
     "name": "stdout",
     "output_type": "stream",
     "text": [
      "7.094859787998966\n"
     ]
    },
    {
     "name": "stderr",
     "output_type": "stream",
     "text": [
      "[I 2023-11-16 16:38:32,472] Trial 122 finished with value: 7.094859787998966 and parameters: {'n_estimators': 560, 'max_depth': 35, 'num_leaves': 10, 'learning_rate': 0.011}. Best is trial 101 with value: 7.084100951247941.\n"
     ]
    },
    {
     "name": "stdout",
     "output_type": "stream",
     "text": [
      "7.094859787998966\n"
     ]
    },
    {
     "name": "stderr",
     "output_type": "stream",
     "text": [
      "[I 2023-11-16 16:38:37,951] Trial 123 finished with value: 8.040118187778964 and parameters: {'n_estimators': 610, 'max_depth': 40, 'num_leaves': 15, 'learning_rate': 0.001}. Best is trial 101 with value: 7.084100951247941.\n"
     ]
    },
    {
     "name": "stdout",
     "output_type": "stream",
     "text": [
      "8.040118187778964\n"
     ]
    },
    {
     "name": "stderr",
     "output_type": "stream",
     "text": [
      "[I 2023-11-16 16:38:41,728] Trial 124 finished with value: 7.126481545146539 and parameters: {'n_estimators': 570, 'max_depth': 50, 'num_leaves': 5, 'learning_rate': 0.031}. Best is trial 101 with value: 7.084100951247941.\n"
     ]
    },
    {
     "name": "stdout",
     "output_type": "stream",
     "text": [
      "7.126481545146539\n"
     ]
    },
    {
     "name": "stderr",
     "output_type": "stream",
     "text": [
      "[I 2023-11-16 16:38:44,017] Trial 125 finished with value: 7.185061379220919 and parameters: {'n_estimators': 270, 'max_depth': 35, 'num_leaves': 10, 'learning_rate': 0.011}. Best is trial 101 with value: 7.084100951247941.\n"
     ]
    },
    {
     "name": "stdout",
     "output_type": "stream",
     "text": [
      "7.185061379220919\n"
     ]
    },
    {
     "name": "stderr",
     "output_type": "stream",
     "text": [
      "[I 2023-11-16 16:38:49,061] Trial 126 finished with value: 8.15140307037949 and parameters: {'n_estimators': 530, 'max_depth': 30, 'num_leaves': 15, 'learning_rate': 0.001}. Best is trial 101 with value: 7.084100951247941.\n"
     ]
    },
    {
     "name": "stdout",
     "output_type": "stream",
     "text": [
      "8.15140307037949\n"
     ]
    },
    {
     "name": "stderr",
     "output_type": "stream",
     "text": [
      "[I 2023-11-16 16:38:54,947] Trial 127 finished with value: 7.106287335409385 and parameters: {'n_estimators': 650, 'max_depth': 45, 'num_leaves': 20, 'learning_rate': 0.021}. Best is trial 101 with value: 7.084100951247941.\n"
     ]
    },
    {
     "name": "stdout",
     "output_type": "stream",
     "text": [
      "7.106287335409385\n"
     ]
    },
    {
     "name": "stderr",
     "output_type": "stream",
     "text": [
      "[I 2023-11-16 16:38:59,317] Trial 128 finished with value: 7.108380978289661 and parameters: {'n_estimators': 500, 'max_depth': 40, 'num_leaves': 10, 'learning_rate': 0.011}. Best is trial 101 with value: 7.084100951247941.\n"
     ]
    },
    {
     "name": "stdout",
     "output_type": "stream",
     "text": [
      "7.108380978289661\n"
     ]
    },
    {
     "name": "stderr",
     "output_type": "stream",
     "text": [
      "[I 2023-11-16 16:39:03,663] Trial 129 finished with value: 7.102741680437941 and parameters: {'n_estimators': 590, 'max_depth': 25, 'num_leaves': 15, 'learning_rate': 0.031}. Best is trial 101 with value: 7.084100951247941.\n"
     ]
    },
    {
     "name": "stdout",
     "output_type": "stream",
     "text": [
      "7.102741680437941\n"
     ]
    },
    {
     "name": "stderr",
     "output_type": "stream",
     "text": [
      "[I 2023-11-16 16:39:14,418] Trial 130 finished with value: 7.143428695503319 and parameters: {'n_estimators': 540, 'max_depth': 90, 'num_leaves': 65, 'learning_rate': 0.011}. Best is trial 101 with value: 7.084100951247941.\n"
     ]
    },
    {
     "name": "stdout",
     "output_type": "stream",
     "text": [
      "7.143428695503319\n"
     ]
    },
    {
     "name": "stderr",
     "output_type": "stream",
     "text": [
      "[I 2023-11-16 16:39:18,388] Trial 131 finished with value: 7.1055552513924605 and parameters: {'n_estimators': 560, 'max_depth': 25, 'num_leaves': 10, 'learning_rate': 0.021}. Best is trial 101 with value: 7.084100951247941.\n"
     ]
    },
    {
     "name": "stdout",
     "output_type": "stream",
     "text": [
      "7.1055552513924605\n"
     ]
    },
    {
     "name": "stderr",
     "output_type": "stream",
     "text": [
      "[I 2023-11-16 16:39:21,527] Trial 132 finished with value: 8.255707143383557 and parameters: {'n_estimators': 570, 'max_depth': 45, 'num_leaves': 5, 'learning_rate': 0.001}. Best is trial 101 with value: 7.084100951247941.\n"
     ]
    },
    {
     "name": "stdout",
     "output_type": "stream",
     "text": [
      "8.255707143383557\n"
     ]
    },
    {
     "name": "stderr",
     "output_type": "stream",
     "text": [
      "[I 2023-11-16 16:39:26,513] Trial 133 finished with value: 7.098641732404612 and parameters: {'n_estimators': 520, 'max_depth': 35, 'num_leaves': 20, 'learning_rate': 0.011}. Best is trial 101 with value: 7.084100951247941.\n"
     ]
    },
    {
     "name": "stdout",
     "output_type": "stream",
     "text": [
      "7.098641732404612\n"
     ]
    },
    {
     "name": "stderr",
     "output_type": "stream",
     "text": [
      "[I 2023-11-16 16:39:30,913] Trial 134 finished with value: 7.103270043792209 and parameters: {'n_estimators': 550, 'max_depth': 90, 'num_leaves': 10, 'learning_rate': 0.021}. Best is trial 101 with value: 7.084100951247941.\n"
     ]
    },
    {
     "name": "stdout",
     "output_type": "stream",
     "text": [
      "7.103270043792209\n"
     ]
    },
    {
     "name": "stderr",
     "output_type": "stream",
     "text": [
      "[I 2023-11-16 16:39:36,092] Trial 135 finished with value: 8.013845524766209 and parameters: {'n_estimators': 630, 'max_depth': 40, 'num_leaves': 15, 'learning_rate': 0.001}. Best is trial 101 with value: 7.084100951247941.\n"
     ]
    },
    {
     "name": "stdout",
     "output_type": "stream",
     "text": [
      "8.013845524766209\n"
     ]
    },
    {
     "name": "stderr",
     "output_type": "stream",
     "text": [
      "[I 2023-11-16 16:39:41,616] Trial 136 finished with value: 7.095294342468929 and parameters: {'n_estimators': 490, 'max_depth': 30, 'num_leaves': 25, 'learning_rate': 0.011}. Best is trial 101 with value: 7.084100951247941.\n"
     ]
    },
    {
     "name": "stdout",
     "output_type": "stream",
     "text": [
      "7.095294342468929\n"
     ]
    },
    {
     "name": "stderr",
     "output_type": "stream",
     "text": [
      "[I 2023-11-16 16:39:47,609] Trial 137 finished with value: 7.119759104085513 and parameters: {'n_estimators': 480, 'max_depth': 30, 'num_leaves': 30, 'learning_rate': 0.021}. Best is trial 101 with value: 7.084100951247941.\n"
     ]
    },
    {
     "name": "stdout",
     "output_type": "stream",
     "text": [
      "7.119759104085513\n"
     ]
    },
    {
     "name": "stderr",
     "output_type": "stream",
     "text": [
      "[I 2023-11-16 16:39:52,563] Trial 138 finished with value: 7.096284983461202 and parameters: {'n_estimators': 450, 'max_depth': 100, 'num_leaves': 25, 'learning_rate': 0.011}. Best is trial 101 with value: 7.084100951247941.\n"
     ]
    },
    {
     "name": "stdout",
     "output_type": "stream",
     "text": [
      "7.096284983461202\n"
     ]
    },
    {
     "name": "stderr",
     "output_type": "stream",
     "text": [
      "[I 2023-11-16 16:39:57,252] Trial 139 finished with value: 7.098110694570179 and parameters: {'n_estimators': 430, 'max_depth': 100, 'num_leaves': 25, 'learning_rate': 0.011}. Best is trial 101 with value: 7.084100951247941.\n"
     ]
    },
    {
     "name": "stdout",
     "output_type": "stream",
     "text": [
      "7.098110694570179\n"
     ]
    },
    {
     "name": "stderr",
     "output_type": "stream",
     "text": [
      "[I 2023-11-16 16:40:02,909] Trial 140 finished with value: 8.357918272742097 and parameters: {'n_estimators': 380, 'max_depth': 100, 'num_leaves': 35, 'learning_rate': 0.001}. Best is trial 101 with value: 7.084100951247941.\n"
     ]
    },
    {
     "name": "stdout",
     "output_type": "stream",
     "text": [
      "8.357918272742097\n"
     ]
    },
    {
     "name": "stderr",
     "output_type": "stream",
     "text": [
      "[I 2023-11-16 16:40:08,316] Trial 141 finished with value: 7.120368389229522 and parameters: {'n_estimators': 500, 'max_depth': 95, 'num_leaves': 30, 'learning_rate': 0.021}. Best is trial 101 with value: 7.084100951247941.\n"
     ]
    },
    {
     "name": "stdout",
     "output_type": "stream",
     "text": [
      "7.120368389229522\n"
     ]
    },
    {
     "name": "stderr",
     "output_type": "stream",
     "text": [
      "[I 2023-11-16 16:40:13,459] Trial 142 finished with value: 7.096589453722469 and parameters: {'n_estimators': 460, 'max_depth': 35, 'num_leaves': 25, 'learning_rate': 0.011}. Best is trial 101 with value: 7.084100951247941.\n"
     ]
    },
    {
     "name": "stdout",
     "output_type": "stream",
     "text": [
      "7.096589453722469\n"
     ]
    },
    {
     "name": "stderr",
     "output_type": "stream",
     "text": [
      "[I 2023-11-16 16:40:20,205] Trial 143 finished with value: 7.452422814299373 and parameters: {'n_estimators': 920, 'max_depth': 100, 'num_leaves': 20, 'learning_rate': 0.251}. Best is trial 101 with value: 7.084100951247941.\n"
     ]
    },
    {
     "name": "stdout",
     "output_type": "stream",
     "text": [
      "7.452422814299373\n"
     ]
    },
    {
     "name": "stderr",
     "output_type": "stream",
     "text": [
      "[I 2023-11-16 16:40:24,426] Trial 144 finished with value: 7.065619482796654 and parameters: {'n_estimators': 450, 'max_depth': 5, 'num_leaves': 25, 'learning_rate': 0.011}. Best is trial 144 with value: 7.065619482796654.\n"
     ]
    },
    {
     "name": "stdout",
     "output_type": "stream",
     "text": [
      "7.065619482796654\n"
     ]
    },
    {
     "name": "stderr",
     "output_type": "stream",
     "text": [
      "[I 2023-11-16 16:40:28,625] Trial 145 finished with value: 7.065619482796654 and parameters: {'n_estimators': 450, 'max_depth': 5, 'num_leaves': 25, 'learning_rate': 0.011}. Best is trial 144 with value: 7.065619482796654.\n"
     ]
    },
    {
     "name": "stdout",
     "output_type": "stream",
     "text": [
      "7.065619482796654\n"
     ]
    },
    {
     "name": "stderr",
     "output_type": "stream",
     "text": [
      "[I 2023-11-16 16:40:33,291] Trial 146 finished with value: 8.232144151583098 and parameters: {'n_estimators': 440, 'max_depth': 5, 'num_leaves': 25, 'learning_rate': 0.001}. Best is trial 144 with value: 7.065619482796654.\n"
     ]
    },
    {
     "name": "stdout",
     "output_type": "stream",
     "text": [
      "8.232144151583098\n"
     ]
    },
    {
     "name": "stderr",
     "output_type": "stream",
     "text": [
      "[I 2023-11-16 16:40:37,971] Trial 147 finished with value: 7.0668687299794986 and parameters: {'n_estimators': 400, 'max_depth': 5, 'num_leaves': 30, 'learning_rate': 0.011}. Best is trial 144 with value: 7.065619482796654.\n"
     ]
    },
    {
     "name": "stdout",
     "output_type": "stream",
     "text": [
      "7.0668687299794986\n"
     ]
    },
    {
     "name": "stderr",
     "output_type": "stream",
     "text": [
      "[I 2023-11-16 16:40:42,522] Trial 148 finished with value: 8.343756110231652 and parameters: {'n_estimators': 370, 'max_depth': 5, 'num_leaves': 30, 'learning_rate': 0.001}. Best is trial 144 with value: 7.065619482796654.\n"
     ]
    },
    {
     "name": "stdout",
     "output_type": "stream",
     "text": [
      "8.343756110231652\n"
     ]
    },
    {
     "name": "stderr",
     "output_type": "stream",
     "text": [
      "[I 2023-11-16 16:40:47,733] Trial 149 finished with value: 7.099307254252858 and parameters: {'n_estimators': 410, 'max_depth': 10, 'num_leaves': 25, 'learning_rate': 0.011}. Best is trial 144 with value: 7.065619482796654.\n",
      "C:\\Users\\Dmser\\AppData\\Local\\Temp\\ipykernel_15412\\1866508612.py:11: SettingWithCopyWarning: \n",
      "A value is trying to be set on a copy of a slice from a DataFrame.\n",
      "Try using .loc[row_indexer,col_indexer] = value instead\n",
      "\n",
      "See the caveats in the documentation: https://pandas.pydata.org/pandas-docs/stable/user_guide/indexing.html#returning-a-view-versus-a-copy\n",
      "  df2_temp[f'milk_yield_{i}'] = df2[f'milk_yield_{i}']\n",
      "[I 2023-11-16 16:40:47,813] A new study created in memory with name: no-name-381a9e8c-d447-415b-a766-5602655695d5\n"
     ]
    },
    {
     "name": "stdout",
     "output_type": "stream",
     "text": [
      "7.099307254252858\n",
      "{'n_estimators': 450, 'max_depth': 5, 'num_leaves': 25, 'learning_rate': 0.011}\n"
     ]
    },
    {
     "name": "stderr",
     "output_type": "stream",
     "text": [
      "[I 2023-11-16 16:40:51,379] Trial 0 finished with value: 7.478654468792401 and parameters: {'n_estimators': 260, 'max_depth': 10, 'num_leaves': 45, 'learning_rate': 0.041}. Best is trial 0 with value: 7.478654468792401.\n"
     ]
    },
    {
     "name": "stdout",
     "output_type": "stream",
     "text": [
      "7.478654468792401\n"
     ]
    },
    {
     "name": "stderr",
     "output_type": "stream",
     "text": [
      "[I 2023-11-16 16:40:58,255] Trial 1 finished with value: 7.7124964019906805 and parameters: {'n_estimators': 450, 'max_depth': 90, 'num_leaves': 95, 'learning_rate': 0.091}. Best is trial 0 with value: 7.478654468792401.\n"
     ]
    },
    {
     "name": "stdout",
     "output_type": "stream",
     "text": [
      "7.7124964019906805\n"
     ]
    },
    {
     "name": "stderr",
     "output_type": "stream",
     "text": [
      "[I 2023-11-16 16:41:07,808] Trial 2 finished with value: 8.061277455258631 and parameters: {'n_estimators': 650, 'max_depth': 90, 'num_leaves': 95, 'learning_rate': 0.251}. Best is trial 0 with value: 7.478654468792401.\n"
     ]
    },
    {
     "name": "stdout",
     "output_type": "stream",
     "text": [
      "8.061277455258631\n"
     ]
    },
    {
     "name": "stderr",
     "output_type": "stream",
     "text": [
      "[I 2023-11-16 16:41:13,936] Trial 3 finished with value: 7.652137782145112 and parameters: {'n_estimators': 370, 'max_depth': 80, 'num_leaves': 100, 'learning_rate': 0.081}. Best is trial 0 with value: 7.478654468792401.\n"
     ]
    },
    {
     "name": "stdout",
     "output_type": "stream",
     "text": [
      "7.652137782145112\n"
     ]
    },
    {
     "name": "stderr",
     "output_type": "stream",
     "text": [
      "[I 2023-11-16 16:41:15,754] Trial 4 finished with value: 7.7374787729782675 and parameters: {'n_estimators': 190, 'max_depth': 10, 'num_leaves': 40, 'learning_rate': 0.251}. Best is trial 0 with value: 7.478654468792401.\n"
     ]
    },
    {
     "name": "stdout",
     "output_type": "stream",
     "text": [
      "7.7374787729782675\n"
     ]
    },
    {
     "name": "stderr",
     "output_type": "stream",
     "text": [
      "[I 2023-11-16 16:41:19,486] Trial 5 finished with value: 7.381569270740798 and parameters: {'n_estimators': 640, 'max_depth': 55, 'num_leaves': 10, 'learning_rate': 0.041}. Best is trial 5 with value: 7.381569270740798.\n"
     ]
    },
    {
     "name": "stdout",
     "output_type": "stream",
     "text": [
      "7.381569270740798\n"
     ]
    },
    {
     "name": "stderr",
     "output_type": "stream",
     "text": [
      "[I 2023-11-16 16:41:26,750] Trial 6 finished with value: 7.599676729153901 and parameters: {'n_estimators': 910, 'max_depth': 35, 'num_leaves': 30, 'learning_rate': 0.07100000000000001}. Best is trial 5 with value: 7.381569270740798.\n"
     ]
    },
    {
     "name": "stdout",
     "output_type": "stream",
     "text": [
      "7.599676729153901\n"
     ]
    },
    {
     "name": "stderr",
     "output_type": "stream",
     "text": [
      "[I 2023-11-16 16:41:32,323] Trial 7 finished with value: 7.8087499005470535 and parameters: {'n_estimators': 490, 'max_depth': 35, 'num_leaves': 65, 'learning_rate': 0.181}. Best is trial 5 with value: 7.381569270740798.\n"
     ]
    },
    {
     "name": "stdout",
     "output_type": "stream",
     "text": [
      "7.8087499005470535\n"
     ]
    },
    {
     "name": "stderr",
     "output_type": "stream",
     "text": [
      "[I 2023-11-16 16:41:37,617] Trial 8 finished with value: 7.737471428346794 and parameters: {'n_estimators': 700, 'max_depth': 30, 'num_leaves': 25, 'learning_rate': 0.161}. Best is trial 5 with value: 7.381569270740798.\n"
     ]
    },
    {
     "name": "stdout",
     "output_type": "stream",
     "text": [
      "7.737471428346794\n"
     ]
    },
    {
     "name": "stderr",
     "output_type": "stream",
     "text": [
      "[I 2023-11-16 16:41:44,193] Trial 9 finished with value: 7.50381779541805 and parameters: {'n_estimators': 430, 'max_depth': 40, 'num_leaves': 60, 'learning_rate': 0.021}. Best is trial 5 with value: 7.381569270740798.\n"
     ]
    },
    {
     "name": "stdout",
     "output_type": "stream",
     "text": [
      "7.50381779541805\n"
     ]
    },
    {
     "name": "stderr",
     "output_type": "stream",
     "text": [
      "[I 2023-11-16 16:41:44,701] Trial 10 finished with value: 8.36306866383644 and parameters: {'n_estimators': 50, 'max_depth': 65, 'num_leaves': 5, 'learning_rate': 0.011}. Best is trial 5 with value: 7.381569270740798.\n"
     ]
    },
    {
     "name": "stdout",
     "output_type": "stream",
     "text": [
      "8.36306866383644\n"
     ]
    },
    {
     "name": "stderr",
     "output_type": "stream",
     "text": [
      "[I 2023-11-16 16:41:48,040] Trial 11 finished with value: 7.437499238306164 and parameters: {'n_estimators': 760, 'max_depth': 60, 'num_leaves': 5, 'learning_rate': 0.041}. Best is trial 5 with value: 7.381569270740798.\n"
     ]
    },
    {
     "name": "stdout",
     "output_type": "stream",
     "text": [
      "7.437499238306164\n"
     ]
    },
    {
     "name": "stderr",
     "output_type": "stream",
     "text": [
      "[I 2023-11-16 16:41:52,170] Trial 12 finished with value: 7.538123565707995 and parameters: {'n_estimators': 880, 'max_depth': 60, 'num_leaves': 5, 'learning_rate': 0.131}. Best is trial 5 with value: 7.381569270740798.\n"
     ]
    },
    {
     "name": "stdout",
     "output_type": "stream",
     "text": [
      "7.538123565707995\n"
     ]
    },
    {
     "name": "stderr",
     "output_type": "stream",
     "text": [
      "[I 2023-11-16 16:41:57,940] Trial 13 finished with value: 7.4996022235954065 and parameters: {'n_estimators': 740, 'max_depth': 70, 'num_leaves': 20, 'learning_rate': 0.051000000000000004}. Best is trial 5 with value: 7.381569270740798.\n"
     ]
    },
    {
     "name": "stdout",
     "output_type": "stream",
     "text": [
      "7.4996022235954065\n"
     ]
    },
    {
     "name": "stderr",
     "output_type": "stream",
     "text": [
      "[I 2023-11-16 16:42:02,497] Trial 14 finished with value: 8.012522419913292 and parameters: {'n_estimators': 1000, 'max_depth': 50, 'num_leaves': 5, 'learning_rate': 0.001}. Best is trial 5 with value: 7.381569270740798.\n"
     ]
    },
    {
     "name": "stdout",
     "output_type": "stream",
     "text": [
      "8.012522419913292\n"
     ]
    },
    {
     "name": "stderr",
     "output_type": "stream",
     "text": [
      "[I 2023-11-16 16:42:10,715] Trial 15 finished with value: 7.793092594497024 and parameters: {'n_estimators': 600, 'max_depth': 50, 'num_leaves': 75, 'learning_rate': 0.121}. Best is trial 5 with value: 7.381569270740798.\n"
     ]
    },
    {
     "name": "stdout",
     "output_type": "stream",
     "text": [
      "7.793092594497024\n"
     ]
    },
    {
     "name": "stderr",
     "output_type": "stream",
     "text": [
      "[I 2023-11-16 16:42:16,169] Trial 16 finished with value: 7.512673676644842 and parameters: {'n_estimators': 800, 'max_depth': 80, 'num_leaves': 20, 'learning_rate': 0.051000000000000004}. Best is trial 5 with value: 7.381569270740798.\n"
     ]
    },
    {
     "name": "stdout",
     "output_type": "stream",
     "text": [
      "7.512673676644842\n"
     ]
    },
    {
     "name": "stderr",
     "output_type": "stream",
     "text": [
      "[I 2023-11-16 16:42:21,094] Trial 17 finished with value: 7.608632752123464 and parameters: {'n_estimators': 550, 'max_depth': 100, 'num_leaves': 40, 'learning_rate': 0.101}. Best is trial 5 with value: 7.381569270740798.\n"
     ]
    },
    {
     "name": "stdout",
     "output_type": "stream",
     "text": [
      "7.608632752123464\n"
     ]
    },
    {
     "name": "stderr",
     "output_type": "stream",
     "text": [
      "[I 2023-11-16 16:42:33,454] Trial 18 finished with value: 7.613345700530078 and parameters: {'n_estimators': 810, 'max_depth': 20, 'num_leaves': 80, 'learning_rate': 0.031}. Best is trial 5 with value: 7.381569270740798.\n"
     ]
    },
    {
     "name": "stdout",
     "output_type": "stream",
     "text": [
      "7.613345700530078\n"
     ]
    },
    {
     "name": "stderr",
     "output_type": "stream",
     "text": [
      "[I 2023-11-16 16:42:37,306] Trial 19 finished with value: 7.705337940334851 and parameters: {'n_estimators': 630, 'max_depth': 55, 'num_leaves': 15, 'learning_rate': 0.181}. Best is trial 5 with value: 7.381569270740798.\n"
     ]
    },
    {
     "name": "stdout",
     "output_type": "stream",
     "text": [
      "7.705337940334851\n"
     ]
    },
    {
     "name": "stderr",
     "output_type": "stream",
     "text": [
      "[I 2023-11-16 16:42:46,340] Trial 20 finished with value: 7.615035488989919 and parameters: {'n_estimators': 750, 'max_depth': 75, 'num_leaves': 50, 'learning_rate': 0.061}. Best is trial 5 with value: 7.381569270740798.\n"
     ]
    },
    {
     "name": "stdout",
     "output_type": "stream",
     "text": [
      "7.615035488989919\n"
     ]
    },
    {
     "name": "stderr",
     "output_type": "stream",
     "text": [
      "[I 2023-11-16 16:42:50,042] Trial 21 finished with value: 7.447277592567811 and parameters: {'n_estimators': 330, 'max_depth': 10, 'num_leaves': 35, 'learning_rate': 0.031}. Best is trial 5 with value: 7.381569270740798.\n"
     ]
    },
    {
     "name": "stdout",
     "output_type": "stream",
     "text": [
      "7.447277592567811\n"
     ]
    },
    {
     "name": "stderr",
     "output_type": "stream",
     "text": [
      "[I 2023-11-16 16:42:53,615] Trial 22 finished with value: 7.416548125022503 and parameters: {'n_estimators': 330, 'max_depth': 45, 'num_leaves': 30, 'learning_rate': 0.021}. Best is trial 5 with value: 7.381569270740798.\n"
     ]
    },
    {
     "name": "stdout",
     "output_type": "stream",
     "text": [
      "7.416548125022503\n"
     ]
    },
    {
     "name": "stderr",
     "output_type": "stream",
     "text": [
      "[I 2023-11-16 16:42:57,956] Trial 23 finished with value: 8.23087778812142 and parameters: {'n_estimators': 550, 'max_depth': 45, 'num_leaves': 10, 'learning_rate': 0.001}. Best is trial 5 with value: 7.381569270740798.\n"
     ]
    },
    {
     "name": "stdout",
     "output_type": "stream",
     "text": [
      "8.23087778812142\n"
     ]
    },
    {
     "name": "stderr",
     "output_type": "stream",
     "text": [
      "[I 2023-11-16 16:42:59,103] Trial 24 finished with value: 7.347625648954795 and parameters: {'n_estimators': 110, 'max_depth': 60, 'num_leaves': 15, 'learning_rate': 0.101}. Best is trial 24 with value: 7.347625648954795.\n"
     ]
    },
    {
     "name": "stdout",
     "output_type": "stream",
     "text": [
      "7.347625648954795\n"
     ]
    },
    {
     "name": "stderr",
     "output_type": "stream",
     "text": [
      "[I 2023-11-16 16:43:00,246] Trial 25 finished with value: 7.411002469724915 and parameters: {'n_estimators': 100, 'max_depth': 45, 'num_leaves': 30, 'learning_rate': 0.111}. Best is trial 24 with value: 7.347625648954795.\n"
     ]
    },
    {
     "name": "stdout",
     "output_type": "stream",
     "text": [
      "7.411002469724915\n"
     ]
    },
    {
     "name": "stderr",
     "output_type": "stream",
     "text": [
      "[I 2023-11-16 16:43:00,889] Trial 26 finished with value: 7.406585738316632 and parameters: {'n_estimators': 50, 'max_depth': 25, 'num_leaves': 15, 'learning_rate': 0.111}. Best is trial 24 with value: 7.347625648954795.\n"
     ]
    },
    {
     "name": "stdout",
     "output_type": "stream",
     "text": [
      "7.406585738316632\n"
     ]
    },
    {
     "name": "stderr",
     "output_type": "stream",
     "text": [
      "[I 2023-11-16 16:43:02,005] Trial 27 finished with value: 7.461131312564117 and parameters: {'n_estimators': 140, 'max_depth': 25, 'num_leaves': 15, 'learning_rate': 0.14100000000000001}. Best is trial 24 with value: 7.347625648954795.\n"
     ]
    },
    {
     "name": "stdout",
     "output_type": "stream",
     "text": [
      "7.461131312564117\n"
     ]
    },
    {
     "name": "stderr",
     "output_type": "stream",
     "text": [
      "[I 2023-11-16 16:43:03,504] Trial 28 finished with value: 7.476451318201747 and parameters: {'n_estimators': 210, 'max_depth': 20, 'num_leaves': 15, 'learning_rate': 0.151}. Best is trial 24 with value: 7.347625648954795.\n"
     ]
    },
    {
     "name": "stdout",
     "output_type": "stream",
     "text": [
      "7.476451318201747\n"
     ]
    },
    {
     "name": "stderr",
     "output_type": "stream",
     "text": [
      "[I 2023-11-16 16:43:04,180] Trial 29 finished with value: 7.397058974223965 and parameters: {'n_estimators': 50, 'max_depth': 5, 'num_leaves': 50, 'learning_rate': 0.101}. Best is trial 24 with value: 7.347625648954795.\n"
     ]
    },
    {
     "name": "stdout",
     "output_type": "stream",
     "text": [
      "7.397058974223965\n"
     ]
    },
    {
     "name": "stderr",
     "output_type": "stream",
     "text": [
      "[I 2023-11-16 16:43:06,218] Trial 30 finished with value: 7.687070665296954 and parameters: {'n_estimators': 230, 'max_depth': 5, 'num_leaves': 50, 'learning_rate': 0.221}. Best is trial 24 with value: 7.347625648954795.\n"
     ]
    },
    {
     "name": "stdout",
     "output_type": "stream",
     "text": [
      "7.687070665296954\n"
     ]
    },
    {
     "name": "stderr",
     "output_type": "stream",
     "text": [
      "[I 2023-11-16 16:43:06,930] Trial 31 finished with value: 7.366806622010951 and parameters: {'n_estimators': 50, 'max_depth': 15, 'num_leaves': 20, 'learning_rate': 0.091}. Best is trial 24 with value: 7.347625648954795.\n"
     ]
    },
    {
     "name": "stdout",
     "output_type": "stream",
     "text": [
      "7.366806622010951\n"
     ]
    },
    {
     "name": "stderr",
     "output_type": "stream",
     "text": [
      "[I 2023-11-16 16:43:08,314] Trial 32 finished with value: 7.4676826982408695 and parameters: {'n_estimators': 140, 'max_depth': 5, 'num_leaves': 25, 'learning_rate': 0.091}. Best is trial 24 with value: 7.347625648954795.\n"
     ]
    },
    {
     "name": "stdout",
     "output_type": "stream",
     "text": [
      "7.4676826982408695\n"
     ]
    },
    {
     "name": "stderr",
     "output_type": "stream",
     "text": [
      "[I 2023-11-16 16:43:12,325] Trial 33 finished with value: 7.620496386306405 and parameters: {'n_estimators': 260, 'max_depth': 15, 'num_leaves': 70, 'learning_rate': 0.081}. Best is trial 24 with value: 7.347625648954795.\n"
     ]
    },
    {
     "name": "stdout",
     "output_type": "stream",
     "text": [
      "7.620496386306405\n"
     ]
    },
    {
     "name": "stderr",
     "output_type": "stream",
     "text": [
      "[I 2023-11-16 16:43:15,382] Trial 34 finished with value: 7.568939138111232 and parameters: {'n_estimators': 150, 'max_depth': 60, 'num_leaves': 85, 'learning_rate': 0.081}. Best is trial 24 with value: 7.347625648954795.\n"
     ]
    },
    {
     "name": "stdout",
     "output_type": "stream",
     "text": [
      "7.568939138111232\n"
     ]
    },
    {
     "name": "stderr",
     "output_type": "stream",
     "text": [
      "[I 2023-11-16 16:43:16,624] Trial 35 finished with value: 7.43630226999718 and parameters: {'n_estimators': 90, 'max_depth': 70, 'num_leaves': 40, 'learning_rate': 0.101}. Best is trial 24 with value: 7.347625648954795.\n"
     ]
    },
    {
     "name": "stdout",
     "output_type": "stream",
     "text": [
      "7.43630226999718\n"
     ]
    },
    {
     "name": "stderr",
     "output_type": "stream",
     "text": [
      "[I 2023-11-16 16:43:20,200] Trial 36 finished with value: 7.532849860859143 and parameters: {'n_estimators': 270, 'max_depth': 15, 'num_leaves': 55, 'learning_rate': 0.07100000000000001}. Best is trial 24 with value: 7.347625648954795.\n"
     ]
    },
    {
     "name": "stdout",
     "output_type": "stream",
     "text": [
      "7.532849860859143\n"
     ]
    },
    {
     "name": "stderr",
     "output_type": "stream",
     "text": [
      "[I 2023-11-16 16:43:23,384] Trial 37 finished with value: 7.463009406195924 and parameters: {'n_estimators': 390, 'max_depth': 90, 'num_leaves': 25, 'learning_rate': 0.061}. Best is trial 24 with value: 7.347625648954795.\n"
     ]
    },
    {
     "name": "stdout",
     "output_type": "stream",
     "text": [
      "7.463009406195924\n"
     ]
    },
    {
     "name": "stderr",
     "output_type": "stream",
     "text": [
      "[I 2023-11-16 16:43:26,371] Trial 38 finished with value: 7.686949968729157 and parameters: {'n_estimators': 180, 'max_depth': 35, 'num_leaves': 90, 'learning_rate': 0.131}. Best is trial 24 with value: 7.347625648954795.\n"
     ]
    },
    {
     "name": "stdout",
     "output_type": "stream",
     "text": [
      "7.686949968729157\n"
     ]
    },
    {
     "name": "stderr",
     "output_type": "stream",
     "text": [
      "[I 2023-11-16 16:43:27,746] Trial 39 finished with value: 7.540563462931847 and parameters: {'n_estimators': 90, 'max_depth': 55, 'num_leaves': 45, 'learning_rate': 0.171}. Best is trial 24 with value: 7.347625648954795.\n"
     ]
    },
    {
     "name": "stdout",
     "output_type": "stream",
     "text": [
      "7.540563462931847\n"
     ]
    },
    {
     "name": "stderr",
     "output_type": "stream",
     "text": [
      "[I 2023-11-16 16:43:35,644] Trial 40 finished with value: 7.82159945606755 and parameters: {'n_estimators': 450, 'max_depth': 10, 'num_leaves': 105, 'learning_rate': 0.091}. Best is trial 24 with value: 7.347625648954795.\n"
     ]
    },
    {
     "name": "stdout",
     "output_type": "stream",
     "text": [
      "7.82159945606755\n"
     ]
    },
    {
     "name": "stderr",
     "output_type": "stream",
     "text": [
      "[I 2023-11-16 16:43:36,538] Trial 41 finished with value: 7.36089250407127 and parameters: {'n_estimators': 110, 'max_depth': 30, 'num_leaves': 10, 'learning_rate': 0.121}. Best is trial 24 with value: 7.347625648954795.\n"
     ]
    },
    {
     "name": "stdout",
     "output_type": "stream",
     "text": [
      "7.36089250407127\n"
     ]
    },
    {
     "name": "stderr",
     "output_type": "stream",
     "text": [
      "[I 2023-11-16 16:43:37,430] Trial 42 finished with value: 7.36089250407127 and parameters: {'n_estimators': 110, 'max_depth': 30, 'num_leaves': 10, 'learning_rate': 0.121}. Best is trial 24 with value: 7.347625648954795.\n"
     ]
    },
    {
     "name": "stdout",
     "output_type": "stream",
     "text": [
      "7.36089250407127\n"
     ]
    },
    {
     "name": "stderr",
     "output_type": "stream",
     "text": [
      "[I 2023-11-16 16:43:38,323] Trial 43 finished with value: 7.427493972623411 and parameters: {'n_estimators': 120, 'max_depth': 30, 'num_leaves': 10, 'learning_rate': 0.151}. Best is trial 24 with value: 7.347625648954795.\n"
     ]
    },
    {
     "name": "stdout",
     "output_type": "stream",
     "text": [
      "7.427493972623411\n"
     ]
    },
    {
     "name": "stderr",
     "output_type": "stream",
     "text": [
      "[I 2023-11-16 16:43:39,757] Trial 44 finished with value: 7.42330987630876 and parameters: {'n_estimators': 200, 'max_depth': 25, 'num_leaves': 10, 'learning_rate': 0.121}. Best is trial 24 with value: 7.347625648954795.\n"
     ]
    },
    {
     "name": "stdout",
     "output_type": "stream",
     "text": [
      "7.42330987630876\n"
     ]
    },
    {
     "name": "stderr",
     "output_type": "stream",
     "text": [
      "[I 2023-11-16 16:43:44,374] Trial 45 finished with value: 7.777078941431348 and parameters: {'n_estimators': 690, 'max_depth': 65, 'num_leaves': 20, 'learning_rate': 0.201}. Best is trial 24 with value: 7.347625648954795.\n"
     ]
    },
    {
     "name": "stdout",
     "output_type": "stream",
     "text": [
      "7.777078941431348\n"
     ]
    },
    {
     "name": "stderr",
     "output_type": "stream",
     "text": [
      "[I 2023-11-16 16:43:46,452] Trial 46 finished with value: 7.45988710126217 and parameters: {'n_estimators': 280, 'max_depth': 40, 'num_leaves': 10, 'learning_rate': 0.14100000000000001}. Best is trial 24 with value: 7.347625648954795.\n"
     ]
    },
    {
     "name": "stdout",
     "output_type": "stream",
     "text": [
      "7.45988710126217\n"
     ]
    },
    {
     "name": "stderr",
     "output_type": "stream",
     "text": [
      "[I 2023-11-16 16:43:47,949] Trial 47 finished with value: 7.446048846683698 and parameters: {'n_estimators': 170, 'max_depth': 40, 'num_leaves': 20, 'learning_rate': 0.111}. Best is trial 24 with value: 7.347625648954795.\n"
     ]
    },
    {
     "name": "stdout",
     "output_type": "stream",
     "text": [
      "7.446048846683698\n"
     ]
    },
    {
     "name": "stderr",
     "output_type": "stream",
     "text": [
      "[I 2023-11-16 16:43:50,345] Trial 48 finished with value: 7.464741987600249 and parameters: {'n_estimators': 500, 'max_depth': 30, 'num_leaves': 5, 'learning_rate': 0.07100000000000001}. Best is trial 24 with value: 7.347625648954795.\n"
     ]
    },
    {
     "name": "stdout",
     "output_type": "stream",
     "text": [
      "7.464741987600249\n"
     ]
    },
    {
     "name": "stderr",
     "output_type": "stream",
     "text": [
      "[I 2023-11-16 16:43:51,548] Trial 49 finished with value: 7.452632896777514 and parameters: {'n_estimators': 90, 'max_depth': 35, 'num_leaves': 25, 'learning_rate': 0.131}. Best is trial 24 with value: 7.347625648954795.\n"
     ]
    },
    {
     "name": "stdout",
     "output_type": "stream",
     "text": [
      "7.452632896777514\n"
     ]
    },
    {
     "name": "stderr",
     "output_type": "stream",
     "text": [
      "[I 2023-11-16 16:43:54,672] Trial 50 finished with value: 7.550091900786188 and parameters: {'n_estimators': 590, 'max_depth': 50, 'num_leaves': 10, 'learning_rate': 0.121}. Best is trial 24 with value: 7.347625648954795.\n"
     ]
    },
    {
     "name": "stdout",
     "output_type": "stream",
     "text": [
      "7.550091900786188\n"
     ]
    },
    {
     "name": "stderr",
     "output_type": "stream",
     "text": [
      "[I 2023-11-16 16:43:55,321] Trial 51 finished with value: 7.368593805358982 and parameters: {'n_estimators': 50, 'max_depth': 15, 'num_leaves': 15, 'learning_rate': 0.101}. Best is trial 24 with value: 7.347625648954795.\n"
     ]
    },
    {
     "name": "stdout",
     "output_type": "stream",
     "text": [
      "7.368593805358982\n"
     ]
    },
    {
     "name": "stderr",
     "output_type": "stream",
     "text": [
      "[I 2023-11-16 16:43:55,970] Trial 52 finished with value: 7.383734267562668 and parameters: {'n_estimators': 50, 'max_depth': 15, 'num_leaves': 15, 'learning_rate': 0.081}. Best is trial 24 with value: 7.347625648954795.\n"
     ]
    },
    {
     "name": "stdout",
     "output_type": "stream",
     "text": [
      "7.383734267562668\n"
     ]
    },
    {
     "name": "stderr",
     "output_type": "stream",
     "text": [
      "[I 2023-11-16 16:43:56,758] Trial 53 finished with value: 7.338720157391046 and parameters: {'n_estimators': 120, 'max_depth': 20, 'num_leaves': 5, 'learning_rate': 0.101}. Best is trial 53 with value: 7.338720157391046.\n"
     ]
    },
    {
     "name": "stdout",
     "output_type": "stream",
     "text": [
      "7.338720157391046\n"
     ]
    },
    {
     "name": "stderr",
     "output_type": "stream",
     "text": [
      "[I 2023-11-16 16:43:57,542] Trial 54 finished with value: 7.338720157391046 and parameters: {'n_estimators': 120, 'max_depth': 20, 'num_leaves': 5, 'learning_rate': 0.101}. Best is trial 53 with value: 7.338720157391046.\n"
     ]
    },
    {
     "name": "stdout",
     "output_type": "stream",
     "text": [
      "7.338720157391046\n"
     ]
    },
    {
     "name": "stderr",
     "output_type": "stream",
     "text": [
      "[I 2023-11-16 16:43:58,819] Trial 55 finished with value: 7.405241696669322 and parameters: {'n_estimators': 230, 'max_depth': 20, 'num_leaves': 5, 'learning_rate': 0.111}. Best is trial 53 with value: 7.338720157391046.\n"
     ]
    },
    {
     "name": "stdout",
     "output_type": "stream",
     "text": [
      "7.405241696669322\n"
     ]
    },
    {
     "name": "stderr",
     "output_type": "stream",
     "text": [
      "[I 2023-11-16 16:43:59,885] Trial 56 finished with value: 7.3274072407075295 and parameters: {'n_estimators': 120, 'max_depth': 30, 'num_leaves': 5, 'learning_rate': 0.091}. Best is trial 56 with value: 7.3274072407075295.\n"
     ]
    },
    {
     "name": "stdout",
     "output_type": "stream",
     "text": [
      "7.3274072407075295\n"
     ]
    },
    {
     "name": "stderr",
     "output_type": "stream",
     "text": [
      "[I 2023-11-16 16:44:00,890] Trial 57 finished with value: 7.348077607505986 and parameters: {'n_estimators': 120, 'max_depth': 30, 'num_leaves': 5, 'learning_rate': 0.14100000000000001}. Best is trial 56 with value: 7.3274072407075295.\n"
     ]
    },
    {
     "name": "stdout",
     "output_type": "stream",
     "text": [
      "7.348077607505986\n"
     ]
    },
    {
     "name": "stderr",
     "output_type": "stream",
     "text": [
      "[I 2023-11-16 16:44:02,912] Trial 58 finished with value: 7.437345954371022 and parameters: {'n_estimators': 320, 'max_depth': 25, 'num_leaves': 5, 'learning_rate': 0.14100000000000001}. Best is trial 56 with value: 7.3274072407075295.\n"
     ]
    },
    {
     "name": "stdout",
     "output_type": "stream",
     "text": [
      "7.437345954371022\n"
     ]
    },
    {
     "name": "stderr",
     "output_type": "stream",
     "text": [
      "[I 2023-11-16 16:44:03,748] Trial 59 finished with value: 7.416763533941731 and parameters: {'n_estimators': 140, 'max_depth': 20, 'num_leaves': 5, 'learning_rate': 0.161}. Best is trial 56 with value: 7.3274072407075295.\n"
     ]
    },
    {
     "name": "stdout",
     "output_type": "stream",
     "text": [
      "7.416763533941731\n"
     ]
    },
    {
     "name": "stderr",
     "output_type": "stream",
     "text": [
      "[I 2023-11-16 16:44:04,690] Trial 60 finished with value: 7.347179135408492 and parameters: {'n_estimators': 160, 'max_depth': 35, 'num_leaves': 5, 'learning_rate': 0.091}. Best is trial 56 with value: 7.3274072407075295.\n"
     ]
    },
    {
     "name": "stdout",
     "output_type": "stream",
     "text": [
      "7.347179135408492\n"
     ]
    },
    {
     "name": "stderr",
     "output_type": "stream",
     "text": [
      "[I 2023-11-16 16:44:05,674] Trial 61 finished with value: 7.348743560509777 and parameters: {'n_estimators': 170, 'max_depth': 35, 'num_leaves': 5, 'learning_rate': 0.091}. Best is trial 56 with value: 7.3274072407075295.\n"
     ]
    },
    {
     "name": "stdout",
     "output_type": "stream",
     "text": [
      "7.348743560509777\n"
     ]
    },
    {
     "name": "stderr",
     "output_type": "stream",
     "text": [
      "[I 2023-11-16 16:44:06,723] Trial 62 finished with value: 7.342013118541139 and parameters: {'n_estimators': 170, 'max_depth': 35, 'num_leaves': 5, 'learning_rate': 0.061}. Best is trial 56 with value: 7.3274072407075295.\n"
     ]
    },
    {
     "name": "stdout",
     "output_type": "stream",
     "text": [
      "7.342013118541139\n"
     ]
    },
    {
     "name": "stderr",
     "output_type": "stream",
     "text": [
      "[I 2023-11-16 16:44:07,882] Trial 63 finished with value: 7.348927324348831 and parameters: {'n_estimators': 210, 'max_depth': 25, 'num_leaves': 5, 'learning_rate': 0.061}. Best is trial 56 with value: 7.3274072407075295.\n"
     ]
    },
    {
     "name": "stdout",
     "output_type": "stream",
     "text": [
      "7.348927324348831\n"
     ]
    },
    {
     "name": "stderr",
     "output_type": "stream",
     "text": [
      "[I 2023-11-16 16:44:09,493] Trial 64 finished with value: 7.402225689160973 and parameters: {'n_estimators': 250, 'max_depth': 40, 'num_leaves': 10, 'learning_rate': 0.081}. Best is trial 56 with value: 7.3274072407075295.\n"
     ]
    },
    {
     "name": "stdout",
     "output_type": "stream",
     "text": [
      "7.402225689160973\n"
     ]
    },
    {
     "name": "stderr",
     "output_type": "stream",
     "text": [
      "[I 2023-11-16 16:44:10,982] Trial 65 finished with value: 7.350870805539855 and parameters: {'n_estimators': 170, 'max_depth': 45, 'num_leaves': 15, 'learning_rate': 0.041}. Best is trial 56 with value: 7.3274072407075295.\n"
     ]
    },
    {
     "name": "stdout",
     "output_type": "stream",
     "text": [
      "7.350870805539855\n"
     ]
    },
    {
     "name": "stderr",
     "output_type": "stream",
     "text": [
      "[I 2023-11-16 16:44:12,500] Trial 66 finished with value: 7.372314172458681 and parameters: {'n_estimators': 300, 'max_depth': 35, 'num_leaves': 5, 'learning_rate': 0.061}. Best is trial 56 with value: 7.3274072407075295.\n"
     ]
    },
    {
     "name": "stdout",
     "output_type": "stream",
     "text": [
      "7.372314172458681\n"
     ]
    },
    {
     "name": "stderr",
     "output_type": "stream",
     "text": [
      "[I 2023-11-16 16:44:13,430] Trial 67 finished with value: 7.390826831457286 and parameters: {'n_estimators': 80, 'max_depth': 20, 'num_leaves': 20, 'learning_rate': 0.051000000000000004}. Best is trial 56 with value: 7.3274072407075295.\n"
     ]
    },
    {
     "name": "stdout",
     "output_type": "stream",
     "text": [
      "7.390826831457286\n"
     ]
    },
    {
     "name": "stderr",
     "output_type": "stream",
     "text": [
      "[I 2023-11-16 16:44:14,652] Trial 68 finished with value: 7.352796438815729 and parameters: {'n_estimators': 140, 'max_depth': 25, 'num_leaves': 15, 'learning_rate': 0.07100000000000001}. Best is trial 56 with value: 7.3274072407075295.\n"
     ]
    },
    {
     "name": "stdout",
     "output_type": "stream",
     "text": [
      "7.352796438815729\n"
     ]
    },
    {
     "name": "stderr",
     "output_type": "stream",
     "text": [
      "[I 2023-11-16 16:44:17,328] Trial 69 finished with value: 7.454190918581042 and parameters: {'n_estimators': 370, 'max_depth': 40, 'num_leaves': 10, 'learning_rate': 0.101}. Best is trial 56 with value: 7.3274072407075295.\n"
     ]
    },
    {
     "name": "stdout",
     "output_type": "stream",
     "text": [
      "7.454190918581042\n"
     ]
    },
    {
     "name": "stderr",
     "output_type": "stream",
     "text": [
      "[I 2023-11-16 16:44:18,817] Trial 70 finished with value: 7.405241696669322 and parameters: {'n_estimators': 230, 'max_depth': 50, 'num_leaves': 5, 'learning_rate': 0.111}. Best is trial 56 with value: 7.3274072407075295.\n"
     ]
    },
    {
     "name": "stdout",
     "output_type": "stream",
     "text": [
      "7.405241696669322\n"
     ]
    },
    {
     "name": "stderr",
     "output_type": "stream",
     "text": [
      "[I 2023-11-16 16:44:19,867] Trial 71 finished with value: 7.348743560509777 and parameters: {'n_estimators': 170, 'max_depth': 35, 'num_leaves': 5, 'learning_rate': 0.091}. Best is trial 56 with value: 7.3274072407075295.\n"
     ]
    },
    {
     "name": "stdout",
     "output_type": "stream",
     "text": [
      "7.348743560509777\n"
     ]
    },
    {
     "name": "stderr",
     "output_type": "stream",
     "text": [
      "[I 2023-11-16 16:44:20,954] Trial 72 finished with value: 7.361377047482497 and parameters: {'n_estimators': 190, 'max_depth': 35, 'num_leaves': 5, 'learning_rate': 0.091}. Best is trial 56 with value: 7.3274072407075295.\n"
     ]
    },
    {
     "name": "stdout",
     "output_type": "stream",
     "text": [
      "7.361377047482497\n"
     ]
    },
    {
     "name": "stderr",
     "output_type": "stream",
     "text": [
      "[I 2023-11-16 16:44:21,939] Trial 73 finished with value: 7.364980768768458 and parameters: {'n_estimators': 120, 'max_depth': 30, 'num_leaves': 10, 'learning_rate': 0.101}. Best is trial 56 with value: 7.3274072407075295.\n"
     ]
    },
    {
     "name": "stdout",
     "output_type": "stream",
     "text": [
      "7.364980768768458\n"
     ]
    },
    {
     "name": "stderr",
     "output_type": "stream",
     "text": [
      "[I 2023-11-16 16:44:23,265] Trial 74 finished with value: 7.364191019925515 and parameters: {'n_estimators': 160, 'max_depth': 30, 'num_leaves': 15, 'learning_rate': 0.091}. Best is trial 56 with value: 7.3274072407075295.\n"
     ]
    },
    {
     "name": "stdout",
     "output_type": "stream",
     "text": [
      "7.364191019925515\n"
     ]
    },
    {
     "name": "stderr",
     "output_type": "stream",
     "text": [
      "[I 2023-11-16 16:44:23,914] Trial 75 finished with value: 7.342451613364206 and parameters: {'n_estimators': 80, 'max_depth': 20, 'num_leaves': 5, 'learning_rate': 0.081}. Best is trial 56 with value: 7.3274072407075295.\n"
     ]
    },
    {
     "name": "stdout",
     "output_type": "stream",
     "text": [
      "7.342451613364206\n"
     ]
    },
    {
     "name": "stderr",
     "output_type": "stream",
     "text": [
      "[I 2023-11-16 16:44:24,664] Trial 76 finished with value: 7.362795672204583 and parameters: {'n_estimators': 80, 'max_depth': 20, 'num_leaves': 10, 'learning_rate': 0.07100000000000001}. Best is trial 56 with value: 7.3274072407075295.\n"
     ]
    },
    {
     "name": "stdout",
     "output_type": "stream",
     "text": [
      "7.362795672204583\n"
     ]
    },
    {
     "name": "stderr",
     "output_type": "stream",
     "text": [
      "[I 2023-11-16 16:44:25,917] Trial 77 finished with value: 7.3919960463348495 and parameters: {'n_estimators': 130, 'max_depth': 10, 'num_leaves': 20, 'learning_rate': 0.081}. Best is trial 56 with value: 7.3274072407075295.\n"
     ]
    },
    {
     "name": "stdout",
     "output_type": "stream",
     "text": [
      "7.3919960463348495\n"
     ]
    },
    {
     "name": "stderr",
     "output_type": "stream",
     "text": [
      "[I 2023-11-16 16:44:27,543] Trial 78 finished with value: 7.348932424687189 and parameters: {'n_estimators': 200, 'max_depth': 60, 'num_leaves': 15, 'learning_rate': 0.051000000000000004}. Best is trial 56 with value: 7.3274072407075295.\n"
     ]
    },
    {
     "name": "stdout",
     "output_type": "stream",
     "text": [
      "7.348932424687189\n"
     ]
    },
    {
     "name": "stderr",
     "output_type": "stream",
     "text": [
      "[I 2023-11-16 16:44:28,595] Trial 79 finished with value: 7.4143402178886255 and parameters: {'n_estimators': 80, 'max_depth': 65, 'num_leaves': 30, 'learning_rate': 0.111}. Best is trial 56 with value: 7.3274072407075295.\n"
     ]
    },
    {
     "name": "stdout",
     "output_type": "stream",
     "text": [
      "7.4143402178886255\n"
     ]
    },
    {
     "name": "stderr",
     "output_type": "stream",
     "text": [
      "[I 2023-11-16 16:44:29,320] Trial 80 finished with value: 7.456264066810722 and parameters: {'n_estimators': 70, 'max_depth': 20, 'num_leaves': 10, 'learning_rate': 0.031}. Best is trial 56 with value: 7.3274072407075295.\n"
     ]
    },
    {
     "name": "stdout",
     "output_type": "stream",
     "text": [
      "7.456264066810722\n"
     ]
    },
    {
     "name": "stderr",
     "output_type": "stream",
     "text": [
      "[I 2023-11-16 16:44:30,094] Trial 81 finished with value: 7.3463539984990405 and parameters: {'n_estimators': 110, 'max_depth': 25, 'num_leaves': 5, 'learning_rate': 0.07100000000000001}. Best is trial 56 with value: 7.3274072407075295.\n"
     ]
    },
    {
     "name": "stdout",
     "output_type": "stream",
     "text": [
      "7.3463539984990405\n"
     ]
    },
    {
     "name": "stderr",
     "output_type": "stream",
     "text": [
      "[I 2023-11-16 16:44:30,938] Trial 82 finished with value: 7.3386757592759615 and parameters: {'n_estimators': 110, 'max_depth': 25, 'num_leaves': 5, 'learning_rate': 0.081}. Best is trial 56 with value: 7.3274072407075295.\n"
     ]
    },
    {
     "name": "stdout",
     "output_type": "stream",
     "text": [
      "7.3386757592759615\n"
     ]
    },
    {
     "name": "stderr",
     "output_type": "stream",
     "text": [
      "[I 2023-11-16 16:44:31,849] Trial 83 finished with value: 7.3386757592759615 and parameters: {'n_estimators': 110, 'max_depth': 25, 'num_leaves': 5, 'learning_rate': 0.081}. Best is trial 56 with value: 7.3274072407075295.\n"
     ]
    },
    {
     "name": "stdout",
     "output_type": "stream",
     "text": [
      "7.3386757592759615\n"
     ]
    },
    {
     "name": "stderr",
     "output_type": "stream",
     "text": [
      "[I 2023-11-16 16:44:32,655] Trial 84 finished with value: 7.352499388522557 and parameters: {'n_estimators': 100, 'max_depth': 25, 'num_leaves': 5, 'learning_rate': 0.07100000000000001}. Best is trial 56 with value: 7.3274072407075295.\n"
     ]
    },
    {
     "name": "stdout",
     "output_type": "stream",
     "text": [
      "7.352499388522557\n"
     ]
    },
    {
     "name": "stderr",
     "output_type": "stream",
     "text": [
      "[I 2023-11-16 16:44:33,984] Trial 85 finished with value: 7.340047794503576 and parameters: {'n_estimators': 150, 'max_depth': 15, 'num_leaves': 10, 'learning_rate': 0.061}. Best is trial 56 with value: 7.3274072407075295.\n"
     ]
    },
    {
     "name": "stdout",
     "output_type": "stream",
     "text": [
      "7.340047794503576\n"
     ]
    },
    {
     "name": "stderr",
     "output_type": "stream",
     "text": [
      "[I 2023-11-16 16:44:34,798] Trial 86 finished with value: 7.3816508605488895 and parameters: {'n_estimators': 70, 'max_depth': 15, 'num_leaves': 10, 'learning_rate': 0.061}. Best is trial 56 with value: 7.3274072407075295.\n"
     ]
    },
    {
     "name": "stdout",
     "output_type": "stream",
     "text": [
      "7.3816508605488895\n"
     ]
    },
    {
     "name": "stderr",
     "output_type": "stream",
     "text": [
      "[I 2023-11-16 16:44:37,739] Trial 87 finished with value: 7.514644183719551 and parameters: {'n_estimators': 140, 'max_depth': 10, 'num_leaves': 65, 'learning_rate': 0.041}. Best is trial 56 with value: 7.3274072407075295.\n"
     ]
    },
    {
     "name": "stdout",
     "output_type": "stream",
     "text": [
      "7.514644183719551\n"
     ]
    },
    {
     "name": "stderr",
     "output_type": "stream",
     "text": [
      "[I 2023-11-16 16:44:39,693] Trial 88 finished with value: 7.340924616268493 and parameters: {'n_estimators': 220, 'max_depth': 15, 'num_leaves': 10, 'learning_rate': 0.051000000000000004}. Best is trial 56 with value: 7.3274072407075295.\n"
     ]
    },
    {
     "name": "stdout",
     "output_type": "stream",
     "text": [
      "7.340924616268493\n"
     ]
    },
    {
     "name": "stderr",
     "output_type": "stream",
     "text": [
      "[I 2023-11-16 16:44:42,157] Trial 89 finished with value: 7.405316146351915 and parameters: {'n_estimators': 240, 'max_depth': 5, 'num_leaves': 15, 'learning_rate': 0.051000000000000004}. Best is trial 56 with value: 7.3274072407075295.\n"
     ]
    },
    {
     "name": "stdout",
     "output_type": "stream",
     "text": [
      "7.405316146351915\n"
     ]
    },
    {
     "name": "stderr",
     "output_type": "stream",
     "text": [
      "[I 2023-11-16 16:44:49,865] Trial 90 finished with value: 7.560283260273 and parameters: {'n_estimators': 970, 'max_depth': 15, 'num_leaves': 25, 'learning_rate': 0.051000000000000004}. Best is trial 56 with value: 7.3274072407075295.\n"
     ]
    },
    {
     "name": "stdout",
     "output_type": "stream",
     "text": [
      "7.560283260273\n"
     ]
    },
    {
     "name": "stderr",
     "output_type": "stream",
     "text": [
      "[I 2023-11-16 16:44:50,971] Trial 91 finished with value: 7.350210570611322 and parameters: {'n_estimators': 110, 'max_depth': 20, 'num_leaves': 10, 'learning_rate': 0.07100000000000001}. Best is trial 56 with value: 7.3274072407075295.\n"
     ]
    },
    {
     "name": "stdout",
     "output_type": "stream",
     "text": [
      "7.350210570611322\n"
     ]
    },
    {
     "name": "stderr",
     "output_type": "stream",
     "text": [
      "[I 2023-11-16 16:44:52,298] Trial 92 finished with value: 7.378180403174987 and parameters: {'n_estimators': 190, 'max_depth': 25, 'num_leaves': 10, 'learning_rate': 0.081}. Best is trial 56 with value: 7.3274072407075295.\n"
     ]
    },
    {
     "name": "stdout",
     "output_type": "stream",
     "text": [
      "7.378180403174987\n"
     ]
    },
    {
     "name": "stderr",
     "output_type": "stream",
     "text": [
      "[I 2023-11-16 16:44:53,231] Trial 93 finished with value: 7.337980310507682 and parameters: {'n_estimators': 150, 'max_depth': 20, 'num_leaves': 5, 'learning_rate': 0.061}. Best is trial 56 with value: 7.3274072407075295.\n"
     ]
    },
    {
     "name": "stdout",
     "output_type": "stream",
     "text": [
      "7.337980310507682\n"
     ]
    },
    {
     "name": "stderr",
     "output_type": "stream",
     "text": [
      "[I 2023-11-16 16:44:54,448] Trial 94 finished with value: 7.391316537973058 and parameters: {'n_estimators': 210, 'max_depth': 15, 'num_leaves': 5, 'learning_rate': 0.021}. Best is trial 56 with value: 7.3274072407075295.\n"
     ]
    },
    {
     "name": "stdout",
     "output_type": "stream",
     "text": [
      "7.391316537973058\n"
     ]
    },
    {
     "name": "stderr",
     "output_type": "stream",
     "text": [
      "[I 2023-11-16 16:44:55,541] Trial 95 finished with value: 7.3585014230620525 and parameters: {'n_estimators': 150, 'max_depth': 20, 'num_leaves': 10, 'learning_rate': 0.081}. Best is trial 56 with value: 7.3274072407075295.\n"
     ]
    },
    {
     "name": "stdout",
     "output_type": "stream",
     "text": [
      "7.3585014230620525\n"
     ]
    },
    {
     "name": "stderr",
     "output_type": "stream",
     "text": [
      "[I 2023-11-16 16:44:56,401] Trial 96 finished with value: 7.3305878742613775 and parameters: {'n_estimators': 130, 'max_depth': 15, 'num_leaves': 5, 'learning_rate': 0.061}. Best is trial 56 with value: 7.3274072407075295.\n"
     ]
    },
    {
     "name": "stdout",
     "output_type": "stream",
     "text": [
      "7.3305878742613775\n"
     ]
    },
    {
     "name": "stderr",
     "output_type": "stream",
     "text": [
      "[I 2023-11-16 16:44:58,272] Trial 97 finished with value: 7.38546105803534 and parameters: {'n_estimators': 220, 'max_depth': 10, 'num_leaves': 15, 'learning_rate': 0.061}. Best is trial 56 with value: 7.3274072407075295.\n"
     ]
    },
    {
     "name": "stdout",
     "output_type": "stream",
     "text": [
      "7.38546105803534\n"
     ]
    },
    {
     "name": "stderr",
     "output_type": "stream",
     "text": [
      "[I 2023-11-16 16:44:59,760] Trial 98 finished with value: 7.338922905727729 and parameters: {'n_estimators': 180, 'max_depth': 15, 'num_leaves': 10, 'learning_rate': 0.041}. Best is trial 56 with value: 7.3274072407075295.\n"
     ]
    },
    {
     "name": "stdout",
     "output_type": "stream",
     "text": [
      "7.338922905727729\n"
     ]
    },
    {
     "name": "stderr",
     "output_type": "stream",
     "text": [
      "[I 2023-11-16 16:45:02,205] Trial 99 finished with value: 7.3797097539682 and parameters: {'n_estimators': 270, 'max_depth': 10, 'num_leaves': 20, 'learning_rate': 0.031}. Best is trial 56 with value: 7.3274072407075295.\n"
     ]
    },
    {
     "name": "stdout",
     "output_type": "stream",
     "text": [
      "7.3797097539682\n"
     ]
    },
    {
     "name": "stderr",
     "output_type": "stream",
     "text": [
      "[I 2023-11-16 16:45:03,378] Trial 100 finished with value: 7.353320391213195 and parameters: {'n_estimators': 130, 'max_depth': 15, 'num_leaves': 10, 'learning_rate': 0.041}. Best is trial 56 with value: 7.3274072407075295.\n"
     ]
    },
    {
     "name": "stdout",
     "output_type": "stream",
     "text": [
      "7.353320391213195\n"
     ]
    },
    {
     "name": "stderr",
     "output_type": "stream",
     "text": [
      "[I 2023-11-16 16:45:04,967] Trial 101 finished with value: 7.337664941179213 and parameters: {'n_estimators': 160, 'max_depth': 5, 'num_leaves': 10, 'learning_rate': 0.061}. Best is trial 56 with value: 7.3274072407075295.\n"
     ]
    },
    {
     "name": "stdout",
     "output_type": "stream",
     "text": [
      "7.337664941179213\n"
     ]
    },
    {
     "name": "stderr",
     "output_type": "stream",
     "text": [
      "[I 2023-11-16 16:45:06,634] Trial 102 finished with value: 7.355942203371553 and parameters: {'n_estimators': 190, 'max_depth': 5, 'num_leaves': 10, 'learning_rate': 0.051000000000000004}. Best is trial 56 with value: 7.3274072407075295.\n"
     ]
    },
    {
     "name": "stdout",
     "output_type": "stream",
     "text": [
      "7.355942203371553\n"
     ]
    },
    {
     "name": "stderr",
     "output_type": "stream",
     "text": [
      "[I 2023-11-16 16:45:08,713] Trial 103 finished with value: 7.436719205538799 and parameters: {'n_estimators': 150, 'max_depth': 10, 'num_leaves': 35, 'learning_rate': 0.041}. Best is trial 56 with value: 7.3274072407075295.\n"
     ]
    },
    {
     "name": "stdout",
     "output_type": "stream",
     "text": [
      "7.436719205538799\n"
     ]
    },
    {
     "name": "stderr",
     "output_type": "stream",
     "text": [
      "[I 2023-11-16 16:45:09,440] Trial 104 finished with value: 7.484088487572447 and parameters: {'n_estimators': 60, 'max_depth': 15, 'num_leaves': 15, 'learning_rate': 0.031}. Best is trial 56 with value: 7.3274072407075295.\n"
     ]
    },
    {
     "name": "stdout",
     "output_type": "stream",
     "text": [
      "7.484088487572447\n"
     ]
    },
    {
     "name": "stderr",
     "output_type": "stream",
     "text": [
      "[I 2023-11-16 16:45:10,264] Trial 105 finished with value: 7.338550880997515 and parameters: {'n_estimators': 120, 'max_depth': 5, 'num_leaves': 5, 'learning_rate': 0.061}. Best is trial 56 with value: 7.3274072407075295.\n"
     ]
    },
    {
     "name": "stdout",
     "output_type": "stream",
     "text": [
      "7.338550880997515\n"
     ]
    },
    {
     "name": "stderr",
     "output_type": "stream",
     "text": [
      "[I 2023-11-16 16:45:11,111] Trial 106 finished with value: 7.787574266603598 and parameters: {'n_estimators': 130, 'max_depth': 10, 'num_leaves': 5, 'learning_rate': 0.011}. Best is trial 56 with value: 7.3274072407075295.\n"
     ]
    },
    {
     "name": "stdout",
     "output_type": "stream",
     "text": [
      "7.787574266603598\n"
     ]
    },
    {
     "name": "stderr",
     "output_type": "stream",
     "text": [
      "[I 2023-11-16 16:45:11,893] Trial 107 finished with value: 7.349121052164614 and parameters: {'n_estimators': 100, 'max_depth': 20, 'num_leaves': 5, 'learning_rate': 0.061}. Best is trial 56 with value: 7.3274072407075295.\n"
     ]
    },
    {
     "name": "stdout",
     "output_type": "stream",
     "text": [
      "7.349121052164614\n"
     ]
    },
    {
     "name": "stderr",
     "output_type": "stream",
     "text": [
      "[I 2023-11-16 16:45:12,821] Trial 108 finished with value: 7.364616047743816 and parameters: {'n_estimators': 100, 'max_depth': 5, 'num_leaves': 15, 'learning_rate': 0.061}. Best is trial 56 with value: 7.3274072407075295.\n"
     ]
    },
    {
     "name": "stdout",
     "output_type": "stream",
     "text": [
      "7.364616047743816\n"
     ]
    },
    {
     "name": "stderr",
     "output_type": "stream",
     "text": [
      "[I 2023-11-16 16:45:13,802] Trial 109 finished with value: 7.4691489468148395 and parameters: {'n_estimators': 180, 'max_depth': 5, 'num_leaves': 5, 'learning_rate': 0.251}. Best is trial 56 with value: 7.3274072407075295.\n"
     ]
    },
    {
     "name": "stdout",
     "output_type": "stream",
     "text": [
      "7.4691489468148395\n"
     ]
    },
    {
     "name": "stderr",
     "output_type": "stream",
     "text": [
      "[I 2023-11-16 16:45:14,849] Trial 110 finished with value: 7.344770907936631 and parameters: {'n_estimators': 130, 'max_depth': 10, 'num_leaves': 10, 'learning_rate': 0.07100000000000001}. Best is trial 56 with value: 7.3274072407075295.\n"
     ]
    },
    {
     "name": "stdout",
     "output_type": "stream",
     "text": [
      "7.344770907936631\n"
     ]
    },
    {
     "name": "stderr",
     "output_type": "stream",
     "text": [
      "[I 2023-11-16 16:45:16,001] Trial 111 finished with value: 7.347975465796526 and parameters: {'n_estimators': 150, 'max_depth': 15, 'num_leaves': 10, 'learning_rate': 0.051000000000000004}. Best is trial 56 with value: 7.3274072407075295.\n"
     ]
    },
    {
     "name": "stdout",
     "output_type": "stream",
     "text": [
      "7.347975465796526\n"
     ]
    },
    {
     "name": "stderr",
     "output_type": "stream",
     "text": [
      "[I 2023-11-16 16:45:17,330] Trial 112 finished with value: 7.341614408567843 and parameters: {'n_estimators': 180, 'max_depth': 15, 'num_leaves': 10, 'learning_rate': 0.051000000000000004}. Best is trial 56 with value: 7.3274072407075295.\n"
     ]
    },
    {
     "name": "stdout",
     "output_type": "stream",
     "text": [
      "7.341614408567843\n"
     ]
    },
    {
     "name": "stderr",
     "output_type": "stream",
     "text": [
      "[I 2023-11-16 16:45:18,295] Trial 113 finished with value: 7.337443771518345 and parameters: {'n_estimators': 160, 'max_depth': 25, 'num_leaves': 5, 'learning_rate': 0.061}. Best is trial 56 with value: 7.3274072407075295.\n"
     ]
    },
    {
     "name": "stdout",
     "output_type": "stream",
     "text": [
      "7.337443771518345\n"
     ]
    },
    {
     "name": "stderr",
     "output_type": "stream",
     "text": [
      "[I 2023-11-16 16:45:19,401] Trial 114 finished with value: 7.351692208138891 and parameters: {'n_estimators': 160, 'max_depth': 25, 'num_leaves': 5, 'learning_rate': 0.101}. Best is trial 56 with value: 7.3274072407075295.\n"
     ]
    },
    {
     "name": "stdout",
     "output_type": "stream",
     "text": [
      "7.351692208138891\n"
     ]
    },
    {
     "name": "stderr",
     "output_type": "stream",
     "text": [
      "[I 2023-11-16 16:45:20,335] Trial 115 finished with value: 7.3463539984990405 and parameters: {'n_estimators': 110, 'max_depth': 25, 'num_leaves': 5, 'learning_rate': 0.07100000000000001}. Best is trial 56 with value: 7.3274072407075295.\n"
     ]
    },
    {
     "name": "stdout",
     "output_type": "stream",
     "text": [
      "7.3463539984990405\n"
     ]
    },
    {
     "name": "stderr",
     "output_type": "stream",
     "text": [
      "[I 2023-11-16 16:45:21,098] Trial 116 finished with value: 7.333486435077288 and parameters: {'n_estimators': 90, 'max_depth': 20, 'num_leaves': 5, 'learning_rate': 0.091}. Best is trial 56 with value: 7.3274072407075295.\n"
     ]
    },
    {
     "name": "stdout",
     "output_type": "stream",
     "text": [
      "7.333486435077288\n"
     ]
    },
    {
     "name": "stderr",
     "output_type": "stream",
     "text": [
      "[I 2023-11-16 16:45:21,788] Trial 117 finished with value: 7.33361160242886 and parameters: {'n_estimators': 70, 'max_depth': 20, 'num_leaves': 5, 'learning_rate': 0.091}. Best is trial 56 with value: 7.3274072407075295.\n"
     ]
    },
    {
     "name": "stdout",
     "output_type": "stream",
     "text": [
      "7.33361160242886\n"
     ]
    },
    {
     "name": "stderr",
     "output_type": "stream",
     "text": [
      "[I 2023-11-16 16:45:22,442] Trial 118 finished with value: 7.3430415927866335 and parameters: {'n_estimators': 60, 'max_depth': 30, 'num_leaves': 5, 'learning_rate': 0.091}. Best is trial 56 with value: 7.3274072407075295.\n"
     ]
    },
    {
     "name": "stdout",
     "output_type": "stream",
     "text": [
      "7.3430415927866335\n"
     ]
    },
    {
     "name": "stderr",
     "output_type": "stream",
     "text": [
      "[I 2023-11-16 16:45:23,218] Trial 119 finished with value: 7.331446765423452 and parameters: {'n_estimators': 90, 'max_depth': 20, 'num_leaves': 5, 'learning_rate': 0.101}. Best is trial 56 with value: 7.3274072407075295.\n"
     ]
    },
    {
     "name": "stdout",
     "output_type": "stream",
     "text": [
      "7.331446765423452\n"
     ]
    },
    {
     "name": "stderr",
     "output_type": "stream",
     "text": [
      "[I 2023-11-16 16:45:25,477] Trial 120 finished with value: 7.562509145411158 and parameters: {'n_estimators': 80, 'max_depth': 20, 'num_leaves': 95, 'learning_rate': 0.081}. Best is trial 56 with value: 7.3274072407075295.\n"
     ]
    },
    {
     "name": "stdout",
     "output_type": "stream",
     "text": [
      "7.562509145411158\n"
     ]
    },
    {
     "name": "stderr",
     "output_type": "stream",
     "text": [
      "[I 2023-11-16 16:45:26,176] Trial 121 finished with value: 7.331446765423452 and parameters: {'n_estimators': 90, 'max_depth': 25, 'num_leaves': 5, 'learning_rate': 0.101}. Best is trial 56 with value: 7.3274072407075295.\n"
     ]
    },
    {
     "name": "stdout",
     "output_type": "stream",
     "text": [
      "7.331446765423452\n"
     ]
    },
    {
     "name": "stderr",
     "output_type": "stream",
     "text": [
      "[I 2023-11-16 16:45:26,863] Trial 122 finished with value: 7.331446765423452 and parameters: {'n_estimators': 90, 'max_depth': 25, 'num_leaves': 5, 'learning_rate': 0.101}. Best is trial 56 with value: 7.3274072407075295.\n"
     ]
    },
    {
     "name": "stdout",
     "output_type": "stream",
     "text": [
      "7.331446765423452\n"
     ]
    },
    {
     "name": "stderr",
     "output_type": "stream",
     "text": [
      "[I 2023-11-16 16:45:27,549] Trial 123 finished with value: 7.343004803934696 and parameters: {'n_estimators': 90, 'max_depth': 25, 'num_leaves': 5, 'learning_rate': 0.111}. Best is trial 56 with value: 7.3274072407075295.\n"
     ]
    },
    {
     "name": "stdout",
     "output_type": "stream",
     "text": [
      "7.343004803934696\n"
     ]
    },
    {
     "name": "stderr",
     "output_type": "stream",
     "text": [
      "[I 2023-11-16 16:45:28,116] Trial 124 finished with value: 7.3430415927866335 and parameters: {'n_estimators': 60, 'max_depth': 25, 'num_leaves': 5, 'learning_rate': 0.091}. Best is trial 56 with value: 7.3274072407075295.\n"
     ]
    },
    {
     "name": "stdout",
     "output_type": "stream",
     "text": [
      "7.3430415927866335\n"
     ]
    },
    {
     "name": "stderr",
     "output_type": "stream",
     "text": [
      "[I 2023-11-16 16:45:28,687] Trial 125 finished with value: 7.382729411476982 and parameters: {'n_estimators': 50, 'max_depth': 25, 'num_leaves': 5, 'learning_rate': 0.081}. Best is trial 56 with value: 7.3274072407075295.\n"
     ]
    },
    {
     "name": "stdout",
     "output_type": "stream",
     "text": [
      "7.382729411476982\n"
     ]
    },
    {
     "name": "stderr",
     "output_type": "stream",
     "text": [
      "[I 2023-11-16 16:45:29,371] Trial 126 finished with value: 7.343004803934696 and parameters: {'n_estimators': 90, 'max_depth': 30, 'num_leaves': 5, 'learning_rate': 0.111}. Best is trial 56 with value: 7.3274072407075295.\n"
     ]
    },
    {
     "name": "stdout",
     "output_type": "stream",
     "text": [
      "7.343004803934696\n"
     ]
    },
    {
     "name": "stderr",
     "output_type": "stream",
     "text": [
      "[I 2023-11-16 16:45:30,082] Trial 127 finished with value: 7.333990112055705 and parameters: {'n_estimators': 70, 'max_depth': 30, 'num_leaves': 10, 'learning_rate': 0.091}. Best is trial 56 with value: 7.3274072407075295.\n"
     ]
    },
    {
     "name": "stdout",
     "output_type": "stream",
     "text": [
      "7.333990112055705\n"
     ]
    },
    {
     "name": "stderr",
     "output_type": "stream",
     "text": [
      "[I 2023-11-16 16:45:30,891] Trial 128 finished with value: 7.357320819185855 and parameters: {'n_estimators': 70, 'max_depth': 30, 'num_leaves': 15, 'learning_rate': 0.101}. Best is trial 56 with value: 7.3274072407075295.\n"
     ]
    },
    {
     "name": "stdout",
     "output_type": "stream",
     "text": [
      "7.357320819185855\n"
     ]
    },
    {
     "name": "stderr",
     "output_type": "stream",
     "text": [
      "[I 2023-11-16 16:45:37,637] Trial 129 finished with value: 7.688141256705694 and parameters: {'n_estimators': 440, 'max_depth': 30, 'num_leaves': 80, 'learning_rate': 0.091}. Best is trial 56 with value: 7.3274072407075295.\n"
     ]
    },
    {
     "name": "stdout",
     "output_type": "stream",
     "text": [
      "7.688141256705694\n"
     ]
    },
    {
     "name": "stderr",
     "output_type": "stream",
     "text": [
      "[I 2023-11-16 16:45:38,548] Trial 130 finished with value: 7.356927600347328 and parameters: {'n_estimators': 90, 'max_depth': 20, 'num_leaves': 10, 'learning_rate': 0.121}. Best is trial 56 with value: 7.3274072407075295.\n"
     ]
    },
    {
     "name": "stdout",
     "output_type": "stream",
     "text": [
      "7.356927600347328\n"
     ]
    },
    {
     "name": "stderr",
     "output_type": "stream",
     "text": [
      "[I 2023-11-16 16:45:39,478] Trial 131 finished with value: 7.347426476858633 and parameters: {'n_estimators': 130, 'max_depth': 25, 'num_leaves': 5, 'learning_rate': 0.07100000000000001}. Best is trial 56 with value: 7.3274072407075295.\n"
     ]
    },
    {
     "name": "stdout",
     "output_type": "stream",
     "text": [
      "7.347426476858633\n"
     ]
    },
    {
     "name": "stderr",
     "output_type": "stream",
     "text": [
      "[I 2023-11-16 16:45:40,228] Trial 132 finished with value: 7.34183699620081 and parameters: {'n_estimators': 110, 'max_depth': 20, 'num_leaves': 5, 'learning_rate': 0.101}. Best is trial 56 with value: 7.3274072407075295.\n"
     ]
    },
    {
     "name": "stdout",
     "output_type": "stream",
     "text": [
      "7.34183699620081\n"
     ]
    },
    {
     "name": "stderr",
     "output_type": "stream",
     "text": [
      "[I 2023-11-16 16:45:40,973] Trial 133 finished with value: 7.333990112055705 and parameters: {'n_estimators': 70, 'max_depth': 30, 'num_leaves': 10, 'learning_rate': 0.091}. Best is trial 56 with value: 7.3274072407075295.\n"
     ]
    },
    {
     "name": "stdout",
     "output_type": "stream",
     "text": [
      "7.333990112055705\n"
     ]
    },
    {
     "name": "stderr",
     "output_type": "stream",
     "text": [
      "[I 2023-11-16 16:45:41,661] Trial 134 finished with value: 7.379672020940943 and parameters: {'n_estimators': 50, 'max_depth': 30, 'num_leaves': 15, 'learning_rate': 0.091}. Best is trial 56 with value: 7.3274072407075295.\n"
     ]
    },
    {
     "name": "stdout",
     "output_type": "stream",
     "text": [
      "7.379672020940943\n"
     ]
    },
    {
     "name": "stderr",
     "output_type": "stream",
     "text": [
      "[I 2023-11-16 16:45:42,361] Trial 135 finished with value: 7.356013348154482 and parameters: {'n_estimators': 70, 'max_depth': 5, 'num_leaves': 10, 'learning_rate': 0.101}. Best is trial 56 with value: 7.3274072407075295.\n"
     ]
    },
    {
     "name": "stdout",
     "output_type": "stream",
     "text": [
      "7.356013348154482\n"
     ]
    },
    {
     "name": "stderr",
     "output_type": "stream",
     "text": [
      "[I 2023-11-16 16:45:43,166] Trial 136 finished with value: 7.355502386717335 and parameters: {'n_estimators': 90, 'max_depth': 25, 'num_leaves': 10, 'learning_rate': 0.081}. Best is trial 56 with value: 7.3274072407075295.\n"
     ]
    },
    {
     "name": "stdout",
     "output_type": "stream",
     "text": [
      "7.355502386717335\n"
     ]
    },
    {
     "name": "stderr",
     "output_type": "stream",
     "text": [
      "[I 2023-11-16 16:45:47,405] Trial 137 finished with value: 7.526988899708102 and parameters: {'n_estimators': 850, 'max_depth': 20, 'num_leaves': 10, 'learning_rate': 0.091}. Best is trial 56 with value: 7.3274072407075295.\n"
     ]
    },
    {
     "name": "stdout",
     "output_type": "stream",
     "text": [
      "7.526988899708102\n"
     ]
    },
    {
     "name": "stderr",
     "output_type": "stream",
     "text": [
      "[I 2023-11-16 16:45:48,211] Trial 138 finished with value: 7.422215045474218 and parameters: {'n_estimators': 130, 'max_depth': 85, 'num_leaves': 5, 'learning_rate': 0.241}. Best is trial 56 with value: 7.3274072407075295.\n"
     ]
    },
    {
     "name": "stdout",
     "output_type": "stream",
     "text": [
      "7.422215045474218\n"
     ]
    },
    {
     "name": "stderr",
     "output_type": "stream",
     "text": [
      "[I 2023-11-16 16:45:49,043] Trial 139 finished with value: 7.3264636622886155 and parameters: {'n_estimators': 70, 'max_depth': 30, 'num_leaves': 10, 'learning_rate': 0.111}. Best is trial 139 with value: 7.3264636622886155.\n"
     ]
    },
    {
     "name": "stdout",
     "output_type": "stream",
     "text": [
      "7.3264636622886155\n"
     ]
    },
    {
     "name": "stderr",
     "output_type": "stream",
     "text": [
      "[I 2023-11-16 16:45:49,952] Trial 140 finished with value: 7.336389404893335 and parameters: {'n_estimators': 70, 'max_depth': 30, 'num_leaves': 15, 'learning_rate': 0.121}. Best is trial 139 with value: 7.3264636622886155.\n"
     ]
    },
    {
     "name": "stdout",
     "output_type": "stream",
     "text": [
      "7.336389404893335\n"
     ]
    },
    {
     "name": "stderr",
     "output_type": "stream",
     "text": [
      "[I 2023-11-16 16:45:50,732] Trial 141 finished with value: 7.334218226988167 and parameters: {'n_estimators': 70, 'max_depth': 30, 'num_leaves': 10, 'learning_rate': 0.131}. Best is trial 139 with value: 7.3264636622886155.\n"
     ]
    },
    {
     "name": "stdout",
     "output_type": "stream",
     "text": [
      "7.334218226988167\n"
     ]
    },
    {
     "name": "stderr",
     "output_type": "stream",
     "text": [
      "[I 2023-11-16 16:45:51,612] Trial 142 finished with value: 7.354589336596197 and parameters: {'n_estimators': 50, 'max_depth': 30, 'num_leaves': 15, 'learning_rate': 0.131}. Best is trial 139 with value: 7.3264636622886155.\n"
     ]
    },
    {
     "name": "stdout",
     "output_type": "stream",
     "text": [
      "7.354589336596197\n"
     ]
    },
    {
     "name": "stderr",
     "output_type": "stream",
     "text": [
      "[I 2023-11-16 16:45:52,509] Trial 143 finished with value: 7.358742008880317 and parameters: {'n_estimators': 80, 'max_depth': 35, 'num_leaves': 10, 'learning_rate': 0.121}. Best is trial 139 with value: 7.3264636622886155.\n"
     ]
    },
    {
     "name": "stdout",
     "output_type": "stream",
     "text": [
      "7.358742008880317\n"
     ]
    },
    {
     "name": "stderr",
     "output_type": "stream",
     "text": [
      "[I 2023-11-16 16:45:53,581] Trial 144 finished with value: 7.408112758968516 and parameters: {'n_estimators': 80, 'max_depth': 30, 'num_leaves': 20, 'learning_rate': 0.131}. Best is trial 139 with value: 7.3264636622886155.\n"
     ]
    },
    {
     "name": "stdout",
     "output_type": "stream",
     "text": [
      "7.408112758968516\n"
     ]
    },
    {
     "name": "stderr",
     "output_type": "stream",
     "text": [
      "[I 2023-11-16 16:45:54,479] Trial 145 finished with value: 7.388743507772431 and parameters: {'n_estimators': 70, 'max_depth': 35, 'num_leaves': 15, 'learning_rate': 0.111}. Best is trial 139 with value: 7.3264636622886155.\n"
     ]
    },
    {
     "name": "stdout",
     "output_type": "stream",
     "text": [
      "7.388743507772431\n"
     ]
    },
    {
     "name": "stderr",
     "output_type": "stream",
     "text": [
      "[I 2023-11-16 16:45:55,097] Trial 146 finished with value: 7.341238182142448 and parameters: {'n_estimators': 50, 'max_depth': 100, 'num_leaves': 10, 'learning_rate': 0.111}. Best is trial 139 with value: 7.3264636622886155.\n"
     ]
    },
    {
     "name": "stdout",
     "output_type": "stream",
     "text": [
      "7.341238182142448\n"
     ]
    },
    {
     "name": "stderr",
     "output_type": "stream",
     "text": [
      "[I 2023-11-16 16:45:55,951] Trial 147 finished with value: 7.35456865404392 and parameters: {'n_estimators': 100, 'max_depth': 30, 'num_leaves': 10, 'learning_rate': 0.121}. Best is trial 139 with value: 7.3264636622886155.\n"
     ]
    },
    {
     "name": "stdout",
     "output_type": "stream",
     "text": [
      "7.35456865404392\n"
     ]
    },
    {
     "name": "stderr",
     "output_type": "stream",
     "text": [
      "[I 2023-11-16 16:45:57,198] Trial 148 finished with value: 7.520348293508933 and parameters: {'n_estimators': 70, 'max_depth': 35, 'num_leaves': 55, 'learning_rate': 0.101}. Best is trial 139 with value: 7.3264636622886155.\n"
     ]
    },
    {
     "name": "stdout",
     "output_type": "stream",
     "text": [
      "7.520348293508933\n"
     ]
    },
    {
     "name": "stderr",
     "output_type": "stream",
     "text": [
      "[I 2023-11-16 16:45:58,027] Trial 149 finished with value: 7.315422658300333 and parameters: {'n_estimators': 100, 'max_depth': 40, 'num_leaves': 10, 'learning_rate': 0.131}. Best is trial 149 with value: 7.315422658300333.\n"
     ]
    },
    {
     "name": "stdout",
     "output_type": "stream",
     "text": [
      "7.315422658300333\n",
      "{'n_estimators': 100, 'max_depth': 40, 'num_leaves': 10, 'learning_rate': 0.131}\n",
      "[[3, 5.486299354001131, {'n_estimators': 120, 'max_depth': 30, 'num_leaves': 45, 'learning_rate': 0.031}], [4, 6.336036861875657, {'n_estimators': 120, 'max_depth': 40, 'num_leaves': 50, 'learning_rate': 0.031}], [5, 6.624264784072142, {'n_estimators': 180, 'max_depth': 55, 'num_leaves': 20, 'learning_rate': 0.061}], [6, 6.6113787115191585, {'n_estimators': 170, 'max_depth': 5, 'num_leaves': 75, 'learning_rate': 0.031}], [7, 6.711997672986595, {'n_estimators': 120, 'max_depth': 40, 'num_leaves': 15, 'learning_rate': 0.091}], [8, 6.825391111034213, {'n_estimators': 70, 'max_depth': 95, 'num_leaves': 5, 'learning_rate': 0.121}], [9, 7.065619482796654, {'n_estimators': 450, 'max_depth': 5, 'num_leaves': 25, 'learning_rate': 0.011}], [10, 7.315422658300333, {'n_estimators': 100, 'max_depth': 40, 'num_leaves': 10, 'learning_rate': 0.131}]]\n"
     ]
    }
   ],
   "source": [
    "df2 = df_train\n",
    "df2['calving_year_month'] = df2['calving_date'].dt.month\n",
    "df2['age_year_month'] = (df2['calving_date'].dt.to_period(\"M\").astype('int64') \n",
    "                         - df2['birth_date'].dt.to_period(\"M\").astype('int64'))\n",
    "\n",
    "ret = []\n",
    "for i in range(3,11):\n",
    "    columns_features = ['lactation','farm','calving_year_month','age_year_month','milk_yield_1','milk_yield_2']\n",
    "    \n",
    "    \n",
    "    df2_temp = df2[columns_features]\n",
    "    df2_temp[f'milk_yield_{i}'] = df2[f'milk_yield_{i}']\n",
    "    df2_temp = df2_temp.dropna()\n",
    "    df2_temp = df2_temp.drop_duplicates()\n",
    "    \n",
    "    features_train_valid = df2_temp[columns_features]\n",
    "    target_train_valid = df2_temp[f'milk_yield_{i}']\n",
    "\n",
    "    def obj(trial):\n",
    "        params = {'verbosity':-1\n",
    "                  ,'n_estimators':trial.suggest_int('n_estimators',50,1000,step=10)\n",
    "                 ,'max_depth':trial.suggest_int('max_depth',5,100,step=5)\n",
    "                  ,'num_leaves':trial.suggest_int('num_leaves',5,105,step=5)\n",
    "                  ,'learning_rate':trial.suggest_float('learning_rate',.001,.251,step=.01)\n",
    "                  ,'random_state':RANDOM_STATE\n",
    "                 }\n",
    "        model_lgm = LGBMRegressor(**params)\n",
    "        scores = cross_val_score(model_lgm,features_train_valid,target_train_valid,cv=4,scoring='neg_root_mean_squared_error')\n",
    "        final_score = abs(sum(scores)/len(scores))\n",
    "        print(final_score)\n",
    "\n",
    "        return final_score\n",
    "\n",
    "    study = optuna.create_study()\n",
    "    study.optimize(obj,n_trials=150)\n",
    "    print(study.best_params)\n",
    "    ret.append([i,study.best_value,study.best_params])\n",
    "    \n",
    "print(ret)\n"
   ]
  },
  {
   "cell_type": "markdown",
   "id": "e11df75f",
   "metadata": {},
   "source": [
    "Получили параметры модели которые будем использовать в baseline.py."
   ]
  },
  {
   "cell_type": "markdown",
   "id": "f66ac92d",
   "metadata": {},
   "source": [
    "\n",
    "[[3, 5.486299354001131, {'n_estimators': 120, 'max_depth': 30, 'num_leaves': 45, 'learning_rate': 0.031}], [4, 6.336036861875657, {'n_estimators': 120, 'max_depth': 40, 'num_leaves': 50, 'learning_rate': 0.031}], [5, 6.624264784072142, {'n_estimators': 180, 'max_depth': 55, 'num_leaves': 20, 'learning_rate': 0.061}], [6, 6.6113787115191585, {'n_estimators': 170, 'max_depth': 5, 'num_leaves': 75, 'learning_rate': 0.031}], [7, 6.711997672986595, {'n_estimators': 120, 'max_depth': 40, 'num_leaves': 15, 'learning_rate': 0.091}], [8, 6.825391111034213, {'n_estimators': 70, 'max_depth': 95, 'num_leaves': 5, 'learning_rate': 0.121}], [9, 7.065619482796654, {'n_estimators': 450, 'max_depth': 5, 'num_leaves': 25, 'learning_rate': 0.011}], [10, 7.315422658300333, {'n_estimators': 100, 'max_depth': 40, 'num_leaves': 10, 'learning_rate': 0.131}]]"
   ]
  },
  {
   "cell_type": "markdown",
   "id": "9d0ac99c",
   "metadata": {},
   "source": [
    "Лучший показатель для третьего месяца лактации rmse= 5.486, худший для 10го rmse=  7.315.\n",
    "Получается слишком неравномерное значение метрики, зависящее от месяца.  \n",
    "\n",
    "Итоговый результат на private данных rmse= 7.607."
   ]
  },
  {
   "cell_type": "markdown",
   "id": "3e986ebc",
   "metadata": {},
   "source": [
    "[Содержание](#Содержание) "
   ]
  },
  {
   "cell_type": "markdown",
   "id": "1cdd13e7",
   "metadata": {},
   "source": [
    "<a name=\"Вариант_2\"></a>\n",
    "### 3.2. Вариант 2. "
   ]
  },
  {
   "cell_type": "code",
   "execution_count": 69,
   "id": "ee90d759",
   "metadata": {},
   "outputs": [
    {
     "name": "stderr",
     "output_type": "stream",
     "text": [
      "C:\\Users\\Dmser\\AppData\\Local\\Temp\\ipykernel_15412\\2847376525.py:15: SettingWithCopyWarning: \n",
      "A value is trying to be set on a copy of a slice from a DataFrame.\n",
      "Try using .loc[row_indexer,col_indexer] = value instead\n",
      "\n",
      "See the caveats in the documentation: https://pandas.pydata.org/pandas-docs/stable/user_guide/indexing.html#returning-a-view-versus-a-copy\n",
      "  df2_temp[f'milk_yield_{i}'] = df3[f'milk_yield_{i}']\n",
      "[I 2023-11-16 21:12:39,874] A new study created in memory with name: no-name-ebeb77bb-3024-4bd8-af70-4d3018ca3f83\n",
      "[I 2023-11-16 21:12:41,916] Trial 0 finished with value: 4.268247385999566 and parameters: {'n_estimators': 230, 'max_depth': 60, 'num_leaves': 5, 'learning_rate': 0.14100000000000001}. Best is trial 0 with value: 4.268247385999566.\n"
     ]
    },
    {
     "name": "stdout",
     "output_type": "stream",
     "text": [
      "4.268247385999566\n"
     ]
    },
    {
     "name": "stderr",
     "output_type": "stream",
     "text": [
      "[I 2023-11-16 21:12:46,896] Trial 1 finished with value: 4.222515460204708 and parameters: {'n_estimators': 580, 'max_depth': 10, 'num_leaves': 20, 'learning_rate': 0.121}. Best is trial 1 with value: 4.222515460204708.\n"
     ]
    },
    {
     "name": "stdout",
     "output_type": "stream",
     "text": [
      "4.222515460204708\n"
     ]
    },
    {
     "name": "stderr",
     "output_type": "stream",
     "text": [
      "[I 2023-11-16 21:12:57,705] Trial 2 finished with value: 4.379505741428767 and parameters: {'n_estimators': 1000, 'max_depth': 65, 'num_leaves': 40, 'learning_rate': 0.241}. Best is trial 1 with value: 4.222515460204708.\n"
     ]
    },
    {
     "name": "stdout",
     "output_type": "stream",
     "text": [
      "4.379505741428767\n"
     ]
    },
    {
     "name": "stderr",
     "output_type": "stream",
     "text": [
      "[I 2023-11-16 21:13:10,017] Trial 3 finished with value: 4.309194374867968 and parameters: {'n_estimators': 1000, 'max_depth': 15, 'num_leaves': 50, 'learning_rate': 0.161}. Best is trial 1 with value: 4.222515460204708.\n"
     ]
    },
    {
     "name": "stdout",
     "output_type": "stream",
     "text": [
      "4.309194374867968\n"
     ]
    },
    {
     "name": "stderr",
     "output_type": "stream",
     "text": [
      "[I 2023-11-16 21:13:15,931] Trial 4 finished with value: 4.226488306363503 and parameters: {'n_estimators': 950, 'max_depth': 60, 'num_leaves': 10, 'learning_rate': 0.14100000000000001}. Best is trial 1 with value: 4.222515460204708.\n"
     ]
    },
    {
     "name": "stdout",
     "output_type": "stream",
     "text": [
      "4.226488306363503\n"
     ]
    },
    {
     "name": "stderr",
     "output_type": "stream",
     "text": [
      "[I 2023-11-16 21:13:33,103] Trial 5 finished with value: 4.418770839749931 and parameters: {'n_estimators': 930, 'max_depth': 60, 'num_leaves': 100, 'learning_rate': 0.201}. Best is trial 1 with value: 4.222515460204708.\n"
     ]
    },
    {
     "name": "stdout",
     "output_type": "stream",
     "text": [
      "4.418770839749931\n"
     ]
    },
    {
     "name": "stderr",
     "output_type": "stream",
     "text": [
      "[I 2023-11-16 21:13:39,306] Trial 6 finished with value: 4.203462502905186 and parameters: {'n_estimators': 440, 'max_depth': 35, 'num_leaves': 35, 'learning_rate': 0.041}. Best is trial 6 with value: 4.203462502905186.\n"
     ]
    },
    {
     "name": "stdout",
     "output_type": "stream",
     "text": [
      "4.203462502905186\n"
     ]
    },
    {
     "name": "stderr",
     "output_type": "stream",
     "text": [
      "[I 2023-11-16 21:13:44,193] Trial 7 finished with value: 4.2292485616966315 and parameters: {'n_estimators': 320, 'max_depth': 55, 'num_leaves': 30, 'learning_rate': 0.021}. Best is trial 6 with value: 4.203462502905186.\n"
     ]
    },
    {
     "name": "stdout",
     "output_type": "stream",
     "text": [
      "4.2292485616966315\n"
     ]
    },
    {
     "name": "stderr",
     "output_type": "stream",
     "text": [
      "[I 2023-11-16 21:13:47,676] Trial 8 finished with value: 4.226319688743426 and parameters: {'n_estimators': 500, 'max_depth': 60, 'num_leaves': 10, 'learning_rate': 0.091}. Best is trial 6 with value: 4.203462502905186.\n"
     ]
    },
    {
     "name": "stdout",
     "output_type": "stream",
     "text": [
      "4.226319688743426\n"
     ]
    },
    {
     "name": "stderr",
     "output_type": "stream",
     "text": [
      "[I 2023-11-16 21:13:58,658] Trial 9 finished with value: 4.260052995210253 and parameters: {'n_estimators': 980, 'max_depth': 5, 'num_leaves': 90, 'learning_rate': 0.131}. Best is trial 6 with value: 4.203462502905186.\n"
     ]
    },
    {
     "name": "stdout",
     "output_type": "stream",
     "text": [
      "4.260052995210253\n"
     ]
    },
    {
     "name": "stderr",
     "output_type": "stream",
     "text": [
      "[I 2023-11-16 21:14:00,321] Trial 10 finished with value: 7.339310636444409 and parameters: {'n_estimators': 50, 'max_depth': 90, 'num_leaves': 70, 'learning_rate': 0.011}. Best is trial 6 with value: 4.203462502905186.\n"
     ]
    },
    {
     "name": "stdout",
     "output_type": "stream",
     "text": [
      "7.339310636444409\n"
     ]
    },
    {
     "name": "stderr",
     "output_type": "stream",
     "text": [
      "[I 2023-11-16 21:14:07,260] Trial 11 finished with value: 4.212902156393526 and parameters: {'n_estimators': 670, 'max_depth': 25, 'num_leaves': 30, 'learning_rate': 0.07100000000000001}. Best is trial 6 with value: 4.203462502905186.\n"
     ]
    },
    {
     "name": "stdout",
     "output_type": "stream",
     "text": [
      "4.212902156393526\n"
     ]
    },
    {
     "name": "stderr",
     "output_type": "stream",
     "text": [
      "[I 2023-11-16 21:14:18,377] Trial 12 finished with value: 4.211919217091518 and parameters: {'n_estimators': 690, 'max_depth': 35, 'num_leaves': 65, 'learning_rate': 0.061}. Best is trial 6 with value: 4.203462502905186.\n"
     ]
    },
    {
     "name": "stdout",
     "output_type": "stream",
     "text": [
      "4.211919217091518\n"
     ]
    },
    {
     "name": "stderr",
     "output_type": "stream",
     "text": [
      "[I 2023-11-16 21:14:30,509] Trial 13 finished with value: 4.210972880275423 and parameters: {'n_estimators': 740, 'max_depth': 35, 'num_leaves': 65, 'learning_rate': 0.051000000000000004}. Best is trial 6 with value: 4.203462502905186.\n"
     ]
    },
    {
     "name": "stdout",
     "output_type": "stream",
     "text": [
      "4.210972880275423\n"
     ]
    },
    {
     "name": "stderr",
     "output_type": "stream",
     "text": [
      "[I 2023-11-16 21:14:44,941] Trial 14 finished with value: 4.1974281159846925 and parameters: {'n_estimators': 790, 'max_depth': 35, 'num_leaves': 75, 'learning_rate': 0.031}. Best is trial 14 with value: 4.1974281159846925.\n"
     ]
    },
    {
     "name": "stdout",
     "output_type": "stream",
     "text": [
      "4.1974281159846925\n"
     ]
    },
    {
     "name": "stderr",
     "output_type": "stream",
     "text": [
      "[I 2023-11-16 21:14:55,887] Trial 15 finished with value: 8.062359956177339 and parameters: {'n_estimators': 410, 'max_depth': 40, 'num_leaves': 80, 'learning_rate': 0.001}. Best is trial 14 with value: 4.1974281159846925.\n"
     ]
    },
    {
     "name": "stdout",
     "output_type": "stream",
     "text": [
      "8.062359956177339\n"
     ]
    },
    {
     "name": "stderr",
     "output_type": "stream",
     "text": [
      "[I 2023-11-16 21:15:07,441] Trial 16 finished with value: 4.201837322876332 and parameters: {'n_estimators': 820, 'max_depth': 75, 'num_leaves': 50, 'learning_rate': 0.041}. Best is trial 14 with value: 4.1974281159846925.\n"
     ]
    },
    {
     "name": "stdout",
     "output_type": "stream",
     "text": [
      "4.201837322876332\n"
     ]
    },
    {
     "name": "stderr",
     "output_type": "stream",
     "text": [
      "[I 2023-11-16 21:15:19,038] Trial 17 finished with value: 4.239167098801691 and parameters: {'n_estimators': 850, 'max_depth': 80, 'num_leaves': 50, 'learning_rate': 0.091}. Best is trial 14 with value: 4.1974281159846925.\n"
     ]
    },
    {
     "name": "stdout",
     "output_type": "stream",
     "text": [
      "4.239167098801691\n"
     ]
    },
    {
     "name": "stderr",
     "output_type": "stream",
     "text": [
      "[I 2023-11-16 21:15:34,143] Trial 18 finished with value: 4.197838801066792 and parameters: {'n_estimators': 800, 'max_depth': 75, 'num_leaves': 75, 'learning_rate': 0.031}. Best is trial 14 with value: 4.1974281159846925.\n"
     ]
    },
    {
     "name": "stdout",
     "output_type": "stream",
     "text": [
      "4.197838801066792\n"
     ]
    },
    {
     "name": "stderr",
     "output_type": "stream",
     "text": [
      "[I 2023-11-16 21:15:46,768] Trial 19 finished with value: 4.246882724627786 and parameters: {'n_estimators': 610, 'max_depth': 90, 'num_leaves': 105, 'learning_rate': 0.091}. Best is trial 14 with value: 4.1974281159846925.\n"
     ]
    },
    {
     "name": "stdout",
     "output_type": "stream",
     "text": [
      "4.246882724627786\n"
     ]
    },
    {
     "name": "stderr",
     "output_type": "stream",
     "text": [
      "[I 2023-11-16 21:16:04,522] Trial 20 finished with value: 4.1938086515889275 and parameters: {'n_estimators': 810, 'max_depth': 100, 'num_leaves': 80, 'learning_rate': 0.021}. Best is trial 20 with value: 4.1938086515889275.\n"
     ]
    },
    {
     "name": "stdout",
     "output_type": "stream",
     "text": [
      "4.1938086515889275\n"
     ]
    },
    {
     "name": "stderr",
     "output_type": "stream",
     "text": [
      "[I 2023-11-16 21:16:21,384] Trial 21 finished with value: 4.193934914939172 and parameters: {'n_estimators': 820, 'max_depth': 100, 'num_leaves': 80, 'learning_rate': 0.021}. Best is trial 20 with value: 4.1938086515889275.\n"
     ]
    },
    {
     "name": "stdout",
     "output_type": "stream",
     "text": [
      "4.193934914939172\n"
     ]
    },
    {
     "name": "stderr",
     "output_type": "stream",
     "text": [
      "[I 2023-11-16 21:16:46,807] Trial 22 finished with value: 6.122978571573254 and parameters: {'n_estimators': 870, 'max_depth': 100, 'num_leaves': 90, 'learning_rate': 0.001}. Best is trial 20 with value: 4.1938086515889275.\n"
     ]
    },
    {
     "name": "stdout",
     "output_type": "stream",
     "text": [
      "6.122978571573254\n"
     ]
    },
    {
     "name": "stderr",
     "output_type": "stream",
     "text": [
      "[I 2023-11-16 21:17:00,795] Trial 23 finished with value: 4.233388659501246 and parameters: {'n_estimators': 750, 'max_depth': 100, 'num_leaves': 85, 'learning_rate': 0.07100000000000001}. Best is trial 20 with value: 4.1938086515889275.\n"
     ]
    },
    {
     "name": "stdout",
     "output_type": "stream",
     "text": [
      "4.233388659501246\n"
     ]
    },
    {
     "name": "stderr",
     "output_type": "stream",
     "text": [
      "[I 2023-11-16 21:17:12,762] Trial 24 finished with value: 4.196712070647513 and parameters: {'n_estimators': 640, 'max_depth': 45, 'num_leaves': 60, 'learning_rate': 0.021}. Best is trial 20 with value: 4.1938086515889275.\n"
     ]
    },
    {
     "name": "stdout",
     "output_type": "stream",
     "text": [
      "4.196712070647513\n"
     ]
    },
    {
     "name": "stderr",
     "output_type": "stream",
     "text": [
      "[I 2023-11-16 21:17:24,467] Trial 25 finished with value: 4.196712070647513 and parameters: {'n_estimators': 640, 'max_depth': 45, 'num_leaves': 60, 'learning_rate': 0.021}. Best is trial 20 with value: 4.1938086515889275.\n"
     ]
    },
    {
     "name": "stdout",
     "output_type": "stream",
     "text": [
      "4.196712070647513\n"
     ]
    },
    {
     "name": "stderr",
     "output_type": "stream",
     "text": [
      "[I 2023-11-16 21:17:41,348] Trial 26 finished with value: 7.38258954158767 and parameters: {'n_estimators': 540, 'max_depth': 90, 'num_leaves': 95, 'learning_rate': 0.001}. Best is trial 20 with value: 4.1938086515889275.\n"
     ]
    },
    {
     "name": "stdout",
     "output_type": "stream",
     "text": [
      "7.38258954158767\n"
     ]
    },
    {
     "name": "stderr",
     "output_type": "stream",
     "text": [
      "[I 2023-11-16 21:17:53,888] Trial 27 finished with value: 4.262019659438657 and parameters: {'n_estimators': 710, 'max_depth': 80, 'num_leaves': 80, 'learning_rate': 0.111}. Best is trial 20 with value: 4.1938086515889275.\n"
     ]
    },
    {
     "name": "stdout",
     "output_type": "stream",
     "text": [
      "4.262019659438657\n"
     ]
    },
    {
     "name": "stderr",
     "output_type": "stream",
     "text": [
      "[I 2023-11-16 21:18:07,291] Trial 28 finished with value: 4.218740264986162 and parameters: {'n_estimators': 880, 'max_depth': 100, 'num_leaves': 60, 'learning_rate': 0.061}. Best is trial 20 with value: 4.1938086515889275.\n"
     ]
    },
    {
     "name": "stdout",
     "output_type": "stream",
     "text": [
      "4.218740264986162\n"
     ]
    },
    {
     "name": "stderr",
     "output_type": "stream",
     "text": [
      "[I 2023-11-16 21:18:20,772] Trial 29 finished with value: 4.367818354021761 and parameters: {'n_estimators': 910, 'max_depth': 70, 'num_leaves': 70, 'learning_rate': 0.191}. Best is trial 20 with value: 4.1938086515889275.\n"
     ]
    },
    {
     "name": "stdout",
     "output_type": "stream",
     "text": [
      "4.367818354021761\n"
     ]
    },
    {
     "name": "stderr",
     "output_type": "stream",
     "text": [
      "[I 2023-11-16 21:18:34,523] Trial 30 finished with value: 4.3271834110747065 and parameters: {'n_estimators': 760, 'max_depth': 50, 'num_leaves': 90, 'learning_rate': 0.161}. Best is trial 20 with value: 4.1938086515889275.\n"
     ]
    },
    {
     "name": "stdout",
     "output_type": "stream",
     "text": [
      "4.3271834110747065\n"
     ]
    },
    {
     "name": "stderr",
     "output_type": "stream",
     "text": [
      "[I 2023-11-16 21:18:46,129] Trial 31 finished with value: 4.196778658523687 and parameters: {'n_estimators': 620, 'max_depth': 45, 'num_leaves': 60, 'learning_rate': 0.021}. Best is trial 20 with value: 4.1938086515889275.\n"
     ]
    },
    {
     "name": "stdout",
     "output_type": "stream",
     "text": [
      "4.196778658523687\n"
     ]
    },
    {
     "name": "stderr",
     "output_type": "stream",
     "text": [
      "[I 2023-11-16 21:18:56,611] Trial 32 finished with value: 4.196080725360598 and parameters: {'n_estimators': 560, 'max_depth': 20, 'num_leaves': 55, 'learning_rate': 0.021}. Best is trial 20 with value: 4.1938086515889275.\n"
     ]
    },
    {
     "name": "stdout",
     "output_type": "stream",
     "text": [
      "4.196080725360598\n"
     ]
    },
    {
     "name": "stderr",
     "output_type": "stream",
     "text": [
      "[I 2023-11-16 21:19:05,252] Trial 33 finished with value: 4.200791805174887 and parameters: {'n_estimators': 560, 'max_depth': 20, 'num_leaves': 45, 'learning_rate': 0.041}. Best is trial 20 with value: 4.1938086515889275.\n"
     ]
    },
    {
     "name": "stdout",
     "output_type": "stream",
     "text": [
      "4.200791805174887\n"
     ]
    },
    {
     "name": "stderr",
     "output_type": "stream",
     "text": [
      "[I 2023-11-16 21:19:14,377] Trial 34 finished with value: 4.197951946572679 and parameters: {'n_estimators': 480, 'max_depth': 25, 'num_leaves': 55, 'learning_rate': 0.021}. Best is trial 20 with value: 4.1938086515889275.\n"
     ]
    },
    {
     "name": "stdout",
     "output_type": "stream",
     "text": [
      "4.197951946572679\n"
     ]
    },
    {
     "name": "stderr",
     "output_type": "stream",
     "text": [
      "[I 2023-11-16 21:19:20,068] Trial 35 finished with value: 4.315815251121331 and parameters: {'n_estimators': 300, 'max_depth': 10, 'num_leaves': 80, 'learning_rate': 0.241}. Best is trial 20 with value: 4.1938086515889275.\n"
     ]
    },
    {
     "name": "stdout",
     "output_type": "stream",
     "text": [
      "4.315815251121331\n"
     ]
    },
    {
     "name": "stderr",
     "output_type": "stream",
     "text": [
      "[I 2023-11-16 21:19:25,543] Trial 36 finished with value: 4.202905579611938 and parameters: {'n_estimators': 380, 'max_depth': 95, 'num_leaves': 40, 'learning_rate': 0.051000000000000004}. Best is trial 20 with value: 4.1938086515889275.\n"
     ]
    },
    {
     "name": "stdout",
     "output_type": "stream",
     "text": [
      "4.202905579611938\n"
     ]
    },
    {
     "name": "stderr",
     "output_type": "stream",
     "text": [
      "[I 2023-11-16 21:19:36,403] Trial 37 finished with value: 4.231959147883833 and parameters: {'n_estimators': 670, 'max_depth': 25, 'num_leaves': 70, 'learning_rate': 0.081}. Best is trial 20 with value: 4.1938086515889275.\n"
     ]
    },
    {
     "name": "stdout",
     "output_type": "stream",
     "text": [
      "4.231959147883833\n"
     ]
    },
    {
     "name": "stderr",
     "output_type": "stream",
     "text": [
      "[I 2023-11-16 21:19:48,748] Trial 38 finished with value: 4.206121777329955 and parameters: {'n_estimators': 580, 'max_depth': 15, 'num_leaves': 55, 'learning_rate': 0.011}. Best is trial 20 with value: 4.1938086515889275.\n"
     ]
    },
    {
     "name": "stdout",
     "output_type": "stream",
     "text": [
      "4.206121777329955\n"
     ]
    },
    {
     "name": "stderr",
     "output_type": "stream",
     "text": [
      "[I 2023-11-16 21:19:55,059] Trial 39 finished with value: 4.20002384104027 and parameters: {'n_estimators': 200, 'max_depth': 85, 'num_leaves': 100, 'learning_rate': 0.031}. Best is trial 20 with value: 4.1938086515889275.\n"
     ]
    },
    {
     "name": "stdout",
     "output_type": "stream",
     "text": [
      "4.20002384104027\n",
      "{'n_estimators': 810, 'max_depth': 100, 'num_leaves': 80, 'learning_rate': 0.021}\n"
     ]
    },
    {
     "name": "stderr",
     "output_type": "stream",
     "text": [
      "C:\\Users\\Dmser\\AppData\\Local\\Temp\\ipykernel_15412\\2847376525.py:15: SettingWithCopyWarning: \n",
      "A value is trying to be set on a copy of a slice from a DataFrame.\n",
      "Try using .loc[row_indexer,col_indexer] = value instead\n",
      "\n",
      "See the caveats in the documentation: https://pandas.pydata.org/pandas-docs/stable/user_guide/indexing.html#returning-a-view-versus-a-copy\n",
      "  df2_temp[f'milk_yield_{i}'] = df3[f'milk_yield_{i}']\n",
      "[I 2023-11-16 21:19:55,610] A new study created in memory with name: no-name-76657a65-0236-4a16-810b-5ff1002d84b9\n",
      "[I 2023-11-16 21:20:13,750] Trial 0 finished with value: 4.8544271960681495 and parameters: {'n_estimators': 940, 'max_depth': 60, 'num_leaves': 105, 'learning_rate': 0.211}. Best is trial 0 with value: 4.8544271960681495.\n"
     ]
    },
    {
     "name": "stdout",
     "output_type": "stream",
     "text": [
      "4.8544271960681495\n"
     ]
    },
    {
     "name": "stderr",
     "output_type": "stream",
     "text": [
      "[I 2023-11-16 21:20:21,040] Trial 1 finished with value: 4.691089825185663 and parameters: {'n_estimators': 400, 'max_depth': 55, 'num_leaves': 80, 'learning_rate': 0.201}. Best is trial 1 with value: 4.691089825185663.\n"
     ]
    },
    {
     "name": "stdout",
     "output_type": "stream",
     "text": [
      "4.691089825185663\n"
     ]
    },
    {
     "name": "stderr",
     "output_type": "stream",
     "text": [
      "[I 2023-11-16 21:20:26,190] Trial 2 finished with value: 4.610060164601428 and parameters: {'n_estimators': 930, 'max_depth': 45, 'num_leaves': 5, 'learning_rate': 0.231}. Best is trial 2 with value: 4.610060164601428.\n"
     ]
    },
    {
     "name": "stdout",
     "output_type": "stream",
     "text": [
      "4.610060164601428\n"
     ]
    },
    {
     "name": "stderr",
     "output_type": "stream",
     "text": [
      "[I 2023-11-16 21:20:32,655] Trial 3 finished with value: 4.580982051738752 and parameters: {'n_estimators': 670, 'max_depth': 60, 'num_leaves': 25, 'learning_rate': 0.081}. Best is trial 3 with value: 4.580982051738752.\n"
     ]
    },
    {
     "name": "stdout",
     "output_type": "stream",
     "text": [
      "4.580982051738752\n"
     ]
    },
    {
     "name": "stderr",
     "output_type": "stream",
     "text": [
      "[I 2023-11-16 21:20:41,186] Trial 4 finished with value: 4.584346203042434 and parameters: {'n_estimators': 440, 'max_depth': 20, 'num_leaves': 80, 'learning_rate': 0.061}. Best is trial 3 with value: 4.580982051738752.\n"
     ]
    },
    {
     "name": "stdout",
     "output_type": "stream",
     "text": [
      "4.584346203042434\n"
     ]
    },
    {
     "name": "stderr",
     "output_type": "stream",
     "text": [
      "[I 2023-11-16 21:20:46,488] Trial 5 finished with value: 4.661491836430243 and parameters: {'n_estimators': 370, 'max_depth': 60, 'num_leaves': 65, 'learning_rate': 0.191}. Best is trial 3 with value: 4.580982051738752.\n"
     ]
    },
    {
     "name": "stdout",
     "output_type": "stream",
     "text": [
      "4.661491836430243\n"
     ]
    },
    {
     "name": "stderr",
     "output_type": "stream",
     "text": [
      "[I 2023-11-16 21:20:52,382] Trial 6 finished with value: 4.648570303168993 and parameters: {'n_estimators': 400, 'max_depth': 55, 'num_leaves': 50, 'learning_rate': 0.201}. Best is trial 3 with value: 4.580982051738752.\n"
     ]
    },
    {
     "name": "stdout",
     "output_type": "stream",
     "text": [
      "4.648570303168993\n"
     ]
    },
    {
     "name": "stderr",
     "output_type": "stream",
     "text": [
      "[I 2023-11-16 21:21:00,563] Trial 7 finished with value: 4.574870824551799 and parameters: {'n_estimators': 770, 'max_depth': 80, 'num_leaves': 30, 'learning_rate': 0.051000000000000004}. Best is trial 7 with value: 4.574870824551799.\n"
     ]
    },
    {
     "name": "stdout",
     "output_type": "stream",
     "text": [
      "4.574870824551799\n"
     ]
    },
    {
     "name": "stderr",
     "output_type": "stream",
     "text": [
      "[I 2023-11-16 21:21:12,872] Trial 8 finished with value: 4.570078210320912 and parameters: {'n_estimators': 600, 'max_depth': 40, 'num_leaves': 80, 'learning_rate': 0.031}. Best is trial 8 with value: 4.570078210320912.\n"
     ]
    },
    {
     "name": "stdout",
     "output_type": "stream",
     "text": [
      "4.570078210320912\n"
     ]
    },
    {
     "name": "stderr",
     "output_type": "stream",
     "text": [
      "[I 2023-11-16 21:21:17,430] Trial 9 finished with value: 4.601617061515672 and parameters: {'n_estimators': 810, 'max_depth': 55, 'num_leaves': 5, 'learning_rate': 0.131}. Best is trial 8 with value: 4.570078210320912.\n"
     ]
    },
    {
     "name": "stdout",
     "output_type": "stream",
     "text": [
      "4.601617061515672\n"
     ]
    },
    {
     "name": "stderr",
     "output_type": "stream",
     "text": [
      "[I 2023-11-16 21:21:19,807] Trial 10 finished with value: 10.377452993489161 and parameters: {'n_estimators': 60, 'max_depth': 10, 'num_leaves': 100, 'learning_rate': 0.001}. Best is trial 8 with value: 4.570078210320912.\n"
     ]
    },
    {
     "name": "stdout",
     "output_type": "stream",
     "text": [
      "10.377452993489161\n"
     ]
    },
    {
     "name": "stderr",
     "output_type": "stream",
     "text": [
      "[I 2023-11-16 21:21:31,556] Trial 11 finished with value: 7.049840893077163 and parameters: {'n_estimators': 650, 'max_depth': 85, 'num_leaves': 40, 'learning_rate': 0.001}. Best is trial 8 with value: 4.570078210320912.\n"
     ]
    },
    {
     "name": "stdout",
     "output_type": "stream",
     "text": [
      "7.049840893077163\n"
     ]
    },
    {
     "name": "stderr",
     "output_type": "stream",
     "text": [
      "[I 2023-11-16 21:21:38,735] Trial 12 finished with value: 4.57270951473592 and parameters: {'n_estimators': 640, 'max_depth': 100, 'num_leaves': 30, 'learning_rate': 0.051000000000000004}. Best is trial 8 with value: 4.570078210320912.\n"
     ]
    },
    {
     "name": "stdout",
     "output_type": "stream",
     "text": [
      "4.57270951473592\n"
     ]
    },
    {
     "name": "stderr",
     "output_type": "stream",
     "text": [
      "[I 2023-11-16 21:21:47,482] Trial 13 finished with value: 4.613248502776636 and parameters: {'n_estimators': 570, 'max_depth': 100, 'num_leaves': 65, 'learning_rate': 0.101}. Best is trial 8 with value: 4.570078210320912.\n"
     ]
    },
    {
     "name": "stdout",
     "output_type": "stream",
     "text": [
      "4.613248502776636\n"
     ]
    },
    {
     "name": "stderr",
     "output_type": "stream",
     "text": [
      "[I 2023-11-16 21:21:54,001] Trial 14 finished with value: 4.571782743221809 and parameters: {'n_estimators': 210, 'max_depth': 35, 'num_leaves': 85, 'learning_rate': 0.031}. Best is trial 8 with value: 4.570078210320912.\n"
     ]
    },
    {
     "name": "stdout",
     "output_type": "stream",
     "text": [
      "4.571782743221809\n"
     ]
    },
    {
     "name": "stderr",
     "output_type": "stream",
     "text": [
      "[I 2023-11-16 21:21:58,543] Trial 15 finished with value: 4.6012956102797 and parameters: {'n_estimators': 200, 'max_depth': 30, 'num_leaves': 85, 'learning_rate': 0.14100000000000001}. Best is trial 8 with value: 4.570078210320912.\n"
     ]
    },
    {
     "name": "stdout",
     "output_type": "stream",
     "text": [
      "4.6012956102797\n"
     ]
    },
    {
     "name": "stderr",
     "output_type": "stream",
     "text": [
      "[I 2023-11-16 21:22:04,455] Trial 16 finished with value: 4.5698770445564545 and parameters: {'n_estimators': 220, 'max_depth': 35, 'num_leaves': 90, 'learning_rate': 0.031}. Best is trial 16 with value: 4.5698770445564545.\n"
     ]
    },
    {
     "name": "stdout",
     "output_type": "stream",
     "text": [
      "4.5698770445564545\n"
     ]
    },
    {
     "name": "stderr",
     "output_type": "stream",
     "text": [
      "[I 2023-11-16 21:22:10,677] Trial 17 finished with value: 4.642032336058723 and parameters: {'n_estimators': 280, 'max_depth': 40, 'num_leaves': 95, 'learning_rate': 0.161}. Best is trial 16 with value: 4.5698770445564545.\n"
     ]
    },
    {
     "name": "stdout",
     "output_type": "stream",
     "text": [
      "4.642032336058723\n"
     ]
    },
    {
     "name": "stderr",
     "output_type": "stream",
     "text": [
      "[I 2023-11-16 21:22:12,428] Trial 18 finished with value: 4.581233085242653 and parameters: {'n_estimators': 60, 'max_depth': 25, 'num_leaves': 65, 'learning_rate': 0.091}. Best is trial 16 with value: 4.5698770445564545.\n"
     ]
    },
    {
     "name": "stdout",
     "output_type": "stream",
     "text": [
      "4.581233085242653\n"
     ]
    },
    {
     "name": "stderr",
     "output_type": "stream",
     "text": [
      "[I 2023-11-16 21:22:18,612] Trial 19 finished with value: 4.587020575926109 and parameters: {'n_estimators': 510, 'max_depth': 5, 'num_leaves': 90, 'learning_rate': 0.021}. Best is trial 16 with value: 4.5698770445564545.\n"
     ]
    },
    {
     "name": "stdout",
     "output_type": "stream",
     "text": [
      "4.587020575926109\n"
     ]
    },
    {
     "name": "stderr",
     "output_type": "stream",
     "text": [
      "[I 2023-11-16 21:22:25,109] Trial 20 finished with value: 4.568288914368017 and parameters: {'n_estimators': 260, 'max_depth': 15, 'num_leaves': 75, 'learning_rate': 0.031}. Best is trial 20 with value: 4.568288914368017.\n"
     ]
    },
    {
     "name": "stdout",
     "output_type": "stream",
     "text": [
      "4.568288914368017\n"
     ]
    },
    {
     "name": "stderr",
     "output_type": "stream",
     "text": [
      "[I 2023-11-16 21:22:31,753] Trial 21 finished with value: 4.567931593799014 and parameters: {'n_estimators': 270, 'max_depth': 15, 'num_leaves': 75, 'learning_rate': 0.031}. Best is trial 21 with value: 4.567931593799014.\n"
     ]
    },
    {
     "name": "stdout",
     "output_type": "stream",
     "text": [
      "4.567931593799014\n"
     ]
    },
    {
     "name": "stderr",
     "output_type": "stream",
     "text": [
      "[I 2023-11-16 21:22:36,525] Trial 22 finished with value: 4.5746888492002675 and parameters: {'n_estimators': 260, 'max_depth': 15, 'num_leaves': 70, 'learning_rate': 0.07100000000000001}. Best is trial 21 with value: 4.567931593799014.\n"
     ]
    },
    {
     "name": "stdout",
     "output_type": "stream",
     "text": [
      "4.5746888492002675\n"
     ]
    },
    {
     "name": "stderr",
     "output_type": "stream",
     "text": [
      "[I 2023-11-16 21:22:39,632] Trial 23 finished with value: 4.580737566307898 and parameters: {'n_estimators': 140, 'max_depth': 25, 'num_leaves': 75, 'learning_rate': 0.111}. Best is trial 21 with value: 4.567931593799014.\n"
     ]
    },
    {
     "name": "stdout",
     "output_type": "stream",
     "text": [
      "4.580737566307898\n"
     ]
    },
    {
     "name": "stderr",
     "output_type": "stream",
     "text": [
      "[I 2023-11-16 21:22:44,205] Trial 24 finished with value: 4.600197778082726 and parameters: {'n_estimators': 300, 'max_depth': 5, 'num_leaves': 55, 'learning_rate': 0.021}. Best is trial 21 with value: 4.567931593799014.\n"
     ]
    },
    {
     "name": "stdout",
     "output_type": "stream",
     "text": [
      "4.600197778082726\n"
     ]
    },
    {
     "name": "stderr",
     "output_type": "stream",
     "text": [
      "[I 2023-11-16 21:22:48,304] Trial 25 finished with value: 4.578608459363908 and parameters: {'n_estimators': 120, 'max_depth': 15, 'num_leaves': 95, 'learning_rate': 0.041}. Best is trial 21 with value: 4.567931593799014.\n"
     ]
    },
    {
     "name": "stdout",
     "output_type": "stream",
     "text": [
      "4.578608459363908\n"
     ]
    },
    {
     "name": "stderr",
     "output_type": "stream",
     "text": [
      "[I 2023-11-16 21:22:56,496] Trial 26 finished with value: 8.424571270669205 and parameters: {'n_estimators': 350, 'max_depth': 20, 'num_leaves': 50, 'learning_rate': 0.001}. Best is trial 21 with value: 4.567931593799014.\n"
     ]
    },
    {
     "name": "stdout",
     "output_type": "stream",
     "text": [
      "8.424571270669205\n"
     ]
    },
    {
     "name": "stderr",
     "output_type": "stream",
     "text": [
      "[I 2023-11-16 21:23:04,758] Trial 27 finished with value: 4.589920072913942 and parameters: {'n_estimators': 470, 'max_depth': 30, 'num_leaves': 70, 'learning_rate': 0.07100000000000001}. Best is trial 21 with value: 4.567931593799014.\n"
     ]
    },
    {
     "name": "stdout",
     "output_type": "stream",
     "text": [
      "4.589920072913942\n"
     ]
    },
    {
     "name": "stderr",
     "output_type": "stream",
     "text": [
      "[I 2023-11-16 21:23:10,097] Trial 28 finished with value: 4.601094234931857 and parameters: {'n_estimators': 170, 'max_depth': 45, 'num_leaves': 105, 'learning_rate': 0.021}. Best is trial 21 with value: 4.567931593799014.\n"
     ]
    },
    {
     "name": "stdout",
     "output_type": "stream",
     "text": [
      "4.601094234931857\n"
     ]
    },
    {
     "name": "stderr",
     "output_type": "stream",
     "text": [
      "[I 2023-11-16 21:23:15,329] Trial 29 finished with value: 4.588293776453776 and parameters: {'n_estimators': 320, 'max_depth': 15, 'num_leaves': 55, 'learning_rate': 0.111}. Best is trial 21 with value: 4.567931593799014.\n"
     ]
    },
    {
     "name": "stdout",
     "output_type": "stream",
     "text": [
      "4.588293776453776\n"
     ]
    },
    {
     "name": "stderr",
     "output_type": "stream",
     "text": [
      "[I 2023-11-16 21:23:20,128] Trial 30 finished with value: 4.623352694637788 and parameters: {'n_estimators': 230, 'max_depth': 70, 'num_leaves': 90, 'learning_rate': 0.161}. Best is trial 21 with value: 4.567931593799014.\n"
     ]
    },
    {
     "name": "stdout",
     "output_type": "stream",
     "text": [
      "4.623352694637788\n"
     ]
    },
    {
     "name": "stderr",
     "output_type": "stream",
     "text": [
      "[I 2023-11-16 21:23:30,361] Trial 31 finished with value: 4.575819752959571 and parameters: {'n_estimators': 530, 'max_depth': 45, 'num_leaves': 75, 'learning_rate': 0.041}. Best is trial 21 with value: 4.567931593799014.\n"
     ]
    },
    {
     "name": "stdout",
     "output_type": "stream",
     "text": [
      "4.575819752959571\n"
     ]
    },
    {
     "name": "stderr",
     "output_type": "stream",
     "text": [
      "[I 2023-11-16 21:23:45,845] Trial 32 finished with value: 4.569272176791986 and parameters: {'n_estimators': 740, 'max_depth': 35, 'num_leaves': 80, 'learning_rate': 0.021}. Best is trial 21 with value: 4.567931593799014.\n"
     ]
    },
    {
     "name": "stdout",
     "output_type": "stream",
     "text": [
      "4.569272176791986\n"
     ]
    },
    {
     "name": "stderr",
     "output_type": "stream",
     "text": [
      "[I 2023-11-16 21:24:03,891] Trial 33 finished with value: 4.8863804957851595 and parameters: {'n_estimators': 1000, 'max_depth': 30, 'num_leaves': 90, 'learning_rate': 0.251}. Best is trial 21 with value: 4.567931593799014.\n"
     ]
    },
    {
     "name": "stdout",
     "output_type": "stream",
     "text": [
      "4.8863804957851595\n"
     ]
    },
    {
     "name": "stderr",
     "output_type": "stream",
     "text": [
      "[I 2023-11-16 21:24:24,672] Trial 34 finished with value: 4.565436711084175 and parameters: {'n_estimators': 740, 'max_depth': 35, 'num_leaves': 105, 'learning_rate': 0.011}. Best is trial 34 with value: 4.565436711084175.\n"
     ]
    },
    {
     "name": "stdout",
     "output_type": "stream",
     "text": [
      "4.565436711084175\n"
     ]
    },
    {
     "name": "stderr",
     "output_type": "stream",
     "text": [
      "[I 2023-11-16 21:24:45,171] Trial 35 finished with value: 4.565867848257866 and parameters: {'n_estimators': 770, 'max_depth': 20, 'num_leaves': 100, 'learning_rate': 0.011}. Best is trial 34 with value: 4.565436711084175.\n"
     ]
    },
    {
     "name": "stdout",
     "output_type": "stream",
     "text": [
      "4.565867848257866\n"
     ]
    },
    {
     "name": "stderr",
     "output_type": "stream",
     "text": [
      "[I 2023-11-16 21:25:09,245] Trial 36 finished with value: 4.566334419938035 and parameters: {'n_estimators': 880, 'max_depth': 20, 'num_leaves': 105, 'learning_rate': 0.011}. Best is trial 34 with value: 4.565436711084175.\n"
     ]
    },
    {
     "name": "stdout",
     "output_type": "stream",
     "text": [
      "4.566334419938035\n"
     ]
    },
    {
     "name": "stderr",
     "output_type": "stream",
     "text": [
      "[I 2023-11-16 21:25:37,250] Trial 37 finished with value: 6.332079324559603 and parameters: {'n_estimators': 850, 'max_depth': 25, 'num_leaves': 105, 'learning_rate': 0.001}. Best is trial 34 with value: 4.565436711084175.\n"
     ]
    },
    {
     "name": "stdout",
     "output_type": "stream",
     "text": [
      "6.332079324559603\n"
     ]
    },
    {
     "name": "stderr",
     "output_type": "stream",
     "text": [
      "[I 2023-11-16 21:26:01,382] Trial 38 finished with value: 4.567805569684777 and parameters: {'n_estimators': 910, 'max_depth': 10, 'num_leaves': 100, 'learning_rate': 0.011}. Best is trial 34 with value: 4.565436711084175.\n"
     ]
    },
    {
     "name": "stdout",
     "output_type": "stream",
     "text": [
      "4.567805569684777\n"
     ]
    },
    {
     "name": "stderr",
     "output_type": "stream",
     "text": [
      "[I 2023-11-16 21:26:11,138] Trial 39 finished with value: 4.588741677481079 and parameters: {'n_estimators': 890, 'max_depth': 5, 'num_leaves': 100, 'learning_rate': 0.061}. Best is trial 34 with value: 4.565436711084175.\n"
     ]
    },
    {
     "name": "stdout",
     "output_type": "stream",
     "text": [
      "4.588741677481079\n",
      "{'n_estimators': 740, 'max_depth': 35, 'num_leaves': 105, 'learning_rate': 0.011}\n"
     ]
    },
    {
     "name": "stderr",
     "output_type": "stream",
     "text": [
      "C:\\Users\\Dmser\\AppData\\Local\\Temp\\ipykernel_15412\\2847376525.py:15: SettingWithCopyWarning: \n",
      "A value is trying to be set on a copy of a slice from a DataFrame.\n",
      "Try using .loc[row_indexer,col_indexer] = value instead\n",
      "\n",
      "See the caveats in the documentation: https://pandas.pydata.org/pandas-docs/stable/user_guide/indexing.html#returning-a-view-versus-a-copy\n",
      "  df2_temp[f'milk_yield_{i}'] = df3[f'milk_yield_{i}']\n",
      "[I 2023-11-16 21:26:11,676] A new study created in memory with name: no-name-ba5a348a-a324-4af5-9063-683a2e567b1e\n",
      "[I 2023-11-16 21:26:12,412] Trial 0 finished with value: 4.702919431812637 and parameters: {'n_estimators': 60, 'max_depth': 20, 'num_leaves': 5, 'learning_rate': 0.161}. Best is trial 0 with value: 4.702919431812637.\n"
     ]
    },
    {
     "name": "stdout",
     "output_type": "stream",
     "text": [
      "4.702919431812637\n"
     ]
    },
    {
     "name": "stderr",
     "output_type": "stream",
     "text": [
      "[I 2023-11-16 21:26:18,642] Trial 1 finished with value: 4.6061828372806675 and parameters: {'n_estimators': 520, 'max_depth': 35, 'num_leaves': 30, 'learning_rate': 0.031}. Best is trial 1 with value: 4.6061828372806675.\n"
     ]
    },
    {
     "name": "stdout",
     "output_type": "stream",
     "text": [
      "4.6061828372806675\n"
     ]
    },
    {
     "name": "stderr",
     "output_type": "stream",
     "text": [
      "[I 2023-11-16 21:26:24,926] Trial 2 finished with value: 4.662128631316509 and parameters: {'n_estimators': 330, 'max_depth': 65, 'num_leaves': 85, 'learning_rate': 0.151}. Best is trial 1 with value: 4.6061828372806675.\n"
     ]
    },
    {
     "name": "stdout",
     "output_type": "stream",
     "text": [
      "4.662128631316509\n"
     ]
    },
    {
     "name": "stderr",
     "output_type": "stream",
     "text": [
      "[I 2023-11-16 21:26:40,536] Trial 3 finished with value: 4.923560295509946 and parameters: {'n_estimators': 830, 'max_depth': 65, 'num_leaves': 105, 'learning_rate': 0.251}. Best is trial 1 with value: 4.6061828372806675.\n"
     ]
    },
    {
     "name": "stdout",
     "output_type": "stream",
     "text": [
      "4.923560295509946\n"
     ]
    },
    {
     "name": "stderr",
     "output_type": "stream",
     "text": [
      "[I 2023-11-16 21:26:52,337] Trial 4 finished with value: 4.700477434531272 and parameters: {'n_estimators': 610, 'max_depth': 60, 'num_leaves': 100, 'learning_rate': 0.121}. Best is trial 1 with value: 4.6061828372806675.\n"
     ]
    },
    {
     "name": "stdout",
     "output_type": "stream",
     "text": [
      "4.700477434531272\n"
     ]
    },
    {
     "name": "stderr",
     "output_type": "stream",
     "text": [
      "[I 2023-11-16 21:26:56,031] Trial 5 finished with value: 4.642869123383312 and parameters: {'n_estimators': 330, 'max_depth': 45, 'num_leaves': 15, 'learning_rate': 0.021}. Best is trial 1 with value: 4.6061828372806675.\n"
     ]
    },
    {
     "name": "stdout",
     "output_type": "stream",
     "text": [
      "4.642869123383312\n"
     ]
    },
    {
     "name": "stderr",
     "output_type": "stream",
     "text": [
      "[I 2023-11-16 21:27:10,219] Trial 6 finished with value: 4.630780434620788 and parameters: {'n_estimators': 870, 'max_depth': 30, 'num_leaves': 75, 'learning_rate': 0.051000000000000004}. Best is trial 1 with value: 4.6061828372806675.\n"
     ]
    },
    {
     "name": "stdout",
     "output_type": "stream",
     "text": [
      "4.630780434620788\n"
     ]
    },
    {
     "name": "stderr",
     "output_type": "stream",
     "text": [
      "[I 2023-11-16 21:27:18,080] Trial 7 finished with value: 4.599568825062826 and parameters: {'n_estimators': 440, 'max_depth': 95, 'num_leaves': 60, 'learning_rate': 0.041}. Best is trial 7 with value: 4.599568825062826.\n"
     ]
    },
    {
     "name": "stdout",
     "output_type": "stream",
     "text": [
      "4.599568825062826\n"
     ]
    },
    {
     "name": "stderr",
     "output_type": "stream",
     "text": [
      "[I 2023-11-16 21:27:23,044] Trial 8 finished with value: 4.604245411866129 and parameters: {'n_estimators': 620, 'max_depth': 35, 'num_leaves': 15, 'learning_rate': 0.061}. Best is trial 7 with value: 4.599568825062826.\n"
     ]
    },
    {
     "name": "stdout",
     "output_type": "stream",
     "text": [
      "4.604245411866129\n"
     ]
    },
    {
     "name": "stderr",
     "output_type": "stream",
     "text": [
      "[I 2023-11-16 21:27:24,203] Trial 9 finished with value: 4.695754047633694 and parameters: {'n_estimators': 70, 'max_depth': 70, 'num_leaves': 15, 'learning_rate': 0.051000000000000004}. Best is trial 7 with value: 4.599568825062826.\n"
     ]
    },
    {
     "name": "stdout",
     "output_type": "stream",
     "text": [
      "4.695754047633694\n"
     ]
    },
    {
     "name": "stderr",
     "output_type": "stream",
     "text": [
      "[I 2023-11-16 21:27:29,645] Trial 10 finished with value: 4.614184414168298 and parameters: {'n_estimators': 350, 'max_depth': 95, 'num_leaves': 50, 'learning_rate': 0.101}. Best is trial 7 with value: 4.599568825062826.\n"
     ]
    },
    {
     "name": "stdout",
     "output_type": "stream",
     "text": [
      "4.614184414168298\n"
     ]
    },
    {
     "name": "stderr",
     "output_type": "stream",
     "text": [
      "[I 2023-11-16 21:27:37,498] Trial 11 finished with value: 4.625823055993838 and parameters: {'n_estimators': 610, 'max_depth': 100, 'num_leaves': 50, 'learning_rate': 0.081}. Best is trial 7 with value: 4.599568825062826.\n"
     ]
    },
    {
     "name": "stdout",
     "output_type": "stream",
     "text": [
      "4.625823055993838\n"
     ]
    },
    {
     "name": "stderr",
     "output_type": "stream",
     "text": [
      "[I 2023-11-16 21:27:52,937] Trial 12 finished with value: 4.599929038339386 and parameters: {'n_estimators': 700, 'max_depth': 80, 'num_leaves': 65, 'learning_rate': 0.011}. Best is trial 7 with value: 4.599568825062826.\n"
     ]
    },
    {
     "name": "stdout",
     "output_type": "stream",
     "text": [
      "4.599929038339386\n"
     ]
    },
    {
     "name": "stderr",
     "output_type": "stream",
     "text": [
      "[I 2023-11-16 21:28:13,282] Trial 13 finished with value: 4.596956274513711 and parameters: {'n_estimators': 1000, 'max_depth': 80, 'num_leaves': 65, 'learning_rate': 0.011}. Best is trial 13 with value: 4.596956274513711.\n"
     ]
    },
    {
     "name": "stdout",
     "output_type": "stream",
     "text": [
      "4.596956274513711\n"
     ]
    },
    {
     "name": "stderr",
     "output_type": "stream",
     "text": [
      "[I 2023-11-16 21:28:29,882] Trial 14 finished with value: 5.950001716250734 and parameters: {'n_estimators': 980, 'max_depth': 85, 'num_leaves': 35, 'learning_rate': 0.001}. Best is trial 13 with value: 4.596956274513711.\n"
     ]
    },
    {
     "name": "stdout",
     "output_type": "stream",
     "text": [
      "5.950001716250734\n"
     ]
    },
    {
     "name": "stderr",
     "output_type": "stream",
     "text": [
      "[I 2023-11-16 21:28:36,408] Trial 15 finished with value: 4.723224589469206 and parameters: {'n_estimators': 420, 'max_depth': 85, 'num_leaves': 65, 'learning_rate': 0.221}. Best is trial 13 with value: 4.596956274513711.\n"
     ]
    },
    {
     "name": "stdout",
     "output_type": "stream",
     "text": [
      "4.723224589469206\n"
     ]
    },
    {
     "name": "stderr",
     "output_type": "stream",
     "text": [
      "[I 2023-11-16 21:28:40,657] Trial 16 finished with value: 4.605396370507037 and parameters: {'n_estimators': 200, 'max_depth': 100, 'num_leaves': 90, 'learning_rate': 0.081}. Best is trial 13 with value: 4.596956274513711.\n"
     ]
    },
    {
     "name": "stdout",
     "output_type": "stream",
     "text": [
      "4.605396370507037\n"
     ]
    },
    {
     "name": "stderr",
     "output_type": "stream",
     "text": [
      "[I 2023-11-16 21:28:54,039] Trial 17 finished with value: 5.917153722004725 and parameters: {'n_estimators': 1000, 'max_depth': 5, 'num_leaves': 40, 'learning_rate': 0.001}. Best is trial 13 with value: 4.596956274513711.\n"
     ]
    },
    {
     "name": "stdout",
     "output_type": "stream",
     "text": [
      "5.917153722004725\n"
     ]
    },
    {
     "name": "stderr",
     "output_type": "stream",
     "text": [
      "[I 2023-11-16 21:29:04,293] Trial 18 finished with value: 4.76344641968298 and parameters: {'n_estimators': 750, 'max_depth': 75, 'num_leaves': 65, 'learning_rate': 0.191}. Best is trial 13 with value: 4.596956274513711.\n"
     ]
    },
    {
     "name": "stdout",
     "output_type": "stream",
     "text": [
      "4.76344641968298\n"
     ]
    },
    {
     "name": "stderr",
     "output_type": "stream",
     "text": [
      "[I 2023-11-16 21:29:14,006] Trial 19 finished with value: 4.6022029059767755 and parameters: {'n_estimators': 480, 'max_depth': 90, 'num_leaves': 80, 'learning_rate': 0.041}. Best is trial 13 with value: 4.596956274513711.\n"
     ]
    },
    {
     "name": "stdout",
     "output_type": "stream",
     "text": [
      "4.6022029059767755\n"
     ]
    },
    {
     "name": "stderr",
     "output_type": "stream",
     "text": [
      "[I 2023-11-16 21:29:17,108] Trial 20 finished with value: 4.604652726513464 and parameters: {'n_estimators': 170, 'max_depth': 50, 'num_leaves': 55, 'learning_rate': 0.091}. Best is trial 13 with value: 4.596956274513711.\n"
     ]
    },
    {
     "name": "stdout",
     "output_type": "stream",
     "text": [
      "4.604652726513464\n"
     ]
    },
    {
     "name": "stderr",
     "output_type": "stream",
     "text": [
      "[I 2023-11-16 21:29:32,470] Trial 21 finished with value: 4.599772867565824 and parameters: {'n_estimators': 710, 'max_depth': 80, 'num_leaves': 65, 'learning_rate': 0.011}. Best is trial 13 with value: 4.596956274513711.\n"
     ]
    },
    {
     "name": "stdout",
     "output_type": "stream",
     "text": [
      "4.599772867565824\n"
     ]
    },
    {
     "name": "stderr",
     "output_type": "stream",
     "text": [
      "[I 2023-11-16 21:29:48,244] Trial 22 finished with value: 4.60610521999029 and parameters: {'n_estimators': 880, 'max_depth': 75, 'num_leaves': 70, 'learning_rate': 0.031}. Best is trial 13 with value: 4.596956274513711.\n"
     ]
    },
    {
     "name": "stdout",
     "output_type": "stream",
     "text": [
      "4.60610521999029\n"
     ]
    },
    {
     "name": "stderr",
     "output_type": "stream",
     "text": [
      "[I 2023-11-16 21:29:58,808] Trial 23 finished with value: 4.615794087268996 and parameters: {'n_estimators': 740, 'max_depth': 90, 'num_leaves': 45, 'learning_rate': 0.061}. Best is trial 13 with value: 4.596956274513711.\n"
     ]
    },
    {
     "name": "stdout",
     "output_type": "stream",
     "text": [
      "4.615794087268996\n"
     ]
    },
    {
     "name": "stderr",
     "output_type": "stream",
     "text": [
      "[I 2023-11-16 21:30:14,649] Trial 24 finished with value: 4.599537144769492 and parameters: {'n_estimators': 930, 'max_depth': 55, 'num_leaves': 60, 'learning_rate': 0.021}. Best is trial 13 with value: 4.596956274513711.\n"
     ]
    },
    {
     "name": "stdout",
     "output_type": "stream",
     "text": [
      "4.599537144769492\n"
     ]
    },
    {
     "name": "stderr",
     "output_type": "stream",
     "text": [
      "[I 2023-11-16 21:30:27,256] Trial 25 finished with value: 4.693174587165585 and parameters: {'n_estimators': 950, 'max_depth': 55, 'num_leaves': 55, 'learning_rate': 0.121}. Best is trial 13 with value: 4.596956274513711.\n"
     ]
    },
    {
     "name": "stdout",
     "output_type": "stream",
     "text": [
      "4.693174587165585\n"
     ]
    },
    {
     "name": "stderr",
     "output_type": "stream",
     "text": [
      "[I 2023-11-16 21:30:39,197] Trial 26 finished with value: 4.601575952617652 and parameters: {'n_estimators': 830, 'max_depth': 55, 'num_leaves': 55, 'learning_rate': 0.031}. Best is trial 13 with value: 4.596956274513711.\n"
     ]
    },
    {
     "name": "stdout",
     "output_type": "stream",
     "text": [
      "4.601575952617652\n"
     ]
    },
    {
     "name": "stderr",
     "output_type": "stream",
     "text": [
      "[I 2023-11-16 21:30:55,920] Trial 27 finished with value: 4.668165500750829 and parameters: {'n_estimators': 920, 'max_depth': 95, 'num_leaves': 90, 'learning_rate': 0.07100000000000001}. Best is trial 13 with value: 4.596956274513711.\n"
     ]
    },
    {
     "name": "stdout",
     "output_type": "stream",
     "text": [
      "4.668165500750829\n"
     ]
    },
    {
     "name": "stderr",
     "output_type": "stream",
     "text": [
      "[I 2023-11-16 21:31:08,324] Trial 28 finished with value: 4.67501648586973 and parameters: {'n_estimators': 790, 'max_depth': 45, 'num_leaves': 75, 'learning_rate': 0.101}. Best is trial 13 with value: 4.596956274513711.\n"
     ]
    },
    {
     "name": "stdout",
     "output_type": "stream",
     "text": [
      "4.67501648586973\n"
     ]
    },
    {
     "name": "stderr",
     "output_type": "stream",
     "text": [
      "[I 2023-11-16 21:31:12,388] Trial 29 finished with value: 4.634232814100115 and parameters: {'n_estimators': 410, 'max_depth': 25, 'num_leaves': 25, 'learning_rate': 0.161}. Best is trial 13 with value: 4.596956274513711.\n"
     ]
    },
    {
     "name": "stdout",
     "output_type": "stream",
     "text": [
      "4.634232814100115\n"
     ]
    },
    {
     "name": "stderr",
     "output_type": "stream",
     "text": [
      "[I 2023-11-16 21:31:18,064] Trial 30 finished with value: 8.617399905558077 and parameters: {'n_estimators': 260, 'max_depth': 10, 'num_leaves': 45, 'learning_rate': 0.001}. Best is trial 13 with value: 4.596956274513711.\n"
     ]
    },
    {
     "name": "stdout",
     "output_type": "stream",
     "text": [
      "8.617399905558077\n"
     ]
    },
    {
     "name": "stderr",
     "output_type": "stream",
     "text": [
      "[I 2023-11-16 21:31:30,707] Trial 31 finished with value: 4.596865396203876 and parameters: {'n_estimators': 700, 'max_depth': 80, 'num_leaves': 60, 'learning_rate': 0.021}. Best is trial 31 with value: 4.596865396203876.\n"
     ]
    },
    {
     "name": "stdout",
     "output_type": "stream",
     "text": [
      "4.596865396203876\n"
     ]
    },
    {
     "name": "stderr",
     "output_type": "stream",
     "text": [
      "[I 2023-11-16 21:31:46,108] Trial 32 finished with value: 4.599356887542218 and parameters: {'n_estimators': 910, 'max_depth': 70, 'num_leaves': 60, 'learning_rate': 0.021}. Best is trial 31 with value: 4.596865396203876.\n"
     ]
    },
    {
     "name": "stdout",
     "output_type": "stream",
     "text": [
      "4.599356887542218\n"
     ]
    },
    {
     "name": "stderr",
     "output_type": "stream",
     "text": [
      "[I 2023-11-16 21:32:04,905] Trial 33 finished with value: 4.599028672244058 and parameters: {'n_estimators': 950, 'max_depth': 65, 'num_leaves': 75, 'learning_rate': 0.021}. Best is trial 31 with value: 4.596865396203876.\n"
     ]
    },
    {
     "name": "stdout",
     "output_type": "stream",
     "text": [
      "4.599028672244058\n"
     ]
    },
    {
     "name": "stderr",
     "output_type": "stream",
     "text": [
      "[I 2023-11-16 21:32:22,290] Trial 34 finished with value: 4.599836411560839 and parameters: {'n_estimators': 880, 'max_depth': 65, 'num_leaves': 80, 'learning_rate': 0.021}. Best is trial 31 with value: 4.596865396203876.\n"
     ]
    },
    {
     "name": "stdout",
     "output_type": "stream",
     "text": [
      "4.599836411560839\n"
     ]
    },
    {
     "name": "stderr",
     "output_type": "stream",
     "text": [
      "[I 2023-11-16 21:32:39,043] Trial 35 finished with value: 4.619356590508487 and parameters: {'n_estimators': 1000, 'max_depth': 70, 'num_leaves': 75, 'learning_rate': 0.041}. Best is trial 31 with value: 4.596865396203876.\n"
     ]
    },
    {
     "name": "stdout",
     "output_type": "stream",
     "text": [
      "4.619356590508487\n"
     ]
    },
    {
     "name": "stderr",
     "output_type": "stream",
     "text": [
      "[I 2023-11-16 21:32:56,733] Trial 36 finished with value: 4.600066492054122 and parameters: {'n_estimators': 800, 'max_depth': 65, 'num_leaves': 95, 'learning_rate': 0.021}. Best is trial 31 with value: 4.596865396203876.\n"
     ]
    },
    {
     "name": "stdout",
     "output_type": "stream",
     "text": [
      "4.600066492054122\n"
     ]
    },
    {
     "name": "stderr",
     "output_type": "stream",
     "text": [
      "[I 2023-11-16 21:33:12,089] Trial 37 finished with value: 4.749424752076278 and parameters: {'n_estimators': 920, 'max_depth': 75, 'num_leaves': 85, 'learning_rate': 0.14100000000000001}. Best is trial 31 with value: 4.596865396203876.\n"
     ]
    },
    {
     "name": "stdout",
     "output_type": "stream",
     "text": [
      "4.749424752076278\n"
     ]
    },
    {
     "name": "stderr",
     "output_type": "stream",
     "text": [
      "[I 2023-11-16 21:33:23,456] Trial 38 finished with value: 4.624320549538891 and parameters: {'n_estimators': 670, 'max_depth': 60, 'num_leaves': 70, 'learning_rate': 0.061}. Best is trial 31 with value: 4.596865396203876.\n"
     ]
    },
    {
     "name": "stdout",
     "output_type": "stream",
     "text": [
      "4.624320549538891\n"
     ]
    },
    {
     "name": "stderr",
     "output_type": "stream",
     "text": [
      "[I 2023-11-16 21:33:31,968] Trial 39 finished with value: 4.603166222957787 and parameters: {'n_estimators': 540, 'max_depth': 70, 'num_leaves': 60, 'learning_rate': 0.041}. Best is trial 31 with value: 4.596865396203876.\n"
     ]
    },
    {
     "name": "stdout",
     "output_type": "stream",
     "text": [
      "4.603166222957787\n",
      "{'n_estimators': 700, 'max_depth': 80, 'num_leaves': 60, 'learning_rate': 0.021}\n"
     ]
    },
    {
     "name": "stderr",
     "output_type": "stream",
     "text": [
      "C:\\Users\\Dmser\\AppData\\Local\\Temp\\ipykernel_15412\\2847376525.py:15: SettingWithCopyWarning: \n",
      "A value is trying to be set on a copy of a slice from a DataFrame.\n",
      "Try using .loc[row_indexer,col_indexer] = value instead\n",
      "\n",
      "See the caveats in the documentation: https://pandas.pydata.org/pandas-docs/stable/user_guide/indexing.html#returning-a-view-versus-a-copy\n",
      "  df2_temp[f'milk_yield_{i}'] = df3[f'milk_yield_{i}']\n",
      "[I 2023-11-16 21:33:32,507] A new study created in memory with name: no-name-55471a86-3180-4a23-98ee-0a35512a2f17\n",
      "[I 2023-11-16 21:33:45,676] Trial 0 finished with value: 4.749370684232426 and parameters: {'n_estimators': 890, 'max_depth': 10, 'num_leaves': 70, 'learning_rate': 0.251}. Best is trial 0 with value: 4.749370684232426.\n"
     ]
    },
    {
     "name": "stdout",
     "output_type": "stream",
     "text": [
      "4.749370684232426\n"
     ]
    },
    {
     "name": "stderr",
     "output_type": "stream",
     "text": [
      "[I 2023-11-16 21:33:58,164] Trial 1 finished with value: 4.573587407411803 and parameters: {'n_estimators': 920, 'max_depth': 20, 'num_leaves': 50, 'learning_rate': 0.14100000000000001}. Best is trial 1 with value: 4.573587407411803.\n"
     ]
    },
    {
     "name": "stdout",
     "output_type": "stream",
     "text": [
      "4.573587407411803\n"
     ]
    },
    {
     "name": "stderr",
     "output_type": "stream",
     "text": [
      "[I 2023-11-16 21:34:04,884] Trial 2 finished with value: 4.612819681090988 and parameters: {'n_estimators': 450, 'max_depth': 70, 'num_leaves': 65, 'learning_rate': 0.231}. Best is trial 1 with value: 4.573587407411803.\n"
     ]
    },
    {
     "name": "stdout",
     "output_type": "stream",
     "text": [
      "4.612819681090988\n"
     ]
    },
    {
     "name": "stderr",
     "output_type": "stream",
     "text": [
      "[I 2023-11-16 21:34:09,556] Trial 3 finished with value: 4.488393610665239 and parameters: {'n_estimators': 220, 'max_depth': 95, 'num_leaves': 50, 'learning_rate': 0.031}. Best is trial 3 with value: 4.488393610665239.\n"
     ]
    },
    {
     "name": "stdout",
     "output_type": "stream",
     "text": [
      "4.488393610665239\n"
     ]
    },
    {
     "name": "stderr",
     "output_type": "stream",
     "text": [
      "[I 2023-11-16 21:34:28,614] Trial 4 finished with value: 4.510666222604102 and parameters: {'n_estimators': 940, 'max_depth': 10, 'num_leaves': 95, 'learning_rate': 0.041}. Best is trial 3 with value: 4.488393610665239.\n"
     ]
    },
    {
     "name": "stdout",
     "output_type": "stream",
     "text": [
      "4.510666222604102\n"
     ]
    },
    {
     "name": "stderr",
     "output_type": "stream",
     "text": [
      "[I 2023-11-16 21:34:41,297] Trial 5 finished with value: 4.744089554706371 and parameters: {'n_estimators': 730, 'max_depth': 10, 'num_leaves': 90, 'learning_rate': 0.241}. Best is trial 3 with value: 4.488393610665239.\n"
     ]
    },
    {
     "name": "stdout",
     "output_type": "stream",
     "text": [
      "4.744089554706371\n"
     ]
    },
    {
     "name": "stderr",
     "output_type": "stream",
     "text": [
      "[I 2023-11-16 21:34:51,130] Trial 6 finished with value: 4.522277483858872 and parameters: {'n_estimators': 610, 'max_depth': 75, 'num_leaves': 70, 'learning_rate': 0.091}. Best is trial 3 with value: 4.488393610665239.\n"
     ]
    },
    {
     "name": "stdout",
     "output_type": "stream",
     "text": [
      "4.522277483858872\n"
     ]
    },
    {
     "name": "stderr",
     "output_type": "stream",
     "text": [
      "[I 2023-11-16 21:34:52,664] Trial 7 finished with value: 4.496644192865133 and parameters: {'n_estimators': 80, 'max_depth': 20, 'num_leaves': 50, 'learning_rate': 0.201}. Best is trial 3 with value: 4.488393610665239.\n"
     ]
    },
    {
     "name": "stdout",
     "output_type": "stream",
     "text": [
      "4.496644192865133\n"
     ]
    },
    {
     "name": "stderr",
     "output_type": "stream",
     "text": [
      "[I 2023-11-16 21:35:04,429] Trial 8 finished with value: 4.577040181689615 and parameters: {'n_estimators': 640, 'max_depth': 55, 'num_leaves': 90, 'learning_rate': 0.131}. Best is trial 3 with value: 4.488393610665239.\n"
     ]
    },
    {
     "name": "stdout",
     "output_type": "stream",
     "text": [
      "4.577040181689615\n"
     ]
    },
    {
     "name": "stderr",
     "output_type": "stream",
     "text": [
      "[I 2023-11-16 21:35:08,015] Trial 9 finished with value: 4.543626159692827 and parameters: {'n_estimators': 220, 'max_depth': 55, 'num_leaves': 70, 'learning_rate': 0.211}. Best is trial 3 with value: 4.488393610665239.\n"
     ]
    },
    {
     "name": "stdout",
     "output_type": "stream",
     "text": [
      "4.543626159692827\n"
     ]
    },
    {
     "name": "stderr",
     "output_type": "stream",
     "text": [
      "[I 2023-11-16 21:35:12,568] Trial 10 finished with value: 7.6057873942731025 and parameters: {'n_estimators': 390, 'max_depth': 95, 'num_leaves': 15, 'learning_rate': 0.001}. Best is trial 3 with value: 4.488393610665239.\n"
     ]
    },
    {
     "name": "stdout",
     "output_type": "stream",
     "text": [
      "7.6057873942731025\n"
     ]
    },
    {
     "name": "stderr",
     "output_type": "stream",
     "text": [
      "[I 2023-11-16 21:35:14,282] Trial 11 finished with value: 4.493027442378892 and parameters: {'n_estimators': 80, 'max_depth': 30, 'num_leaves': 35, 'learning_rate': 0.181}. Best is trial 3 with value: 4.488393610665239.\n"
     ]
    },
    {
     "name": "stdout",
     "output_type": "stream",
     "text": [
      "4.493027442378892\n"
     ]
    },
    {
     "name": "stderr",
     "output_type": "stream",
     "text": [
      "[I 2023-11-16 21:35:15,330] Trial 12 finished with value: 4.502577756205056 and parameters: {'n_estimators': 50, 'max_depth': 35, 'num_leaves': 25, 'learning_rate': 0.171}. Best is trial 3 with value: 4.488393610665239.\n"
     ]
    },
    {
     "name": "stdout",
     "output_type": "stream",
     "text": [
      "4.502577756205056\n"
     ]
    },
    {
     "name": "stderr",
     "output_type": "stream",
     "text": [
      "[I 2023-11-16 21:35:18,848] Trial 13 finished with value: 4.482708016598324 and parameters: {'n_estimators': 260, 'max_depth': 100, 'num_leaves': 35, 'learning_rate': 0.07100000000000001}. Best is trial 13 with value: 4.482708016598324.\n"
     ]
    },
    {
     "name": "stdout",
     "output_type": "stream",
     "text": [
      "4.482708016598324\n"
     ]
    },
    {
     "name": "stderr",
     "output_type": "stream",
     "text": [
      "[I 2023-11-16 21:35:20,803] Trial 14 finished with value: 4.539189916864911 and parameters: {'n_estimators': 270, 'max_depth': 100, 'num_leaves': 5, 'learning_rate': 0.07100000000000001}. Best is trial 13 with value: 4.482708016598324.\n"
     ]
    },
    {
     "name": "stdout",
     "output_type": "stream",
     "text": [
      "4.539189916864911\n"
     ]
    },
    {
     "name": "stderr",
     "output_type": "stream",
     "text": [
      "[I 2023-11-16 21:35:25,845] Trial 15 finished with value: 4.546896905094963 and parameters: {'n_estimators': 300, 'max_depth': 85, 'num_leaves': 35, 'learning_rate': 0.011}. Best is trial 13 with value: 4.482708016598324.\n"
     ]
    },
    {
     "name": "stdout",
     "output_type": "stream",
     "text": [
      "4.546896905094963\n"
     ]
    },
    {
     "name": "stderr",
     "output_type": "stream",
     "text": [
      "[I 2023-11-16 21:35:29,136] Trial 16 finished with value: 4.484084917912416 and parameters: {'n_estimators': 190, 'max_depth': 85, 'num_leaves': 40, 'learning_rate': 0.081}. Best is trial 13 with value: 4.482708016598324.\n"
     ]
    },
    {
     "name": "stdout",
     "output_type": "stream",
     "text": [
      "4.484084917912416\n"
     ]
    },
    {
     "name": "stderr",
     "output_type": "stream",
     "text": [
      "[I 2023-11-16 21:35:33,905] Trial 17 finished with value: 4.4915353201128365 and parameters: {'n_estimators': 390, 'max_depth': 80, 'num_leaves': 35, 'learning_rate': 0.091}. Best is trial 13 with value: 4.482708016598324.\n"
     ]
    },
    {
     "name": "stdout",
     "output_type": "stream",
     "text": [
      "4.4915353201128365\n"
     ]
    },
    {
     "name": "stderr",
     "output_type": "stream",
     "text": [
      "[I 2023-11-16 21:35:36,059] Trial 18 finished with value: 4.4967308688043754 and parameters: {'n_estimators': 180, 'max_depth': 65, 'num_leaves': 20, 'learning_rate': 0.061}. Best is trial 13 with value: 4.482708016598324.\n"
     ]
    },
    {
     "name": "stdout",
     "output_type": "stream",
     "text": [
      "4.4967308688043754\n"
     ]
    },
    {
     "name": "stderr",
     "output_type": "stream",
     "text": [
      "[I 2023-11-16 21:35:42,031] Trial 19 finished with value: 4.504791375143646 and parameters: {'n_estimators': 520, 'max_depth': 85, 'num_leaves': 40, 'learning_rate': 0.111}. Best is trial 13 with value: 4.482708016598324.\n"
     ]
    },
    {
     "name": "stdout",
     "output_type": "stream",
     "text": [
      "4.504791375143646\n"
     ]
    },
    {
     "name": "stderr",
     "output_type": "stream",
     "text": [
      "[I 2023-11-16 21:35:44,733] Trial 20 finished with value: 4.517366143707881 and parameters: {'n_estimators': 350, 'max_depth': 90, 'num_leaves': 5, 'learning_rate': 0.151}. Best is trial 13 with value: 4.482708016598324.\n"
     ]
    },
    {
     "name": "stdout",
     "output_type": "stream",
     "text": [
      "4.517366143707881\n"
     ]
    },
    {
     "name": "stderr",
     "output_type": "stream",
     "text": [
      "[I 2023-11-16 21:35:48,749] Trial 21 finished with value: 4.4921731485421414 and parameters: {'n_estimators': 180, 'max_depth': 100, 'num_leaves': 55, 'learning_rate': 0.031}. Best is trial 13 with value: 4.482708016598324.\n"
     ]
    },
    {
     "name": "stdout",
     "output_type": "stream",
     "text": [
      "4.4921731485421414\n"
     ]
    },
    {
     "name": "stderr",
     "output_type": "stream",
     "text": [
      "[I 2023-11-16 21:35:52,302] Trial 22 finished with value: 4.484899686766849 and parameters: {'n_estimators': 190, 'max_depth': 90, 'num_leaves': 45, 'learning_rate': 0.051000000000000004}. Best is trial 13 with value: 4.482708016598324.\n"
     ]
    },
    {
     "name": "stdout",
     "output_type": "stream",
     "text": [
      "4.484899686766849\n"
     ]
    },
    {
     "name": "stderr",
     "output_type": "stream",
     "text": [
      "[I 2023-11-16 21:35:54,814] Trial 23 finished with value: 4.496987250162794 and parameters: {'n_estimators': 140, 'max_depth': 65, 'num_leaves': 25, 'learning_rate': 0.061}. Best is trial 13 with value: 4.482708016598324.\n"
     ]
    },
    {
     "name": "stdout",
     "output_type": "stream",
     "text": [
      "4.496987250162794\n"
     ]
    },
    {
     "name": "stderr",
     "output_type": "stream",
     "text": [
      "[I 2023-11-16 21:35:59,023] Trial 24 finished with value: 4.4907631535387065 and parameters: {'n_estimators': 290, 'max_depth': 80, 'num_leaves': 40, 'learning_rate': 0.101}. Best is trial 13 with value: 4.482708016598324.\n"
     ]
    },
    {
     "name": "stdout",
     "output_type": "stream",
     "text": [
      "4.4907631535387065\n"
     ]
    },
    {
     "name": "stderr",
     "output_type": "stream",
     "text": [
      "[I 2023-11-16 21:36:06,600] Trial 25 finished with value: 4.503643769511994 and parameters: {'n_estimators': 480, 'max_depth': 90, 'num_leaves': 60, 'learning_rate': 0.081}. Best is trial 13 with value: 4.482708016598324.\n"
     ]
    },
    {
     "name": "stdout",
     "output_type": "stream",
     "text": [
      "4.503643769511994\n"
     ]
    },
    {
     "name": "stderr",
     "output_type": "stream",
     "text": [
      "[I 2023-11-16 21:36:09,123] Trial 26 finished with value: 4.489444813177908 and parameters: {'n_estimators': 140, 'max_depth': 100, 'num_leaves': 45, 'learning_rate': 0.051000000000000004}. Best is trial 13 with value: 4.482708016598324.\n"
     ]
    },
    {
     "name": "stdout",
     "output_type": "stream",
     "text": [
      "4.489444813177908\n"
     ]
    },
    {
     "name": "stderr",
     "output_type": "stream",
     "text": [
      "[I 2023-11-16 21:36:15,039] Trial 27 finished with value: 4.512968392853708 and parameters: {'n_estimators': 330, 'max_depth': 75, 'num_leaves': 80, 'learning_rate': 0.111}. Best is trial 13 with value: 4.482708016598324.\n"
     ]
    },
    {
     "name": "stdout",
     "output_type": "stream",
     "text": [
      "4.512968392853708\n"
     ]
    },
    {
     "name": "stderr",
     "output_type": "stream",
     "text": [
      "[I 2023-11-16 21:36:19,448] Trial 28 finished with value: 4.509358072078783 and parameters: {'n_estimators': 240, 'max_depth': 45, 'num_leaves': 30, 'learning_rate': 0.021}. Best is trial 13 with value: 4.482708016598324.\n"
     ]
    },
    {
     "name": "stdout",
     "output_type": "stream",
     "text": [
      "4.509358072078783\n"
     ]
    },
    {
     "name": "stderr",
     "output_type": "stream",
     "text": [
      "[I 2023-11-16 21:36:22,991] Trial 29 finished with value: 4.490834456502941 and parameters: {'n_estimators': 420, 'max_depth': 90, 'num_leaves': 15, 'learning_rate': 0.07100000000000001}. Best is trial 13 with value: 4.482708016598324.\n"
     ]
    },
    {
     "name": "stdout",
     "output_type": "stream",
     "text": [
      "4.490834456502941\n"
     ]
    },
    {
     "name": "stderr",
     "output_type": "stream",
     "text": [
      "[I 2023-11-16 21:36:32,699] Trial 30 finished with value: 4.490962507499345 and parameters: {'n_estimators': 620, 'max_depth': 65, 'num_leaves': 60, 'learning_rate': 0.051000000000000004}. Best is trial 13 with value: 4.482708016598324.\n"
     ]
    },
    {
     "name": "stdout",
     "output_type": "stream",
     "text": [
      "4.490962507499345\n"
     ]
    },
    {
     "name": "stderr",
     "output_type": "stream",
     "text": [
      "[I 2023-11-16 21:36:35,822] Trial 31 finished with value: 4.513865117807992 and parameters: {'n_estimators': 130, 'max_depth': 95, 'num_leaves': 45, 'learning_rate': 0.031}. Best is trial 13 with value: 4.482708016598324.\n"
     ]
    },
    {
     "name": "stdout",
     "output_type": "stream",
     "text": [
      "4.513865117807992\n"
     ]
    },
    {
     "name": "stderr",
     "output_type": "stream",
     "text": [
      "[I 2023-11-16 21:36:40,901] Trial 32 finished with value: 8.300805748609388 and parameters: {'n_estimators': 240, 'max_depth': 95, 'num_leaves': 50, 'learning_rate': 0.001}. Best is trial 13 with value: 4.482708016598324.\n"
     ]
    },
    {
     "name": "stdout",
     "output_type": "stream",
     "text": [
      "8.300805748609388\n"
     ]
    },
    {
     "name": "stderr",
     "output_type": "stream",
     "text": [
      "[I 2023-11-16 21:36:53,211] Trial 33 finished with value: 4.486842038515244 and parameters: {'n_estimators': 860, 'max_depth': 85, 'num_leaves': 55, 'learning_rate': 0.041}. Best is trial 13 with value: 4.482708016598324.\n"
     ]
    },
    {
     "name": "stdout",
     "output_type": "stream",
     "text": [
      "4.486842038515244\n"
     ]
    },
    {
     "name": "stderr",
     "output_type": "stream",
     "text": [
      "[I 2023-11-16 21:37:04,773] Trial 34 finished with value: 4.525261955724915 and parameters: {'n_estimators': 830, 'max_depth': 85, 'num_leaves': 60, 'learning_rate': 0.081}. Best is trial 13 with value: 4.482708016598324.\n"
     ]
    },
    {
     "name": "stdout",
     "output_type": "stream",
     "text": [
      "4.525261955724915\n"
     ]
    },
    {
     "name": "stderr",
     "output_type": "stream",
     "text": [
      "[I 2023-11-16 21:37:18,798] Trial 35 finished with value: 4.494198746830351 and parameters: {'n_estimators': 810, 'max_depth': 75, 'num_leaves': 80, 'learning_rate': 0.041}. Best is trial 13 with value: 4.482708016598324.\n"
     ]
    },
    {
     "name": "stdout",
     "output_type": "stream",
     "text": [
      "4.494198746830351\n"
     ]
    },
    {
     "name": "stderr",
     "output_type": "stream",
     "text": [
      "[I 2023-11-16 21:37:30,841] Trial 36 finished with value: 4.502624223218809 and parameters: {'n_estimators': 980, 'max_depth': 80, 'num_leaves': 45, 'learning_rate': 0.061}. Best is trial 13 with value: 4.482708016598324.\n"
     ]
    },
    {
     "name": "stdout",
     "output_type": "stream",
     "text": [
      "4.502624223218809\n"
     ]
    },
    {
     "name": "stderr",
     "output_type": "stream",
     "text": [
      "[I 2023-11-16 21:37:40,446] Trial 37 finished with value: 4.538813742254865 and parameters: {'n_estimators': 700, 'max_depth': 70, 'num_leaves': 55, 'learning_rate': 0.121}. Best is trial 13 with value: 4.482708016598324.\n"
     ]
    },
    {
     "name": "stdout",
     "output_type": "stream",
     "text": [
      "4.538813742254865\n"
     ]
    },
    {
     "name": "stderr",
     "output_type": "stream",
     "text": [
      "[I 2023-11-16 21:37:52,358] Trial 38 finished with value: 4.481514242103017 and parameters: {'n_estimators': 890, 'max_depth': 90, 'num_leaves': 40, 'learning_rate': 0.021}. Best is trial 38 with value: 4.481514242103017.\n"
     ]
    },
    {
     "name": "stdout",
     "output_type": "stream",
     "text": [
      "4.481514242103017\n"
     ]
    },
    {
     "name": "stderr",
     "output_type": "stream",
     "text": [
      "[I 2023-11-16 21:38:00,239] Trial 39 finished with value: 4.488072290850029 and parameters: {'n_estimators': 540, 'max_depth': 100, 'num_leaves': 30, 'learning_rate': 0.021}. Best is trial 38 with value: 4.481514242103017.\n"
     ]
    },
    {
     "name": "stdout",
     "output_type": "stream",
     "text": [
      "4.488072290850029\n",
      "{'n_estimators': 890, 'max_depth': 90, 'num_leaves': 40, 'learning_rate': 0.021}\n"
     ]
    },
    {
     "name": "stderr",
     "output_type": "stream",
     "text": [
      "C:\\Users\\Dmser\\AppData\\Local\\Temp\\ipykernel_15412\\2847376525.py:15: SettingWithCopyWarning: \n",
      "A value is trying to be set on a copy of a slice from a DataFrame.\n",
      "Try using .loc[row_indexer,col_indexer] = value instead\n",
      "\n",
      "See the caveats in the documentation: https://pandas.pydata.org/pandas-docs/stable/user_guide/indexing.html#returning-a-view-versus-a-copy\n",
      "  df2_temp[f'milk_yield_{i}'] = df3[f'milk_yield_{i}']\n",
      "[I 2023-11-16 21:38:00,789] A new study created in memory with name: no-name-0fef1da0-3333-4ec4-8c76-fb3041fd5ebf\n",
      "[I 2023-11-16 21:38:12,005] Trial 0 finished with value: 4.631867764795986 and parameters: {'n_estimators': 790, 'max_depth': 50, 'num_leaves': 65, 'learning_rate': 0.221}. Best is trial 0 with value: 4.631867764795986.\n"
     ]
    },
    {
     "name": "stdout",
     "output_type": "stream",
     "text": [
      "4.631867764795986\n"
     ]
    },
    {
     "name": "stderr",
     "output_type": "stream",
     "text": [
      "[I 2023-11-16 21:38:31,603] Trial 1 finished with value: 4.479071449835369 and parameters: {'n_estimators': 1000, 'max_depth': 45, 'num_leaves': 95, 'learning_rate': 0.051000000000000004}. Best is trial 1 with value: 4.479071449835369.\n"
     ]
    },
    {
     "name": "stdout",
     "output_type": "stream",
     "text": [
      "4.479071449835369\n"
     ]
    },
    {
     "name": "stderr",
     "output_type": "stream",
     "text": [
      "[I 2023-11-16 21:38:44,427] Trial 2 finished with value: 4.59953544123123 and parameters: {'n_estimators': 900, 'max_depth': 20, 'num_leaves': 65, 'learning_rate': 0.181}. Best is trial 1 with value: 4.479071449835369.\n"
     ]
    },
    {
     "name": "stdout",
     "output_type": "stream",
     "text": [
      "4.59953544123123\n"
     ]
    },
    {
     "name": "stderr",
     "output_type": "stream",
     "text": [
      "[I 2023-11-16 21:38:54,974] Trial 3 finished with value: 4.627928024012206 and parameters: {'n_estimators': 500, 'max_depth': 10, 'num_leaves': 105, 'learning_rate': 0.211}. Best is trial 1 with value: 4.479071449835369.\n"
     ]
    },
    {
     "name": "stdout",
     "output_type": "stream",
     "text": [
      "4.627928024012206\n"
     ]
    },
    {
     "name": "stderr",
     "output_type": "stream",
     "text": [
      "[I 2023-11-16 21:39:03,205] Trial 4 finished with value: 4.550529255791834 and parameters: {'n_estimators': 740, 'max_depth': 5, 'num_leaves': 95, 'learning_rate': 0.241}. Best is trial 1 with value: 4.479071449835369.\n"
     ]
    },
    {
     "name": "stdout",
     "output_type": "stream",
     "text": [
      "4.550529255791834\n"
     ]
    },
    {
     "name": "stderr",
     "output_type": "stream",
     "text": [
      "[I 2023-11-16 21:39:04,605] Trial 5 finished with value: 4.44815277581956 and parameters: {'n_estimators': 100, 'max_depth': 80, 'num_leaves': 25, 'learning_rate': 0.151}. Best is trial 5 with value: 4.44815277581956.\n"
     ]
    },
    {
     "name": "stdout",
     "output_type": "stream",
     "text": [
      "4.44815277581956\n"
     ]
    },
    {
     "name": "stderr",
     "output_type": "stream",
     "text": [
      "[I 2023-11-16 21:39:16,984] Trial 6 finished with value: 4.4499996305105745 and parameters: {'n_estimators': 890, 'max_depth': 40, 'num_leaves': 50, 'learning_rate': 0.051000000000000004}. Best is trial 5 with value: 4.44815277581956.\n"
     ]
    },
    {
     "name": "stdout",
     "output_type": "stream",
     "text": [
      "4.4499996305105745\n"
     ]
    },
    {
     "name": "stderr",
     "output_type": "stream",
     "text": [
      "[I 2023-11-16 21:39:24,470] Trial 7 finished with value: 4.545206941504158 and parameters: {'n_estimators': 600, 'max_depth': 10, 'num_leaves': 50, 'learning_rate': 0.201}. Best is trial 5 with value: 4.44815277581956.\n"
     ]
    },
    {
     "name": "stdout",
     "output_type": "stream",
     "text": [
      "4.545206941504158\n"
     ]
    },
    {
     "name": "stderr",
     "output_type": "stream",
     "text": [
      "[I 2023-11-16 21:39:33,701] Trial 8 finished with value: 4.435420245481217 and parameters: {'n_estimators': 460, 'max_depth': 55, 'num_leaves': 70, 'learning_rate': 0.031}. Best is trial 8 with value: 4.435420245481217.\n"
     ]
    },
    {
     "name": "stdout",
     "output_type": "stream",
     "text": [
      "4.435420245481217\n"
     ]
    },
    {
     "name": "stderr",
     "output_type": "stream",
     "text": [
      "[I 2023-11-16 21:39:43,307] Trial 9 finished with value: 4.445099819720297 and parameters: {'n_estimators': 440, 'max_depth': 60, 'num_leaves': 105, 'learning_rate': 0.051000000000000004}. Best is trial 8 with value: 4.435420245481217.\n"
     ]
    },
    {
     "name": "stdout",
     "output_type": "stream",
     "text": [
      "4.445099819720297\n"
     ]
    },
    {
     "name": "stderr",
     "output_type": "stream",
     "text": [
      "[I 2023-11-16 21:39:45,895] Trial 10 finished with value: 8.042978422630295 and parameters: {'n_estimators': 270, 'max_depth': 95, 'num_leaves': 5, 'learning_rate': 0.001}. Best is trial 8 with value: 4.435420245481217.\n"
     ]
    },
    {
     "name": "stdout",
     "output_type": "stream",
     "text": [
      "8.042978422630295\n"
     ]
    },
    {
     "name": "stderr",
     "output_type": "stream",
     "text": [
      "[I 2023-11-16 21:39:53,452] Trial 11 finished with value: 4.453329283911648 and parameters: {'n_estimators': 400, 'max_depth': 65, 'num_leaves': 80, 'learning_rate': 0.081}. Best is trial 8 with value: 4.435420245481217.\n"
     ]
    },
    {
     "name": "stdout",
     "output_type": "stream",
     "text": [
      "4.453329283911648\n"
     ]
    },
    {
     "name": "stderr",
     "output_type": "stream",
     "text": [
      "[I 2023-11-16 21:40:03,363] Trial 12 finished with value: 7.711397019343922 and parameters: {'n_estimators': 300, 'max_depth': 65, 'num_leaves': 80, 'learning_rate': 0.001}. Best is trial 8 with value: 4.435420245481217.\n"
     ]
    },
    {
     "name": "stdout",
     "output_type": "stream",
     "text": [
      "7.711397019343922\n"
     ]
    },
    {
     "name": "stderr",
     "output_type": "stream",
     "text": [
      "[I 2023-11-16 21:40:09,583] Trial 13 finished with value: 4.451464820303053 and parameters: {'n_estimators': 590, 'max_depth': 30, 'num_leaves': 35, 'learning_rate': 0.091}. Best is trial 8 with value: 4.435420245481217.\n"
     ]
    },
    {
     "name": "stdout",
     "output_type": "stream",
     "text": [
      "4.451464820303053\n"
     ]
    },
    {
     "name": "stderr",
     "output_type": "stream",
     "text": [
      "[I 2023-11-16 21:40:18,919] Trial 14 finished with value: 4.4397031537560405 and parameters: {'n_estimators': 440, 'max_depth': 65, 'num_leaves': 80, 'learning_rate': 0.041}. Best is trial 8 with value: 4.435420245481217.\n"
     ]
    },
    {
     "name": "stdout",
     "output_type": "stream",
     "text": [
      "4.4397031537560405\n"
     ]
    },
    {
     "name": "stderr",
     "output_type": "stream",
     "text": [
      "[I 2023-11-16 21:40:23,641] Trial 15 finished with value: 4.456908146610277 and parameters: {'n_estimators': 250, 'max_depth': 85, 'num_leaves': 75, 'learning_rate': 0.111}. Best is trial 8 with value: 4.435420245481217.\n"
     ]
    },
    {
     "name": "stdout",
     "output_type": "stream",
     "text": [
      "4.456908146610277\n"
     ]
    },
    {
     "name": "stderr",
     "output_type": "stream",
     "text": [
      "[I 2023-11-16 21:40:26,056] Trial 16 finished with value: 4.505219690998598 and parameters: {'n_estimators': 90, 'max_depth': 80, 'num_leaves': 65, 'learning_rate': 0.031}. Best is trial 8 with value: 4.435420245481217.\n"
     ]
    },
    {
     "name": "stdout",
     "output_type": "stream",
     "text": [
      "4.505219690998598\n"
     ]
    },
    {
     "name": "stderr",
     "output_type": "stream",
     "text": [
      "[I 2023-11-16 21:40:38,243] Trial 17 finished with value: 4.537375767751735 and parameters: {'n_estimators': 670, 'max_depth': 70, 'num_leaves': 90, 'learning_rate': 0.131}. Best is trial 8 with value: 4.435420245481217.\n"
     ]
    },
    {
     "name": "stdout",
     "output_type": "stream",
     "text": [
      "4.537375767751735\n"
     ]
    },
    {
     "name": "stderr",
     "output_type": "stream",
     "text": [
      "[I 2023-11-16 21:40:42,846] Trial 18 finished with value: 4.439462224974937 and parameters: {'n_estimators': 390, 'max_depth': 30, 'num_leaves': 35, 'learning_rate': 0.07100000000000001}. Best is trial 8 with value: 4.435420245481217.\n"
     ]
    },
    {
     "name": "stdout",
     "output_type": "stream",
     "text": [
      "4.439462224974937\n"
     ]
    },
    {
     "name": "stderr",
     "output_type": "stream",
     "text": [
      "[I 2023-11-16 21:40:46,970] Trial 19 finished with value: 4.441884427407321 and parameters: {'n_estimators': 350, 'max_depth': 35, 'num_leaves': 35, 'learning_rate': 0.091}. Best is trial 8 with value: 4.435420245481217.\n"
     ]
    },
    {
     "name": "stdout",
     "output_type": "stream",
     "text": [
      "4.441884427407321\n"
     ]
    },
    {
     "name": "stderr",
     "output_type": "stream",
     "text": [
      "[I 2023-11-16 21:40:49,838] Trial 20 finished with value: 4.500875552527581 and parameters: {'n_estimators': 190, 'max_depth': 20, 'num_leaves': 15, 'learning_rate': 0.021}. Best is trial 8 with value: 4.435420245481217.\n"
     ]
    },
    {
     "name": "stdout",
     "output_type": "stream",
     "text": [
      "4.500875552527581\n"
     ]
    },
    {
     "name": "stderr",
     "output_type": "stream",
     "text": [
      "[I 2023-11-16 21:40:55,948] Trial 21 finished with value: 4.44056566630203 and parameters: {'n_estimators': 490, 'max_depth': 55, 'num_leaves': 40, 'learning_rate': 0.07100000000000001}. Best is trial 8 with value: 4.435420245481217.\n"
     ]
    },
    {
     "name": "stdout",
     "output_type": "stream",
     "text": [
      "4.44056566630203\n"
     ]
    },
    {
     "name": "stderr",
     "output_type": "stream",
     "text": [
      "[I 2023-11-16 21:41:02,973] Trial 22 finished with value: 4.433119243174201 and parameters: {'n_estimators': 410, 'max_depth': 50, 'num_leaves': 55, 'learning_rate': 0.031}. Best is trial 22 with value: 4.433119243174201.\n"
     ]
    },
    {
     "name": "stdout",
     "output_type": "stream",
     "text": [
      "4.433119243174201\n"
     ]
    },
    {
     "name": "stderr",
     "output_type": "stream",
     "text": [
      "[I 2023-11-16 21:41:12,935] Trial 23 finished with value: 4.432163111406209 and parameters: {'n_estimators': 550, 'max_depth': 30, 'num_leaves': 55, 'learning_rate': 0.021}. Best is trial 23 with value: 4.432163111406209.\n"
     ]
    },
    {
     "name": "stdout",
     "output_type": "stream",
     "text": [
      "4.432163111406209\n"
     ]
    },
    {
     "name": "stderr",
     "output_type": "stream",
     "text": [
      "[I 2023-11-16 21:41:22,948] Trial 24 finished with value: 4.434088781802018 and parameters: {'n_estimators': 570, 'max_depth': 50, 'num_leaves': 50, 'learning_rate': 0.021}. Best is trial 23 with value: 4.432163111406209.\n"
     ]
    },
    {
     "name": "stdout",
     "output_type": "stream",
     "text": [
      "4.434088781802018\n"
     ]
    },
    {
     "name": "stderr",
     "output_type": "stream",
     "text": [
      "[I 2023-11-16 21:41:34,061] Trial 25 finished with value: 4.439740426223125 and parameters: {'n_estimators': 570, 'max_depth': 45, 'num_leaves': 55, 'learning_rate': 0.011}. Best is trial 23 with value: 4.432163111406209.\n"
     ]
    },
    {
     "name": "stdout",
     "output_type": "stream",
     "text": [
      "4.439740426223125\n"
     ]
    },
    {
     "name": "stderr",
     "output_type": "stream",
     "text": [
      "[I 2023-11-16 21:41:45,953] Trial 26 finished with value: 4.431612906451489 and parameters: {'n_estimators': 690, 'max_depth': 25, 'num_leaves': 55, 'learning_rate': 0.021}. Best is trial 26 with value: 4.431612906451489.\n"
     ]
    },
    {
     "name": "stdout",
     "output_type": "stream",
     "text": [
      "4.431612906451489\n"
     ]
    },
    {
     "name": "stderr",
     "output_type": "stream",
     "text": [
      "[I 2023-11-16 21:41:55,945] Trial 27 finished with value: 4.48756778772656 and parameters: {'n_estimators': 690, 'max_depth': 20, 'num_leaves': 55, 'learning_rate': 0.111}. Best is trial 26 with value: 4.431612906451489.\n"
     ]
    },
    {
     "name": "stdout",
     "output_type": "stream",
     "text": [
      "4.48756778772656\n"
     ]
    },
    {
     "name": "stderr",
     "output_type": "stream",
     "text": [
      "[I 2023-11-16 21:42:07,686] Trial 28 finished with value: 4.548539762008588 and parameters: {'n_estimators': 850, 'max_depth': 30, 'num_leaves': 60, 'learning_rate': 0.151}. Best is trial 26 with value: 4.431612906451489.\n"
     ]
    },
    {
     "name": "stdout",
     "output_type": "stream",
     "text": [
      "4.548539762008588\n"
     ]
    },
    {
     "name": "stderr",
     "output_type": "stream",
     "text": [
      "[I 2023-11-16 21:42:22,693] Trial 29 finished with value: 6.016889884297967 and parameters: {'n_estimators': 770, 'max_depth': 35, 'num_leaves': 45, 'learning_rate': 0.001}. Best is trial 26 with value: 4.431612906451489.\n"
     ]
    },
    {
     "name": "stdout",
     "output_type": "stream",
     "text": [
      "6.016889884297967\n"
     ]
    },
    {
     "name": "stderr",
     "output_type": "stream",
     "text": [
      "[I 2023-11-16 21:42:30,176] Trial 30 finished with value: 4.441966277254862 and parameters: {'n_estimators': 680, 'max_depth': 25, 'num_leaves': 25, 'learning_rate': 0.061}. Best is trial 26 with value: 4.431612906451489.\n"
     ]
    },
    {
     "name": "stdout",
     "output_type": "stream",
     "text": [
      "4.441966277254862\n"
     ]
    },
    {
     "name": "stderr",
     "output_type": "stream",
     "text": [
      "[I 2023-11-16 21:42:38,512] Trial 31 finished with value: 4.435383765568737 and parameters: {'n_estimators': 550, 'max_depth': 50, 'num_leaves': 45, 'learning_rate': 0.021}. Best is trial 26 with value: 4.431612906451489.\n"
     ]
    },
    {
     "name": "stdout",
     "output_type": "stream",
     "text": [
      "4.435383765568737\n"
     ]
    },
    {
     "name": "stderr",
     "output_type": "stream",
     "text": [
      "[I 2023-11-16 21:42:49,814] Trial 32 finished with value: 4.43628444273913 and parameters: {'n_estimators': 650, 'max_depth': 45, 'num_leaves': 60, 'learning_rate': 0.031}. Best is trial 26 with value: 4.431612906451489.\n"
     ]
    },
    {
     "name": "stdout",
     "output_type": "stream",
     "text": [
      "4.43628444273913\n"
     ]
    },
    {
     "name": "stderr",
     "output_type": "stream",
     "text": [
      "[I 2023-11-16 21:43:00,010] Trial 33 finished with value: 4.43365317338116 and parameters: {'n_estimators': 520, 'max_depth': 40, 'num_leaves': 60, 'learning_rate': 0.021}. Best is trial 26 with value: 4.431612906451489.\n"
     ]
    },
    {
     "name": "stdout",
     "output_type": "stream",
     "text": [
      "4.43365317338116\n"
     ]
    },
    {
     "name": "stderr",
     "output_type": "stream",
     "text": [
      "[I 2023-11-16 21:43:11,439] Trial 34 finished with value: 4.4423108158890585 and parameters: {'n_estimators': 630, 'max_depth': 40, 'num_leaves': 70, 'learning_rate': 0.041}. Best is trial 26 with value: 4.431612906451489.\n"
     ]
    },
    {
     "name": "stdout",
     "output_type": "stream",
     "text": [
      "4.4423108158890585\n"
     ]
    },
    {
     "name": "stderr",
     "output_type": "stream",
     "text": [
      "[I 2023-11-16 21:43:25,861] Trial 35 finished with value: 4.471202746718408 and parameters: {'n_estimators': 1000, 'max_depth': 15, 'num_leaves': 60, 'learning_rate': 0.061}. Best is trial 26 with value: 4.431612906451489.\n"
     ]
    },
    {
     "name": "stdout",
     "output_type": "stream",
     "text": [
      "4.471202746718408\n"
     ]
    },
    {
     "name": "stderr",
     "output_type": "stream",
     "text": [
      "[I 2023-11-16 21:43:43,786] Trial 36 finished with value: 4.43301257621498 and parameters: {'n_estimators': 840, 'max_depth': 40, 'num_leaves': 70, 'learning_rate': 0.011}. Best is trial 26 with value: 4.431612906451489.\n"
     ]
    },
    {
     "name": "stdout",
     "output_type": "stream",
     "text": [
      "4.43301257621498\n"
     ]
    },
    {
     "name": "stderr",
     "output_type": "stream",
     "text": [
      "[I 2023-11-16 21:43:56,818] Trial 37 finished with value: 4.678360298453709 and parameters: {'n_estimators': 830, 'max_depth': 25, 'num_leaves': 70, 'learning_rate': 0.251}. Best is trial 26 with value: 4.431612906451489.\n"
     ]
    },
    {
     "name": "stdout",
     "output_type": "stream",
     "text": [
      "4.678360298453709\n"
     ]
    },
    {
     "name": "stderr",
     "output_type": "stream",
     "text": [
      "[I 2023-11-16 21:44:06,204] Trial 38 finished with value: 4.455890587390272 and parameters: {'n_estimators': 750, 'max_depth': 5, 'num_leaves': 90, 'learning_rate': 0.011}. Best is trial 26 with value: 4.431612906451489.\n"
     ]
    },
    {
     "name": "stdout",
     "output_type": "stream",
     "text": [
      "4.455890587390272\n"
     ]
    },
    {
     "name": "stderr",
     "output_type": "stream",
     "text": [
      "[I 2023-11-16 21:44:17,943] Trial 39 finished with value: 4.4443915656845 and parameters: {'n_estimators': 900, 'max_depth': 35, 'num_leaves': 45, 'learning_rate': 0.041}. Best is trial 26 with value: 4.431612906451489.\n"
     ]
    },
    {
     "name": "stdout",
     "output_type": "stream",
     "text": [
      "4.4443915656845\n",
      "{'n_estimators': 690, 'max_depth': 25, 'num_leaves': 55, 'learning_rate': 0.021}\n"
     ]
    },
    {
     "name": "stderr",
     "output_type": "stream",
     "text": [
      "C:\\Users\\Dmser\\AppData\\Local\\Temp\\ipykernel_15412\\2847376525.py:15: SettingWithCopyWarning: \n",
      "A value is trying to be set on a copy of a slice from a DataFrame.\n",
      "Try using .loc[row_indexer,col_indexer] = value instead\n",
      "\n",
      "See the caveats in the documentation: https://pandas.pydata.org/pandas-docs/stable/user_guide/indexing.html#returning-a-view-versus-a-copy\n",
      "  df2_temp[f'milk_yield_{i}'] = df3[f'milk_yield_{i}']\n",
      "[I 2023-11-16 21:44:18,472] A new study created in memory with name: no-name-91104221-ba14-4f91-af3d-7867d119b4e4\n",
      "[I 2023-11-16 21:44:25,081] Trial 0 finished with value: 4.565938871392926 and parameters: {'n_estimators': 380, 'max_depth': 35, 'num_leaves': 80, 'learning_rate': 0.171}. Best is trial 0 with value: 4.565938871392926.\n"
     ]
    },
    {
     "name": "stdout",
     "output_type": "stream",
     "text": [
      "4.565938871392926\n"
     ]
    },
    {
     "name": "stderr",
     "output_type": "stream",
     "text": [
      "[I 2023-11-16 21:44:32,393] Trial 1 finished with value: 4.479342582524988 and parameters: {'n_estimators': 460, 'max_depth': 25, 'num_leaves': 55, 'learning_rate': 0.051000000000000004}. Best is trial 1 with value: 4.479342582524988.\n"
     ]
    },
    {
     "name": "stdout",
     "output_type": "stream",
     "text": [
      "4.479342582524988\n"
     ]
    },
    {
     "name": "stderr",
     "output_type": "stream",
     "text": [
      "[I 2023-11-16 21:44:35,590] Trial 2 finished with value: 4.4788635372219305 and parameters: {'n_estimators': 190, 'max_depth': 75, 'num_leaves': 35, 'learning_rate': 0.051000000000000004}. Best is trial 2 with value: 4.4788635372219305.\n"
     ]
    },
    {
     "name": "stdout",
     "output_type": "stream",
     "text": [
      "4.4788635372219305\n"
     ]
    },
    {
     "name": "stderr",
     "output_type": "stream",
     "text": [
      "[I 2023-11-16 21:44:44,252] Trial 3 finished with value: 4.474516769088288 and parameters: {'n_estimators': 820, 'max_depth': 70, 'num_leaves': 30, 'learning_rate': 0.031}. Best is trial 3 with value: 4.474516769088288.\n"
     ]
    },
    {
     "name": "stdout",
     "output_type": "stream",
     "text": [
      "4.474516769088288\n"
     ]
    },
    {
     "name": "stderr",
     "output_type": "stream",
     "text": [
      "[I 2023-11-16 21:44:49,402] Trial 4 finished with value: 4.4917641170696925 and parameters: {'n_estimators': 860, 'max_depth': 35, 'num_leaves': 5, 'learning_rate': 0.14100000000000001}. Best is trial 3 with value: 4.474516769088288.\n"
     ]
    },
    {
     "name": "stdout",
     "output_type": "stream",
     "text": [
      "4.4917641170696925\n"
     ]
    },
    {
     "name": "stderr",
     "output_type": "stream",
     "text": [
      "[I 2023-11-16 21:44:57,634] Trial 5 finished with value: 4.4945512668540974 and parameters: {'n_estimators': 940, 'max_depth': 90, 'num_leaves': 25, 'learning_rate': 0.091}. Best is trial 3 with value: 4.474516769088288.\n"
     ]
    },
    {
     "name": "stdout",
     "output_type": "stream",
     "text": [
      "4.4945512668540974\n"
     ]
    },
    {
     "name": "stderr",
     "output_type": "stream",
     "text": [
      "[I 2023-11-16 21:45:10,503] Trial 6 finished with value: 4.525064260769609 and parameters: {'n_estimators': 730, 'max_depth': 90, 'num_leaves': 80, 'learning_rate': 0.091}. Best is trial 3 with value: 4.474516769088288.\n"
     ]
    },
    {
     "name": "stdout",
     "output_type": "stream",
     "text": [
      "4.525064260769609\n"
     ]
    },
    {
     "name": "stderr",
     "output_type": "stream",
     "text": [
      "[I 2023-11-16 21:45:14,978] Trial 7 finished with value: 4.488646136949115 and parameters: {'n_estimators': 530, 'max_depth': 75, 'num_leaves': 20, 'learning_rate': 0.111}. Best is trial 3 with value: 4.474516769088288.\n"
     ]
    },
    {
     "name": "stdout",
     "output_type": "stream",
     "text": [
      "4.488646136949115\n"
     ]
    },
    {
     "name": "stderr",
     "output_type": "stream",
     "text": [
      "[I 2023-11-16 21:45:21,718] Trial 8 finished with value: 4.489681938348715 and parameters: {'n_estimators': 800, 'max_depth': 35, 'num_leaves': 15, 'learning_rate': 0.101}. Best is trial 3 with value: 4.474516769088288.\n"
     ]
    },
    {
     "name": "stdout",
     "output_type": "stream",
     "text": [
      "4.489681938348715\n"
     ]
    },
    {
     "name": "stderr",
     "output_type": "stream",
     "text": [
      "[I 2023-11-16 21:45:27,636] Trial 9 finished with value: 4.504027106485659 and parameters: {'n_estimators': 840, 'max_depth': 70, 'num_leaves': 10, 'learning_rate': 0.171}. Best is trial 3 with value: 4.474516769088288.\n"
     ]
    },
    {
     "name": "stdout",
     "output_type": "stream",
     "text": [
      "4.504027106485659\n"
     ]
    },
    {
     "name": "stderr",
     "output_type": "stream",
     "text": [
      "[I 2023-11-16 21:45:40,725] Trial 10 finished with value: 4.752089377920129 and parameters: {'n_estimators': 650, 'max_depth': 10, 'num_leaves': 105, 'learning_rate': 0.251}. Best is trial 3 with value: 4.474516769088288.\n"
     ]
    },
    {
     "name": "stdout",
     "output_type": "stream",
     "text": [
      "4.752089377920129\n"
     ]
    },
    {
     "name": "stderr",
     "output_type": "stream",
     "text": [
      "[I 2023-11-16 21:45:42,092] Trial 11 finished with value: 6.5475213441244895 and parameters: {'n_estimators': 50, 'max_depth': 60, 'num_leaves': 40, 'learning_rate': 0.011}. Best is trial 3 with value: 4.474516769088288.\n"
     ]
    },
    {
     "name": "stdout",
     "output_type": "stream",
     "text": [
      "6.5475213441244895\n"
     ]
    },
    {
     "name": "stderr",
     "output_type": "stream",
     "text": [
      "[I 2023-11-16 21:45:45,686] Trial 12 finished with value: 4.762380518887199 and parameters: {'n_estimators': 160, 'max_depth': 100, 'num_leaves': 45, 'learning_rate': 0.011}. Best is trial 3 with value: 4.474516769088288.\n"
     ]
    },
    {
     "name": "stdout",
     "output_type": "stream",
     "text": [
      "4.762380518887199\n"
     ]
    },
    {
     "name": "stderr",
     "output_type": "stream",
     "text": [
      "[I 2023-11-16 21:45:49,602] Trial 13 finished with value: 4.475874516415715 and parameters: {'n_estimators': 300, 'max_depth': 55, 'num_leaves': 35, 'learning_rate': 0.051000000000000004}. Best is trial 3 with value: 4.474516769088288.\n"
     ]
    },
    {
     "name": "stdout",
     "output_type": "stream",
     "text": [
      "4.475874516415715\n"
     ]
    },
    {
     "name": "stderr",
     "output_type": "stream",
     "text": [
      "[I 2023-11-16 21:45:56,577] Trial 14 finished with value: 4.472998768680809 and parameters: {'n_estimators': 310, 'max_depth': 55, 'num_leaves': 65, 'learning_rate': 0.051000000000000004}. Best is trial 14 with value: 4.472998768680809.\n"
     ]
    },
    {
     "name": "stdout",
     "output_type": "stream",
     "text": [
      "4.472998768680809\n"
     ]
    },
    {
     "name": "stderr",
     "output_type": "stream",
     "text": [
      "[I 2023-11-16 21:46:11,719] Trial 15 finished with value: 6.447546897764766 and parameters: {'n_estimators': 580, 'max_depth': 45, 'num_leaves': 70, 'learning_rate': 0.001}. Best is trial 14 with value: 4.472998768680809.\n"
     ]
    },
    {
     "name": "stdout",
     "output_type": "stream",
     "text": [
      "6.447546897764766\n"
     ]
    },
    {
     "name": "stderr",
     "output_type": "stream",
     "text": [
      "[I 2023-11-16 21:46:25,715] Trial 16 finished with value: 4.496870106814239 and parameters: {'n_estimators': 970, 'max_depth': 65, 'num_leaves': 60, 'learning_rate': 0.051000000000000004}. Best is trial 14 with value: 4.472998768680809.\n"
     ]
    },
    {
     "name": "stdout",
     "output_type": "stream",
     "text": [
      "4.496870106814239\n"
     ]
    },
    {
     "name": "stderr",
     "output_type": "stream",
     "text": [
      "[I 2023-11-16 21:46:34,335] Trial 17 finished with value: 4.474157039372926 and parameters: {'n_estimators': 330, 'max_depth': 50, 'num_leaves': 105, 'learning_rate': 0.031}. Best is trial 14 with value: 4.472998768680809.\n"
     ]
    },
    {
     "name": "stdout",
     "output_type": "stream",
     "text": [
      "4.474157039372926\n"
     ]
    },
    {
     "name": "stderr",
     "output_type": "stream",
     "text": [
      "[I 2023-11-16 21:46:41,581] Trial 18 finished with value: 4.490192457348483 and parameters: {'n_estimators': 300, 'max_depth': 45, 'num_leaves': 105, 'learning_rate': 0.07100000000000001}. Best is trial 14 with value: 4.472998768680809.\n"
     ]
    },
    {
     "name": "stdout",
     "output_type": "stream",
     "text": [
      "4.490192457348483\n"
     ]
    },
    {
     "name": "stderr",
     "output_type": "stream",
     "text": [
      "[I 2023-11-16 21:46:49,453] Trial 19 finished with value: 4.549691786456329 and parameters: {'n_estimators': 430, 'max_depth': 15, 'num_leaves': 85, 'learning_rate': 0.14100000000000001}. Best is trial 14 with value: 4.472998768680809.\n"
     ]
    },
    {
     "name": "stdout",
     "output_type": "stream",
     "text": [
      "4.549691786456329\n"
     ]
    },
    {
     "name": "stderr",
     "output_type": "stream",
     "text": [
      "[I 2023-11-16 21:46:54,862] Trial 20 finished with value: 4.607501447197604 and parameters: {'n_estimators': 290, 'max_depth': 50, 'num_leaves': 90, 'learning_rate': 0.241}. Best is trial 14 with value: 4.472998768680809.\n"
     ]
    },
    {
     "name": "stdout",
     "output_type": "stream",
     "text": [
      "4.607501447197604\n"
     ]
    },
    {
     "name": "stderr",
     "output_type": "stream",
     "text": [
      "[I 2023-11-16 21:46:59,918] Trial 21 finished with value: 4.474975043730861 and parameters: {'n_estimators': 190, 'max_depth': 80, 'num_leaves': 65, 'learning_rate': 0.031}. Best is trial 14 with value: 4.472998768680809.\n"
     ]
    },
    {
     "name": "stdout",
     "output_type": "stream",
     "text": [
      "4.474975043730861\n"
     ]
    },
    {
     "name": "stderr",
     "output_type": "stream",
     "text": [
      "[I 2023-11-16 21:47:13,952] Trial 22 finished with value: 4.480669972369078 and parameters: {'n_estimators': 640, 'max_depth': 60, 'num_leaves': 95, 'learning_rate': 0.031}. Best is trial 14 with value: 4.472998768680809.\n"
     ]
    },
    {
     "name": "stdout",
     "output_type": "stream",
     "text": [
      "4.480669972369078\n"
     ]
    },
    {
     "name": "stderr",
     "output_type": "stream",
     "text": [
      "[I 2023-11-16 21:47:19,917] Trial 23 finished with value: 4.48185499371905 and parameters: {'n_estimators': 400, 'max_depth': 50, 'num_leaves': 45, 'learning_rate': 0.07100000000000001}. Best is trial 14 with value: 4.472998768680809.\n"
     ]
    },
    {
     "name": "stdout",
     "output_type": "stream",
     "text": [
      "4.48185499371905\n"
     ]
    },
    {
     "name": "stderr",
     "output_type": "stream",
     "text": [
      "[I 2023-11-16 21:47:29,155] Trial 24 finished with value: 4.471643439263847 and parameters: {'n_estimators': 500, 'max_depth': 60, 'num_leaves': 70, 'learning_rate': 0.031}. Best is trial 24 with value: 4.471643439263847.\n"
     ]
    },
    {
     "name": "stdout",
     "output_type": "stream",
     "text": [
      "4.471643439263847\n"
     ]
    },
    {
     "name": "stderr",
     "output_type": "stream",
     "text": [
      "[I 2023-11-16 21:47:37,662] Trial 25 finished with value: 4.494712996337213 and parameters: {'n_estimators': 500, 'max_depth': 40, 'num_leaves': 70, 'learning_rate': 0.07100000000000001}. Best is trial 24 with value: 4.471643439263847.\n"
     ]
    },
    {
     "name": "stdout",
     "output_type": "stream",
     "text": [
      "4.494712996337213\n"
     ]
    },
    {
     "name": "stderr",
     "output_type": "stream",
     "text": [
      "[I 2023-11-16 21:47:46,670] Trial 26 finished with value: 4.473433912413836 and parameters: {'n_estimators': 340, 'max_depth': 60, 'num_leaves': 95, 'learning_rate': 0.031}. Best is trial 24 with value: 4.471643439263847.\n"
     ]
    },
    {
     "name": "stdout",
     "output_type": "stream",
     "text": [
      "4.473433912413836\n"
     ]
    },
    {
     "name": "stderr",
     "output_type": "stream",
     "text": [
      "[I 2023-11-16 21:47:49,487] Trial 27 finished with value: 8.624143612011716 and parameters: {'n_estimators': 100, 'max_depth': 60, 'num_leaves': 75, 'learning_rate': 0.001}. Best is trial 24 with value: 4.471643439263847.\n"
     ]
    },
    {
     "name": "stdout",
     "output_type": "stream",
     "text": [
      "8.624143612011716\n"
     ]
    },
    {
     "name": "stderr",
     "output_type": "stream",
     "text": [
      "[I 2023-11-16 21:47:55,249] Trial 28 finished with value: 4.480208894333213 and parameters: {'n_estimators': 240, 'max_depth': 25, 'num_leaves': 95, 'learning_rate': 0.07100000000000001}. Best is trial 24 with value: 4.471643439263847.\n"
     ]
    },
    {
     "name": "stdout",
     "output_type": "stream",
     "text": [
      "4.480208894333213\n"
     ]
    },
    {
     "name": "stderr",
     "output_type": "stream",
     "text": [
      "[I 2023-11-16 21:48:01,650] Trial 29 finished with value: 4.507906818128006 and parameters: {'n_estimators': 400, 'max_depth': 80, 'num_leaves': 50, 'learning_rate': 0.131}. Best is trial 24 with value: 4.471643439263847.\n"
     ]
    },
    {
     "name": "stdout",
     "output_type": "stream",
     "text": [
      "4.507906818128006\n"
     ]
    },
    {
     "name": "stderr",
     "output_type": "stream",
     "text": [
      "[I 2023-11-16 21:48:09,625] Trial 30 finished with value: 4.628384961614141 and parameters: {'n_estimators': 580, 'max_depth': 65, 'num_leaves': 60, 'learning_rate': 0.221}. Best is trial 24 with value: 4.471643439263847.\n"
     ]
    },
    {
     "name": "stdout",
     "output_type": "stream",
     "text": [
      "4.628384961614141\n"
     ]
    },
    {
     "name": "stderr",
     "output_type": "stream",
     "text": [
      "[I 2023-11-16 21:48:19,663] Trial 31 finished with value: 4.471913147666026 and parameters: {'n_estimators': 350, 'max_depth': 55, 'num_leaves': 100, 'learning_rate': 0.021}. Best is trial 24 with value: 4.471643439263847.\n"
     ]
    },
    {
     "name": "stdout",
     "output_type": "stream",
     "text": [
      "4.471913147666026\n"
     ]
    },
    {
     "name": "stderr",
     "output_type": "stream",
     "text": [
      "[I 2023-11-16 21:48:28,240] Trial 32 finished with value: 4.47088375325455 and parameters: {'n_estimators': 360, 'max_depth': 55, 'num_leaves': 85, 'learning_rate': 0.021}. Best is trial 32 with value: 4.47088375325455.\n"
     ]
    },
    {
     "name": "stdout",
     "output_type": "stream",
     "text": [
      "4.47088375325455\n"
     ]
    },
    {
     "name": "stderr",
     "output_type": "stream",
     "text": [
      "[I 2023-11-16 21:48:40,278] Trial 33 finished with value: 4.479101380504588 and parameters: {'n_estimators': 450, 'max_depth': 25, 'num_leaves': 80, 'learning_rate': 0.011}. Best is trial 32 with value: 4.47088375325455.\n"
     ]
    },
    {
     "name": "stdout",
     "output_type": "stream",
     "text": [
      "4.479101380504588\n"
     ]
    },
    {
     "name": "stderr",
     "output_type": "stream",
     "text": [
      "[I 2023-11-16 21:48:45,711] Trial 34 finished with value: 4.471697971960857 and parameters: {'n_estimators': 250, 'max_depth': 55, 'num_leaves': 85, 'learning_rate': 0.051000000000000004}. Best is trial 32 with value: 4.47088375325455.\n"
     ]
    },
    {
     "name": "stdout",
     "output_type": "stream",
     "text": [
      "4.471697971960857\n"
     ]
    },
    {
     "name": "stderr",
     "output_type": "stream",
     "text": [
      "[I 2023-11-16 21:48:53,353] Trial 35 finished with value: 4.476426744712342 and parameters: {'n_estimators': 250, 'max_depth': 40, 'num_leaves': 85, 'learning_rate': 0.021}. Best is trial 32 with value: 4.47088375325455.\n"
     ]
    },
    {
     "name": "stdout",
     "output_type": "stream",
     "text": [
      "4.476426744712342\n"
     ]
    },
    {
     "name": "stderr",
     "output_type": "stream",
     "text": [
      "[I 2023-11-16 21:49:02,674] Trial 36 finished with value: 4.491878455979736 and parameters: {'n_estimators': 490, 'max_depth': 70, 'num_leaves': 85, 'learning_rate': 0.061}. Best is trial 32 with value: 4.47088375325455.\n"
     ]
    },
    {
     "name": "stdout",
     "output_type": "stream",
     "text": [
      "4.491878455979736\n"
     ]
    },
    {
     "name": "stderr",
     "output_type": "stream",
     "text": [
      "[I 2023-11-16 21:49:12,068] Trial 37 finished with value: 4.474666922325783 and parameters: {'n_estimators': 360, 'max_depth': 45, 'num_leaves': 100, 'learning_rate': 0.041}. Best is trial 32 with value: 4.47088375325455.\n"
     ]
    },
    {
     "name": "stdout",
     "output_type": "stream",
     "text": [
      "4.474666922325783\n"
     ]
    },
    {
     "name": "stderr",
     "output_type": "stream",
     "text": [
      "[I 2023-11-16 21:49:16,734] Trial 38 finished with value: 4.485704695797476 and parameters: {'n_estimators': 240, 'max_depth': 30, 'num_leaves': 75, 'learning_rate': 0.091}. Best is trial 32 with value: 4.47088375325455.\n"
     ]
    },
    {
     "name": "stdout",
     "output_type": "stream",
     "text": [
      "4.485704695797476\n"
     ]
    },
    {
     "name": "stderr",
     "output_type": "stream",
     "text": [
      "[I 2023-11-16 21:49:28,863] Trial 39 finished with value: 4.472179035604578 and parameters: {'n_estimators': 540, 'max_depth': 65, 'num_leaves': 80, 'learning_rate': 0.021}. Best is trial 32 with value: 4.47088375325455.\n"
     ]
    },
    {
     "name": "stdout",
     "output_type": "stream",
     "text": [
      "4.472179035604578\n",
      "{'n_estimators': 360, 'max_depth': 55, 'num_leaves': 85, 'learning_rate': 0.021}\n"
     ]
    },
    {
     "name": "stderr",
     "output_type": "stream",
     "text": [
      "C:\\Users\\Dmser\\AppData\\Local\\Temp\\ipykernel_15412\\2847376525.py:15: SettingWithCopyWarning: \n",
      "A value is trying to be set on a copy of a slice from a DataFrame.\n",
      "Try using .loc[row_indexer,col_indexer] = value instead\n",
      "\n",
      "See the caveats in the documentation: https://pandas.pydata.org/pandas-docs/stable/user_guide/indexing.html#returning-a-view-versus-a-copy\n",
      "  df2_temp[f'milk_yield_{i}'] = df3[f'milk_yield_{i}']\n",
      "[I 2023-11-16 21:49:29,355] A new study created in memory with name: no-name-2df7414f-da39-4b03-a939-3b06c3fb1bad\n",
      "[I 2023-11-16 21:49:35,702] Trial 0 finished with value: 4.655831659970236 and parameters: {'n_estimators': 620, 'max_depth': 55, 'num_leaves': 35, 'learning_rate': 0.171}. Best is trial 0 with value: 4.655831659970236.\n"
     ]
    },
    {
     "name": "stdout",
     "output_type": "stream",
     "text": [
      "4.655831659970236\n"
     ]
    },
    {
     "name": "stderr",
     "output_type": "stream",
     "text": [
      "[I 2023-11-16 21:49:37,161] Trial 1 finished with value: 4.617372834850505 and parameters: {'n_estimators': 160, 'max_depth': 30, 'num_leaves': 5, 'learning_rate': 0.121}. Best is trial 1 with value: 4.617372834850505.\n"
     ]
    },
    {
     "name": "stdout",
     "output_type": "stream",
     "text": [
      "4.617372834850505\n"
     ]
    },
    {
     "name": "stderr",
     "output_type": "stream",
     "text": [
      "[I 2023-11-16 21:49:49,998] Trial 2 finished with value: 4.701824301011142 and parameters: {'n_estimators': 840, 'max_depth': 90, 'num_leaves': 75, 'learning_rate': 0.131}. Best is trial 1 with value: 4.617372834850505.\n"
     ]
    },
    {
     "name": "stdout",
     "output_type": "stream",
     "text": [
      "4.701824301011142\n"
     ]
    },
    {
     "name": "stderr",
     "output_type": "stream",
     "text": [
      "[I 2023-11-16 21:49:57,450] Trial 3 finished with value: 4.627893670150041 and parameters: {'n_estimators': 620, 'max_depth': 35, 'num_leaves': 35, 'learning_rate': 0.131}. Best is trial 1 with value: 4.617372834850505.\n"
     ]
    },
    {
     "name": "stdout",
     "output_type": "stream",
     "text": [
      "4.627893670150041\n"
     ]
    },
    {
     "name": "stderr",
     "output_type": "stream",
     "text": [
      "[I 2023-11-16 21:49:58,507] Trial 4 finished with value: 4.596016331167082 and parameters: {'n_estimators': 80, 'max_depth': 30, 'num_leaves': 20, 'learning_rate': 0.251}. Best is trial 4 with value: 4.596016331167082.\n"
     ]
    },
    {
     "name": "stdout",
     "output_type": "stream",
     "text": [
      "4.596016331167082\n"
     ]
    },
    {
     "name": "stderr",
     "output_type": "stream",
     "text": [
      "[I 2023-11-16 21:50:09,818] Trial 5 finished with value: 5.761432099365701 and parameters: {'n_estimators': 860, 'max_depth': 5, 'num_leaves': 40, 'learning_rate': 0.001}. Best is trial 4 with value: 4.596016331167082.\n"
     ]
    },
    {
     "name": "stdout",
     "output_type": "stream",
     "text": [
      "5.761432099365701\n"
     ]
    },
    {
     "name": "stderr",
     "output_type": "stream",
     "text": [
      "[I 2023-11-16 21:50:15,797] Trial 6 finished with value: 4.656198393090902 and parameters: {'n_estimators': 580, 'max_depth': 5, 'num_leaves': 100, 'learning_rate': 0.211}. Best is trial 4 with value: 4.596016331167082.\n"
     ]
    },
    {
     "name": "stdout",
     "output_type": "stream",
     "text": [
      "4.656198393090902\n"
     ]
    },
    {
     "name": "stderr",
     "output_type": "stream",
     "text": [
      "[I 2023-11-16 21:50:21,788] Trial 7 finished with value: 4.611679068002161 and parameters: {'n_estimators': 560, 'max_depth': 85, 'num_leaves': 35, 'learning_rate': 0.121}. Best is trial 4 with value: 4.596016331167082.\n"
     ]
    },
    {
     "name": "stdout",
     "output_type": "stream",
     "text": [
      "4.611679068002161\n"
     ]
    },
    {
     "name": "stderr",
     "output_type": "stream",
     "text": [
      "[I 2023-11-16 21:50:27,286] Trial 8 finished with value: 4.618890330415902 and parameters: {'n_estimators': 690, 'max_depth': 50, 'num_leaves': 15, 'learning_rate': 0.181}. Best is trial 4 with value: 4.596016331167082.\n"
     ]
    },
    {
     "name": "stdout",
     "output_type": "stream",
     "text": [
      "4.618890330415902\n"
     ]
    },
    {
     "name": "stderr",
     "output_type": "stream",
     "text": [
      "[I 2023-11-16 21:50:32,025] Trial 9 finished with value: 4.583394622413544 and parameters: {'n_estimators': 410, 'max_depth': 100, 'num_leaves': 35, 'learning_rate': 0.081}. Best is trial 9 with value: 4.583394622413544.\n"
     ]
    },
    {
     "name": "stdout",
     "output_type": "stream",
     "text": [
      "4.583394622413544\n"
     ]
    },
    {
     "name": "stderr",
     "output_type": "stream",
     "text": [
      "[I 2023-11-16 21:50:38,276] Trial 10 finished with value: 4.583962096916966 and parameters: {'n_estimators': 330, 'max_depth': 100, 'num_leaves': 70, 'learning_rate': 0.041}. Best is trial 9 with value: 4.583394622413544.\n"
     ]
    },
    {
     "name": "stdout",
     "output_type": "stream",
     "text": [
      "4.583962096916966\n"
     ]
    },
    {
     "name": "stderr",
     "output_type": "stream",
     "text": [
      "[I 2023-11-16 21:50:44,618] Trial 11 finished with value: 4.584101334386184 and parameters: {'n_estimators': 300, 'max_depth': 100, 'num_leaves': 70, 'learning_rate': 0.041}. Best is trial 9 with value: 4.583394622413544.\n"
     ]
    },
    {
     "name": "stdout",
     "output_type": "stream",
     "text": [
      "4.584101334386184\n"
     ]
    },
    {
     "name": "stderr",
     "output_type": "stream",
     "text": [
      "[I 2023-11-16 21:50:50,514] Trial 12 finished with value: 4.58270325089304 and parameters: {'n_estimators': 340, 'max_depth': 70, 'num_leaves': 60, 'learning_rate': 0.051000000000000004}. Best is trial 12 with value: 4.58270325089304.\n"
     ]
    },
    {
     "name": "stdout",
     "output_type": "stream",
     "text": [
      "4.58270325089304\n"
     ]
    },
    {
     "name": "stderr",
     "output_type": "stream",
     "text": [
      "[I 2023-11-16 21:50:56,315] Trial 13 finished with value: 4.589447828914652 and parameters: {'n_estimators': 370, 'max_depth': 70, 'num_leaves': 55, 'learning_rate': 0.07100000000000001}. Best is trial 12 with value: 4.58270325089304.\n"
     ]
    },
    {
     "name": "stdout",
     "output_type": "stream",
     "text": [
      "4.589447828914652\n"
     ]
    },
    {
     "name": "stderr",
     "output_type": "stream",
     "text": [
      "[I 2023-11-16 21:51:02,317] Trial 14 finished with value: 4.600409968604437 and parameters: {'n_estimators': 410, 'max_depth': 70, 'num_leaves': 55, 'learning_rate': 0.081}. Best is trial 12 with value: 4.58270325089304.\n"
     ]
    },
    {
     "name": "stdout",
     "output_type": "stream",
     "text": [
      "4.600409968604437\n"
     ]
    },
    {
     "name": "stderr",
     "output_type": "stream",
     "text": [
      "[I 2023-11-16 21:51:08,501] Trial 15 finished with value: 7.983304118591251 and parameters: {'n_estimators': 200, 'max_depth': 75, 'num_leaves': 95, 'learning_rate': 0.001}. Best is trial 12 with value: 4.58270325089304.\n"
     ]
    },
    {
     "name": "stdout",
     "output_type": "stream",
     "text": [
      "7.983304118591251\n"
     ]
    },
    {
     "name": "stderr",
     "output_type": "stream",
     "text": [
      "[I 2023-11-16 21:51:15,202] Trial 16 finished with value: 4.599027279089386 and parameters: {'n_estimators': 440, 'max_depth': 55, 'num_leaves': 50, 'learning_rate': 0.081}. Best is trial 12 with value: 4.58270325089304.\n"
     ]
    },
    {
     "name": "stdout",
     "output_type": "stream",
     "text": [
      "4.599027279089386\n"
     ]
    },
    {
     "name": "stderr",
     "output_type": "stream",
     "text": [
      "[I 2023-11-16 21:51:20,986] Trial 17 finished with value: 4.5814255638274535 and parameters: {'n_estimators': 240, 'max_depth': 85, 'num_leaves': 80, 'learning_rate': 0.041}. Best is trial 17 with value: 4.5814255638274535.\n"
     ]
    },
    {
     "name": "stdout",
     "output_type": "stream",
     "text": [
      "4.5814255638274535\n"
     ]
    },
    {
     "name": "stderr",
     "output_type": "stream",
     "text": [
      "[I 2023-11-16 21:51:27,764] Trial 18 finished with value: 4.5791997295517985 and parameters: {'n_estimators': 230, 'max_depth': 80, 'num_leaves': 85, 'learning_rate': 0.031}. Best is trial 18 with value: 4.5791997295517985.\n"
     ]
    },
    {
     "name": "stdout",
     "output_type": "stream",
     "text": [
      "4.5791997295517985\n"
     ]
    },
    {
     "name": "stderr",
     "output_type": "stream",
     "text": [
      "[I 2023-11-16 21:51:29,699] Trial 19 finished with value: 5.407981715437365 and parameters: {'n_estimators': 50, 'max_depth': 85, 'num_leaves': 85, 'learning_rate': 0.021}. Best is trial 18 with value: 4.5791997295517985.\n"
     ]
    },
    {
     "name": "stdout",
     "output_type": "stream",
     "text": [
      "5.407981715437365\n"
     ]
    },
    {
     "name": "stderr",
     "output_type": "stream",
     "text": [
      "[I 2023-11-16 21:51:35,845] Trial 20 finished with value: 4.584878105161016 and parameters: {'n_estimators': 230, 'max_depth': 80, 'num_leaves': 85, 'learning_rate': 0.021}. Best is trial 18 with value: 4.5791997295517985.\n"
     ]
    },
    {
     "name": "stdout",
     "output_type": "stream",
     "text": [
      "4.584878105161016\n"
     ]
    },
    {
     "name": "stderr",
     "output_type": "stream",
     "text": [
      "[I 2023-11-16 21:51:41,186] Trial 21 finished with value: 4.588668904841437 and parameters: {'n_estimators': 260, 'max_depth': 65, 'num_leaves': 80, 'learning_rate': 0.051000000000000004}. Best is trial 18 with value: 4.5791997295517985.\n"
     ]
    },
    {
     "name": "stdout",
     "output_type": "stream",
     "text": [
      "4.588668904841437\n"
     ]
    },
    {
     "name": "stderr",
     "output_type": "stream",
     "text": [
      "[I 2023-11-16 21:51:44,408] Trial 22 finished with value: 4.581141028788879 and parameters: {'n_estimators': 130, 'max_depth': 65, 'num_leaves': 65, 'learning_rate': 0.051000000000000004}. Best is trial 18 with value: 4.5791997295517985.\n"
     ]
    },
    {
     "name": "stdout",
     "output_type": "stream",
     "text": [
      "4.581141028788879\n"
     ]
    },
    {
     "name": "stderr",
     "output_type": "stream",
     "text": [
      "[I 2023-11-16 21:51:49,120] Trial 23 finished with value: 4.642433867359959 and parameters: {'n_estimators': 130, 'max_depth': 60, 'num_leaves': 95, 'learning_rate': 0.021}. Best is trial 18 with value: 4.5791997295517985.\n"
     ]
    },
    {
     "name": "stdout",
     "output_type": "stream",
     "text": [
      "4.642433867359959\n"
     ]
    },
    {
     "name": "stderr",
     "output_type": "stream",
     "text": [
      "[I 2023-11-16 21:51:51,999] Trial 24 finished with value: 4.5856947971228745 and parameters: {'n_estimators': 140, 'max_depth': 90, 'num_leaves': 65, 'learning_rate': 0.101}. Best is trial 18 with value: 4.5791997295517985.\n"
     ]
    },
    {
     "name": "stdout",
     "output_type": "stream",
     "text": [
      "4.5856947971228745\n"
     ]
    },
    {
     "name": "stderr",
     "output_type": "stream",
     "text": [
      "[I 2023-11-16 21:52:03,917] Trial 25 finished with value: 4.616539634530132 and parameters: {'n_estimators': 500, 'max_depth': 80, 'num_leaves': 105, 'learning_rate': 0.061}. Best is trial 18 with value: 4.5791997295517985.\n"
     ]
    },
    {
     "name": "stdout",
     "output_type": "stream",
     "text": [
      "4.616539634530132\n"
     ]
    },
    {
     "name": "stderr",
     "output_type": "stream",
     "text": [
      "[I 2023-11-16 21:52:09,046] Trial 26 finished with value: 4.604415981931536 and parameters: {'n_estimators': 250, 'max_depth': 45, 'num_leaves': 90, 'learning_rate': 0.101}. Best is trial 18 with value: 4.5791997295517985.\n"
     ]
    },
    {
     "name": "stdout",
     "output_type": "stream",
     "text": [
      "4.604415981931536\n"
     ]
    },
    {
     "name": "stderr",
     "output_type": "stream",
     "text": [
      "[I 2023-11-16 21:52:27,123] Trial 27 finished with value: 4.601514162708059 and parameters: {'n_estimators': 960, 'max_depth': 90, 'num_leaves': 80, 'learning_rate': 0.031}. Best is trial 18 with value: 4.5791997295517985.\n"
     ]
    },
    {
     "name": "stdout",
     "output_type": "stream",
     "text": [
      "4.601514162708059\n"
     ]
    },
    {
     "name": "stderr",
     "output_type": "stream",
     "text": [
      "[I 2023-11-16 21:52:29,610] Trial 28 finished with value: 8.543724650267816 and parameters: {'n_estimators': 100, 'max_depth': 65, 'num_leaves': 65, 'learning_rate': 0.001}. Best is trial 18 with value: 4.5791997295517985.\n"
     ]
    },
    {
     "name": "stdout",
     "output_type": "stream",
     "text": [
      "8.543724650267816\n"
     ]
    },
    {
     "name": "stderr",
     "output_type": "stream",
     "text": [
      "[I 2023-11-16 21:52:32,414] Trial 29 finished with value: 4.600936807744508 and parameters: {'n_estimators': 180, 'max_depth': 45, 'num_leaves': 45, 'learning_rate': 0.161}. Best is trial 18 with value: 4.5791997295517985.\n"
     ]
    },
    {
     "name": "stdout",
     "output_type": "stream",
     "text": [
      "4.600936807744508\n"
     ]
    },
    {
     "name": "stderr",
     "output_type": "stream",
     "text": [
      "[I 2023-11-16 21:52:43,511] Trial 30 finished with value: 4.657564765167578 and parameters: {'n_estimators': 710, 'max_depth': 60, 'num_leaves': 75, 'learning_rate': 0.101}. Best is trial 18 with value: 4.5791997295517985.\n"
     ]
    },
    {
     "name": "stdout",
     "output_type": "stream",
     "text": [
      "4.657564765167578\n"
     ]
    },
    {
     "name": "stderr",
     "output_type": "stream",
     "text": [
      "[I 2023-11-16 21:52:49,424] Trial 31 finished with value: 4.587521620650006 and parameters: {'n_estimators': 320, 'max_depth': 75, 'num_leaves': 60, 'learning_rate': 0.061}. Best is trial 18 with value: 4.5791997295517985.\n"
     ]
    },
    {
     "name": "stdout",
     "output_type": "stream",
     "text": [
      "4.587521620650006\n"
     ]
    },
    {
     "name": "stderr",
     "output_type": "stream",
     "text": [
      "[I 2023-11-16 21:52:54,600] Trial 32 finished with value: 4.582295333491657 and parameters: {'n_estimators': 280, 'max_depth': 75, 'num_leaves': 60, 'learning_rate': 0.041}. Best is trial 18 with value: 4.5791997295517985.\n"
     ]
    },
    {
     "name": "stdout",
     "output_type": "stream",
     "text": [
      "4.582295333491657\n"
     ]
    },
    {
     "name": "stderr",
     "output_type": "stream",
     "text": [
      "[I 2023-11-16 21:52:58,903] Trial 33 finished with value: 4.582762719296122 and parameters: {'n_estimators': 180, 'max_depth': 80, 'num_leaves': 75, 'learning_rate': 0.031}. Best is trial 18 with value: 4.5791997295517985.\n"
     ]
    },
    {
     "name": "stdout",
     "output_type": "stream",
     "text": [
      "4.582762719296122\n"
     ]
    },
    {
     "name": "stderr",
     "output_type": "stream",
     "text": [
      "[I 2023-11-16 21:53:06,803] Trial 34 finished with value: 4.62976038894314 and parameters: {'n_estimators': 270, 'max_depth': 95, 'num_leaves': 85, 'learning_rate': 0.011}. Best is trial 18 with value: 4.5791997295517985.\n"
     ]
    },
    {
     "name": "stdout",
     "output_type": "stream",
     "text": [
      "4.62976038894314\n"
     ]
    },
    {
     "name": "stderr",
     "output_type": "stream",
     "text": [
      "[I 2023-11-16 21:53:08,234] Trial 35 finished with value: 4.6601750470219265 and parameters: {'n_estimators': 50, 'max_depth': 85, 'num_leaves': 65, 'learning_rate': 0.051000000000000004}. Best is trial 18 with value: 4.5791997295517985.\n"
     ]
    },
    {
     "name": "stdout",
     "output_type": "stream",
     "text": [
      "4.6601750470219265\n"
     ]
    },
    {
     "name": "stderr",
     "output_type": "stream",
     "text": [
      "[I 2023-11-16 21:53:15,598] Trial 36 finished with value: 4.580738199853723 and parameters: {'n_estimators': 470, 'max_depth': 75, 'num_leaves': 50, 'learning_rate': 0.031}. Best is trial 18 with value: 4.5791997295517985.\n"
     ]
    },
    {
     "name": "stdout",
     "output_type": "stream",
     "text": [
      "4.580738199853723\n"
     ]
    },
    {
     "name": "stderr",
     "output_type": "stream",
     "text": [
      "[I 2023-11-16 21:53:22,506] Trial 37 finished with value: 4.588088132631679 and parameters: {'n_estimators': 500, 'max_depth': 60, 'num_leaves': 25, 'learning_rate': 0.021}. Best is trial 18 with value: 4.5791997295517985.\n"
     ]
    },
    {
     "name": "stdout",
     "output_type": "stream",
     "text": [
      "4.588088132631679\n"
     ]
    },
    {
     "name": "stderr",
     "output_type": "stream",
     "text": [
      "[I 2023-11-16 21:53:35,204] Trial 38 finished with value: 4.6381042514231945 and parameters: {'n_estimators': 700, 'max_depth': 20, 'num_leaves': 95, 'learning_rate': 0.07100000000000001}. Best is trial 18 with value: 4.5791997295517985.\n"
     ]
    },
    {
     "name": "stdout",
     "output_type": "stream",
     "text": [
      "4.6381042514231945\n"
     ]
    },
    {
     "name": "stderr",
     "output_type": "stream",
     "text": [
      "[I 2023-11-16 21:53:41,345] Trial 39 finished with value: 4.707662033461062 and parameters: {'n_estimators': 450, 'max_depth': 65, 'num_leaves': 45, 'learning_rate': 0.241}. Best is trial 18 with value: 4.5791997295517985.\n"
     ]
    },
    {
     "name": "stdout",
     "output_type": "stream",
     "text": [
      "4.707662033461062\n",
      "{'n_estimators': 230, 'max_depth': 80, 'num_leaves': 85, 'learning_rate': 0.031}\n"
     ]
    },
    {
     "name": "stderr",
     "output_type": "stream",
     "text": [
      "C:\\Users\\Dmser\\AppData\\Local\\Temp\\ipykernel_15412\\2847376525.py:15: SettingWithCopyWarning: \n",
      "A value is trying to be set on a copy of a slice from a DataFrame.\n",
      "Try using .loc[row_indexer,col_indexer] = value instead\n",
      "\n",
      "See the caveats in the documentation: https://pandas.pydata.org/pandas-docs/stable/user_guide/indexing.html#returning-a-view-versus-a-copy\n",
      "  df2_temp[f'milk_yield_{i}'] = df3[f'milk_yield_{i}']\n",
      "[I 2023-11-16 21:53:41,832] A new study created in memory with name: no-name-649b79e2-6b20-4a6c-b6b8-3f6079401b2a\n",
      "[I 2023-11-16 21:54:01,675] Trial 0 finished with value: 4.618321417731094 and parameters: {'n_estimators': 840, 'max_depth': 20, 'num_leaves': 100, 'learning_rate': 0.031}. Best is trial 0 with value: 4.618321417731094.\n"
     ]
    },
    {
     "name": "stdout",
     "output_type": "stream",
     "text": [
      "4.618321417731094\n"
     ]
    },
    {
     "name": "stderr",
     "output_type": "stream",
     "text": [
      "[I 2023-11-16 21:54:09,217] Trial 1 finished with value: 4.736681644387839 and parameters: {'n_estimators': 350, 'max_depth': 20, 'num_leaves': 100, 'learning_rate': 0.191}. Best is trial 0 with value: 4.618321417731094.\n"
     ]
    },
    {
     "name": "stdout",
     "output_type": "stream",
     "text": [
      "4.736681644387839\n"
     ]
    },
    {
     "name": "stderr",
     "output_type": "stream",
     "text": [
      "[I 2023-11-16 21:54:13,017] Trial 2 finished with value: 4.596871236927005 and parameters: {'n_estimators': 180, 'max_depth': 45, 'num_leaves': 65, 'learning_rate': 0.061}. Best is trial 2 with value: 4.596871236927005.\n"
     ]
    },
    {
     "name": "stdout",
     "output_type": "stream",
     "text": [
      "4.596871236927005\n"
     ]
    },
    {
     "name": "stderr",
     "output_type": "stream",
     "text": [
      "[I 2023-11-16 21:54:17,558] Trial 3 finished with value: 4.633545315038492 and parameters: {'n_estimators': 700, 'max_depth': 100, 'num_leaves': 10, 'learning_rate': 0.181}. Best is trial 2 with value: 4.596871236927005.\n"
     ]
    },
    {
     "name": "stdout",
     "output_type": "stream",
     "text": [
      "4.633545315038492\n"
     ]
    },
    {
     "name": "stderr",
     "output_type": "stream",
     "text": [
      "[I 2023-11-16 21:54:24,664] Trial 4 finished with value: 4.695180846536802 and parameters: {'n_estimators': 460, 'max_depth': 35, 'num_leaves': 70, 'learning_rate': 0.161}. Best is trial 2 with value: 4.596871236927005.\n"
     ]
    },
    {
     "name": "stdout",
     "output_type": "stream",
     "text": [
      "4.695180846536802\n"
     ]
    },
    {
     "name": "stderr",
     "output_type": "stream",
     "text": [
      "[I 2023-11-16 21:54:26,334] Trial 5 finished with value: 4.614812214238558 and parameters: {'n_estimators': 220, 'max_depth': 100, 'num_leaves': 5, 'learning_rate': 0.171}. Best is trial 2 with value: 4.596871236927005.\n"
     ]
    },
    {
     "name": "stdout",
     "output_type": "stream",
     "text": [
      "4.614812214238558\n"
     ]
    },
    {
     "name": "stderr",
     "output_type": "stream",
     "text": [
      "[I 2023-11-16 21:54:27,838] Trial 6 finished with value: 6.183427196738365 and parameters: {'n_estimators': 60, 'max_depth': 95, 'num_leaves': 50, 'learning_rate': 0.011}. Best is trial 2 with value: 4.596871236927005.\n"
     ]
    },
    {
     "name": "stdout",
     "output_type": "stream",
     "text": [
      "6.183427196738365\n"
     ]
    },
    {
     "name": "stderr",
     "output_type": "stream",
     "text": [
      "[I 2023-11-16 21:54:31,824] Trial 7 finished with value: 4.594804058446865 and parameters: {'n_estimators': 200, 'max_depth': 70, 'num_leaves': 60, 'learning_rate': 0.031}. Best is trial 7 with value: 4.594804058446865.\n"
     ]
    },
    {
     "name": "stdout",
     "output_type": "stream",
     "text": [
      "4.594804058446865\n"
     ]
    },
    {
     "name": "stderr",
     "output_type": "stream",
     "text": [
      "[I 2023-11-16 21:54:34,640] Trial 8 finished with value: 4.608393316011196 and parameters: {'n_estimators': 500, 'max_depth': 50, 'num_leaves': 5, 'learning_rate': 0.101}. Best is trial 7 with value: 4.594804058446865.\n"
     ]
    },
    {
     "name": "stdout",
     "output_type": "stream",
     "text": [
      "4.608393316011196\n"
     ]
    },
    {
     "name": "stderr",
     "output_type": "stream",
     "text": [
      "[I 2023-11-16 21:54:41,479] Trial 9 finished with value: 4.601726415409908 and parameters: {'n_estimators': 330, 'max_depth': 65, 'num_leaves': 80, 'learning_rate': 0.041}. Best is trial 7 with value: 4.594804058446865.\n"
     ]
    },
    {
     "name": "stdout",
     "output_type": "stream",
     "text": [
      "4.601726415409908\n"
     ]
    },
    {
     "name": "stderr",
     "output_type": "stream",
     "text": [
      "[I 2023-11-16 21:54:48,980] Trial 10 finished with value: 4.639047894561001 and parameters: {'n_estimators': 710, 'max_depth': 75, 'num_leaves': 40, 'learning_rate': 0.101}. Best is trial 7 with value: 4.594804058446865.\n"
     ]
    },
    {
     "name": "stdout",
     "output_type": "stream",
     "text": [
      "4.639047894561001\n"
     ]
    },
    {
     "name": "stderr",
     "output_type": "stream",
     "text": [
      "[I 2023-11-16 21:54:50,435] Trial 11 finished with value: 4.604824740199556 and parameters: {'n_estimators': 60, 'max_depth': 55, 'num_leaves': 65, 'learning_rate': 0.07100000000000001}. Best is trial 7 with value: 4.594804058446865.\n"
     ]
    },
    {
     "name": "stdout",
     "output_type": "stream",
     "text": [
      "4.604824740199556\n"
     ]
    },
    {
     "name": "stderr",
     "output_type": "stream",
     "text": [
      "[I 2023-11-16 21:54:52,867] Trial 12 finished with value: 4.641888768706755 and parameters: {'n_estimators': 230, 'max_depth': 75, 'num_leaves': 30, 'learning_rate': 0.241}. Best is trial 7 with value: 4.594804058446865.\n"
     ]
    },
    {
     "name": "stdout",
     "output_type": "stream",
     "text": [
      "4.641888768706755\n"
     ]
    },
    {
     "name": "stderr",
     "output_type": "stream",
     "text": [
      "[I 2023-11-16 21:54:56,937] Trial 13 finished with value: 4.598240623189382 and parameters: {'n_estimators': 180, 'max_depth': 45, 'num_leaves': 80, 'learning_rate': 0.061}. Best is trial 7 with value: 4.594804058446865.\n"
     ]
    },
    {
     "name": "stdout",
     "output_type": "stream",
     "text": [
      "4.598240623189382\n"
     ]
    },
    {
     "name": "stderr",
     "output_type": "stream",
     "text": [
      "[I 2023-11-16 21:55:01,386] Trial 14 finished with value: 4.627323404707495 and parameters: {'n_estimators': 370, 'max_depth': 5, 'num_leaves': 55, 'learning_rate': 0.011}. Best is trial 7 with value: 4.594804058446865.\n"
     ]
    },
    {
     "name": "stdout",
     "output_type": "stream",
     "text": [
      "4.627323404707495\n"
     ]
    },
    {
     "name": "stderr",
     "output_type": "stream",
     "text": [
      "[I 2023-11-16 21:55:06,925] Trial 15 finished with value: 4.617422823184127 and parameters: {'n_estimators': 620, 'max_depth': 80, 'num_leaves': 30, 'learning_rate': 0.091}. Best is trial 7 with value: 4.594804058446865.\n"
     ]
    },
    {
     "name": "stdout",
     "output_type": "stream",
     "text": [
      "4.617422823184127\n"
     ]
    },
    {
     "name": "stderr",
     "output_type": "stream",
     "text": [
      "[I 2023-11-16 21:55:09,931] Trial 16 finished with value: 4.625864831400289 and parameters: {'n_estimators': 160, 'max_depth': 60, 'num_leaves': 85, 'learning_rate': 0.14100000000000001}. Best is trial 7 with value: 4.594804058446865.\n"
     ]
    },
    {
     "name": "stdout",
     "output_type": "stream",
     "text": [
      "4.625864831400289\n"
     ]
    },
    {
     "name": "stderr",
     "output_type": "stream",
     "text": [
      "[I 2023-11-16 21:55:30,824] Trial 17 finished with value: 5.600862242818568 and parameters: {'n_estimators': 930, 'max_depth': 35, 'num_leaves': 65, 'learning_rate': 0.001}. Best is trial 7 with value: 4.594804058446865.\n"
     ]
    },
    {
     "name": "stdout",
     "output_type": "stream",
     "text": [
      "5.600862242818568\n"
     ]
    },
    {
     "name": "stderr",
     "output_type": "stream",
     "text": [
      "[I 2023-11-16 21:55:34,645] Trial 18 finished with value: 4.595801997067865 and parameters: {'n_estimators': 300, 'max_depth': 85, 'num_leaves': 40, 'learning_rate': 0.051000000000000004}. Best is trial 7 with value: 4.594804058446865.\n"
     ]
    },
    {
     "name": "stdout",
     "output_type": "stream",
     "text": [
      "4.595801997067865\n"
     ]
    },
    {
     "name": "stderr",
     "output_type": "stream",
     "text": [
      "[I 2023-11-16 21:55:38,426] Trial 19 finished with value: 4.598428410543984 and parameters: {'n_estimators': 430, 'max_depth': 85, 'num_leaves': 20, 'learning_rate': 0.041}. Best is trial 7 with value: 4.594804058446865.\n"
     ]
    },
    {
     "name": "stdout",
     "output_type": "stream",
     "text": [
      "4.598428410543984\n"
     ]
    },
    {
     "name": "stderr",
     "output_type": "stream",
     "text": [
      "[I 2023-11-16 21:55:45,416] Trial 20 finished with value: 4.648652292396579 and parameters: {'n_estimators': 590, 'max_depth': 90, 'num_leaves': 45, 'learning_rate': 0.121}. Best is trial 7 with value: 4.594804058446865.\n"
     ]
    },
    {
     "name": "stdout",
     "output_type": "stream",
     "text": [
      "4.648652292396579\n"
     ]
    },
    {
     "name": "stderr",
     "output_type": "stream",
     "text": [
      "[I 2023-11-16 21:55:49,691] Trial 21 finished with value: 4.601912697901753 and parameters: {'n_estimators': 280, 'max_depth': 70, 'num_leaves': 55, 'learning_rate': 0.07100000000000001}. Best is trial 7 with value: 4.594804058446865.\n"
     ]
    },
    {
     "name": "stdout",
     "output_type": "stream",
     "text": [
      "4.601912697901753\n"
     ]
    },
    {
     "name": "stderr",
     "output_type": "stream",
     "text": [
      "[I 2023-11-16 21:55:51,497] Trial 22 finished with value: 4.602867119432786 and parameters: {'n_estimators': 100, 'max_depth': 45, 'num_leaves': 35, 'learning_rate': 0.051000000000000004}. Best is trial 7 with value: 4.594804058446865.\n"
     ]
    },
    {
     "name": "stdout",
     "output_type": "stream",
     "text": [
      "4.602867119432786\n"
     ]
    },
    {
     "name": "stderr",
     "output_type": "stream",
     "text": [
      "[I 2023-11-16 21:55:58,489] Trial 23 finished with value: 4.594391689445095 and parameters: {'n_estimators': 300, 'max_depth': 65, 'num_leaves': 65, 'learning_rate': 0.021}. Best is trial 23 with value: 4.594391689445095.\n"
     ]
    },
    {
     "name": "stdout",
     "output_type": "stream",
     "text": [
      "4.594391689445095\n"
     ]
    },
    {
     "name": "stderr",
     "output_type": "stream",
     "text": [
      "[I 2023-11-16 21:56:05,023] Trial 24 finished with value: 4.595199342652649 and parameters: {'n_estimators': 310, 'max_depth': 65, 'num_leaves': 55, 'learning_rate': 0.021}. Best is trial 23 with value: 4.594391689445095.\n"
     ]
    },
    {
     "name": "stdout",
     "output_type": "stream",
     "text": [
      "4.595199342652649\n"
     ]
    },
    {
     "name": "stderr",
     "output_type": "stream",
     "text": [
      "[I 2023-11-16 21:56:12,861] Trial 25 finished with value: 4.594325794992692 and parameters: {'n_estimators': 400, 'max_depth': 65, 'num_leaves': 75, 'learning_rate': 0.021}. Best is trial 25 with value: 4.594325794992692.\n"
     ]
    },
    {
     "name": "stdout",
     "output_type": "stream",
     "text": [
      "4.594325794992692\n"
     ]
    },
    {
     "name": "stderr",
     "output_type": "stream",
     "text": [
      "[I 2023-11-16 21:56:22,157] Trial 26 finished with value: 4.595047764722164 and parameters: {'n_estimators': 410, 'max_depth': 60, 'num_leaves': 85, 'learning_rate': 0.021}. Best is trial 25 with value: 4.594325794992692.\n"
     ]
    },
    {
     "name": "stdout",
     "output_type": "stream",
     "text": [
      "4.595047764722164\n"
     ]
    },
    {
     "name": "stderr",
     "output_type": "stream",
     "text": [
      "[I 2023-11-16 21:56:35,368] Trial 27 finished with value: 6.539697101328085 and parameters: {'n_estimators': 540, 'max_depth': 70, 'num_leaves': 75, 'learning_rate': 0.001}. Best is trial 25 with value: 4.594325794992692.\n"
     ]
    },
    {
     "name": "stdout",
     "output_type": "stream",
     "text": [
      "6.539697101328085\n"
     ]
    },
    {
     "name": "stderr",
     "output_type": "stream",
     "text": [
      "[I 2023-11-16 21:56:40,244] Trial 28 finished with value: 4.611942084821563 and parameters: {'n_estimators': 250, 'max_depth': 55, 'num_leaves': 90, 'learning_rate': 0.081}. Best is trial 25 with value: 4.594325794992692.\n"
     ]
    },
    {
     "name": "stdout",
     "output_type": "stream",
     "text": [
      "4.611942084821563\n"
     ]
    },
    {
     "name": "stderr",
     "output_type": "stream",
     "text": [
      "[I 2023-11-16 21:56:44,082] Trial 29 finished with value: 4.606722458495632 and parameters: {'n_estimators': 130, 'max_depth': 35, 'num_leaves': 105, 'learning_rate': 0.031}. Best is trial 25 with value: 4.594325794992692.\n"
     ]
    },
    {
     "name": "stdout",
     "output_type": "stream",
     "text": [
      "4.606722458495632\n"
     ]
    },
    {
     "name": "stderr",
     "output_type": "stream",
     "text": [
      "[I 2023-11-16 21:56:51,900] Trial 30 finished with value: 4.815926346673195 and parameters: {'n_estimators': 400, 'max_depth': 80, 'num_leaves': 95, 'learning_rate': 0.251}. Best is trial 25 with value: 4.594325794992692.\n"
     ]
    },
    {
     "name": "stdout",
     "output_type": "stream",
     "text": [
      "4.815926346673195\n"
     ]
    },
    {
     "name": "stderr",
     "output_type": "stream",
     "text": [
      "[I 2023-11-16 21:57:00,322] Trial 31 finished with value: 4.5978975702333 and parameters: {'n_estimators': 460, 'max_depth': 60, 'num_leaves': 75, 'learning_rate': 0.031}. Best is trial 25 with value: 4.594325794992692.\n"
     ]
    },
    {
     "name": "stdout",
     "output_type": "stream",
     "text": [
      "4.5978975702333\n"
     ]
    },
    {
     "name": "stderr",
     "output_type": "stream",
     "text": [
      "[I 2023-11-16 21:57:09,796] Trial 32 finished with value: 4.5938127900484975 and parameters: {'n_estimators': 390, 'max_depth': 65, 'num_leaves': 90, 'learning_rate': 0.021}. Best is trial 32 with value: 4.5938127900484975.\n"
     ]
    },
    {
     "name": "stdout",
     "output_type": "stream",
     "text": [
      "4.5938127900484975\n"
     ]
    },
    {
     "name": "stderr",
     "output_type": "stream",
     "text": [
      "[I 2023-11-16 21:57:21,166] Trial 33 finished with value: 7.159155460631391 and parameters: {'n_estimators': 370, 'max_depth': 70, 'num_leaves': 95, 'learning_rate': 0.001}. Best is trial 32 with value: 4.5938127900484975.\n"
     ]
    },
    {
     "name": "stdout",
     "output_type": "stream",
     "text": [
      "7.159155460631391\n"
     ]
    },
    {
     "name": "stderr",
     "output_type": "stream",
     "text": [
      "[I 2023-11-16 21:57:29,337] Trial 34 finished with value: 4.597322944885287 and parameters: {'n_estimators': 520, 'max_depth': 65, 'num_leaves': 60, 'learning_rate': 0.031}. Best is trial 32 with value: 4.5938127900484975.\n"
     ]
    },
    {
     "name": "stdout",
     "output_type": "stream",
     "text": [
      "4.597322944885287\n"
     ]
    },
    {
     "name": "stderr",
     "output_type": "stream",
     "text": [
      "[I 2023-11-16 21:57:34,945] Trial 35 finished with value: 4.600423358613003 and parameters: {'n_estimators': 340, 'max_depth': 50, 'num_leaves': 70, 'learning_rate': 0.051000000000000004}. Best is trial 32 with value: 4.5938127900484975.\n"
     ]
    },
    {
     "name": "stdout",
     "output_type": "stream",
     "text": [
      "4.600423358613003\n"
     ]
    },
    {
     "name": "stderr",
     "output_type": "stream",
     "text": [
      "[I 2023-11-16 21:57:40,192] Trial 36 finished with value: 4.60239103155831 and parameters: {'n_estimators': 210, 'max_depth': 75, 'num_leaves': 70, 'learning_rate': 0.021}. Best is trial 32 with value: 4.5938127900484975.\n"
     ]
    },
    {
     "name": "stdout",
     "output_type": "stream",
     "text": [
      "4.60239103155831\n"
     ]
    },
    {
     "name": "stderr",
     "output_type": "stream",
     "text": [
      "[I 2023-11-16 21:57:44,050] Trial 37 finished with value: 4.682524525049071 and parameters: {'n_estimators': 270, 'max_depth': 80, 'num_leaves': 60, 'learning_rate': 0.211}. Best is trial 32 with value: 4.5938127900484975.\n"
     ]
    },
    {
     "name": "stdout",
     "output_type": "stream",
     "text": [
      "4.682524525049071\n"
     ]
    },
    {
     "name": "stderr",
     "output_type": "stream",
     "text": [
      "[I 2023-11-16 21:57:57,740] Trial 38 finished with value: 4.596135151993241 and parameters: {'n_estimators': 460, 'max_depth': 20, 'num_leaves': 105, 'learning_rate': 0.011}. Best is trial 32 with value: 4.5938127900484975.\n"
     ]
    },
    {
     "name": "stdout",
     "output_type": "stream",
     "text": [
      "4.596135151993241\n"
     ]
    },
    {
     "name": "stderr",
     "output_type": "stream",
     "text": [
      "[I 2023-11-16 21:58:08,791] Trial 39 finished with value: 4.707830589459562 and parameters: {'n_estimators': 710, 'max_depth': 40, 'num_leaves': 80, 'learning_rate': 0.121}. Best is trial 32 with value: 4.5938127900484975.\n"
     ]
    },
    {
     "name": "stdout",
     "output_type": "stream",
     "text": [
      "4.707830589459562\n",
      "{'n_estimators': 390, 'max_depth': 65, 'num_leaves': 90, 'learning_rate': 0.021}\n",
      "[[3, 4.1938086515889275, {'n_estimators': 810, 'max_depth': 100, 'num_leaves': 80, 'learning_rate': 0.021}], [4, 4.565436711084175, {'n_estimators': 740, 'max_depth': 35, 'num_leaves': 105, 'learning_rate': 0.011}], [5, 4.596865396203876, {'n_estimators': 700, 'max_depth': 80, 'num_leaves': 60, 'learning_rate': 0.021}], [6, 4.481514242103017, {'n_estimators': 890, 'max_depth': 90, 'num_leaves': 40, 'learning_rate': 0.021}], [7, 4.431612906451489, {'n_estimators': 690, 'max_depth': 25, 'num_leaves': 55, 'learning_rate': 0.021}], [8, 4.47088375325455, {'n_estimators': 360, 'max_depth': 55, 'num_leaves': 85, 'learning_rate': 0.021}], [9, 4.5791997295517985, {'n_estimators': 230, 'max_depth': 80, 'num_leaves': 85, 'learning_rate': 0.031}], [10, 4.5938127900484975, {'n_estimators': 390, 'max_depth': 65, 'num_leaves': 90, 'learning_rate': 0.021}]]\n"
     ]
    }
   ],
   "source": [
    "df3 = df_train\n",
    "df3['calving_year_month'] = df3['calving_date'].dt.month\n",
    "df3['age_year_month'] = (df3['calving_date'].dt.to_period(\"M\").astype('int64') \n",
    "                         - df3['birth_date'].dt.to_period(\"M\").astype('int64'))\n",
    "df_pedigree = pd.read_csv(os.path.join(DIR_DF,FILE_PEDIGREE))\n",
    "df_pedigree.head()\n",
    "df3 = df3.join(df_pedigree.set_index('animal_id'), on='animal_id')\n",
    "\n",
    "ret = []\n",
    "for i in range(3,11):\n",
    "    columns_temp = ['lactation','farm','calving_year_month','age_year_month','milk_yield_1','milk_yield_2'\n",
    "                        ,'mother_id','father_id']\n",
    "    \n",
    "    df2_temp = df3[columns_temp]\n",
    "    df2_temp[f'milk_yield_{i}'] = df3[f'milk_yield_{i}']\n",
    "    df2_temp = df2_temp.dropna()\n",
    "    df2_temp = df2_temp.drop_duplicates()\n",
    "    df2_temp_mother = df2_temp[[f'milk_yield_{i}','mother_id']].groupby('mother_id').mean()\n",
    "    df2_temp = df2_temp.merge(df2_temp_mother, \n",
    "             on='mother_id', \n",
    "             suffixes=('', '_mother_mean'))\n",
    "    df2_temp_father = df2_temp[[f'milk_yield_{i}','father_id']].groupby('father_id').mean()\n",
    "    df2_temp = df2_temp.merge(df2_temp_father, \n",
    "             on='father_id', \n",
    "             suffixes=('', '_father_mean'))\n",
    "    \n",
    "    columns_features = ['lactation','farm','calving_year_month','age_year_month','milk_yield_1','milk_yield_2'\n",
    "                        ,f'milk_yield_{i}_father_mean',f'milk_yield_{i}_mother_mean']\n",
    "    features_train_valid = df2_temp[columns_features]\n",
    "    target_train_valid = df2_temp[f'milk_yield_{i}']\n",
    "\n",
    "    def obj(trial):\n",
    "        params = {'verbosity':-1\n",
    "                  ,'n_estimators':trial.suggest_int('n_estimators',50,1000,step=10)\n",
    "                 ,'max_depth':trial.suggest_int('max_depth',5,100,step=5)\n",
    "                  ,'num_leaves':trial.suggest_int('num_leaves',5,105,step=5)\n",
    "                  ,'learning_rate':trial.suggest_float('learning_rate',.001,.251,step=.01)\n",
    "                  ,'random_state':RANDOM_STATE\n",
    "                 }\n",
    "        model_lgm = LGBMRegressor(**params)\n",
    "        scores = cross_val_score(model_lgm,features_train_valid,target_train_valid,cv=4,scoring='neg_root_mean_squared_error')\n",
    "        final_score = abs(sum(scores)/len(scores))\n",
    "        print(final_score)\n",
    "\n",
    "        return final_score\n",
    "\n",
    "    study = optuna.create_study()\n",
    "    study.optimize(obj,n_trials=40)\n",
    "    print(study.best_params)\n",
    "    ret.append([i,study.best_value,study.best_params])\n",
    "    \n",
    "print(ret)"
   ]
  },
  {
   "cell_type": "code",
   "execution_count": 53,
   "id": "38d48136",
   "metadata": {
    "scrolled": true
   },
   "outputs": [
    {
     "data": {
      "text/html": [
       "<div>\n",
       "<style scoped>\n",
       "    .dataframe tbody tr th:only-of-type {\n",
       "        vertical-align: middle;\n",
       "    }\n",
       "\n",
       "    .dataframe tbody tr th {\n",
       "        vertical-align: top;\n",
       "    }\n",
       "\n",
       "    .dataframe thead th {\n",
       "        text-align: right;\n",
       "    }\n",
       "</style>\n",
       "<table border=\"1\" class=\"dataframe\">\n",
       "  <thead>\n",
       "    <tr style=\"text-align: right;\">\n",
       "      <th></th>\n",
       "      <th>animal_id</th>\n",
       "      <th>lactation</th>\n",
       "      <th>calving_date</th>\n",
       "      <th>farm</th>\n",
       "      <th>farmgroup</th>\n",
       "      <th>birth_date</th>\n",
       "      <th>milk_yield_1</th>\n",
       "      <th>milk_yield_2</th>\n",
       "      <th>milk_yield_3</th>\n",
       "      <th>milk_yield_4</th>\n",
       "      <th>milk_yield_5</th>\n",
       "      <th>milk_yield_6</th>\n",
       "      <th>milk_yield_7</th>\n",
       "      <th>milk_yield_8</th>\n",
       "      <th>milk_yield_9</th>\n",
       "      <th>milk_yield_10</th>\n",
       "      <th>calving_year_month</th>\n",
       "      <th>age_year_month</th>\n",
       "      <th>mother_id</th>\n",
       "      <th>father_id</th>\n",
       "    </tr>\n",
       "  </thead>\n",
       "  <tbody>\n",
       "    <tr>\n",
       "      <th>0</th>\n",
       "      <td>ID_0000732131</td>\n",
       "      <td>1</td>\n",
       "      <td>2018-11-11</td>\n",
       "      <td>2104</td>\n",
       "      <td>4463</td>\n",
       "      <td>2016-10-02</td>\n",
       "      <td>19.2</td>\n",
       "      <td>21.4</td>\n",
       "      <td>NaN</td>\n",
       "      <td>30.7</td>\n",
       "      <td>28.6</td>\n",
       "      <td>28.1</td>\n",
       "      <td>NaN</td>\n",
       "      <td>31.1</td>\n",
       "      <td>25.5</td>\n",
       "      <td>26.1</td>\n",
       "      <td>11</td>\n",
       "      <td>25</td>\n",
       "      <td>ID_0000741349</td>\n",
       "      <td>ID_0000747757</td>\n",
       "    </tr>\n",
       "    <tr>\n",
       "      <th>1</th>\n",
       "      <td>ID_0000732194</td>\n",
       "      <td>1</td>\n",
       "      <td>2013-05-01</td>\n",
       "      <td>2104</td>\n",
       "      <td>4463</td>\n",
       "      <td>2011-05-19</td>\n",
       "      <td>16.7</td>\n",
       "      <td>15.9</td>\n",
       "      <td>14.4</td>\n",
       "      <td>20.4</td>\n",
       "      <td>14.3</td>\n",
       "      <td>23.2</td>\n",
       "      <td>21.0</td>\n",
       "      <td>22.0</td>\n",
       "      <td>23.3</td>\n",
       "      <td>22.5</td>\n",
       "      <td>5</td>\n",
       "      <td>24</td>\n",
       "      <td>ID_0000742916</td>\n",
       "      <td>ID_0000743194</td>\n",
       "    </tr>\n",
       "    <tr>\n",
       "      <th>2</th>\n",
       "      <td>ID_0000732195</td>\n",
       "      <td>1</td>\n",
       "      <td>2013-05-17</td>\n",
       "      <td>2104</td>\n",
       "      <td>4463</td>\n",
       "      <td>2011-06-01</td>\n",
       "      <td>15.8</td>\n",
       "      <td>14.4</td>\n",
       "      <td>19.3</td>\n",
       "      <td>23.1</td>\n",
       "      <td>31.8</td>\n",
       "      <td>24.7</td>\n",
       "      <td>30.9</td>\n",
       "      <td>32.3</td>\n",
       "      <td>32.7</td>\n",
       "      <td>33.1</td>\n",
       "      <td>5</td>\n",
       "      <td>23</td>\n",
       "      <td>ID_0000740204</td>\n",
       "      <td>ID_0000742534</td>\n",
       "    </tr>\n",
       "    <tr>\n",
       "      <th>3</th>\n",
       "      <td>ID_0000732195</td>\n",
       "      <td>2</td>\n",
       "      <td>2014-06-16</td>\n",
       "      <td>2104</td>\n",
       "      <td>4463</td>\n",
       "      <td>2011-06-01</td>\n",
       "      <td>43.7</td>\n",
       "      <td>39.9</td>\n",
       "      <td>39.2</td>\n",
       "      <td>33.2</td>\n",
       "      <td>40.3</td>\n",
       "      <td>44.8</td>\n",
       "      <td>39.3</td>\n",
       "      <td>40.1</td>\n",
       "      <td>40.5</td>\n",
       "      <td>37.7</td>\n",
       "      <td>6</td>\n",
       "      <td>36</td>\n",
       "      <td>ID_0000740204</td>\n",
       "      <td>ID_0000742534</td>\n",
       "    </tr>\n",
       "    <tr>\n",
       "      <th>4</th>\n",
       "      <td>ID_0000732338</td>\n",
       "      <td>1</td>\n",
       "      <td>2013-05-18</td>\n",
       "      <td>2104</td>\n",
       "      <td>4463</td>\n",
       "      <td>2011-07-11</td>\n",
       "      <td>13.8</td>\n",
       "      <td>13.2</td>\n",
       "      <td>29.9</td>\n",
       "      <td>26.4</td>\n",
       "      <td>31.3</td>\n",
       "      <td>17.6</td>\n",
       "      <td>25.8</td>\n",
       "      <td>25.6</td>\n",
       "      <td>24.5</td>\n",
       "      <td>19.8</td>\n",
       "      <td>5</td>\n",
       "      <td>22</td>\n",
       "      <td>ID_0000743339</td>\n",
       "      <td>ID_0000743366</td>\n",
       "    </tr>\n",
       "  </tbody>\n",
       "</table>\n",
       "</div>"
      ],
      "text/plain": [
       "       animal_id  lactation calving_date  farm  farmgroup birth_date  \\\n",
       "0  ID_0000732131          1   2018-11-11  2104       4463 2016-10-02   \n",
       "1  ID_0000732194          1   2013-05-01  2104       4463 2011-05-19   \n",
       "2  ID_0000732195          1   2013-05-17  2104       4463 2011-06-01   \n",
       "3  ID_0000732195          2   2014-06-16  2104       4463 2011-06-01   \n",
       "4  ID_0000732338          1   2013-05-18  2104       4463 2011-07-11   \n",
       "\n",
       "   milk_yield_1  milk_yield_2  milk_yield_3  milk_yield_4  milk_yield_5  \\\n",
       "0          19.2          21.4           NaN          30.7          28.6   \n",
       "1          16.7          15.9          14.4          20.4          14.3   \n",
       "2          15.8          14.4          19.3          23.1          31.8   \n",
       "3          43.7          39.9          39.2          33.2          40.3   \n",
       "4          13.8          13.2          29.9          26.4          31.3   \n",
       "\n",
       "   milk_yield_6  milk_yield_7  milk_yield_8  milk_yield_9  milk_yield_10  \\\n",
       "0          28.1           NaN          31.1          25.5           26.1   \n",
       "1          23.2          21.0          22.0          23.3           22.5   \n",
       "2          24.7          30.9          32.3          32.7           33.1   \n",
       "3          44.8          39.3          40.1          40.5           37.7   \n",
       "4          17.6          25.8          25.6          24.5           19.8   \n",
       "\n",
       "   calving_year_month  age_year_month      mother_id      father_id  \n",
       "0                  11              25  ID_0000741349  ID_0000747757  \n",
       "1                   5              24  ID_0000742916  ID_0000743194  \n",
       "2                   5              23  ID_0000740204  ID_0000742534  \n",
       "3                   6              36  ID_0000740204  ID_0000742534  \n",
       "4                   5              22  ID_0000743339  ID_0000743366  "
      ]
     },
     "execution_count": 53,
     "metadata": {},
     "output_type": "execute_result"
    }
   ],
   "source": [
    "\n",
    "df3.head()"
   ]
  },
  {
   "cell_type": "markdown",
   "id": "beb126a0",
   "metadata": {},
   "source": [
    "[[3, 4.1938086515889275, {'n_estimators': 810, 'max_depth': 100, 'num_leaves': 80, 'learning_rate': 0.021}], [4, 4.565436711084175, {'n_estimators': 740, 'max_depth': 35, 'num_leaves': 105, 'learning_rate': 0.011}], [5, 4.596865396203876, {'n_estimators': 700, 'max_depth': 80, 'num_leaves': 60, 'learning_rate': 0.021}], [6, 4.481514242103017, {'n_estimators': 890, 'max_depth': 90, 'num_leaves': 40, 'learning_rate': 0.021}], [7, 4.431612906451489, {'n_estimators': 690, 'max_depth': 25, 'num_leaves': 55, 'learning_rate': 0.021}], [8, 4.47088375325455, {'n_estimators': 360, 'max_depth': 55, 'num_leaves': 85, 'learning_rate': 0.021}], [9, 4.5791997295517985, {'n_estimators': 230, 'max_depth': 80, 'num_leaves': 85, 'learning_rate': 0.031}], [10, 4.5938127900484975, {'n_estimators': 390, 'max_depth': 65, 'num_leaves': 90, 'learning_rate': 0.021}]]"
   ]
  },
  {
   "cell_type": "markdown",
   "id": "104fa71f",
   "metadata": {},
   "source": [
    "Лучший показатель для третьего месяца лактации rmse= 4.194, худший для 5го rmse=  4.597.  \n",
    "Значение метрики получилось более равномерным.    \n",
    "\n",
    "Итоговый результат на private данных -не проводилось(конкурс закончился).  "
   ]
  },
  {
   "cell_type": "markdown",
   "id": "17268fd0",
   "metadata": {},
   "source": [
    "[Содержание](#Содержание) "
   ]
  },
  {
   "cell_type": "markdown",
   "id": "d7b07f1b",
   "metadata": {},
   "source": [
    "<a name=\"медианная\"></a>\n",
    "### 3.3. Модель предсказания - медианная(только тестовые данные). "
   ]
  },
  {
   "cell_type": "markdown",
   "id": "d939ce4a",
   "metadata": {},
   "source": [
    "Модель использующая в качестве предсказания-медианные зачения.  \n",
    "Показано приерная реализация функция fit() и predict().  "
   ]
  },
  {
   "cell_type": "code",
   "execution_count": 18,
   "id": "a74a8e97",
   "metadata": {
    "scrolled": true
   },
   "outputs": [
    {
     "name": "stdout",
     "output_type": "stream",
     "text": [
      "Вычисление медианных значений для каждого временного ряда в выборке\n"
     ]
    },
    {
     "name": "stderr",
     "output_type": "stream",
     "text": [
      "100%|██████████| 23047/23047 [06:47<00:00, 56.60it/s]\n"
     ]
    },
    {
     "data": {
      "text/plain": [
       "8.663165877669847"
      ]
     },
     "execution_count": 18,
     "metadata": {},
     "output_type": "execute_result"
    }
   ],
   "source": [
    "MODEL_MEDIAN_TEST = 'model-baseline_median_test.json'\n",
    "def get_animals_milk_yield_median(animal_id: str, train_df: pd.DataFrame, test_df: pd.DataFrame) -> float:\n",
    "    \"\"\"\n",
    "    Получить медианное значение по всем контрольным дойкам животного\n",
    "\n",
    "    @param animal_id: идентификатор животного\n",
    "    @param train_df: обучающая выборка\n",
    "    @param test_df: тестовая выборка\n",
    "\n",
    "    @returns: медианное значение всех контрольных доек животного\n",
    "    \"\"\"\n",
    "\n",
    "    milk_yield_values = []\n",
    "\n",
    "    # Собрать 10 известных значений контрольных доек из обучающей выборки\n",
    "    df_train = train_df[train_df['animal_id'] == animal_id]\n",
    "    for index, row in df_train.iterrows():\n",
    "        for i in range(1, 11):\n",
    "            milk_yield_values.append(row[f'milk_yield_{i}'])\n",
    "\n",
    "    # Собрать 2 известных значения контрольных доек из тестовой выборки\n",
    "    df_test = test_df[test_df['animal_id'] == animal_id]\n",
    "    for index, row in df_test.iterrows():\n",
    "        for i in range(1, 3):\n",
    "            milk_yield_values.append(row[f'milk_yield_{i}'])\n",
    "\n",
    "    median = float(np.nanmedian(milk_yield_values))\n",
    "    return median\n",
    "\n",
    "\n",
    "def fit(train_dataset,test_dataset) -> Any:\n",
    "    \"\"\"\n",
    "    Обучить модель прогнозирования\n",
    "    @return: Обученная модель прогнозирования\n",
    "    \"\"\"\n",
    "    if os.path.exists(MODEL_MEDIAN_TEST):\n",
    "        with open(MODEL_MEDIAN_TEST, 'r') as f:\n",
    "            return json.load(f)\n",
    "\n",
    "    # Получить медианные значения контрольных удоев по каждому животному из тестовой выборки\n",
    "    print('Вычисление медианных значений для каждого временного ряда в выборке')\n",
    "    medians_of_animals = {\n",
    "        animal_id: get_animals_milk_yield_median(animal_id, train_dataset, test_dataset)\n",
    "        for animal_id in tqdm.tqdm(list(sorted(set(test_dataset['animal_id']))))\n",
    "    }\n",
    "\n",
    "    with open(MODEL_MEDIAN_TEST, 'w') as f:\n",
    "        json.dump(medians_of_animals, f)\n",
    "\n",
    "    return medians_of_animals\n",
    "\n",
    "\n",
    "def predict(model: Any, test_dataset) -> pd.DataFrame:\n",
    "    \"\"\"\n",
    "    Построить прогноз с помощью модели прогнозирования для датасета, заданного по имени файла\n",
    "\n",
    "    @param model: Обученная ранее модель прогнозирования\n",
    "    @param test_dataset_path: Путь к тестовому датасету\n",
    "    @return: Датафрейм с построенным прогнозом, заданного формата\n",
    "    \"\"\"\n",
    "\n",
    "    submission = pd.DataFrame(test_dataset[['animal_id', 'lactation']])\n",
    "\n",
    "    def get_predict_value(row):\n",
    "        value = model.get(row['animal_id'], None)\n",
    "        if value is not None and not np.isnan(value):\n",
    "            return value\n",
    "\n",
    "        return np.nanmedian([row['milk_yield_1'], row['milk_yield_2']])\n",
    "\n",
    "    submission['milk_yield_3'] = test_dataset.apply(get_predict_value, axis=1)\n",
    "    submission['milk_yield_4'] = submission['milk_yield_3']\n",
    "    submission['milk_yield_5'] = submission['milk_yield_3']\n",
    "    submission['milk_yield_6'] = submission['milk_yield_3']\n",
    "    submission['milk_yield_7'] = submission['milk_yield_3']\n",
    "    submission['milk_yield_8'] = submission['milk_yield_3']\n",
    "    submission['milk_yield_9'] = submission['milk_yield_3']\n",
    "    submission['milk_yield_10'] = submission['milk_yield_3']\n",
    "    return submission\n",
    "\n",
    "dataset = pd.read_csv(os.path.join(DIR_DF,FILE_TRAIN))\n",
    "dataset = dataset.dropna()\n",
    "dataset_train,dataset_test = train_test_split(dataset\n",
    "                            ,random_state=RANDOM_STATE\n",
    "                            ,test_size=TEST_SIZE)\n",
    "_model = fit(dataset_train,dataset_test)\n",
    "\n",
    "_submission = predict(_model, dataset_test )\n",
    "_submission.head()\n",
    "#_submission.to_csv(os.path.join('data', 'submission.csv'), sep=',', index=False)\n",
    "columns_predict = [f'milk_yield_{x}' for x in range(3,11)]\n",
    "mean_squared_error(_submission[columns_predict],dataset_test[columns_predict],squared=False)"
   ]
  },
  {
   "cell_type": "markdown",
   "id": "136cb1d8",
   "metadata": {},
   "source": [
    "Результат для медианной модели rmse=8.663.  "
   ]
  },
  {
   "cell_type": "markdown",
   "id": "94523ab4",
   "metadata": {},
   "source": [
    "[Содержание](#Содержание)"
   ]
  }
 ],
 "metadata": {
  "kernelspec": {
   "display_name": "Python 3 (ipykernel)",
   "language": "python",
   "name": "python3"
  },
  "language_info": {
   "codemirror_mode": {
    "name": "ipython",
    "version": 3
   },
   "file_extension": ".py",
   "mimetype": "text/x-python",
   "name": "python",
   "nbconvert_exporter": "python",
   "pygments_lexer": "ipython3",
   "version": "3.10.13"
  }
 },
 "nbformat": 4,
 "nbformat_minor": 5
}
